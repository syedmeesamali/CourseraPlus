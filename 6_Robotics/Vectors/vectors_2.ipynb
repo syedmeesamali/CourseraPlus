{
 "cells": [
  {
   "cell_type": "markdown",
   "metadata": {},
   "source": [
    "## Vectors in Python"
   ]
  },
  {
   "cell_type": "code",
   "execution_count": 1,
   "metadata": {},
   "outputs": [],
   "source": [
    "import numpy as np\n",
    "from math import acos\n",
    "\n",
    "A = np.array([1, 2, 3])\n",
    "B = np.array([4, 5, 6])"
   ]
  },
  {
   "cell_type": "code",
   "execution_count": 2,
   "metadata": {},
   "outputs": [
    {
     "name": "stdout",
     "output_type": "stream",
     "text": [
      "3.7416573867739413\n",
      "8.774964387392123\n"
     ]
    }
   ],
   "source": [
    "Amag = np.sqrt(A.dot(A))\n",
    "Bmag = np.sqrt(B.dot(B))\n",
    "print(Amag)\n",
    "print(Bmag)"
   ]
  },
  {
   "cell_type": "code",
   "execution_count": 3,
   "metadata": {},
   "outputs": [
    {
     "name": "stdout",
     "output_type": "stream",
     "text": [
      "0.2257261285527342\n"
     ]
    }
   ],
   "source": [
    "# Angle theta\n",
    "theta = acos(A.dot(B) / (Amag * Bmag))\n",
    "print(theta)"
   ]
  },
  {
   "cell_type": "code",
   "execution_count": 4,
   "metadata": {},
   "outputs": [],
   "source": [
    "import matplotlib.pyplot as plt"
   ]
  },
  {
   "cell_type": "code",
   "execution_count": 5,
   "metadata": {},
   "outputs": [],
   "source": [
    "def plot_vectors(vec1, vec2, isSum = False):\n",
    "    label1 = \"A\"\n",
    "    label2 = \"B\"\n",
    "    label3 = \"A + B\"\n",
    "    orig = [0.0, 0.0]   #Origin of axes\n",
    "    ax = plt.axes()\n",
    "    ax.annotate(label1, [vec1[0] + 0.5, vec1[1] + 0.5])\n",
    "    ax.annotate(label2, [vec2[0] + 0.5, vec2[1] + 0.5])\n",
    "    if isSum:\n",
    "        vec3 = [vec1[0] + vec2[0], vec1[1] + vec2[1]]\n",
    "        ax.annotate(label3, [vec3[0] + 0.5, vec3[1] + 0.5])\n",
    "    \n",
    "    ax.arrow(*orig, *vec1, head_width = 0.4, head_length = 0.65)\n",
    "    ax.arrow(*orig, *vec2, head_width = 0.4, head_length = 0.65, ec = 'blue')\n",
    "    if isSum:\n",
    "        ax.arrow(*orig, *vec3, head_width = 0.2, head_length = 0.25, ec = 'yellow')\n",
    "    plt.grid()\n",
    "    e = 3\n",
    "    plt.xlim(min(vec1[0], vec2[0], 0) - e, max(vec1[0], vec2[0], 0 ) + e)\n",
    "    plt.ylim(min(vec1[1], vec2[1], 0) - e, max(vec1[1], vec2[1], 0 ) + e)\n",
    "    plt.title('Vector sum', fontsize = 14)\n",
    "    plt.show()\n",
    "    plt.close()\n"
   ]
  },
  {
   "cell_type": "code",
   "execution_count": 6,
   "metadata": {},
   "outputs": [],
   "source": [
    "def find_angle(vec1, vec2, isRadians = True, isSum = False):\n",
    "    vec1 = np.array(vec1)\n",
    "    vec2 = np.array(vec2)\n",
    "    prod12 = np.dot(vec1, vec2)\n",
    "    cos_theta = prod12 / ( np.power(np.dot(vec1, vec1), 0.5) * np.power(np.dot(vec2, vec2), 0.5))\n",
    "    cos_theta = round(cos_theta, 12)\n",
    "    theta = np.arccos(cos_theta)\n",
    "    plot_vectors(vec1, vec2, isSum=isSum)\n",
    "    if isRadians:\n",
    "        return theta\n",
    "    else:\n",
    "        return (180 * theta) / (np.pi)"
   ]
  },
  {
   "cell_type": "code",
   "execution_count": 7,
   "metadata": {},
   "outputs": [
    {
     "data": {
      "image/png": "[encoded data removed]",
      "text/plain": [
       "<Figure size 432x288 with 1 Axes>"
      ]
     },
     "metadata": {
      "needs_background": "light"
     },
     "output_type": "display_data"
    },
    {
     "data": {
      "text/plain": [
       "90.0"
      ]
     },
     "execution_count": 7,
     "metadata": {},
     "output_type": "execute_result"
    }
   ],
   "source": [
    "v1 = [1, 5]\n",
    "v2 = [5, -1]\n",
    "find_angle(v1, v2, isRadians=False, isSum=True)"
   ]
  },
  {
   "cell_type": "code",
   "execution_count": null,
   "metadata": {},
   "outputs": [],
   "source": []
  }
 ],
 "metadata": {
  "kernelspec": {
   "display_name": "Python 3.8.6 64-bit",
   "language": "python",
   "name": "python3"
  },
  "language_info": {
   "codemirror_mode": {
    "name": "ipython",
    "version": 3
   },
   "file_extension": ".py",
   "mimetype": "text/x-python",
   "name": "python",
   "nbconvert_exporter": "python",
   "pygments_lexer": "ipython3",
   "version": "3.8.6"
  },
  "orig_nbformat": 4,
  "vscode": {
   "interpreter": {
    "hash": "570feb405e2e27c949193ac68f46852414290d515b0ba6e5d90d076ed2284471"
   }
  }
 },
 "nbformat": 4,
 "nbformat_minor": 2
}
