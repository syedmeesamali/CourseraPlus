{
 "cells": [
  {
   "cell_type": "code",
   "execution_count": null,
   "metadata": {},
   "outputs": [],
   "source": [
    "import requests\n",
    "import base64\n",
    "import json\n",
    "import os\n",
    "import io"
   ]
  },
  {
   "cell_type": "code",
   "execution_count": null,
   "metadata": {},
   "outputs": [],
   "source": [
    "def get_image_objects(image_path):\n",
    "    # Define the API endpoint\n",
    "    api_url = \"https://vision.googleapis.com/v1/images:annotate\"\n",
    "    \n",
    "    # Load the image\n",
    "    with open(image_path, \"rb\") as image_file:\n",
    "        encoded_image = base64.b64encode(image_file.read()).decode(\"utf-8\")\n",
    "\n",
    "    # Define the request body\n",
    "    request_body = {\n",
    "        \"requests\": [\n",
    "            {   \"image\": { \"content\": encoded_image},\n",
    "                \"features\": [{\n",
    "                            \"maxResults\": 10,\n",
    "                            \"type\": \"OBJECT_LOCALIZATION\"  }]\n",
    "            }]}\n",
    "        # Define the API key\n",
    "    api_key = \"\"\n",
    "    # Make the API request\n",
    "    response = requests.post(api_url,\n",
    "                             headers={\"Content-Type\": \"application/json\",\n",
    "                                      \"Authorization\": \"Bearer \" + api_key},\n",
    "                             data=json.dumps(request_body))\n",
    "    # Parse the response\n",
    "    response_json = response.json()\n",
    "    objects = response_json[\"response\"][0][\"localizedObjectAnnotations\"]\n",
    "    return objects"
   ]
  },
  {
   "cell_type": "code",
   "execution_count": null,
   "metadata": {},
   "outputs": [],
   "source": [
    "def save_objects_as_images(image_path, objects):\n",
    "    # Load the image\n",
    "    from PIL import Image\n",
    "    original_image = Image.open(image_path)\n",
    "\n",
    "    for i, obj in enumerate(objects):\n",
    "        # Get the bounding box coordinates\n",
    "        x = obj[\"boundingPoly\"][\"normalizedVertices\"][0][\"x\"] * original_image.width\n",
    "        y = obj[\"boundingPoly\"][\"normalizedVertices\"][0][\"y\"] * original_image.height\n",
    "        x2 = obj[\"boundingPoly\"][\"normalizedVertices\"][2][\"x\"] * original_image.width\n",
    "        y2 = obj[\"boundingPoly\"][\"normalizedVertices\"][2][\"y\"] * original_image.height\n",
    "\n",
    "        # Crop the object from the image\n",
    "        obj_image = original_image.crop((x, y, x2, y2))\n",
    "\n",
    "        # Save the object as an image\n",
    "        obj_image.save(\"object_{}.jpg\".format(i))"
   ]
  },
  {
   "cell_type": "code",
   "execution_count": null,
   "metadata": {},
   "outputs": [],
   "source": [
    "if __name__ == \"__main__\":\n",
    "    image_path = os.path.abspath('./image01.png')\n",
    "    #image_path = os.path.abspath('./image02.png')\n",
    "    objects = get_image_objects(image_path)\n",
    "    save_objects_as_images(image_path, objects)"
   ]
  }
 ],
 "metadata": {
  "kernelspec": {
   "display_name": "Python 3",
   "language": "python",
   "name": "python3"
  },
  "language_info": {
   "codemirror_mode": {
    "name": "ipython",
    "version": 3
   },
   "file_extension": ".py",
   "mimetype": "text/x-python",
   "name": "python",
   "nbconvert_exporter": "python",
   "pygments_lexer": "ipython3",
   "version": "3.10.10"
  },
  "orig_nbformat": 4,
  "vscode": {
   "interpreter": {
    "hash": "7240ea951ceaba11e29eac9de981dee739bdf7955bec6037107e9ed0cae0a328"
   }
  }
 },
 "nbformat": 4,
 "nbformat_minor": 2
}
