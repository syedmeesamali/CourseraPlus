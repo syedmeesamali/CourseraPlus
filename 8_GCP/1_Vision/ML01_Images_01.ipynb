{
 "cells": [
  {
   "cell_type": "code",
   "execution_count": 1,
   "metadata": {},
   "outputs": [],
   "source": [
    "import requests\n",
    "import base64\n",
    "import json\n",
    "import os\n",
    "import io"
   ]
  },
  {
   "cell_type": "code",
   "execution_count": 9,
   "metadata": {},
   "outputs": [],
   "source": [
    "def get_image_objects(image_path):\n",
    "    # Define the API endpoint\n",
    "    api_url = \"https://vision.googleapis.com/v1/images:annotate\"\n",
    "    \n",
    "    # Load the image\n",
    "    with open(image_path, \"rb\") as image_file:\n",
    "        encoded_image = base64.b64encode(image_file.read()).decode(\"utf-8\")\n",
    "\n",
    "    # Define the request body\n",
    "    request_body = {\n",
    "        \"requests\": [\n",
    "            {\n",
    "                \"image\": {                    \"content\": encoded_image                },\n",
    "                \"features\": [\n",
    "                    {\n",
    "                        \"type\": \"OBJECT_LOCALIZATION\",\n",
    "                        \"maxResults\": 10         } ]\n",
    "            }]}\n",
    "        # Define the API key\n",
    "    api_key = \"\"\n",
    "\n",
    "    # Make the API request\n",
    "    response = requests.post(api_url,\n",
    "                             headers={\"Content-Type\": \"application/json\",\n",
    "                                      \"Authorization\": \"Bearer \" + api_key},\n",
    "                             data=json.dumps(request_body))\n",
    "    # Parse the response\n",
    "    response_json = response.json()\n",
    "    objects = response_json[\"response\"][0][\"localizedObjectAnnotations\"]\n",
    "    return objects"
   ]
  },
  {
   "cell_type": "code",
   "execution_count": 7,
   "metadata": {},
   "outputs": [],
   "source": [
    "def save_objects_as_images(image_path, objects):\n",
    "    # Load the image\n",
    "    from PIL import Image\n",
    "    original_image = Image.open(image_path)\n",
    "\n",
    "    for i, obj in enumerate(objects):\n",
    "        # Get the bounding box coordinates\n",
    "        x = obj[\"boundingPoly\"][\"normalizedVertices\"][0][\"x\"] * original_image.width\n",
    "        y = obj[\"boundingPoly\"][\"normalizedVertices\"][0][\"y\"] * original_image.height\n",
    "        x2 = obj[\"boundingPoly\"][\"normalizedVertices\"][2][\"x\"] * original_image.width\n",
    "        y2 = obj[\"boundingPoly\"][\"normalizedVertices\"][2][\"y\"] * original_image.height\n",
    "\n",
    "        # Crop the object from the image\n",
    "        obj_image = original_image.crop((x, y, x2, y2))\n",
    "\n",
    "        # Save the object as an image\n",
    "        obj_image.save(\"object_{}.jpg\".format(i))"
   ]
  },
  {
   "cell_type": "code",
   "execution_count": 10,
   "metadata": {},
   "outputs": [
    {
     "ename": "KeyError",
     "evalue": "'response'",
     "output_type": "error",
     "traceback": [
      "\u001b[1;31m---------------------------------------------------------------------------\u001b[0m",
      "\u001b[1;31mKeyError\u001b[0m                                  Traceback (most recent call last)",
      "\u001b[1;32m<ipython-input-10-3248cb369854>\u001b[0m in \u001b[0;36m<module>\u001b[1;34m\u001b[0m\n\u001b[0;32m      2\u001b[0m     \u001b[0mimage_path\u001b[0m \u001b[1;33m=\u001b[0m \u001b[0mos\u001b[0m\u001b[1;33m.\u001b[0m\u001b[0mpath\u001b[0m\u001b[1;33m.\u001b[0m\u001b[0mabspath\u001b[0m\u001b[1;33m(\u001b[0m\u001b[1;34m'./image01.png'\u001b[0m\u001b[1;33m)\u001b[0m\u001b[1;33m\u001b[0m\u001b[1;33m\u001b[0m\u001b[0m\n\u001b[0;32m      3\u001b[0m     \u001b[1;31m#image_path = os.path.abspath('./image02.png')\u001b[0m\u001b[1;33m\u001b[0m\u001b[1;33m\u001b[0m\u001b[1;33m\u001b[0m\u001b[0m\n\u001b[1;32m----> 4\u001b[1;33m     \u001b[0mobjects\u001b[0m \u001b[1;33m=\u001b[0m \u001b[0mget_image_objects\u001b[0m\u001b[1;33m(\u001b[0m\u001b[0mimage_path\u001b[0m\u001b[1;33m)\u001b[0m\u001b[1;33m\u001b[0m\u001b[1;33m\u001b[0m\u001b[0m\n\u001b[0m\u001b[0;32m      5\u001b[0m     \u001b[0msave_objects_as_images\u001b[0m\u001b[1;33m(\u001b[0m\u001b[0mimage_path\u001b[0m\u001b[1;33m,\u001b[0m \u001b[0mobjects\u001b[0m\u001b[1;33m)\u001b[0m\u001b[1;33m\u001b[0m\u001b[1;33m\u001b[0m\u001b[0m\n",
      "\u001b[1;32m<ipython-input-9-ced6bc7ef382>\u001b[0m in \u001b[0;36mget_image_objects\u001b[1;34m(image_path)\u001b[0m\n\u001b[0;32m     27\u001b[0m     \u001b[1;31m# Parse the response\u001b[0m\u001b[1;33m\u001b[0m\u001b[1;33m\u001b[0m\u001b[1;33m\u001b[0m\u001b[0m\n\u001b[0;32m     28\u001b[0m     \u001b[0mresponse_json\u001b[0m \u001b[1;33m=\u001b[0m \u001b[0mresponse\u001b[0m\u001b[1;33m.\u001b[0m\u001b[0mjson\u001b[0m\u001b[1;33m(\u001b[0m\u001b[1;33m)\u001b[0m\u001b[1;33m\u001b[0m\u001b[1;33m\u001b[0m\u001b[0m\n\u001b[1;32m---> 29\u001b[1;33m     \u001b[0mobjects\u001b[0m \u001b[1;33m=\u001b[0m \u001b[0mresponse_json\u001b[0m\u001b[1;33m[\u001b[0m\u001b[1;34m\"response\"\u001b[0m\u001b[1;33m]\u001b[0m\u001b[1;33m[\u001b[0m\u001b[1;36m0\u001b[0m\u001b[1;33m]\u001b[0m\u001b[1;33m[\u001b[0m\u001b[1;34m\"localizedObjectAnnotations\"\u001b[0m\u001b[1;33m]\u001b[0m\u001b[1;33m\u001b[0m\u001b[1;33m\u001b[0m\u001b[0m\n\u001b[0m\u001b[0;32m     30\u001b[0m     \u001b[1;32mreturn\u001b[0m \u001b[0mobjects\u001b[0m\u001b[1;33m\u001b[0m\u001b[1;33m\u001b[0m\u001b[0m\n",
      "\u001b[1;31mKeyError\u001b[0m: 'response'"
     ]
    }
   ],
   "source": [
    "if __name__ == \"__main__\":\n",
    "    image_path = os.path.abspath('./image01.png')\n",
    "    #image_path = os.path.abspath('./image02.png')\n",
    "    objects = get_image_objects(image_path)\n",
    "    save_objects_as_images(image_path, objects)"
   ]
  }
 ],
 "metadata": {
  "kernelspec": {
   "display_name": "Python 3",
   "language": "python",
   "name": "python3"
  },
  "language_info": {
   "codemirror_mode": {
    "name": "ipython",
    "version": 3
   },
   "file_extension": ".py",
   "mimetype": "text/x-python",
   "name": "python",
   "nbconvert_exporter": "python",
   "pygments_lexer": "ipython3",
   "version": "3.8.6"
  },
  "orig_nbformat": 4,
  "vscode": {
   "interpreter": {
    "hash": "570feb405e2e27c949193ac68f46852414290d515b0ba6e5d90d076ed2284471"
   }
  }
 },
 "nbformat": 4,
 "nbformat_minor": 2
}
