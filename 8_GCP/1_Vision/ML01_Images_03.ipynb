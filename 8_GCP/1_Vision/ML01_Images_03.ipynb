{
 "cells": [
  {
   "cell_type": "code",
   "execution_count": 1,
   "metadata": {},
   "outputs": [],
   "source": [
    "import os\n",
    "import io\n",
    "#Cred key\n",
    "os.environ['GOOGLE_APPLICATION_CREDENTIALS'] = '../1_Vision/Keys/glossy-radio-377415-d797ca03c624.json'"
   ]
  },
  {
   "cell_type": "code",
   "execution_count": 5,
   "metadata": {},
   "outputs": [],
   "source": [
    "image_path = os.path.abspath('./image02.jpg')"
   ]
  },
  {
   "cell_type": "code",
   "execution_count": 6,
   "metadata": {},
   "outputs": [],
   "source": [
    "def localize_objects(path):\n",
    "    from google.cloud import vision\n",
    "    client = vision.ImageAnnotatorClient()\n",
    "    \n",
    "    #open local file for detection\n",
    "    with open(path, 'rb') as image_file:\n",
    "        content = image_file.read()\n",
    "    \n",
    "    image = vision.Image(content=content)\n",
    "    objects = client.object_localization(image=image).localized_object_annotations\n",
    "    print('Number of objects found: {}'.format(len(objects)))\n",
    "    \n",
    "    #PIL is used to crop-out new files from original image\n",
    "    from PIL import Image\n",
    "    for object in objects:\n",
    "        detected = []\n",
    "        limits = []\n",
    "        print('\\n{} (Confidence: {})'.format(object.name, object.score))\n",
    "        for vertex in object.bounding_poly.normalized_vertices:\n",
    "            print(' - ({}, {})'.format(vertex.x, vertex.y))\n",
    "            limits.append((vertex.x, vertex.y))\n",
    "        detected.append(limits)\n",
    "    return detected"
   ]
  },
  {
   "cell_type": "code",
   "execution_count": 7,
   "metadata": {},
   "outputs": [
    {
     "name": "stdout",
     "output_type": "stream",
     "text": [
      "Number of objects found: 3\n",
      "\n",
      "Person (Confidence: 0.9051889181137085)\n",
      " - (0.033025432378053665, 0.195871964097023)\n",
      " - (0.9207284450531006, 0.195871964097023)\n",
      " - (0.9207284450531006, 0.9972599148750305)\n",
      " - (0.033025432378053665, 0.9972599148750305)\n",
      "\n",
      "Flower (Confidence: 0.7622988224029541)\n",
      " - (0.5749930739402771, 0.8048368096351624)\n",
      " - (0.8495102524757385, 0.8048368096351624)\n",
      " - (0.8495102524757385, 0.9949901103973389)\n",
      " - (0.5749930739402771, 0.9949901103973389)\n",
      "\n",
      "Clothing (Confidence: 0.688556969165802)\n",
      " - (0.008878236636519432, 0.7053647041320801)\n",
      " - (0.8963396549224854, 0.7053647041320801)\n",
      " - (0.8963396549224854, 0.9945178031921387)\n",
      " - (0.008878236636519432, 0.9945178031921387)\n"
     ]
    }
   ],
   "source": [
    "boxes = localize_objects(image_path)"
   ]
  },
  {
   "cell_type": "code",
   "execution_count": 8,
   "metadata": {},
   "outputs": [
    {
     "name": "stdout",
     "output_type": "stream",
     "text": [
      "[[(0.008878236636519432, 0.7053647041320801), (0.8963396549224854, 0.7053647041320801), (0.8963396549224854, 0.9945178031921387), (0.008878236636519432, 0.9945178031921387)]]\n"
     ]
    }
   ],
   "source": [
    "print(boxes)"
   ]
  },
  {
   "cell_type": "code",
   "execution_count": 9,
   "metadata": {},
   "outputs": [],
   "source": [
    "from PIL import Image\n",
    "orig_image = Image.open(image_path)\n",
    "x = boxes[0][0][0] * orig_image.width\n",
    "y = boxes[0][0][1] * orig_image.height\n",
    "x2 = boxes[0][2][0] * orig_image.width\n",
    "y2 = boxes[0][2][1] * orig_image.height\n",
    "obj_image = orig_image.crop((x, y, x2, y2))\n",
    "obj_image.save(\"object-3.png\")"
   ]
  }
 ],
 "metadata": {
  "kernelspec": {
   "display_name": "Python 3",
   "language": "python",
   "name": "python3"
  },
  "language_info": {
   "codemirror_mode": {
    "name": "ipython",
    "version": 3
   },
   "file_extension": ".py",
   "mimetype": "text/x-python",
   "name": "python",
   "nbconvert_exporter": "python",
   "pygments_lexer": "ipython3",
   "version": "3.10.10"
  },
  "orig_nbformat": 4,
  "vscode": {
   "interpreter": {
    "hash": "7240ea951ceaba11e29eac9de981dee739bdf7955bec6037107e9ed0cae0a328"
   }
  }
 },
 "nbformat": 4,
 "nbformat_minor": 2
}
