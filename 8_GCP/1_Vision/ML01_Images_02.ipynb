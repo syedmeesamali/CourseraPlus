{
 "cells": [
  {
   "attachments": {},
   "cell_type": "markdown",
   "metadata": {},
   "source": [
    "## Google Vision - Images"
   ]
  },
  {
   "cell_type": "code",
   "execution_count": 1,
   "metadata": {},
   "outputs": [],
   "source": [
    "import os\n",
    "import io\n",
    "#Cred key\n",
    "os.environ['GOOGLE_APPLICATION_CREDENTIALS'] = '../1_Vision/Keys/glossy-radio-377415-d797ca03c624.json'"
   ]
  },
  {
   "cell_type": "code",
   "execution_count": 2,
   "metadata": {},
   "outputs": [],
   "source": [
    "image_path = os.path.abspath('./image01.png')"
   ]
  },
  {
   "cell_type": "code",
   "execution_count": 19,
   "metadata": {},
   "outputs": [],
   "source": [
    "def localize_objects(path):\n",
    "    from google.cloud import vision\n",
    "    client = vision.ImageAnnotatorClient()\n",
    "    \n",
    "    #open local file for detection\n",
    "    with open(path, 'rb') as image_file:\n",
    "        content = image_file.read()\n",
    "    \n",
    "    image = vision.Image(content=content)\n",
    "    objects = client.object_localization(image=image).localized_object_annotations\n",
    "    print('Number of objects found: {}'.format(len(objects)))\n",
    "    \n",
    "    #PIL is used to crop-out new files from original image\n",
    "    from PIL import Image\n",
    "    for object in objects:\n",
    "        limits = []\n",
    "        print('\\n{} (Confidence: {})'.format(object.name, object.score))\n",
    "        for vertex in object.bounding_poly.normalized_vertices:\n",
    "            print(' - ({}, {})'.format(vertex.x, vertex.y))\n",
    "            limits.append((vertex.x, vertex.y))\n",
    "        x = limits[0][0]\n",
    "            "
   ]
  },
  {
   "cell_type": "code",
   "execution_count": 22,
   "metadata": {},
   "outputs": [
    {
     "name": "stdout",
     "output_type": "stream",
     "text": [
      "Number of objects found: 3\n",
      "\n",
      "Cat (Confidence: 0.9435999989509583)\n",
      " - (0.5423647165298462, 0.2350863814353943)\n",
      " - (0.9973958134651184, 0.2350863814353943)\n",
      " - (0.9973958134651184, 0.9909953474998474)\n",
      " - (0.5423647165298462, 0.9909953474998474)\n",
      "\n",
      "Animal (Confidence: 0.7472138404846191)\n",
      " - (0.01581188291311264, 0.1301344335079193)\n",
      " - (0.5349101424217224, 0.1301344335079193)\n",
      " - (0.5349101424217224, 0.9973958730697632)\n",
      " - (0.01581188291311264, 0.9973958730697632)\n",
      "\n",
      "Person (Confidence: 0.7319692969322205)\n",
      " - (0.2715071141719818, 0.03123832494020462)\n",
      " - (0.9899269342422485, 0.03123832494020462)\n",
      " - (0.9899269342422485, 0.9936986565589905)\n",
      " - (0.2715071141719818, 0.9936986565589905)\n"
     ]
    }
   ],
   "source": [
    "limit_val = localize_objects(image_path)"
   ]
  },
  {
   "cell_type": "code",
   "execution_count": 28,
   "metadata": {},
   "outputs": [
    {
     "name": "stdout",
     "output_type": "stream",
     "text": [
      "[(0.01581188291311264, 0.1301344335079193), (0.5349101424217224, 0.1301344335079193), (0.5349101424217224, 0.9973958730697632), (0.01581188291311264, 0.9973958730697632)]\n"
     ]
    }
   ],
   "source": [
    "#print(limit_val)\n",
    "limits2 = [(0.01581188291311264, 0.1301344335079193), (0.5349101424217224, 0.1301344335079193), \n",
    "           (0.5349101424217224, 0.9973958730697632), (0.01581188291311264, 0.9973958730697632)]\n",
    "print(limits2)"
   ]
  },
  {
   "cell_type": "code",
   "execution_count": 29,
   "metadata": {},
   "outputs": [],
   "source": [
    "from PIL import Image\n",
    "orig_image = Image.open(image_path)\n",
    "x = limits2[0][0] * orig_image.width\n",
    "y = limits2[0][1] * orig_image.height\n",
    "x2 = limits2[2][0] * orig_image.width\n",
    "y2 = limits2[2][1] * orig_image.height"
   ]
  },
  {
   "cell_type": "code",
   "execution_count": 30,
   "metadata": {},
   "outputs": [],
   "source": [
    "obj_image = orig_image.crop((x, y, x2, y2))\n",
    "obj_image.save(\"object-2.png\")"
   ]
  }
 ],
 "metadata": {
  "kernelspec": {
   "display_name": "Python 3",
   "language": "python",
   "name": "python3"
  },
  "language_info": {
   "codemirror_mode": {
    "name": "ipython",
    "version": 3
   },
   "file_extension": ".py",
   "mimetype": "text/x-python",
   "name": "python",
   "nbconvert_exporter": "python",
   "pygments_lexer": "ipython3",
   "version": "3.10.10"
  },
  "orig_nbformat": 4,
  "vscode": {
   "interpreter": {
    "hash": "7240ea951ceaba11e29eac9de981dee739bdf7955bec6037107e9ed0cae0a328"
   }
  }
 },
 "nbformat": 4,
 "nbformat_minor": 2
}
