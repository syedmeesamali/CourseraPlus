{
 "cells": [
  {
   "attachments": {},
   "cell_type": "markdown",
   "metadata": {},
   "source": [
    "## Google Vision API"
   ]
  },
  {
   "cell_type": "code",
   "execution_count": 2,
   "metadata": {},
   "outputs": [],
   "source": [
    "#First run only\n",
    "\n",
    "#!pip install google-cloud-vision"
   ]
  },
  {
   "cell_type": "code",
   "execution_count": 12,
   "metadata": {},
   "outputs": [],
   "source": [
    "import os\n",
    "import io\n",
    "\n",
    "from google.cloud import vision\n",
    "from google.cloud.vision_v1 import types"
   ]
  },
  {
   "cell_type": "code",
   "execution_count": 13,
   "metadata": {},
   "outputs": [],
   "source": [
    "#Cred key\n",
    "os.environ['GOOGLE_APPLICATION_CREDENTIALS'] = '../1_Vision/Keys/glossy-radio-377415-d797ca03c624.json'"
   ]
  },
  {
   "cell_type": "code",
   "execution_count": 14,
   "metadata": {},
   "outputs": [],
   "source": [
    "#Instantiate a client\n",
    "client = vision.ImageAnnotatorClient()"
   ]
  },
  {
   "cell_type": "code",
   "execution_count": 15,
   "metadata": {},
   "outputs": [],
   "source": [
    "file_name = os.path.abspath('./image01.png')\n",
    "# Loads the image into memory\n",
    "with io.open(file_name, 'rb') as image_file:\n",
    "    content = image_file.read()"
   ]
  },
  {
   "cell_type": "code",
   "execution_count": 16,
   "metadata": {},
   "outputs": [],
   "source": [
    "image = vision.Image(content=content)"
   ]
  },
  {
   "cell_type": "code",
   "execution_count": 18,
   "metadata": {},
   "outputs": [
    {
     "name": "stdout",
     "output_type": "stream",
     "text": [
      "{'label': 'Nose', 'score': 0.9835830330848694}\n",
      "{'label': 'Smile', 'score': 0.9632282853126526}\n",
      "{'label': 'Dog', 'score': 0.9628978371620178}\n",
      "{'label': 'Cat', 'score': 0.9392440915107727}\n",
      "{'label': 'Carnivore', 'score': 0.8785693645477295}\n",
      "{'label': 'Mammal', 'score': 0.8568598031997681}\n",
      "{'label': 'Gesture', 'score': 0.852604866027832}\n",
      "{'label': 'Happy', 'score': 0.8249571323394775}\n",
      "{'label': 'Fawn', 'score': 0.815062940120697}\n",
      "{'label': 'Felidae', 'score': 0.7516536116600037}\n"
     ]
    }
   ],
   "source": [
    "# Performs label detection on the image file\n",
    "response = client.label_detection(image=image)\n",
    "\n",
    "for label in response.label_annotations:\n",
    "    print({'label': label.description, 'score': label.score})\n"
   ]
  },
  {
   "attachments": {},
   "cell_type": "markdown",
   "metadata": {},
   "source": [
    "## Parse the image objects"
   ]
  },
  {
   "cell_type": "code",
   "execution_count": null,
   "metadata": {},
   "outputs": [],
   "source": [
    "def save_objects_as_images(image_path, objects):\n",
    "    # Load the image\n",
    "    from PIL import Image\n",
    "    original_image = Image.open(image_path)\n",
    "\n",
    "    for i, obj in enumerate(objects):\n",
    "        # Get the bounding box coordinates\n",
    "        x = obj[\"boundingPoly\"][\"normalizedVertices\"][0][\"x\"] * original_image.width\n",
    "        y = obj[\"boundingPoly\"][\"normalizedVertices\"][0][\"y\"] * original_image.height\n",
    "        x2 = obj[\"boundingPoly\"][\"normalizedVertices\"][2][\"x\"] * original_image.width\n",
    "        y2 = obj[\"boundingPoly\"][\"normalizedVertices\"][2][\"y\"] * original_image.height\n",
    "\n",
    "        # Crop the object from the image\n",
    "        obj_image = original_image.crop((x, y, x2, y2))\n",
    "\n",
    "        # Save the object as an image\n",
    "        obj_image.save(\"object_{}.jpg\".format(i))"
   ]
  }
 ],
 "metadata": {
  "kernelspec": {
   "display_name": "Python 3",
   "language": "python",
   "name": "python3"
  },
  "language_info": {
   "codemirror_mode": {
    "name": "ipython",
    "version": 3
   },
   "file_extension": ".py",
   "mimetype": "text/x-python",
   "name": "python",
   "nbconvert_exporter": "python",
   "pygments_lexer": "ipython3",
   "version": "3.10.10"
  },
  "orig_nbformat": 4,
  "vscode": {
   "interpreter": {
    "hash": "7240ea951ceaba11e29eac9de981dee739bdf7955bec6037107e9ed0cae0a328"
   }
  }
 },
 "nbformat": 4,
 "nbformat_minor": 2
}
