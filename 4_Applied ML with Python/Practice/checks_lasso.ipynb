{
 "cells": [
  {
   "cell_type": "code",
   "execution_count": 2,
   "metadata": {},
   "outputs": [],
   "source": [
    "import matplotlib.pyplot as plt\n",
    "import pandas as pd\n",
    "from sklearn.datasets import load_boston\n",
    "boston = load_boston()"
   ]
  },
  {
   "cell_type": "code",
   "execution_count": 11,
   "metadata": {},
   "outputs": [],
   "source": [
    "#import mglearn  -- Depreciated\n",
    "#X,y=mglearn.datasets.make_forge()\n",
    "from sklearn.datasets import make_blobs\n",
    "X, y = make_blobs(random_state=42)"
   ]
  },
  {
   "cell_type": "code",
   "execution_count": 3,
   "metadata": {},
   "outputs": [],
   "source": [
    "#X, y = load_boston(return_X_y=True)\n",
    "from sklearn.model_selection import train_test_split"
   ]
  },
  {
   "cell_type": "code",
   "execution_count": 4,
   "metadata": {},
   "outputs": [],
   "source": [
    "X_train, X_test, y_train, y_test = train_test_split(X, y, random_state = 0)"
   ]
  },
  {
   "cell_type": "code",
   "execution_count": 5,
   "metadata": {},
   "outputs": [],
   "source": [
    "from sklearn.linear_model import Lasso\n",
    "lasso = Lasso().fit(X_train, y_train)"
   ]
  },
  {
   "cell_type": "code",
   "execution_count": 6,
   "metadata": {},
   "outputs": [
    {
     "name": "stdout",
     "output_type": "stream",
     "text": [
      "training set score: 0.715050\n",
      "test set score: 0.551625\n",
      "number of features used: 11\n"
     ]
    }
   ],
   "source": [
    "import numpy as np\n",
    "print(\"training set score: %f\" % lasso.score(X_train, y_train))\n",
    "print(\"test set score: %f\" % lasso.score(X_test, y_test))\n",
    "print(\"number of features used: %d\" % np.sum(lasso.coef_ != 0))"
   ]
  },
  {
   "cell_type": "code",
   "execution_count": 7,
   "metadata": {},
   "outputs": [
    {
     "name": "stdout",
     "output_type": "stream",
     "text": [
      "training set score: 0.769330\n",
      "test set score: 0.631684\n",
      "number of features used: 13\n"
     ]
    }
   ],
   "source": [
    "lasso1 = Lasso(alpha=0.01).fit(X_train, y_train)\n",
    "print(\"training set score: %f\" % lasso1.score(X_train, y_train))\n",
    "print(\"test set score: %f\" % lasso1.score(X_test, y_test))\n",
    "print(\"number of features used: %d\" % np.sum(lasso1.coef_ != 0))"
   ]
  },
  {
   "cell_type": "code",
   "execution_count": 8,
   "metadata": {},
   "outputs": [
    {
     "name": "stdout",
     "output_type": "stream",
     "text": [
      "training set score: 0.769770\n",
      "test set score: 0.635432\n",
      "number of features used: 13\n"
     ]
    }
   ],
   "source": [
    "lasso2 = Lasso(alpha=0.0001).fit(X_train, y_train)\n",
    "print(\"training set score: %f\" % lasso2.score(X_train, y_train))\n",
    "print(\"test set score: %f\" % lasso2.score(X_test, y_test))\n",
    "print(\"number of features used: %d\" % np.sum(lasso2.coef_ != 0))"
   ]
  },
  {
   "cell_type": "code",
   "execution_count": 9,
   "metadata": {},
   "outputs": [
    {
     "data": {
      "text/plain": [
       "<matplotlib.legend.Legend at 0x1d1455f5ee0>"
      ]
     },
     "execution_count": 9,
     "metadata": {},
     "output_type": "execute_result"
    },
    {
     "data": {
      "image/png": "[encoded data removed]",
      "text/plain": [
       "<Figure size 432x288 with 1 Axes>"
      ]
     },
     "metadata": {
      "needs_background": "light"
     },
     "output_type": "display_data"
    }
   ],
   "source": [
    "plt.title(\"lasso_coefficients\")\n",
    "plt.plot(lasso.coef_, 'o', label=\"Lasso alpha=1\")\n",
    "plt.plot(lasso1.coef_, 'o', label=\"Lasso alpha=0.01\")\n",
    "plt.plot(lasso2.coef_, 'o', label=\"Lasso alpha=0.0001\")\n",
    "plt.ylim(-25, 25)\n",
    "plt.legend()"
   ]
  }
 ],
 "metadata": {
  "interpreter": {
   "hash": "1baa965d5efe3ac65b79dfc60c0d706280b1da80fedb7760faf2759126c4f253"
  },
  "kernelspec": {
   "display_name": "Python 3.8.6 64-bit",
   "language": "python",
   "name": "python3"
  },
  "language_info": {
   "codemirror_mode": {
    "name": "ipython",
    "version": 3
   },
   "file_extension": ".py",
   "mimetype": "text/x-python",
   "name": "python",
   "nbconvert_exporter": "python",
   "pygments_lexer": "ipython3",
   "version": "3.8.6"
  },
  "orig_nbformat": 4
 },
 "nbformat": 4,
 "nbformat_minor": 2
}
