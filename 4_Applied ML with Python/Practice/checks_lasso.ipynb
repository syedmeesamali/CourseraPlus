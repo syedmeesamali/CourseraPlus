{
 "cells": [
  {
   "cell_type": "code",
   "execution_count": 2,
   "metadata": {},
   "outputs": [],
   "source": [
    "import matplotlib.pyplot as plt\n",
    "import pandas as pd\n",
    "from sklearn.datasets import load_boston\n",
    "boston = load_boston()"
   ]
  },
  {
   "cell_type": "code",
   "execution_count": 11,
   "metadata": {},
   "outputs": [],
   "source": [
    "#import mglearn  -- Depreciated\n",
    "#X,y=mglearn.datasets.make_forge()\n",
    "from sklearn.datasets import make_blobs\n",
    "X, y = make_blobs(random_state=42)"
   ]
  },
  {
   "cell_type": "code",
   "execution_count": 12,
   "metadata": {},
   "outputs": [],
   "source": [
    "#X, y = load_boston(return_X_y=True)\n",
    "from sklearn.model_selection import train_test_split"
   ]
  },
  {
   "cell_type": "code",
   "execution_count": 13,
   "metadata": {},
   "outputs": [],
   "source": [
    "X_train, X_test, y_train, y_test = train_test_split(X, y, random_state = 0)"
   ]
  },
  {
   "cell_type": "code",
   "execution_count": 14,
   "metadata": {},
   "outputs": [],
   "source": [
    "from sklearn.linear_model import Lasso\n",
    "lasso = Lasso().fit(X_train, y_train)"
   ]
  },
  {
   "cell_type": "code",
   "execution_count": 15,
   "metadata": {},
   "outputs": [
    {
     "name": "stdout",
     "output_type": "stream",
     "text": [
      "training set score: 0.936606\n",
      "test set score: 0.925063\n",
      "number of features used: 1\n"
     ]
    }
   ],
   "source": [
    "import numpy as np\n",
    "print(\"training set score: %f\" % lasso.score(X_train, y_train))\n",
    "print(\"test set score: %f\" % lasso.score(X_test, y_test))\n",
    "print(\"number of features used: %d\" % np.sum(lasso.coef_ != 0))"
   ]
  },
  {
   "cell_type": "code",
   "execution_count": 16,
   "metadata": {},
   "outputs": [
    {
     "name": "stdout",
     "output_type": "stream",
     "text": [
      "training set score: 0.975722\n",
      "test set score: 0.974594\n",
      "number of features used: 2\n"
     ]
    }
   ],
   "source": [
    "lasso1 = Lasso(alpha=0.01).fit(X_train, y_train)\n",
    "print(\"training set score: %f\" % lasso1.score(X_train, y_train))\n",
    "print(\"test set score: %f\" % lasso1.score(X_test, y_test))\n",
    "print(\"number of features used: %d\" % np.sum(lasso1.coef_ != 0))"
   ]
  },
  {
   "cell_type": "code",
   "execution_count": 17,
   "metadata": {},
   "outputs": [
    {
     "name": "stdout",
     "output_type": "stream",
     "text": [
      "training set score: 0.975739\n",
      "test set score: 0.974841\n",
      "number of features used: 2\n"
     ]
    }
   ],
   "source": [
    "lasso2 = Lasso(alpha=0.0001).fit(X_train, y_train)\n",
    "print(\"training set score: %f\" % lasso2.score(X_train, y_train))\n",
    "print(\"test set score: %f\" % lasso2.score(X_test, y_test))\n",
    "print(\"number of features used: %d\" % np.sum(lasso2.coef_ != 0))"
   ]
  },
  {
   "cell_type": "code",
   "execution_count": 18,
   "metadata": {},
   "outputs": [
    {
     "data": {
      "text/plain": [
       "<matplotlib.legend.Legend at 0x1d1496d22e0>"
      ]
     },
     "execution_count": 18,
     "metadata": {},
     "output_type": "execute_result"
    },
    {
     "data": {
      "image/png": "[encoded data removed]",
      "text/plain": [
       "<Figure size 432x288 with 1 Axes>"
      ]
     },
     "metadata": {
      "needs_background": "light"
     },
     "output_type": "display_data"
    }
   ],
   "source": [
    "plt.title(\"lasso_coefficients\")\n",
    "plt.plot(lasso.coef_, 'o', label=\"Lasso alpha=1\")\n",
    "plt.plot(lasso1.coef_, 'o', label=\"Lasso alpha=0.01\")\n",
    "plt.plot(lasso2.coef_, 'o', label=\"Lasso alpha=0.0001\")\n",
    "plt.ylim(-25, 25)\n",
    "plt.legend()"
   ]
  }
 ],
 "metadata": {
  "interpreter": {
   "hash": "1baa965d5efe3ac65b79dfc60c0d706280b1da80fedb7760faf2759126c4f253"
  },
  "kernelspec": {
   "display_name": "Python 3.8.6 64-bit",
   "language": "python",
   "name": "python3"
  },
  "language_info": {
   "codemirror_mode": {
    "name": "ipython",
    "version": 3
   },
   "file_extension": ".py",
   "mimetype": "text/x-python",
   "name": "python",
   "nbconvert_exporter": "python",
   "pygments_lexer": "ipython3",
   "version": "3.8.6"
  },
  "orig_nbformat": 4
 },
 "nbformat": 4,
 "nbformat_minor": 2
}
