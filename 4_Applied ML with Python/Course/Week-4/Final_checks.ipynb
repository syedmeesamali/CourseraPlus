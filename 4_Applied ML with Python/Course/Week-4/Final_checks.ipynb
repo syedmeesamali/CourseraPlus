{
 "cells": [
  {
   "cell_type": "markdown",
   "metadata": {},
   "source": [
    "## Checks book for final assignment"
   ]
  },
  {
   "cell_type": "code",
   "execution_count": 1,
   "metadata": {},
   "outputs": [],
   "source": [
    "import numpy as np\n",
    "import pandas as pd\n",
    "import seaborn as sns\n",
    "import matplotlib.pyplot as plt"
   ]
  },
  {
   "cell_type": "code",
   "execution_count": 11,
   "metadata": {},
   "outputs": [],
   "source": [
    "tickets = pd.read_csv(f\"D:/Docs/train_1.csv\", encoding='mac_roman')\n",
    "#tickets = pd.read_csv(f\"D:/SYED/Docs/train.csv\", encoding='mac_roman')"
   ]
  },
  {
   "cell_type": "code",
   "execution_count": 15,
   "metadata": {},
   "outputs": [
    {
     "data": {
      "text/html": [
       "<div>\n",
       "<style scoped>\n",
       "    .dataframe tbody tr th:only-of-type {\n",
       "        vertical-align: middle;\n",
       "    }\n",
       "\n",
       "    .dataframe tbody tr th {\n",
       "        vertical-align: top;\n",
       "    }\n",
       "\n",
       "    .dataframe thead th {\n",
       "        text-align: right;\n",
       "    }\n",
       "</style>\n",
       "<table border=\"1\" class=\"dataframe\">\n",
       "  <thead>\n",
       "    <tr style=\"text-align: right;\">\n",
       "      <th></th>\n",
       "      <th>ticket_id</th>\n",
       "      <th>city</th>\n",
       "      <th>ticket_issued_date</th>\n",
       "      <th>disposition</th>\n",
       "      <th>fine_amount</th>\n",
       "      <th>admin_fee</th>\n",
       "      <th>state_fee</th>\n",
       "      <th>late_fee</th>\n",
       "      <th>judgment_amount</th>\n",
       "      <th>balance_due</th>\n",
       "      <th>payment_status</th>\n",
       "      <th>compliance</th>\n",
       "    </tr>\n",
       "  </thead>\n",
       "  <tbody>\n",
       "    <tr>\n",
       "      <th>0</th>\n",
       "      <td>22056</td>\n",
       "      <td>CHICAGO</td>\n",
       "      <td>16-03-04 11:40</td>\n",
       "      <td>Responsible</td>\n",
       "      <td>250.0</td>\n",
       "      <td>20</td>\n",
       "      <td>10</td>\n",
       "      <td>25.0</td>\n",
       "      <td>305.0</td>\n",
       "      <td>305.0</td>\n",
       "      <td>NO PAYMENT APPLIED</td>\n",
       "      <td>0.0</td>\n",
       "    </tr>\n",
       "    <tr>\n",
       "      <th>1</th>\n",
       "      <td>27586</td>\n",
       "      <td>Detroit</td>\n",
       "      <td>23-04-04 12:30</td>\n",
       "      <td>Responsible</td>\n",
       "      <td>750.0</td>\n",
       "      <td>20</td>\n",
       "      <td>10</td>\n",
       "      <td>75.0</td>\n",
       "      <td>855.0</td>\n",
       "      <td>75.0</td>\n",
       "      <td>PAID IN FULL</td>\n",
       "      <td>1.0</td>\n",
       "    </tr>\n",
       "    <tr>\n",
       "      <th>2</th>\n",
       "      <td>22062</td>\n",
       "      <td>Detroit</td>\n",
       "      <td>26-04-04 13:40</td>\n",
       "      <td>Not responsible</td>\n",
       "      <td>250.0</td>\n",
       "      <td>0</td>\n",
       "      <td>0</td>\n",
       "      <td>0.0</td>\n",
       "      <td>0.0</td>\n",
       "      <td>0.0</td>\n",
       "      <td>NO PAYMENT APPLIED</td>\n",
       "      <td>NaN</td>\n",
       "    </tr>\n",
       "    <tr>\n",
       "      <th>3</th>\n",
       "      <td>22084</td>\n",
       "      <td>Detroit</td>\n",
       "      <td>26-04-04 13:30</td>\n",
       "      <td>Not responsible</td>\n",
       "      <td>250.0</td>\n",
       "      <td>0</td>\n",
       "      <td>0</td>\n",
       "      <td>0.0</td>\n",
       "      <td>0.0</td>\n",
       "      <td>0.0</td>\n",
       "      <td>NO PAYMENT APPLIED</td>\n",
       "      <td>NaN</td>\n",
       "    </tr>\n",
       "    <tr>\n",
       "      <th>4</th>\n",
       "      <td>22093</td>\n",
       "      <td>Detroit</td>\n",
       "      <td>26-04-04 13:00</td>\n",
       "      <td>Not responsible</td>\n",
       "      <td>250.0</td>\n",
       "      <td>0</td>\n",
       "      <td>0</td>\n",
       "      <td>0.0</td>\n",
       "      <td>0.0</td>\n",
       "      <td>0.0</td>\n",
       "      <td>NO PAYMENT APPLIED</td>\n",
       "      <td>NaN</td>\n",
       "    </tr>\n",
       "    <tr>\n",
       "      <th>5</th>\n",
       "      <td>22046</td>\n",
       "      <td>LOG BEACH</td>\n",
       "      <td>01-05-04 11:50</td>\n",
       "      <td>Responsible</td>\n",
       "      <td>250.0</td>\n",
       "      <td>20</td>\n",
       "      <td>10</td>\n",
       "      <td>25.0</td>\n",
       "      <td>305.0</td>\n",
       "      <td>305.0</td>\n",
       "      <td>NO PAYMENT APPLIED</td>\n",
       "      <td>0.0</td>\n",
       "    </tr>\n",
       "    <tr>\n",
       "      <th>6</th>\n",
       "      <td>18738</td>\n",
       "      <td>Clinton</td>\n",
       "      <td>14-06-04 14:15</td>\n",
       "      <td>Responsible</td>\n",
       "      <td>750.0</td>\n",
       "      <td>20</td>\n",
       "      <td>10</td>\n",
       "      <td>75.0</td>\n",
       "      <td>855.0</td>\n",
       "      <td>855.0</td>\n",
       "      <td>NO PAYMENT APPLIED</td>\n",
       "      <td>0.0</td>\n",
       "    </tr>\n",
       "    <tr>\n",
       "      <th>7</th>\n",
       "      <td>18735</td>\n",
       "      <td>Detroit</td>\n",
       "      <td>16-06-04 12:30</td>\n",
       "      <td>Responsible</td>\n",
       "      <td>100.0</td>\n",
       "      <td>20</td>\n",
       "      <td>10</td>\n",
       "      <td>10.0</td>\n",
       "      <td>140.0</td>\n",
       "      <td>140.0</td>\n",
       "      <td>NO PAYMENT APPLIED</td>\n",
       "      <td>0.0</td>\n",
       "    </tr>\n",
       "    <tr>\n",
       "      <th>8</th>\n",
       "      <td>18733</td>\n",
       "      <td>Detroit</td>\n",
       "      <td>16-06-04 12:25</td>\n",
       "      <td>Responsible</td>\n",
       "      <td>100.0</td>\n",
       "      <td>20</td>\n",
       "      <td>10</td>\n",
       "      <td>10.0</td>\n",
       "      <td>140.0</td>\n",
       "      <td>140.0</td>\n",
       "      <td>NO PAYMENT APPLIED</td>\n",
       "      <td>0.0</td>\n",
       "    </tr>\n",
       "    <tr>\n",
       "      <th>9</th>\n",
       "      <td>28204</td>\n",
       "      <td>Detroit</td>\n",
       "      <td>12-07-04 13:30</td>\n",
       "      <td>Responsible</td>\n",
       "      <td>750.0</td>\n",
       "      <td>20</td>\n",
       "      <td>10</td>\n",
       "      <td>75.0</td>\n",
       "      <td>855.0</td>\n",
       "      <td>855.0</td>\n",
       "      <td>NO PAYMENT APPLIED</td>\n",
       "      <td>0.0</td>\n",
       "    </tr>\n",
       "  </tbody>\n",
       "</table>\n",
       "</div>"
      ],
      "text/plain": [
       "   ticket_id       city ticket_issued_date      disposition  fine_amount  \\\n",
       "0      22056    CHICAGO     16-03-04 11:40      Responsible        250.0   \n",
       "1      27586    Detroit     23-04-04 12:30      Responsible        750.0   \n",
       "2      22062    Detroit     26-04-04 13:40  Not responsible        250.0   \n",
       "3      22084    Detroit     26-04-04 13:30  Not responsible        250.0   \n",
       "4      22093    Detroit     26-04-04 13:00  Not responsible        250.0   \n",
       "5      22046  LOG BEACH     01-05-04 11:50      Responsible        250.0   \n",
       "6      18738    Clinton     14-06-04 14:15      Responsible        750.0   \n",
       "7      18735    Detroit     16-06-04 12:30      Responsible        100.0   \n",
       "8      18733    Detroit     16-06-04 12:25      Responsible        100.0   \n",
       "9      28204    Detroit     12-07-04 13:30      Responsible        750.0   \n",
       "\n",
       "   admin_fee  state_fee  late_fee  judgment_amount  balance_due  \\\n",
       "0         20         10      25.0            305.0        305.0   \n",
       "1         20         10      75.0            855.0         75.0   \n",
       "2          0          0       0.0              0.0          0.0   \n",
       "3          0          0       0.0              0.0          0.0   \n",
       "4          0          0       0.0              0.0          0.0   \n",
       "5         20         10      25.0            305.0        305.0   \n",
       "6         20         10      75.0            855.0        855.0   \n",
       "7         20         10      10.0            140.0        140.0   \n",
       "8         20         10      10.0            140.0        140.0   \n",
       "9         20         10      75.0            855.0        855.0   \n",
       "\n",
       "       payment_status  compliance  \n",
       "0  NO PAYMENT APPLIED         0.0  \n",
       "1        PAID IN FULL         1.0  \n",
       "2  NO PAYMENT APPLIED         NaN  \n",
       "3  NO PAYMENT APPLIED         NaN  \n",
       "4  NO PAYMENT APPLIED         NaN  \n",
       "5  NO PAYMENT APPLIED         0.0  \n",
       "6  NO PAYMENT APPLIED         0.0  \n",
       "7  NO PAYMENT APPLIED         0.0  \n",
       "8  NO PAYMENT APPLIED         0.0  \n",
       "9  NO PAYMENT APPLIED         0.0  "
      ]
     },
     "execution_count": 15,
     "metadata": {},
     "output_type": "execute_result"
    }
   ],
   "source": [
    "tickets.head(10)"
   ]
  },
  {
   "cell_type": "code",
   "execution_count": 16,
   "metadata": {},
   "outputs": [
    {
     "name": "stdout",
     "output_type": "stream",
     "text": [
      "<class 'pandas.core.frame.DataFrame'>\n",
      "RangeIndex: 250306 entries, 0 to 250305\n",
      "Data columns (total 12 columns):\n",
      " #   Column              Non-Null Count   Dtype  \n",
      "---  ------              --------------   -----  \n",
      " 0   ticket_id           250306 non-null  int64  \n",
      " 1   city                250306 non-null  object \n",
      " 2   ticket_issued_date  250306 non-null  object \n",
      " 3   disposition         250306 non-null  object \n",
      " 4   fine_amount         250305 non-null  float64\n",
      " 5   admin_fee           250306 non-null  int64  \n",
      " 6   state_fee           250306 non-null  int64  \n",
      " 7   late_fee            250306 non-null  float64\n",
      " 8   judgment_amount     250306 non-null  float64\n",
      " 9   balance_due         250306 non-null  float64\n",
      " 10  payment_status      250306 non-null  object \n",
      " 11  compliance          159880 non-null  float64\n",
      "dtypes: float64(5), int64(3), object(4)\n",
      "memory usage: 22.9+ MB\n"
     ]
    }
   ],
   "source": [
    "tickets.info()"
   ]
  },
  {
   "cell_type": "code",
   "execution_count": 17,
   "metadata": {},
   "outputs": [
    {
     "data": {
      "text/plain": [
       "Responsible        159880\n",
       "Not responsible     83096\n",
       "Not Responsible      6639\n",
       "PENDING               691\n",
       "Name: disposition, dtype: int64"
      ]
     },
     "execution_count": 17,
     "metadata": {},
     "output_type": "execute_result"
    }
   ],
   "source": [
    "tickets['disposition'].value_counts()"
   ]
  },
  {
   "cell_type": "code",
   "execution_count": 18,
   "metadata": {},
   "outputs": [
    {
     "data": {
      "text/plain": [
       "(159880, 12)"
      ]
     },
     "execution_count": 18,
     "metadata": {},
     "output_type": "execute_result"
    }
   ],
   "source": [
    "tickets.dropna(subset=['compliance'], how='any').shape"
   ]
  },
  {
   "cell_type": "code",
   "execution_count": 19,
   "metadata": {},
   "outputs": [
    {
     "data": {
      "text/plain": [
       "0.0    148283\n",
       "1.0     11597\n",
       "Name: compliance, dtype: int64"
      ]
     },
     "execution_count": 19,
     "metadata": {},
     "output_type": "execute_result"
    }
   ],
   "source": [
    "tickets['compliance'].value_counts()"
   ]
  },
  {
   "cell_type": "code",
   "execution_count": 20,
   "metadata": {},
   "outputs": [
    {
     "data": {
      "text/plain": [
       "<AxesSubplot:>"
      ]
     },
     "execution_count": 20,
     "metadata": {},
     "output_type": "execute_result"
    },
    {
     "data": {
      "image/png": "[encoded data removed]",
      "text/plain": [
       "<Figure size 432x288 with 1 Axes>"
      ]
     },
     "metadata": {
      "needs_background": "light"
     },
     "output_type": "display_data"
    }
   ],
   "source": [
    "sns.heatmap(tickets.isnull(), yticklabels=False, cbar=False, cmap='viridis')"
   ]
  },
  {
   "cell_type": "code",
   "execution_count": 21,
   "metadata": {},
   "outputs": [
    {
     "data": {
      "text/plain": [
       "Index(['ticket_id', 'city', 'ticket_issued_date', 'disposition', 'fine_amount',\n",
       "       'admin_fee', 'state_fee', 'late_fee', 'judgment_amount', 'balance_due',\n",
       "       'payment_status', 'compliance'],\n",
       "      dtype='object')"
      ]
     },
     "execution_count": 21,
     "metadata": {},
     "output_type": "execute_result"
    }
   ],
   "source": [
    "tickets.columns"
   ]
  },
  {
   "cell_type": "code",
   "execution_count": 27,
   "metadata": {},
   "outputs": [],
   "source": [
    "tickets['disposition'].replace(['Not Responsible', 'PENDING'], [1, 2], inplace=True)"
   ]
  },
  {
   "cell_type": "code",
   "execution_count": 28,
   "metadata": {},
   "outputs": [
    {
     "data": {
      "text/plain": [
       "0    159880\n",
       "1     89735\n",
       "2       691\n",
       "Name: disposition, dtype: int64"
      ]
     },
     "execution_count": 28,
     "metadata": {},
     "output_type": "execute_result"
    }
   ],
   "source": [
    "tickets['disposition'].value_counts()"
   ]
  },
  {
   "cell_type": "code",
   "execution_count": 29,
   "metadata": {},
   "outputs": [
    {
     "data": {
      "text/html": [
       "<div>\n",
       "<style scoped>\n",
       "    .dataframe tbody tr th:only-of-type {\n",
       "        vertical-align: middle;\n",
       "    }\n",
       "\n",
       "    .dataframe tbody tr th {\n",
       "        vertical-align: top;\n",
       "    }\n",
       "\n",
       "    .dataframe thead th {\n",
       "        text-align: right;\n",
       "    }\n",
       "</style>\n",
       "<table border=\"1\" class=\"dataframe\">\n",
       "  <thead>\n",
       "    <tr style=\"text-align: right;\">\n",
       "      <th></th>\n",
       "      <th>ticket_id</th>\n",
       "      <th>disposition</th>\n",
       "      <th>fine_amount</th>\n",
       "      <th>admin_fee</th>\n",
       "      <th>state_fee</th>\n",
       "      <th>late_fee</th>\n",
       "      <th>judgment_amount</th>\n",
       "      <th>balance_due</th>\n",
       "      <th>compliance</th>\n",
       "    </tr>\n",
       "  </thead>\n",
       "  <tbody>\n",
       "    <tr>\n",
       "      <th>count</th>\n",
       "      <td>250306.000000</td>\n",
       "      <td>250306.000000</td>\n",
       "      <td>250305.000000</td>\n",
       "      <td>250306.000000</td>\n",
       "      <td>250306.000000</td>\n",
       "      <td>250306.000000</td>\n",
       "      <td>250306.000000</td>\n",
       "      <td>250306.000000</td>\n",
       "      <td>159880.000000</td>\n",
       "    </tr>\n",
       "    <tr>\n",
       "      <th>mean</th>\n",
       "      <td>152665.543099</td>\n",
       "      <td>0.364022</td>\n",
       "      <td>374.423435</td>\n",
       "      <td>12.774764</td>\n",
       "      <td>6.387382</td>\n",
       "      <td>21.494506</td>\n",
       "      <td>268.685356</td>\n",
       "      <td>222.449058</td>\n",
       "      <td>0.072536</td>\n",
       "    </tr>\n",
       "    <tr>\n",
       "      <th>std</th>\n",
       "      <td>77189.882881</td>\n",
       "      <td>0.486860</td>\n",
       "      <td>707.195807</td>\n",
       "      <td>9.607344</td>\n",
       "      <td>4.803672</td>\n",
       "      <td>56.464263</td>\n",
       "      <td>626.915212</td>\n",
       "      <td>606.394010</td>\n",
       "      <td>0.259374</td>\n",
       "    </tr>\n",
       "    <tr>\n",
       "      <th>min</th>\n",
       "      <td>18645.000000</td>\n",
       "      <td>0.000000</td>\n",
       "      <td>0.000000</td>\n",
       "      <td>0.000000</td>\n",
       "      <td>0.000000</td>\n",
       "      <td>0.000000</td>\n",
       "      <td>0.000000</td>\n",
       "      <td>-7750.000000</td>\n",
       "      <td>0.000000</td>\n",
       "    </tr>\n",
       "    <tr>\n",
       "      <th>25%</th>\n",
       "      <td>86549.250000</td>\n",
       "      <td>0.000000</td>\n",
       "      <td>200.000000</td>\n",
       "      <td>0.000000</td>\n",
       "      <td>0.000000</td>\n",
       "      <td>0.000000</td>\n",
       "      <td>0.000000</td>\n",
       "      <td>0.000000</td>\n",
       "      <td>0.000000</td>\n",
       "    </tr>\n",
       "    <tr>\n",
       "      <th>50%</th>\n",
       "      <td>152597.500000</td>\n",
       "      <td>0.000000</td>\n",
       "      <td>250.000000</td>\n",
       "      <td>20.000000</td>\n",
       "      <td>10.000000</td>\n",
       "      <td>10.000000</td>\n",
       "      <td>140.000000</td>\n",
       "      <td>25.000000</td>\n",
       "      <td>0.000000</td>\n",
       "    </tr>\n",
       "    <tr>\n",
       "      <th>75%</th>\n",
       "      <td>219888.750000</td>\n",
       "      <td>1.000000</td>\n",
       "      <td>250.000000</td>\n",
       "      <td>20.000000</td>\n",
       "      <td>10.000000</td>\n",
       "      <td>25.000000</td>\n",
       "      <td>305.000000</td>\n",
       "      <td>305.000000</td>\n",
       "      <td>0.000000</td>\n",
       "    </tr>\n",
       "    <tr>\n",
       "      <th>max</th>\n",
       "      <td>366178.000000</td>\n",
       "      <td>2.000000</td>\n",
       "      <td>10000.000000</td>\n",
       "      <td>20.000000</td>\n",
       "      <td>10.000000</td>\n",
       "      <td>1000.000000</td>\n",
       "      <td>11030.000000</td>\n",
       "      <td>11030.000000</td>\n",
       "      <td>1.000000</td>\n",
       "    </tr>\n",
       "  </tbody>\n",
       "</table>\n",
       "</div>"
      ],
      "text/plain": [
       "           ticket_id    disposition    fine_amount      admin_fee  \\\n",
       "count  250306.000000  250306.000000  250305.000000  250306.000000   \n",
       "mean   152665.543099       0.364022     374.423435      12.774764   \n",
       "std     77189.882881       0.486860     707.195807       9.607344   \n",
       "min     18645.000000       0.000000       0.000000       0.000000   \n",
       "25%     86549.250000       0.000000     200.000000       0.000000   \n",
       "50%    152597.500000       0.000000     250.000000      20.000000   \n",
       "75%    219888.750000       1.000000     250.000000      20.000000   \n",
       "max    366178.000000       2.000000   10000.000000      20.000000   \n",
       "\n",
       "           state_fee       late_fee  judgment_amount    balance_due  \\\n",
       "count  250306.000000  250306.000000    250306.000000  250306.000000   \n",
       "mean        6.387382      21.494506       268.685356     222.449058   \n",
       "std         4.803672      56.464263       626.915212     606.394010   \n",
       "min         0.000000       0.000000         0.000000   -7750.000000   \n",
       "25%         0.000000       0.000000         0.000000       0.000000   \n",
       "50%        10.000000      10.000000       140.000000      25.000000   \n",
       "75%        10.000000      25.000000       305.000000     305.000000   \n",
       "max        10.000000    1000.000000     11030.000000   11030.000000   \n",
       "\n",
       "          compliance  \n",
       "count  159880.000000  \n",
       "mean        0.072536  \n",
       "std         0.259374  \n",
       "min         0.000000  \n",
       "25%         0.000000  \n",
       "50%         0.000000  \n",
       "75%         0.000000  \n",
       "max         1.000000  "
      ]
     },
     "execution_count": 29,
     "metadata": {},
     "output_type": "execute_result"
    }
   ],
   "source": [
    "tickets.describe()"
   ]
  },
  {
   "cell_type": "code",
   "execution_count": 36,
   "metadata": {},
   "outputs": [
    {
     "data": {
      "text/plain": [
       "<AxesSubplot:>"
      ]
     },
     "execution_count": 36,
     "metadata": {},
     "output_type": "execute_result"
    },
    {
     "data": {
      "image/png": "[encoded data removed]",
      "text/plain": [
       "<Figure size 432x288 with 1 Axes>"
      ]
     },
     "metadata": {
      "needs_background": "light"
     },
     "output_type": "display_data"
    }
   ],
   "source": [
    "tickets['disposition'].hist()"
   ]
  },
  {
   "cell_type": "code",
   "execution_count": 37,
   "metadata": {},
   "outputs": [],
   "source": [
    "tickets.loc[tickets['payment_status'] == 'PAID IN FULL', 'compliance'] = 1"
   ]
  },
  {
   "cell_type": "code",
   "execution_count": 40,
   "metadata": {},
   "outputs": [
    {
     "data": {
      "text/plain": [
       "NO PAYMENT APPLIED         209193\n",
       "PAID IN FULL                31931\n",
       "PARTIAL PAYMENT APPLIED      9182\n",
       "Name: payment_status, dtype: int64"
      ]
     },
     "execution_count": 40,
     "metadata": {},
     "output_type": "execute_result"
    }
   ],
   "source": [
    "tickets['payment_status'].value_counts()"
   ]
  },
  {
   "cell_type": "code",
   "execution_count": 39,
   "metadata": {},
   "outputs": [
    {
     "name": "stdout",
     "output_type": "stream",
     "text": [
      "<class 'pandas.core.frame.DataFrame'>\n",
      "RangeIndex: 250306 entries, 0 to 250305\n",
      "Data columns (total 12 columns):\n",
      " #   Column              Non-Null Count   Dtype  \n",
      "---  ------              --------------   -----  \n",
      " 0   ticket_id           250306 non-null  int64  \n",
      " 1   city                250306 non-null  object \n",
      " 2   ticket_issued_date  250306 non-null  object \n",
      " 3   disposition         250306 non-null  int64  \n",
      " 4   fine_amount         250305 non-null  float64\n",
      " 5   admin_fee           250306 non-null  int64  \n",
      " 6   state_fee           250306 non-null  int64  \n",
      " 7   late_fee            250306 non-null  float64\n",
      " 8   judgment_amount     250306 non-null  float64\n",
      " 9   balance_due         250306 non-null  float64\n",
      " 10  payment_status      250306 non-null  object \n",
      " 11  compliance          161382 non-null  float64\n",
      "dtypes: float64(5), int64(4), object(3)\n",
      "memory usage: 22.9+ MB\n"
     ]
    }
   ],
   "source": [
    "tickets.info()"
   ]
  },
  {
   "cell_type": "code",
   "execution_count": 43,
   "metadata": {},
   "outputs": [],
   "source": [
    "from sklearn.linear_model import LogisticRegression\n",
    "from sklearn.model_selection import train_test_split\n",
    "\n",
    "#Feature selection is very interesting phase here where by own intuition I have to select the features\n",
    "#which might give best fit for data at hand\n",
    "\n",
    "feature_names_tickets = ['ticket_id', 'disposition', 'ticket_issued_date', 'fine_amount']\n",
    "X_tickets = tickets[feature_names_tickets]\n",
    "#Our target variable is compliance i.e., ticket chances of getting PAID\n",
    "y_tickets = tickets['compliance']\n",
    "X_train, X_test, y_train, y_test = train_test_split(X_tickets, y_tickets, random_state = 0)"
   ]
  },
  {
   "cell_type": "code",
   "execution_count": null,
   "metadata": {},
   "outputs": [],
   "source": [
    "clf = LogisticRegression(C=100).fit(X_train, y_train)"
   ]
  }
 ],
 "metadata": {
  "interpreter": {
   "hash": "570feb405e2e27c949193ac68f46852414290d515b0ba6e5d90d076ed2284471"
  },
  "kernelspec": {
   "display_name": "Python 3.8.6 64-bit",
   "language": "python",
   "name": "python3"
  },
  "language_info": {
   "codemirror_mode": {
    "name": "ipython",
    "version": 3
   },
   "file_extension": ".py",
   "mimetype": "text/x-python",
   "name": "python",
   "nbconvert_exporter": "python",
   "pygments_lexer": "ipython3",
   "version": "3.8.6"
  },
  "orig_nbformat": 4
 },
 "nbformat": 4,
 "nbformat_minor": 2
}
