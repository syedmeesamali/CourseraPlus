{
 "cells": [
  {
   "cell_type": "markdown",
   "metadata": {},
   "source": [
    "## Checks book for final assignment"
   ]
  },
  {
   "cell_type": "code",
   "execution_count": 1,
   "metadata": {},
   "outputs": [],
   "source": [
    "import numpy as np\n",
    "import pandas as pd\n",
    "import seaborn as sns"
   ]
  },
  {
   "cell_type": "code",
   "execution_count": 2,
   "metadata": {},
   "outputs": [
    {
     "name": "stderr",
     "output_type": "stream",
     "text": [
      "C:\\Users\\SYED\\AppData\\Roaming\\Python\\Python38\\site-packages\\IPython\\core\\interactiveshell.py:3145: DtypeWarning: Columns (6) have mixed types.Specify dtype option on import or set low_memory=False.\n",
      "  has_raised = await self.run_ast_nodes(code_ast.body, cell_name,\n"
     ]
    }
   ],
   "source": [
    "tickets = pd.read_csv(f\"D:/Docs/train_1.csv\", encoding='mac_roman')"
   ]
  },
  {
   "cell_type": "code",
   "execution_count": 3,
   "metadata": {},
   "outputs": [
    {
     "data": {
      "text/html": [
       "<div>\n",
       "<style scoped>\n",
       "    .dataframe tbody tr th:only-of-type {\n",
       "        vertical-align: middle;\n",
       "    }\n",
       "\n",
       "    .dataframe tbody tr th {\n",
       "        vertical-align: top;\n",
       "    }\n",
       "\n",
       "    .dataframe thead th {\n",
       "        text-align: right;\n",
       "    }\n",
       "</style>\n",
       "<table border=\"1\" class=\"dataframe\">\n",
       "  <thead>\n",
       "    <tr style=\"text-align: right;\">\n",
       "      <th></th>\n",
       "      <th>ticket_id</th>\n",
       "      <th>inspector_name</th>\n",
       "      <th>violator_name</th>\n",
       "      <th>violation_street_number</th>\n",
       "      <th>violation_street_name</th>\n",
       "      <th>city</th>\n",
       "      <th>zip_code</th>\n",
       "      <th>country</th>\n",
       "      <th>ticket_issued_date</th>\n",
       "      <th>hearing_date</th>\n",
       "      <th>...</th>\n",
       "      <th>late_fee</th>\n",
       "      <th>discount_amount</th>\n",
       "      <th>clean_up_cost</th>\n",
       "      <th>judgment_amount</th>\n",
       "      <th>payment_amount</th>\n",
       "      <th>balance_due</th>\n",
       "      <th>payment_date</th>\n",
       "      <th>payment_status</th>\n",
       "      <th>collection_status</th>\n",
       "      <th>compliance</th>\n",
       "    </tr>\n",
       "  </thead>\n",
       "  <tbody>\n",
       "    <tr>\n",
       "      <th>0</th>\n",
       "      <td>22056</td>\n",
       "      <td>Sims, Martinzie</td>\n",
       "      <td>INVESTMENT INC., MIDWEST MORTGAGE</td>\n",
       "      <td>2900</td>\n",
       "      <td>TYLER</td>\n",
       "      <td>CHICAGO</td>\n",
       "      <td>60606</td>\n",
       "      <td>USA</td>\n",
       "      <td>16-03-04 11:40</td>\n",
       "      <td>21-03-05 10:30</td>\n",
       "      <td>...</td>\n",
       "      <td>25.0</td>\n",
       "      <td>0</td>\n",
       "      <td>0</td>\n",
       "      <td>305.0</td>\n",
       "      <td>0.0</td>\n",
       "      <td>305.0</td>\n",
       "      <td>NaN</td>\n",
       "      <td>NO PAYMENT APPLIED</td>\n",
       "      <td>NaN</td>\n",
       "      <td>0.0</td>\n",
       "    </tr>\n",
       "    <tr>\n",
       "      <th>1</th>\n",
       "      <td>27586</td>\n",
       "      <td>Williams, Darrin</td>\n",
       "      <td>Michigan, Covenant House</td>\n",
       "      <td>4311</td>\n",
       "      <td>CENTRAL</td>\n",
       "      <td>Detroit</td>\n",
       "      <td>48208</td>\n",
       "      <td>USA</td>\n",
       "      <td>23-04-04 12:30</td>\n",
       "      <td>06-05-05 13:30</td>\n",
       "      <td>...</td>\n",
       "      <td>75.0</td>\n",
       "      <td>0</td>\n",
       "      <td>0</td>\n",
       "      <td>855.0</td>\n",
       "      <td>780.0</td>\n",
       "      <td>75.0</td>\n",
       "      <td>02-06-05 0:00</td>\n",
       "      <td>PAID IN FULL</td>\n",
       "      <td>NaN</td>\n",
       "      <td>1.0</td>\n",
       "    </tr>\n",
       "    <tr>\n",
       "      <th>2</th>\n",
       "      <td>22062</td>\n",
       "      <td>Sims, Martinzie</td>\n",
       "      <td>SANDERS, DERRON</td>\n",
       "      <td>1449</td>\n",
       "      <td>LONGFELLOW</td>\n",
       "      <td>DETROIT</td>\n",
       "      <td>48223</td>\n",
       "      <td>USA</td>\n",
       "      <td>26-04-04 13:40</td>\n",
       "      <td>29-03-05 10:30</td>\n",
       "      <td>...</td>\n",
       "      <td>0.0</td>\n",
       "      <td>0</td>\n",
       "      <td>0</td>\n",
       "      <td>0.0</td>\n",
       "      <td>0.0</td>\n",
       "      <td>0.0</td>\n",
       "      <td>NaN</td>\n",
       "      <td>NO PAYMENT APPLIED</td>\n",
       "      <td>NaN</td>\n",
       "      <td>NaN</td>\n",
       "    </tr>\n",
       "    <tr>\n",
       "      <th>3</th>\n",
       "      <td>22084</td>\n",
       "      <td>Sims, Martinzie</td>\n",
       "      <td>MOROSI, MIKE</td>\n",
       "      <td>1441</td>\n",
       "      <td>LONGFELLOW</td>\n",
       "      <td>DETROIT</td>\n",
       "      <td>48214</td>\n",
       "      <td>USA</td>\n",
       "      <td>26-04-04 13:30</td>\n",
       "      <td>NaN</td>\n",
       "      <td>...</td>\n",
       "      <td>0.0</td>\n",
       "      <td>0</td>\n",
       "      <td>0</td>\n",
       "      <td>0.0</td>\n",
       "      <td>0.0</td>\n",
       "      <td>0.0</td>\n",
       "      <td>NaN</td>\n",
       "      <td>NO PAYMENT APPLIED</td>\n",
       "      <td>NaN</td>\n",
       "      <td>NaN</td>\n",
       "    </tr>\n",
       "  </tbody>\n",
       "</table>\n",
       "<p>4 rows × 24 columns</p>\n",
       "</div>"
      ],
      "text/plain": [
       "   ticket_id    inspector_name                      violator_name  \\\n",
       "0      22056   Sims, Martinzie  INVESTMENT INC., MIDWEST MORTGAGE   \n",
       "1      27586  Williams, Darrin           Michigan, Covenant House   \n",
       "2      22062   Sims, Martinzie                    SANDERS, DERRON   \n",
       "3      22084   Sims, Martinzie                       MOROSI, MIKE   \n",
       "\n",
       "   violation_street_number violation_street_name     city zip_code country  \\\n",
       "0                     2900                 TYLER  CHICAGO    60606     USA   \n",
       "1                     4311               CENTRAL  Detroit    48208     USA   \n",
       "2                     1449            LONGFELLOW  DETROIT    48223     USA   \n",
       "3                     1441            LONGFELLOW  DETROIT    48214     USA   \n",
       "\n",
       "  ticket_issued_date    hearing_date  ... late_fee  discount_amount  \\\n",
       "0     16-03-04 11:40  21-03-05 10:30  ...     25.0                0   \n",
       "1     23-04-04 12:30  06-05-05 13:30  ...     75.0                0   \n",
       "2     26-04-04 13:40  29-03-05 10:30  ...      0.0                0   \n",
       "3     26-04-04 13:30             NaN  ...      0.0                0   \n",
       "\n",
       "   clean_up_cost  judgment_amount  payment_amount  balance_due   payment_date  \\\n",
       "0              0            305.0             0.0        305.0            NaN   \n",
       "1              0            855.0           780.0         75.0  02-06-05 0:00   \n",
       "2              0              0.0             0.0          0.0            NaN   \n",
       "3              0              0.0             0.0          0.0            NaN   \n",
       "\n",
       "       payment_status  collection_status  compliance  \n",
       "0  NO PAYMENT APPLIED                NaN         0.0  \n",
       "1        PAID IN FULL                NaN         1.0  \n",
       "2  NO PAYMENT APPLIED                NaN         NaN  \n",
       "3  NO PAYMENT APPLIED                NaN         NaN  \n",
       "\n",
       "[4 rows x 24 columns]"
      ]
     },
     "execution_count": 3,
     "metadata": {},
     "output_type": "execute_result"
    }
   ],
   "source": [
    "tickets.head(4)"
   ]
  },
  {
   "cell_type": "code",
   "execution_count": null,
   "metadata": {},
   "outputs": [],
   "source": [
    "sns.heatmap(tickets.isnull(), yticklabels=False, cbar=False, cmap='viridis')"
   ]
  },
  {
   "cell_type": "code",
   "execution_count": null,
   "metadata": {},
   "outputs": [],
   "source": [
    "tickets.columns"
   ]
  }
 ],
 "metadata": {
  "interpreter": {
   "hash": "570feb405e2e27c949193ac68f46852414290d515b0ba6e5d90d076ed2284471"
  },
  "kernelspec": {
   "display_name": "Python 3.8.6 64-bit",
   "language": "python",
   "name": "python3"
  },
  "language_info": {
   "codemirror_mode": {
    "name": "ipython",
    "version": 3
   },
   "file_extension": ".py",
   "mimetype": "text/x-python",
   "name": "python",
   "nbconvert_exporter": "python",
   "pygments_lexer": "ipython3",
   "version": "3.8.6"
  },
  "orig_nbformat": 4
 },
 "nbformat": 4,
 "nbformat_minor": 2
}
