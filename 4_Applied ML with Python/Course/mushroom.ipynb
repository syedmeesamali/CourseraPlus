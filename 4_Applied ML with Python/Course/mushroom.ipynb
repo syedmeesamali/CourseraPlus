{
 "cells": [
  {
   "cell_type": "code",
   "execution_count": 1,
   "metadata": {},
   "outputs": [],
   "source": [
    "import pandas as pd\n",
    "import numpy as np\n",
    "from sklearn.model_selection import train_test_split\n",
    "mush_df = pd.read_csv('mushrooms.csv')\n",
    "mush_df2 = pd.get_dummies(mush_df)\n",
    "X_mush = mush_df2.iloc[:,2:]\n",
    "y_mush = mush_df2.iloc[:,1]\n",
    "X_train2, X_test2, y_train2, y_test2 = train_test_split(X_mush, y_mush, random_state=0)\n",
    "X_subset = X_test2\n",
    "y_subset = y_test2"
   ]
  },
  {
   "cell_type": "code",
   "execution_count": 2,
   "metadata": {},
   "outputs": [
    {
     "data": {
      "text/plain": [
       "DecisionTreeClassifier(random_state=0)"
      ]
     },
     "execution_count": 2,
     "metadata": {},
     "output_type": "execute_result"
    }
   ],
   "source": [
    "from sklearn.tree import DecisionTreeClassifier\n",
    "treeD = DecisionTreeClassifier(random_state = 0)\n",
    "treeD.fit(X_train2, y_train2)"
   ]
  },
  {
   "cell_type": "code",
   "execution_count": 3,
   "metadata": {},
   "outputs": [
    {
     "name": "stdout",
     "output_type": "stream",
     "text": [
      "accuracy on training set: 1.000000\n",
      "accuracy on test set: 1.000000\n"
     ]
    }
   ],
   "source": [
    "print(\"accuracy on training set: %f\" % treeD.score(X_train2, y_train2))\n",
    "print(\"accuracy on test set: %f\" % treeD.score(X_subset, y_subset))"
   ]
  },
  {
   "cell_type": "code",
   "execution_count": 6,
   "metadata": {},
   "outputs": [
    {
     "data": {
      "text/plain": [
       "[['0.6251435175471661', 'odor_n'],\n",
       " ['0.1691757144252228', 'stalk-root_c'],\n",
       " ['0.08658915843078754', 'stalk-root_r'],\n",
       " ['0.03437506344670402', 'spore-print-color_r'],\n",
       " ['0.023503682936672883', 'odor_l']]"
      ]
     },
     "execution_count": 6,
     "metadata": {},
     "output_type": "execute_result"
    }
   ],
   "source": [
    "importance = treeD.feature_importances_\n",
    "features_val = []\n",
    "for i, v in enumerate(importance):\n",
    "    features_val.append([v, X_train2.columns[i]])\n",
    "features_val.sort(reverse=True)\n",
    "features = np.array(features_val)\n",
    "features = features[:5]\n",
    "features = features.tolist()\n",
    "features"
   ]
  },
  {
   "cell_type": "code",
   "execution_count": 7,
   "metadata": {},
   "outputs": [
    {
     "data": {
      "text/plain": [
       "(array([0.83370474, 0.93943926, 0.99101417, 1.        , 1.        ,\n",
       "        1.        ]),\n",
       " array([0.83160092, 0.93747958, 0.9901502 , 1.        , 0.99852459,\n",
       "        0.52240229]))"
      ]
     },
     "execution_count": 7,
     "metadata": {},
     "output_type": "execute_result"
    }
   ],
   "source": [
    "from sklearn.svm import SVC\n",
    "from sklearn.model_selection import validation_curve\n",
    "svc_Val = SVC(kernel='rbf', C=1, random_state=0)\n",
    "gamma = np.logspace(-4, 1, 6)\n",
    "train_scores, test_scores = validation_curve(svc_Val, X_subset, y_subset, param_name='gamma',\n",
    "                param_range=gamma, scoring='accuracy')\n",
    "scores = (train_scores.mean(axis = 1), test_scores.mean(axis=1))\n",
    "scores"
   ]
  },
  {
   "cell_type": "code",
   "execution_count": 10,
   "metadata": {},
   "outputs": [
    {
     "name": "stdout",
     "output_type": "stream",
     "text": [
      "0.0001\n",
      "0.001\n",
      "0.01\n",
      "0.1\n",
      "1.0\n",
      "10.0\n"
     ]
    }
   ],
   "source": [
    "import matplotlib.pyplot as plt\n",
    "for index, num in enumerate(np.logspace(-4,1,6)):\n",
    "    print(num)"
   ]
  },
  {
   "cell_type": "code",
   "execution_count": 16,
   "metadata": {},
   "outputs": [
    {
     "name": "stdout",
     "output_type": "stream",
     "text": [
      "(2031, 117)\n",
      "(2031,)\n"
     ]
    }
   ],
   "source": [
    "print(X_subset.shape)\n",
    "print(y_subset.shape)"
   ]
  },
  {
   "cell_type": "code",
   "execution_count": 18,
   "metadata": {},
   "outputs": [
    {
     "ename": "ValueError",
     "evalue": "x and y must have same first dimension, but have shapes (6,) and (1,)",
     "output_type": "error",
     "traceback": [
      "\u001b[1;31m---------------------------------------------------------------------------\u001b[0m",
      "\u001b[1;31mValueError\u001b[0m                                Traceback (most recent call last)",
      "\u001b[1;32md:\\repos\\CourseraPlus\\4_Applied ML with Python\\Course\\mushroom.ipynb Cell 8'\u001b[0m in \u001b[0;36m<module>\u001b[1;34m\u001b[0m\n\u001b[0;32m      <a href='vscode-notebook-cell:/d%3A/repos/CourseraPlus/4_Applied%20ML%20with%20Python/Course/mushroom.ipynb#ch0000008?line=5'>6</a>\u001b[0m plt\u001b[39m.\u001b[39msemilogx(gamma, train_scores, label\u001b[39m=\u001b[39m\u001b[39m\"\u001b[39m\u001b[39mTraining score\u001b[39m\u001b[39m\"\u001b[39m, color\u001b[39m=\u001b[39m\u001b[39m\"\u001b[39m\u001b[39mdarkorange\u001b[39m\u001b[39m\"\u001b[39m, lw\u001b[39m=\u001b[39mlw)\n\u001b[0;32m      <a href='vscode-notebook-cell:/d%3A/repos/CourseraPlus/4_Applied%20ML%20with%20Python/Course/mushroom.ipynb#ch0000008?line=6'>7</a>\u001b[0m plt\u001b[39m.\u001b[39mfill_between(gamma,train_scores\u001b[39m.\u001b[39mmean() \u001b[39m-\u001b[39m train_scores\u001b[39m.\u001b[39mstd(),train_scores\u001b[39m.\u001b[39mmean() \u001b[39m+\u001b[39m train_scores\u001b[39m.\u001b[39mstd(),\n\u001b[0;32m      <a href='vscode-notebook-cell:/d%3A/repos/CourseraPlus/4_Applied%20ML%20with%20Python/Course/mushroom.ipynb#ch0000008?line=7'>8</a>\u001b[0m     alpha\u001b[39m=\u001b[39m\u001b[39m0.2\u001b[39m,\n\u001b[0;32m      <a href='vscode-notebook-cell:/d%3A/repos/CourseraPlus/4_Applied%20ML%20with%20Python/Course/mushroom.ipynb#ch0000008?line=8'>9</a>\u001b[0m     color\u001b[39m=\u001b[39m\u001b[39m\"\u001b[39m\u001b[39mdarkorange\u001b[39m\u001b[39m\"\u001b[39m,\n\u001b[0;32m     <a href='vscode-notebook-cell:/d%3A/repos/CourseraPlus/4_Applied%20ML%20with%20Python/Course/mushroom.ipynb#ch0000008?line=9'>10</a>\u001b[0m     lw\u001b[39m=\u001b[39mlw,\n\u001b[0;32m     <a href='vscode-notebook-cell:/d%3A/repos/CourseraPlus/4_Applied%20ML%20with%20Python/Course/mushroom.ipynb#ch0000008?line=10'>11</a>\u001b[0m )\n\u001b[1;32m---> <a href='vscode-notebook-cell:/d%3A/repos/CourseraPlus/4_Applied%20ML%20with%20Python/Course/mushroom.ipynb#ch0000008?line=11'>12</a>\u001b[0m plt\u001b[39m.\u001b[39;49msemilogx(gamma, test_scores\u001b[39m.\u001b[39;49mmean(), label\u001b[39m=\u001b[39;49m\u001b[39m\"\u001b[39;49m\u001b[39mCross-validation score\u001b[39;49m\u001b[39m\"\u001b[39;49m, color\u001b[39m=\u001b[39;49m\u001b[39m\"\u001b[39;49m\u001b[39mnavy\u001b[39;49m\u001b[39m\"\u001b[39;49m, lw\u001b[39m=\u001b[39;49mlw)\n\u001b[0;32m     <a href='vscode-notebook-cell:/d%3A/repos/CourseraPlus/4_Applied%20ML%20with%20Python/Course/mushroom.ipynb#ch0000008?line=12'>13</a>\u001b[0m plt\u001b[39m.\u001b[39mfill_between(gamma, test_scores\u001b[39m.\u001b[39mmean() \u001b[39m-\u001b[39m test_scores\u001b[39m.\u001b[39mstd(),\n\u001b[0;32m     <a href='vscode-notebook-cell:/d%3A/repos/CourseraPlus/4_Applied%20ML%20with%20Python/Course/mushroom.ipynb#ch0000008?line=13'>14</a>\u001b[0m     test_scores\u001b[39m.\u001b[39mmean() \u001b[39m+\u001b[39m test_scores\u001b[39m.\u001b[39mstd(),\n\u001b[0;32m     <a href='vscode-notebook-cell:/d%3A/repos/CourseraPlus/4_Applied%20ML%20with%20Python/Course/mushroom.ipynb#ch0000008?line=14'>15</a>\u001b[0m     alpha\u001b[39m=\u001b[39m\u001b[39m0.2\u001b[39m,\n\u001b[0;32m     <a href='vscode-notebook-cell:/d%3A/repos/CourseraPlus/4_Applied%20ML%20with%20Python/Course/mushroom.ipynb#ch0000008?line=15'>16</a>\u001b[0m     color\u001b[39m=\u001b[39m\u001b[39m\"\u001b[39m\u001b[39mnavy\u001b[39m\u001b[39m\"\u001b[39m,\n\u001b[0;32m     <a href='vscode-notebook-cell:/d%3A/repos/CourseraPlus/4_Applied%20ML%20with%20Python/Course/mushroom.ipynb#ch0000008?line=16'>17</a>\u001b[0m     lw\u001b[39m=\u001b[39mlw)\n\u001b[0;32m     <a href='vscode-notebook-cell:/d%3A/repos/CourseraPlus/4_Applied%20ML%20with%20Python/Course/mushroom.ipynb#ch0000008?line=17'>18</a>\u001b[0m plt\u001b[39m.\u001b[39mlegend(loc\u001b[39m=\u001b[39m\u001b[39m\"\u001b[39m\u001b[39mbest\u001b[39m\u001b[39m\"\u001b[39m)\n",
      "File \u001b[1;32m~\\AppData\\Local\\Programs\\Python\\Python39\\lib\\site-packages\\matplotlib\\pyplot.py:2819\u001b[0m, in \u001b[0;36msemilogx\u001b[1;34m(*args, **kwargs)\u001b[0m\n\u001b[0;32m   <a href='file:///c%3A/Users/SYED/AppData/Local/Programs/Python/Python39/lib/site-packages/matplotlib/pyplot.py?line=2816'>2817</a>\u001b[0m \u001b[39m@_copy_docstring_and_deprecators\u001b[39m(Axes\u001b[39m.\u001b[39msemilogx)\n\u001b[0;32m   <a href='file:///c%3A/Users/SYED/AppData/Local/Programs/Python/Python39/lib/site-packages/matplotlib/pyplot.py?line=2817'>2818</a>\u001b[0m \u001b[39mdef\u001b[39;00m \u001b[39msemilogx\u001b[39m(\u001b[39m*\u001b[39margs, \u001b[39m*\u001b[39m\u001b[39m*\u001b[39mkwargs):\n\u001b[1;32m-> <a href='file:///c%3A/Users/SYED/AppData/Local/Programs/Python/Python39/lib/site-packages/matplotlib/pyplot.py?line=2818'>2819</a>\u001b[0m     \u001b[39mreturn\u001b[39;00m gca()\u001b[39m.\u001b[39msemilogx(\u001b[39m*\u001b[39margs, \u001b[39m*\u001b[39m\u001b[39m*\u001b[39mkwargs)\n",
      "File \u001b[1;32m~\\AppData\\Local\\Programs\\Python\\Python39\\lib\\site-packages\\matplotlib\\axes\\_axes.py:1817\u001b[0m, in \u001b[0;36mAxes.semilogx\u001b[1;34m(self, *args, **kwargs)\u001b[0m\n\u001b[0;32m   <a href='file:///c%3A/Users/SYED/AppData/Local/Programs/Python/Python39/lib/site-packages/matplotlib/axes/_axes.py?line=1812'>1813</a>\u001b[0m d \u001b[39m=\u001b[39m {k: v \u001b[39mfor\u001b[39;00m k, v \u001b[39min\u001b[39;00m kwargs\u001b[39m.\u001b[39mitems()\n\u001b[0;32m   <a href='file:///c%3A/Users/SYED/AppData/Local/Programs/Python/Python39/lib/site-packages/matplotlib/axes/_axes.py?line=1813'>1814</a>\u001b[0m      \u001b[39mif\u001b[39;00m k \u001b[39min\u001b[39;00m [\u001b[39m'\u001b[39m\u001b[39mbase\u001b[39m\u001b[39m'\u001b[39m, \u001b[39m'\u001b[39m\u001b[39msubs\u001b[39m\u001b[39m'\u001b[39m, \u001b[39m'\u001b[39m\u001b[39mnonpositive\u001b[39m\u001b[39m'\u001b[39m,\n\u001b[0;32m   <a href='file:///c%3A/Users/SYED/AppData/Local/Programs/Python/Python39/lib/site-packages/matplotlib/axes/_axes.py?line=1814'>1815</a>\u001b[0m               \u001b[39m'\u001b[39m\u001b[39mbasex\u001b[39m\u001b[39m'\u001b[39m, \u001b[39m'\u001b[39m\u001b[39msubsx\u001b[39m\u001b[39m'\u001b[39m, \u001b[39m'\u001b[39m\u001b[39mnonposx\u001b[39m\u001b[39m'\u001b[39m]}\n\u001b[0;32m   <a href='file:///c%3A/Users/SYED/AppData/Local/Programs/Python/Python39/lib/site-packages/matplotlib/axes/_axes.py?line=1815'>1816</a>\u001b[0m \u001b[39mself\u001b[39m\u001b[39m.\u001b[39mset_xscale(\u001b[39m'\u001b[39m\u001b[39mlog\u001b[39m\u001b[39m'\u001b[39m, \u001b[39m*\u001b[39m\u001b[39m*\u001b[39md)\n\u001b[1;32m-> <a href='file:///c%3A/Users/SYED/AppData/Local/Programs/Python/Python39/lib/site-packages/matplotlib/axes/_axes.py?line=1816'>1817</a>\u001b[0m \u001b[39mreturn\u001b[39;00m \u001b[39mself\u001b[39m\u001b[39m.\u001b[39mplot(\n\u001b[0;32m   <a href='file:///c%3A/Users/SYED/AppData/Local/Programs/Python/Python39/lib/site-packages/matplotlib/axes/_axes.py?line=1817'>1818</a>\u001b[0m     \u001b[39m*\u001b[39margs, \u001b[39m*\u001b[39m\u001b[39m*\u001b[39m{k: v \u001b[39mfor\u001b[39;00m k, v \u001b[39min\u001b[39;00m kwargs\u001b[39m.\u001b[39mitems() \u001b[39mif\u001b[39;00m k \u001b[39mnot\u001b[39;00m \u001b[39min\u001b[39;00m d})\n",
      "File \u001b[1;32m~\\AppData\\Local\\Programs\\Python\\Python39\\lib\\site-packages\\matplotlib\\axes\\_axes.py:1632\u001b[0m, in \u001b[0;36mAxes.plot\u001b[1;34m(self, scalex, scaley, data, *args, **kwargs)\u001b[0m\n\u001b[0;32m   <a href='file:///c%3A/Users/SYED/AppData/Local/Programs/Python/Python39/lib/site-packages/matplotlib/axes/_axes.py?line=1389'>1390</a>\u001b[0m \u001b[39m\"\"\"\u001b[39;00m\n\u001b[0;32m   <a href='file:///c%3A/Users/SYED/AppData/Local/Programs/Python/Python39/lib/site-packages/matplotlib/axes/_axes.py?line=1390'>1391</a>\u001b[0m \u001b[39mPlot y versus x as lines and/or markers.\u001b[39;00m\n\u001b[0;32m   <a href='file:///c%3A/Users/SYED/AppData/Local/Programs/Python/Python39/lib/site-packages/matplotlib/axes/_axes.py?line=1391'>1392</a>\u001b[0m \n\u001b[1;32m   (...)\u001b[0m\n\u001b[0;32m   <a href='file:///c%3A/Users/SYED/AppData/Local/Programs/Python/Python39/lib/site-packages/matplotlib/axes/_axes.py?line=1628'>1629</a>\u001b[0m \u001b[39m(``'green'``) or hex strings (``'#008000'``).\u001b[39;00m\n\u001b[0;32m   <a href='file:///c%3A/Users/SYED/AppData/Local/Programs/Python/Python39/lib/site-packages/matplotlib/axes/_axes.py?line=1629'>1630</a>\u001b[0m \u001b[39m\"\"\"\u001b[39;00m\n\u001b[0;32m   <a href='file:///c%3A/Users/SYED/AppData/Local/Programs/Python/Python39/lib/site-packages/matplotlib/axes/_axes.py?line=1630'>1631</a>\u001b[0m kwargs \u001b[39m=\u001b[39m cbook\u001b[39m.\u001b[39mnormalize_kwargs(kwargs, mlines\u001b[39m.\u001b[39mLine2D)\n\u001b[1;32m-> <a href='file:///c%3A/Users/SYED/AppData/Local/Programs/Python/Python39/lib/site-packages/matplotlib/axes/_axes.py?line=1631'>1632</a>\u001b[0m lines \u001b[39m=\u001b[39m [\u001b[39m*\u001b[39m\u001b[39mself\u001b[39m\u001b[39m.\u001b[39m_get_lines(\u001b[39m*\u001b[39margs, data\u001b[39m=\u001b[39mdata, \u001b[39m*\u001b[39m\u001b[39m*\u001b[39mkwargs)]\n\u001b[0;32m   <a href='file:///c%3A/Users/SYED/AppData/Local/Programs/Python/Python39/lib/site-packages/matplotlib/axes/_axes.py?line=1632'>1633</a>\u001b[0m \u001b[39mfor\u001b[39;00m line \u001b[39min\u001b[39;00m lines:\n\u001b[0;32m   <a href='file:///c%3A/Users/SYED/AppData/Local/Programs/Python/Python39/lib/site-packages/matplotlib/axes/_axes.py?line=1633'>1634</a>\u001b[0m     \u001b[39mself\u001b[39m\u001b[39m.\u001b[39madd_line(line)\n",
      "File \u001b[1;32m~\\AppData\\Local\\Programs\\Python\\Python39\\lib\\site-packages\\matplotlib\\axes\\_base.py:312\u001b[0m, in \u001b[0;36m_process_plot_var_args.__call__\u001b[1;34m(self, data, *args, **kwargs)\u001b[0m\n\u001b[0;32m    <a href='file:///c%3A/Users/SYED/AppData/Local/Programs/Python/Python39/lib/site-packages/matplotlib/axes/_base.py?line=309'>310</a>\u001b[0m     this \u001b[39m+\u001b[39m\u001b[39m=\u001b[39m args[\u001b[39m0\u001b[39m],\n\u001b[0;32m    <a href='file:///c%3A/Users/SYED/AppData/Local/Programs/Python/Python39/lib/site-packages/matplotlib/axes/_base.py?line=310'>311</a>\u001b[0m     args \u001b[39m=\u001b[39m args[\u001b[39m1\u001b[39m:]\n\u001b[1;32m--> <a href='file:///c%3A/Users/SYED/AppData/Local/Programs/Python/Python39/lib/site-packages/matplotlib/axes/_base.py?line=311'>312</a>\u001b[0m \u001b[39myield from\u001b[39;00m \u001b[39mself\u001b[39;49m\u001b[39m.\u001b[39;49m_plot_args(this, kwargs)\n",
      "File \u001b[1;32m~\\AppData\\Local\\Programs\\Python\\Python39\\lib\\site-packages\\matplotlib\\axes\\_base.py:498\u001b[0m, in \u001b[0;36m_process_plot_var_args._plot_args\u001b[1;34m(self, tup, kwargs, return_kwargs)\u001b[0m\n\u001b[0;32m    <a href='file:///c%3A/Users/SYED/AppData/Local/Programs/Python/Python39/lib/site-packages/matplotlib/axes/_base.py?line=494'>495</a>\u001b[0m     \u001b[39mself\u001b[39m\u001b[39m.\u001b[39maxes\u001b[39m.\u001b[39myaxis\u001b[39m.\u001b[39mupdate_units(y)\n\u001b[0;32m    <a href='file:///c%3A/Users/SYED/AppData/Local/Programs/Python/Python39/lib/site-packages/matplotlib/axes/_base.py?line=496'>497</a>\u001b[0m \u001b[39mif\u001b[39;00m x\u001b[39m.\u001b[39mshape[\u001b[39m0\u001b[39m] \u001b[39m!=\u001b[39m y\u001b[39m.\u001b[39mshape[\u001b[39m0\u001b[39m]:\n\u001b[1;32m--> <a href='file:///c%3A/Users/SYED/AppData/Local/Programs/Python/Python39/lib/site-packages/matplotlib/axes/_base.py?line=497'>498</a>\u001b[0m     \u001b[39mraise\u001b[39;00m \u001b[39mValueError\u001b[39;00m(\u001b[39mf\u001b[39m\u001b[39m\"\u001b[39m\u001b[39mx and y must have same first dimension, but \u001b[39m\u001b[39m\"\u001b[39m\n\u001b[0;32m    <a href='file:///c%3A/Users/SYED/AppData/Local/Programs/Python/Python39/lib/site-packages/matplotlib/axes/_base.py?line=498'>499</a>\u001b[0m                      \u001b[39mf\u001b[39m\u001b[39m\"\u001b[39m\u001b[39mhave shapes \u001b[39m\u001b[39m{\u001b[39;00mx\u001b[39m.\u001b[39mshape\u001b[39m}\u001b[39;00m\u001b[39m and \u001b[39m\u001b[39m{\u001b[39;00my\u001b[39m.\u001b[39mshape\u001b[39m}\u001b[39;00m\u001b[39m\"\u001b[39m)\n\u001b[0;32m    <a href='file:///c%3A/Users/SYED/AppData/Local/Programs/Python/Python39/lib/site-packages/matplotlib/axes/_base.py?line=499'>500</a>\u001b[0m \u001b[39mif\u001b[39;00m x\u001b[39m.\u001b[39mndim \u001b[39m>\u001b[39m \u001b[39m2\u001b[39m \u001b[39mor\u001b[39;00m y\u001b[39m.\u001b[39mndim \u001b[39m>\u001b[39m \u001b[39m2\u001b[39m:\n\u001b[0;32m    <a href='file:///c%3A/Users/SYED/AppData/Local/Programs/Python/Python39/lib/site-packages/matplotlib/axes/_base.py?line=500'>501</a>\u001b[0m     \u001b[39mraise\u001b[39;00m \u001b[39mValueError\u001b[39;00m(\u001b[39mf\u001b[39m\u001b[39m\"\u001b[39m\u001b[39mx and y can be no greater than 2D, but have \u001b[39m\u001b[39m\"\u001b[39m\n\u001b[0;32m    <a href='file:///c%3A/Users/SYED/AppData/Local/Programs/Python/Python39/lib/site-packages/matplotlib/axes/_base.py?line=501'>502</a>\u001b[0m                      \u001b[39mf\u001b[39m\u001b[39m\"\u001b[39m\u001b[39mshapes \u001b[39m\u001b[39m{\u001b[39;00mx\u001b[39m.\u001b[39mshape\u001b[39m}\u001b[39;00m\u001b[39m and \u001b[39m\u001b[39m{\u001b[39;00my\u001b[39m.\u001b[39mshape\u001b[39m}\u001b[39;00m\u001b[39m\"\u001b[39m)\n",
      "\u001b[1;31mValueError\u001b[0m: x and y must have same first dimension, but have shapes (6,) and (1,)"
     ]
    },
    {
     "data": {
      "image/png": "[encoded data removed]",
      "text/plain": [
       "<Figure size 432x288 with 1 Axes>"
      ]
     },
     "metadata": {
      "needs_background": "light"
     },
     "output_type": "display_data"
    }
   ],
   "source": [
    "plt.title(\"Validation Curve with SVM\")\n",
    "plt.xlabel(\"gamma\")\n",
    "plt.ylabel(\"Score\")\n",
    "plt.ylim(0.0, 1.1)\n",
    "lw = 2\n",
    "plt.semilogx(gamma, train_scores, label=\"Training score\", color=\"darkorange\", lw=lw)\n",
    "plt.fill_between(gamma,train_scores.mean() - train_scores.std(),train_scores.mean() + train_scores.std(),\n",
    "    alpha=0.2,\n",
    "    color=\"darkorange\",\n",
    "    lw=lw,\n",
    ")\n",
    "plt.semilogx(gamma, test_scores.mean(), label=\"Cross-validation score\", color=\"navy\", lw=lw)\n",
    "plt.fill_between(gamma, test_scores.mean() - test_scores.std(),\n",
    "    test_scores.mean() + test_scores.std(),\n",
    "    alpha=0.2,\n",
    "    color=\"navy\",\n",
    "    lw=lw)\n",
    "plt.legend(loc=\"best\")\n",
    "plt.show()"
   ]
  }
 ],
 "metadata": {
  "interpreter": {
   "hash": "9d29751b9c50b4a5a9fab6671c93244ef4f12ebae2068148cfeee9e49cc55480"
  },
  "kernelspec": {
   "display_name": "Python 3.9.6 64-bit",
   "language": "python",
   "name": "python3"
  },
  "language_info": {
   "codemirror_mode": {
    "name": "ipython",
    "version": 3
   },
   "file_extension": ".py",
   "mimetype": "text/x-python",
   "name": "python",
   "nbconvert_exporter": "python",
   "pygments_lexer": "ipython3",
   "version": "3.9.6"
  },
  "orig_nbformat": 4
 },
 "nbformat": 4,
 "nbformat_minor": 2
}
