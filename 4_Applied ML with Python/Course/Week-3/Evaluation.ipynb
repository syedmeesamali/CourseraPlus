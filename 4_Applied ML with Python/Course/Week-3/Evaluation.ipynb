{
 "cells": [
  {
   "cell_type": "markdown",
   "metadata": {},
   "source": [
    "## Evaluation of ML models"
   ]
  },
  {
   "cell_type": "markdown",
   "metadata": {},
   "source": [
    "### 1. Load the libraries"
   ]
  },
  {
   "cell_type": "code",
   "execution_count": 1,
   "metadata": {},
   "outputs": [],
   "source": [
    "import numpy as np\n",
    "import pandas as pd\n",
    "import seaborn as sns\n",
    "import matplotlib.pyplot as plt\n",
    "import warnings\n",
    "warnings.filterwarnings('ignore')\n",
    "\n",
    "from sklearn.datasets import load_digits\n",
    "from sklearn.model_selection import train_test_split\n",
    "from adspy_shared_utilities import plot_class_regions_for_classifier\n",
    "from sklearn.svm import SVC\n",
    "from sklearn.model_selection import GridSearchCV"
   ]
  },
  {
   "cell_type": "markdown",
   "metadata": {},
   "source": [
    "### 2. Load the digits dataset"
   ]
  },
  {
   "cell_type": "code",
   "execution_count": 12,
   "metadata": {},
   "outputs": [
    {
     "name": "stdout",
     "output_type": "stream",
     "text": [
      "0 178\n",
      "1 182\n",
      "2 177\n",
      "3 183\n",
      "4 181\n",
      "5 182\n",
      "6 181\n",
      "7 179\n",
      "8 174\n",
      "9 180\n"
     ]
    }
   ],
   "source": [
    "dataset = load_digits()\n",
    "X, y = dataset.data, dataset.target\n",
    "for class_name, class_count in zip(dataset.target_names, np.bincount(dataset.target)):\n",
    "    print(class_name,class_count)\n",
    "\n",
    "y_binary_imbalanced = y.copy()\n",
    "y_binary_imbalanced[y_binary_imbalanced != 1] = 0\n",
    "#print(\"original labels: \", y[1:30])\n",
    "#print(\"new labels: \", y_binary_imbalanced[1:30])"
   ]
  },
  {
   "cell_type": "markdown",
   "metadata": {},
   "source": [
    "### 3. SVM Classifier & confusion matrix"
   ]
  },
  {
   "cell_type": "code",
   "execution_count": 23,
   "metadata": {},
   "outputs": [
    {
     "name": "stdout",
     "output_type": "stream",
     "text": [
      "SVM (linear, C=1): \n",
      " [[402   5]\n",
      " [  5  38]]\n",
      "SVM (rbf, C=1): \n",
      " [[407   0]\n",
      " [  2  41]]\n"
     ]
    }
   ],
   "source": [
    "from sklearn.svm import SVC\n",
    "from sklearn.metrics import confusion_matrix\n",
    "X_train, X_test, y_train, y_test = train_test_split(X, y_binary_imbalanced, random_state = 0)\n",
    "\n",
    "#linear kernel with C=1\n",
    "svm_linear = SVC(kernel='linear', C=1).fit(X_train, y_train)\n",
    "svm_pred = svm_linear.predict(X_test)\n",
    "confusion_svm_linear = confusion_matrix(y_test, svm_pred)\n",
    "print(\"SVM (linear, C=1): \\n\", confusion_svm_linear)\n",
    "\n",
    "#linear kernel with C=1\n",
    "svm_rbf = SVC(kernel='rbf', C=1).fit(X_train, y_train)\n",
    "svm_pred = svm_rbf.predict(X_test)\n",
    "confusion_svm_rbf = confusion_matrix(y_test, svm_pred)\n",
    "print(\"SVM (rbf, C=1): \\n\", confusion_svm_rbf)"
   ]
  },
  {
   "cell_type": "code",
   "execution_count": 24,
   "metadata": {},
   "outputs": [
    {
     "name": "stdout",
     "output_type": "stream",
     "text": [
      "SVM (rbf, C=1, gamma = 0.01): \n",
      " [[407   0]\n",
      " [ 41   2]]\n",
      "SVM (rbf, C=1, gamma = 0.1): \n",
      " [[407   0]\n",
      " [ 43   0]]\n",
      "SVM (rbf, C=1, gamma = 1): \n",
      " [[407   0]\n",
      " [ 43   0]]\n",
      "SVM (rbf, C=1, gamma = 10): \n",
      " [[407   0]\n",
      " [ 43   0]]\n"
     ]
    }
   ],
   "source": [
    "#linear kernel with C=1\n",
    "svm_rbf = SVC(kernel='rbf', C=1, gamma=0.01).fit(X_train, y_train)\n",
    "svm_pred = svm_rbf.predict(X_test)\n",
    "confusion_svm_rbf = confusion_matrix(y_test, svm_pred)\n",
    "print(\"SVM (rbf, C=1, gamma = 0.01): \\n\", confusion_svm_rbf)\n",
    "\n",
    "svm_rbf = SVC(kernel='rbf', C=1, gamma=0.1).fit(X_train, y_train)\n",
    "svm_pred = svm_rbf.predict(X_test)\n",
    "confusion_svm_rbf = confusion_matrix(y_test, svm_pred)\n",
    "print(\"SVM (rbf, C=1, gamma = 0.1): \\n\", confusion_svm_rbf)\n",
    "\n",
    "svm_rbf = SVC(kernel='rbf', C=1, gamma=1).fit(X_train, y_train)\n",
    "svm_pred = svm_rbf.predict(X_test)\n",
    "confusion_svm_rbf = confusion_matrix(y_test, svm_pred)\n",
    "print(\"SVM (rbf, C=1, gamma = 1): \\n\", confusion_svm_rbf)\n",
    "\n",
    "svm_rbf = SVC(kernel='rbf', C=1, gamma=10).fit(X_train, y_train)\n",
    "svm_pred = svm_rbf.predict(X_test)\n",
    "confusion_svm_rbf = confusion_matrix(y_test, svm_pred)\n",
    "print(\"SVM (rbf, C=1, gamma = 10): \\n\", confusion_svm_rbf)"
   ]
  },
  {
   "cell_type": "markdown",
   "metadata": {},
   "source": [
    "### 4. Classification Report"
   ]
  },
  {
   "cell_type": "code",
   "execution_count": 15,
   "metadata": {},
   "outputs": [
    {
     "name": "stdout",
     "output_type": "stream",
     "text": [
      "Classification report: \n",
      "               precision    recall  f1-score   support\n",
      "\n",
      "           0       1.00      1.00      1.00       407\n",
      "           1       1.00      0.95      0.98        43\n",
      "\n",
      "    accuracy                           1.00       450\n",
      "   macro avg       1.00      0.98      0.99       450\n",
      "weighted avg       1.00      1.00      1.00       450\n",
      "\n"
     ]
    }
   ],
   "source": [
    "from sklearn.metrics import classification_report\n",
    "print(\"Classification report: \\n\", classification_report(y_test, svm_pred))"
   ]
  },
  {
   "cell_type": "markdown",
   "metadata": {},
   "source": [
    "### 5. Cross validation score"
   ]
  },
  {
   "cell_type": "code",
   "execution_count": 5,
   "metadata": {},
   "outputs": [
    {
     "name": "stdout",
     "output_type": "stream",
     "text": [
      "Cross-validation (accuracy) [0.91944444 0.98611111 0.97214485 0.97493036 0.96935933]\n",
      "Cross-validation (AUC) [0.9641871  0.9976571  0.99372205 0.99699002 0.98675611]\n",
      "Cross-validation (recall) [0.81081081 0.89189189 0.83333333 0.83333333 0.83333333]\n"
     ]
    }
   ],
   "source": [
    "from sklearn.model_selection import cross_val_score\n",
    "from sklearn.svm import SVC\n",
    "dataset = load_digits()\n",
    "X, y = dataset.data, dataset.target == 1\n",
    "clf = SVC(kernel='linear', C=1)\n",
    "\n",
    "print('Cross-validation (accuracy)', cross_val_score(clf, X, y, cv=5))\n",
    "print('Cross-validation (AUC)', cross_val_score(clf, X, y, cv=5, scoring = 'roc_auc'))\n",
    "print('Cross-validation (recall)', cross_val_score(clf, X, y, cv=5, scoring = 'recall'))"
   ]
  },
  {
   "cell_type": "markdown",
   "metadata": {},
   "source": [
    "### 6. GridSearchCV Evaluation Metrics"
   ]
  },
  {
   "cell_type": "markdown",
   "metadata": {},
   "source": [
    "#### 6a. Load the data"
   ]
  },
  {
   "cell_type": "code",
   "execution_count": 16,
   "metadata": {},
   "outputs": [],
   "source": [
    "from sklearn.svm import SVC\n",
    "from sklearn.model_selection import GridSearchCV\n",
    "from sklearn.metrics import roc_auc_score\n",
    "from sklearn.metrics import precision_score\n",
    "from sklearn.metrics import recall_score\n",
    "\n",
    "dataset = load_digits()\n",
    "X, y = dataset.data, dataset.target == 1\n",
    "X_train, X_test, y_train, y_test = train_test_split(X, y, random_state=0)\n",
    "\n",
    "clf = SVC(kernel='rbf')\n",
    "svm_rbf = SVC(kernel='rbf', C=1).fit(X_train, y_train)\n",
    "svm_pred = svm_rbf.predict(X_test)\n",
    "grid_values = {'gamma': [0.01, 0.1, 1, 10]}"
   ]
  },
  {
   "cell_type": "markdown",
   "metadata": {},
   "source": [
    "#### 6b. Check the ACCURACY"
   ]
  },
  {
   "cell_type": "code",
   "execution_count": 17,
   "metadata": {},
   "outputs": [
    {
     "name": "stdout",
     "output_type": "stream",
     "text": [
      "Grid best parameter (max. accuracy):  {'gamma': 0.01}\n",
      "Grid best score (accuracy):  0.9205672587085226\n"
     ]
    }
   ],
   "source": [
    "grid_clf_acc = GridSearchCV(clf, param_grid = grid_values)\n",
    "grid_clf_acc.fit(X_train, y_train)\n",
    "y_decision_fn_scores_acc = grid_clf_acc.decision_function(X_test) \n",
    "\n",
    "print('Grid best parameter (max. accuracy): ', grid_clf_acc.best_params_)\n",
    "print('Grid best score (accuracy): ', grid_clf_acc.best_score_)"
   ]
  },
  {
   "cell_type": "markdown",
   "metadata": {},
   "source": [
    "#### 6c. Check the PARAMETERS (precision, recall, accuracy, f1) based on provided GAMMA values"
   ]
  },
  {
   "cell_type": "code",
   "execution_count": 22,
   "metadata": {},
   "outputs": [
    {
     "name": "stdout",
     "output_type": "stream",
     "text": [
      "Support Vector Classifier (rbf): gamma = 0.01\n",
      "Accuracy: 0.9088888888888889\n",
      "Precision: 1.0\n",
      "Recall: 0.046511627906976744\n",
      "Classification report: \n",
      "               precision    recall  f1-score   support\n",
      "\n",
      "       False       0.91      1.00      0.95       407\n",
      "        True       1.00      0.05      0.09        43\n",
      "\n",
      "    accuracy                           0.91       450\n",
      "   macro avg       0.95      0.52      0.52       450\n",
      "weighted avg       0.92      0.91      0.87       450\n",
      "\n",
      "Support Vector Classifier (rbf): gamma = 0.10\n",
      "Accuracy: 0.9044444444444445\n",
      "Precision: 0.0\n",
      "Recall: 0.0\n",
      "Classification report: \n",
      "               precision    recall  f1-score   support\n",
      "\n",
      "       False       0.90      1.00      0.95       407\n",
      "        True       0.00      0.00      0.00        43\n",
      "\n",
      "    accuracy                           0.90       450\n",
      "   macro avg       0.45      0.50      0.47       450\n",
      "weighted avg       0.82      0.90      0.86       450\n",
      "\n",
      "Support Vector Classifier (rbf): gamma = 1.00\n",
      "Accuracy: 0.9044444444444445\n",
      "Precision: 0.0\n",
      "Recall: 0.0\n",
      "Classification report: \n",
      "               precision    recall  f1-score   support\n",
      "\n",
      "       False       0.90      1.00      0.95       407\n",
      "        True       0.00      0.00      0.00        43\n",
      "\n",
      "    accuracy                           0.90       450\n",
      "   macro avg       0.45      0.50      0.47       450\n",
      "weighted avg       0.82      0.90      0.86       450\n",
      "\n",
      "Support Vector Classifier (rbf): gamma = 10.00\n",
      "Accuracy: 0.9044444444444445\n",
      "Precision: 0.0\n",
      "Recall: 0.0\n",
      "Classification report: \n",
      "               precision    recall  f1-score   support\n",
      "\n",
      "       False       0.90      1.00      0.95       407\n",
      "        True       0.00      0.00      0.00        43\n",
      "\n",
      "    accuracy                           0.90       450\n",
      "   macro avg       0.45      0.50      0.47       450\n",
      "weighted avg       0.82      0.90      0.86       450\n",
      "\n"
     ]
    }
   ],
   "source": [
    "dataset = load_digits()\n",
    "X, y = dataset.data, dataset.target == 1\n",
    "X_train, X_test, y_train, y_test = train_test_split(X, y, random_state=0)\n",
    "from sklearn.metrics import classification_report\n",
    "\n",
    "from sklearn.metrics import accuracy_score, precision_score, recall_score\n",
    "for this_gamma in [0.01, 0.1, 1.0, 10.0]:\n",
    "    clf = SVC(gamma=this_gamma, C=1).fit(X_train, y_train)\n",
    "    clf_pred = clf.predict(X_test)\n",
    "    print('Support Vector Classifier (rbf): gamma = {:.2f}'.format(this_gamma))\n",
    "    print('Accuracy: {}'.format(accuracy_score(y_test, clf_pred)))\n",
    "    print('Precision: {}'.format(precision_score(y_test, clf_pred)))\n",
    "    print('Recall: {}'.format(recall_score(y_test, clf_pred)))\n",
    "    print(\"Classification report: \\n\", classification_report(y_test, clf_pred))"
   ]
  },
  {
   "cell_type": "markdown",
   "metadata": {},
   "source": [
    "### 7. Simple GridSearch Example Test"
   ]
  },
  {
   "cell_type": "code",
   "execution_count": 10,
   "metadata": {},
   "outputs": [
    {
     "name": "stdout",
     "output_type": "stream",
     "text": [
      "Size of training set: 112 size of test set: 38\n",
      "best score:  0.9736842105263158\n",
      "best parameters:  {'C': 10, 'gamma': 0.01}\n"
     ]
    }
   ],
   "source": [
    "from sklearn.datasets import load_iris\n",
    "iris = load_iris()\n",
    "from sklearn.svm import SVC\n",
    "X_train, X_test, y_train, y_test = train_test_split(iris.data, iris.target, random_state=0)\n",
    "print(\"Size of training set: %d size of test set: %d\" % (X_train.shape[0], X_test.shape[0]))\n",
    "best_score = 0\n",
    "for gamma in [0.01, 0.1, 1, 10]:\n",
    "    for C in [0.01, 0.1, 1, 10]:\n",
    "        svm = SVC(gamma=gamma, C=C)\n",
    "        svm.fit(X_train, y_train)\n",
    "        score = svm.score(X_test, y_test)\n",
    "        if score > best_score:\n",
    "            best_score = score\n",
    "            best_parameters = {'C': C, 'gamma': gamma}\n",
    "\n",
    "print(\"best score: \", best_score)\n",
    "print(\"best parameters: \", best_parameters)"
   ]
  }
 ],
 "metadata": {
  "interpreter": {
   "hash": "1baa965d5efe3ac65b79dfc60c0d706280b1da80fedb7760faf2759126c4f253"
  },
  "kernelspec": {
   "display_name": "Python 3.8.6 64-bit",
   "language": "python",
   "name": "python3"
  },
  "language_info": {
   "codemirror_mode": {
    "name": "ipython",
    "version": 3
   },
   "file_extension": ".py",
   "mimetype": "text/x-python",
   "name": "python",
   "nbconvert_exporter": "python",
   "pygments_lexer": "ipython3",
   "version": "3.8.6"
  },
  "orig_nbformat": 4
 },
 "nbformat": 4,
 "nbformat_minor": 2
}
