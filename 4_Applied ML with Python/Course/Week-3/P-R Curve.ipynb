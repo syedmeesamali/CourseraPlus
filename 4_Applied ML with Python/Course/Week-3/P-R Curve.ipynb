{
 "cells": [
  {
   "cell_type": "markdown",
   "metadata": {},
   "source": [
    "## 1. Load libraries"
   ]
  },
  {
   "cell_type": "code",
   "execution_count": 1,
   "metadata": {},
   "outputs": [],
   "source": [
    "from sklearn.model_selection import train_test_split, GridSearchCV\n",
    "from sklearn.svm import SVC\n",
    "from sklearn.metrics import confusion_matrix, precision_recall_curve\n",
    "import numpy as np\n",
    "import matplotlib.pyplot as plt\n",
    "from sklearn.datasets import load_digits\n",
    "\n",
    "import warnings\n",
    "warnings.filterwarnings('ignore')"
   ]
  },
  {
   "cell_type": "markdown",
   "metadata": {},
   "source": [
    "## 2. Arrange Data"
   ]
  },
  {
   "cell_type": "code",
   "execution_count": 8,
   "metadata": {},
   "outputs": [],
   "source": [
    "dataset = load_digits()\n",
    "X, y = dataset.data, dataset.target\n",
    "y_binary_imbalanced = y.copy()\n",
    "y_binary_imbalanced[y_binary_imbalanced != 1] = 0\n",
    "X_train, X_test, y_train, y_test = train_test_split(X, y_binary_imbalanced, random_state = 0)"
   ]
  },
  {
   "cell_type": "markdown",
   "metadata": {},
   "source": [
    "## 3. Precision - Recall Parameter Tuning - GridSearchCV"
   ]
  },
  {
   "cell_type": "code",
   "execution_count": 9,
   "metadata": {},
   "outputs": [
    {
     "name": "stdout",
     "output_type": "stream",
     "text": [
      "Recall scoring:\n",
      " Best Gamma: {'C': 10, 'gamma': 0.01}\n",
      " Best Score: 0.27301587301587305\n",
      "Precision scoring:\n",
      " Best Gamma: {'C': 1, 'gamma': 0.01}\n",
      " Best Score: 1.0\n"
     ]
    }
   ],
   "source": [
    "# defining parameter range\n",
    "param_grid = {'C': [0.01, 0.1, 1, 10],\n",
    "              'gamma': [0.01, 0.1, 1, 10]}\n",
    "\n",
    "clf = SVC(kernel = 'rbf')\n",
    "\n",
    "gridsearch_recall = GridSearchCV(clf,  param_grid = param_grid, cv = 5, scoring = 'recall')\n",
    "gridsearch_recall.fit(X_train,y_train)\n",
    "\n",
    "gridsearch_precision = GridSearchCV(clf, param_grid = param_grid, cv = 5, scoring = 'precision')\n",
    "gridsearch_precision.fit(X_train,y_train)\n",
    "\n",
    "print('Recall scoring:\\n Best Gamma: {}\\n Best Score: {}'\n",
    "        .format(gridsearch_recall.best_params_, gridsearch_recall.best_score_))\n",
    "print('Precision scoring:\\n Best Gamma: {}\\n Best Score: {}'\n",
    "        .format(gridsearch_precision.best_params_, gridsearch_precision.best_score_))"
   ]
  },
  {
   "cell_type": "markdown",
   "metadata": {},
   "source": [
    "## 4. Check above scores separately"
   ]
  },
  {
   "cell_type": "code",
   "execution_count": 10,
   "metadata": {},
   "outputs": [
    {
     "name": "stdout",
     "output_type": "stream",
     "text": [
      "Recall for gamma (0.01) and C (10): 0.06976744186046512\n",
      "Precision for gamma (0.01) and C (1): 1.0\n"
     ]
    }
   ],
   "source": [
    "from sklearn.metrics import precision_score, recall_score\n",
    "svm_recall_check = SVC(kernel = 'rbf', gamma=0.01, C=10).fit(X_train, y_train)\n",
    "clf_pred = svm_recall_check.predict(X_test)\n",
    "print('Recall for gamma (0.01) and C (10): {}'.format(recall_score(y_test, clf_pred)))\n",
    "\n",
    "svm_precision_check = SVC(kernel = 'rbf', gamma=0.01, C=1).fit(X_train, y_train)\n",
    "clf_pred_p = svm_precision_check.predict(X_test)\n",
    "print('Precision for gamma (0.01) and C (1): {}'.format(precision_score(y_test, clf_pred_p)))"
   ]
  },
  {
   "cell_type": "markdown",
   "metadata": {},
   "source": [
    "## 5. SVC rbf precision-recall curve"
   ]
  },
  {
   "cell_type": "code",
   "execution_count": 5,
   "metadata": {},
   "outputs": [
    {
     "data": {
      "image/png": "[encoded data removed]",
      "text/plain": [
       "<Figure size 432x288 with 1 Axes>"
      ]
     },
     "metadata": {
      "needs_background": "light"
     },
     "output_type": "display_data"
    },
    {
     "name": "stdout",
     "output_type": "stream",
     "text": [
      "At zero threshold, precision: 1.00, recall: 0.07\n",
      "Difference (precision - recall): 0.93\n"
     ]
    }
   ],
   "source": [
    "clf = SVC(kernel='rbf', C=10, gamma = 0.01).fit(X_train, y_train)\n",
    "y_scores = clf.decision_function(X_test)\n",
    "precision, recall, thresholds = precision_recall_curve(y_test, y_scores)\n",
    "closest_zero = np.argmin(np.abs(thresholds))\n",
    "closest_zero_p = precision[closest_zero]\n",
    "closest_zero_r = recall[closest_zero]\n",
    "plt.title(\"SVC, class_weight = 'balanced', optimized for accuracy\")\n",
    "plt.xlim([0.0, 1.01])\n",
    "plt.ylim([0.0, 1.01])\n",
    "plt.title (\"Precision-recall curve: SVC, class_weight = 'balanced'\")\n",
    "plt.plot(precision, recall, label = 'Precision-Recall Curve')\n",
    "plt.plot(closest_zero_p, closest_zero_r, 'o', markersize=12, fillstyle='none', c='r', mew=3)\n",
    "plt.xlabel('Precision', fontsize=16)\n",
    "plt.ylabel('Recall', fontsize=16)\n",
    "plt.axes().set_aspect('equal')\n",
    "plt.show()\n",
    "print('At zero threshold, precision: {:.2f}, recall: {:.2f}'.format(closest_zero_p, closest_zero_r))\n",
    "print('Difference (precision - recall): {:.2f}'.format(closest_zero_p - closest_zero_r))"
   ]
  }
 ],
 "metadata": {
  "interpreter": {
   "hash": "9d29751b9c50b4a5a9fab6671c93244ef4f12ebae2068148cfeee9e49cc55480"
  },
  "kernelspec": {
   "display_name": "Python 3.9.6 64-bit",
   "language": "python",
   "name": "python3"
  },
  "language_info": {
   "codemirror_mode": {
    "name": "ipython",
    "version": 3
   },
   "file_extension": ".py",
   "mimetype": "text/x-python",
   "name": "python",
   "nbconvert_exporter": "python",
   "pygments_lexer": "ipython3",
   "version": "3.8.6"
  },
  "orig_nbformat": 4
 },
 "nbformat": 4,
 "nbformat_minor": 2
}
