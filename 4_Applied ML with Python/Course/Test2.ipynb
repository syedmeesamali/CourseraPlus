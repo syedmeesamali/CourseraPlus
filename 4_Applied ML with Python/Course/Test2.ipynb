{
 "cells": [
  {
   "cell_type": "code",
   "execution_count": 1,
   "metadata": {},
   "outputs": [
    {
     "data": {
      "image/png": "[encoded data removed]",
      "text/plain": [
       "<Figure size 432x288 with 1 Axes>"
      ]
     },
     "metadata": {
      "needs_background": "light"
     },
     "output_type": "display_data"
    }
   ],
   "source": [
    "import numpy as np\n",
    "import pandas as pd\n",
    "from sklearn.model_selection import train_test_split\n",
    "np.random.seed(0)\n",
    "n = 15\n",
    "x = np.linspace(0,10,n) + np.random.randn(n)/5\n",
    "y = np.sin(x) + x/6 + np.random.randn(n)/10\n",
    "X_train, X_test, y_train, y_test = train_test_split(x, y, random_state=0)\n",
    "def part1_scatter():\n",
    "    import matplotlib.pyplot as plt\n",
    "    plt.figure()\n",
    "    plt.scatter(X_train, y_train, label='training data')\n",
    "    plt.scatter(X_test, y_test, label='test data')\n",
    "    plt.legend(loc=4)\n",
    "part1_scatter()\n"
   ]
  },
  {
   "cell_type": "code",
   "execution_count": 2,
   "metadata": {},
   "outputs": [
    {
     "name": "stdout",
     "output_type": "stream",
     "text": [
      "x shape (15,) - y shape (15,)\n",
      "xtrain shape (11,) - ytrain shape (11,)\n",
      "xtest shape (4,) - ytest shape (4,)\n"
     ]
    }
   ],
   "source": [
    "print(\"x shape {} - y shape {}\".format(x.shape, y.shape))\n",
    "print(\"xtrain shape {} - ytrain shape {}\".format(X_train.shape, y_train.shape))\n",
    "print(\"xtest shape {} - ytest shape {}\".format(X_test.shape, y_test.shape))"
   ]
  },
  {
   "cell_type": "code",
   "execution_count": 3,
   "metadata": {},
   "outputs": [
    {
     "name": "stdout",
     "output_type": "stream",
     "text": [
      "[0.79431716 4.47573197 5.69364194 6.51069113]\n",
      "[ 0.99517935 -0.16081     0.3187423   1.53763897]\n",
      "[10.08877265  3.23065446  1.62431903  9.31004929  7.17166586  4.96972856\n",
      "  8.14799756  2.59103578  0.35281047  3.375973    8.72363612]\n",
      "[ 1.21213026  0.36408873  1.24877201  1.81942995  1.82595557 -0.05233879\n",
      "  2.31966323  0.98630796  0.43770571  0.07512287  2.08031157]\n"
     ]
    }
   ],
   "source": [
    "print(X_test)\n",
    "print(y_test)\n",
    "print(X_train)\n",
    "print(y_train)"
   ]
  },
  {
   "cell_type": "code",
   "execution_count": 4,
   "metadata": {},
   "outputs": [
    {
     "name": "stdout",
     "output_type": "stream",
     "text": [
      "(11, 1)\n"
     ]
    }
   ],
   "source": [
    "X_train_new = X_train.reshape(-1, 1)\n",
    "print(X_train_new.shape)"
   ]
  },
  {
   "cell_type": "code",
   "execution_count": 5,
   "metadata": {},
   "outputs": [],
   "source": [
    "def answer_one():\n",
    "    from sklearn.linear_model import LinearRegression\n",
    "    from sklearn.preprocessing import PolynomialFeatures\n",
    "    degrees = [1, 3, 6, 9]\n",
    "    def poly_regression(i):\n",
    "        poly = PolynomialFeatures(degree = i)\n",
    "        x_poly = poly.fit_transform(X_train_new)\n",
    "        linreg = LinearRegression().fit(x_poly, y_train)\n",
    "        y_pred = linreg.predict(poly.fit_transform(np.linspace(0, 10, 100).reshape(-1, 1)))\n",
    "        return(y_pred.reshape(-1, 1))\n",
    "    ans = np.hstack([poly_regression(deg) for deg in degrees]).T\n",
    "    return ans"
   ]
  },
  {
   "cell_type": "code",
   "execution_count": 14,
   "metadata": {},
   "outputs": [],
   "source": [
    "def plot_one(degree_predictions):\n",
    "    import matplotlib.pyplot as plt\n",
    "    plt.figure(figsize=(10,5))\n",
    "    plt.plot(X_train, y_train, 'o', label='training data', markersize=10)\n",
    "    plt.plot(X_test, y_test, 'o', label='test data', markersize=10)\n",
    "    for i,degree in enumerate([1,3,6,9]):\n",
    "        plt.plot(np.linspace(0,10,100), degree_predictions[i], alpha=0.8, lw=2, label='degree={}'.format(degree))\n",
    "    plt.ylim(-1,2.5)\n",
    "    plt.legend(loc=4)\n",
    "#plot_one(answer_one())"
   ]
  },
  {
   "cell_type": "code",
   "execution_count": 7,
   "metadata": {},
   "outputs": [
    {
     "name": "stdout",
     "output_type": "stream",
     "text": [
      "[0.         0.42924578 0.4510998  0.58719954 0.91941945 0.97578641\n",
      " 0.99018233 0.99352509 0.99637545 0.99803706]\n",
      "[-0.47808642 -0.45237104 -0.06856984  0.00533105  0.73004943  0.87708301\n",
      "  0.9214094   0.92021504  0.6324794  -0.64525576]\n"
     ]
    }
   ],
   "source": [
    "from sklearn.linear_model import LinearRegression\n",
    "from sklearn.preprocessing import PolynomialFeatures\n",
    "from sklearn.metrics import r2_score        #Updated api\n",
    "r2_train = np.zeros(10)\n",
    "r2_test = np.zeros(10)\n",
    "for i in range(10):\n",
    "    poly = PolynomialFeatures(degree = i)\n",
    "    #Train and score x_train\n",
    "    x_poly = poly.fit_transform(X_train.reshape(11, 1))\n",
    "    linreg = LinearRegression().fit(x_poly, y_train)\n",
    "    r2_train[i] = linreg.score(x_poly, y_train)\n",
    "    #Test and score x_test\n",
    "    x_poly_2 = poly.fit_transform(X_test.reshape(4, 1))\n",
    "    r2_test[i] = linreg.score(x_poly_2, y_test)\n",
    "#return (r2_train, r2_test)\n",
    "print(r2_train)\n",
    "print(r2_test)"
   ]
  },
  {
   "cell_type": "code",
   "execution_count": 8,
   "metadata": {},
   "outputs": [
    {
     "data": {
      "text/plain": [
       "(array([0.        , 0.42924578, 0.4510998 , 0.58719954, 0.91941945,\n",
       "        0.97578641, 0.99018233, 0.99352509, 0.99637545, 0.99803706]),\n",
       " array([-0.47808642, -0.45237104, -0.06856984,  0.00533105,  0.73004943,\n",
       "         0.87708301,  0.9214094 ,  0.92021504,  0.6324794 , -0.64525576]))"
      ]
     },
     "execution_count": 8,
     "metadata": {},
     "output_type": "execute_result"
    }
   ],
   "source": [
    "r2_score = (r2_train, r2_test)\n",
    "r2_score"
   ]
  },
  {
   "cell_type": "code",
   "execution_count": 9,
   "metadata": {},
   "outputs": [
    {
     "data": {
      "text/plain": [
       "(0, 9, 6)"
      ]
     },
     "execution_count": 9,
     "metadata": {},
     "output_type": "execute_result"
    }
   ],
   "source": [
    "data = pd.DataFrame({'training_score': r2_score[0], 'test_score': r2_score[1]})\n",
    "data['difference'] = data['training_score'] - data['test_score']\n",
    "data = data.sort_values(by=['difference'])\n",
    "good_value = data.index[0]\n",
    "data = data.sort_values(by=['difference'], ascending=False)\n",
    "overfitting = data.index[0]\n",
    "data = data.sort_values(by=['training_score'])\n",
    "underfitting = data.index[0]\n",
    "final = (underfitting, overfitting, good_value)\n",
    "final"
   ]
  },
  {
   "cell_type": "code",
   "execution_count": 10,
   "metadata": {},
   "outputs": [
    {
     "name": "stdout",
     "output_type": "stream",
     "text": [
      "(11,)\n",
      "(4,)\n"
     ]
    }
   ],
   "source": [
    "print(X_train.shape)\n",
    "print(X_test.shape)"
   ]
  },
  {
   "cell_type": "markdown",
   "metadata": {},
   "source": [
    "### Train Lasso with polynomial degree and make R2 comparison"
   ]
  },
  {
   "cell_type": "code",
   "execution_count": 11,
   "metadata": {},
   "outputs": [],
   "source": [
    "poly = PolynomialFeatures(degree = 12)\n",
    "x_train_poly = poly.fit_transform(X_train.reshape(11, 1))\n",
    "x_test_poly = poly.fit_transform(X_test.reshape(4, 1))\n",
    "linreg_poly = LinearRegression().fit(x_train_poly, y_train)"
   ]
  },
  {
   "cell_type": "code",
   "execution_count": 12,
   "metadata": {},
   "outputs": [
    {
     "data": {
      "text/plain": [
       "-4.311992550801969"
      ]
     },
     "execution_count": 12,
     "metadata": {},
     "output_type": "execute_result"
    }
   ],
   "source": [
    "lin_r2_test = linreg_poly.score(x_test_poly, y_test)\n",
    "lin_r2_test"
   ]
  },
  {
   "cell_type": "code",
   "execution_count": 15,
   "metadata": {},
   "outputs": [
    {
     "name": "stderr",
     "output_type": "stream",
     "text": [
      "C:\\Users\\SYED\\AppData\\Local\\Programs\\Python\\Python39\\lib\\site-packages\\sklearn\\linear_model\\_coordinate_descent.py:647: ConvergenceWarning: Objective did not converge. You might want to increase the number of iterations, check the scale of the features or consider increasing regularisation. Duality gap: 3.556e-01, tolerance: 6.895e-04\n",
      "  model = cd_fast.enet_coordinate_descent(\n"
     ]
    },
    {
     "data": {
      "text/plain": [
       "0.8406625614750236"
      ]
     },
     "execution_count": 15,
     "metadata": {},
     "output_type": "execute_result"
    }
   ],
   "source": [
    "from sklearn.linear_model import Lasso\n",
    "lasso = Lasso(alpha=0.01, max_iter=10000).fit(x_train_poly, y_train)\n",
    "las_r2_test = lasso.score(x_test_poly, y_test)\n",
    "las_r2_test"
   ]
  },
  {
   "cell_type": "code",
   "execution_count": 16,
   "metadata": {},
   "outputs": [],
   "source": [
    "import pandas as pd\n",
    "import numpy as np\n",
    "from sklearn.model_selection import train_test_split\n",
    "mush_df = pd.read_csv('mushrooms.csv')\n",
    "mush_df2 = pd.get_dummies(mush_df)\n",
    "X_mush = mush_df2.iloc[:,2:]\n",
    "y_mush = mush_df2.iloc[:,1]\n",
    "X_train2, X_test2, y_train2, y_test2 = train_test_split(X_mush, y_mush, random_state=0)\n",
    "X_subset = X_test2\n",
    "y_subset = y_test2\n"
   ]
  },
  {
   "cell_type": "code",
   "execution_count": 19,
   "metadata": {},
   "outputs": [
    {
     "name": "stdout",
     "output_type": "stream",
     "text": [
      "(8124, 117)\n",
      "0       1\n",
      "1       0\n",
      "2       0\n",
      "3       1\n",
      "4       0\n",
      "       ..\n",
      "8119    0\n",
      "8120    0\n",
      "8121    0\n",
      "8122    1\n",
      "8123    0\n",
      "Name: class_p, Length: 8124, dtype: uint8\n"
     ]
    }
   ],
   "source": [
    "print(X_mush.shape)\n",
    "print(y_mush)"
   ]
  }
 ],
 "metadata": {
  "interpreter": {
   "hash": "9d29751b9c50b4a5a9fab6671c93244ef4f12ebae2068148cfeee9e49cc55480"
  },
  "kernelspec": {
   "display_name": "Python 3.9.6 64-bit",
   "language": "python",
   "name": "python3"
  },
  "language_info": {
   "codemirror_mode": {
    "name": "ipython",
    "version": 3
   },
   "file_extension": ".py",
   "mimetype": "text/x-python",
   "name": "python",
   "nbconvert_exporter": "python",
   "pygments_lexer": "ipython3",
   "version": "3.9.6"
  },
  "orig_nbformat": 4
 },
 "nbformat": 4,
 "nbformat_minor": 2
}
