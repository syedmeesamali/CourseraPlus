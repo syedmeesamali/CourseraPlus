{
 "cells": [
  {
   "attachments": {},
   "cell_type": "markdown",
   "id": "0afef781",
   "metadata": {},
   "source": [
    "## Deep Learning - CIFAR10 dataset (Images)"
   ]
  },
  {
   "cell_type": "code",
   "execution_count": 1,
   "id": "e655e72e",
   "metadata": {},
   "outputs": [
    {
     "ename": "ModuleNotFoundError",
     "evalue": "No module named 'tensorflow'",
     "output_type": "error",
     "traceback": [
      "\u001b[1;31m---------------------------------------------------------------------------\u001b[0m",
      "\u001b[1;31mModuleNotFoundError\u001b[0m                       Traceback (most recent call last)",
      "Cell \u001b[1;32mIn[1], line 1\u001b[0m\n\u001b[1;32m----> 1\u001b[0m \u001b[39mimport\u001b[39;00m \u001b[39mtensorflow\u001b[39;00m \u001b[39mas\u001b[39;00m \u001b[39mtf\u001b[39;00m\n\u001b[0;32m      2\u001b[0m \u001b[39mfrom\u001b[39;00m \u001b[39mkeras\u001b[39;00m \u001b[39mimport\u001b[39;00m datasets, layers, models, optimizers, regularizers\n\u001b[0;32m      3\u001b[0m \u001b[39mimport\u001b[39;00m \u001b[39mnumpy\u001b[39;00m \u001b[39mas\u001b[39;00m \u001b[39mnp\u001b[39;00m\n",
      "\u001b[1;31mModuleNotFoundError\u001b[0m: No module named 'tensorflow'"
     ]
    }
   ],
   "source": [
    "import tensorflow as tf\n",
    "from keras import datasets, layers, models, optimizers, regularizers\n",
    "import numpy as np"
   ]
  },
  {
   "attachments": {},
   "cell_type": "markdown",
   "id": "6d7298de",
   "metadata": {},
   "source": [
    "### Data Load Function"
   ]
  },
  {
   "cell_type": "code",
   "execution_count": 7,
   "id": "0324091c",
   "metadata": {},
   "outputs": [],
   "source": [
    "EPOCHS = 50\n",
    "NUM_CLASSES = 10\n",
    "\n",
    "def load_data():\n",
    "    (x_train, y_train), (x_test, y_test) = datasets.cifar10.load_data()\n",
    "    x_train = x_train.astype('float32')\n",
    "    x_test = x_test.astype('float32')\n",
    "\n",
    "    #Normalize the data\n",
    "    mean = np.mean(x_train, axis=(0, 1, 2, 3))\n",
    "    std = np.std(x_train, axis=(0, 1, 2, 3))\n",
    "    x_train = (x_train - mean)/(std + 1e-7)\n",
    "    x_test = (x_test - mean)/(std + 1e-7)\n",
    "\n",
    "    y_train = tf.keras.utils.to_categorical(y_train, NUM_CLASSES)\n",
    "    y_test = tf.keras.utils.to_categorical(y_test, NUM_CLASSES)\n",
    "\n",
    "    return x_train, y_train, x_test, y_test\n",
    "\n",
    "# Call function to load the data\n",
    "(x_train, y_train, x_test, y_test) = load_data()"
   ]
  },
  {
   "attachments": {},
   "cell_type": "markdown",
   "id": "66f2f094",
   "metadata": {},
   "source": [
    "### Define the Deep ConvNet Model"
   ]
  },
  {
   "cell_type": "code",
   "execution_count": 8,
   "id": "48b38b6f",
   "metadata": {},
   "outputs": [],
   "source": [
    "def build_model():\n",
    "    model = models.Sequential()\n",
    "    # 1st block\n",
    "    model.add(layers.Conv2D(32, (3,3), padding='same', input_shape=x_train.shape[1:], activation='relu'))\n",
    "    model.add(layers.BatchNormalization())\n",
    "    model.add(layers.Conv2D(32, (3,3), padding='same', activation='relu'))\n",
    "    model.add(layers.BatchNormalization())\n",
    "    model.add(layers.MaxPooling2D(pool_size=(2,2)))\n",
    "    model.add(layers.Dropout(0.2))\n",
    "    # 2nd block\n",
    "    model.add(layers.Conv2D(64, (3,3), padding='same',activation='relu'))\n",
    "    model.add(layers.BatchNormalization())\n",
    "    model.add(layers.Conv2D(64, (3,3), padding='same',activation='relu'))\n",
    "    model.add(layers.BatchNormalization())\n",
    "    model.add(layers.MaxPooling2D(pool_size=(2,2)))\n",
    "    model.add(layers.Dropout(0.3))\n",
    "    # 3d block\n",
    "    model.add(layers.Conv2D(128, (3,3), padding='same', activation='relu'))\n",
    "    model.add(layers.BatchNormalization())\n",
    "    model.add(layers.Conv2D(128, (3,3), padding='same', activation='relu'))\n",
    "    model.add(layers.BatchNormalization())\n",
    "    model.add(layers.MaxPooling2D(pool_size=(2,2)))\n",
    "    model.add(layers.Dropout(0.4))\n",
    "    # dense\n",
    "    model.add(layers.Flatten())\n",
    "    model.add(layers.Dense(NUM_CLASSES, activation='softmax'))\n",
    "    return model\n",
    "    model.summary()"
   ]
  },
  {
   "attachments": {},
   "cell_type": "markdown",
   "id": "e02af0dd",
   "metadata": {},
   "source": [
    "### Create the model"
   ]
  },
  {
   "cell_type": "code",
   "execution_count": 9,
   "id": "c5648062",
   "metadata": {},
   "outputs": [],
   "source": [
    "model = build_model()"
   ]
  },
  {
   "cell_type": "code",
   "execution_count": 10,
   "id": "3128ce47",
   "metadata": {},
   "outputs": [
    {
     "name": "stdout",
     "output_type": "stream",
     "text": [
      "Epoch 1/50\n",
      "782/782 [==============================] - 141s 178ms/step - loss: 1.7363 - accuracy: 0.4777 - val_loss: 1.3296 - val_accuracy: 0.6104\n",
      "Epoch 2/50\n",
      "782/782 [==============================] - 140s 179ms/step - loss: 1.0708 - accuracy: 0.6562 - val_loss: 1.1611 - val_accuracy: 0.6445\n",
      "Epoch 3/50\n",
      "782/782 [==============================] - 139s 178ms/step - loss: 0.8580 - accuracy: 0.7137 - val_loss: 0.8470 - val_accuracy: 0.7220\n",
      "Epoch 4/50\n",
      "782/782 [==============================] - 142s 181ms/step - loss: 0.7324 - accuracy: 0.7515 - val_loss: 0.7453 - val_accuracy: 0.7461\n",
      "Epoch 5/50\n",
      "782/782 [==============================] - 145s 185ms/step - loss: 0.6474 - accuracy: 0.7790 - val_loss: 0.7242 - val_accuracy: 0.7544\n",
      "Epoch 6/50\n",
      "782/782 [==============================] - 145s 186ms/step - loss: 0.5932 - accuracy: 0.7965 - val_loss: 0.6442 - val_accuracy: 0.7830\n",
      "Epoch 7/50\n",
      "782/782 [==============================] - 144s 185ms/step - loss: 0.5460 - accuracy: 0.8120 - val_loss: 0.6229 - val_accuracy: 0.7856\n",
      "Epoch 8/50\n",
      "782/782 [==============================] - 145s 186ms/step - loss: 0.5119 - accuracy: 0.8222 - val_loss: 0.5284 - val_accuracy: 0.8213\n",
      "Epoch 9/50\n",
      "782/782 [==============================] - 147s 187ms/step - loss: 0.4748 - accuracy: 0.8364 - val_loss: 0.5467 - val_accuracy: 0.8162\n",
      "Epoch 10/50\n",
      "782/782 [==============================] - 146s 187ms/step - loss: 0.4441 - accuracy: 0.8449 - val_loss: 0.5382 - val_accuracy: 0.8211\n",
      "Epoch 11/50\n",
      "782/782 [==============================] - 145s 185ms/step - loss: 0.4228 - accuracy: 0.8530 - val_loss: 0.5559 - val_accuracy: 0.8191\n",
      "Epoch 12/50\n",
      "782/782 [==============================] - 141s 180ms/step - loss: 0.4021 - accuracy: 0.8604 - val_loss: 0.4991 - val_accuracy: 0.8344\n",
      "Epoch 13/50\n",
      "782/782 [==============================] - 135s 172ms/step - loss: 0.3843 - accuracy: 0.8677 - val_loss: 0.5294 - val_accuracy: 0.8286\n",
      "Epoch 14/50\n",
      "782/782 [==============================] - 138s 176ms/step - loss: 0.3706 - accuracy: 0.8702 - val_loss: 0.4919 - val_accuracy: 0.8410\n",
      "Epoch 15/50\n",
      "782/782 [==============================] - 138s 176ms/step - loss: 0.3514 - accuracy: 0.8769 - val_loss: 0.4892 - val_accuracy: 0.8444\n",
      "Epoch 16/50\n",
      "782/782 [==============================] - 140s 179ms/step - loss: 0.3355 - accuracy: 0.8818 - val_loss: 0.5170 - val_accuracy: 0.8348\n",
      "Epoch 17/50\n",
      "782/782 [==============================] - 144s 184ms/step - loss: 0.3242 - accuracy: 0.8870 - val_loss: 0.4760 - val_accuracy: 0.8461\n",
      "Epoch 18/50\n",
      "782/782 [==============================] - 140s 179ms/step - loss: 0.3112 - accuracy: 0.8906 - val_loss: 0.4838 - val_accuracy: 0.8439\n",
      "Epoch 19/50\n",
      "782/782 [==============================] - 140s 179ms/step - loss: 0.2976 - accuracy: 0.8955 - val_loss: 0.4946 - val_accuracy: 0.8484\n",
      "Epoch 20/50\n",
      "782/782 [==============================] - 145s 186ms/step - loss: 0.2902 - accuracy: 0.8967 - val_loss: 0.4729 - val_accuracy: 0.8512\n",
      "Epoch 21/50\n",
      "782/782 [==============================] - 142s 181ms/step - loss: 0.2796 - accuracy: 0.9003 - val_loss: 0.4992 - val_accuracy: 0.8428\n",
      "Epoch 22/50\n",
      "782/782 [==============================] - 147s 188ms/step - loss: 0.2729 - accuracy: 0.9036 - val_loss: 0.4777 - val_accuracy: 0.8489\n",
      "Epoch 23/50\n",
      "782/782 [==============================] - 139s 178ms/step - loss: 0.2606 - accuracy: 0.9072 - val_loss: 0.4835 - val_accuracy: 0.8461\n",
      "Epoch 24/50\n",
      "782/782 [==============================] - 140s 179ms/step - loss: 0.2541 - accuracy: 0.9091 - val_loss: 0.4979 - val_accuracy: 0.8448\n",
      "Epoch 25/50\n",
      "782/782 [==============================] - 146s 187ms/step - loss: 0.2504 - accuracy: 0.9102 - val_loss: 0.5191 - val_accuracy: 0.8417\n",
      "Epoch 26/50\n",
      "782/782 [==============================] - 145s 185ms/step - loss: 0.2420 - accuracy: 0.9138 - val_loss: 0.4707 - val_accuracy: 0.8538\n",
      "Epoch 27/50\n",
      "782/782 [==============================] - 142s 182ms/step - loss: 0.2358 - accuracy: 0.9168 - val_loss: 0.5055 - val_accuracy: 0.8426\n",
      "Epoch 28/50\n",
      "782/782 [==============================] - 137s 175ms/step - loss: 0.2275 - accuracy: 0.9187 - val_loss: 0.4865 - val_accuracy: 0.8492\n",
      "Epoch 29/50\n",
      "782/782 [==============================] - 137s 175ms/step - loss: 0.2269 - accuracy: 0.9186 - val_loss: 0.4952 - val_accuracy: 0.8530\n",
      "Epoch 30/50\n",
      "782/782 [==============================] - 137s 175ms/step - loss: 0.2145 - accuracy: 0.9230 - val_loss: 0.4921 - val_accuracy: 0.8576\n",
      "Epoch 31/50\n",
      "782/782 [==============================] - 137s 175ms/step - loss: 0.2124 - accuracy: 0.9225 - val_loss: 0.5260 - val_accuracy: 0.8444\n",
      "Epoch 32/50\n",
      "782/782 [==============================] - 137s 176ms/step - loss: 0.2139 - accuracy: 0.9231 - val_loss: 0.4975 - val_accuracy: 0.8504\n",
      "Epoch 33/50\n",
      "782/782 [==============================] - 138s 176ms/step - loss: 0.2077 - accuracy: 0.9245 - val_loss: 0.5298 - val_accuracy: 0.8432\n",
      "Epoch 34/50\n",
      "782/782 [==============================] - 138s 176ms/step - loss: 0.2005 - accuracy: 0.9278 - val_loss: 0.4826 - val_accuracy: 0.8536\n",
      "Epoch 35/50\n",
      "782/782 [==============================] - 138s 176ms/step - loss: 0.2000 - accuracy: 0.9284 - val_loss: 0.4878 - val_accuracy: 0.8554\n",
      "Epoch 36/50\n",
      "782/782 [==============================] - 143s 183ms/step - loss: 0.1940 - accuracy: 0.9304 - val_loss: 0.4936 - val_accuracy: 0.8528\n",
      "Epoch 37/50\n",
      "782/782 [==============================] - 156s 199ms/step - loss: 0.1898 - accuracy: 0.9326 - val_loss: 0.4912 - val_accuracy: 0.8574\n",
      "Epoch 38/50\n",
      "782/782 [==============================] - 149s 191ms/step - loss: 0.1884 - accuracy: 0.9328 - val_loss: 0.4928 - val_accuracy: 0.8582\n",
      "Epoch 39/50\n",
      "782/782 [==============================] - 144s 185ms/step - loss: 0.1847 - accuracy: 0.9341 - val_loss: 0.5190 - val_accuracy: 0.8530\n",
      "Epoch 40/50\n",
      "782/782 [==============================] - 147s 187ms/step - loss: 0.1861 - accuracy: 0.9333 - val_loss: 0.4976 - val_accuracy: 0.8552\n",
      "Epoch 41/50\n",
      "782/782 [==============================] - 145s 186ms/step - loss: 0.1819 - accuracy: 0.9345 - val_loss: 0.5223 - val_accuracy: 0.8547\n",
      "Epoch 42/50\n",
      "782/782 [==============================] - 144s 184ms/step - loss: 0.1764 - accuracy: 0.9381 - val_loss: 0.5023 - val_accuracy: 0.8538\n",
      "Epoch 43/50\n",
      "782/782 [==============================] - 138s 177ms/step - loss: 0.1743 - accuracy: 0.9366 - val_loss: 0.4972 - val_accuracy: 0.8565\n",
      "Epoch 44/50\n",
      "782/782 [==============================] - 140s 178ms/step - loss: 0.1737 - accuracy: 0.9377 - val_loss: 0.4929 - val_accuracy: 0.8579\n",
      "Epoch 45/50\n",
      "782/782 [==============================] - 145s 185ms/step - loss: 0.1689 - accuracy: 0.9396 - val_loss: 0.5130 - val_accuracy: 0.8573\n",
      "Epoch 46/50\n",
      "782/782 [==============================] - 143s 183ms/step - loss: 0.1689 - accuracy: 0.9394 - val_loss: 0.4965 - val_accuracy: 0.8631\n",
      "Epoch 47/50\n",
      "782/782 [==============================] - 145s 185ms/step - loss: 0.1654 - accuracy: 0.9408 - val_loss: 0.5071 - val_accuracy: 0.8593\n",
      "Epoch 48/50\n",
      "782/782 [==============================] - 141s 181ms/step - loss: 0.1631 - accuracy: 0.9414 - val_loss: 0.4990 - val_accuracy: 0.8574\n",
      "Epoch 49/50\n",
      "782/782 [==============================] - 142s 181ms/step - loss: 0.1613 - accuracy: 0.9429 - val_loss: 0.4987 - val_accuracy: 0.8611\n",
      "Epoch 50/50\n",
      "782/782 [==============================] - 146s 187ms/step - loss: 0.1616 - accuracy: 0.9420 - val_loss: 0.5000 - val_accuracy: 0.8623\n"
     ]
    },
    {
     "data": {
      "text/plain": [
       "<keras.callbacks.History at 0x29550b298d0>"
      ]
     },
     "execution_count": 10,
     "metadata": {},
     "output_type": "execute_result"
    }
   ],
   "source": [
    "model.compile(loss = 'categorical_crossentropy', optimizer='RMSprop', metrics=['accuracy'])\n",
    "\n",
    "#Train the model\n",
    "BATCH_SIZE = 64\n",
    "model.fit(x_train, y_train, batch_size=BATCH_SIZE, epochs = EPOCHS, validation_data=(x_test, y_test))"
   ]
  },
  {
   "cell_type": "code",
   "execution_count": 11,
   "id": "556a73d6",
   "metadata": {},
   "outputs": [
    {
     "name": "stdout",
     "output_type": "stream",
     "text": [
      "157/157 [==============================] - 7s 46ms/step - loss: 0.5000 - accuracy: 0.8623\n",
      "\n",
      "Test score:  0.4999532699584961\n",
      "\n",
      "Test Accuracy:  0.8622999787330627\n"
     ]
    }
   ],
   "source": [
    "score = model.evaluate(x_test, y_test, batch_size=BATCH_SIZE)\n",
    "print(\"\\nTest score: \", score[0])\n",
    "print(\"\\nTest Accuracy: \", score[1])"
   ]
  }
 ],
 "metadata": {
  "kernelspec": {
   "display_name": "Python 3.10.4 64-bit",
   "language": "python",
   "name": "python3"
  },
  "language_info": {
   "codemirror_mode": {
    "name": "ipython",
    "version": 3
   },
   "file_extension": ".py",
   "mimetype": "text/x-python",
   "name": "python",
   "nbconvert_exporter": "python",
   "pygments_lexer": "ipython3",
   "version": "3.10.10"
  },
  "vscode": {
   "interpreter": {
    "hash": "369f2c481f4da34e4445cda3fffd2e751bd1c4d706f27375911949ba6bb62e1c"
   }
  }
 },
 "nbformat": 4,
 "nbformat_minor": 5
}
