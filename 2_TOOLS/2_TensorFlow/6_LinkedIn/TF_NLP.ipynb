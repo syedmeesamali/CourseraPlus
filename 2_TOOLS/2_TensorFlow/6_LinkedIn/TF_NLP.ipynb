{
 "cells": [
  {
   "attachments": {},
   "cell_type": "markdown",
   "metadata": {},
   "source": [
    "## Tensorflow for NLP"
   ]
  },
  {
   "cell_type": "code",
   "execution_count": 1,
   "metadata": {},
   "outputs": [
    {
     "name": "stderr",
     "output_type": "stream",
     "text": [
      "c:\\Users\\syedm\\AppData\\Local\\Programs\\Python\\Python310\\lib\\site-packages\\tqdm\\auto.py:21: TqdmWarning: IProgress not found. Please update jupyter and ipywidgets. See https://ipywidgets.readthedocs.io/en/stable/user_install.html\n",
      "  from .autonotebook import tqdm as notebook_tqdm\n"
     ]
    }
   ],
   "source": [
    "from transformers import pipeline\n",
    "import textwrap\n",
    "wrapper = textwrap.TextWrapper(width=80, break_long_words=False, break_on_hyphens=False)\n"
   ]
  },
  {
   "attachments": {},
   "cell_type": "markdown",
   "metadata": {},
   "source": [
    "### 1. Classifying whole sentence"
   ]
  },
  {
   "cell_type": "code",
   "execution_count": 2,
   "metadata": {},
   "outputs": [
    {
     "name": "stderr",
     "output_type": "stream",
     "text": [
      "Downloading (…)lve/main/config.json: 100%|██████████| 629/629 [00:00<00:00, 78.6kB/s]\n",
      "Downloading pytorch_model.bin: 100%|██████████| 268M/268M [03:57<00:00, 1.13MB/s] \n",
      "Downloading (…)okenizer_config.json: 100%|██████████| 48.0/48.0 [00:00<?, ?B/s]\n",
      "Downloading (…)solve/main/vocab.txt: 100%|██████████| 232k/232k [00:00<00:00, 865kB/s]\n"
     ]
    },
    {
     "name": "stdout",
     "output_type": "stream",
     "text": [
      "\n",
      " Sentence:\n",
      "the flights were on time in sydney and connecting flights in singapore. The\n",
      "organization to cope with COVID is very strict\n",
      "\n",
      " This sentence is classified with a NEGATIVE sentiment\n"
     ]
    }
   ],
   "source": [
    "sentence = \"the flights were on time in sydney and connecting flights in singapore. The organization to cope with COVID is very strict\"\n",
    "classifier = pipeline('text-classification', model='distilbert-base-uncased-finetuned-sst-2-english')\n",
    "c = classifier(sentence)\n",
    "print(\"\\n Sentence:\")\n",
    "print(wrapper.fill(sentence))\n",
    "print(f\"\\n This sentence is classified with a {c[0]['label']} sentiment\")"
   ]
  },
  {
   "cell_type": "code",
   "execution_count": 4,
   "metadata": {},
   "outputs": [
    {
     "name": "stdout",
     "output_type": "stream",
     "text": [
      "Text: \n",
      "Qatar Airways is one of the world's leading airlines, based in Doha, Qatar. As\n",
      "of September 2021, the airline had a fleet of 136 aircraft, consisting of\n",
      "various types, such as Airbus A350, Airbus A380, Boeing 777, and Boeing 787\n",
      "Dreamliner. The airline is committed to providing its passengers with the\n",
      "highest level of service and comfort, and its modern fleet is equipped with\n",
      "state-of-the-art amenities and technology to ensure a comfortable and safe\n",
      "journey.\n",
      "\n",
      " Question\n",
      "How many planes does qatar airways have?\n"
     ]
    }
   ],
   "source": [
    "text1 = \"Qatar Airways is one of the world's leading airlines, based in Doha, Qatar. As of September 2021, the airline had a fleet of 136 aircraft, consisting of various types, such as Airbus A350, Airbus A380, Boeing 777, and Boeing 787 Dreamliner. The airline is committed to providing its passengers with the highest level of service and comfort, and its modern fleet is equipped with state-of-the-art amenities and technology to ensure a comfortable and safe journey.\"\n",
    "\n",
    "question = \"How many planes does qatar airways have?\"\n",
    "print(\"Text: \")\n",
    "print(wrapper.fill(text1))\n",
    "print(\"\\n Question\")\n",
    "print(question)"
   ]
  },
  {
   "cell_type": "code",
   "execution_count": 5,
   "metadata": {},
   "outputs": [
    {
     "name": "stderr",
     "output_type": "stream",
     "text": [
      "Downloading (…)lve/main/config.json: 100%|██████████| 473/473 [00:00<?, ?B/s] \n",
      "Downloading pytorch_model.bin: 100%|██████████| 261M/261M [17:02<00:00, 255kB/s] \n",
      "Downloading (…)okenizer_config.json: 100%|██████████| 29.0/29.0 [00:00<?, ?B/s]\n",
      "Downloading (…)solve/main/vocab.txt: 100%|██████████| 213k/213k [00:00<00:00, 236kB/s]\n",
      "Downloading (…)/main/tokenizer.json: 100%|██████████| 436k/436k [00:02<00:00, 187kB/s]\n"
     ]
    },
    {
     "name": "stdout",
     "output_type": "stream",
     "text": [
      "\n",
      "Question: \n",
      "How many planes does qatar airways have?\n",
      "\n",
      "Answer: \n"
     ]
    },
    {
     "data": {
      "text/plain": [
       "'136'"
      ]
     },
     "execution_count": 5,
     "metadata": {},
     "output_type": "execute_result"
    }
   ],
   "source": [
    "qa = pipeline('question-answering', model='distilbert-base-cased-distilled-squad')\n",
    "print(\"\\nQuestion: \")\n",
    "print(question + \"\\n\")\n",
    "print('Answer: ')\n",
    "a = qa(context = text1, question=question)\n",
    "a['answer']"
   ]
  }
 ],
 "metadata": {
  "kernelspec": {
   "display_name": "Python 3",
   "language": "python",
   "name": "python3"
  },
  "language_info": {
   "codemirror_mode": {
    "name": "ipython",
    "version": 3
   },
   "file_extension": ".py",
   "mimetype": "text/x-python",
   "name": "python",
   "nbconvert_exporter": "python",
   "pygments_lexer": "ipython3",
   "version": "3.10.10"
  },
  "orig_nbformat": 4
 },
 "nbformat": 4,
 "nbformat_minor": 2
}
