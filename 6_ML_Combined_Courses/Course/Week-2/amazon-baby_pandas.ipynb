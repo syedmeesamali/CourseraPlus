{
 "cells": [
  {
   "cell_type": "markdown",
   "metadata": {},
   "source": [
    "## Sentiment Analysis - Amazon baby data"
   ]
  },
  {
   "cell_type": "code",
   "execution_count": 1,
   "metadata": {},
   "outputs": [],
   "source": [
    "import pandas as pd\n",
    "import numpy as np\n",
    "import seaborn as sns\n",
    "import matplotlib.pyplot as plt"
   ]
  },
  {
   "cell_type": "code",
   "execution_count": 2,
   "metadata": {},
   "outputs": [],
   "source": [
    "#Read the main dataset\n",
    "amazon = pd.read_csv('./amazon-baby_30pc.csv')"
   ]
  },
  {
   "cell_type": "code",
   "execution_count": 3,
   "metadata": {},
   "outputs": [
    {
     "data": {
      "text/html": [
       "<div>\n",
       "<style scoped>\n",
       "    .dataframe tbody tr th:only-of-type {\n",
       "        vertical-align: middle;\n",
       "    }\n",
       "\n",
       "    .dataframe tbody tr th {\n",
       "        vertical-align: top;\n",
       "    }\n",
       "\n",
       "    .dataframe thead th {\n",
       "        text-align: right;\n",
       "    }\n",
       "</style>\n",
       "<table border=\"1\" class=\"dataframe\">\n",
       "  <thead>\n",
       "    <tr style=\"text-align: right;\">\n",
       "      <th></th>\n",
       "      <th>name</th>\n",
       "      <th>review</th>\n",
       "      <th>rating</th>\n",
       "    </tr>\n",
       "  </thead>\n",
       "  <tbody>\n",
       "    <tr>\n",
       "      <th>0</th>\n",
       "      <td>Planetwise Flannel Wipes</td>\n",
       "      <td>These flannel wipes are OK, but in my opinion ...</td>\n",
       "      <td>3</td>\n",
       "    </tr>\n",
       "    <tr>\n",
       "      <th>1</th>\n",
       "      <td>Planetwise Wipe Pouch</td>\n",
       "      <td>it came early and was not disappointed. i love...</td>\n",
       "      <td>5</td>\n",
       "    </tr>\n",
       "    <tr>\n",
       "      <th>2</th>\n",
       "      <td>Annas Dream Full Quilt with 2 Shams</td>\n",
       "      <td>Very soft and comfortable and warmer than it l...</td>\n",
       "      <td>5</td>\n",
       "    </tr>\n",
       "    <tr>\n",
       "      <th>3</th>\n",
       "      <td>Stop Pacifier Sucking without tears with Thumb...</td>\n",
       "      <td>This is a product well worth the purchase.  I ...</td>\n",
       "      <td>5</td>\n",
       "    </tr>\n",
       "    <tr>\n",
       "      <th>4</th>\n",
       "      <td>Stop Pacifier Sucking without tears with Thumb...</td>\n",
       "      <td>All of my kids have cried non-stop when I trie...</td>\n",
       "      <td>5</td>\n",
       "    </tr>\n",
       "  </tbody>\n",
       "</table>\n",
       "</div>"
      ],
      "text/plain": [
       "                                                name  \\\n",
       "0                           Planetwise Flannel Wipes   \n",
       "1                              Planetwise Wipe Pouch   \n",
       "2                Annas Dream Full Quilt with 2 Shams   \n",
       "3  Stop Pacifier Sucking without tears with Thumb...   \n",
       "4  Stop Pacifier Sucking without tears with Thumb...   \n",
       "\n",
       "                                              review  rating  \n",
       "0  These flannel wipes are OK, but in my opinion ...       3  \n",
       "1  it came early and was not disappointed. i love...       5  \n",
       "2  Very soft and comfortable and warmer than it l...       5  \n",
       "3  This is a product well worth the purchase.  I ...       5  \n",
       "4  All of my kids have cried non-stop when I trie...       5  "
      ]
     },
     "execution_count": 3,
     "metadata": {},
     "output_type": "execute_result"
    }
   ],
   "source": [
    "amazon.head(5)"
   ]
  },
  {
   "cell_type": "code",
   "execution_count": 4,
   "metadata": {},
   "outputs": [
    {
     "data": {
      "text/html": [
       "<div>\n",
       "<style scoped>\n",
       "    .dataframe tbody tr th:only-of-type {\n",
       "        vertical-align: middle;\n",
       "    }\n",
       "\n",
       "    .dataframe tbody tr th {\n",
       "        vertical-align: top;\n",
       "    }\n",
       "\n",
       "    .dataframe thead th {\n",
       "        text-align: right;\n",
       "    }\n",
       "</style>\n",
       "<table border=\"1\" class=\"dataframe\">\n",
       "  <thead>\n",
       "    <tr style=\"text-align: right;\">\n",
       "      <th></th>\n",
       "      <th>name</th>\n",
       "      <th>review</th>\n",
       "      <th>rating</th>\n",
       "    </tr>\n",
       "  </thead>\n",
       "  <tbody>\n",
       "    <tr>\n",
       "      <th>24336</th>\n",
       "      <td>The Original Crumb Chum Bib, Blue Clouds Patte...</td>\n",
       "      <td>I've had this for a year and love it! It's hug...</td>\n",
       "      <td>5</td>\n",
       "    </tr>\n",
       "    <tr>\n",
       "      <th>24337</th>\n",
       "      <td>The Original Crumb Chum Bib, Blue Clouds Patte...</td>\n",
       "      <td>I originally wrote this for the denim Crumb Ch...</td>\n",
       "      <td>5</td>\n",
       "    </tr>\n",
       "    <tr>\n",
       "      <th>24338</th>\n",
       "      <td>Sunshine Kids Lil' Snuggler Fitted Bottle Insu...</td>\n",
       "      <td>I bought this insulator and it just does not k...</td>\n",
       "      <td>1</td>\n",
       "    </tr>\n",
       "    <tr>\n",
       "      <th>24339</th>\n",
       "      <td>My Baby Sam Blue Stripes With Red Stars &amp;quot;...</td>\n",
       "      <td>The person I bought this for LOVED this frame....</td>\n",
       "      <td>5</td>\n",
       "    </tr>\n",
       "    <tr>\n",
       "      <th>24340</th>\n",
       "      <td>Child to Cherish Christening Block in Blue</td>\n",
       "      <td>NaN</td>\n",
       "      <td>5</td>\n",
       "    </tr>\n",
       "  </tbody>\n",
       "</table>\n",
       "</div>"
      ],
      "text/plain": [
       "                                                    name  \\\n",
       "24336  The Original Crumb Chum Bib, Blue Clouds Patte...   \n",
       "24337  The Original Crumb Chum Bib, Blue Clouds Patte...   \n",
       "24338  Sunshine Kids Lil' Snuggler Fitted Bottle Insu...   \n",
       "24339  My Baby Sam Blue Stripes With Red Stars &quot;...   \n",
       "24340         Child to Cherish Christening Block in Blue   \n",
       "\n",
       "                                                  review  rating  \n",
       "24336  I've had this for a year and love it! It's hug...       5  \n",
       "24337  I originally wrote this for the denim Crumb Ch...       5  \n",
       "24338  I bought this insulator and it just does not k...       1  \n",
       "24339  The person I bought this for LOVED this frame....       5  \n",
       "24340                                                NaN       5  "
      ]
     },
     "execution_count": 4,
     "metadata": {},
     "output_type": "execute_result"
    }
   ],
   "source": [
    "amazon.tail(5)"
   ]
  },
  {
   "cell_type": "code",
   "execution_count": 5,
   "metadata": {},
   "outputs": [
    {
     "data": {
      "text/plain": [
       "(24341, 3)"
      ]
     },
     "execution_count": 5,
     "metadata": {},
     "output_type": "execute_result"
    }
   ],
   "source": [
    "amazon.shape"
   ]
  },
  {
   "cell_type": "code",
   "execution_count": 7,
   "metadata": {},
   "outputs": [
    {
     "data": {
      "text/plain": [
       "Index(['name', 'review', 'rating'], dtype='object')"
      ]
     },
     "execution_count": 7,
     "metadata": {},
     "output_type": "execute_result"
    }
   ],
   "source": [
    "amazon.columns"
   ]
  },
  {
   "cell_type": "code",
   "execution_count": 9,
   "metadata": {},
   "outputs": [
    {
     "data": {
      "text/plain": [
       "0                             Planetwise Flannel Wipes\n",
       "1                                Planetwise Wipe Pouch\n",
       "2                  Annas Dream Full Quilt with 2 Shams\n",
       "3    Stop Pacifier Sucking without tears with Thumb...\n",
       "Name: name, dtype: object"
      ]
     },
     "execution_count": 9,
     "metadata": {},
     "output_type": "execute_result"
    }
   ],
   "source": [
    "amazon['name'].head(4)"
   ]
  },
  {
   "cell_type": "code",
   "execution_count": 14,
   "metadata": {},
   "outputs": [
    {
     "data": {
      "text/plain": [
       "Cloud b Twilight Constellation Night Light, Turtle            520\n",
       "Fisher-Price Booster Seat, Blue/Green/Gray                    489\n",
       "Leachco Snoogle Total Body Pillow                             388\n",
       "Baby Trend Diaper Champ                                       333\n",
       "Leachco Back 'N Belly Contoured Body Pillow, Ivory            283\n",
       "                                                             ... \n",
       "Five Drawer Chest In Natural Finish                             1\n",
       "Basic Comfort Ultimate Crib Sheet - Green Dot                   1\n",
       "The First Years  Comfort Care Ultra High Speed Thermometer      1\n",
       "Nuby Bottle Drying Rack, Colors May Vary                        1\n",
       "Child to Cherish Christening Block in Blue                      1\n",
       "Name: name, Length: 2079, dtype: int64"
      ]
     },
     "execution_count": 14,
     "metadata": {},
     "output_type": "execute_result"
    }
   ],
   "source": [
    "amazon['name'].value_counts()"
   ]
  },
  {
   "cell_type": "code",
   "execution_count": 15,
   "metadata": {},
   "outputs": [
    {
     "data": {
      "text/html": [
       "<div>\n",
       "<style scoped>\n",
       "    .dataframe tbody tr th:only-of-type {\n",
       "        vertical-align: middle;\n",
       "    }\n",
       "\n",
       "    .dataframe tbody tr th {\n",
       "        vertical-align: top;\n",
       "    }\n",
       "\n",
       "    .dataframe thead th {\n",
       "        text-align: right;\n",
       "    }\n",
       "</style>\n",
       "<table border=\"1\" class=\"dataframe\">\n",
       "  <thead>\n",
       "    <tr style=\"text-align: right;\">\n",
       "      <th></th>\n",
       "      <th>name</th>\n",
       "      <th>review</th>\n",
       "      <th>rating</th>\n",
       "    </tr>\n",
       "  </thead>\n",
       "  <tbody>\n",
       "    <tr>\n",
       "      <th>23339</th>\n",
       "      <td>Cloud b Twilight Constellation Night Light, Tu...</td>\n",
       "      <td>This ladybug has helped my 2 year old daughter...</td>\n",
       "      <td>5</td>\n",
       "    </tr>\n",
       "    <tr>\n",
       "      <th>23340</th>\n",
       "      <td>Cloud b Twilight Constellation Night Light, Tu...</td>\n",
       "      <td>this thing puts stars everywhere, ceiling and ...</td>\n",
       "      <td>5</td>\n",
       "    </tr>\n",
       "    <tr>\n",
       "      <th>23341</th>\n",
       "      <td>Cloud b Twilight Constellation Night Light, Tu...</td>\n",
       "      <td>This item is cute. My child likes playing with...</td>\n",
       "      <td>3</td>\n",
       "    </tr>\n",
       "    <tr>\n",
       "      <th>23342</th>\n",
       "      <td>Cloud b Twilight Constellation Night Light, Tu...</td>\n",
       "      <td>We got this for our baby. While he was sleepin...</td>\n",
       "      <td>5</td>\n",
       "    </tr>\n",
       "    <tr>\n",
       "      <th>23343</th>\n",
       "      <td>Cloud b Twilight Constellation Night Light, Tu...</td>\n",
       "      <td>I see some customers got defective products, w...</td>\n",
       "      <td>5</td>\n",
       "    </tr>\n",
       "    <tr>\n",
       "      <th>...</th>\n",
       "      <td>...</td>\n",
       "      <td>...</td>\n",
       "      <td>...</td>\n",
       "    </tr>\n",
       "    <tr>\n",
       "      <th>23854</th>\n",
       "      <td>Cloud b Twilight Constellation Night Light, Tu...</td>\n",
       "      <td>It was for my new grandson and my daughters sa...</td>\n",
       "      <td>5</td>\n",
       "    </tr>\n",
       "    <tr>\n",
       "      <th>23855</th>\n",
       "      <td>Cloud b Twilight Constellation Night Light, Tu...</td>\n",
       "      <td>We bought the Cloud B Twilight Constellation N...</td>\n",
       "      <td>5</td>\n",
       "    </tr>\n",
       "    <tr>\n",
       "      <th>23856</th>\n",
       "      <td>Cloud b Twilight Constellation Night Light, Tu...</td>\n",
       "      <td>I bought it since I am morally against ferberi...</td>\n",
       "      <td>3</td>\n",
       "    </tr>\n",
       "    <tr>\n",
       "      <th>23857</th>\n",
       "      <td>Cloud b Twilight Constellation Night Light, Tu...</td>\n",
       "      <td>Stars do not move, no music to play. Only fain...</td>\n",
       "      <td>1</td>\n",
       "    </tr>\n",
       "    <tr>\n",
       "      <th>23858</th>\n",
       "      <td>Cloud b Twilight Constellation Night Light, Tu...</td>\n",
       "      <td>Highly recommend this product~ It is soft enou...</td>\n",
       "      <td>5</td>\n",
       "    </tr>\n",
       "  </tbody>\n",
       "</table>\n",
       "<p>520 rows × 3 columns</p>\n",
       "</div>"
      ],
      "text/plain": [
       "                                                    name  \\\n",
       "23339  Cloud b Twilight Constellation Night Light, Tu...   \n",
       "23340  Cloud b Twilight Constellation Night Light, Tu...   \n",
       "23341  Cloud b Twilight Constellation Night Light, Tu...   \n",
       "23342  Cloud b Twilight Constellation Night Light, Tu...   \n",
       "23343  Cloud b Twilight Constellation Night Light, Tu...   \n",
       "...                                                  ...   \n",
       "23854  Cloud b Twilight Constellation Night Light, Tu...   \n",
       "23855  Cloud b Twilight Constellation Night Light, Tu...   \n",
       "23856  Cloud b Twilight Constellation Night Light, Tu...   \n",
       "23857  Cloud b Twilight Constellation Night Light, Tu...   \n",
       "23858  Cloud b Twilight Constellation Night Light, Tu...   \n",
       "\n",
       "                                                  review  rating  \n",
       "23339  This ladybug has helped my 2 year old daughter...       5  \n",
       "23340  this thing puts stars everywhere, ceiling and ...       5  \n",
       "23341  This item is cute. My child likes playing with...       3  \n",
       "23342  We got this for our baby. While he was sleepin...       5  \n",
       "23343  I see some customers got defective products, w...       5  \n",
       "...                                                  ...     ...  \n",
       "23854  It was for my new grandson and my daughters sa...       5  \n",
       "23855  We bought the Cloud B Twilight Constellation N...       5  \n",
       "23856  I bought it since I am morally against ferberi...       3  \n",
       "23857  Stars do not move, no music to play. Only fain...       1  \n",
       "23858  Highly recommend this product~ It is soft enou...       5  \n",
       "\n",
       "[520 rows x 3 columns]"
      ]
     },
     "execution_count": 15,
     "metadata": {},
     "output_type": "execute_result"
    }
   ],
   "source": [
    "Turtle_reviews = amazon[amazon.name == \"Cloud b Twilight Constellation Night Light, Turtle\"]\n",
    "Turtle_reviews"
   ]
  },
  {
   "cell_type": "code",
   "execution_count": 17,
   "metadata": {},
   "outputs": [
    {
     "data": {
      "text/plain": [
       "23339    5\n",
       "23340    5\n",
       "23341    3\n",
       "23342    5\n",
       "23343    5\n",
       "Name: rating, dtype: int64"
      ]
     },
     "execution_count": 17,
     "metadata": {},
     "output_type": "execute_result"
    }
   ],
   "source": [
    "Turtle_reviews['rating'].head()"
   ]
  },
  {
   "cell_type": "code",
   "execution_count": 18,
   "metadata": {},
   "outputs": [],
   "source": [
    "amazon = amazon[amazon['rating']!= 3]       #Remove 3 as its neither positive or negative"
   ]
  },
  {
   "cell_type": "code",
   "execution_count": 19,
   "metadata": {},
   "outputs": [
    {
     "data": {
      "text/plain": [
       "5    13422\n",
       "4     4383\n",
       "1     2718\n",
       "2     1698\n",
       "Name: rating, dtype: int64"
      ]
     },
     "execution_count": 19,
     "metadata": {},
     "output_type": "execute_result"
    }
   ],
   "source": [
    "amazon['rating'].value_counts()         #Check if 3 is removed or not"
   ]
  },
  {
   "cell_type": "code",
   "execution_count": 23,
   "metadata": {},
   "outputs": [
    {
     "name": "stderr",
     "output_type": "stream",
     "text": [
      "C:\\Users\\SYED\\AppData\\Local\\Temp\\ipykernel_16976\\3013014915.py:1: SettingWithCopyWarning: \n",
      "A value is trying to be set on a copy of a slice from a DataFrame.\n",
      "Try using .loc[row_indexer,col_indexer] = value instead\n",
      "\n",
      "See the caveats in the documentation: https://pandas.pydata.org/pandas-docs/stable/user_guide/indexing.html#returning-a-view-versus-a-copy\n",
      "  amazon['sentiment'] = np.where(amazon['rating'] >= 4, True, False)\n"
     ]
    }
   ],
   "source": [
    "amazon['sentiment'] = np.where(amazon['rating'] >= 4, True, False)"
   ]
  },
  {
   "cell_type": "code",
   "execution_count": 24,
   "metadata": {},
   "outputs": [
    {
     "data": {
      "text/html": [
       "<div>\n",
       "<style scoped>\n",
       "    .dataframe tbody tr th:only-of-type {\n",
       "        vertical-align: middle;\n",
       "    }\n",
       "\n",
       "    .dataframe tbody tr th {\n",
       "        vertical-align: top;\n",
       "    }\n",
       "\n",
       "    .dataframe thead th {\n",
       "        text-align: right;\n",
       "    }\n",
       "</style>\n",
       "<table border=\"1\" class=\"dataframe\">\n",
       "  <thead>\n",
       "    <tr style=\"text-align: right;\">\n",
       "      <th></th>\n",
       "      <th>name</th>\n",
       "      <th>review</th>\n",
       "      <th>rating</th>\n",
       "      <th>sentiment</th>\n",
       "    </tr>\n",
       "  </thead>\n",
       "  <tbody>\n",
       "    <tr>\n",
       "      <th>1</th>\n",
       "      <td>Planetwise Wipe Pouch</td>\n",
       "      <td>it came early and was not disappointed. i love...</td>\n",
       "      <td>5</td>\n",
       "      <td>True</td>\n",
       "    </tr>\n",
       "    <tr>\n",
       "      <th>2</th>\n",
       "      <td>Annas Dream Full Quilt with 2 Shams</td>\n",
       "      <td>Very soft and comfortable and warmer than it l...</td>\n",
       "      <td>5</td>\n",
       "      <td>True</td>\n",
       "    </tr>\n",
       "    <tr>\n",
       "      <th>3</th>\n",
       "      <td>Stop Pacifier Sucking without tears with Thumb...</td>\n",
       "      <td>This is a product well worth the purchase.  I ...</td>\n",
       "      <td>5</td>\n",
       "      <td>True</td>\n",
       "    </tr>\n",
       "    <tr>\n",
       "      <th>4</th>\n",
       "      <td>Stop Pacifier Sucking without tears with Thumb...</td>\n",
       "      <td>All of my kids have cried non-stop when I trie...</td>\n",
       "      <td>5</td>\n",
       "      <td>True</td>\n",
       "    </tr>\n",
       "    <tr>\n",
       "      <th>5</th>\n",
       "      <td>Stop Pacifier Sucking without tears with Thumb...</td>\n",
       "      <td>When the Binky Fairy came to our house, we did...</td>\n",
       "      <td>5</td>\n",
       "      <td>True</td>\n",
       "    </tr>\n",
       "  </tbody>\n",
       "</table>\n",
       "</div>"
      ],
      "text/plain": [
       "                                                name  \\\n",
       "1                              Planetwise Wipe Pouch   \n",
       "2                Annas Dream Full Quilt with 2 Shams   \n",
       "3  Stop Pacifier Sucking without tears with Thumb...   \n",
       "4  Stop Pacifier Sucking without tears with Thumb...   \n",
       "5  Stop Pacifier Sucking without tears with Thumb...   \n",
       "\n",
       "                                              review  rating  sentiment  \n",
       "1  it came early and was not disappointed. i love...       5       True  \n",
       "2  Very soft and comfortable and warmer than it l...       5       True  \n",
       "3  This is a product well worth the purchase.  I ...       5       True  \n",
       "4  All of my kids have cried non-stop when I trie...       5       True  \n",
       "5  When the Binky Fairy came to our house, we did...       5       True  "
      ]
     },
     "execution_count": 24,
     "metadata": {},
     "output_type": "execute_result"
    }
   ],
   "source": [
    "amazon.head(5)"
   ]
  },
  {
   "cell_type": "code",
   "execution_count": null,
   "metadata": {},
   "outputs": [],
   "source": []
  }
 ],
 "metadata": {
  "interpreter": {
   "hash": "9d29751b9c50b4a5a9fab6671c93244ef4f12ebae2068148cfeee9e49cc55480"
  },
  "kernelspec": {
   "display_name": "Python 3.9.6 64-bit",
   "language": "python",
   "name": "python3"
  },
  "language_info": {
   "codemirror_mode": {
    "name": "ipython",
    "version": 3
   },
   "file_extension": ".py",
   "mimetype": "text/x-python",
   "name": "python",
   "nbconvert_exporter": "python",
   "pygments_lexer": "ipython3",
   "version": "3.9.6"
  },
  "orig_nbformat": 4
 },
 "nbformat": 4,
 "nbformat_minor": 2
}
