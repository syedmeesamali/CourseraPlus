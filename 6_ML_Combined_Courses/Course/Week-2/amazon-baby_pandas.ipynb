{
 "cells": [
  {
   "cell_type": "markdown",
   "metadata": {},
   "source": [
    "## Sentiment Analysis - Amazon baby data"
   ]
  },
  {
   "cell_type": "code",
   "execution_count": 1,
   "metadata": {},
   "outputs": [],
   "source": [
    "import pandas as pd\n",
    "import numpy as np\n",
    "import seaborn as sns\n",
    "import matplotlib.pyplot as plt"
   ]
  },
  {
   "cell_type": "code",
   "execution_count": 5,
   "metadata": {},
   "outputs": [],
   "source": [
    "#Read the main dataset\n",
    "amazon = pd.read_csv(f\"D:/amazon-baby.csv\")"
   ]
  },
  {
   "cell_type": "code",
   "execution_count": 21,
   "metadata": {},
   "outputs": [
    {
     "data": {
      "text/plain": [
       "(166752, 4)"
      ]
     },
     "execution_count": 21,
     "metadata": {},
     "output_type": "execute_result"
    }
   ],
   "source": [
    "amazon.shape"
   ]
  },
  {
   "cell_type": "code",
   "execution_count": 22,
   "metadata": {},
   "outputs": [
    {
     "data": {
      "text/plain": [
       "Index(['name', 'review', 'rating', 'sentiment'], dtype='object')"
      ]
     },
     "execution_count": 22,
     "metadata": {},
     "output_type": "execute_result"
    }
   ],
   "source": [
    "amazon.columns"
   ]
  },
  {
   "cell_type": "code",
   "execution_count": 23,
   "metadata": {},
   "outputs": [
    {
     "data": {
      "text/plain": [
       "1                                Planetwise Wipe Pouch\n",
       "2                  Annas Dream Full Quilt with 2 Shams\n",
       "3    Stop Pacifier Sucking without tears with Thumb...\n",
       "4    Stop Pacifier Sucking without tears with Thumb...\n",
       "Name: name, dtype: object"
      ]
     },
     "execution_count": 23,
     "metadata": {},
     "output_type": "execute_result"
    }
   ],
   "source": [
    "amazon['name'].head(4)"
   ]
  },
  {
   "cell_type": "code",
   "execution_count": 25,
   "metadata": {},
   "outputs": [
    {
     "data": {
      "text/html": [
       "<div>\n",
       "<style scoped>\n",
       "    .dataframe tbody tr th:only-of-type {\n",
       "        vertical-align: middle;\n",
       "    }\n",
       "\n",
       "    .dataframe tbody tr th {\n",
       "        vertical-align: top;\n",
       "    }\n",
       "\n",
       "    .dataframe thead th {\n",
       "        text-align: right;\n",
       "    }\n",
       "</style>\n",
       "<table border=\"1\" class=\"dataframe\">\n",
       "  <thead>\n",
       "    <tr style=\"text-align: right;\">\n",
       "      <th></th>\n",
       "      <th>name</th>\n",
       "      <th>review</th>\n",
       "      <th>rating</th>\n",
       "      <th>sentiment</th>\n",
       "    </tr>\n",
       "  </thead>\n",
       "  <tbody>\n",
       "    <tr>\n",
       "      <th>34313</th>\n",
       "      <td>Vulli Sophie the Giraffe Teether</td>\n",
       "      <td>He likes chewing on all the parts especially t...</td>\n",
       "      <td>5</td>\n",
       "      <td>True</td>\n",
       "    </tr>\n",
       "    <tr>\n",
       "      <th>34314</th>\n",
       "      <td>Vulli Sophie the Giraffe Teether</td>\n",
       "      <td>My son loves this toy and fits great in the di...</td>\n",
       "      <td>5</td>\n",
       "      <td>True</td>\n",
       "    </tr>\n",
       "    <tr>\n",
       "      <th>34315</th>\n",
       "      <td>Vulli Sophie the Giraffe Teether</td>\n",
       "      <td>There really should be a large warning on the ...</td>\n",
       "      <td>1</td>\n",
       "      <td>False</td>\n",
       "    </tr>\n",
       "    <tr>\n",
       "      <th>34316</th>\n",
       "      <td>Vulli Sophie the Giraffe Teether</td>\n",
       "      <td>All the moms in my moms' group got Sophie for ...</td>\n",
       "      <td>5</td>\n",
       "      <td>True</td>\n",
       "    </tr>\n",
       "    <tr>\n",
       "      <th>34317</th>\n",
       "      <td>Vulli Sophie the Giraffe Teether</td>\n",
       "      <td>I was a little skeptical on whether Sophie was...</td>\n",
       "      <td>5</td>\n",
       "      <td>True</td>\n",
       "    </tr>\n",
       "    <tr>\n",
       "      <th>...</th>\n",
       "      <td>...</td>\n",
       "      <td>...</td>\n",
       "      <td>...</td>\n",
       "      <td>...</td>\n",
       "    </tr>\n",
       "    <tr>\n",
       "      <th>159649</th>\n",
       "      <td>Vulli Sophie the Giraffe Teether</td>\n",
       "      <td>My baby loves her Sophie Chew Toy. She can che...</td>\n",
       "      <td>5</td>\n",
       "      <td>True</td>\n",
       "    </tr>\n",
       "    <tr>\n",
       "      <th>159650</th>\n",
       "      <td>Vulli Sophie the Giraffe Teether</td>\n",
       "      <td>Sophie the Giraffe was a big hit at the baby s...</td>\n",
       "      <td>5</td>\n",
       "      <td>True</td>\n",
       "    </tr>\n",
       "    <tr>\n",
       "      <th>159651</th>\n",
       "      <td>Vulli Sophie the Giraffe Teether</td>\n",
       "      <td>quick shipping and perfect product. I would pu...</td>\n",
       "      <td>5</td>\n",
       "      <td>True</td>\n",
       "    </tr>\n",
       "    <tr>\n",
       "      <th>159652</th>\n",
       "      <td>Vulli Sophie the Giraffe Teether</td>\n",
       "      <td>My baby who is currently teething love his Sop...</td>\n",
       "      <td>5</td>\n",
       "      <td>True</td>\n",
       "    </tr>\n",
       "    <tr>\n",
       "      <th>159653</th>\n",
       "      <td>Vulli Sophie the Giraffe Teether</td>\n",
       "      <td>I know several baits that are enjoying the sof...</td>\n",
       "      <td>5</td>\n",
       "      <td>True</td>\n",
       "    </tr>\n",
       "  </tbody>\n",
       "</table>\n",
       "<p>723 rows × 4 columns</p>\n",
       "</div>"
      ],
      "text/plain": [
       "                                    name  \\\n",
       "34313   Vulli Sophie the Giraffe Teether   \n",
       "34314   Vulli Sophie the Giraffe Teether   \n",
       "34315   Vulli Sophie the Giraffe Teether   \n",
       "34316   Vulli Sophie the Giraffe Teether   \n",
       "34317   Vulli Sophie the Giraffe Teether   \n",
       "...                                  ...   \n",
       "159649  Vulli Sophie the Giraffe Teether   \n",
       "159650  Vulli Sophie the Giraffe Teether   \n",
       "159651  Vulli Sophie the Giraffe Teether   \n",
       "159652  Vulli Sophie the Giraffe Teether   \n",
       "159653  Vulli Sophie the Giraffe Teether   \n",
       "\n",
       "                                                   review  rating  sentiment  \n",
       "34313   He likes chewing on all the parts especially t...       5       True  \n",
       "34314   My son loves this toy and fits great in the di...       5       True  \n",
       "34315   There really should be a large warning on the ...       1      False  \n",
       "34316   All the moms in my moms' group got Sophie for ...       5       True  \n",
       "34317   I was a little skeptical on whether Sophie was...       5       True  \n",
       "...                                                   ...     ...        ...  \n",
       "159649  My baby loves her Sophie Chew Toy. She can che...       5       True  \n",
       "159650  Sophie the Giraffe was a big hit at the baby s...       5       True  \n",
       "159651  quick shipping and perfect product. I would pu...       5       True  \n",
       "159652  My baby who is currently teething love his Sop...       5       True  \n",
       "159653  I know several baits that are enjoying the sof...       5       True  \n",
       "\n",
       "[723 rows x 4 columns]"
      ]
     },
     "execution_count": 25,
     "metadata": {},
     "output_type": "execute_result"
    }
   ],
   "source": [
    "Giraffe_reviews = amazon[amazon.name == \"Vulli Sophie the Giraffe Teether\"]"
   ]
  },
  {
   "cell_type": "code",
   "execution_count": 27,
   "metadata": {},
   "outputs": [],
   "source": [
    "amazon = amazon[amazon['rating']!= 3]       #Remove 3 as its neither positive or negative"
   ]
  },
  {
   "cell_type": "code",
   "execution_count": 28,
   "metadata": {},
   "outputs": [
    {
     "data": {
      "text/plain": [
       "5    107054\n",
       "4     33205\n",
       "1     15183\n",
       "2     11310\n",
       "Name: rating, dtype: int64"
      ]
     },
     "execution_count": 28,
     "metadata": {},
     "output_type": "execute_result"
    }
   ],
   "source": [
    "amazon['rating'].value_counts()         #Check if 3 is removed or not"
   ]
  },
  {
   "cell_type": "code",
   "execution_count": 17,
   "metadata": {},
   "outputs": [],
   "source": [
    "amazon['sentiment'] = np.where(amazon['rating'] >= 4, True, False)"
   ]
  }
 ],
 "metadata": {
  "interpreter": {
   "hash": "9d29751b9c50b4a5a9fab6671c93244ef4f12ebae2068148cfeee9e49cc55480"
  },
  "kernelspec": {
   "display_name": "Python 3.9.6 64-bit",
   "language": "python",
   "name": "python3"
  },
  "language_info": {
   "codemirror_mode": {
    "name": "ipython",
    "version": 3
   },
   "file_extension": ".py",
   "mimetype": "text/x-python",
   "name": "python",
   "nbconvert_exporter": "python",
   "pygments_lexer": "ipython3",
   "version": "3.8.6"
  },
  "orig_nbformat": 4
 },
 "nbformat": 4,
 "nbformat_minor": 2
}
