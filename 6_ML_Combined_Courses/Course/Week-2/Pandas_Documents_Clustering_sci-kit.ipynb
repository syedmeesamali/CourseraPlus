{
  "cells": [
    {
      "cell_type": "markdown",
      "metadata": {
        "id": "8V5UxN6fbMuR"
      },
      "source": [
        "### Pandas equivalent example to work with Document Clustering for People Wiki dataframe"
      ]
    },
    {
      "cell_type": "code",
      "execution_count": 1,
      "metadata": {},
      "outputs": [],
      "source": [
        "import pandas as pd\n",
        "import numpy as np\n",
        "import seaborn as sns\n",
        "import matplotlib.pyplot as plt"
      ]
    },
    {
      "cell_type": "code",
      "execution_count": 2,
      "metadata": {},
      "outputs": [
        {
          "data": {
            "text/html": [
              "<div>\n",
              "<style scoped>\n",
              "    .dataframe tbody tr th:only-of-type {\n",
              "        vertical-align: middle;\n",
              "    }\n",
              "\n",
              "    .dataframe tbody tr th {\n",
              "        vertical-align: top;\n",
              "    }\n",
              "\n",
              "    .dataframe thead th {\n",
              "        text-align: right;\n",
              "    }\n",
              "</style>\n",
              "<table border=\"1\" class=\"dataframe\">\n",
              "  <thead>\n",
              "    <tr style=\"text-align: right;\">\n",
              "      <th></th>\n",
              "      <th>URI</th>\n",
              "      <th>name</th>\n",
              "      <th>text</th>\n",
              "    </tr>\n",
              "  </thead>\n",
              "  <tbody>\n",
              "    <tr>\n",
              "      <th>0</th>\n",
              "      <td>&lt;http://dbpedia.org/resource/Digby_Morrell&gt;</td>\n",
              "      <td>Digby Morrell</td>\n",
              "      <td>digby morrell born 10 october 1979 is a former...</td>\n",
              "    </tr>\n",
              "    <tr>\n",
              "      <th>1</th>\n",
              "      <td>&lt;http://dbpedia.org/resource/Alfred_J._Lewy&gt;</td>\n",
              "      <td>Alfred J. Lewy</td>\n",
              "      <td>alfred j lewy aka sandy lewy graduated from un...</td>\n",
              "    </tr>\n",
              "    <tr>\n",
              "      <th>2</th>\n",
              "      <td>&lt;http://dbpedia.org/resource/Harpdog_Brown&gt;</td>\n",
              "      <td>Harpdog Brown</td>\n",
              "      <td>harpdog brown is a singer and harmonica player...</td>\n",
              "    </tr>\n",
              "  </tbody>\n",
              "</table>\n",
              "</div>"
            ],
            "text/plain": [
              "                                            URI            name  \\\n",
              "0   <http://dbpedia.org/resource/Digby_Morrell>   Digby Morrell   \n",
              "1  <http://dbpedia.org/resource/Alfred_J._Lewy>  Alfred J. Lewy   \n",
              "2   <http://dbpedia.org/resource/Harpdog_Brown>   Harpdog Brown   \n",
              "\n",
              "                                                text  \n",
              "0  digby morrell born 10 october 1979 is a former...  \n",
              "1  alfred j lewy aka sandy lewy graduated from un...  \n",
              "2  harpdog brown is a singer and harmonica player...  "
            ]
          },
          "execution_count": 2,
          "metadata": {},
          "output_type": "execute_result"
        }
      ],
      "source": [
        "#people = pd.read_csv(f\"D:/people_wiki.csv\")\n",
        "people = pd.read_csv(f\"D:/SYED/people_wiki.csv\")\n",
        "people.head(3)"
      ]
    },
    {
      "cell_type": "code",
      "execution_count": 3,
      "metadata": {},
      "outputs": [
        {
          "data": {
            "text/plain": [
              "<1x270 sparse matrix of type '<class 'numpy.int64'>'\n",
              "\twith 270 stored elements in Compressed Sparse Row format>"
            ]
          },
          "execution_count": 3,
          "metadata": {},
          "output_type": "execute_result"
        }
      ],
      "source": [
        "obama = people[people['name'] == 'Barack Obama']\n",
        "from sklearn.feature_extraction.text import CountVectorizer\n",
        "vectorizer = CountVectorizer()\n",
        "matrix = vectorizer.fit_transform(obama['text'])\n",
        "matrix"
      ]
    },
    {
      "cell_type": "code",
      "execution_count": 4,
      "metadata": {},
      "outputs": [
        {
          "data": {
            "text/html": [
              "<div>\n",
              "<style scoped>\n",
              "    .dataframe tbody tr th:only-of-type {\n",
              "        vertical-align: middle;\n",
              "    }\n",
              "\n",
              "    .dataframe tbody tr th {\n",
              "        vertical-align: top;\n",
              "    }\n",
              "\n",
              "    .dataframe thead th {\n",
              "        text-align: right;\n",
              "    }\n",
              "</style>\n",
              "<table border=\"1\" class=\"dataframe\">\n",
              "  <thead>\n",
              "    <tr style=\"text-align: right;\">\n",
              "      <th></th>\n",
              "      <th>0</th>\n",
              "    </tr>\n",
              "  </thead>\n",
              "  <tbody>\n",
              "    <tr>\n",
              "      <th>the</th>\n",
              "      <td>40</td>\n",
              "    </tr>\n",
              "    <tr>\n",
              "      <th>in</th>\n",
              "      <td>30</td>\n",
              "    </tr>\n",
              "    <tr>\n",
              "      <th>and</th>\n",
              "      <td>21</td>\n",
              "    </tr>\n",
              "    <tr>\n",
              "      <th>of</th>\n",
              "      <td>18</td>\n",
              "    </tr>\n",
              "    <tr>\n",
              "      <th>to</th>\n",
              "      <td>14</td>\n",
              "    </tr>\n",
              "    <tr>\n",
              "      <th>his</th>\n",
              "      <td>11</td>\n",
              "    </tr>\n",
              "    <tr>\n",
              "      <th>obama</th>\n",
              "      <td>9</td>\n",
              "    </tr>\n",
              "    <tr>\n",
              "      <th>act</th>\n",
              "      <td>8</td>\n",
              "    </tr>\n",
              "    <tr>\n",
              "      <th>he</th>\n",
              "      <td>7</td>\n",
              "    </tr>\n",
              "    <tr>\n",
              "      <th>as</th>\n",
              "      <td>6</td>\n",
              "    </tr>\n",
              "  </tbody>\n",
              "</table>\n",
              "</div>"
            ],
            "text/plain": [
              "        0\n",
              "the    40\n",
              "in     30\n",
              "and    21\n",
              "of     18\n",
              "to     14\n",
              "his    11\n",
              "obama   9\n",
              "act     8\n",
              "he      7\n",
              "as      6"
            ]
          },
          "execution_count": 4,
          "metadata": {},
          "output_type": "execute_result"
        }
      ],
      "source": [
        "counts = pd.DataFrame(matrix.toarray(), columns = vectorizer.get_feature_names_out())\n",
        "counts.T.sort_values(by=0, ascending=False).head(10)"
      ]
    },
    {
      "cell_type": "code",
      "execution_count": 5,
      "metadata": {},
      "outputs": [
        {
          "data": {
            "text/plain": [
              "0    40\n",
              "Name: the, dtype: int64"
            ]
          },
          "execution_count": 5,
          "metadata": {},
          "output_type": "execute_result"
        }
      ],
      "source": [
        "counts['the']"
      ]
    },
    {
      "cell_type": "code",
      "execution_count": 6,
      "metadata": {},
      "outputs": [
        {
          "data": {
            "text/html": [
              "<div>\n",
              "<style scoped>\n",
              "    .dataframe tbody tr th:only-of-type {\n",
              "        vertical-align: middle;\n",
              "    }\n",
              "\n",
              "    .dataframe tbody tr th {\n",
              "        vertical-align: top;\n",
              "    }\n",
              "\n",
              "    .dataframe thead th {\n",
              "        text-align: right;\n",
              "    }\n",
              "</style>\n",
              "<table border=\"1\" class=\"dataframe\">\n",
              "  <thead>\n",
              "    <tr style=\"text-align: right;\">\n",
              "      <th></th>\n",
              "      <th>URI</th>\n",
              "      <th>name</th>\n",
              "      <th>text</th>\n",
              "    </tr>\n",
              "  </thead>\n",
              "  <tbody>\n",
              "    <tr>\n",
              "      <th>0</th>\n",
              "      <td>&lt;http://dbpedia.org/resource/Digby_Morrell&gt;</td>\n",
              "      <td>Digby Morrell</td>\n",
              "      <td>digby morrell born 10 october 1979 is a former...</td>\n",
              "    </tr>\n",
              "    <tr>\n",
              "      <th>1</th>\n",
              "      <td>&lt;http://dbpedia.org/resource/Alfred_J._Lewy&gt;</td>\n",
              "      <td>Alfred J. Lewy</td>\n",
              "      <td>alfred j lewy aka sandy lewy graduated from un...</td>\n",
              "    </tr>\n",
              "    <tr>\n",
              "      <th>2</th>\n",
              "      <td>&lt;http://dbpedia.org/resource/Harpdog_Brown&gt;</td>\n",
              "      <td>Harpdog Brown</td>\n",
              "      <td>harpdog brown is a singer and harmonica player...</td>\n",
              "    </tr>\n",
              "  </tbody>\n",
              "</table>\n",
              "</div>"
            ],
            "text/plain": [
              "                                            URI            name  \\\n",
              "0   <http://dbpedia.org/resource/Digby_Morrell>   Digby Morrell   \n",
              "1  <http://dbpedia.org/resource/Alfred_J._Lewy>  Alfred J. Lewy   \n",
              "2   <http://dbpedia.org/resource/Harpdog_Brown>   Harpdog Brown   \n",
              "\n",
              "                                                text  \n",
              "0  digby morrell born 10 october 1979 is a former...  \n",
              "1  alfred j lewy aka sandy lewy graduated from un...  \n",
              "2  harpdog brown is a singer and harmonica player...  "
            ]
          },
          "execution_count": 6,
          "metadata": {},
          "output_type": "execute_result"
        }
      ],
      "source": [
        "people.head(3)"
      ]
    },
    {
      "cell_type": "code",
      "execution_count": 7,
      "metadata": {},
      "outputs": [
        {
          "data": {
            "text/html": [
              "<div>\n",
              "<style scoped>\n",
              "    .dataframe tbody tr th:only-of-type {\n",
              "        vertical-align: middle;\n",
              "    }\n",
              "\n",
              "    .dataframe tbody tr th {\n",
              "        vertical-align: top;\n",
              "    }\n",
              "\n",
              "    .dataframe thead th {\n",
              "        text-align: right;\n",
              "    }\n",
              "</style>\n",
              "<table border=\"1\" class=\"dataframe\">\n",
              "  <thead>\n",
              "    <tr style=\"text-align: right;\">\n",
              "      <th></th>\n",
              "      <th>URI</th>\n",
              "      <th>name</th>\n",
              "      <th>text</th>\n",
              "    </tr>\n",
              "  </thead>\n",
              "  <tbody>\n",
              "    <tr>\n",
              "      <th>10</th>\n",
              "      <td>&lt;http://dbpedia.org/resource/Sophie_Crumb&gt;</td>\n",
              "      <td>Sophie Crumb</td>\n",
              "      <td>sophia violet sophie crumb born september 27 1...</td>\n",
              "    </tr>\n",
              "    <tr>\n",
              "      <th>11</th>\n",
              "      <td>&lt;http://dbpedia.org/resource/Jenn_Ashworth&gt;</td>\n",
              "      <td>Jenn Ashworth</td>\n",
              "      <td>jenn ashworth is an english writer she was bor...</td>\n",
              "    </tr>\n",
              "    <tr>\n",
              "      <th>12</th>\n",
              "      <td>&lt;http://dbpedia.org/resource/Jonathan_Hoefler&gt;</td>\n",
              "      <td>Jonathan Hoefler</td>\n",
              "      <td>jonathan hoefler born august 22 1970 is an ame...</td>\n",
              "    </tr>\n",
              "  </tbody>\n",
              "</table>\n",
              "</div>"
            ],
            "text/plain": [
              "                                               URI              name  \\\n",
              "10      <http://dbpedia.org/resource/Sophie_Crumb>      Sophie Crumb   \n",
              "11     <http://dbpedia.org/resource/Jenn_Ashworth>     Jenn Ashworth   \n",
              "12  <http://dbpedia.org/resource/Jonathan_Hoefler>  Jonathan Hoefler   \n",
              "\n",
              "                                                 text  \n",
              "10  sophia violet sophie crumb born september 27 1...  \n",
              "11  jenn ashworth is an english writer she was bor...  \n",
              "12  jonathan hoefler born august 22 1970 is an ame...  "
            ]
          },
          "execution_count": 7,
          "metadata": {},
          "output_type": "execute_result"
        }
      ],
      "source": [
        "pep1 = people[10:100]\n",
        "pep1.head(3)"
      ]
    },
    {
      "cell_type": "code",
      "execution_count": 8,
      "metadata": {},
      "outputs": [
        {
          "name": "stderr",
          "output_type": "stream",
          "text": [
            "C:\\Users\\SYED\\AppData\\Local\\Temp\\ipykernel_14944\\2795343513.py:1: SettingWithCopyWarning: \n",
            "A value is trying to be set on a copy of a slice from a DataFrame\n",
            "\n",
            "See the caveats in the documentation: https://pandas.pydata.org/pandas-docs/stable/user_guide/indexing.html#returning-a-view-versus-a-copy\n",
            "  pep1.rename(columns = {'text':'text_data'}, inplace = True)\n"
          ]
        },
        {
          "data": {
            "text/html": [
              "<div>\n",
              "<style scoped>\n",
              "    .dataframe tbody tr th:only-of-type {\n",
              "        vertical-align: middle;\n",
              "    }\n",
              "\n",
              "    .dataframe tbody tr th {\n",
              "        vertical-align: top;\n",
              "    }\n",
              "\n",
              "    .dataframe thead th {\n",
              "        text-align: right;\n",
              "    }\n",
              "</style>\n",
              "<table border=\"1\" class=\"dataframe\">\n",
              "  <thead>\n",
              "    <tr style=\"text-align: right;\">\n",
              "      <th></th>\n",
              "      <th>URI</th>\n",
              "      <th>name</th>\n",
              "      <th>text_data</th>\n",
              "    </tr>\n",
              "  </thead>\n",
              "  <tbody>\n",
              "    <tr>\n",
              "      <th>10</th>\n",
              "      <td>&lt;http://dbpedia.org/resource/Sophie_Crumb&gt;</td>\n",
              "      <td>Sophie Crumb</td>\n",
              "      <td>sophia violet sophie crumb born september 27 1...</td>\n",
              "    </tr>\n",
              "    <tr>\n",
              "      <th>11</th>\n",
              "      <td>&lt;http://dbpedia.org/resource/Jenn_Ashworth&gt;</td>\n",
              "      <td>Jenn Ashworth</td>\n",
              "      <td>jenn ashworth is an english writer she was bor...</td>\n",
              "    </tr>\n",
              "    <tr>\n",
              "      <th>12</th>\n",
              "      <td>&lt;http://dbpedia.org/resource/Jonathan_Hoefler&gt;</td>\n",
              "      <td>Jonathan Hoefler</td>\n",
              "      <td>jonathan hoefler born august 22 1970 is an ame...</td>\n",
              "    </tr>\n",
              "  </tbody>\n",
              "</table>\n",
              "</div>"
            ],
            "text/plain": [
              "                                               URI              name  \\\n",
              "10      <http://dbpedia.org/resource/Sophie_Crumb>      Sophie Crumb   \n",
              "11     <http://dbpedia.org/resource/Jenn_Ashworth>     Jenn Ashworth   \n",
              "12  <http://dbpedia.org/resource/Jonathan_Hoefler>  Jonathan Hoefler   \n",
              "\n",
              "                                            text_data  \n",
              "10  sophia violet sophie crumb born september 27 1...  \n",
              "11  jenn ashworth is an english writer she was bor...  \n",
              "12  jonathan hoefler born august 22 1970 is an ame...  "
            ]
          },
          "execution_count": 8,
          "metadata": {},
          "output_type": "execute_result"
        }
      ],
      "source": [
        "pep1.rename(columns = {'text':'text_data'}, inplace = True)\n",
        "pep1.head(3)"
      ]
    },
    {
      "cell_type": "markdown",
      "metadata": {},
      "source": [
        "## Function to make word-count as dict"
      ]
    },
    {
      "cell_type": "code",
      "execution_count": 10,
      "metadata": {},
      "outputs": [],
      "source": [
        "from sklearn.feature_extraction.text import CountVectorizer\n",
        "cv = CountVectorizer()\n",
        "def make_counts(text_data):\n",
        "    cv_fit = cv.fit_transform(text_data)\n",
        "    word_list = cv.get_feature_names_out()\n",
        "    count_list = np.asarray(cv_fit.sum(axis=0))[0]\n",
        "    final_dict = dict(zip(word_list, count_list))\n",
        "    return final_dict"
      ]
    },
    {
      "cell_type": "markdown",
      "metadata": {},
      "source": [
        "### Apply function to dataframe"
      ]
    },
    {
      "cell_type": "code",
      "execution_count": 11,
      "metadata": {},
      "outputs": [
        {
          "name": "stderr",
          "output_type": "stream",
          "text": [
            "C:\\Users\\SYED\\AppData\\Local\\Temp\\ipykernel_14944\\2495165085.py:1: SettingWithCopyWarning: \n",
            "A value is trying to be set on a copy of a slice from a DataFrame.\n",
            "Try using .loc[row_indexer,col_indexer] = value instead\n",
            "\n",
            "See the caveats in the documentation: https://pandas.pydata.org/pandas-docs/stable/user_guide/indexing.html#returning-a-view-versus-a-copy\n",
            "  pep1['word_count'] = pep1['text_data'].apply(lambda x: make_counts([x]))\n"
          ]
        }
      ],
      "source": [
        "pep1['word_count'] = pep1['text_data'].apply(lambda x: make_counts([x]))"
      ]
    },
    {
      "cell_type": "code",
      "execution_count": 12,
      "metadata": {},
      "outputs": [
        {
          "data": {
            "text/plain": [
              "{'2006': 1,\n",
              " '2012': 1,\n",
              " '84minute': 1,\n",
              " 'about': 1,\n",
              " 'age': 1,\n",
              " 'also': 3,\n",
              " 'and': 10,\n",
              " 'appearances': 1,\n",
              " 'are': 1,\n",
              " 'artist': 1,\n",
              " 'as': 2,\n",
              " 'atmospheres': 1,\n",
              " 'attention': 2,\n",
              " 'attracted': 2,\n",
              " 'audiovisual': 1,\n",
              " 'available': 1,\n",
              " 'band': 1,\n",
              " 'bands': 1,\n",
              " 'based': 1,\n",
              " 'berlinduring': 1,\n",
              " 'but': 1,\n",
              " 'camera': 1,\n",
              " 'childhood': 1,\n",
              " 'combines': 1,\n",
              " 'common': 2,\n",
              " 'content': 1,\n",
              " 'contributes': 1,\n",
              " 'creative': 2,\n",
              " 'desert': 2,\n",
              " 'design': 1,\n",
              " 'designerartist': 1,\n",
              " 'development': 1,\n",
              " 'documentaries': 1,\n",
              " 'documentary': 2,\n",
              " 'drawing': 1,\n",
              " 'due': 1,\n",
              " 'during': 1,\n",
              " 'edge': 1,\n",
              " 'editor': 1,\n",
              " 'electronic': 1,\n",
              " 'elements': 1,\n",
              " 'exist': 1,\n",
              " 'explores': 1,\n",
              " 'extraordinary': 1,\n",
              " 'fans': 1,\n",
              " 'feature': 1,\n",
              " 'few': 1,\n",
              " 'fictional': 1,\n",
              " 'film': 3,\n",
              " 'filmmaker': 1,\n",
              " 'films': 2,\n",
              " 'first': 1,\n",
              " 'for': 2,\n",
              " 'friends': 1,\n",
              " 'from': 1,\n",
              " 'fu': 1,\n",
              " 'fuzzomentary': 1,\n",
              " 'gap': 1,\n",
              " 'generate': 1,\n",
              " 'genre': 1,\n",
              " 'genres': 1,\n",
              " 'german': 1,\n",
              " 'graphic': 2,\n",
              " 'guest': 1,\n",
              " 'have': 1,\n",
              " 'he': 4,\n",
              " 'his': 8,\n",
              " 'homme': 1,\n",
              " 'illustrator': 1,\n",
              " 'in': 6,\n",
              " 'including': 1,\n",
              " 'influence': 1,\n",
              " 'internet': 1,\n",
              " 'is': 4,\n",
              " 'joerg': 1,\n",
              " 'josh': 1,\n",
              " 'known': 1,\n",
              " 'lo': 1,\n",
              " 'main': 1,\n",
              " 'manchu': 1,\n",
              " 'media': 1,\n",
              " 'most': 1,\n",
              " 'music': 3,\n",
              " 'musical': 2,\n",
              " 'musicians': 1,\n",
              " 'nevertheless': 1,\n",
              " 'of': 7,\n",
              " 'often': 1,\n",
              " 'on': 2,\n",
              " 'or': 2,\n",
              " 'painting': 1,\n",
              " 'parallel': 1,\n",
              " 'people': 1,\n",
              " 'photographing': 1,\n",
              " 'produced': 1,\n",
              " 'project': 1,\n",
              " 'release': 1,\n",
              " 'rock': 2,\n",
              " 'seeks': 1,\n",
              " 'set': 1,\n",
              " 'short': 1,\n",
              " 'shot': 1,\n",
              " 'since': 1,\n",
              " 'societyhe': 1,\n",
              " 'sound': 1,\n",
              " 'started': 1,\n",
              " 'steineck': 4,\n",
              " 'stoner': 1,\n",
              " 'stories': 1,\n",
              " 'story': 1,\n",
              " 'study': 1,\n",
              " 'subcultures': 1,\n",
              " 'such': 1,\n",
              " 'swedish': 1,\n",
              " 'tell': 2,\n",
              " 'the': 7,\n",
              " 'thirteen': 1,\n",
              " 'this': 1,\n",
              " 'time': 2,\n",
              " 'to': 6,\n",
              " 'topic': 1,\n",
              " 'trailers': 1,\n",
              " 'truckfighters': 3,\n",
              " 'unconventional': 1,\n",
              " 'underground': 1,\n",
              " 'unique': 1,\n",
              " 'vhs': 1,\n",
              " 'way': 1,\n",
              " 'well': 1,\n",
              " 'which': 1,\n",
              " 'who': 2,\n",
              " 'with': 2,\n",
              " 'works': 1}"
            ]
          },
          "execution_count": 12,
          "metadata": {},
          "output_type": "execute_result"
        }
      ],
      "source": [
        "pep1['word_count'][15]"
      ]
    },
    {
      "cell_type": "code",
      "execution_count": null,
      "metadata": {},
      "outputs": [],
      "source": []
    }
  ],
  "metadata": {
    "colab": {
      "collapsed_sections": [],
      "name": "Documents_Clustering_Colab_Turi_People-Wiki.ipynb",
      "provenance": []
    },
    "interpreter": {
      "hash": "19c641909dbba517c49d9f0678c83bb6138cd8161df841f54650d88c9b22b355"
    },
    "kernelspec": {
      "display_name": "Python 3.9.6 64-bit",
      "language": "python",
      "name": "python3"
    },
    "language_info": {
      "codemirror_mode": {
        "name": "ipython",
        "version": 3
      },
      "file_extension": ".py",
      "mimetype": "text/x-python",
      "name": "python",
      "nbconvert_exporter": "python",
      "pygments_lexer": "ipython3",
      "version": "3.9.6"
    }
  },
  "nbformat": 4,
  "nbformat_minor": 0
}
