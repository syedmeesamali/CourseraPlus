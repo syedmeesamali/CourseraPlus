{
 "cells": [
  {
   "cell_type": "markdown",
   "metadata": {},
   "source": [
    "## Sentiment Analysis - Custom Function"
   ]
  },
  {
   "cell_type": "code",
   "execution_count": 2,
   "metadata": {},
   "outputs": [],
   "source": [
    "import numpy as np"
   ]
  },
  {
   "cell_type": "code",
   "execution_count": 1,
   "metadata": {},
   "outputs": [],
   "source": [
    "def check_sentence(sent):\n",
    "    ref_dict = {\"good\": 1.0, \"awesome\": 2.5, \"bad\": -1.0, \"Didn't\": -0.5}\n",
    "    sum = 0\n",
    "    for key in ref_dict:\n",
    "        if key in sent:\n",
    "            sum += ref_dict[key]\n",
    "    return sum"
   ]
  },
  {
   "cell_type": "code",
   "execution_count": 9,
   "metadata": {},
   "outputs": [],
   "source": [
    "#some sample reviews\n",
    "sent_1 = \"Food was awesome but service was not up to mark!\"\n",
    "sent_2 = \"Didn't like the food at all\"\n",
    "sent_3 = \"Good service bad taste\"\n",
    "sent_4 = \"Awesome if you visit but some bad reviews found\"\n",
    "list_sent = [sent_1, sent_2, sent_3, sent_4]"
   ]
  },
  {
   "cell_type": "code",
   "execution_count": 10,
   "metadata": {},
   "outputs": [
    {
     "name": "stdout",
     "output_type": "stream",
     "text": [
      "[2.5, -0.5, -1.0, -1.0]\n"
     ]
    }
   ],
   "source": [
    "answers = []\n",
    "for sent in list_sent:\n",
    "    answers.append(check_sentence(sent))\n",
    "print(answers)"
   ]
  }
 ],
 "metadata": {
  "interpreter": {
   "hash": "570feb405e2e27c949193ac68f46852414290d515b0ba6e5d90d076ed2284471"
  },
  "kernelspec": {
   "display_name": "Python 3.8.6 64-bit",
   "language": "python",
   "name": "python3"
  },
  "language_info": {
   "codemirror_mode": {
    "name": "ipython",
    "version": 3
   },
   "file_extension": ".py",
   "mimetype": "text/x-python",
   "name": "python",
   "nbconvert_exporter": "python",
   "pygments_lexer": "ipython3",
   "version": "3.8.6"
  },
  "orig_nbformat": 4
 },
 "nbformat": 4,
 "nbformat_minor": 2
}
