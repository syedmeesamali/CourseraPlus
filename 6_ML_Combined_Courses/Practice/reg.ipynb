{
 "cells": [
  {
   "cell_type": "markdown",
   "metadata": {},
   "source": [
    "## Approach-1: Gradient is ZERO (0)"
   ]
  },
  {
   "cell_type": "markdown",
   "metadata": {},
   "source": [
    "#### Our goal\n",
    "- We want the line that “best fits” this data set as measured by residual sum of squares -- the simple linear regression cost. We have a closed form solution that involves the following terms:\n",
    "\n",
    "- The number of data points (N)\n",
    "- The sum (or mean) of the Ys\n",
    "- The sum (or mean) of the Xs\n",
    "- The sum (or mean) of the product of the Xs and the Ys\n",
    "- The sum (or mean) of the Xs squared\n",
    "\n",
    "Then once we have calculated all of these terms, we can use the formulas to compute the slope and intercept. Recall that we first solve for the slope and then we use the value of the slope to solve for the intercept.  The formula for the slope is a fraction with:\n",
    "\n",
    "numerator = (sum of X*Y) - (1/N)*((sum of X) * (sum of Y))\n",
    "denominator = (sum of X^2) - (1/N)*((sum of X) * (sum of X))"
   ]
  },
  {
   "cell_type": "markdown",
   "metadata": {},
   "source": [
    "### Calculating Gradient Descent"
   ]
  },
  {
   "cell_type": "code",
   "execution_count": 1,
   "metadata": {},
   "outputs": [],
   "source": [
    "import numpy as np\n",
    "import matplotlib.pyplot as plt\n",
    "\n",
    "X = np.array([0, 1, 2, 3, 4])\n",
    "y = np.array([1, 3, 7, 13, 21])"
   ]
  },
  {
   "cell_type": "code",
   "execution_count": 2,
   "metadata": {},
   "outputs": [
    {
     "data": {
      "text/plain": [
       "<matplotlib.collections.PathCollection at 0x1757d251f40>"
      ]
     },
     "execution_count": 2,
     "metadata": {},
     "output_type": "execute_result"
    },
    {
     "data": {
      "image/png": "[encoded data removed]",
      "text/plain": [
       "<Figure size 432x288 with 1 Axes>"
      ]
     },
     "metadata": {
      "needs_background": "light"
     },
     "output_type": "display_data"
    }
   ],
   "source": [
    "plt.scatter(X, y)"
   ]
  },
  {
   "cell_type": "code",
   "execution_count": 3,
   "metadata": {},
   "outputs": [],
   "source": [
    "#Define the relevant variables\n",
    "initial_intercept = 0\n",
    "initial_slope = 0\n",
    "step_size = 0.05\n",
    "tolerance = 0.01"
   ]
  },
  {
   "cell_type": "code",
   "execution_count": 5,
   "metadata": {},
   "outputs": [
    {
     "name": "stdout",
     "output_type": "stream",
     "text": [
      "Xsum : 10\n",
      "Ysum : 45\n",
      "N : 5\n"
     ]
    }
   ],
   "source": [
    "Xsum = np.sum(X)\n",
    "Ysum = np.sum(y)\n",
    "N = X.size\n",
    "print(\"Xsum : \" + str(Xsum))\n",
    "print(\"Ysum : \" + str(Ysum))\n",
    "print(\"N : \" + str(N))"
   ]
  },
  {
   "cell_type": "code",
   "execution_count": 10,
   "metadata": {},
   "outputs": [
    {
     "name": "stdout",
     "output_type": "stream",
     "text": [
      "Num : 50.0\n",
      "Denom : 10.0\n",
      "Result (SLOPE) : 5.0\n"
     ]
    }
   ],
   "source": [
    "#Slope calculation\n",
    "numerator = (np.sum(X * y)) - ((1 / N) * Xsum * Ysum)\n",
    "denom = (np.sum(X**2)) - ((1 / N) * Xsum * Xsum)\n",
    "slope = numerator / denom\n",
    "print(\"Num : \" + str(numerator))\n",
    "print(\"Denom : \" + str(denom))\n",
    "print(\"Result (SLOPE) : \" + str(slope))\n"
   ]
  },
  {
   "cell_type": "code",
   "execution_count": 13,
   "metadata": {},
   "outputs": [
    {
     "name": "stdout",
     "output_type": "stream",
     "text": [
      "Intercept : -1.0\n"
     ]
    }
   ],
   "source": [
    "#intercept = (mean of Y) - slope * (mean of X)\n",
    "intercept = np.mean(y) - slope * (np.mean(X))\n",
    "print(\"Intercept : \" + str(intercept))"
   ]
  },
  {
   "cell_type": "code",
   "execution_count": 24,
   "metadata": {},
   "outputs": [
    {
     "data": {
      "text/plain": [
       "<matplotlib.collections.PathCollection at 0x17500199520>"
      ]
     },
     "execution_count": 24,
     "metadata": {},
     "output_type": "execute_result"
    },
    {
     "data": {
      "image/png": "[encoded data removed]",
      "text/plain": [
       "<Figure size 432x288 with 1 Axes>"
      ]
     },
     "metadata": {
      "needs_background": "light"
     },
     "output_type": "display_data"
    }
   ],
   "source": [
    "def abline(slope, intercept):\n",
    "    y_vals = intercept + slope * X\n",
    "    plt.plot(X, y_vals, '--')\n",
    "\n",
    "abline(slope, intercept)\n",
    "plt.scatter(X, y)"
   ]
  },
  {
   "cell_type": "code",
   "execution_count": null,
   "metadata": {},
   "outputs": [],
   "source": []
  }
 ],
 "metadata": {
  "interpreter": {
   "hash": "19c641909dbba517c49d9f0678c83bb6138cd8161df841f54650d88c9b22b355"
  },
  "kernelspec": {
   "display_name": "Python 3.9.6 64-bit",
   "language": "python",
   "name": "python3"
  },
  "language_info": {
   "codemirror_mode": {
    "name": "ipython",
    "version": 3
   },
   "file_extension": ".py",
   "mimetype": "text/x-python",
   "name": "python",
   "nbconvert_exporter": "python",
   "pygments_lexer": "ipython3",
   "version": "3.9.6"
  },
  "orig_nbformat": 4
 },
 "nbformat": 4,
 "nbformat_minor": 2
}
