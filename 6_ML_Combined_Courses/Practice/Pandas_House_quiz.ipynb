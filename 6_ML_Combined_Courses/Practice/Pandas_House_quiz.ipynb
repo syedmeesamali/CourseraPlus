{
 "cells": [
  {
   "cell_type": "code",
   "execution_count": 1,
   "metadata": {},
   "outputs": [],
   "source": [
    "import pandas as pd\n",
    "import numpy as np\n",
    "import matplotlib.pyplot as plt\n",
    "import seaborn as sns"
   ]
  },
  {
   "cell_type": "markdown",
   "metadata": {},
   "source": [
    "## Load Housing Data"
   ]
  },
  {
   "cell_type": "code",
   "execution_count": 2,
   "metadata": {},
   "outputs": [
    {
     "name": "stdout",
     "output_type": "stream",
     "text": [
      "\n",
      "DF Train Shape: (17384, 21)\n",
      "\n",
      "DF Test Shape: (4229, 21)\n"
     ]
    }
   ],
   "source": [
    "#dtype_dict = {'bathrooms':float, 'waterfront':int, 'sqft_above':int, 'sqft_living15':float, 'grade':int, 'yr_renovated':int, 'price':float, 'bedrooms':float, 'zipcode':str, 'long':float, 'sqft_lot15':float, 'sqft_living':float, 'floors':str, 'condition':int, 'lat':float, 'date':str, 'sqft_basement':int, 'yr_built':int, 'id':str, 'sqft_lot':int, 'view':int}\n",
    "\n",
    "df_train = pd.read_csv(f\"./house_data/kc_house_train_data.csv\")\n",
    "df_test = pd.read_csv(f\"./house_data/kc_house_test_data.csv\")\n",
    "print(\"\\nDF Train Shape: {}\".format(df_train.shape))\n",
    "print(\"\\nDF Test Shape: {}\".format(df_test.shape))"
   ]
  },
  {
   "cell_type": "markdown",
   "metadata": {},
   "source": [
    "# Linear Regression Functions"
   ]
  },
  {
   "cell_type": "markdown",
   "metadata": {},
   "source": [
    "## Function: Simple linear regression"
   ]
  },
  {
   "cell_type": "code",
   "execution_count": 3,
   "metadata": {},
   "outputs": [],
   "source": [
    "def simple_linear_regression(input_feature, output):\n",
    "    features = df_train[input_feature]\n",
    "    target = df_train[output]\n",
    "    \n",
    "    #Import linear regression model\n",
    "    from sklearn.linear_model import LinearRegression\n",
    "    model = LinearRegression().fit(features, target)\n",
    "    return model.intercept_, model.coef_"
   ]
  },
  {
   "cell_type": "code",
   "execution_count": 4,
   "metadata": {},
   "outputs": [
    {
     "name": "stdout",
     "output_type": "stream",
     "text": [
      "[-47116.07907289] and coeff [[281.95883963]]\n"
     ]
    }
   ],
   "source": [
    "#Check the defined function\n",
    "input_feature_1 = ['sqft_living']\n",
    "output_1 = ['price']\n",
    "intercept_1, coef_1 = simple_linear_regression(input_feature_1, output_1)\n",
    "print(str(intercept_1) + ' and coeff ' + str(coef_1))"
   ]
  },
  {
   "cell_type": "markdown",
   "metadata": {},
   "source": [
    "## Function: Predictions of LR"
   ]
  },
  {
   "cell_type": "code",
   "execution_count": 5,
   "metadata": {},
   "outputs": [],
   "source": [
    "def get_regression_predictions(input_feature, intercept, slope):\n",
    "    predicted_output = input_feature * slope + intercept\n",
    "    return predicted_output"
   ]
  },
  {
   "cell_type": "code",
   "execution_count": 6,
   "metadata": {},
   "outputs": [
    {
     "name": "stdout",
     "output_type": "stream",
     "text": [
      "Price prediction for a house with area 2650 is [[700074.84594751]]\n"
     ]
    }
   ],
   "source": [
    "intercept_val, slope_val = simple_linear_regression(input_feature_1, output_1)\n",
    "result_pred = get_regression_predictions(2650, intercept_val, slope_val)\n",
    "print(\"Price prediction for a house with area 2650 is {}\".format(result_pred))"
   ]
  },
  {
   "cell_type": "markdown",
   "metadata": {},
   "source": [
    "## Function: Get RSS value"
   ]
  },
  {
   "cell_type": "code",
   "execution_count": null,
   "metadata": {},
   "outputs": [],
   "source": [
    "def get_residual_sum_of_squares(input_feature, output, intercept, slope):\n",
    "    result_ref = get_regression_predictions(input_feature, intercept, slope)\n",
    "    #rss_value = np.sum(np.square(output - result_ref))\n",
    "    from sklearn.metrics import mean_squared_error\n",
    "    rms = mean_squared_error(output, result_ref)\n",
    "    return rms"
   ]
  },
  {
   "cell_type": "code",
   "execution_count": null,
   "metadata": {},
   "outputs": [],
   "source": [
    "result_ref = get_regression_predictions(2650, intercept_val, slope_val)\n",
    "print(result_ref)"
   ]
  },
  {
   "cell_type": "code",
   "execution_count": null,
   "metadata": {},
   "outputs": [],
   "source": [
    "RSS_ans = get_residual_sum_of_squares(2650, 755450, intercept_val, slope_val)\n",
    "print(RSS_ans)"
   ]
  },
  {
   "cell_type": "markdown",
   "metadata": {},
   "source": [
    "## Function: Inverse value calculation"
   ]
  },
  {
   "cell_type": "code",
   "execution_count": null,
   "metadata": {},
   "outputs": [],
   "source": [
    "def inverse_regression_predictions(output, intercept, slope):\n",
    "    estimated_input = (output - intercept) / slope\n",
    "    return estimated_input"
   ]
  },
  {
   "cell_type": "code",
   "execution_count": null,
   "metadata": {},
   "outputs": [],
   "source": [
    "val_area_800k = inverse_regression_predictions(800000, intercept_1, coef_1)\n",
    "print(\"Area prediction for a house with price of $800,000 is {}\".format(val_area_800k))"
   ]
  },
  {
   "cell_type": "markdown",
   "metadata": {},
   "source": [
    "## RSS Comparison"
   ]
  },
  {
   "cell_type": "code",
   "execution_count": null,
   "metadata": {},
   "outputs": [],
   "source": [
    "#Check the defined function\n",
    "#input_feature_1 = ['sqft_living']\n",
    "#output_1 = ['price']\n",
    "intercept_bedroom, coef_bedroom = simple_linear_regression(['bedrooms'], ['price'])\n",
    "result_bedroom = get_regression_predictions(2650, intercept_bedroom, coef_bedroom)\n",
    "\n"
   ]
  }
 ],
 "metadata": {
  "interpreter": {
   "hash": "570feb405e2e27c949193ac68f46852414290d515b0ba6e5d90d076ed2284471"
  },
  "kernelspec": {
   "display_name": "Python 3.8.6 64-bit",
   "language": "python",
   "name": "python3"
  },
  "language_info": {
   "codemirror_mode": {
    "name": "ipython",
    "version": 3
   },
   "file_extension": ".py",
   "mimetype": "text/x-python",
   "name": "python",
   "nbconvert_exporter": "python",
   "pygments_lexer": "ipython3",
   "version": "3.8.6"
  }
 },
 "nbformat": 4,
 "nbformat_minor": 1
}
