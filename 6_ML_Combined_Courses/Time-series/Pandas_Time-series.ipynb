{
 "cells": [
  {
   "cell_type": "code",
   "execution_count": 1,
   "metadata": {},
   "outputs": [],
   "source": [
    "import numpy as np\n",
    "import pandas as pd\n",
    "import matplotlib.pyplot as plt"
   ]
  },
  {
   "cell_type": "code",
   "execution_count": 11,
   "metadata": {},
   "outputs": [
    {
     "data": {
      "text/html": [
       "<div>\n",
       "<style scoped>\n",
       "    .dataframe tbody tr th:only-of-type {\n",
       "        vertical-align: middle;\n",
       "    }\n",
       "\n",
       "    .dataframe tbody tr th {\n",
       "        vertical-align: top;\n",
       "    }\n",
       "\n",
       "    .dataframe thead th {\n",
       "        text-align: right;\n",
       "    }\n",
       "</style>\n",
       "<table border=\"1\" class=\"dataframe\">\n",
       "  <thead>\n",
       "    <tr style=\"text-align: right;\">\n",
       "      <th></th>\n",
       "      <th>Date</th>\n",
       "      <th>VCI</th>\n",
       "      <th>TCI</th>\n",
       "      <th>VHI</th>\n",
       "      <th>VHI (%)</th>\n",
       "      <th>Severity Class</th>\n",
       "    </tr>\n",
       "  </thead>\n",
       "  <tbody>\n",
       "    <tr>\n",
       "      <th>0</th>\n",
       "      <td>2001-01-01</td>\n",
       "      <td>0.213855</td>\n",
       "      <td>0.816744</td>\n",
       "      <td>0.515300</td>\n",
       "      <td>52</td>\n",
       "      <td>No Drought</td>\n",
       "    </tr>\n",
       "    <tr>\n",
       "      <th>1</th>\n",
       "      <td>2001-01-17</td>\n",
       "      <td>0.268072</td>\n",
       "      <td>0.803179</td>\n",
       "      <td>0.535626</td>\n",
       "      <td>54</td>\n",
       "      <td>No Drought</td>\n",
       "    </tr>\n",
       "    <tr>\n",
       "      <th>2</th>\n",
       "      <td>2001-02-02</td>\n",
       "      <td>0.328313</td>\n",
       "      <td>0.808861</td>\n",
       "      <td>0.568587</td>\n",
       "      <td>57</td>\n",
       "      <td>No Drought</td>\n",
       "    </tr>\n",
       "  </tbody>\n",
       "</table>\n",
       "</div>"
      ],
      "text/plain": [
       "         Date       VCI      TCI        VHI  VHI (%) Severity Class\n",
       "0  2001-01-01  0.213855  0.816744  0.515300       52     No Drought\n",
       "1  2001-01-17  0.268072  0.803179  0.535626       54     No Drought\n",
       "2  2001-02-02  0.328313  0.808861  0.568587       57     No Drought"
      ]
     },
     "execution_count": 11,
     "metadata": {},
     "output_type": "execute_result"
    }
   ],
   "source": [
    "df = pd.read_csv(f\"./data.csv\")\n",
    "df.head(3)"
   ]
  },
  {
   "cell_type": "code",
   "execution_count": 15,
   "metadata": {},
   "outputs": [
    {
     "data": {
      "text/html": [
       "<div>\n",
       "<style scoped>\n",
       "    .dataframe tbody tr th:only-of-type {\n",
       "        vertical-align: middle;\n",
       "    }\n",
       "\n",
       "    .dataframe tbody tr th {\n",
       "        vertical-align: top;\n",
       "    }\n",
       "\n",
       "    .dataframe thead th {\n",
       "        text-align: right;\n",
       "    }\n",
       "</style>\n",
       "<table border=\"1\" class=\"dataframe\">\n",
       "  <thead>\n",
       "    <tr style=\"text-align: right;\">\n",
       "      <th></th>\n",
       "      <th>Date</th>\n",
       "      <th>VCI</th>\n",
       "      <th>TCI</th>\n",
       "      <th>VHI</th>\n",
       "      <th>VHI (%)</th>\n",
       "      <th>Severity Class</th>\n",
       "    </tr>\n",
       "  </thead>\n",
       "  <tbody>\n",
       "    <tr>\n",
       "      <th>0</th>\n",
       "      <td>2001-01-01</td>\n",
       "      <td>0.213855</td>\n",
       "      <td>0.816744</td>\n",
       "      <td>0.515300</td>\n",
       "      <td>52</td>\n",
       "      <td>No Drought</td>\n",
       "    </tr>\n",
       "    <tr>\n",
       "      <th>1</th>\n",
       "      <td>2001-01-17</td>\n",
       "      <td>0.268072</td>\n",
       "      <td>0.803179</td>\n",
       "      <td>0.535626</td>\n",
       "      <td>54</td>\n",
       "      <td>No Drought</td>\n",
       "    </tr>\n",
       "    <tr>\n",
       "      <th>2</th>\n",
       "      <td>2001-02-02</td>\n",
       "      <td>0.328313</td>\n",
       "      <td>0.808861</td>\n",
       "      <td>0.568587</td>\n",
       "      <td>57</td>\n",
       "      <td>No Drought</td>\n",
       "    </tr>\n",
       "    <tr>\n",
       "      <th>3</th>\n",
       "      <td>2001-02-18</td>\n",
       "      <td>0.478916</td>\n",
       "      <td>0.671156</td>\n",
       "      <td>0.575036</td>\n",
       "      <td>58</td>\n",
       "      <td>No Drought</td>\n",
       "    </tr>\n",
       "    <tr>\n",
       "      <th>4</th>\n",
       "      <td>2001-03-06</td>\n",
       "      <td>0.521084</td>\n",
       "      <td>0.631804</td>\n",
       "      <td>0.576444</td>\n",
       "      <td>58</td>\n",
       "      <td>No Drought</td>\n",
       "    </tr>\n",
       "  </tbody>\n",
       "</table>\n",
       "</div>"
      ],
      "text/plain": [
       "         Date       VCI      TCI        VHI  VHI (%) Severity Class\n",
       "0  2001-01-01  0.213855  0.816744  0.515300       52     No Drought\n",
       "1  2001-01-17  0.268072  0.803179  0.535626       54     No Drought\n",
       "2  2001-02-02  0.328313  0.808861  0.568587       57     No Drought\n",
       "3  2001-02-18  0.478916  0.671156  0.575036       58     No Drought\n",
       "4  2001-03-06  0.521084  0.631804  0.576444       58     No Drought"
      ]
     },
     "execution_count": 15,
     "metadata": {},
     "output_type": "execute_result"
    }
   ],
   "source": [
    "pd.to_datetime(df['Date'], utc=False)\n",
    "df.head(5)"
   ]
  },
  {
   "cell_type": "code",
   "execution_count": 16,
   "metadata": {},
   "outputs": [
    {
     "name": "stdout",
     "output_type": "stream",
     "text": [
      "<class 'pandas.core.frame.DataFrame'>\n",
      "RangeIndex: 483 entries, 0 to 482\n",
      "Data columns (total 6 columns):\n",
      " #   Column          Non-Null Count  Dtype  \n",
      "---  ------          --------------  -----  \n",
      " 0   Date            483 non-null    object \n",
      " 1   VCI             483 non-null    float64\n",
      " 2   TCI             483 non-null    float64\n",
      " 3   VHI             483 non-null    float64\n",
      " 4   VHI (%)         483 non-null    int64  \n",
      " 5   Severity Class  483 non-null    object \n",
      "dtypes: float64(3), int64(1), object(2)\n",
      "memory usage: 22.8+ KB\n"
     ]
    }
   ],
   "source": [
    "df.info()"
   ]
  },
  {
   "cell_type": "code",
   "execution_count": 17,
   "metadata": {},
   "outputs": [
    {
     "data": {
      "image/png": "[encoded data removed]",
      "text/plain": [
       "<Figure size 1440x1080 with 4 Axes>"
      ]
     },
     "metadata": {
      "needs_background": "light"
     },
     "output_type": "display_data"
    }
   ],
   "source": [
    "#turicreate.show(sales[\"CrimeRate\"], sales[\"HousePrice\"])\n",
    "df.hist(bins = 50, figsize = (20, 15))\n",
    "plt.show()"
   ]
  },
  {
   "cell_type": "markdown",
   "metadata": {},
   "source": [
    "## Sk-learn models"
   ]
  },
  {
   "cell_type": "code",
   "execution_count": 9,
   "metadata": {},
   "outputs": [],
   "source": [
    "from sklearn.linear_model import LinearRegression\n",
    "from sklearn.linear_model import Lasso\n",
    "from sklearn.ensemble import RandomForestRegressor\n",
    "from sklearn.preprocessing import StandardScaler\n",
    "from sklearn.pipeline import make_pipeline\n",
    "\n",
    "from skforecast.ForecasterAutoreg import ForecasterAutoreg\n",
    "from skforecast.ForecasterAutoregCustom import ForecasterAutoregCustom\n",
    "from skforecast.ForecasterAutoregMultiOutput import ForecasterAutoregMultiOutput\n",
    "from skforecast.model_selection import grid_search_forecaster\n",
    "from skforecast.model_selection import backtesting_forecaster\n",
    "\n",
    "from joblib import dump, load\n",
    "\n",
    "import warnings\n",
    "# warnings.filterwarnings('ignore')"
   ]
  },
  {
   "cell_type": "code",
   "execution_count": 10,
   "metadata": {},
   "outputs": [
    {
     "data": {
      "text/plain": [
       "0.0"
      ]
     },
     "execution_count": 10,
     "metadata": {},
     "output_type": "execute_result"
    }
   ],
   "source": [
    "#Check any missing values\n",
    "df.isnull().any(axis=1).mean()"
   ]
  },
  {
   "cell_type": "code",
   "execution_count": null,
   "metadata": {},
   "outputs": [],
   "source": [
    "# Data preparation\n",
    "# ==============================================================================\n",
    "df['Date'] = pd.to_datetime(df['Date'], format='%Y/%m/%d')\n",
    "df = df.set_index('Date')\n",
    "df = df.asfreq('MS')\n",
    "data = data.sort_index()\n",
    "data.head()"
   ]
  }
 ],
 "metadata": {
  "interpreter": {
   "hash": "369f2c481f4da34e4445cda3fffd2e751bd1c4d706f27375911949ba6bb62e1c"
  },
  "kernelspec": {
   "display_name": "Python 3.10.4 64-bit",
   "language": "python",
   "name": "python3"
  },
  "language_info": {
   "codemirror_mode": {
    "name": "ipython",
    "version": 3
   },
   "file_extension": ".py",
   "mimetype": "text/x-python",
   "name": "python",
   "nbconvert_exporter": "python",
   "pygments_lexer": "ipython3",
   "version": "3.10.4"
  },
  "orig_nbformat": 4
 },
 "nbformat": 4,
 "nbformat_minor": 2
}
