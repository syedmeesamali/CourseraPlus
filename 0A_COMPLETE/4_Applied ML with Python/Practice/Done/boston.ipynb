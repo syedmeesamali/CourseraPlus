{
 "cells": [
  {
   "cell_type": "code",
   "execution_count": 1,
   "metadata": {},
   "outputs": [
    {
     "name": "stdout",
     "output_type": "stream",
     "text": [
      "(506, 13)\n"
     ]
    }
   ],
   "source": [
    "import matplotlib.pyplot as plt\n",
    "import pandas as pd\n",
    "from sklearn.datasets import load_boston\n",
    "boston = load_boston()\n",
    "print(boston.data.shape)"
   ]
  },
  {
   "cell_type": "code",
   "execution_count": 2,
   "metadata": {},
   "outputs": [],
   "source": [
    "X, y = load_boston(return_X_y=True)"
   ]
  },
  {
   "cell_type": "code",
   "execution_count": 4,
   "metadata": {},
   "outputs": [],
   "source": [
    "from sklearn.linear_model import LinearRegression\n",
    "from sklearn.linear_model import  Ridge\n",
    "from sklearn.preprocessing import PolynomialFeatures\n",
    "from sklearn.model_selection import train_test_split"
   ]
  },
  {
   "cell_type": "code",
   "execution_count": 5,
   "metadata": {},
   "outputs": [],
   "source": [
    "X_train, X_test, y_train, y_test = train_test_split(X, y, random_state = 0)"
   ]
  },
  {
   "cell_type": "code",
   "execution_count": 6,
   "metadata": {},
   "outputs": [
    {
     "name": "stdout",
     "output_type": "stream",
     "text": [
      "linear model coeff (w): [-1.17735289e-01  4.40174969e-02 -5.76814314e-03  2.39341594e+00\n",
      " -1.55894211e+01  3.76896770e+00 -7.03517828e-03 -1.43495641e+00\n",
      "  2.40081086e-01 -1.12972810e-02 -9.85546732e-01  8.44443453e-03\n",
      " -4.99116797e-01]\n",
      "linear model intercept (b): 36.933\n",
      "R-squared score (training): 0.770\n",
      "R-squared score (test): 0.635\n"
     ]
    }
   ],
   "source": [
    "linreg = LinearRegression().fit(X_train, y_train)\n",
    "print('linear model coeff (w): {}'.format(linreg.coef_))\n",
    "print('linear model intercept (b): {:.3f}'.format(linreg.intercept_))\n",
    "print('R-squared score (training): {:.3f}'.format(linreg.score(X_train, y_train)))\n",
    "print('R-squared score (test): {:.3f}'.format(linreg.score(X_test, y_test)))"
   ]
  },
  {
   "cell_type": "code",
   "execution_count": 7,
   "metadata": {},
   "outputs": [
    {
     "name": "stdout",
     "output_type": "stream",
     "text": [
      "Add the polynomial features now up to degree 2 (quadratic)\n"
     ]
    }
   ],
   "source": [
    "print(\"Add the polynomial features now up to degree 2 (quadratic)\")\n",
    "poly = PolynomialFeatures(degree=2)\n",
    "X_F1_Poly = poly.fit_transform(X)\n",
    "X_train, X_test, y_train, y_test = train_test_split(X_F1_Poly, y, random_state = 0)\n",
    "linreg = LinearRegression().fit(X_train, y_train)"
   ]
  },
  {
   "cell_type": "code",
   "execution_count": 8,
   "metadata": {},
   "outputs": [
    {
     "name": "stdout",
     "output_type": "stream",
     "text": [
      "linear model coeff (w): [-1.13008466e+09 -2.47597055e-01 -5.56247242e-02 -6.00954510e+00\n",
      "  1.70278130e+01 -2.76113267e+01  4.54425139e+00  1.26546224e+00\n",
      " -1.05359932e+01  1.14862606e+00  3.86948959e-02  2.41164972e+00\n",
      " -2.28166270e-01 -1.49869086e+00 -9.33915641e-04  5.03713300e-01\n",
      "  5.63594875e-01  1.29796992e+00 -3.61282897e-01  1.69732150e-01\n",
      "  1.54612354e-03 -1.29862554e-01  5.92890315e-01 -4.88203365e-02\n",
      "  3.59607087e-01 -1.00569591e-04  1.45278506e-02 -3.18495520e-04\n",
      " -2.14046680e-02  5.13205944e-02 -1.72594735e+00 -6.74178948e-02\n",
      "  2.99920556e-03 -9.61123992e-03 -9.81254730e-03  4.58492088e-04\n",
      "  2.56199531e-03  3.13883600e-03 -1.41547097e-02  4.73546330e-02\n",
      " -1.56444731e-02  2.20697509e-02  5.26274401e-01  3.60412903e-03\n",
      "  1.87407992e-01  1.38911191e-02  3.25779426e-04 -4.16708241e-02\n",
      "  4.16422370e-03 -1.36330555e-02  1.70278126e+01 -3.62488496e+01\n",
      " -6.52904875e+00 -2.55158925e-02 -7.98602337e-01  7.76615994e-01\n",
      " -8.83040065e-03 -1.25417718e+00  1.47218564e-01 -4.75318923e-01\n",
      "  1.65736643e+01  1.16737025e+01 -3.27465383e-01  1.47225796e+01\n",
      " -2.83710769e+00  2.48725855e-01 -8.65755830e+00 -6.79225279e-02\n",
      "  1.21153028e+00  1.08248940e+00 -1.63320012e-01  3.74380756e-01\n",
      " -6.93746171e-02 -2.76138030e-02 -3.26859656e-01  9.41513959e-03\n",
      "  1.70578586e-02 -3.38565861e-04 -3.06930215e-02  2.13777840e-02\n",
      " -7.40252720e-04 -2.23163069e-03  6.37565847e-04 -1.04905886e-02\n",
      "  4.04283532e-01  5.26714513e-02  2.51237690e-04 -3.33409744e-01\n",
      "  3.12051139e-03  1.32354879e-01 -1.26528376e-01  6.32176444e-03\n",
      "  2.13767867e-02 -3.16098973e-03 -4.55713059e-02 -4.46954122e-05\n",
      "  9.80298494e-04  3.12482833e-05  6.56889513e-04  5.18807306e-02\n",
      "  7.48082825e-03  3.36985239e-02 -2.03220435e-05 -2.09402309e-04\n",
      "  2.09989551e-02]\n",
      "linear model intercept (b): 1130084688.224\n",
      "R-squared score (training): 0.922\n",
      "R-squared score (test): 0.552\n"
     ]
    }
   ],
   "source": [
    "print('linear model coeff (w): {}'.format(linreg.coef_))\n",
    "print('linear model intercept (b): {:.3f}'.format(linreg.intercept_))\n",
    "print('R-squared score (training): {:.3f}'.format(linreg.score(X_train, y_train)))\n",
    "print('R-squared score (test): {:.3f}'.format(linreg.score(X_test, y_test)))"
   ]
  },
  {
   "cell_type": "markdown",
   "metadata": {},
   "source": [
    "## Make Scatter Plot"
   ]
  },
  {
   "cell_type": "code",
   "execution_count": null,
   "metadata": {},
   "outputs": [],
   "source": [
    "plt.scatter(pred, y_crime)"
   ]
  }
 ],
 "metadata": {
  "interpreter": {
   "hash": "9d29751b9c50b4a5a9fab6671c93244ef4f12ebae2068148cfeee9e49cc55480"
  },
  "kernelspec": {
   "display_name": "Python 3.9.6 64-bit",
   "language": "python",
   "name": "python3"
  },
  "language_info": {
   "codemirror_mode": {
    "name": "ipython",
    "version": 3
   },
   "file_extension": ".py",
   "mimetype": "text/x-python",
   "name": "python",
   "nbconvert_exporter": "python",
   "pygments_lexer": "ipython3",
   "version": "3.8.6"
  },
  "orig_nbformat": 4
 },
 "nbformat": 4,
 "nbformat_minor": 2
}
