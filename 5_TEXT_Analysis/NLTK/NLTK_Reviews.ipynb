{
 "cells": [
  {
   "attachments": {},
   "cell_type": "markdown",
   "metadata": {},
   "source": [
    "### Movie Reviews"
   ]
  },
  {
   "cell_type": "code",
   "execution_count": 1,
   "metadata": {},
   "outputs": [],
   "source": [
    "import nltk\n",
    "import random\n",
    "from nltk.corpus import movie_reviews"
   ]
  },
  {
   "attachments": {},
   "cell_type": "markdown",
   "metadata": {},
   "source": [
    "### Download reviews data"
   ]
  },
  {
   "cell_type": "code",
   "execution_count": 3,
   "metadata": {},
   "outputs": [
    {
     "name": "stderr",
     "output_type": "stream",
     "text": [
      "[nltk_data] Downloading package movie_reviews to\n",
      "[nltk_data]     C:\\Users\\SYED\\AppData\\Roaming\\nltk_data...\n",
      "[nltk_data]   Unzipping corpora\\movie_reviews.zip.\n"
     ]
    },
    {
     "data": {
      "text/plain": [
       "True"
      ]
     },
     "execution_count": 3,
     "metadata": {},
     "output_type": "execute_result"
    }
   ],
   "source": [
    "nltk.download('movie_reviews')"
   ]
  },
  {
   "cell_type": "code",
   "execution_count": 5,
   "metadata": {},
   "outputs": [
    {
     "name": "stdout",
     "output_type": "stream",
     "text": [
      "(['starring', 'arnold', 'schwarzenegger', ';', 'danny', 'devito', ';', 'emma', 'thompson', '&', 'frank', 'langella', 'the', 'only', 'thing', 'that', 'you', 'can', 'say', 'about', 'junior', 'is', 'that', 'it', 'is', 'a', 'disappointment', ',', 'and', 'a', 'big', 'one', 'at', 'that', '.', 'junior', 'brings', 'together', 'arnold', 'schwarzenegger', 'and', 'danny', 'devito', 'with', 'director', 'ivan', 'reitman', '.', 'these', 'are', 'the', 'same', 'men', 'that', 'brought', 'us', 'the', 'very', 'funny', 'twins', '.', 'so', 'foolish', 'me', ',', 'i', 'was', 'hoping', 'for', 'something', 'that', 'would', 'at', 'least', 'come', 'close', 'to', 'the', 'level', 'of', 'quality', 'of', 'twins', '.', 'so', 'much', 'for', 'hopes', '.', 'schwarzenegger', 'and', 'devito', 'play', 'two', 'scientists', '(', 'doctors', 'hesse', 'and', 'arbogast', ')', 'who', 'are', 'working', 'on', 'a', 'new', 'drug', 'that', 'will', 'reduce', 'the', 'possibility', 'of', 'miscarriage', 'in', 'pregnancy', '.', 'unfortunately', ',', 'due', 'to', 'circumstances', 'beyond', 'their', 'control', ',', 'they', 'are', 'denied', 'permission', 'to', 'test', 'this', 'new', 'drug', 'on', 'humans', ',', 'and', 'subsequently', 'lose', 'their', 'funding', '.', 'still', 'believing', 'that', 'their', 'drug', 'will', 'work', ',', 'they', 'decide', 'to', 'test', 'it', 'anyway', ',', 'on', 'hesse', '.', 'so', ',', 'dr', '.', 'hesse', '(', 'schwarzenegger', ')', 'artificially', 'inseminates', 'himself', 'and', 'begins', 'taking', 'the', 'drug', '.', 'their', 'theory', 'is', 'that', 'if', 'the', 'drug', 'can', 'prevent', 'a', 'man', 'from', 'miscarrying', ',', 'surely', 'it', 'will', 'work', 'on', 'a', 'woman', '.', 'does', 'the', 'thought', 'of', 'arnold', 'schwarzenegger', 'pregnant', 'sound', 'funny', 'or', 'humorous', 'to', 'you', '?', 'well', ',', 'it', 'must', 'have', 'to', 'the', 'producers', 'of', 'junior', '.', 'admittedly', ',', 'schwarzenegger', 'has', 'the', 'comedic', 'talent', 'to', 'pull', 'it', 'off', '.', 'perhaps', 'if', 'it', 'had', 'been', 'done', 'differently', 'it', 'might', 'have', 'actually', 'been', 'funny', '.', 'but', 'it', 'wasn', \"'\", 't', ',', 'schwarzenegger', 'pregnant', 'is', 'goofy', 'at', 'best', '.', 'the', 'sight', 'of', 'schwarzenegger', 'running', 'around', 'going', 'through', 'the', 'hormone', 'imbalances', 'that', 'come', 'with', 'pregnancy', ',', 'and', 'the', 'accompanying', 'emotional', 'swings', ',', 'is', 'not', 'funny', '.', 'schwarzenegger', 'comes', 'very', 'close', 'to', 'embarrassing', 'himself', 'with', 'these', 'antics', '.', 'i', 'kept', 'thinking', 'to', 'myself', ',', 'with', 'the', 'time', 'arnold', 'wasted', 'making', 'this', 'turkey', 'he', 'could', 'have', 'been', 'making', 'an', 'action', 'picture', '.', 'better', 'yet', ',', 'with', 'schwarzenegger', ',', 'devito', 'and', 'reitman', 'all', 'in', 'the', 'same', 'place', 'at', 'the', 'same', 'time', ',', 'why', 'didn', \"'\", 't', 'they', 'make', 'a', 'sequel', 'to', 'twins', '?', 'anything', 'would', 'have', 'been', 'better', 'than', 'this', 'mess', '.', 'danny', 'devito', 'is', 'wasted', 'in', 'this', 'movie', '.', 'his', 'part', 'could', 'have', 'been', 'played', 'by', 'any', 'joker', 'they', 'pulled', 'in', 'off', 'the', 'street', '.', '(', 'after', 'seeing', 'the', 'movie', ',', 'if', 'i', 'was', 'devito', ',', 'i', 'probably', 'would', 'have', 'wished', 'they', 'had', 'pulled', 'someone', 'in', 'off', 'the', 'street', '.', ')', 'emma', 'thompson', 'is', 'wasted', 'here', 'as', 'well', '.', 'while', 'thompson', 'is', 'best', 'known', 'for', 'her', 'jane', 'austin', 'adaptations', ',', 'she', 'is', 'also', 'a', 'fine', 'comedian', '.', 'too', 'bad', 'she', 'didn', \"'\", 't', 'get', 'to', 'use', 'any', 'of', 'that', 'talent', 'here', '.', 'am', 'i', 'being', 'too', 'hard', 'on', 'this', 'film', '?', 'i', 'don', \"'\", 't', 'think', 'so', '.', 'schwarzenegger', 'and', 'devito', 'are', 'two', 'of', 'my', 'favorite', 'actors', 'in', 'film', 'today', ',', 'and', 'ivan', 'reitman', 'is', 'one', 'of', 'the', 'more', 'talented', 'directors', 'in', 'hollywood', '.', 'with', 'a', 'supporting', 'cast', 'of', 'emma', 'thompson', 'and', 'frank', 'langella', ',', 'the', 'filmmakers', 'really', 'have', 'to', 'be', 'trying', 'hard', 'to', 'make', 'a', 'bad', 'film', '.', 'they', 'certainly', 'managed', 'here', '.', 'maybe', 'it', 'was', 'well', 'intentioned', ',', 'but', 'unfortunately', 'this', 'is', 'a', 'movie', 'that', 'never', 'should', 'have', 'been', 'made', '.', 'if', 'you', 'are', 'tempted', 'to', 'see', 'this', 'film', ',', 'do', 'yourself', 'a', 'favor', 'and', 'go', 'rent', 'twins', ',', 'a', 'film', 'that', 'truly', 'takes', 'advantage', 'of', 'arnold', 'schwarzenegger', 'and', 'danny', 'devito', \"'\", 's', 'comedic', 'talents', '.'], 'neg')\n"
     ]
    }
   ],
   "source": [
    "documents = [(list(movie_reviews.words(fileid)), category)\n",
    "            for category in movie_reviews.categories()\n",
    "            for fileid in movie_reviews.fileids(category)]\n",
    "\n",
    "random.shuffle(documents)\n",
    "print(documents[1])"
   ]
  },
  {
   "cell_type": "code",
   "execution_count": 6,
   "metadata": {},
   "outputs": [],
   "source": [
    "#Normalize by converting all to lower\n",
    "all_words = []\n",
    "\n",
    "for w in movie_reviews.words():\n",
    "    all_words.append(w.lower())"
   ]
  },
  {
   "cell_type": "code",
   "execution_count": 7,
   "metadata": {},
   "outputs": [
    {
     "name": "stdout",
     "output_type": "stream",
     "text": [
      "[(',', 77717), ('the', 76529), ('.', 65876), ('a', 38106), ('and', 35576), ('of', 34123), ('to', 31937), (\"'\", 30585), ('is', 25195), ('in', 21822), ('s', 18513), ('\"', 17612), ('it', 16107), ('that', 15924), ('-', 15595)]\n"
     ]
    }
   ],
   "source": [
    "#Convert to frequency distribution\n",
    "all_words = nltk.FreqDist(all_words)\n",
    "print(all_words.most_common(15))"
   ]
  },
  {
   "cell_type": "code",
   "execution_count": 9,
   "metadata": {},
   "outputs": [
    {
     "name": "stdout",
     "output_type": "stream",
     "text": [
      "253\n"
     ]
    }
   ],
   "source": [
    "#How many times a particular word popped-up\n",
    "print(all_words[\"stupid\"])"
   ]
  },
  {
   "cell_type": "code",
   "execution_count": 10,
   "metadata": {},
   "outputs": [],
   "source": [
    "#Take top 3000 words keys as our features dataset\n",
    "word_features = list(all_words.keys())[:3000]"
   ]
  },
  {
   "cell_type": "code",
   "execution_count": null,
   "metadata": {},
   "outputs": [],
   "source": [
    "def find_features(document):\n",
    "    words = set(document)           #Unique words\n",
    "    features = {}                   #Empty dictionary\n",
    "    for w in word_features:\n",
    "        features[w] = (w in words)      #Boolean\n",
    "    \n",
    "    return features"
   ]
  }
 ],
 "metadata": {
  "kernelspec": {
   "display_name": "Python 3",
   "language": "python",
   "name": "python3"
  },
  "language_info": {
   "codemirror_mode": {
    "name": "ipython",
    "version": 3
   },
   "file_extension": ".py",
   "mimetype": "text/x-python",
   "name": "python",
   "nbconvert_exporter": "python",
   "pygments_lexer": "ipython3",
   "version": "3.8.6"
  },
  "orig_nbformat": 4,
  "vscode": {
   "interpreter": {
    "hash": "570feb405e2e27c949193ac68f46852414290d515b0ba6e5d90d076ed2284471"
   }
  }
 },
 "nbformat": 4,
 "nbformat_minor": 2
}
