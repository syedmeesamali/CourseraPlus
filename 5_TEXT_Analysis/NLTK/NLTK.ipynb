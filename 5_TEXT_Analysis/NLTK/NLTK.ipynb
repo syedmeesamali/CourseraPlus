{
 "cells": [
  {
   "cell_type": "code",
   "execution_count": 1,
   "metadata": {},
   "outputs": [],
   "source": [
    "from nltk.corpus import stopwords\n",
    "from nltk.tokenize import word_tokenize"
   ]
  },
  {
   "cell_type": "code",
   "execution_count": 2,
   "metadata": {},
   "outputs": [
    {
     "name": "stdout",
     "output_type": "stream",
     "text": [
      "{\"shouldn't\", 'ma', 'more', 'aren', 'don', 'o', \"should've\", 'she', 'what', 'was', \"you'll\", 'where', 'him', 'this', 'hadn', 'these', 'doing', 'isn', 'wouldn', 'his', 't', 'very', 'and', 'or', 'but', 'weren', 'our', 'an', 'he', 'herself', 'does', 'will', 'about', 'if', 'mustn', 'himself', 'we', 'is', 'against', 'not', \"doesn't\", 'being', 'here', \"it's\", 'them', \"don't\", 'after', 'before', 'no', 'own', 'ours', 'why', 'they', 'through', \"didn't\", 'as', 'above', 'those', 'i', 'have', 'your', 'are', 'there', 'same', 'other', 'again', 'some', \"mightn't\", 'theirs', 'than', 'her', 'most', 'a', 'am', 'my', 'yours', 'has', 'when', 'hasn', 'you', 'because', \"she's\", \"needn't\", 'shouldn', 'below', 'over', 'do', 'needn', 'been', 'nor', 'once', 'be', 'each', 'were', 'at', 'its', \"you're\", 'wasn', \"wouldn't\", 'to', 'while', 'from', 'only', 'just', 'until', 'between', \"weren't\", 'yourself', 'whom', 'so', 'into', \"hasn't\", 'd', 'hers', 'themselves', 'y', 'for', 'ain', 'on', 'm', 'their', 're', 'further', 'doesn', \"isn't\", \"wasn't\", 'can', 'by', \"hadn't\", 'll', \"shan't\", 'that', \"that'll\", 'shan', 'did', 'too', 'down', 'had', 'me', 'all', 'both', 'should', \"mustn't\", \"won't\", 'with', \"couldn't\", 'who', 'having', 'during', 'under', 'few', \"you'd\", 'off', 've', 'it', \"aren't\", 'itself', \"you've\", 'out', 'didn', 'now', 'such', 'how', 'yourselves', 'up', 'in', 'of', 'couldn', 'won', 'myself', 'then', \"haven't\", 'haven', 'mightn', 'any', 'which', 's', 'ourselves', 'the'}\n"
     ]
    }
   ],
   "source": [
    "example = \"this is a simple example showing use of stop words in nltk.\"\n",
    "stop_words = set(stopwords.words(\"english\"))\n",
    "print(stop_words)"
   ]
  },
  {
   "cell_type": "code",
   "execution_count": 3,
   "metadata": {},
   "outputs": [
    {
     "name": "stdout",
     "output_type": "stream",
     "text": [
      "['simple', 'example', 'showing', 'use', 'stop', 'words', 'nltk', '.']\n"
     ]
    }
   ],
   "source": [
    "words = word_tokenize(example)\n",
    "filtered_sentence = []\n",
    "\n",
    "#for w in words:\n",
    "#    if w not in stop_words:\n",
    "#        filtered_sentence.append(w)\n",
    "filtered_sentence = [w for w in words if not w in stop_words]\n",
    "\n",
    "print(filtered_sentence)"
   ]
  },
  {
   "cell_type": "code",
   "execution_count": 4,
   "metadata": {},
   "outputs": [],
   "source": [
    "from nltk.stem import  PorterStemmer\n",
    "from nltk.tokenize import word_tokenize\n",
    "\n",
    "ps = PorterStemmer()"
   ]
  },
  {
   "cell_type": "code",
   "execution_count": 5,
   "metadata": {},
   "outputs": [
    {
     "name": "stdout",
     "output_type": "stream",
     "text": [
      "python\n",
      "python\n",
      "python\n",
      "python\n",
      "pythonli\n"
     ]
    }
   ],
   "source": [
    "example_words = ['python', 'pythoner', 'pythoned', 'pythoning', 'pythonly']\n",
    "for w in example_words:\n",
    "    print(ps.stem(w))"
   ]
  }
 ],
 "metadata": {
  "kernelspec": {
   "display_name": "Python 3",
   "language": "python",
   "name": "python3"
  },
  "language_info": {
   "codemirror_mode": {
    "name": "ipython",
    "version": 3
   },
   "file_extension": ".py",
   "mimetype": "text/x-python",
   "name": "python",
   "nbconvert_exporter": "python",
   "pygments_lexer": "ipython3",
   "version": "3.8.6"
  },
  "orig_nbformat": 4,
  "vscode": {
   "interpreter": {
    "hash": "570feb405e2e27c949193ac68f46852414290d515b0ba6e5d90d076ed2284471"
   }
  }
 },
 "nbformat": 4,
 "nbformat_minor": 2
}
