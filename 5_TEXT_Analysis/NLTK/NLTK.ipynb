{
 "cells": [
  {
   "cell_type": "code",
   "execution_count": 1,
   "metadata": {},
   "outputs": [],
   "source": [
    "from nltk.corpus import stopwords\n",
    "from nltk.tokenize import word_tokenize"
   ]
  },
  {
   "cell_type": "code",
   "execution_count": 4,
   "metadata": {},
   "outputs": [
    {
     "name": "stdout",
     "output_type": "stream",
     "text": [
      "{'aren', 'into', 'whom', 'shouldn', \"you'd\", 'did', 'they', \"should've\", \"mustn't\", 'a', 'here', 'as', 'i', 'further', 'off', 'than', 'other', \"shan't\", 'yourself', \"needn't\", 'on', 'only', 'then', \"didn't\", 'has', 'her', \"hadn't\", \"mightn't\", 'between', 'hers', 'wouldn', 'he', 'which', \"you'll\", 'very', 'were', 'an', 'some', 'wasn', 'by', 'own', 'until', 'from', 'too', 'we', 'under', \"aren't\", 'ours', 'haven', 'yours', 'each', 've', 'but', 'was', 'themselves', 'couldn', 'himself', 'it', 'where', 'both', \"doesn't\", 'those', 'through', 'below', 'weren', 'am', \"couldn't\", 'after', 'shan', 'if', 'myself', \"wasn't\", 'll', \"hasn't\", 'its', 'before', 'his', 's', 'mustn', 'herself', 'while', 'should', 'for', 'same', 'when', 're', 'ain', 'she', 'your', 'that', 'so', 'hadn', \"weren't\", 'more', 'because', \"she's\", 'being', \"it's\", 'o', 'or', 'in', 'not', 'yourselves', 'theirs', 'can', \"shouldn't\", 'didn', 'again', 'what', 'these', 'of', 'd', \"that'll\", 'now', \"isn't\", \"haven't\", 'up', 'down', 'my', \"you're\", 'any', 'me', 'mightn', 'hasn', 'over', 'doing', \"don't\", 'with', 'few', 'such', 'why', 'nor', 'this', 'you', 'the', 'is', 'and', 'against', \"you've\", 'once', 'during', 'just', 'needn', 'm', 'who', 'their', 'been', 'about', 'to', 'out', 'are', 'isn', 'at', 'how', 'having', 'above', 'y', 'won', 'there', 'will', 'do', 'him', \"won't\", 'them', 'don', 'itself', 'our', 'have', 'most', 'no', 'ourselves', 'be', 'does', 't', 'had', 'all', 'ma', 'doesn', \"wouldn't\"}\n"
     ]
    }
   ],
   "source": [
    "example = \"this is a simple example showing use of stop words in nltk.\"\n",
    "stop_words = set(stopwords.words(\"english\"))\n",
    "print(stop_words)"
   ]
  },
  {
   "cell_type": "code",
   "execution_count": 6,
   "metadata": {},
   "outputs": [
    {
     "name": "stdout",
     "output_type": "stream",
     "text": [
      "['simple', 'example', 'showing', 'use', 'stop', 'words', 'nltk', '.']\n"
     ]
    }
   ],
   "source": [
    "words = word_tokenize(example)\n",
    "filtered_sentence = []\n",
    "\n",
    "#for w in words:\n",
    "#    if w not in stop_words:\n",
    "#        filtered_sentence.append(w)\n",
    "filtered_sentence = [w for w in words if not w in stop_words]\n",
    "\n",
    "print(filtered_sentence)"
   ]
  }
 ],
 "metadata": {
  "kernelspec": {
   "display_name": "Python 3",
   "language": "python",
   "name": "python3"
  },
  "language_info": {
   "codemirror_mode": {
    "name": "ipython",
    "version": 3
   },
   "file_extension": ".py",
   "mimetype": "text/x-python",
   "name": "python",
   "nbconvert_exporter": "python",
   "pygments_lexer": "ipython3",
   "version": "3.8.6"
  },
  "orig_nbformat": 4,
  "vscode": {
   "interpreter": {
    "hash": "570feb405e2e27c949193ac68f46852414290d515b0ba6e5d90d076ed2284471"
   }
  }
 },
 "nbformat": 4,
 "nbformat_minor": 2
}
