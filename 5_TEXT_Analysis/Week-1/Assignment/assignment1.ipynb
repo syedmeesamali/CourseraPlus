{
 "cells": [
  {
   "cell_type": "markdown",
   "metadata": {
    "deletable": false,
    "editable": false,
    "nbgrader": {
     "cell_type": "markdown",
     "checksum": "8c772ba7352e16b900fc8038f346c124",
     "grade": false,
     "grade_id": "cell-8a754c8ce8a16eeb",
     "locked": true,
     "schema_version": 3,
     "solution": false,
     "task": false
    }
   },
   "source": [
    "# Assignment 1\n",
    "\n",
    "In this assignment, you'll be working with messy medical data and using regex to extract relevant infromation from the data. \n",
    "\n",
    "Each line of the `dates.txt` file corresponds to a medical note. Each note has a date that needs to be extracted, but each date is encoded in one of many formats.\n",
    "\n",
    "The goal of this assignment is to correctly identify all of the different date variants encoded in this dataset and to properly normalize and sort the dates. \n",
    "\n",
    "Here is a list of some of the variants you might encounter in this dataset:\n",
    "* 04/20/2009; 04/20/09; 4/20/09; 4/3/09\n",
    "* Mar-20-2009; Mar 20, 2009; March 20, 2009;  Mar. 20, 2009; Mar 20 2009;\n",
    "* 20 Mar 2009; 20 March 2009; 20 Mar. 2009; 20 March, 2009\n",
    "* Mar 20th, 2009; Mar 21st, 2009; Mar 22nd, 2009\n",
    "* Feb 2009; Sep 2009; Oct 2010\n",
    "* 6/2008; 12/2009\n",
    "* 2009; 2010\n",
    "\n",
    "Once you have extracted these date patterns from the text, the next step is to sort them in ascending chronological order accoring to the following rules:\n",
    "* Assume all dates in xx/xx/xx format are mm/dd/yy\n",
    "* Assume all dates where year is encoded in only two digits are years from the 1900's (e.g. 1/5/89 is January 5th, 1989)\n",
    "* If the day is missing (e.g. 9/2009), assume it is the first day of the month (e.g. September 1, 2009).\n",
    "* If the month is missing (e.g. 2010), assume it is the first of January of that year (e.g. January 1, 2010).\n",
    "* Watch out for potential typos as this is a raw, real-life derived dataset.\n",
    "\n",
    "With these rules in mind, find the correct date in each note and return a pandas Series in chronological order of the original Series' indices.\n",
    "\n",
    "For example if the original series was this:\n",
    "\n",
    "    0    1999\n",
    "    1    2010\n",
    "    2    1978\n",
    "    3    2015\n",
    "    4    1985\n",
    "\n",
    "Your function should return this:\n",
    "\n",
    "    0    2\n",
    "    1    4\n",
    "    2    0\n",
    "    3    1\n",
    "    4    3\n",
    "\n",
    "Your score will be calculated using [Kendall's tau](https://en.wikipedia.org/wiki/Kendall_rank_correlation_coefficient), a correlation measure for ordinal data.\n",
    "\n",
    "*This function should return a Series of length 500 and dtype int.*"
   ]
  },
  {
   "cell_type": "code",
   "execution_count": 1,
   "metadata": {
    "deletable": false,
    "editable": false,
    "nbgrader": {
     "cell_type": "code",
     "checksum": "4b47ce38a503bfb1f113580f394d8667",
     "grade": false,
     "grade_id": "cell-28048f36edc32946",
     "locked": true,
     "schema_version": 3,
     "solution": false,
     "task": false
    }
   },
   "outputs": [],
   "source": [
    "import pandas as pd\n",
    "doc = []\n",
    "labels = ['index', 'text']\n",
    "with open('dates.txt') as file:\n",
    "    for line in file:\n",
    "        doc.append(line)"
   ]
  },
  {
   "cell_type": "code",
   "execution_count": 2,
   "metadata": {},
   "outputs": [
    {
     "data": {
      "text/plain": [
       "(500,)"
      ]
     },
     "execution_count": 2,
     "metadata": {},
     "output_type": "execute_result"
    }
   ],
   "source": [
    "df = pd.Series(doc)\n",
    "df.shape"
   ]
  },
  {
   "cell_type": "code",
   "execution_count": 5,
   "metadata": {},
   "outputs": [
    {
     "data": {
      "text/plain": [
       "0          03/25/93 Total time of visit (in minutes):\\n\n",
       "1                        6/18/85 Primary Care Doctor:\\n\n",
       "2     sshe plans to move as of 7/8/71 In-Home Servic...\n",
       "3                 7 on 9/27/75 Audit C Score Current:\\n\n",
       "4     2/6/96 sleep studyPain Treatment Pain Level (N...\n",
       "5                     .Per 7/06/79 Movement D/O note:\\n\n",
       "6     4, 5/18/78 Patient's thoughts about current su...\n",
       "7     10/24/89 CPT Code: 90801 - Psychiatric Diagnos...\n",
       "8                          3/7/86 SOS-10 Total Score:\\n\n",
       "9              (4/10/71)Score-1Audit C Score Current:\\n\n",
       "10    (5/11/85) Crt-1.96, BUN-26; AST/ALT-16/22; WBC...\n",
       "11                        4/09/75 SOS-10 Total Score:\\n\n",
       "12    8/01/98 Communication with referring physician...\n",
       "13    1/26/72 Communication with referring physician...\n",
       "14    5/24/1990 CPT Code: 90792: With medical servic...\n",
       "15    1/25/2011 CPT Code: 90792: With medical servic...\n",
       "16          4/12/82 Total time of visit (in minutes):\\n\n",
       "17         1; 10/13/1976 Audit C Score, Highest/Date:\\n\n",
       "18                  4, 4/24/98 Relevant Drug History:\\n\n",
       "19    ) 59 yo unemployed w referred by Urgent Care f...\n",
       "20          7/21/98 Total time of visit (in minutes):\\n\n",
       "21                       10/21/79 SOS-10 Total Score:\\n\n",
       "22     3/03/90 CPT Code: 90792: With medical services\\n\n",
       "23     2/11/76 CPT Code: 90792: With medical services\\n\n",
       "24    07/25/1984 CPT Code: 90791: No medical services\\n\n",
       "25    4-13-82 Other Child Mental Health Outcomes Sca...\n",
       "26     9/22/89 CPT Code: 90792: With medical services\\n\n",
       "27       9/02/76 CPT Code: 90791: No medical services\\n\n",
       "28                               9/12/71 [report_end]\\n\n",
       "29    10/24/86 Communication with referring physicia...\n",
       "30       03/31/1985 Total time of visit (in minutes):\\n\n",
       "31       7/20/72 CPT Code: 90791: No medical services\\n\n",
       "32         4/12/87= 1, negativeAudit C Score Current:\\n\n",
       "33         06/20/91 Total time of visit (in minutes):\\n\n",
       "34                     5/12/2012 Primary Care Doctor:\\n\n",
       "35                        3/15/83 SOS-10 Total Score:\\n\n",
       "36    2/14/73 CPT Code: 90801 - Psychiatric Diagnosi...\n",
       "37     5/24/88 CPT Code: 90792: With medical services\\n\n",
       "38        7/27/1986 Total time of visit (in minutes):\\n\n",
       "39    1-14-81 Communication with referring physician...\n",
       "40    7-29-75 CPT Code: 90801 - Psychiatric Diagnosi...\n",
       "41    (6/24/87) TSH-2.18; Activities of Daily Living...\n",
       "42                       8/14/94 Primary Care Doctor:\\n\n",
       "43                     4/13/2002 Primary Care Doctor:\\n\n",
       "44     8/16/82 CPT Code: 90792: With medical services\\n\n",
       "45        2/15/1998 Total time of visit (in minutes):\\n\n",
       "46     7/15/91 CPT Code: 90792: With medical services\\n\n",
       "47                       06/12/94 SOS-10 Total Score:\\n\n",
       "48    9/17/84 Communication with referring physician...\n",
       "49    2/28/75 Other Adult Mental Health Outcomes Sca...\n",
       "dtype: object"
      ]
     },
     "execution_count": 5,
     "metadata": {},
     "output_type": "execute_result"
    }
   ],
   "source": [
    "df.head(50)"
   ]
  },
  {
   "cell_type": "code",
   "execution_count": 11,
   "metadata": {},
   "outputs": [
    {
     "name": "stdout",
     "output_type": "stream",
     "text": [
      "<class 'pandas.core.series.Series'>\n",
      "RangeIndex: 500 entries, 0 to 499\n",
      "Series name: None\n",
      "Non-Null Count  Dtype \n",
      "--------------  ----- \n",
      "500 non-null    object\n",
      "dtypes: object(1)\n",
      "memory usage: 4.0+ KB\n"
     ]
    }
   ],
   "source": [
    "df.info()"
   ]
  },
  {
   "cell_type": "code",
   "execution_count": 12,
   "metadata": {},
   "outputs": [],
   "source": [
    "df.columns = ['Index', 'Text']"
   ]
  },
  {
   "cell_type": "code",
   "execution_count": 14,
   "metadata": {},
   "outputs": [
    {
     "data": {
      "text/plain": [
       "0         03/25/93 Total time of visit (in minutes):\\n\n",
       "1                       6/18/85 Primary Care Doctor:\\n\n",
       "2    sshe plans to move as of 7/8/71 In-Home Servic...\n",
       "3                7 on 9/27/75 Audit C Score Current:\\n\n",
       "4    2/6/96 sleep studyPain Treatment Pain Level (N...\n",
       "dtype: object"
      ]
     },
     "execution_count": 14,
     "metadata": {},
     "output_type": "execute_result"
    }
   ],
   "source": [
    "df.head(5)"
   ]
  },
  {
   "cell_type": "code",
   "execution_count": 15,
   "metadata": {},
   "outputs": [
    {
     "data": {
      "text/plain": [
       "0    03/25/93 Total time of visit (in minutes):\\n\n",
       "1                  6/18/85 Primary Care Doctor:\\n\n",
       "dtype: object"
      ]
     },
     "execution_count": 15,
     "metadata": {},
     "output_type": "execute_result"
    }
   ],
   "source": [
    "df[:2]"
   ]
  },
  {
   "cell_type": "code",
   "execution_count": null,
   "metadata": {
    "deletable": false,
    "nbgrader": {
     "cell_type": "code",
     "checksum": "3e58e227860ae4b02d6bdddd81506787",
     "grade": false,
     "grade_id": "cell-d6f35a51303ed6ff",
     "locked": false,
     "schema_version": 3,
     "solution": true,
     "task": false
    }
   },
   "outputs": [],
   "source": [
    "def date_sorter():\n",
    "    \n",
    "    order = None\n",
    "    # YOUR CODE HERE\n",
    "    raise NotImplementedError()\n",
    "    return order # Your answer here"
   ]
  }
 ],
 "metadata": {
  "coursera": {
   "course_slug": "python-text-mining",
   "graded_item_id": "LvcWI",
   "launcher_item_id": "krne9",
   "part_id": "Mkp1I"
  },
  "kernelspec": {
   "display_name": "Python 3",
   "language": "python",
   "name": "python3"
  },
  "language_info": {
   "codemirror_mode": {
    "name": "ipython",
    "version": 3
   },
   "file_extension": ".py",
   "mimetype": "text/x-python",
   "name": "python",
   "nbconvert_exporter": "python",
   "pygments_lexer": "ipython3",
   "version": "3.10.4"
  },
  "vscode": {
   "interpreter": {
    "hash": "369f2c481f4da34e4445cda3fffd2e751bd1c4d706f27375911949ba6bb62e1c"
   }
  }
 },
 "nbformat": 4,
 "nbformat_minor": 4
}
