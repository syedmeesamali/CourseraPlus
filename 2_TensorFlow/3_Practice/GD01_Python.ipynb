{
 "cells": [
  {
   "attachments": {},
   "cell_type": "markdown",
   "metadata": {},
   "source": [
    "## Gradient Descent"
   ]
  },
  {
   "cell_type": "code",
   "execution_count": 2,
   "metadata": {},
   "outputs": [],
   "source": [
    "import matplotlib.pyplot as plt\n",
    "import numpy as np"
   ]
  },
  {
   "cell_type": "code",
   "execution_count": 3,
   "metadata": {},
   "outputs": [],
   "source": [
    "# Data points\n",
    "X = np.array([0, 1, 2, 3, 4])\n",
    "Y = np.array([1, 3, 7, 13, 21])"
   ]
  },
  {
   "cell_type": "code",
   "execution_count": 4,
   "metadata": {},
   "outputs": [
    {
     "data": {
      "image/png": "[encoded data removed]",
      "text/plain": [
       "<Figure size 432x288 with 1 Axes>"
      ]
     },
     "metadata": {
      "needs_background": "light"
     },
     "output_type": "display_data"
    }
   ],
   "source": [
    "plt.xlabel(\"X-Values\")\n",
    "plt.ylabel(\"Y-Values\")\n",
    "plt.scatter(X, Y)\n",
    "plt.show()"
   ]
  },
  {
   "attachments": {},
   "cell_type": "markdown",
   "metadata": {},
   "source": [
    "### Gradient Descent Items"
   ]
  },
  {
   "cell_type": "code",
   "execution_count": 5,
   "metadata": {},
   "outputs": [],
   "source": [
    "W0 = 0\n",
    "W1 = 0\n",
    "eta = 0.05\n",
    "epsilon = 0.01"
   ]
  },
  {
   "attachments": {},
   "cell_type": "markdown",
   "metadata": {},
   "source": [
    "### The function for Gradient Descent"
   ]
  },
  {
   "cell_type": "code",
   "execution_count": 15,
   "metadata": {},
   "outputs": [],
   "source": [
    "def gradient(intercept, slope, input, output):\n",
    "    pred = intercept + slope * input\n",
    "    i = 0\n",
    "    error = pred - output\n",
    "    sum1 = sum(error)\n",
    "    adjustment_intercept = eta * sum1\n",
    "    intercept = intercept - adjustment_intercept\n",
    "    sum2 = sum(input * error)\n",
    "    adjustment_slope = eta * sum2\n",
    "    slope = slope - adjustment_slope\n",
    "    mag = np.sqrt(sum1**2 + sum2**2)\n",
    "    while mag > epsilon:\n",
    "        pred = intercept + slope * input\n",
    "        i += 1\n",
    "        error = pred - output\n",
    "        sum1 = sum(error)\n",
    "        adjustment_intercept = eta * sum1\n",
    "        intercept = intercept - adjustment_intercept\n",
    "        sum2 = sum(input * error)\n",
    "        adjustment_slope = eta * sum2\n",
    "        slope = slope - adjustment_slope\n",
    "        print(\"Current step is {}\".format(i))\n",
    "        mag = np.sqrt(sum1**2 + sum2**2)\n",
    "    return intercept, slope"
   ]
  },
  {
   "cell_type": "code",
   "execution_count": 16,
   "metadata": {},
   "outputs": [
    {
     "name": "stdout",
     "output_type": "stream",
     "text": [
      "Current step is 1\n",
      "Current step is 2\n",
      "Current step is 3\n",
      "Current step is 4\n",
      "Current step is 5\n",
      "Current step is 6\n",
      "Current step is 7\n",
      "Current step is 8\n",
      "Current step is 9\n",
      "Current step is 10\n",
      "Current step is 11\n",
      "Current step is 12\n",
      "Current step is 13\n",
      "Current step is 14\n",
      "Current step is 15\n",
      "Current step is 16\n",
      "Current step is 17\n",
      "Current step is 18\n",
      "Current step is 19\n",
      "Current step is 20\n",
      "Current step is 21\n",
      "Current step is 22\n",
      "Current step is 23\n",
      "Current step is 24\n",
      "Current step is 25\n",
      "Current step is 26\n",
      "Current step is 27\n",
      "Current step is 28\n",
      "Current step is 29\n",
      "Current step is 30\n",
      "Current step is 31\n",
      "Current step is 32\n",
      "Current step is 33\n",
      "Current step is 34\n",
      "Current step is 35\n",
      "Current step is 36\n",
      "Current step is 37\n",
      "Current step is 38\n",
      "Current step is 39\n",
      "Current step is 40\n",
      "Current step is 41\n",
      "Current step is 42\n",
      "Current step is 43\n",
      "Current step is 44\n",
      "Current step is 45\n",
      "Current step is 46\n",
      "Current step is 47\n",
      "Current step is 48\n",
      "Current step is 49\n",
      "Current step is 50\n",
      "Current step is 51\n",
      "Current step is 52\n",
      "Current step is 53\n",
      "Current step is 54\n",
      "Current step is 55\n",
      "Current step is 56\n",
      "Current step is 57\n",
      "Current step is 58\n",
      "Current step is 59\n",
      "Current step is 60\n",
      "Current step is 61\n",
      "Current step is 62\n",
      "Current step is 63\n",
      "Current step is 64\n",
      "Current step is 65\n",
      "Current step is 66\n",
      "Current step is 67\n",
      "Current step is 68\n",
      "Current step is 69\n",
      "Current step is 70\n",
      "Current step is 71\n",
      "Current step is 72\n",
      "Current step is 73\n",
      "Current step is 74\n",
      "Current step is 75\n",
      "Current step is 76\n",
      "Current step is 77\n",
      "(-0.9942069818917416, 4.997967918970868)\n"
     ]
    }
   ],
   "source": [
    "ans = gradient(W0, W1, X, Y)\n",
    "print(ans)"
   ]
  },
  {
   "cell_type": "code",
   "execution_count": 13,
   "metadata": {},
   "outputs": [
    {
     "name": "stdout",
     "output_type": "stream",
     "text": [
      "-0.9942069818917416\n"
     ]
    }
   ],
   "source": [
    "print(ans[0])"
   ]
  },
  {
   "cell_type": "code",
   "execution_count": 18,
   "metadata": {},
   "outputs": [
    {
     "data": {
      "image/png": "[encoded data removed]",
      "text/plain": [
       "<Figure size 432x288 with 1 Axes>"
      ]
     },
     "metadata": {
      "needs_background": "light"
     },
     "output_type": "display_data"
    }
   ],
   "source": [
    "plt.xlabel(\"X-Values\")\n",
    "plt.ylabel(\"Y-Values\")\n",
    "plt.scatter(X, Y)\n",
    "plt.plot(X, ans[0] + ans[1] * X)\n",
    "plt.show()"
   ]
  }
 ],
 "metadata": {
  "kernelspec": {
   "display_name": "Python 3",
   "language": "python",
   "name": "python3"
  },
  "language_info": {
   "codemirror_mode": {
    "name": "ipython",
    "version": 3
   },
   "file_extension": ".py",
   "mimetype": "text/x-python",
   "name": "python",
   "nbconvert_exporter": "python",
   "pygments_lexer": "ipython3",
   "version": "3.8.6"
  },
  "orig_nbformat": 4,
  "vscode": {
   "interpreter": {
    "hash": "570feb405e2e27c949193ac68f46852414290d515b0ba6e5d90d076ed2284471"
   }
  }
 },
 "nbformat": 4,
 "nbformat_minor": 2
}
