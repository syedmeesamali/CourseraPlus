{
 "cells": [
  {
   "attachments": {},
   "cell_type": "markdown",
   "metadata": {},
   "source": [
    "## Gradient Descent"
   ]
  },
  {
   "cell_type": "code",
   "execution_count": null,
   "metadata": {},
   "outputs": [],
   "source": [
    "import matplotlib.pyplot as plt\n",
    "import numpy as np"
   ]
  },
  {
   "cell_type": "code",
   "execution_count": null,
   "metadata": {},
   "outputs": [],
   "source": [
    "# Data points\n",
    "X = np.array([0, 1, 2, 3, 4])\n",
    "Y = np.array([1, 3, 7, 13, 21])"
   ]
  },
  {
   "cell_type": "code",
   "execution_count": null,
   "metadata": {},
   "outputs": [],
   "source": [
    "plt.xlabel(\"X-Values\")\n",
    "plt.ylabel(\"Y-Values\")\n",
    "plt.scatter(X, Y)\n",
    "plt.show()"
   ]
  },
  {
   "attachments": {},
   "cell_type": "markdown",
   "metadata": {},
   "source": [
    "### Gradient Descent Items"
   ]
  },
  {
   "cell_type": "code",
   "execution_count": null,
   "metadata": {},
   "outputs": [],
   "source": [
    "W0 = 0\n",
    "W1 = 0\n",
    "eta = 0.05\n",
    "epsilon = 0.01"
   ]
  },
  {
   "attachments": {},
   "cell_type": "markdown",
   "metadata": {},
   "source": [
    "### Step - 1"
   ]
  },
  {
   "cell_type": "code",
   "execution_count": null,
   "metadata": {},
   "outputs": [],
   "source": [
    "pred1 = W0 + W1 * X\n",
    "print(\"Step-3: Prediction is: {}\".format(pred1))\n",
    "error = pred1 - Y\n",
    "print(\"Step-3: Error is (Ypred - Y): {}\".format(error))\n",
    "esum = sum(error)\n",
    "print(\"Step-3: Error sum is: {}\".format(esum))\n",
    "adjustment = eta * esum\n",
    "print(\"Step-3: Adjust is (eta x sum(errors)): {}\".format(adjustment))\n",
    "W0 = W0 - adjustment\n",
    "print(\"Step-3: New intercept (W0) is: {}\".format(W0))\n",
    "esum_slope = sum(X * error)\n",
    "print(\"Step-3: New slope derivative (sum (input * errors)) is: {}\".format(esum_slope))\n",
    "adjustment_slope = eta * esum_slope\n",
    "print(\"Step-3: Adjust is (eta x sum(slope)): {}\".format(adjustment_slope))\n",
    "W1 = W1 - adjustment_slope\n",
    "print(\"Step-3: New slope value (W1) is: {}\".format(W1))\n",
    "mag = np.sqrt(esum**2 + esum_slope**2)\n",
    "print(\"Step-3: Magnitude is: {}\".format(mag))"
   ]
  },
  {
   "cell_type": "code",
   "execution_count": null,
   "metadata": {},
   "outputs": [],
   "source": [
    "plt.xlabel(\"X-Values\")\n",
    "plt.ylabel(\"Y-Values\")\n",
    "plt.scatter(X, Y)\n",
    "plt.plot(X, pred1)\n",
    "plt.show()"
   ]
  },
  {
   "attachments": {},
   "cell_type": "markdown",
   "metadata": {},
   "source": [
    "### Step - 2"
   ]
  },
  {
   "cell_type": "code",
   "execution_count": null,
   "metadata": {},
   "outputs": [],
   "source": [
    "pred1 = W0 + W1 * X\n",
    "print(\"Step-3: Prediction is: {}\".format(pred1))\n",
    "error = pred1 - Y\n",
    "print(\"Step-3: Error is (Ypred - Y): {}\".format(error))\n",
    "esum = sum(error)\n",
    "print(\"Step-3: Error sum is: {}\".format(esum))\n",
    "adjustment = eta * esum\n",
    "print(\"Step-3: Adjust is (eta x sum(errors)): {}\".format(adjustment))\n",
    "W0 = W0 - adjustment\n",
    "print(\"Step-3: New intercept (W0) is: {}\".format(W0))\n",
    "esum_slope = sum(X * error)\n",
    "print(\"Step-3: New slope derivative (sum (input * errors)) is: {}\".format(esum_slope))\n",
    "adjustment_slope = eta * esum_slope\n",
    "print(\"Step-3: Adjust is (eta x sum(slope)): {}\".format(adjustment_slope))\n",
    "W1 = W1 - adjustment_slope\n",
    "print(\"Step-3: New slope value (W1) is: {}\".format(W1))\n",
    "mag = np.sqrt(esum**2 + esum_slope**2)\n",
    "print(\"Step-3: Magnitude is: {}\".format(mag))"
   ]
  },
  {
   "cell_type": "code",
   "execution_count": null,
   "metadata": {},
   "outputs": [],
   "source": [
    "plt.xlabel(\"X-Values\")\n",
    "plt.ylabel(\"Y-Values\")\n",
    "plt.scatter(X, Y)\n",
    "plt.plot(X, pred1)\n",
    "plt.show()"
   ]
  },
  {
   "attachments": {},
   "cell_type": "markdown",
   "metadata": {},
   "source": [
    "### Step-3"
   ]
  },
  {
   "cell_type": "code",
   "execution_count": null,
   "metadata": {},
   "outputs": [],
   "source": [
    "pred1 = W0 + W1 * X\n",
    "print(\"Step-3: Prediction is: {}\".format(pred1))\n",
    "error = pred1 - Y\n",
    "print(\"Step-3: Error is (Ypred - Y): {}\".format(error))\n",
    "esum = sum(error)\n",
    "print(\"Step-3: Error sum is: {}\".format(esum))\n",
    "adjustment = eta * esum\n",
    "print(\"Step-3: Adjust is (eta x sum(errors)): {}\".format(adjustment))\n",
    "W0 = W0 - adjustment\n",
    "print(\"Step-3: New intercept (W0) is: {}\".format(W0))\n",
    "esum_slope = sum(X * error)\n",
    "print(\"Step-3: New slope derivative (sum (input * errors)) is: {}\".format(esum_slope))\n",
    "adjustment_slope = eta * esum_slope\n",
    "print(\"Step-3: Adjust is (eta x sum(slope)): {}\".format(adjustment_slope))\n",
    "W1 = W1 - adjustment_slope\n",
    "print(\"Step-3: New slope value (W1) is: {}\".format(W1))\n",
    "mag = np.sqrt(esum**2 + esum_slope**2)\n",
    "print(\"Step-3: Magnitude is: {}\".format(mag))"
   ]
  },
  {
   "cell_type": "code",
   "execution_count": null,
   "metadata": {},
   "outputs": [],
   "source": [
    "plt.xlabel(\"X-Values\")\n",
    "plt.ylabel(\"Y-Values\")\n",
    "plt.scatter(X, Y)\n",
    "plt.plot(X, pred1)\n",
    "plt.show()"
   ]
  },
  {
   "attachments": {},
   "cell_type": "markdown",
   "metadata": {},
   "source": [
    "### Step-4"
   ]
  },
  {
   "cell_type": "code",
   "execution_count": null,
   "metadata": {},
   "outputs": [],
   "source": [
    "pred1 = W0 + W1 * X\n",
    "error = pred1 - Y\n",
    "esum = sum(error)\n",
    "adjustment = eta * esum\n",
    "W0 = W0 - adjustment\n",
    "print(\"Step-3: New intercept (W0) is: {}\".format(W0))\n",
    "esum_slope = sum(X * error)\n",
    "adjustment_slope = eta * esum_slope\n",
    "W1 = W1 - adjustment_slope\n",
    "print(\"Step-3: New slope value (W1) is: {}\".format(W1))\n",
    "mag = np.sqrt(esum**2 + esum_slope**2)\n",
    "print(\"Step-3: Magnitude is: {}\".format(mag))"
   ]
  },
  {
   "cell_type": "code",
   "execution_count": null,
   "metadata": {},
   "outputs": [],
   "source": [
    "plt.xlabel(\"X-Values\")\n",
    "plt.ylabel(\"Y-Values\")\n",
    "plt.scatter(X, Y)\n",
    "plt.plot(X, pred1)\n",
    "plt.show()"
   ]
  }
 ],
 "metadata": {
  "kernelspec": {
   "display_name": "Python 3",
   "language": "python",
   "name": "python3"
  },
  "language_info": {
   "codemirror_mode": {
    "name": "ipython",
    "version": 3
   },
   "file_extension": ".py",
   "mimetype": "text/x-python",
   "name": "python",
   "nbconvert_exporter": "python",
   "pygments_lexer": "ipython3",
   "version": "3.8.6"
  },
  "orig_nbformat": 4,
  "vscode": {
   "interpreter": {
    "hash": "570feb405e2e27c949193ac68f46852414290d515b0ba6e5d90d076ed2284471"
   }
  }
 },
 "nbformat": 4,
 "nbformat_minor": 2
}
