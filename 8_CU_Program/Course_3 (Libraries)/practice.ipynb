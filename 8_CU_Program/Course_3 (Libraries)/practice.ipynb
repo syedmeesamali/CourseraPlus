{
 "cells": [
  {
   "cell_type": "code",
   "execution_count": 1,
   "metadata": {},
   "outputs": [],
   "source": [
    "import random"
   ]
  },
  {
   "cell_type": "code",
   "execution_count": 30,
   "metadata": {},
   "outputs": [
    {
     "name": "stdout",
     "output_type": "stream",
     "text": [
      "0 = rock, 1 = paper, 2 = scissor\n",
      "Game is TIE\n"
     ]
    }
   ],
   "source": [
    "def result():\n",
    "    return random.randint(0, 2)\n",
    "\n",
    "def game():\n",
    "    a = result()\n",
    "    b = result()\n",
    "    print(\"0 = rock, 1 = paper, 2 = scissor\")\n",
    "    if a == b:\n",
    "        print(\"Game is a TIE\")\n",
    "    elif a == 0 and b == 2:\n",
    "        print(\"A won = ROCK\")\n",
    "\n",
    "game()"
   ]
  }
 ],
 "metadata": {
  "kernelspec": {
   "display_name": "Python 3",
   "language": "python",
   "name": "python3"
  },
  "language_info": {
   "codemirror_mode": {
    "name": "ipython",
    "version": 3
   },
   "file_extension": ".py",
   "mimetype": "text/x-python",
   "name": "python",
   "nbconvert_exporter": "python",
   "pygments_lexer": "ipython3",
   "version": "3.10.10"
  }
 },
 "nbformat": 4,
 "nbformat_minor": 2
}
