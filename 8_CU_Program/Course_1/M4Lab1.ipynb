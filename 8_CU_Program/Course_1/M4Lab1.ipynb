{
 "cells": [
  {
   "cell_type": "markdown",
   "metadata": {
    "id": "cnAUJprJdh9_"
   },
   "source": [
    "# Welcome to our Lab Practice!"
   ]
  },
  {
   "cell_type": "markdown",
   "metadata": {
    "id": "vVYcayGedmms"
   },
   "source": [
    "This lab is about repetition - while loops. Are you ready? Let's get started!"
   ]
  },
  {
   "cell_type": "markdown",
   "metadata": {
    "id": "JP8eGBVyeSQx"
   },
   "source": [
    "You will find some small tasks in sections below. "
   ]
  },
  {
   "cell_type": "markdown",
   "metadata": {
    "id": "EZ42d1Sue0Zp"
   },
   "source": [
    "###Task: Print all integers from -5 to 5. \n"
   ]
  },
  {
   "cell_type": "code",
   "execution_count": 2,
   "metadata": {
    "id": "yDzNIHsSeu85"
   },
   "outputs": [
    {
     "name": "stdout",
     "output_type": "stream",
     "text": [
      "-5\n",
      "-4\n",
      "-3\n",
      "-2\n",
      "-1\n",
      "0\n",
      "1\n",
      "2\n",
      "3\n",
      "4\n",
      "5\n"
     ]
    }
   ],
   "source": [
    "x = -5\n",
    "print(x)\n",
    "while x < 5:\n",
    "    x += 1\n",
    "    print(x)"
   ]
  },
  {
   "cell_type": "markdown",
   "metadata": {
    "id": "u8WEYfEqIbWX"
   },
   "source": [
    "###Task: Print all integers of an interval given by the user\n",
    "\n",
    "Ask the user to enter two integers and print all integers between (including) them."
   ]
  },
  {
   "cell_type": "code",
   "execution_count": 10,
   "metadata": {
    "id": "LKSmcHRRJUYY"
   },
   "outputs": [
    {
     "name": "stdout",
     "output_type": "stream",
     "text": [
      "2\n",
      "3\n",
      "4\n",
      "5\n",
      "6\n",
      "7\n",
      "8\n",
      "9\n",
      "10\n",
      "11\n",
      "12\n",
      "13\n",
      "14\n",
      "15\n"
     ]
    }
   ],
   "source": [
    "x = int(input(\"Enter start: \"))\n",
    "y = int(input(\"Enter end: \"))\n",
    "i = x - 1\n",
    "while i < y:\n",
    "    i += 1\n",
    "    print(i)"
   ]
  },
  {
   "cell_type": "markdown",
   "metadata": {
    "id": "-__o8ovbfSEH"
   },
   "source": [
    "###Task: Double The Number \n",
    "\n",
    "Step 1: Ask the user to enter a small positive number (0 - 10) \n",
    "\n",
    "Step 2: Double the number, print it out, and repeat, until the number beyond 1,000,000\n",
    "\n",
    "(How fast the number is growing)"
   ]
  },
  {
   "cell_type": "code",
   "execution_count": 5,
   "metadata": {
    "id": "hOpxhSKog18Y"
   },
   "outputs": [
    {
     "name": "stdout",
     "output_type": "stream",
     "text": [
      "Number is: 9\n",
      "Number is: 18\n",
      "Number is: 36\n",
      "Number is: 72\n",
      "Number is: 144\n",
      "Number is: 288\n",
      "Number is: 576\n",
      "Number is: 1152\n",
      "Number is: 2304\n",
      "Number is: 4608\n",
      "Number is: 9216\n",
      "Number is: 18432\n",
      "Number is: 36864\n",
      "Number is: 73728\n",
      "Number is: 147456\n",
      "Number is: 294912\n",
      "Number is: 589824\n"
     ]
    }
   ],
   "source": [
    "x = int(input(\"Enter positive number from 1-10: \"))\n",
    "y = x\n",
    "if x > 0 and x < 10:\n",
    "    while y < 1000000:\n",
    "        print(\"Number is: \" + str(y))\n",
    "        y = y * 2\n",
    "else:\n",
    "    print(\"Wrong Input !\")\n"
   ]
  },
  {
   "cell_type": "markdown",
   "metadata": {
    "id": "uZYVZQIvIlPy"
   },
   "source": [
    "###Task: Keep asking for candy until 'STOP'  \n",
    "\n",
    "Step1: Ask the user to enter anything\n",
    "\n",
    "Step2: print a message 'Thanks! I got a candy'\n",
    "\n",
    "Step3: Repeat Step 1 and 2, until the user enter 'Done'\n",
    "\n",
    "Step4: print a message 'Thanks! I have enough.'"
   ]
  },
  {
   "cell_type": "code",
   "execution_count": 7,
   "metadata": {
    "id": "Y_3dcyvcQ2GI"
   },
   "outputs": [
    {
     "name": "stdout",
     "output_type": "stream",
     "text": [
      "Thanks! I got a candy\n",
      "Thanks! I got a candy\n",
      "Thanks! I got a candy\n",
      "Thanks! I got a candy\n",
      "Thanks I Got Enough!\n"
     ]
    }
   ],
   "source": [
    "x = input(\"Enter anything? \")\n",
    "y = 0\n",
    "while x != 'Done':\n",
    "    print(\"Thanks! I got a candy\")\n",
    "    x = input(\"Enter anything? \")\n",
    "print(\"Thanks I Got Enough!\")\n"
   ]
  },
  {
   "cell_type": "markdown",
   "metadata": {
    "id": "qKFwdIypmt5J"
   },
   "source": [
    "### Task: Password Setup\n",
    "\n",
    "*   Ask the user to enter a new password.\n",
    "*   Ask the user to enter the password again.\n",
    "*   If the second input matches the first one, print \"You are all set\", otherwise, repeat the process.\n"
   ]
  },
  {
   "cell_type": "code",
   "execution_count": 8,
   "metadata": {
    "id": "6pqvFtl8nHei"
   },
   "outputs": [
    {
     "name": "stdout",
     "output_type": "stream",
     "text": [
      "You are all set!\n"
     ]
    }
   ],
   "source": [
    "x = input(\"Enter new password !\")\n",
    "y = input(\"Enter password again\")\n",
    "while x != y:\n",
    "    x = input(\"Enter new password !\")\n",
    "    y = input(\"Enter password again\")\n",
    "print(\"You are all set!\")"
   ]
  }
 ],
 "metadata": {
  "colab": {
   "authorship_tag": "ABX9TyMkDmNPlllv6iN7DGWO6ZGo",
   "collapsed_sections": [],
   "name": "M4Lab1.ipynb",
   "provenance": [],
   "toc_visible": true
  },
  "kernelspec": {
   "display_name": "Python 3",
   "name": "python3"
  },
  "language_info": {
   "codemirror_mode": {
    "name": "ipython",
    "version": 3
   },
   "file_extension": ".py",
   "mimetype": "text/x-python",
   "name": "python",
   "nbconvert_exporter": "python",
   "pygments_lexer": "ipython3",
   "version": "3.10.10"
  }
 },
 "nbformat": 4,
 "nbformat_minor": 0
}
