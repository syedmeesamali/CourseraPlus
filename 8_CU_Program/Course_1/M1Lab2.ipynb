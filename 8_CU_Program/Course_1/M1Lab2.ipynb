{
 "cells": [
  {
   "cell_type": "markdown",
   "metadata": {
    "id": "cnAUJprJdh9_"
   },
   "source": [
    "# Welcome to our Lab Practice!"
   ]
  },
  {
   "cell_type": "markdown",
   "metadata": {
    "id": "vVYcayGedmms"
   },
   "source": [
    "This lab is all about **input()** and we are going to get all kinds of information from the user (you) and print the respnose on the screen. Are you ready? Let's get started!"
   ]
  },
  {
   "cell_type": "markdown",
   "metadata": {
    "id": "JP8eGBVyeSQx"
   },
   "source": [
    "You will find some small tasks in sections below. You should use input() to get the user to enter the information and use print() to print the information on the screen."
   ]
  },
  {
   "cell_type": "markdown",
   "metadata": {
    "id": "TNbXeCDFeAcJ"
   },
   "source": [
    "## Ask for names"
   ]
  },
  {
   "cell_type": "markdown",
   "metadata": {
    "id": "EZ42d1Sue0Zp"
   },
   "source": [
    "###Task: Ask **\"What's your name?\"** and print the input on the screen"
   ]
  },
  {
   "cell_type": "code",
   "execution_count": 1,
   "metadata": {
    "id": "yDzNIHsSeu85"
   },
   "outputs": [
    {
     "name": "stdout",
     "output_type": "stream",
     "text": [
      "meesam\n"
     ]
    }
   ],
   "source": [
    "print(input(\"What's your name?\"))"
   ]
  },
  {
   "cell_type": "markdown",
   "metadata": {
    "id": "-__o8ovbfSEH"
   },
   "source": [
    "###Task: Ask **\"How do you feel so far? Enter 1 for Good; 2 for very good.\"** and print the input on the screen"
   ]
  },
  {
   "cell_type": "code",
   "execution_count": 2,
   "metadata": {
    "id": "hOpxhSKog18Y"
   },
   "outputs": [
    {
     "name": "stdout",
     "output_type": "stream",
     "text": [
      "1\n"
     ]
    }
   ],
   "source": [
    "print(input(\"How do you feel so far? Enter 1 for Good; 2 for very good.\"))"
   ]
  },
  {
   "cell_type": "markdown",
   "metadata": {
    "id": "NpCNxK68gpME"
   },
   "source": [
    "###Task: Ask **\"Are you ready to learn more? Enter Yes or No.\"** and print the input on the screen"
   ]
  },
  {
   "cell_type": "code",
   "execution_count": 3,
   "metadata": {
    "id": "txg-7uKfgKeW"
   },
   "outputs": [
    {
     "name": "stdout",
     "output_type": "stream",
     "text": [
      "yes\n"
     ]
    }
   ],
   "source": [
    "print(input(\"Are you ready to learn more? Enter Yes or No.\"))"
   ]
  },
  {
   "cell_type": "markdown",
   "metadata": {
    "id": "D8pWdoN7d6Dy"
   },
   "source": [
    "## Ask for numbers"
   ]
  },
  {
   "cell_type": "markdown",
   "metadata": {
    "id": "rXgbUIBRgQoG"
   },
   "source": [
    "###Task: Ask **\"How old are you?\"** and print the input on the screen"
   ]
  },
  {
   "cell_type": "code",
   "execution_count": 4,
   "metadata": {
    "id": "oIKwmW2mfe3d"
   },
   "outputs": [
    {
     "name": "stdout",
     "output_type": "stream",
     "text": [
      "36\n"
     ]
    }
   ],
   "source": [
    "print(input(\"How old are you?\"))"
   ]
  },
  {
   "cell_type": "markdown",
   "metadata": {
    "id": "QPoCScdkheK3"
   },
   "source": [
    "###Task: Ask **\"Which number is your lucky number?\"** and print the input on the screen"
   ]
  },
  {
   "cell_type": "code",
   "execution_count": 5,
   "metadata": {
    "id": "tsFowDAKhJCB"
   },
   "outputs": [
    {
     "name": "stdout",
     "output_type": "stream",
     "text": [
      "5\n"
     ]
    }
   ],
   "source": [
    "print(input(\"Which number is your lucky number?\"))"
   ]
  },
  {
   "cell_type": "markdown",
   "metadata": {
    "id": "TE6Df1WYhu10"
   },
   "source": [
    "###Task: Ask **\"What date is today? yyyymmdd\"** and print the input on the screen"
   ]
  },
  {
   "cell_type": "code",
   "execution_count": 6,
   "metadata": {
    "id": "MSjQbhNXhJVV"
   },
   "outputs": [
    {
     "name": "stdout",
     "output_type": "stream",
     "text": [
      "20241117\n"
     ]
    }
   ],
   "source": [
    "print(input(\"What date is today? yyyymmdd\"))"
   ]
  }
 ],
 "metadata": {
  "colab": {
   "authorship_tag": "ABX9TyNpPOWtGiOclKMDQaThZbWG",
   "name": "M1Lab2.ipynb",
   "provenance": []
  },
  "kernelspec": {
   "display_name": "Python 3",
   "name": "python3"
  },
  "language_info": {
   "codemirror_mode": {
    "name": "ipython",
    "version": 3
   },
   "file_extension": ".py",
   "mimetype": "text/x-python",
   "name": "python",
   "nbconvert_exporter": "python",
   "pygments_lexer": "ipython3",
   "version": "3.10.10"
  }
 },
 "nbformat": 4,
 "nbformat_minor": 0
}
