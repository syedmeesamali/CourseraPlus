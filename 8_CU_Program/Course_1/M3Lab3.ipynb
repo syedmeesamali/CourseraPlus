{
 "cells": [
  {
   "cell_type": "markdown",
   "metadata": {
    "id": "cnAUJprJdh9_"
   },
   "source": [
    "# Welcome to our Lab Practice!"
   ]
  },
  {
   "cell_type": "markdown",
   "metadata": {
    "id": "vVYcayGedmms"
   },
   "source": [
    "This lab is about branching - if-elif-else statements. Are you ready? Let's get started!"
   ]
  },
  {
   "cell_type": "markdown",
   "metadata": {
    "id": "JP8eGBVyeSQx"
   },
   "source": [
    "You will find some small tasks in sections below. "
   ]
  },
  {
   "cell_type": "markdown",
   "metadata": {
    "id": "EZ42d1Sue0Zp"
   },
   "source": [
    "###Task: check if a number is positive, negative, or 0. \n",
    "\n",
    "You should ask the user to enter a number, if it is above 0, print \"It is positive\"; if it is below 0, print \"It is negative\"; otherwise, print \"It is zero\"."
   ]
  },
  {
   "cell_type": "code",
   "execution_count": 3,
   "metadata": {
    "id": "yDzNIHsSeu85"
   },
   "outputs": [
    {
     "name": "stdout",
     "output_type": "stream",
     "text": [
      "It is zero\n"
     ]
    }
   ],
   "source": [
    "x = int(input(\"Enter a number: \"))\n",
    "if x > 0:\n",
    "    print(\"It is positive\")\n",
    "elif x < 0:\n",
    "    print(\"It is negative\")\n",
    "else:\n",
    "    print(\"It is zero\")"
   ]
  },
  {
   "cell_type": "markdown",
   "metadata": {
    "id": "u8WEYfEqIbWX"
   },
   "source": [
    "###Task: check how many days current month has. \n",
    "\n",
    "You should ask the user to enter the number indicating the current month, such as 1 as Janurary; then print the days the month has, such as print 31 if the user entered 1. Let's assume there are 28 days in February."
   ]
  },
  {
   "cell_type": "code",
   "execution_count": 5,
   "metadata": {
    "id": "LKSmcHRRJUYY"
   },
   "outputs": [
    {
     "name": "stdout",
     "output_type": "stream",
     "text": [
      "This has 31 days\n"
     ]
    }
   ],
   "source": [
    "x = int(input(\"Enter the month as digit: \"))\n",
    "if x == 1 or x ==3 or x == 5 or x == 7 or x == 8 or x == 10 or x == 12:\n",
    "    print(\"This has 31 days\")\n",
    "elif x == 2:\n",
    "    print(\"It has 28 days\")\n",
    "else:\n",
    "    print(\"It has 30 days\")"
   ]
  },
  {
   "cell_type": "markdown",
   "metadata": {
    "id": "-__o8ovbfSEH"
   },
   "source": [
    "###Task: collect parking fee \n",
    "\n",
    "A parking garage has following price policy\n",
    "\n",
    "\n",
    "1.   first half hour: 5\n",
    "2.   second half hour to 2 hours: 15\n",
    "3.   more than 2 hours: 5 per hour\n",
    "\n",
    "Ask the user to enter the hours of parking (it should be a float number, such as 1.6 as 1.6 hours), and calculate the parking fee.\n",
    "\n"
   ]
  },
  {
   "cell_type": "code",
   "execution_count": 18,
   "metadata": {
    "id": "hOpxhSKog18Y"
   },
   "outputs": [
    {
     "name": "stdout",
     "output_type": "stream",
     "text": [
      "Fees will be 5\n"
     ]
    }
   ],
   "source": [
    "x = float(input(\"Enter the parking time: \"))\n",
    "if x <= 0.5:\n",
    "    y = 5\n",
    "    print(\"Fees will be \" + str(y))\n",
    "if x <= 2.0 and x > 0.5:\n",
    "    y = 15\n",
    "    print(\"Fees will be \" + str(y))\n",
    "if x > 2.0:\n",
    "    y = 15 + (x - 2) * 5\n",
    "    print(\"Fees will be \" + str(y))"
   ]
  },
  {
   "cell_type": "markdown",
   "metadata": {
    "id": "uZYVZQIvIlPy"
   },
   "source": [
    "###Task: What stage are you in?  \n",
    "\n",
    "Write a program that asks the user to enter a person’s age. The program should display a message indicating whether the person is an infant, a child, a teenager, an adult, or a senior citizen. \n",
    "\n",
    "Following are the guidelines:\n",
    "1.   If the person is 1 year old or less, he or she is an infant.\n",
    "1.   If the person is older than 1 year, but younger than 13 years, he or she is a child.\n",
    "1.   If the person is at least 13 years old, but less than 20 years old, he or she is a teenager.\n",
    "1.   If the person is at least 20 years old, but less than 65 years old, he or she is an adult.\n",
    "1.   Otherwise the person is a senior citizen."
   ]
  },
  {
   "cell_type": "code",
   "execution_count": 10,
   "metadata": {
    "id": "Y_3dcyvcQ2GI"
   },
   "outputs": [
    {
     "name": "stdout",
     "output_type": "stream",
     "text": [
      "You are SENIOR citizen now !!\n"
     ]
    }
   ],
   "source": [
    "x = int(input(\"Enter your age: \"))\n",
    "if x >= 65:\n",
    "    print(\"You are SENIOR citizen now !!\")\n",
    "if x >= 20 and x < 65:\n",
    "    print(\"YOu are an adult\")\n",
    "if x >= 13 and x < 20:\n",
    "    print(\"YOu are a teenager\")\n",
    "if x < 13 and x > 1:\n",
    "    print(\"You are a child\")\n",
    "if x <= 1:\n",
    "    print(\"You are an infant\")"
   ]
  }
 ],
 "metadata": {
  "colab": {
   "authorship_tag": "ABX9TyNnhJlGnE+NLLYflt9CoF9e",
   "collapsed_sections": [],
   "name": "M3Lab3.ipynb",
   "provenance": [],
   "toc_visible": true
  },
  "kernelspec": {
   "display_name": "Python 3",
   "name": "python3"
  },
  "language_info": {
   "codemirror_mode": {
    "name": "ipython",
    "version": 3
   },
   "file_extension": ".py",
   "mimetype": "text/x-python",
   "name": "python",
   "nbconvert_exporter": "python",
   "pygments_lexer": "ipython3",
   "version": "3.10.10"
  }
 },
 "nbformat": 4,
 "nbformat_minor": 0
}
