{
 "cells": [
  {
   "cell_type": "markdown",
   "metadata": {
    "id": "cnAUJprJdh9_"
   },
   "source": [
    "# Welcome to our Lab Practice!"
   ]
  },
  {
   "cell_type": "markdown",
   "metadata": {
    "id": "vVYcayGedmms"
   },
   "source": [
    "This lab is about arithmetic operations, more assignemnt operations from input(). Are you ready? Let's get started!"
   ]
  },
  {
   "cell_type": "markdown",
   "metadata": {
    "id": "JP8eGBVyeSQx"
   },
   "source": [
    "You will find some small tasks in sections below. "
   ]
  },
  {
   "cell_type": "markdown",
   "metadata": {
    "id": "TNbXeCDFeAcJ"
   },
   "source": [
    "## Arithmetic Operation\n",
    "\n",
    "In this section, you are going to code and run arithmetic operations of two numbers.\n",
    "\n",
    "Hint: to print out the equation, we can use the print() to print multiple values out. \n",
    "\n",
    "For example, print(x, 'operator', y, '=', x operator y) for an operator."
   ]
  },
  {
   "cell_type": "markdown",
   "metadata": {
    "id": "hhAeaPrjTLRT"
   },
   "source": [
    "###Task: Get some computation.\n",
    "\n",
    "1.   Assign x with 2, y with 3.\n",
    "2.   print out the equation and result of\n",
    "  1.   x + y\n",
    "  2.   x - y\n",
    "  3.   x * y\n",
    "  4.   x / y\n",
    "  5.   x // y\n",
    "  6.   x ** y\n",
    "  7.   x % y\n",
    "\n",
    "\n",
    "\n"
   ]
  },
  {
   "cell_type": "code",
   "execution_count": 1,
   "metadata": {
    "id": "v4jLx-_gTIFA"
   },
   "outputs": [
    {
     "name": "stdout",
     "output_type": "stream",
     "text": [
      "5 -1 6 0.6666666666666666 0 8 2\n"
     ]
    }
   ],
   "source": [
    "x = 2\n",
    "y = 3\n",
    "print(x+y, x-y, x*y, x/y, x//y, x**y, x%y)"
   ]
  },
  {
   "cell_type": "markdown",
   "metadata": {
    "id": "TEHPJ_CpUuOv"
   },
   "source": [
    "###Task: Get some other computation.\n",
    "\n",
    "1.   Assign x with a value you like, y with another value you like.\n",
    "2.   print out the equation and result of\n",
    "  1.   x + y\n",
    "  2.   x - y\n",
    "  3.   x * y\n",
    "  4.   x / y\n",
    "  5.   x // y\n",
    "  6.   x ** y\n",
    "  7.   x % y\n",
    "3.   Are there some value that will crash your program? Why?"
   ]
  },
  {
   "cell_type": "code",
   "execution_count": 2,
   "metadata": {
    "id": "e4UI_UJpU-7q"
   },
   "outputs": [
    {
     "name": "stdout",
     "output_type": "stream",
     "text": [
      "14 0 49 1.0 1 823543 0\n"
     ]
    }
   ],
   "source": [
    "x = 7\n",
    "y = 7\n",
    "print(x+y, x-y, x*y, x/y, x//y, x**y, x%y)"
   ]
  },
  {
   "cell_type": "markdown",
   "metadata": {
    "id": "D8pWdoN7d6Dy"
   },
   "source": [
    "## Get Inputs from Users"
   ]
  },
  {
   "cell_type": "markdown",
   "metadata": {
    "id": "EZ42d1Sue0Zp"
   },
   "source": [
    "###Task: Help the User\n",
    "\n",
    "1.   Ask the user to enter an integer, convert and assign it to x;\n",
    "2.   Ask the user to enter another integer, convert and assign it to y;\n",
    "3.   print out the equation and result of\n",
    "  1.   x + y\n",
    "  2.   x - y\n",
    "  3.   x * y\n",
    "  4.   x / y\n",
    "  5.   x // y\n",
    "  6.   x ** y\n",
    "  7.   x % y\n",
    "3.   Are there some value that will crash your program? Why?\n"
   ]
  },
  {
   "cell_type": "code",
   "execution_count": 4,
   "metadata": {
    "id": "yDzNIHsSeu85"
   },
   "outputs": [
    {
     "name": "stdout",
     "output_type": "stream",
     "text": [
      "14 0 49 1.0 1 823543 0\n"
     ]
    }
   ],
   "source": [
    "x = int(input(\"Enter x value as integer\"))\n",
    "y = int(input(\"Enter y value as integer\"))\n",
    "print(x+y, x-y, x*y, x/y, x//y, x**y, x%y)"
   ]
  },
  {
   "cell_type": "code",
   "execution_count": 1,
   "metadata": {},
   "outputs": [
    {
     "name": "stdout",
     "output_type": "stream",
     "text": [
      "8.54 -0.5599999999999996 18.1545 0.876923076923077 0.0 542.5336442829507 3.99\n"
     ]
    }
   ],
   "source": [
    "x = float(input(\"Enter x value as float\"))\n",
    "y = float(input(\"Enter y value as float\"))\n",
    "print(x+y, x-y, x*y, x/y, x//y, x**y, x%y)"
   ]
  },
  {
   "cell_type": "code",
   "execution_count": 2,
   "metadata": {},
   "outputs": [
    {
     "name": "stdout",
     "output_type": "stream",
     "text": [
      "True\n"
     ]
    }
   ],
   "source": [
    "a = 15\n",
    "b = 5\n",
    "z = b < 7 and a > 5\n",
    "print(z)"
   ]
  },
  {
   "cell_type": "code",
   "execution_count": null,
   "metadata": {},
   "outputs": [],
   "source": []
  }
 ],
 "metadata": {
  "colab": {
   "authorship_tag": "ABX9TyOXe+qZYXYVhnqVfwDSkMUc",
   "collapsed_sections": [],
   "name": "M2Lab2.ipynb",
   "provenance": [],
   "toc_visible": true
  },
  "kernelspec": {
   "display_name": "Python 3",
   "name": "python3"
  },
  "language_info": {
   "codemirror_mode": {
    "name": "ipython",
    "version": 3
   },
   "file_extension": ".py",
   "mimetype": "text/x-python",
   "name": "python",
   "nbconvert_exporter": "python",
   "pygments_lexer": "ipython3",
   "version": "3.10.10"
  }
 },
 "nbformat": 4,
 "nbformat_minor": 0
}
