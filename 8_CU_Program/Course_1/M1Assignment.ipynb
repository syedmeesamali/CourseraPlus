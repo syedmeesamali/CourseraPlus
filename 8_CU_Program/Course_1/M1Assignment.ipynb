{
 "cells": [
  {
   "cell_type": "markdown",
   "metadata": {
    "id": "cnAUJprJdh9_"
   },
   "source": [
    "# Welcome to our first assignment!"
   ]
  },
  {
   "cell_type": "markdown",
   "metadata": {
    "id": "vVYcayGedmms"
   },
   "source": [
    "This assignment is about testing your understanding of **print()** and **input()**. We are going to create some interactive programs using these two simple tools. Are you ready? Let's get started!"
   ]
  },
  {
   "cell_type": "markdown",
   "metadata": {
    "id": "JP8eGBVyeSQx"
   },
   "source": [
    "You will find some small tasks in sections below. You should use input() to get the user to enter the information and use print() to print the information on the screen."
   ]
  },
  {
   "cell_type": "markdown",
   "metadata": {
    "id": "TNbXeCDFeAcJ"
   },
   "source": [
    "## Prepare a document"
   ]
  },
  {
   "cell_type": "markdown",
   "metadata": {
    "id": "EZ42d1Sue0Zp"
   },
   "source": [
    "###Instruction: You are going to print a document on the screen. The document is a template, which has {} as place holder and should get inputs from the user. Let's get it done step by step.\n",
    "\n",
    "You should use multiple input() to get the information from the user.\n",
    "\n",
    "The template is as below: \n",
    "\n",
    "Dear **{receiver's name}**: \n",
    "\n",
    "This is **{your first name}**. I'm writing to let you know that the weather in **{your location}** is fantastic! \n",
    "\n",
    "I'm taking Python for Data Science course. I have coded **{#}** programs and the expereince was fun! Join me if you are interested!\n",
    "\n",
    "Sincerely,\n",
    "\n",
    "**{your full name}**\n",
    "\n",
    "**{date}**"
   ]
  },
  {
   "cell_type": "markdown",
   "metadata": {
    "id": "DyQ1h_lc-GPr"
   },
   "source": [
    "Step1: Get receiver's name, and print line 1: \n",
    "\n",
    "Dear **{receiver's name}**:"
   ]
  },
  {
   "cell_type": "code",
   "execution_count": 1,
   "metadata": {
    "id": "TQXvwhRN-E5y"
   },
   "outputs": [
    {
     "name": "stdout",
     "output_type": "stream",
     "text": [
      "Dear Meesam\n"
     ]
    }
   ],
   "source": [
    "x = input(\"Name\")\n",
    "print(\"Dear \" + x)"
   ]
  },
  {
   "cell_type": "markdown",
   "metadata": {
    "id": "qTOkvVoP-iIC"
   },
   "source": [
    "Step2: Get your first name, your location and print line 2:\n",
    "\n",
    "This is **{your first name}**. I'm writing to let you know that the weather in **{your location}** is fantastic!"
   ]
  },
  {
   "cell_type": "code",
   "execution_count": 2,
   "metadata": {
    "id": "28aI1cPg-bhz"
   },
   "outputs": [
    {
     "name": "stdout",
     "output_type": "stream",
     "text": [
      "This is ali. I'm writing to let you know that the weather in riyadh is fantastic.\n"
     ]
    }
   ],
   "source": [
    "x1 = input(\"First name\")\n",
    "x2 = input(\"Location\")\n",
    "print(\"This is \" + x1 + \". I\\'m writing to let you know that the weather in \" + x2 + \" is fantastic.\")"
   ]
  },
  {
   "cell_type": "markdown",
   "metadata": {
    "id": "EJvVv9Ru-uQb"
   },
   "source": [
    "Step3: Get the number of programs you have practiced, and print line 3:\n",
    "\n",
    "I'm taking Python for Data Science course. I have coded **{# of programs}** programs and the expereince was fun! Join me if you are interested!"
   ]
  },
  {
   "cell_type": "code",
   "execution_count": 3,
   "metadata": {
    "id": "A_KiRedV-b-R"
   },
   "outputs": [
    {
     "name": "stdout",
     "output_type": "stream",
     "text": [
      "I'm taking python for DS. I've taken a total of 6 programs.\n"
     ]
    }
   ],
   "source": [
    "y = input(\"Programs\")\n",
    "print(\"I\\'m taking python for DS. I've taken a total of \" + y + \" programs.\")"
   ]
  },
  {
   "cell_type": "markdown",
   "metadata": {
    "id": "Vcorzmiw--mY"
   },
   "source": [
    "Step 4: print line 4:\n",
    "\n",
    "Sincerely,"
   ]
  },
  {
   "cell_type": "code",
   "execution_count": 4,
   "metadata": {
    "id": "D5ecQStI-cLa"
   },
   "outputs": [
    {
     "name": "stdout",
     "output_type": "stream",
     "text": [
      "\n",
      " ali shah\n"
     ]
    }
   ],
   "source": [
    "x = input(\"Name\")\n",
    "print(\"\\n \" + x)"
   ]
  },
  {
   "cell_type": "markdown",
   "metadata": {
    "id": "G30-dTVm_K8x"
   },
   "source": [
    "Step 5: Get your full name and print line 5:\n",
    "\n",
    "**{your full name}**"
   ]
  },
  {
   "cell_type": "code",
   "execution_count": 5,
   "metadata": {
    "id": "944wmoQl_S_K"
   },
   "outputs": [
    {
     "name": "stdout",
     "output_type": "stream",
     "text": [
      "Meesam Ali\n"
     ]
    }
   ],
   "source": [
    "x = input(\"Full Name\")\n",
    "print(x)"
   ]
  },
  {
   "cell_type": "markdown",
   "metadata": {
    "id": "3i-SsAvT_BT6"
   },
   "source": [
    "Step 6: Get today's date and print line 6:\n",
    "\n",
    "**{date}**"
   ]
  },
  {
   "cell_type": "code",
   "execution_count": 6,
   "metadata": {
    "id": "OFGPKomw-cXR"
   },
   "outputs": [
    {
     "name": "stdout",
     "output_type": "stream",
     "text": [
      "For date: 2024-11-17\n"
     ]
    }
   ],
   "source": [
    "y3 = input(\"today's date\")\n",
    "print(\"For date: \" + y3)"
   ]
  },
  {
   "cell_type": "markdown",
   "metadata": {
    "id": "7Ysdu7UJ_qf8"
   },
   "source": [
    "**Congratulations! You finished Assignment 1 and completed Module 1!**"
   ]
  },
  {
   "cell_type": "code",
   "execution_count": 2,
   "metadata": {},
   "outputs": [
    {
     "name": "stdout",
     "output_type": "stream",
     "text": [
      "24-11-12 is the date!!\n"
     ]
    }
   ],
   "source": [
    "print(input(\"Enter today's date: \") + \" is the date!!\")"
   ]
  },
  {
   "cell_type": "code",
   "execution_count": null,
   "metadata": {},
   "outputs": [],
   "source": []
  }
 ],
 "metadata": {
  "colab": {
   "authorship_tag": "ABX9TyNTqMp39oPUbIwyJ0x13ALk",
   "name": "M1Assignment1.ipynb",
   "provenance": []
  },
  "kernelspec": {
   "display_name": "Python 3",
   "name": "python3"
  },
  "language_info": {
   "codemirror_mode": {
    "name": "ipython",
    "version": 3
   },
   "file_extension": ".py",
   "mimetype": "text/x-python",
   "name": "python",
   "nbconvert_exporter": "python",
   "pygments_lexer": "ipython3",
   "version": "3.10.10"
  }
 },
 "nbformat": 4,
 "nbformat_minor": 0
}
