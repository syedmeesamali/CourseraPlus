{
 "cells": [
  {
   "cell_type": "markdown",
   "metadata": {
    "id": "cnAUJprJdh9_"
   },
   "source": [
    "# Welcome to our Lab Practice!"
   ]
  },
  {
   "cell_type": "markdown",
   "metadata": {
    "id": "vVYcayGedmms"
   },
   "source": [
    "This lab is all about defining functions with multiple parameters. Are you ready? Let's go!"
   ]
  },
  {
   "cell_type": "markdown",
   "metadata": {
    "id": "JP8eGBVyeSQx"
   },
   "source": [
    "You will find some small tasks in sections below. After defining functions, call them to test."
   ]
  },
  {
   "cell_type": "markdown",
   "metadata": {
    "id": "MBpHkOhIfmrY"
   },
   "source": [
    "###Task: define a function that print \"*message*\" *n* times, where *message* and *n* are parameters"
   ]
  },
  {
   "cell_type": "code",
   "execution_count": 1,
   "metadata": {
    "id": "Orw6NIIef0Wp"
   },
   "outputs": [
    {
     "name": "stdout",
     "output_type": "stream",
     "text": [
      "hello world\n",
      "hello world\n",
      "hello world\n",
      "hello world\n",
      "hello world\n"
     ]
    }
   ],
   "source": [
    "def print_msg(message, n):\n",
    "    for i in range(1, n+1):\n",
    "        print(message)\n",
    "\n",
    "\n",
    "print_msg(\"hello world\", 5)"
   ]
  },
  {
   "cell_type": "markdown",
   "metadata": {
    "id": "DVjL6nU0f2Z_"
   },
   "source": [
    "###Task: define a function that print integers *n*  to *m* (hint: you can use a for loop), where *n* and *m* are parameters, and *n < m*.\n",
    "\n",
    "Challenge: Can you write a program that doesn't require *n < m*? "
   ]
  },
  {
   "cell_type": "code",
   "execution_count": 2,
   "metadata": {
    "id": "2iYaPzVSghML"
   },
   "outputs": [
    {
     "name": "stdout",
     "output_type": "stream",
     "text": [
      "123\n",
      "124\n",
      "125\n",
      "126\n",
      "127\n",
      "128\n",
      "129\n",
      "130\n",
      "131\n",
      "132\n",
      "133\n",
      "134\n",
      "135\n"
     ]
    }
   ],
   "source": [
    "def print_ints(n, m):\n",
    "    for i in range(n, m+1):\n",
    "        print(i)\n",
    "\n",
    "\n",
    "print_ints(123, 135)"
   ]
  },
  {
   "cell_type": "markdown",
   "metadata": {
    "id": "YhJrQh4eghzb"
   },
   "source": [
    "###Task: define a function that print the sum of *n*  to *m*, where *n, m* are parameters, and *n* < *m*."
   ]
  },
  {
   "cell_type": "code",
   "execution_count": null,
   "metadata": {
    "id": "n2Mm6RVYgwOq"
   },
   "outputs": [],
   "source": [
    "# your code will be here"
   ]
  },
  {
   "cell_type": "markdown",
   "metadata": {
    "id": "LzU4n3lDgzMR"
   },
   "source": [
    "###Task: define a function that print the AND logical operation of *condition1* and *condition 2*, where *condition1, condition2* are parameters."
   ]
  },
  {
   "cell_type": "code",
   "execution_count": null,
   "metadata": {
    "id": "aoARtrf-hEJR"
   },
   "outputs": [],
   "source": [
    "# your code will be here"
   ]
  },
  {
   "cell_type": "markdown",
   "metadata": {
    "id": "WLCfkBtOhEfa"
   },
   "source": [
    "###Task: define a function that print if *n* is dividible by *m*, where *n, m* are parameters."
   ]
  },
  {
   "cell_type": "code",
   "execution_count": null,
   "metadata": {
    "id": "h_aYoPmWhPRL"
   },
   "outputs": [],
   "source": [
    "# your code will be here"
   ]
  },
  {
   "cell_type": "markdown",
   "metadata": {
    "id": "RNil8H04hUDq"
   },
   "source": [
    "###Task: define a function that print the minimal number from *x, y, z*, where *x, y, z* are parameters"
   ]
  },
  {
   "cell_type": "code",
   "execution_count": null,
   "metadata": {
    "id": "HaZfxaajhhn8"
   },
   "outputs": [],
   "source": [
    "# your code will be here"
   ]
  }
 ],
 "metadata": {
  "colab": {
   "authorship_tag": "ABX9TyOkauti1DOQK2y+ygbW/LCH",
   "collapsed_sections": [],
   "name": "M2Lab2.ipynb",
   "provenance": [],
   "toc_visible": true
  },
  "kernelspec": {
   "display_name": "Python 3",
   "name": "python3"
  },
  "language_info": {
   "codemirror_mode": {
    "name": "ipython",
    "version": 3
   },
   "file_extension": ".py",
   "mimetype": "text/x-python",
   "name": "python",
   "nbconvert_exporter": "python",
   "pygments_lexer": "ipython3",
   "version": "3.10.10"
  }
 },
 "nbformat": 4,
 "nbformat_minor": 0
}
