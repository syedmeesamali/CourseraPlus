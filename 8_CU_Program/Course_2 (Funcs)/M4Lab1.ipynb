{
 "cells": [
  {
   "cell_type": "markdown",
   "metadata": {
    "id": "cnAUJprJdh9_"
   },
   "source": [
    "# Welcome to our Lab Practice!"
   ]
  },
  {
   "cell_type": "markdown",
   "metadata": {
    "id": "vVYcayGedmms"
   },
   "source": [
    "This lab is all about defining nested functions. Are you ready? Let's get started!"
   ]
  },
  {
   "cell_type": "markdown",
   "metadata": {
    "id": "JP8eGBVyeSQx"
   },
   "source": [
    "You will find some small tasks in sections below. After defining functions, call them to test."
   ]
  },
  {
   "cell_type": "markdown",
   "metadata": {
    "id": "D8pWdoN7d6Dy"
   },
   "source": [
    "## Define nestted functions. "
   ]
  },
  {
   "cell_type": "markdown",
   "metadata": {
    "id": "TTqVA_ew48Sn"
   },
   "source": [
    "###Task: Calculator\n",
    "\n",
    "1.   Define a function that ask the user to input a number\n",
    "2.   Define a function that computes the sum of two numbers\n",
    "3.   Define a function that computes the substraction of two numbers\n",
    "4.   Define a function that computes the product of two numbers\n",
    "5.   Define a function that computes the division of two numbers\n",
    "6.   Define a function that print the arithmetic operation result of two numbers by calling functions defined above\n",
    "\n",
    "\n"
   ]
  },
  {
   "cell_type": "code",
   "execution_count": 9,
   "metadata": {
    "id": "4l8oECs25O26"
   },
   "outputs": [],
   "source": [
    "def add(a, b):\n",
    "    return a + b\n",
    "\n",
    "def sub(a, b):\n",
    "    return a - b\n",
    "\n",
    "def prod(a, b):\n",
    "    return a * b\n",
    "\n",
    "def div(a, b):\n",
    "    return a / b\n",
    "\n",
    "def arithmetic(a, b):\n",
    "    return add(a, b), sub(a, b), prod(a, b), div(a, b)\n",
    "\n",
    "\n",
    "\n",
    "def calc(a, b):\n",
    "    a = int(input(\"Enter the first number: \"))\n",
    "    b = int(input(\"Enter the second number: \"))\n",
    "    print(\"Entered digits are: \" + str(a) + \" and \" + str(b))\n",
    "    print(\"Add - Sub - Product - Division \")\n",
    "    print(arithmetic(a, b))"
   ]
  },
  {
   "cell_type": "code",
   "execution_count": 10,
   "metadata": {},
   "outputs": [
    {
     "name": "stdout",
     "output_type": "stream",
     "text": [
      "Entered digits are: 5 and 7\n",
      "Add - Sub - Product - Division \n",
      "(12, -2, 35, 0.7142857142857143)\n"
     ]
    }
   ],
   "source": [
    "calc(5, 5)"
   ]
  },
  {
   "cell_type": "markdown",
   "metadata": {
    "id": "9hfJ0kha5G_A"
   },
   "source": [
    "###Task: Statistics\n",
    "\n",
    "1.   Define a function that ask the user to input a number\n",
    "2.   Define a function that computes the min of three numbers\n",
    "3.   Define a function that computes the max of three numbers\n",
    "4.   Define a function that computes the total of three numbers\n",
    "5.   Define a function that computes the average of three numbers\n",
    "6.   Define a function that print the statistics of the three numbers by calling functions defineda bove"
   ]
  },
  {
   "cell_type": "code",
   "execution_count": 11,
   "metadata": {
    "id": "qL379kld5PX0"
   },
   "outputs": [],
   "source": [
    "def min(a, b, c):\n",
    "    return a + b\n",
    "\n",
    "def max(a, b, c):\n",
    "    return a - b\n",
    "\n",
    "def total(a, b, c):\n",
    "    return a + b + c\n",
    "\n",
    "def avg(a, b, c):\n",
    "    return (a + b + c) / 3\n",
    "\n",
    "def stats(a, b, c):\n",
    "    return min(a, b, c), max(a, b, c), total(a, b, c), avg(a, b, c)\n",
    "\n",
    "\n",
    "\n",
    "def main(a, b, c):\n",
    "    a = int(input(\"Enter the first number: \"))\n",
    "    b = int(input(\"Enter the second number: \"))\n",
    "    c = int(input(\"Enter the third number: \"))\n",
    "    print(\"Entered digits are: \" + str(a) + \" and \" + str(b) + \" and \" + str(c))\n",
    "    print(\"Min - Max - Total - Avg.\")\n",
    "    print(stats(a, b, c))"
   ]
  },
  {
   "cell_type": "code",
   "execution_count": 12,
   "metadata": {},
   "outputs": [
    {
     "name": "stdout",
     "output_type": "stream",
     "text": [
      "Entered digits are: 7 and 9 and 12\n",
      "Min - Max - Total - Avg.\n",
      "(16, -2, 28, 9.333333333333334)\n"
     ]
    }
   ],
   "source": [
    "main(5, 7, 9)"
   ]
  },
  {
   "cell_type": "markdown",
   "metadata": {
    "id": "rXgbUIBRgQoG"
   },
   "source": [
    "###Task: Simple Calculator\n",
    "\n",
    "\n",
    "1.   Define a function that increment an integer x by 1, x is a parameter\n",
    "2.   Define a function that decrement an integer x by 1, x is a parameter\n",
    "3.   Define a function that computes *x* $+$ *y* by using functions defined above, where x and y are parameters and you cannot directly use x $+$ y in your definition.\n",
    "4.   Define a function that computes *x* $-$ *y* by using functions defined above, where x and y are parameters and you cannot directly use x $-$ y in your definition.\n",
    "5.   Define a function that computes *x* $\\times$ *y* by using functions defined above, where x and y are parameters and you cannot directly use x * y in your definition.\n",
    "6.   Define a function that computes *x* $**$ *y* by using functios defined above, where x and y are parameters and you cannot directly use *x* $**$ *y* in your definition\n",
    "7.   Define a function that takes two arguments, x and y, and print the addition (x $+$ y), substraction(x $-$ y), product(x $\\times$ y), and exponent(x**y) of these two arguments"
   ]
  },
  {
   "cell_type": "code",
   "execution_count": 17,
   "metadata": {
    "id": "oIKwmW2mfe3d"
   },
   "outputs": [
    {
     "name": "stdout",
     "output_type": "stream",
     "text": [
      "81 16 125\n"
     ]
    }
   ],
   "source": [
    "def inc(x):\n",
    "    return x + 1\n",
    "\n",
    "def dec(x):\n",
    "    return x - 1\n",
    "\n",
    "def sum(a, b):\n",
    "    for i in range(b):\n",
    "        a = inc(a)\n",
    "    return a\n",
    "\n",
    "def subtract(a, b):\n",
    "    for i in range(b):\n",
    "        a = dec(a)\n",
    "    return a\n",
    "\n",
    "def multiply(a, b):\n",
    "    temp = a\n",
    "    for i in range(b-1):\n",
    "        for j in range(temp):\n",
    "            a = inc(a)\n",
    "    return a\n",
    "\n",
    "def exponent(a, b):\n",
    "    a_orig = a\n",
    "    sum = multiply(a_orig, a_orig)\n",
    "    for i in range(b-2):\n",
    "        sum = sum * a\n",
    "        #print(\"i is = \" + str(i) + \" sum is: \" + str(sum))\n",
    "    return sum\n",
    "\n",
    "#Should be 81, 16 and 125\n",
    "print(exponent(3, 4), exponent(2, 4), exponent(5,3))"
   ]
  },
  {
   "cell_type": "code",
   "execution_count": 18,
   "metadata": {},
   "outputs": [
    {
     "name": "stdout",
     "output_type": "stream",
     "text": [
      "Calculating sum, subtract, multiply and exponent of same!\n",
      "Sum will be: 7\n",
      "Sum will be: 1\n",
      "Sum will be: 12\n",
      "Sum will be: 64\n"
     ]
    }
   ],
   "source": [
    "def master_calc(a, b):\n",
    "    a = int(input(\"Enter first digit: \"))\n",
    "    b = int(input(\"Enter second digit: \"))\n",
    "    print(\"Calculating sum, subtract, multiply and exponent of same!\")\n",
    "    print(\"Sum will be: \" + str(sum(a, b)))\n",
    "    print(\"Sum will be: \" + str(subtract(a, b)))\n",
    "    print(\"Sum will be: \" + str(multiply(a, b)))\n",
    "    print(\"Sum will be: \" + str(exponent(a, b)))\n",
    "\n",
    "master_calc(1, 2)"
   ]
  }
 ],
 "metadata": {
  "colab": {
   "authorship_tag": "ABX9TyMrgQxnO6jrk9WXy1GcSyBn",
   "collapsed_sections": [],
   "name": "M4Lab1.ipynb",
   "provenance": [],
   "toc_visible": true
  },
  "kernelspec": {
   "display_name": "Python 3",
   "name": "python3"
  },
  "language_info": {
   "codemirror_mode": {
    "name": "ipython",
    "version": 3
   },
   "file_extension": ".py",
   "mimetype": "text/x-python",
   "name": "python",
   "nbconvert_exporter": "python",
   "pygments_lexer": "ipython3",
   "version": "3.10.10"
  }
 },
 "nbformat": 4,
 "nbformat_minor": 0
}
