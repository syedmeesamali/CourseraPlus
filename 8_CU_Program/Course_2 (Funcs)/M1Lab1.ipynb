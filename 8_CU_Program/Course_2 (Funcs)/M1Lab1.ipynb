{
 "cells": [
  {
   "cell_type": "markdown",
   "metadata": {
    "id": "cnAUJprJdh9_"
   },
   "source": [
    "# Welcome to our first Lab Practice!"
   ]
  },
  {
   "cell_type": "markdown",
   "metadata": {
    "id": "vVYcayGedmms"
   },
   "source": [
    "This lab is all about calling functions. Are you ready? Let's go!\n",
    "\n"
   ]
  },
  {
   "cell_type": "markdown",
   "metadata": {
    "id": "JP8eGBVyeSQx"
   },
   "source": [
    "You will find some small tasks in sections below. "
   ]
  },
  {
   "cell_type": "markdown",
   "metadata": {
    "id": "TNbXeCDFeAcJ"
   },
   "source": [
    "## Call python build-in functions"
   ]
  },
  {
   "cell_type": "markdown",
   "metadata": {
    "id": "EZ42d1Sue0Zp"
   },
   "source": [
    "###Task: print message **Hello, world!**"
   ]
  },
  {
   "cell_type": "code",
   "execution_count": 2,
   "metadata": {
    "id": "yDzNIHsSeu85"
   },
   "outputs": [
    {
     "name": "stdout",
     "output_type": "stream",
     "text": [
      "Hello, World!\n"
     ]
    }
   ],
   "source": [
    "print(\"Hello, World!\")"
   ]
  },
  {
   "cell_type": "markdown",
   "metadata": {
    "id": "-__o8ovbfSEH"
   },
   "source": [
    "###Task: print a message entered by the user"
   ]
  },
  {
   "cell_type": "code",
   "execution_count": 3,
   "metadata": {
    "id": "hOpxhSKog18Y"
   },
   "outputs": [
    {
     "name": "stdout",
     "output_type": "stream",
     "text": [
      "ali shah\n"
     ]
    }
   ],
   "source": [
    "x = input(\"Enter message: \")\n",
    "print(x)"
   ]
  },
  {
   "cell_type": "markdown",
   "metadata": {
    "id": "NpCNxK68gpME"
   },
   "source": [
    "###Task: convert an integer 123 to a string and use type() to confirm"
   ]
  },
  {
   "cell_type": "code",
   "execution_count": 4,
   "metadata": {
    "id": "txg-7uKfgKeW"
   },
   "outputs": [
    {
     "name": "stdout",
     "output_type": "stream",
     "text": [
      "<class 'str'>\n"
     ]
    }
   ],
   "source": [
    "y = str(123)\n",
    "print(type(y))"
   ]
  },
  {
   "cell_type": "markdown",
   "metadata": {
    "id": "m_Nyc9e2Mv_6"
   },
   "source": [
    "###Task: convert an string 321 to an integer 321 and use type() to confirm"
   ]
  },
  {
   "cell_type": "code",
   "execution_count": 5,
   "metadata": {
    "id": "MoJRq2ksMvWz"
   },
   "outputs": [
    {
     "name": "stdout",
     "output_type": "stream",
     "text": [
      "<class 'int'>\n"
     ]
    }
   ],
   "source": [
    "y = '321'\n",
    "x = int(y)\n",
    "print(type(x))"
   ]
  }
 ],
 "metadata": {
  "colab": {
   "authorship_tag": "ABX9TyPu5uK7b4aaL+JdMPwu9Hl3",
   "collapsed_sections": [],
   "name": "M1Lab1.ipynb",
   "provenance": [],
   "toc_visible": true
  },
  "kernelspec": {
   "display_name": "Python 3",
   "name": "python3"
  },
  "language_info": {
   "codemirror_mode": {
    "name": "ipython",
    "version": 3
   },
   "file_extension": ".py",
   "mimetype": "text/x-python",
   "name": "python",
   "nbconvert_exporter": "python",
   "pygments_lexer": "ipython3",
   "version": "3.10.10"
  }
 },
 "nbformat": 4,
 "nbformat_minor": 0
}
