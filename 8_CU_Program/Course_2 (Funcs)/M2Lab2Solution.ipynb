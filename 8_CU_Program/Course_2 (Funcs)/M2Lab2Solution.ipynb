{
 "cells": [
  {
   "cell_type": "markdown",
   "metadata": {
    "id": "cnAUJprJdh9_"
   },
   "source": [
    "# Welcome to our Lab Practice!"
   ]
  },
  {
   "cell_type": "markdown",
   "metadata": {
    "id": "vVYcayGedmms"
   },
   "source": [
    "This lab is all about defining functions with multiple parameters. Are you ready? Let's go!"
   ]
  },
  {
   "cell_type": "markdown",
   "metadata": {
    "id": "JP8eGBVyeSQx"
   },
   "source": [
    "You will find some small tasks in sections below. After defining functions, call them to test."
   ]
  },
  {
   "cell_type": "markdown",
   "metadata": {
    "id": "MBpHkOhIfmrY"
   },
   "source": [
    "###Task: define a function that print \"*message*\" *n* times, where *message* and *n* are parameters"
   ]
  },
  {
   "cell_type": "code",
   "execution_count": 1,
   "metadata": {
    "colab": {
     "base_uri": "https://localhost:8080/"
    },
    "executionInfo": {
     "elapsed": 7,
     "status": "ok",
     "timestamp": 1653594265368,
     "user": {
      "displayName": "Di Wu",
      "userId": "05255951341257561169"
     },
     "user_tz": 240
    },
    "id": "Orw6NIIef0Wp",
    "outputId": "2864828b-fe46-4562-f8a4-c75ced936fb8"
   },
   "outputs": [
    {
     "name": "stdout",
     "output_type": "stream",
     "text": [
      "Hello, world!\n",
      "Hello, world!\n",
      "Hello, world!\n"
     ]
    }
   ],
   "source": [
    "def print_message_n(message, n):\n",
    "  for i in range(n):\n",
    "    print(message)\n",
    "\n",
    "print_message_n('Hello, world!', 3)"
   ]
  },
  {
   "cell_type": "markdown",
   "metadata": {
    "id": "DVjL6nU0f2Z_"
   },
   "source": [
    "###Task: define a function that print integers *n*  to *m* (hint: you can use a for loop), where *n* and *m* are parameters, and *n < m*.\n",
    "\n",
    "Challenge: Can you write a program that doesn't require *n < m*? "
   ]
  },
  {
   "cell_type": "code",
   "execution_count": 2,
   "metadata": {
    "colab": {
     "base_uri": "https://localhost:8080/"
    },
    "executionInfo": {
     "elapsed": 308,
     "status": "ok",
     "timestamp": 1653594346851,
     "user": {
      "displayName": "Di Wu",
      "userId": "05255951341257561169"
     },
     "user_tz": 240
    },
    "id": "2iYaPzVSghML",
    "outputId": "0cfdbc20-cb65-4579-9da9-937a37520942"
   },
   "outputs": [
    {
     "name": "stdout",
     "output_type": "stream",
     "text": [
      "2\n",
      "3\n",
      "4\n",
      "5\n"
     ]
    }
   ],
   "source": [
    "def print_n_to_m(n, m):\n",
    "  for i in range(n, m+1):\n",
    "    print(i)\n",
    "\n",
    "print_n_to_m(2, 5)"
   ]
  },
  {
   "cell_type": "code",
   "execution_count": 5,
   "metadata": {
    "colab": {
     "base_uri": "https://localhost:8080/"
    },
    "executionInfo": {
     "elapsed": 10,
     "status": "ok",
     "timestamp": 1653594676355,
     "user": {
      "displayName": "Di Wu",
      "userId": "05255951341257561169"
     },
     "user_tz": 240
    },
    "id": "OsQCw2Fx52b-",
    "outputId": "24e74cdb-fdb5-4a6b-9e49-d2e239a275e1"
   },
   "outputs": [
    {
     "name": "stdout",
     "output_type": "stream",
     "text": [
      "2\n",
      "3\n",
      "4\n",
      "5\n",
      "5\n",
      "4\n",
      "3\n",
      "2\n"
     ]
    }
   ],
   "source": [
    "def print_n_to_m_challenge(n, m):\n",
    "  if n <= m:\n",
    "    start = n\n",
    "    while start <= m:\n",
    "      print(start)\n",
    "      start += 1\n",
    "  else:\n",
    "    start = n\n",
    "    while start >= m:\n",
    "      print(start)\n",
    "      start -= 1 \n",
    "\n",
    "print_n_to_m_challenge(2, 5)\n",
    "print_n_to_m_challenge(5, 2)\n"
   ]
  },
  {
   "cell_type": "markdown",
   "metadata": {
    "id": "YhJrQh4eghzb"
   },
   "source": [
    "###Task: define a function that print the sum of *n*  to *m*, where *n, m* are parameters, and *n* < *m*."
   ]
  },
  {
   "cell_type": "code",
   "execution_count": 6,
   "metadata": {
    "colab": {
     "base_uri": "https://localhost:8080/"
    },
    "executionInfo": {
     "elapsed": 8,
     "status": "ok",
     "timestamp": 1653594801412,
     "user": {
      "displayName": "Di Wu",
      "userId": "05255951341257561169"
     },
     "user_tz": 240
    },
    "id": "n2Mm6RVYgwOq",
    "outputId": "06f5fad3-8a85-4280-ca99-bbbaa82b67dd"
   },
   "outputs": [
    {
     "name": "stdout",
     "output_type": "stream",
     "text": [
      "14\n"
     ]
    }
   ],
   "source": [
    "def sum_n_to_m(n, m):\n",
    "  sum = 0\n",
    "  for i in range(n, m+1):\n",
    "    sum += i\n",
    "  print(sum)\n",
    "\n",
    "sum_n_to_m(2, 5)"
   ]
  },
  {
   "cell_type": "code",
   "execution_count": null,
   "metadata": {
    "id": "aQU8ZOuG7TVj"
   },
   "outputs": [],
   "source": []
  },
  {
   "cell_type": "markdown",
   "metadata": {
    "id": "LzU4n3lDgzMR"
   },
   "source": [
    "###Task: define a function that print the AND logical operation of *condition1* and *condition 2*, where *condition1, condition2* are parameters."
   ]
  },
  {
   "cell_type": "code",
   "execution_count": 8,
   "metadata": {
    "colab": {
     "base_uri": "https://localhost:8080/"
    },
    "executionInfo": {
     "elapsed": 10,
     "status": "ok",
     "timestamp": 1653594952541,
     "user": {
      "displayName": "Di Wu",
      "userId": "05255951341257561169"
     },
     "user_tz": 240
    },
    "id": "aoARtrf-hEJR",
    "outputId": "b6b32ceb-8279-444f-97c8-ef6a7b68e4de"
   },
   "outputs": [
    {
     "name": "stdout",
     "output_type": "stream",
     "text": [
      "True\n",
      "False\n"
     ]
    }
   ],
   "source": [
    "def and_operation(condition1, condition2):\n",
    "  print(condition1 and condition2)\n",
    "\n",
    "and_operation(True, True)\n",
    "and_operation(True, False)"
   ]
  },
  {
   "cell_type": "markdown",
   "metadata": {
    "id": "WLCfkBtOhEfa"
   },
   "source": [
    "###Task: define a function that print if *n* is divisible by *m*, where *n, m* are parameters."
   ]
  },
  {
   "cell_type": "code",
   "execution_count": 10,
   "metadata": {
    "colab": {
     "base_uri": "https://localhost:8080/"
    },
    "executionInfo": {
     "elapsed": 294,
     "status": "ok",
     "timestamp": 1653595034853,
     "user": {
      "displayName": "Di Wu",
      "userId": "05255951341257561169"
     },
     "user_tz": 240
    },
    "id": "h_aYoPmWhPRL",
    "outputId": "a1c359f2-f864-4a6d-9c8d-4a87194dd9a2"
   },
   "outputs": [
    {
     "name": "stdout",
     "output_type": "stream",
     "text": [
      "3 is not divisible by 2\n",
      "4 is divisible by 2\n"
     ]
    }
   ],
   "source": [
    "def n_divisible_m(n, m):\n",
    "  if n % m == 0:\n",
    "    print(n, 'is divisible by', m)\n",
    "  else:\n",
    "    print(n, 'is not divisible by', m)\n",
    "\n",
    "n_divisible_m(3, 2)\n",
    "\n",
    "n_divisible_m(4, 2)"
   ]
  },
  {
   "cell_type": "markdown",
   "metadata": {
    "id": "RNil8H04hUDq"
   },
   "source": [
    "###Task: define a function that print the minimal number from *x, y, z*, where *x, y, z* are parameters"
   ]
  },
  {
   "cell_type": "code",
   "execution_count": 3,
   "metadata": {
    "colab": {
     "base_uri": "https://localhost:8080/"
    },
    "executionInfo": {
     "elapsed": 287,
     "status": "ok",
     "timestamp": 1653595156198,
     "user": {
      "displayName": "Di Wu",
      "userId": "05255951341257561169"
     },
     "user_tz": 240
    },
    "id": "HaZfxaajhhn8",
    "outputId": "6028977d-9e72-46b5-e519-95ed2fbca75b"
   },
   "outputs": [
    {
     "name": "stdout",
     "output_type": "stream",
     "text": [
      "3\n",
      "5\n"
     ]
    }
   ],
   "source": [
    "def min(x, y, z):\n",
    "  min = x\n",
    "  if y < min:\n",
    "    min = y\n",
    "  if z < min:\n",
    "    min = z\n",
    "  print(min)\n",
    "\n",
    "min(5, 4, 3)\n",
    "min(26, 5, 9)"
   ]
  }
 ],
 "metadata": {
  "colab": {
   "authorship_tag": "ABX9TyNQYQ2/3AxuUna1JkENz/7k",
   "collapsed_sections": [],
   "name": "M2Lab2Solution.ipynb",
   "provenance": [],
   "toc_visible": true
  },
  "kernelspec": {
   "display_name": "Python 3",
   "name": "python3"
  },
  "language_info": {
   "codemirror_mode": {
    "name": "ipython",
    "version": 3
   },
   "file_extension": ".py",
   "mimetype": "text/x-python",
   "name": "python",
   "nbconvert_exporter": "python",
   "pygments_lexer": "ipython3",
   "version": "3.10.10"
  }
 },
 "nbformat": 4,
 "nbformat_minor": 0
}
