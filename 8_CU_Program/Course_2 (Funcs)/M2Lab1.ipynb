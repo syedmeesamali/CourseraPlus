{
 "cells": [
  {
   "cell_type": "markdown",
   "metadata": {
    "id": "cnAUJprJdh9_"
   },
   "source": [
    "# Welcome to our Lab Practice!"
   ]
  },
  {
   "cell_type": "markdown",
   "metadata": {
    "id": "vVYcayGedmms"
   },
   "source": [
    "This lab is all about defining functions with ONE parameter. Are you ready? Let's go!"
   ]
  },
  {
   "cell_type": "markdown",
   "metadata": {
    "id": "JP8eGBVyeSQx"
   },
   "source": [
    "You will find some small tasks in sections below. After defining functions, call them to test."
   ]
  },
  {
   "cell_type": "markdown",
   "metadata": {
    "id": "rXgbUIBRgQoG"
   },
   "source": [
    "###Task: define a function that print \"hello, *name*\" where *name* is a parameter"
   ]
  },
  {
   "cell_type": "code",
   "execution_count": 1,
   "metadata": {
    "id": "oIKwmW2mfe3d"
   },
   "outputs": [
    {
     "name": "stdout",
     "output_type": "stream",
     "text": [
      "Hello Sir / Madam ali\n"
     ]
    }
   ],
   "source": [
    "def hello(name):\n",
    "    print(\"Hello Sir / Madam \" + name)\n",
    "\n",
    "hello(\"ali\")"
   ]
  },
  {
   "cell_type": "markdown",
   "metadata": {
    "id": "h-mrQgK7RKqm"
   },
   "source": [
    "###Task: define a function that print \"hello world\" *n* times, where *n* is a parameter"
   ]
  },
  {
   "cell_type": "code",
   "execution_count": null,
   "metadata": {
    "id": "47f7Q_AIRMUW"
   },
   "outputs": [],
   "source": [
    "# your code will be here"
   ]
  },
  {
   "cell_type": "markdown",
   "metadata": {
    "id": "1y6noqXNRMpG"
   },
   "source": [
    "###Task: define a function that print integers 1 to *n* (hint: you can use a for loop), where *n* is a parameter"
   ]
  },
  {
   "cell_type": "code",
   "execution_count": null,
   "metadata": {
    "id": "FR7idsVORX5_"
   },
   "outputs": [],
   "source": [
    "# your code will be here"
   ]
  },
  {
   "cell_type": "markdown",
   "metadata": {
    "id": "OoTXs3WERYju"
   },
   "source": [
    "###Task: define a function that print prime integers in *n* (hint: you can use loops), where *n* is a parameter"
   ]
  },
  {
   "cell_type": "code",
   "execution_count": null,
   "metadata": {
    "id": "2pS4qJ54RhKf"
   },
   "outputs": [],
   "source": [
    "# your code will be here"
   ]
  },
  {
   "cell_type": "markdown",
   "metadata": {
    "id": "yU8y7mCoRmRH"
   },
   "source": [
    "###Task: define a function that print whether or not given *n* is even, *n* is a parameter"
   ]
  },
  {
   "cell_type": "code",
   "execution_count": null,
   "metadata": {
    "id": "g67KsRe3R2KG"
   },
   "outputs": [],
   "source": [
    "# your code will be here"
   ]
  },
  {
   "cell_type": "markdown",
   "metadata": {
    "id": "QPoCScdkheK3"
   },
   "source": [
    "###Task: define a function that print whether or not given *n* is odd, *n* is a parameter"
   ]
  },
  {
   "cell_type": "code",
   "execution_count": null,
   "metadata": {
    "id": "tsFowDAKhJCB"
   },
   "outputs": [],
   "source": [
    "# your code will be here"
   ]
  },
  {
   "cell_type": "markdown",
   "metadata": {
    "id": "Jbw-h9GMhnQl"
   },
   "source": [
    "###Task: define a function that print the absolute value of *n*, *n* is a parameter"
   ]
  },
  {
   "cell_type": "code",
   "execution_count": null,
   "metadata": {
    "id": "dUOiwszHhsEN"
   },
   "outputs": [],
   "source": [
    "# your code will be here"
   ]
  },
  {
   "cell_type": "markdown",
   "metadata": {
    "id": "AyaEIEqOhsV8"
   },
   "source": [
    "###Task: define a function that print the square value of *n*, *n* is a parameter"
   ]
  },
  {
   "cell_type": "code",
   "execution_count": null,
   "metadata": {
    "id": "-lVtxeAmhv9t"
   },
   "outputs": [],
   "source": [
    "# your code will be here"
   ]
  },
  {
   "cell_type": "markdown",
   "metadata": {
    "id": "TE6Df1WYhu10"
   },
   "source": [
    "###Task: define a function that print whether or not given *n* is divisible by 6, *n* is a parameter"
   ]
  },
  {
   "cell_type": "code",
   "execution_count": null,
   "metadata": {
    "id": "MSjQbhNXhJVV"
   },
   "outputs": [],
   "source": [
    "# your code will be here"
   ]
  },
  {
   "cell_type": "markdown",
   "metadata": {
    "id": "4iCITSR6h7Yv"
   },
   "source": [
    "###Task: define a function that print whether or not given *n* is prime, *n* is a parameter"
   ]
  },
  {
   "cell_type": "code",
   "execution_count": null,
   "metadata": {
    "id": "EKsuK9O6jW7D"
   },
   "outputs": [],
   "source": [
    "# your code will be here"
   ]
  }
 ],
 "metadata": {
  "colab": {
   "authorship_tag": "ABX9TyPRgVGy0DfidxpkpbB9Oa42",
   "collapsed_sections": [],
   "name": "M2Lab1.ipynb",
   "provenance": [],
   "toc_visible": true
  },
  "kernelspec": {
   "display_name": "Python 3",
   "name": "python3"
  },
  "language_info": {
   "codemirror_mode": {
    "name": "ipython",
    "version": 3
   },
   "file_extension": ".py",
   "mimetype": "text/x-python",
   "name": "python",
   "nbconvert_exporter": "python",
   "pygments_lexer": "ipython3",
   "version": "3.10.10"
  }
 },
 "nbformat": 4,
 "nbformat_minor": 0
}
