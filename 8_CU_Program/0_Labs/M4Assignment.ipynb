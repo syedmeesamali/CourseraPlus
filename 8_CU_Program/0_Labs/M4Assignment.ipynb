{
  "cells": [
    {
      "cell_type": "markdown",
      "metadata": {
        "id": "cnAUJprJdh9_"
      },
      "source": [
        "# Welcome to our last assignment!"
      ]
    },
    {
      "cell_type": "markdown",
      "metadata": {
        "id": "vVYcayGedmms"
      },
      "source": [
        "This assignment is about testing your understanding of flow control: repetition.\n",
        "\n",
        "We are going to create some simple programs using these tools. Are you ready? Let's get started!"
      ]
    },
    {
      "cell_type": "markdown",
      "metadata": {
        "id": "JP8eGBVyeSQx"
      },
      "source": [
        "You will find some small tasks in sections below. You should use input() to get the user to enter the information and use print() to print the information on the screen. At this moment, we can assume users will follow instructions carefully - they will enter the valid inputs as required."
      ]
    },
    {
      "cell_type": "markdown",
      "metadata": {
        "id": "TNbXeCDFeAcJ"
      },
      "source": [
        "## Prime Numbers\n",
        "> Let's be kind to welcome 1 as a prime number for this exercise.\n",
        "\n",
        "### Instruction:\n",
        "\n",
        "Step 1: Ask the user to enter an integer\n",
        "\n",
        "Step 2: find and print all prime numbers up to the integer."
      ]
    },
    {
      "cell_type": "code",
      "execution_count": 6,
      "metadata": {
        "id": "x6IbZ6rFw76O"
      },
      "outputs": [
        {
          "name": "stdout",
          "output_type": "stream",
          "text": [
            "2\n",
            "3\n",
            "5\n",
            "7\n",
            "11\n",
            "13\n",
            "17\n",
            "19\n",
            "23\n",
            "29\n",
            "31\n",
            "37\n",
            "41\n",
            "43\n",
            "47\n",
            "53\n",
            "59\n",
            "61\n",
            "67\n",
            "71\n",
            "73\n",
            "79\n",
            "83\n",
            "89\n",
            "97\n"
          ]
        }
      ],
      "source": [
        "x = int(input(\"Enter some number: \"))\n",
        "for a in range(2, x):\n",
        "    y = a\n",
        "    z = 0\n",
        "    for i in range(2, y):\n",
        "        if y % i == 0:\n",
        "            z += 1\n",
        "    if z == 0:\n",
        "        print(y)"
      ]
    },
    {
      "cell_type": "markdown",
      "metadata": {
        "id": "cZmW-HnwyHcI"
      },
      "source": [
        "## A Simple Grade Book\n",
        "\n",
        "###Instruction: You are going to program a simple grade book.\n",
        "\n",
        "step1: Ask the user to enter the number of students in a class\n",
        "\n",
        "step2: Ask the user to enter the grade (in a 0-100 scale) of each student  \n",
        "\n",
        "step3: Calculate and print the average, min, and max grade of the class."
      ]
    },
    {
      "cell_type": "code",
      "execution_count": 8,
      "metadata": {
        "id": "wk6FHvAvyr_G"
      },
      "outputs": [
        {
          "name": "stdout",
          "output_type": "stream",
          "text": [
            "Grade Book !\n",
            "Average grades are: 6.0\n",
            "Min. grade is: 6.0\n",
            "Max. grade is: 6.0\n"
          ]
        }
      ],
      "source": [
        "print(\"Grade Book !\")\n",
        "x = int(input(\"Enter number of students in a class: \"))\n",
        "sum = 0\n",
        "min = 0\n",
        "max = 0\n",
        "for i in range(1, x+1):\n",
        "    y = int(input(\"Enter grades for student # \" + str(i)))\n",
        "    sum += y\n",
        "    if y < min:\n",
        "        min = y\n",
        "print(\"Average grades are: \" + str(sum / x))\n",
        "print(\"Min. grade is: \" + str(sum / x))\n",
        "print(\"Max. grade is: \" + str(sum / x))\n"
      ]
    },
    {
      "cell_type": "markdown",
      "metadata": {
        "id": "UQBB918Z2e9F"
      },
      "source": [
        "## Fahrenheit to Celcius Converter\n",
        "\n",
        "###Instruction: You are going to program a simple converter which converts a Fahrenheit degree to Celcius degree..\n",
        "\n",
        "step1: Ask the user to enter the number in Fahrenheit, (enter stop to quit the program) \n",
        "\n",
        "step2: Calculate the celcius based on the formular c = (f - 32) * 5 / 9\n",
        "\n",
        "step3: print the celcius "
      ]
    },
    {
      "cell_type": "code",
      "execution_count": null,
      "metadata": {
        "id": "KCYqU3Sp2cpT"
      },
      "outputs": [],
      "source": [
        "# your code is here"
      ]
    },
    {
      "cell_type": "markdown",
      "metadata": {
        "id": "AhO_LPgG3S1R"
      },
      "source": [
        "## How many E and e in a sentence?\n",
        "\n",
        "###Instruction: You are going to program a simple counter which finds how many 'E' and 'e' in a sentence entered by the user.\n",
        "\n",
        "step1: Ask the user to enter a sentence\n",
        "\n",
        "step2: Count the number of 'E', and the number of 'e'\n",
        "> hint: You can use a for loop to iterate all the characters in a string, such as `for c in sentence`, then compare `c` with `e` and `E`.\n",
        "\n",
        "step3: print the result"
      ]
    },
    {
      "cell_type": "code",
      "execution_count": null,
      "metadata": {
        "id": "2bODNGPSx1-m"
      },
      "outputs": [],
      "source": [
        "# your code is here"
      ]
    },
    {
      "cell_type": "markdown",
      "metadata": {
        "id": "fZfiqg5lxFKF"
      },
      "source": [
        "## Binary Converter (Optional)\n",
        "\n",
        "###Instruction: You are going to program a decimal to binary converter.\n",
        "> Hint: For example, convert decimal 11 to binary number, we follows: 11 % 2 = **1** (you need to record it), 11 // 2 = 5; 5 % 2 = **1** (you need to record it), 5 // 2 = 2; 2 % 2 = **0**, 2 // 2 = **1**. Now you will concatenate them reversly, from the last 1, then the 0, then 1, then 1. You get 1011 as the binary representation of decimal 11.\n",
        "\n",
        "step1: Ask the user to enter a positive decimal integer.\n",
        "\n",
        "step2: Calculate the binary representation of the integer by keep dividing until the reminder is less than 2, keep record of all the reminders.\n",
        "\n",
        "step3: Print reminders as the binary representation."
      ]
    },
    {
      "cell_type": "code",
      "execution_count": null,
      "metadata": {
        "id": "6ZAwOiuO5G0X"
      },
      "outputs": [],
      "source": [
        "# your code is here"
      ]
    },
    {
      "cell_type": "markdown",
      "metadata": {
        "id": "7Ysdu7UJ_qf8"
      },
      "source": [
        "**Congratulations! You finished this Assignment and completed Module 4!**"
      ]
    }
  ],
  "metadata": {
    "colab": {
      "provenance": [],
      "toc_visible": true
    },
    "kernelspec": {
      "display_name": "Python 3",
      "name": "python3"
    },
    "language_info": {
      "codemirror_mode": {
        "name": "ipython",
        "version": 3
      },
      "file_extension": ".py",
      "mimetype": "text/x-python",
      "name": "python",
      "nbconvert_exporter": "python",
      "pygments_lexer": "ipython3",
      "version": "3.10.10"
    }
  },
  "nbformat": 4,
  "nbformat_minor": 0
}
