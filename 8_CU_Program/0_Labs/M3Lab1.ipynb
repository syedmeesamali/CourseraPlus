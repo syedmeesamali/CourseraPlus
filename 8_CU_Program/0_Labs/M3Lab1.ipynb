{
 "cells": [
  {
   "cell_type": "markdown",
   "metadata": {
    "id": "cnAUJprJdh9_"
   },
   "source": [
    "# Welcome to our Lab Practice!"
   ]
  },
  {
   "cell_type": "markdown",
   "metadata": {
    "id": "vVYcayGedmms"
   },
   "source": [
    "This lab is about branching - if statements. Are you ready? Let's get started!"
   ]
  },
  {
   "cell_type": "markdown",
   "metadata": {
    "id": "JP8eGBVyeSQx"
   },
   "source": [
    "You will find some small tasks in sections below. "
   ]
  },
  {
   "cell_type": "markdown",
   "metadata": {
    "id": "EZ42d1Sue0Zp"
   },
   "source": [
    "###Task: check if a number is even. \n",
    "\n",
    "You should ask the user to enter an integer, if it is an even number, print \"it is even\"; otherwise, print nothing.\n",
    "\n",
    "hint: to test if a number is even, we need to use %2 and check the reminder is 0 or not. If it is 0, then the number is even."
   ]
  },
  {
   "cell_type": "code",
   "execution_count": 4,
   "metadata": {
    "id": "yDzNIHsSeu85"
   },
   "outputs": [
    {
     "name": "stdout",
     "output_type": "stream",
     "text": [
      "Even\n"
     ]
    }
   ],
   "source": [
    "x = int(input(\"Enter a number: \"))\n",
    "if x % 2 == 0:\n",
    "    print(\"Even\")\n",
    "else:\n",
    "    print(\"Odd\")"
   ]
  },
  {
   "cell_type": "markdown",
   "metadata": {
    "id": "u8WEYfEqIbWX"
   },
   "source": [
    "###Task: check if a number is odd. \n",
    "\n",
    "Similar to the task above. However, this time, you only print \"It is odd\" when the number entered is odd."
   ]
  },
  {
   "cell_type": "code",
   "execution_count": 7,
   "metadata": {
    "id": "LKSmcHRRJUYY"
   },
   "outputs": [
    {
     "name": "stdout",
     "output_type": "stream",
     "text": [
      "Odd\n"
     ]
    }
   ],
   "source": [
    "x = int(input(\"Enter a number: \"))\n",
    "if x % 2 != 0:\n",
    "    print(\"Odd\")"
   ]
  },
  {
   "cell_type": "markdown",
   "metadata": {
    "id": "-__o8ovbfSEH"
   },
   "source": [
    "###Task: check if a number is divisible by 6 \n",
    "\n",
    "You should ask the user to enter an integer, if it is dividable by 6, print \"It can be divisible by 6\"."
   ]
  },
  {
   "cell_type": "code",
   "execution_count": null,
   "metadata": {
    "id": "hOpxhSKog18Y"
   },
   "outputs": [],
   "source": [
    "# your code will be here"
   ]
  },
  {
   "cell_type": "markdown",
   "metadata": {
    "id": "uZYVZQIvIlPy"
   },
   "source": [
    "###Task: check if an input is 'STOP'  \n",
    "\n",
    "Ask the user to enter some words, and only when the user entered \"STOP\", you print \"Bye\"."
   ]
  },
  {
   "cell_type": "code",
   "execution_count": null,
   "metadata": {
    "id": "Y_3dcyvcQ2GI"
   },
   "outputs": [],
   "source": [
    "# your code will be here"
   ]
  },
  {
   "cell_type": "markdown",
   "metadata": {
    "id": "qKFwdIypmt5J"
   },
   "source": [
    "### Task: Password Setup\n",
    "\n",
    "*   Ask the user to enter a new password.\n",
    "*   Ask the user to enter the password again.\n",
    "*   If the second input matches the first one, print \"You are all set\"\n"
   ]
  },
  {
   "cell_type": "code",
   "execution_count": null,
   "metadata": {
    "id": "6pqvFtl8nHei"
   },
   "outputs": [],
   "source": [
    "# your code will be here"
   ]
  }
 ],
 "metadata": {
  "colab": {
   "authorship_tag": "ABX9TyMqkhpFDQjNmO0/NMLJ+J7z",
   "collapsed_sections": [],
   "name": "M3Lab1.ipynb",
   "provenance": [],
   "toc_visible": true
  },
  "kernelspec": {
   "display_name": "Python 3",
   "name": "python3"
  },
  "language_info": {
   "codemirror_mode": {
    "name": "ipython",
    "version": 3
   },
   "file_extension": ".py",
   "mimetype": "text/x-python",
   "name": "python",
   "nbconvert_exporter": "python",
   "pygments_lexer": "ipython3",
   "version": "3.10.10"
  }
 },
 "nbformat": 4,
 "nbformat_minor": 0
}
