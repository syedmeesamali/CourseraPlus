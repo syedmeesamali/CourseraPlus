{
 "cells": [
  {
   "cell_type": "markdown",
   "metadata": {
    "id": "cnAUJprJdh9_"
   },
   "source": [
    "# Welcome to our third assignment!"
   ]
  },
  {
   "cell_type": "markdown",
   "metadata": {
    "id": "vVYcayGedmms"
   },
   "source": [
    "This assignment is about testing your understanding of flow control: branching.\n",
    "\n",
    "We are going to create some simple programs using these tools. Are you ready? Let's get started!"
   ]
  },
  {
   "cell_type": "markdown",
   "metadata": {
    "id": "JP8eGBVyeSQx"
   },
   "source": [
    "You will find some small tasks in sections below. You should use input() to get the user to enter the information and use print() to print the information on the screen. At this moment, we can assume users will follow instructions carefully - they will enter the valid inputs as required."
   ]
  },
  {
   "cell_type": "markdown",
   "metadata": {
    "id": "TNbXeCDFeAcJ"
   },
   "source": [
    "## What day is today?\n",
    "\n",
    "###Instruction: Write a program that asks the user for a number in the range of 1 through 7. The program should display the corresponding day of the week, where \n",
    "\n",
    "* 1    = Monday, \n",
    "* 2    = Tuesday, \n",
    "* 3    = Wednesday, \n",
    "* 4    = Thursday, \n",
    "* 5    = Friday, \n",
    "* 6    = Saturday, and \n",
    "* 7    = Sunday\n",
    "* all other value entered = ERROR"
   ]
  },
  {
   "cell_type": "code",
   "execution_count": 8,
   "metadata": {
    "id": "x6IbZ6rFw76O"
   },
   "outputs": [
    {
     "name": "stdout",
     "output_type": "stream",
     "text": [
      "Wednesday\n"
     ]
    }
   ],
   "source": [
    "x = int(input(\"Enter a number for day: \"))\n",
    "if x >= 1 and x <=7:\n",
    "    if x == 1:\n",
    "        print(\"Monday\")\n",
    "    elif x == 2:\n",
    "        print(\"Tuesday\")\n",
    "    elif x == 3:\n",
    "        print(\"Wednesday\")\n",
    "    elif x == 4:\n",
    "        print(\"Thursday\")\n",
    "    elif x == 5:\n",
    "        print(\"Friday\")\n",
    "    elif x == 6:\n",
    "        print(\"Saturday\")\n",
    "    else:\n",
    "        print(\"Sunday\")\n",
    "else:\n",
    "    print(\"ERROR\")"
   ]
  },
  {
   "cell_type": "markdown",
   "metadata": {
    "id": "fZfiqg5lxFKF"
   },
   "source": [
    "## Tax Calculator\n",
    "\n",
    "###Instruction: You are going to program a  simple tax calculator.\n",
    "\n",
    "step1: Ask the user to enter the gross income of year 2022.\n",
    "\n",
    "step2: Calculate the tax based on following formula:\n",
    "\n",
    "1.   Less than \\$100,000, one pays just 1%\n",
    "2.   More than \\$100,000 one pays 5%\n",
    "3.   More than \\$500,000 then one pays 5% tax on the first 500,000 and 2 cents for every dollar above 500,000\n",
    "\n",
    "step3: Print the tax amount on the screen."
   ]
  },
  {
   "cell_type": "code",
   "execution_count": 11,
   "metadata": {
    "id": "2bODNGPSx1-m"
   },
   "outputs": [
    {
     "name": "stdout",
     "output_type": "stream",
     "text": [
      "Tax amount is: 27000.0\n"
     ]
    }
   ],
   "source": [
    "x = int(input(\"Enter your gross income: \"))\n",
    "tax = 0\n",
    "if x < 100000:\n",
    "    tax = 0.01 * x\n",
    "    print(\"Tax amount is: \" + str(tax))\n",
    "elif x >= 100000 and x <= 500000:\n",
    "    tax = 0.05 * x\n",
    "    print(\"Tax amount is: \" + str(tax))\n",
    "elif x > 500000:\n",
    "    tax = 0.05 * 500000 + 0.02 * (x - 500000)\n",
    "    print(\"Tax amount is: \" + str(tax))"
   ]
  },
  {
   "cell_type": "markdown",
   "metadata": {
    "id": "cZmW-HnwyHcI"
   },
   "source": [
    "## A Simple Calculator\n",
    "\n",
    "###Instruction: You are going to program a super simple Calcualtor.\n",
    "\n",
    "step1: Ask the user to enter the first number, store it in x\n",
    "\n",
    "step2: Ask the user to enter the second number, store it in y \n",
    "\n",
    "step3: Ask the user to enter the operator, store it in p\n",
    "\n",
    "step4: Calculate the result of x p y.\n",
    "\n",
    "For example, if the user entered 2, 3, and +, you should print 2.0 + 3.0 = 5.0 on the screen"
   ]
  },
  {
   "cell_type": "code",
   "execution_count": 1,
   "metadata": {
    "id": "wk6FHvAvyr_G"
   },
   "outputs": [
    {
     "name": "stdout",
     "output_type": "stream",
     "text": [
      "x + y =  8\n"
     ]
    }
   ],
   "source": [
    "x = int(input(\"Enter first number: \"))\n",
    "y = int(input(\"Enter second number\"))\n",
    "z = input(\"Enter operator: \")\n",
    "\n",
    "if z == 'p':\n",
    "    print(\"x + y = \", x + y)"
   ]
  },
  {
   "cell_type": "markdown",
   "metadata": {
    "id": "auP4vt99EOJx"
   },
   "source": [
    "## Taxi Fare Calculator\n",
    "\n",
    "###Instruction: You are going to program a simple Calcualtor for a taxi.\n",
    "\n",
    "step1: Ask the driver to enter total miles, store it in m\n",
    "\n",
    "step2: Calculate the fare based on the formular\n",
    "\n",
    "*   if m < 10, fare is \\$5\n",
    "*   if 10 <= m < 20, fare is \\$5 plus \\$1 for every mile beyond 10.\n",
    "*   if m >= 20, fare is \\$5 plus \\$1.5 for every mile beyond 10\n",
    "\n",
    "step3: print the fare.\n"
   ]
  },
  {
   "cell_type": "code",
   "execution_count": null,
   "metadata": {
    "id": "3sEH96OkGAzR"
   },
   "outputs": [],
   "source": [
    "# your code is here"
   ]
  },
  {
   "cell_type": "markdown",
   "metadata": {
    "id": "ylesrgONGCbf"
   },
   "source": [
    "## Flash Shipping charges\n",
    "\n",
    "###Instruction: You are going to program a shipping charge calculator for a deliver company - Flash Shipping.\n",
    "\n",
    "The rate of delivery is as below\n",
    "\n",
    "| Weight of Package | Domestic Rate Per Pound | International Rate Per Pound |\n",
    "| --- | --- | --- |\n",
    "| 2 lbs or less | \\$1.5 | \\$5.0 |\n",
    "| More than 2 lbs but no more than 6 lbs | \\$2.5 | \\$7.0 |\n",
    "| Morethan 6 lbs but no more than 20 lbs | \\$3.5 | \\$10.0 |\n",
    "| More than 20 lbs | \\$5.0 | \\$15.0 |\n",
    "\n",
    "step1: Ask the user to enter the weight of the package, and the destination (domestic or international)\n",
    "\n",
    "step2: Calculate the shipping charge based on the rate\n",
    "\n",
    "step3: print the charge.\n"
   ]
  },
  {
   "cell_type": "code",
   "execution_count": null,
   "metadata": {
    "id": "PntyPGzNHiYw"
   },
   "outputs": [],
   "source": [
    "# your code is here"
   ]
  },
  {
   "cell_type": "markdown",
   "metadata": {
    "id": "7Ysdu7UJ_qf8"
   },
   "source": [
    "**Congratulations! You finished this Assignment and completed Module 3!**"
   ]
  }
 ],
 "metadata": {
  "colab": {
   "collapsed_sections": [],
   "provenance": [],
   "toc_visible": true
  },
  "kernelspec": {
   "display_name": "Python 3",
   "name": "python3"
  },
  "language_info": {
   "codemirror_mode": {
    "name": "ipython",
    "version": 3
   },
   "file_extension": ".py",
   "mimetype": "text/x-python",
   "name": "python",
   "nbconvert_exporter": "python",
   "pygments_lexer": "ipython3",
   "version": "3.10.10"
  }
 },
 "nbformat": 4,
 "nbformat_minor": 0
}
