{
 "cells": [
  {
   "cell_type": "markdown",
   "metadata": {
    "id": "cnAUJprJdh9_"
   },
   "source": [
    "# Welcome to our Lab Practice!"
   ]
  },
  {
   "cell_type": "markdown",
   "metadata": {
    "id": "vVYcayGedmms"
   },
   "source": [
    "This lab is about arithmetic operations, more assignemnt operations from input(). Are you ready? Let's get started!"
   ]
  },
  {
   "cell_type": "markdown",
   "metadata": {
    "id": "JP8eGBVyeSQx"
   },
   "source": [
    "You will find some small tasks in sections below. "
   ]
  },
  {
   "cell_type": "markdown",
   "metadata": {
    "id": "TNbXeCDFeAcJ"
   },
   "source": [
    "## Arithmetic Operation\n",
    "\n",
    "In this section, you are going to code and run arithmetic operations of two numbers.\n",
    "\n",
    "Hint: to print out the equation, we can use the print() to print multiple values out. \n",
    "\n",
    "For example, print(x, 'operator', y, '=', x operator y) for an operator."
   ]
  },
  {
   "cell_type": "markdown",
   "metadata": {
    "id": "hhAeaPrjTLRT"
   },
   "source": [
    "###Task: Get some computation.\n",
    "\n",
    "1.   Assign x with 2, y with 3.\n",
    "2.   print out the equation and result of\n",
    "  1.   x + y\n",
    "  2.   x - y\n",
    "  3.   x * y\n",
    "  4.   x / y\n",
    "  5.   x // y\n",
    "  6.   x ** y\n",
    "  7.   x % y\n",
    "\n",
    "\n",
    "\n"
   ]
  },
  {
   "cell_type": "code",
   "execution_count": null,
   "metadata": {
    "id": "v4jLx-_gTIFA"
   },
   "outputs": [],
   "source": [
    "# type your code here"
   ]
  },
  {
   "cell_type": "markdown",
   "metadata": {
    "id": "TEHPJ_CpUuOv"
   },
   "source": [
    "###Task: Get some other computation.\n",
    "\n",
    "1.   Assign x with a value you like, y with another value you like.\n",
    "2.   print out the equation and result of\n",
    "  1.   x + y\n",
    "  2.   x - y\n",
    "  3.   x * y\n",
    "  4.   x / y\n",
    "  5.   x // y\n",
    "  6.   x ** y\n",
    "  7.   x % y\n",
    "3.   Are there some value that will crash your program? Why?"
   ]
  },
  {
   "cell_type": "code",
   "execution_count": null,
   "metadata": {
    "id": "e4UI_UJpU-7q"
   },
   "outputs": [],
   "source": [
    "# type your code here"
   ]
  },
  {
   "cell_type": "markdown",
   "metadata": {
    "id": "D8pWdoN7d6Dy"
   },
   "source": [
    "## Get Inputs from Users"
   ]
  },
  {
   "cell_type": "markdown",
   "metadata": {
    "id": "EZ42d1Sue0Zp"
   },
   "source": [
    "###Task: Help the User\n",
    "\n",
    "1.   Ask the user to enter an integer, convert and assign it to x;\n",
    "2.   Ask the user to enter another integer, convert and assign it to y;\n",
    "3.   print out the equation and result of\n",
    "  1.   x + y\n",
    "  2.   x - y\n",
    "  3.   x * y\n",
    "  4.   x / y\n",
    "  5.   x // y\n",
    "  6.   x ** y\n",
    "  7.   x % y\n",
    "3.   Are there some value that will crash your program? Why?\n"
   ]
  },
  {
   "cell_type": "code",
   "execution_count": null,
   "metadata": {
    "id": "yDzNIHsSeu85"
   },
   "outputs": [],
   "source": [
    "# type your code here"
   ]
  }
 ],
 "metadata": {
  "colab": {
   "authorship_tag": "ABX9TyOXe+qZYXYVhnqVfwDSkMUc",
   "collapsed_sections": [],
   "name": "M2Lab2.ipynb",
   "provenance": [],
   "toc_visible": true
  },
  "kernelspec": {
   "display_name": "Python 3",
   "name": "python3"
  },
  "language_info": {
   "name": "python"
  }
 },
 "nbformat": 4,
 "nbformat_minor": 0
}
