{
 "cells": [
  {
   "cell_type": "markdown",
   "metadata": {
    "id": "cnAUJprJdh9_"
   },
   "source": [
    "# Welcome to our Lab Practice!"
   ]
  },
  {
   "cell_type": "markdown",
   "metadata": {
    "id": "vVYcayGedmms"
   },
   "source": [
    "\n",
    "This lab is about logical and relational operations. Are you ready? Let's get started!"
   ]
  },
  {
   "cell_type": "markdown",
   "metadata": {
    "id": "JP8eGBVyeSQx"
   },
   "source": [
    "You will find some small tasks in sections below. "
   ]
  },
  {
   "cell_type": "markdown",
   "metadata": {
    "id": "TNbXeCDFeAcJ"
   },
   "source": [
    "## Relational Operation\n",
    "\n",
    "In this section, you are going to code and run relational operations of two numbers.\n",
    "\n",
    "Hint: to print out the comparison, we can use the print() to print multiple values out. \n",
    "\n",
    "For example, `print(x, 'operator', y, 'is', x operator y)` for an operator."
   ]
  },
  {
   "cell_type": "markdown",
   "metadata": {
    "id": "hhAeaPrjTLRT"
   },
   "source": [
    "###Task: Get some comparisons.\n",
    "\n",
    "1.   Assign x with 2, y with 3.\n",
    "2.   print out the comparison and result of\n",
    "  1.   x > y\n",
    "  2.   x >= y\n",
    "  3.   x == y\n",
    "  4.   x <= y\n",
    "  5.   x < y\n",
    "  6.   x != y\n",
    "\n",
    "\n",
    "\n"
   ]
  },
  {
   "cell_type": "code",
   "execution_count": 1,
   "metadata": {
    "id": "v4jLx-_gTIFA"
   },
   "outputs": [
    {
     "name": "stdout",
     "output_type": "stream",
     "text": [
      "False False False True True True\n"
     ]
    }
   ],
   "source": [
    "x = 2; y = 3\n",
    "print(x>y, x>=y, x==y, x<=y, x<y, x!=y)"
   ]
  },
  {
   "cell_type": "markdown",
   "metadata": {
    "id": "EZ42d1Sue0Zp"
   },
   "source": [
    "###Task: More comparisons\n",
    "\n",
    "1.   Ask the user to enter an integer, convert and assign it to x;\n",
    "2.   Ask the user to enter another integer, convert and assign it to y;\n",
    "3.   print out the comparison and result of\n",
    "  1.   x > y\n",
    "  2.   x >= y\n",
    "  3.   x == y\n",
    "  4.   x <= y\n",
    "  5.   x < y\n",
    "  6.   x != y"
   ]
  },
  {
   "cell_type": "code",
   "execution_count": 2,
   "metadata": {
    "id": "e4UI_UJpU-7q"
   },
   "outputs": [
    {
     "name": "stdout",
     "output_type": "stream",
     "text": [
      "True True False False False True\n"
     ]
    }
   ],
   "source": [
    "x = input(\"Enter x\"); y = input(\"Enter y\")\n",
    "print(x>y, x>=y, x==y, x<=y, x<y, x!=y)"
   ]
  },
  {
   "cell_type": "markdown",
   "metadata": {
    "id": "D8pWdoN7d6Dy"
   },
   "source": [
    "## Logical Operation\n",
    "\n",
    "In this section, you are going to code and run logical operations of two numbers.\n",
    "\n",
    "Hint: to print out the equation, we can use the print() to print multiple values out. \n",
    "\n",
    "For example, `print(x, 'operator', y, 'is', x operator y)` for an operator."
   ]
  },
  {
   "cell_type": "markdown",
   "metadata": {
    "id": "xDZeMhFteYjE"
   },
   "source": [
    "###Task: Get some computation.\n",
    "\n",
    "1.   Assign x with True, y with False.\n",
    "2.   print out the computation and result of\n",
    "  1.   x and x\n",
    "  2.   x and y\n",
    "  3.   y and x\n",
    "  4.   y and y\n",
    "  5.   x or x\n",
    "  6.   x or y\n",
    "  7.   y or x\n",
    "  8.   y or y\n",
    "  9.   not x\n",
    "  10.   not y\n",
    "\n",
    "\n",
    "\n"
   ]
  },
  {
   "cell_type": "code",
   "execution_count": 4,
   "metadata": {},
   "outputs": [
    {
     "name": "stdout",
     "output_type": "stream",
     "text": [
      "True\n"
     ]
    }
   ],
   "source": [
    "print('label' > 'Label')"
   ]
  },
  {
   "cell_type": "code",
   "execution_count": 3,
   "metadata": {
    "id": "yDzNIHsSeu85"
   },
   "outputs": [
    {
     "name": "stdout",
     "output_type": "stream",
     "text": [
      "True  and  False  is  False\n",
      "True  and  True  is  True\n",
      "False  and  False  is  False\n",
      "True  or  True  is  True\n",
      "True  or  False  is  True\n",
      "False  or  False  is  False\n",
      " not  True  is  False\n",
      " not  False  is  True\n"
     ]
    }
   ],
   "source": [
    "x = True\n",
    "y = False\n",
    "print(x, ' and ', y, ' is ', x and y)\n",
    "print(x, ' and ', x, ' is ', x and x)\n",
    "print(y, ' and ', y, ' is ', y and y)\n",
    "print(x, ' or ', x, ' is ', x or x)\n",
    "print(x, ' or ', y, ' is ', x or y)\n",
    "print(y, ' or ', y, ' is ', y or y)\n",
    "print(' not ', x, ' is ', not x)\n",
    "print(' not ', y, ' is ', not y)"
   ]
  }
 ],
 "metadata": {
  "colab": {
   "authorship_tag": "ABX9TyNOWuIvzWbbFmBk7Clqz+kH",
   "collapsed_sections": [],
   "name": "M2Lab3.ipynb",
   "provenance": [],
   "toc_visible": true
  },
  "kernelspec": {
   "display_name": "Python 3",
   "name": "python3"
  },
  "language_info": {
   "codemirror_mode": {
    "name": "ipython",
    "version": 3
   },
   "file_extension": ".py",
   "mimetype": "text/x-python",
   "name": "python",
   "nbconvert_exporter": "python",
   "pygments_lexer": "ipython3",
   "version": "3.10.10"
  }
 },
 "nbformat": 4,
 "nbformat_minor": 0
}
