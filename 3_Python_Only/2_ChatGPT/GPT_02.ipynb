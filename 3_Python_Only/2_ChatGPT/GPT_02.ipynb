{
 "cells": [
  {
   "attachments": {},
   "cell_type": "markdown",
   "metadata": {},
   "source": [
    "## GPT2 on Custom Data"
   ]
  },
  {
   "cell_type": "code",
   "execution_count": null,
   "metadata": {},
   "outputs": [],
   "source": [
    "from transformers import GPT2Tokenizer, GPT2LMHeadModel\n",
    "import torch\n",
    "import tensorflow as tf"
   ]
  },
  {
   "attachments": {},
   "cell_type": "markdown",
   "metadata": {},
   "source": [
    "### Training Sentences"
   ]
  },
  {
   "cell_type": "code",
   "execution_count": null,
   "metadata": {},
   "outputs": [],
   "source": [
    "train_sentences = [\n",
    "'If the Main Appointment is terminated for any reason or if under the terms of the Main Appointment the '\n",
    "'Consultant is instructed to remove the Sub-Consultant from involvement in the Project, then the Agreement ' \n",
    "'shall automatically terminate. '\n",
    "'The Consultant shall notify the Sub-Consultant as soon as it is reasonably able to do so.',\n",
    "\n",
    "'The Consultant may terminate this Agreement at any time on giving seven (7) Days '\n",
    "'notice in writing to the Sub-Consultant.',\n",
    "\n",
    "'If either party becomes insolvent or bankrupt then the other party may immediately '\n",
    "'terminate the Agreement by notice in writing.',\n",
    "\n",
    "'Upon suspension or termination of the Agreement, '\n",
    "'the Sub-Consultant shall immediately take steps to bring the performance of the Sub-Consultancy '\n",
    "'Services to an end in an orderly manner. The Sub-Consultant shall deliver up to '\n",
    "'the Consultant all documents (including electronic documents) relating to the Project including any Materials.',\n",
    "\n",
    "'Following termination of this Agreement the Consultant may carry out the Sub-Consultancy Services '\n",
    "'itself or may engage others to carry out the Sub-Consultancy Services and the Sub-Consultant shall '\n",
    "'have no claim against the Consultant for so doing.'\n",
    "\n",
    "]"
   ]
  },
  {
   "cell_type": "code",
   "execution_count": null,
   "metadata": {},
   "outputs": [],
   "source": [
    "# Load the tokenizer\n",
    "tokenizer = GPT2Tokenizer.from_pretrained('gpt2')\n",
    "\n",
    "# Prepare the dataset\n",
    "# Assume that you have a list of sentences called `train_sentences`\n",
    "# Convert the sentences to input ids and attention masks\n",
    "input_ids = [tokenizer.encode(sent, add_special_tokens = True) for sent in train_sentences]\n",
    "attention_masks = [[float(i > 0) for i in ii] for ii in input_ids]"
   ]
  },
  {
   "cell_type": "code",
   "execution_count": null,
   "metadata": {},
   "outputs": [],
   "source": [
    "'''\n",
    "max_length = 70\n",
    "if tokenizer.pad_token is None:\n",
    "    tokenizer.add_special_tokens({'pad_token': '[PAD]'})\n",
    "def tokenize_function(training):\n",
    "    return tokenizer(training, padding='max_length', truncation = True, max_length = max_length)\n",
    "tokenize_function(train_sentences)\n",
    "'''\n",
    "#un-comment for tokenizer function"
   ]
  },
  {
   "cell_type": "code",
   "execution_count": 37,
   "metadata": {},
   "outputs": [],
   "source": [
    "input_ids = tf.keras.preprocessing.sequence.pad_sequences(input_ids)\n",
    "attention_masks = tf.keras.preprocessing.sequence.pad_sequences(attention_masks)"
   ]
  },
  {
   "cell_type": "code",
   "execution_count": 39,
   "metadata": {},
   "outputs": [
    {
     "name": "stdout",
     "output_type": "stream",
     "text": [
      "68\n"
     ]
    }
   ],
   "source": [
    "print(len(attention_masks[2]))"
   ]
  },
  {
   "cell_type": "code",
   "execution_count": 40,
   "metadata": {},
   "outputs": [],
   "source": [
    "# Convert the data to PyTorch tensors\n",
    "input_ids = torch.tensor(input_ids)\n",
    "attention_masks = torch.tensor(attention_masks)"
   ]
  },
  {
   "cell_type": "code",
   "execution_count": 41,
   "metadata": {},
   "outputs": [],
   "source": [
    "# Load the pre-trained model\n",
    "model = GPT2LMHeadModel.from_pretrained('gpt2')"
   ]
  },
  {
   "cell_type": "code",
   "execution_count": 42,
   "metadata": {},
   "outputs": [],
   "source": [
    "# Fine-tune the model on the dataset\n",
    "model.train()\n",
    "optimizer = torch.optim.Adam(model.parameters(), lr=1e-5)"
   ]
  },
  {
   "cell_type": "code",
   "execution_count": 46,
   "metadata": {},
   "outputs": [
    {
     "ename": "AttributeError",
     "evalue": "'NoneType' object has no attribute 'backward'",
     "output_type": "error",
     "traceback": [
      "\u001b[1;31m---------------------------------------------------------------------------\u001b[0m",
      "\u001b[1;31mAttributeError\u001b[0m                            Traceback (most recent call last)",
      "\u001b[1;32md:\\repos\\CourseraPlus\\3_Python_Only\\2_ChatGPT\\GPT_02.ipynb Cell 12\u001b[0m in \u001b[0;36m<cell line: 2>\u001b[1;34m()\u001b[0m\n\u001b[0;32m      <a href='vscode-notebook-cell:/d%3A/repos/CourseraPlus/3_Python_Only/2_ChatGPT/GPT_02.ipynb#W6sZmlsZQ%3D%3D?line=2'>3</a>\u001b[0m output \u001b[39m=\u001b[39m model(input_ids, attention_mask \u001b[39m=\u001b[39m attention_masks)\n\u001b[0;32m      <a href='vscode-notebook-cell:/d%3A/repos/CourseraPlus/3_Python_Only/2_ChatGPT/GPT_02.ipynb#W6sZmlsZQ%3D%3D?line=3'>4</a>\u001b[0m loss \u001b[39m=\u001b[39m output\u001b[39m.\u001b[39mloss\n\u001b[1;32m----> <a href='vscode-notebook-cell:/d%3A/repos/CourseraPlus/3_Python_Only/2_ChatGPT/GPT_02.ipynb#W6sZmlsZQ%3D%3D?line=4'>5</a>\u001b[0m loss\u001b[39m.\u001b[39;49mbackward()\n\u001b[0;32m      <a href='vscode-notebook-cell:/d%3A/repos/CourseraPlus/3_Python_Only/2_ChatGPT/GPT_02.ipynb#W6sZmlsZQ%3D%3D?line=5'>6</a>\u001b[0m optimizer\u001b[39m.\u001b[39mstep()\n\u001b[0;32m      <a href='vscode-notebook-cell:/d%3A/repos/CourseraPlus/3_Python_Only/2_ChatGPT/GPT_02.ipynb#W6sZmlsZQ%3D%3D?line=6'>7</a>\u001b[0m optimizer\u001b[39m.\u001b[39mzero_grad()\n",
      "\u001b[1;31mAttributeError\u001b[0m: 'NoneType' object has no attribute 'backward'"
     ]
    }
   ],
   "source": [
    "num_epochs = 200\n",
    "for _ in range(num_epochs):\n",
    "    output = model(input_ids, attention_mask = attention_masks)\n",
    "    loss = output.loss\n",
    "    loss.backward()\n",
    "    optimizer.step()\n",
    "    optimizer.zero_grad()"
   ]
  },
  {
   "attachments": {},
   "cell_type": "markdown",
   "metadata": {},
   "source": [
    "### Save the fine-tuned model"
   ]
  },
  {
   "cell_type": "code",
   "execution_count": null,
   "metadata": {},
   "outputs": [],
   "source": [
    "# Save the fine-tuned model\n",
    "model.save_pretrained('/path/to/save/model')"
   ]
  }
 ],
 "metadata": {
  "kernelspec": {
   "display_name": "Python 3",
   "language": "python",
   "name": "python3"
  },
  "language_info": {
   "codemirror_mode": {
    "name": "ipython",
    "version": 3
   },
   "file_extension": ".py",
   "mimetype": "text/x-python",
   "name": "python",
   "nbconvert_exporter": "python",
   "pygments_lexer": "ipython3",
   "version": "3.10.4"
  },
  "orig_nbformat": 4,
  "vscode": {
   "interpreter": {
    "hash": "369f2c481f4da34e4445cda3fffd2e751bd1c4d706f27375911949ba6bb62e1c"
   }
  }
 },
 "nbformat": 4,
 "nbformat_minor": 2
}
