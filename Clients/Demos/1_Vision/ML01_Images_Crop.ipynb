{
 "cells": [
  {
   "attachments": {},
   "cell_type": "markdown",
   "metadata": {},
   "source": [
    "## Import Vision Libraries"
   ]
  },
  {
   "cell_type": "code",
   "execution_count": 1,
   "metadata": {},
   "outputs": [],
   "source": [
    "#First run only\n",
    "#!pip install google-cloud-vision\n",
    "import os\n",
    "import io\n",
    "#Cred key\n",
    "os.environ['GOOGLE_APPLICATION_CREDENTIALS'] = '../1_Vision/Keys/glossy-radio-377415-d797ca03c624.json'\n",
    "\n",
    "from google.cloud import vision\n",
    "from PIL import Image, ImageDraw"
   ]
  },
  {
   "cell_type": "code",
   "execution_count": 5,
   "metadata": {},
   "outputs": [],
   "source": [
    "image_path = os.path.abspath('./image02.jpg')"
   ]
  },
  {
   "attachments": {},
   "cell_type": "markdown",
   "metadata": {},
   "source": [
    "### Get crop vertices"
   ]
  },
  {
   "cell_type": "code",
   "execution_count": 2,
   "metadata": {},
   "outputs": [],
   "source": [
    "def get_crop_hint(path):\n",
    "    client = vision.ImageAnnotatorClient()\n",
    "    with io.open(path, 'rb') as image_file:\n",
    "        content = image_file.read()\n",
    "    image = vision.Image(content=content)\n",
    "    crop_hints_params = vision.CropHintsParams(aspect_ratios=[1.1])\n",
    "    image_context = vision.ImageContext(crop_hints_params=crop_hints_params)\n",
    "    response = client.crop_hints(image=image, image_context=image_context)\n",
    "    hints = response.crop_hints_annotation.crop_hints\n",
    "    vertices = hints[0].bounding_poly.vertices\n",
    "    return vertices"
   ]
  },
  {
   "attachments": {},
   "cell_type": "markdown",
   "metadata": {},
   "source": [
    "### Draw bounding poly"
   ]
  },
  {
   "cell_type": "code",
   "execution_count": 3,
   "metadata": {},
   "outputs": [],
   "source": [
    "def draw_hint(image_file):\n",
    "    vects = get_crop_hint(image_file)\n",
    "    im = Image.open(image_file)\n",
    "    draw = ImageDraw.Draw(im)\n",
    "    draw.polygon([\n",
    "        vects[0].x, vects[0].y,\n",
    "        vects[1].x, vects[1].y,\n",
    "        vects[2].x, vects[2].y,\n",
    "        vects[3].x, vects[3].y], None, 'red')\n",
    "    im.save('output-hint.jpg', 'JPEG')\n",
    "    print('Saved new image to output-hint.jpg')"
   ]
  },
  {
   "attachments": {},
   "cell_type": "markdown",
   "metadata": {},
   "source": [
    "### Crop and save as new"
   ]
  },
  {
   "cell_type": "code",
   "execution_count": 7,
   "metadata": {},
   "outputs": [],
   "source": [
    "def crop_to_hint(image_file):\n",
    "    vects = get_crop_hint(image_file)\n",
    "    im = Image.open(image_file)\n",
    "    im2 = im.crop([vects[0].x, vects[0].y,\n",
    "                  vects[2].x - 1, vects[2].y - 1])\n",
    "    im2.save('output-crop2.jpg', 'JPEG')\n",
    "    print('Saved new image to output-crop.jpg')"
   ]
  },
  {
   "cell_type": "code",
   "execution_count": 8,
   "metadata": {},
   "outputs": [
    {
     "name": "stdout",
     "output_type": "stream",
     "text": [
      "Saved new image to output-crop.jpg\n"
     ]
    }
   ],
   "source": [
    "crop_to_hint(image_file=image_path)"
   ]
  },
  {
   "cell_type": "code",
   "execution_count": 11,
   "metadata": {},
   "outputs": [],
   "source": [
    "orig_image = Image.open(image_path)\n",
    "vects = get_crop_hint(image_path)"
   ]
  },
  {
   "cell_type": "code",
   "execution_count": 13,
   "metadata": {},
   "outputs": [
    {
     "name": "stdout",
     "output_type": "stream",
     "text": [
      "x = 0, y = 129, x2 = 783, y2 = 574\n",
      "x = 0, y = 129, x2 = 783, y2 = 574\n"
     ]
    }
   ],
   "source": [
    "print(\"x = {}, y = {}, x2 = {}, y2 = {}\".format(vects[0].x,vects[0].y,vects[2].x,vects[2].y))\n",
    "#im_crop = im.crop((left, upper, right, lower))\n",
    "x = vects[0].x\n",
    "y = vects[0].y\n",
    "x2 = vects[2].x\n",
    "y2 = vects[2].y\n",
    "print(\"x = {}, y = {}, x2 = {}, y2 = {}\".format(x,y,x2,y2))"
   ]
  },
  {
   "cell_type": "code",
   "execution_count": 17,
   "metadata": {},
   "outputs": [],
   "source": [
    "orig_image = Image.open(image_path)\n",
    "obj_image = orig_image.crop((x, y, x2, y2))\n",
    "obj_image.save(\"crop-1.png\")\n",
    "width = x2 - x\n",
    "height = y2 - y\n",
    "white_space = Image.new(\"RGB\", (width, height), (255, 255, 255))\n",
    "orig_image.paste(white_space, (x, y))\n",
    "orig_image.save(\"new_orig.png\")"
   ]
  }
 ],
 "metadata": {
  "kernelspec": {
   "display_name": "Python 3",
   "language": "python",
   "name": "python3"
  },
  "language_info": {
   "codemirror_mode": {
    "name": "ipython",
    "version": 3
   },
   "file_extension": ".py",
   "mimetype": "text/x-python",
   "name": "python",
   "nbconvert_exporter": "python",
   "pygments_lexer": "ipython3",
   "version": "3.10.10"
  },
  "orig_nbformat": 4,
  "vscode": {
   "interpreter": {
    "hash": "7240ea951ceaba11e29eac9de981dee739bdf7955bec6037107e9ed0cae0a328"
   }
  }
 },
 "nbformat": 4,
 "nbformat_minor": 2
}
