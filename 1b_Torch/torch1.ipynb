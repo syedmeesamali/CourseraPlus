{
 "cells": [
  {
   "attachments": {},
   "cell_type": "markdown",
   "metadata": {},
   "source": [
    "## General Torch Review"
   ]
  },
  {
   "cell_type": "code",
   "execution_count": 1,
   "metadata": {},
   "outputs": [
    {
     "data": {
      "text/plain": [
       "tensor([1., 1., 1.])"
      ]
     },
     "execution_count": 1,
     "metadata": {},
     "output_type": "execute_result"
    }
   ],
   "source": [
    "import torch\n",
    "a = torch.ones(3)\n",
    "a"
   ]
  },
  {
   "cell_type": "code",
   "execution_count": 2,
   "metadata": {},
   "outputs": [
    {
     "data": {
      "text/plain": [
       "1.0"
      ]
     },
     "execution_count": 2,
     "metadata": {},
     "output_type": "execute_result"
    }
   ],
   "source": [
    "float(a[1])"
   ]
  },
  {
   "cell_type": "code",
   "execution_count": 3,
   "metadata": {},
   "outputs": [
    {
     "data": {
      "text/plain": [
       "tensor([[4.0000, 1.0000],\n",
       "        [5.0000, 3.0000],\n",
       "        [2.0000, 1.5000]])"
      ]
     },
     "execution_count": 3,
     "metadata": {},
     "output_type": "execute_result"
    }
   ],
   "source": [
    "points = torch.tensor([[4.0, 1.0], [5.0, 3.0], [2.0, 1.5]])\n",
    "points"
   ]
  },
  {
   "cell_type": "code",
   "execution_count": 4,
   "metadata": {},
   "outputs": [
    {
     "name": "stdout",
     "output_type": "stream",
     "text": [
      "[0, 1, 2, 3, 4, 5]\n",
      "[1, 2, 3]\n",
      "[1, 2, 3, 4, 5]\n",
      "[0, 1, 2, 3]\n",
      "[0, 1, 2, 3, 4]\n"
     ]
    }
   ],
   "source": [
    "some_list = list(range(6))\n",
    "print(some_list[:])  # Full list\n",
    "print(some_list[1:4])  # 1 inclusive 4th not\n",
    "print(some_list[1:])  # 1 to end\n",
    "print(some_list[:4])  # start to 4 exclusive\n",
    "print(some_list[:-1])  # start to 1 before last"
   ]
  },
  {
   "cell_type": "code",
   "execution_count": 5,
   "metadata": {},
   "outputs": [],
   "source": [
    "img_t = torch.randn(3, 5, 5)     # [shape, rows, cols]\n",
    "weights = torch.tensor([0.21, 0.71, 0.35])\n",
    "batch_t = torch.randn(2, 3, 5, 5)     # [batch, shape, rows, cols]"
   ]
  },
  {
   "cell_type": "code",
   "execution_count": 6,
   "metadata": {},
   "outputs": [
    {
     "name": "stdout",
     "output_type": "stream",
     "text": [
      "tensor([[[-0.6863,  0.1629,  1.5992, -0.2687, -1.2694],\n",
      "         [ 0.7502, -0.2016, -0.2648,  0.0925, -1.4965],\n",
      "         [-0.8090, -0.0617, -1.6143,  0.4611,  0.1372],\n",
      "         [ 3.3752,  2.5224, -0.6460,  1.1853, -0.7863],\n",
      "         [ 1.2148,  0.1048,  0.1740, -0.6992, -0.7198]],\n",
      "\n",
      "        [[-0.4475, -0.4668, -1.0433,  0.4088, -1.0118],\n",
      "         [ 1.1086,  0.5504,  0.1554, -1.8947,  0.1848],\n",
      "         [-1.5241,  1.3003,  1.9049, -1.5025, -0.5467],\n",
      "         [ 0.9516, -1.7565,  1.7750,  0.1349, -0.5086],\n",
      "         [-1.1571, -0.1846, -1.0427, -0.0501, -1.8665]],\n",
      "\n",
      "        [[-0.3682, -0.8063,  0.5526, -0.5343, -0.6837],\n",
      "         [-0.9102,  0.9337, -0.5030, -0.4055,  0.2267],\n",
      "         [ 0.0152,  0.6779, -0.1600, -0.8735,  1.0210],\n",
      "         [ 0.2225, -0.2934, -0.3467, -0.6375,  0.1672],\n",
      "         [-0.3314,  0.6737, -1.0039,  0.6806, -0.9571]]])\n",
      "tensor([0.2100, 0.7100, 0.3500])\n",
      "tensor([[[[-1.1593e+00,  7.5770e-01,  3.8997e-01, -8.3386e-01, -4.8346e-01],\n",
      "          [-7.5214e-01, -2.5138e-01, -9.1842e-01,  2.5336e-02,  1.9183e+00],\n",
      "          [-5.2703e-01,  1.2777e+00, -6.7279e-02, -1.5548e-01, -1.1581e+00],\n",
      "          [-1.3256e-01, -6.2412e-01, -9.8933e-02,  3.4821e-01, -1.1888e+00],\n",
      "          [-4.0917e-01,  9.8817e-01, -2.8563e-01, -7.1771e-01,  1.7852e+00]],\n",
      "\n",
      "         [[ 1.0224e+00,  5.1121e-02, -2.1929e+00,  1.2207e+00, -1.8352e-01],\n",
      "          [ 1.7759e+00,  7.8512e-01,  2.5188e+00,  1.5202e-01,  2.0807e-01],\n",
      "          [-4.4552e-01, -1.3498e-01,  1.4413e+00, -1.3059e-01, -5.7851e-03],\n",
      "          [ 1.2664e+00,  5.2118e-01,  7.9565e-02,  1.6232e+00, -1.4903e+00],\n",
      "          [ 6.4613e-01,  1.1836e+00, -2.0302e-02, -5.3803e-01,  5.4740e-01]],\n",
      "\n",
      "         [[-1.8026e+00,  1.8159e+00, -9.0345e-01,  9.5308e-02, -1.7033e-01],\n",
      "          [-4.0594e-01, -3.4175e-01,  8.1548e-01,  1.4541e+00,  5.1323e-01],\n",
      "          [-3.7750e-01, -4.0356e-01, -9.5240e-01, -2.3762e-01, -5.0364e-01],\n",
      "          [-2.8517e-01,  2.0874e+00,  2.5256e+00,  1.2128e+00, -1.4290e+00],\n",
      "          [-3.3489e-01, -1.7081e+00, -5.5288e-01,  6.1253e-01,  9.2226e-01]]],\n",
      "\n",
      "\n",
      "        [[[-3.3343e-02, -5.6729e-01,  1.1735e+00,  6.2618e-01,  4.4710e-01],\n",
      "          [ 2.9383e-01,  4.7145e-01,  1.4237e+00, -1.1606e+00, -5.0109e-02],\n",
      "          [ 4.7291e-01, -8.9301e-02,  5.6671e-01,  1.6176e+00,  1.1317e+00],\n",
      "          [ 1.2815e+00, -6.2196e-01,  3.6386e-01,  4.0124e-01,  1.1154e+00],\n",
      "          [ 4.0996e-01,  1.7244e-01,  3.4130e-02, -3.4204e-01, -1.7486e+00]],\n",
      "\n",
      "         [[-2.9107e-01, -6.8743e-01, -7.2893e-02, -1.0605e+00, -8.9255e-01],\n",
      "          [ 1.3981e+00,  3.0106e-01, -1.6910e-01, -7.4259e-02, -7.5917e-01],\n",
      "          [-7.9479e-01,  1.5114e+00,  7.1497e-01,  1.1859e+00,  2.8833e-01],\n",
      "          [-8.4398e-01,  4.3526e-01,  4.2964e-01, -1.1931e+00, -7.7286e-01],\n",
      "          [ 1.2907e+00,  2.8355e+00, -1.9258e-01,  3.0751e-01, -2.1842e+00]],\n",
      "\n",
      "         [[ 1.3248e-01,  8.3590e-01,  1.4537e+00, -1.7689e-03,  1.4943e+00],\n",
      "          [-2.7596e-03, -4.7294e-01, -8.5922e-01, -1.0055e-01,  1.6785e-01],\n",
      "          [ 7.5484e-01,  1.3232e+00, -1.1006e+00, -1.7997e+00, -1.6020e+00],\n",
      "          [ 1.1414e+00, -1.6918e+00,  4.0413e-01,  1.2781e+00,  4.0137e-01],\n",
      "          [ 6.8027e-01,  5.6170e-01, -1.2214e+00, -9.5056e-01, -2.4902e-01]]]])\n"
     ]
    }
   ],
   "source": [
    "print(img_t)\n",
    "print(weights)\n",
    "print(batch_t)"
   ]
  },
  {
   "cell_type": "code",
   "execution_count": 7,
   "metadata": {},
   "outputs": [
    {
     "data": {
      "text/plain": [
       "(torch.Size([5, 5]), torch.Size([2, 5, 5]))"
      ]
     },
     "execution_count": 7,
     "metadata": {},
     "output_type": "execute_result"
    }
   ],
   "source": [
    "img_gray = img_t.mean(-3)\n",
    "batch_gray = batch_t.mean(-3)\n",
    "img_gray.shape, batch_gray.shape"
   ]
  }
 ],
 "metadata": {
  "kernelspec": {
   "display_name": "Python 3",
   "language": "python",
   "name": "python3"
  },
  "language_info": {
   "codemirror_mode": {
    "name": "ipython",
    "version": 3
   },
   "file_extension": ".py",
   "mimetype": "text/x-python",
   "name": "python",
   "nbconvert_exporter": "python",
   "pygments_lexer": "ipython3",
   "version": "3.10.4"
  },
  "orig_nbformat": 4,
  "vscode": {
   "interpreter": {
    "hash": "369f2c481f4da34e4445cda3fffd2e751bd1c4d706f27375911949ba6bb62e1c"
   }
  }
 },
 "nbformat": 4,
 "nbformat_minor": 2
}
