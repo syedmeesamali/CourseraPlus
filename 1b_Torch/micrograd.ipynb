{
 "cells": [
  {
   "attachments": {},
   "cell_type": "markdown",
   "metadata": {},
   "source": [
    "### Micrograd by Andrej Karpathy"
   ]
  },
  {
   "cell_type": "code",
   "execution_count": 1,
   "metadata": {},
   "outputs": [],
   "source": [
    "import math\n",
    "import numpy as np\n",
    "import matplotlib.pyplot as plt"
   ]
  },
  {
   "cell_type": "code",
   "execution_count": 2,
   "metadata": {},
   "outputs": [],
   "source": [
    "def f(x):\n",
    "    return 3*x**2 - 4*x + 5"
   ]
  },
  {
   "cell_type": "code",
   "execution_count": 3,
   "metadata": {},
   "outputs": [
    {
     "name": "stdout",
     "output_type": "stream",
     "text": [
      "20.0\n"
     ]
    }
   ],
   "source": [
    "print(f(3.0))"
   ]
  },
  {
   "cell_type": "code",
   "execution_count": 4,
   "metadata": {},
   "outputs": [
    {
     "data": {
      "text/plain": [
       "[<matplotlib.lines.Line2D at 0x1a96b3c1370>]"
      ]
     },
     "execution_count": 4,
     "metadata": {},
     "output_type": "execute_result"
    },
    {
     "data": {
      "image/png": "[encoded data removed]",
      "text/plain": [
       "<Figure size 432x288 with 1 Axes>"
      ]
     },
     "metadata": {
      "needs_background": "light"
     },
     "output_type": "display_data"
    }
   ],
   "source": [
    "xs = np.arange(-5, 5, 0.25)\n",
    "ys = f(xs)\n",
    "plt.plot(xs, ys)"
   ]
  },
  {
   "attachments": {},
   "cell_type": "markdown",
   "metadata": {},
   "source": [
    "### Simple derivative"
   ]
  },
  {
   "cell_type": "code",
   "execution_count": 5,
   "metadata": {},
   "outputs": [
    {
     "data": {
      "text/plain": [
       "14.000300000063248"
      ]
     },
     "execution_count": 5,
     "metadata": {},
     "output_type": "execute_result"
    }
   ],
   "source": [
    "h = 0.0001\n",
    "x = 3.0\n",
    "#Then by definition of derivative\n",
    "(f(x + h) - f(x)) / h "
   ]
  },
  {
   "cell_type": "code",
   "execution_count": 6,
   "metadata": {},
   "outputs": [
    {
     "data": {
      "text/plain": [
       "-21.999700000066014"
      ]
     },
     "execution_count": 6,
     "metadata": {},
     "output_type": "execute_result"
    }
   ],
   "source": [
    "h = 0.0001\n",
    "x = -3.0\n",
    "#Then by definition of derivative\n",
    "(f(x + h) - f(x)) / h "
   ]
  },
  {
   "cell_type": "code",
   "execution_count": 7,
   "metadata": {},
   "outputs": [
    {
     "name": "stdout",
     "output_type": "stream",
     "text": [
      "4.0\n"
     ]
    }
   ],
   "source": [
    "#Let's do more complex stuff\n",
    "a = 2.0\n",
    "b = -3.0\n",
    "c = 10.0\n",
    "d = a * b + c\n",
    "print(d)"
   ]
  },
  {
   "cell_type": "code",
   "execution_count": 8,
   "metadata": {},
   "outputs": [
    {
     "name": "stdout",
     "output_type": "stream",
     "text": [
      "D1 is 4.0 D2 is 3.999699999999999 and slope is -3.000000000010772\n"
     ]
    }
   ],
   "source": [
    "h = 0.0001\n",
    "\n",
    "#Inputs\n",
    "a = 2.0\n",
    "b = -3.0\n",
    "c = 10.0\n",
    "d1 = a * b + c\n",
    "a += h\n",
    "d2 = a * b + c\n",
    "print(f\"D1 is {d1} D2 is {d2} and slope is {(d2 - d1) / h}\")"
   ]
  },
  {
   "attachments": {},
   "cell_type": "markdown",
   "metadata": {},
   "source": [
    "### Value Class"
   ]
  },
  {
   "cell_type": "code",
   "execution_count": 22,
   "metadata": {},
   "outputs": [
    {
     "data": {
      "text/plain": [
       "Value(data=-8.0)"
      ]
     },
     "execution_count": 22,
     "metadata": {},
     "output_type": "execute_result"
    }
   ],
   "source": [
    "class Value:\n",
    "\n",
    "    def __init__(self, data, _children = (), _op = '', label = ''):\n",
    "        self.data = data\n",
    "        self._prev = set(_children)\n",
    "        self._op = _op\n",
    "        self.grad = 0.0\n",
    "        self.label = label\n",
    "    \n",
    "    def __repr__(self):\n",
    "        return f\"Value(data={self.data})\"\n",
    "    \n",
    "    def __add__(self, other):\n",
    "        out = Value(self.data + other.data, (self, other), '+')\n",
    "        return out\n",
    "    \n",
    "    def __mul__(self, other):\n",
    "        out = Value(self.data * other.data, (self, other), '*')\n",
    "        return out\n",
    "\n",
    "a = Value(2.0, label='a')\n",
    "b = Value(-3.0, label='b')\n",
    "c = Value(10.0, label='c')\n",
    "e = a * b; e.label = 'e'\n",
    "d = e + c; d.label = 'd'\n",
    "f = Value(-2.0, label = 'f')\n",
    "L = d * f; L.label = 'L'\n",
    "L"
   ]
  },
  {
   "cell_type": "code",
   "execution_count": 10,
   "metadata": {},
   "outputs": [
    {
     "data": {
      "text/plain": [
       "{Value(data=-6.0), Value(data=10.0)}"
      ]
     },
     "execution_count": 10,
     "metadata": {},
     "output_type": "execute_result"
    }
   ],
   "source": [
    "d._prev"
   ]
  },
  {
   "cell_type": "code",
   "execution_count": 11,
   "metadata": {},
   "outputs": [
    {
     "data": {
      "text/plain": [
       "'+'"
      ]
     },
     "execution_count": 11,
     "metadata": {},
     "output_type": "execute_result"
    }
   ],
   "source": [
    "d._op"
   ]
  },
  {
   "cell_type": "code",
   "execution_count": 12,
   "metadata": {},
   "outputs": [],
   "source": [
    "# pip install graphviz\n",
    "from graphviz import Digraph"
   ]
  },
  {
   "attachments": {},
   "cell_type": "markdown",
   "metadata": {},
   "source": [
    "### Draw Graph using GraphViz"
   ]
  },
  {
   "cell_type": "code",
   "execution_count": 23,
   "metadata": {},
   "outputs": [],
   "source": [
    "def trace(root):\n",
    "    nodes, edges = set(), set()\n",
    "    def build(v):\n",
    "        if v not in nodes:\n",
    "            nodes.add(v)\n",
    "            for child in v._prev:\n",
    "                edges.add((child, v))\n",
    "                build(child)\n",
    "    build(root)\n",
    "    return nodes, edges\n",
    "\n",
    "def draw_dot(root, format='svg', rankdir='LR'):\n",
    "    \"\"\"\n",
    "    format: png | svg | ...\n",
    "    rankdir: TB (top to bottom graph) | LR (left to right)\n",
    "    \"\"\"\n",
    "    assert rankdir in ['LR', 'TB']\n",
    "    nodes, edges = trace(root)\n",
    "    dot = Digraph(format=format, graph_attr={'rankdir': rankdir}) #, node_attr={'rankdir': 'TB'})\n",
    "    \n",
    "    for n in nodes:\n",
    "        dot.node(name=str(id(n)), label = \"{ %s | data %.4f | grad %.04f }\" % (n.label, n.data, n.grad), shape='record')\n",
    "        if n._op:\n",
    "            dot.node(name=str(id(n)) + n._op, label=n._op)\n",
    "            dot.edge(str(id(n)) + n._op, str(id(n)))\n",
    "    \n",
    "    for n1, n2 in edges:\n",
    "        dot.edge(str(id(n1)), str(id(n2)) + n2._op)\n",
    "    \n",
    "    return dot"
   ]
  },
  {
   "cell_type": "code",
   "execution_count": 31,
   "metadata": {},
   "outputs": [
    {
     "data": {
      "image/svg+xml": "<?xml version=\"1.0\" encoding=\"UTF-8\" standalone=\"no\"?>\n<!DOCTYPE svg PUBLIC \"-//W3C//DTD SVG 1.1//EN\"\n \"http://www.w3.org/Graphics/SVG/1.1/DTD/svg11.dtd\">\n<!-- Generated by graphviz version 7.1.0 (20230121.1956)\n -->\n<!-- Pages: 1 -->\n<svg width=\"1157pt\" height=\"128pt\"\n viewBox=\"0.00 0.00 1157.00 128.00\" xmlns=\"http://www.w3.org/2000/svg\" xmlns:xlink=\"http://www.w3.org/1999/xlink\">\n<g id=\"graph0\" class=\"graph\" transform=\"scale(1 1) rotate(0) translate(4 124)\">\n<polygon fill=\"white\" stroke=\"none\" points=\"-4,4 -4,-124 1153,-124 1153,4 -4,4\"/>\n<!-- 1827195517008 -->\n<g id=\"node1\" class=\"node\">\n<title>1827195517008</title>\n<polygon fill=\"none\" stroke=\"black\" points=\"955,-27.5 955,-63.5 1149,-63.5 1149,-27.5 955,-27.5\"/>\n<text text-anchor=\"middle\" x=\"967.5\" y=\"-41.8\" font-family=\"Times New Roman,serif\" font-size=\"14.00\">L</text>\n<polyline fill=\"none\" stroke=\"black\" points=\"980,-27.5 980,-63.5\"/>\n<text text-anchor=\"middle\" x=\"1023\" y=\"-41.8\" font-family=\"Times New Roman,serif\" font-size=\"14.00\">data &#45;8.0000</text>\n<polyline fill=\"none\" stroke=\"black\" points=\"1066,-27.5 1066,-63.5\"/>\n<text text-anchor=\"middle\" x=\"1107.5\" y=\"-41.8\" font-family=\"Times New Roman,serif\" font-size=\"14.00\">grad 1.0000</text>\n</g>\n<!-- 1827195517008* -->\n<g id=\"node2\" class=\"node\">\n<title>1827195517008*</title>\n<ellipse fill=\"none\" stroke=\"black\" cx=\"892\" cy=\"-45.5\" rx=\"27\" ry=\"18\"/>\n<text text-anchor=\"middle\" x=\"892\" y=\"-41.8\" font-family=\"Times New Roman,serif\" font-size=\"14.00\">*</text>\n</g>\n<!-- 1827195517008*&#45;&gt;1827195517008 -->\n<g id=\"edge1\" class=\"edge\">\n<title>1827195517008*&#45;&gt;1827195517008</title>\n<path fill=\"none\" stroke=\"black\" d=\"M919.45,-45.5C926.67,-45.5 934.97,-45.5 943.82,-45.5\"/>\n<polygon fill=\"black\" stroke=\"black\" points=\"943.75,-49 953.75,-45.5 943.75,-42 943.75,-49\"/>\n</g>\n<!-- 1827195517056 -->\n<g id=\"node3\" class=\"node\">\n<title>1827195517056</title>\n<polygon fill=\"none\" stroke=\"black\" points=\"640,-55.5 640,-91.5 828,-91.5 828,-55.5 640,-55.5\"/>\n<text text-anchor=\"middle\" x=\"652\" y=\"-69.8\" font-family=\"Times New Roman,serif\" font-size=\"14.00\">d</text>\n<polyline fill=\"none\" stroke=\"black\" points=\"664,-55.5 664,-91.5\"/>\n<text text-anchor=\"middle\" x=\"704.5\" y=\"-69.8\" font-family=\"Times New Roman,serif\" font-size=\"14.00\">data 4.0000</text>\n<polyline fill=\"none\" stroke=\"black\" points=\"745,-55.5 745,-91.5\"/>\n<text text-anchor=\"middle\" x=\"786.5\" y=\"-69.8\" font-family=\"Times New Roman,serif\" font-size=\"14.00\">grad 0.0000</text>\n</g>\n<!-- 1827195517056&#45;&gt;1827195517008* -->\n<g id=\"edge4\" class=\"edge\">\n<title>1827195517056&#45;&gt;1827195517008*</title>\n<path fill=\"none\" stroke=\"black\" d=\"M828,-56.81C837.2,-55.16 846.12,-53.56 854.21,-52.1\"/>\n<polygon fill=\"black\" stroke=\"black\" points=\"854.69,-55.57 863.91,-50.36 853.45,-48.68 854.69,-55.57\"/>\n</g>\n<!-- 1827195517056+ -->\n<g id=\"node4\" class=\"node\">\n<title>1827195517056+</title>\n<ellipse fill=\"none\" stroke=\"black\" cx=\"576\" cy=\"-73.5\" rx=\"27\" ry=\"18\"/>\n<text text-anchor=\"middle\" x=\"576\" y=\"-69.8\" font-family=\"Times New Roman,serif\" font-size=\"14.00\">+</text>\n</g>\n<!-- 1827195517056+&#45;&gt;1827195517056 -->\n<g id=\"edge2\" class=\"edge\">\n<title>1827195517056+&#45;&gt;1827195517056</title>\n<path fill=\"none\" stroke=\"black\" d=\"M603.46,-73.5C610.94,-73.5 619.56,-73.5 628.73,-73.5\"/>\n<polygon fill=\"black\" stroke=\"black\" points=\"628.64,-77 638.64,-73.5 628.64,-70 628.64,-77\"/>\n</g>\n<!-- 1827195516048 -->\n<g id=\"node5\" class=\"node\">\n<title>1827195516048</title>\n<polygon fill=\"none\" stroke=\"black\" points=\"0,-56.5 0,-92.5 193,-92.5 193,-56.5 0,-56.5\"/>\n<text text-anchor=\"middle\" x=\"12\" y=\"-70.8\" font-family=\"Times New Roman,serif\" font-size=\"14.00\">b</text>\n<polyline fill=\"none\" stroke=\"black\" points=\"24,-56.5 24,-92.5\"/>\n<text text-anchor=\"middle\" x=\"67\" y=\"-70.8\" font-family=\"Times New Roman,serif\" font-size=\"14.00\">data &#45;3.0000</text>\n<polyline fill=\"none\" stroke=\"black\" points=\"110,-56.5 110,-92.5\"/>\n<text text-anchor=\"middle\" x=\"151.5\" y=\"-70.8\" font-family=\"Times New Roman,serif\" font-size=\"14.00\">grad 0.0000</text>\n</g>\n<!-- 1827195516624* -->\n<g id=\"node8\" class=\"node\">\n<title>1827195516624*</title>\n<ellipse fill=\"none\" stroke=\"black\" cx=\"256\" cy=\"-46.5\" rx=\"27\" ry=\"18\"/>\n<text text-anchor=\"middle\" x=\"256\" y=\"-42.8\" font-family=\"Times New Roman,serif\" font-size=\"14.00\">*</text>\n</g>\n<!-- 1827195516048&#45;&gt;1827195516624* -->\n<g id=\"edge7\" class=\"edge\">\n<title>1827195516048&#45;&gt;1827195516624*</title>\n<path fill=\"none\" stroke=\"black\" d=\"M192.75,-57.57C201.7,-55.98 210.35,-54.44 218.21,-53.04\"/>\n<polygon fill=\"black\" stroke=\"black\" points=\"218.75,-56.5 227.99,-51.3 217.53,-49.61 218.75,-56.5\"/>\n</g>\n<!-- 1827195515520 -->\n<g id=\"node6\" class=\"node\">\n<title>1827195515520</title>\n<polygon fill=\"none\" stroke=\"black\" points=\"319,-83.5 319,-119.5 513,-119.5 513,-83.5 319,-83.5\"/>\n<text text-anchor=\"middle\" x=\"330.5\" y=\"-97.8\" font-family=\"Times New Roman,serif\" font-size=\"14.00\">c</text>\n<polyline fill=\"none\" stroke=\"black\" points=\"342,-83.5 342,-119.5\"/>\n<text text-anchor=\"middle\" x=\"386\" y=\"-97.8\" font-family=\"Times New Roman,serif\" font-size=\"14.00\">data 10.0000</text>\n<polyline fill=\"none\" stroke=\"black\" points=\"430,-83.5 430,-119.5\"/>\n<text text-anchor=\"middle\" x=\"471.5\" y=\"-97.8\" font-family=\"Times New Roman,serif\" font-size=\"14.00\">grad 0.0000</text>\n</g>\n<!-- 1827195515520&#45;&gt;1827195517056+ -->\n<g id=\"edge8\" class=\"edge\">\n<title>1827195515520&#45;&gt;1827195517056+</title>\n<path fill=\"none\" stroke=\"black\" d=\"M512.55,-84.57C521.53,-82.98 530.21,-81.44 538.1,-80.04\"/>\n<polygon fill=\"black\" stroke=\"black\" points=\"538.67,-83.49 547.9,-78.3 537.45,-76.6 538.67,-83.49\"/>\n</g>\n<!-- 1827195516624 -->\n<g id=\"node7\" class=\"node\">\n<title>1827195516624</title>\n<polygon fill=\"none\" stroke=\"black\" points=\"320,-28.5 320,-64.5 512,-64.5 512,-28.5 320,-28.5\"/>\n<text text-anchor=\"middle\" x=\"331.5\" y=\"-42.8\" font-family=\"Times New Roman,serif\" font-size=\"14.00\">e</text>\n<polyline fill=\"none\" stroke=\"black\" points=\"343,-28.5 343,-64.5\"/>\n<text text-anchor=\"middle\" x=\"386\" y=\"-42.8\" font-family=\"Times New Roman,serif\" font-size=\"14.00\">data &#45;6.0000</text>\n<polyline fill=\"none\" stroke=\"black\" points=\"429,-28.5 429,-64.5\"/>\n<text text-anchor=\"middle\" x=\"470.5\" y=\"-42.8\" font-family=\"Times New Roman,serif\" font-size=\"14.00\">grad 0.0000</text>\n</g>\n<!-- 1827195516624&#45;&gt;1827195517056+ -->\n<g id=\"edge6\" class=\"edge\">\n<title>1827195516624&#45;&gt;1827195517056+</title>\n<path fill=\"none\" stroke=\"black\" d=\"M511.65,-62.67C521.01,-64.27 530.06,-65.82 538.26,-67.22\"/>\n<polygon fill=\"black\" stroke=\"black\" points=\"537.65,-70.67 548.1,-68.9 538.83,-63.77 537.65,-70.67\"/>\n</g>\n<!-- 1827195516624*&#45;&gt;1827195516624 -->\n<g id=\"edge3\" class=\"edge\">\n<title>1827195516624*&#45;&gt;1827195516624</title>\n<path fill=\"none\" stroke=\"black\" d=\"M283.45,-46.5C290.94,-46.5 299.59,-46.5 308.8,-46.5\"/>\n<polygon fill=\"black\" stroke=\"black\" points=\"308.76,-50 318.76,-46.5 308.76,-43 308.76,-50\"/>\n</g>\n<!-- 1827195515760 -->\n<g id=\"node9\" class=\"node\">\n<title>1827195515760</title>\n<polygon fill=\"none\" stroke=\"black\" points=\"639,-0.5 639,-36.5 829,-36.5 829,-0.5 639,-0.5\"/>\n<text text-anchor=\"middle\" x=\"649.5\" y=\"-14.8\" font-family=\"Times New Roman,serif\" font-size=\"14.00\">f</text>\n<polyline fill=\"none\" stroke=\"black\" points=\"660,-0.5 660,-36.5\"/>\n<text text-anchor=\"middle\" x=\"703\" y=\"-14.8\" font-family=\"Times New Roman,serif\" font-size=\"14.00\">data &#45;2.0000</text>\n<polyline fill=\"none\" stroke=\"black\" points=\"746,-0.5 746,-36.5\"/>\n<text text-anchor=\"middle\" x=\"787.5\" y=\"-14.8\" font-family=\"Times New Roman,serif\" font-size=\"14.00\">grad 0.0000</text>\n</g>\n<!-- 1827195515760&#45;&gt;1827195517008* -->\n<g id=\"edge5\" class=\"edge\">\n<title>1827195515760&#45;&gt;1827195517008*</title>\n<path fill=\"none\" stroke=\"black\" d=\"M828.9,-34.75C837.81,-36.29 846.43,-37.79 854.28,-39.14\"/>\n<polygon fill=\"black\" stroke=\"black\" points=\"853.57,-42.57 864.02,-40.83 854.76,-35.68 853.57,-42.57\"/>\n</g>\n<!-- 1827195515328 -->\n<g id=\"node10\" class=\"node\">\n<title>1827195515328</title>\n<polygon fill=\"none\" stroke=\"black\" points=\"3,-1.5 3,-37.5 190,-37.5 190,-1.5 3,-1.5\"/>\n<text text-anchor=\"middle\" x=\"14.5\" y=\"-15.8\" font-family=\"Times New Roman,serif\" font-size=\"14.00\">a</text>\n<polyline fill=\"none\" stroke=\"black\" points=\"26,-1.5 26,-37.5\"/>\n<text text-anchor=\"middle\" x=\"66.5\" y=\"-15.8\" font-family=\"Times New Roman,serif\" font-size=\"14.00\">data 2.0000</text>\n<polyline fill=\"none\" stroke=\"black\" points=\"107,-1.5 107,-37.5\"/>\n<text text-anchor=\"middle\" x=\"148.5\" y=\"-15.8\" font-family=\"Times New Roman,serif\" font-size=\"14.00\">grad 0.0000</text>\n</g>\n<!-- 1827195515328&#45;&gt;1827195516624* -->\n<g id=\"edge9\" class=\"edge\">\n<title>1827195515328&#45;&gt;1827195516624*</title>\n<path fill=\"none\" stroke=\"black\" d=\"M189.57,-35.28C199.66,-37.01 209.45,-38.69 218.25,-40.2\"/>\n<polygon fill=\"black\" stroke=\"black\" points=\"217.63,-43.65 228.08,-41.89 218.82,-36.75 217.63,-43.65\"/>\n</g>\n</g>\n</svg>\n",
      "text/plain": [
       "<graphviz.graphs.Digraph at 0x1a96d5a5af0>"
      ]
     },
     "execution_count": 31,
     "metadata": {},
     "output_type": "execute_result"
    }
   ],
   "source": [
    "draw_dot(L)"
   ]
  },
  {
   "cell_type": "code",
   "execution_count": 30,
   "metadata": {},
   "outputs": [],
   "source": [
    "L.grad = 1.00"
   ]
  },
  {
   "cell_type": "code",
   "execution_count": 29,
   "metadata": {},
   "outputs": [
    {
     "name": "stdout",
     "output_type": "stream",
     "text": [
      "0.9999999999976694\n"
     ]
    }
   ],
   "source": [
    "# Staging area\n",
    "def lol():\n",
    "    h = 0.0001\n",
    "\n",
    "    a = Value(2.0, label='a')\n",
    "    b = Value(-3.0, label='b')\n",
    "    c = Value(10.0, label='c')\n",
    "    e = a * b; e.label = 'e'\n",
    "    d = e + c; d.label = 'd'\n",
    "    f = Value(-2.0, label = 'f')\n",
    "    L = d * f; L.label = 'L'\n",
    "    L1 = L.data\n",
    "\n",
    "    a = Value(2.0, label='a')\n",
    "    b = Value(-3.0, label='b')\n",
    "    c = Value(10.0, label='c')\n",
    "    e = a * b; e.label = 'e'\n",
    "    d = e + c; d.label = 'd'\n",
    "    f = Value(-2.0, label = 'f')\n",
    "    L = d * f; L.label = 'L'\n",
    "    L2 = L.data + h\n",
    "    print((L2 - L1) / h)\n",
    "lol()"
   ]
  }
 ],
 "metadata": {
  "kernelspec": {
   "display_name": "Python 3",
   "language": "python",
   "name": "python3"
  },
  "language_info": {
   "codemirror_mode": {
    "name": "ipython",
    "version": 3
   },
   "file_extension": ".py",
   "mimetype": "text/x-python",
   "name": "python",
   "nbconvert_exporter": "python",
   "pygments_lexer": "ipython3",
   "version": "3.8.6"
  },
  "orig_nbformat": 4,
  "vscode": {
   "interpreter": {
    "hash": "570feb405e2e27c949193ac68f46852414290d515b0ba6e5d90d076ed2284471"
   }
  }
 },
 "nbformat": 4,
 "nbformat_minor": 2
}
