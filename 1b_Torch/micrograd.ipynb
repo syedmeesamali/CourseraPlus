{
 "cells": [
  {
   "attachments": {},
   "cell_type": "markdown",
   "metadata": {},
   "source": [
    "## Micrograd by Andrej Karpathy"
   ]
  },
  {
   "cell_type": "code",
   "execution_count": 1,
   "metadata": {},
   "outputs": [],
   "source": [
    "import math\n",
    "import numpy as np\n",
    "import matplotlib.pyplot as plt"
   ]
  },
  {
   "cell_type": "code",
   "execution_count": 2,
   "metadata": {},
   "outputs": [],
   "source": [
    "def f(x):\n",
    "    return 3*x**2 - 4*x + 5"
   ]
  },
  {
   "cell_type": "code",
   "execution_count": 3,
   "metadata": {},
   "outputs": [
    {
     "name": "stdout",
     "output_type": "stream",
     "text": [
      "20.0\n"
     ]
    }
   ],
   "source": [
    "print(f(3.0))"
   ]
  },
  {
   "cell_type": "code",
   "execution_count": 4,
   "metadata": {},
   "outputs": [
    {
     "data": {
      "text/plain": [
       "[<matplotlib.lines.Line2D at 0x1a5a2581310>]"
      ]
     },
     "execution_count": 4,
     "metadata": {},
     "output_type": "execute_result"
    },
    {
     "data": {
      "image/png": "[encoded data removed]",
      "text/plain": [
       "<Figure size 432x288 with 1 Axes>"
      ]
     },
     "metadata": {
      "needs_background": "light"
     },
     "output_type": "display_data"
    }
   ],
   "source": [
    "xs = np.arange(-5, 5, 0.25)\n",
    "ys = f(xs)\n",
    "plt.plot(xs, ys)"
   ]
  },
  {
   "attachments": {},
   "cell_type": "markdown",
   "metadata": {},
   "source": [
    "### Simple derivative"
   ]
  },
  {
   "cell_type": "code",
   "execution_count": 5,
   "metadata": {},
   "outputs": [
    {
     "data": {
      "text/plain": [
       "14.000300000063248"
      ]
     },
     "execution_count": 5,
     "metadata": {},
     "output_type": "execute_result"
    }
   ],
   "source": [
    "h = 0.0001\n",
    "x = 3.0\n",
    "#Then by definition of derivative\n",
    "(f(x + h) - f(x)) / h "
   ]
  },
  {
   "cell_type": "code",
   "execution_count": 6,
   "metadata": {},
   "outputs": [
    {
     "data": {
      "text/plain": [
       "-21.999700000066014"
      ]
     },
     "execution_count": 6,
     "metadata": {},
     "output_type": "execute_result"
    }
   ],
   "source": [
    "h = 0.0001\n",
    "x = -3.0\n",
    "#Then by definition of derivative\n",
    "(f(x + h) - f(x)) / h "
   ]
  },
  {
   "cell_type": "code",
   "execution_count": 7,
   "metadata": {},
   "outputs": [
    {
     "name": "stdout",
     "output_type": "stream",
     "text": [
      "4.0\n"
     ]
    }
   ],
   "source": [
    "#Let's do more complex stuff\n",
    "a = 2.0\n",
    "b = -3.0\n",
    "c = 10.0\n",
    "d = a * b + c\n",
    "print(d)"
   ]
  },
  {
   "cell_type": "code",
   "execution_count": 8,
   "metadata": {},
   "outputs": [
    {
     "name": "stdout",
     "output_type": "stream",
     "text": [
      "D1 is 4.0 D2 is 3.999699999999999 and slope is -3.000000000010772\n"
     ]
    }
   ],
   "source": [
    "h = 0.0001\n",
    "\n",
    "#Inputs\n",
    "a = 2.0\n",
    "b = -3.0\n",
    "c = 10.0\n",
    "d1 = a * b + c\n",
    "a += h\n",
    "d2 = a * b + c\n",
    "print(f\"D1 is {d1} D2 is {d2} and slope is {(d2 - d1) / h}\")"
   ]
  },
  {
   "attachments": {},
   "cell_type": "markdown",
   "metadata": {},
   "source": [
    "### Value Class"
   ]
  },
  {
   "cell_type": "code",
   "execution_count": 9,
   "metadata": {},
   "outputs": [
    {
     "data": {
      "text/plain": [
       "Value(data=-8.0)"
      ]
     },
     "execution_count": 9,
     "metadata": {},
     "output_type": "execute_result"
    }
   ],
   "source": [
    "class Value:\n",
    "\n",
    "    def __init__(self, data, _children = (), _op = '', label = ''):\n",
    "        self.data = data\n",
    "        self._prev = set(_children)\n",
    "        self._op = _op\n",
    "        self.grad = 0.0\n",
    "        self.label = label\n",
    "    \n",
    "    def __repr__(self):\n",
    "        return f\"Value(data={self.data})\"\n",
    "    \n",
    "    def __add__(self, other):\n",
    "        out = Value(self.data + other.data, (self, other), '+')\n",
    "        return out\n",
    "    \n",
    "    def __mul__(self, other):\n",
    "        out = Value(self.data * other.data, (self, other), '*')\n",
    "        return out\n",
    "\n",
    "a = Value(2.0, label='a')\n",
    "b = Value(-3.0, label='b')\n",
    "c = Value(10.0, label='c')\n",
    "e = a * b; e.label = 'e'\n",
    "d = e + c; d.label = 'd'\n",
    "f = Value(-2.0, label = 'f')\n",
    "L = d * f; L.label = 'L'\n",
    "L"
   ]
  },
  {
   "cell_type": "code",
   "execution_count": 10,
   "metadata": {},
   "outputs": [
    {
     "name": "stdout",
     "output_type": "stream",
     "text": [
      "{Value(data=10.0), Value(data=-6.0)}\n",
      "+\n"
     ]
    }
   ],
   "source": [
    "print(d._prev)\n",
    "print(d._op)"
   ]
  },
  {
   "cell_type": "code",
   "execution_count": 11,
   "metadata": {},
   "outputs": [],
   "source": [
    "# pip install graphviz\n",
    "from graphviz import Digraph"
   ]
  },
  {
   "attachments": {},
   "cell_type": "markdown",
   "metadata": {},
   "source": [
    "### Draw Graph using GraphViz"
   ]
  },
  {
   "cell_type": "code",
   "execution_count": 12,
   "metadata": {},
   "outputs": [],
   "source": [
    "def trace(root):\n",
    "    nodes, edges = set(), set()\n",
    "    def build(v):\n",
    "        if v not in nodes:\n",
    "            nodes.add(v)\n",
    "            for child in v._prev:\n",
    "                edges.add((child, v))\n",
    "                build(child)\n",
    "    build(root)\n",
    "    return nodes, edges\n",
    "\n",
    "def draw_dot(root, format='svg', rankdir='LR'):\n",
    "    \"\"\"\n",
    "    format: png | svg | ...\n",
    "    rankdir: TB (top to bottom graph) | LR (left to right)\n",
    "    \"\"\"\n",
    "    assert rankdir in ['LR', 'TB']\n",
    "    nodes, edges = trace(root)\n",
    "    dot = Digraph(format=format, graph_attr={'rankdir': rankdir}) #, node_attr={'rankdir': 'TB'})\n",
    "    \n",
    "    for n in nodes:\n",
    "        dot.node(name=str(id(n)), label = \"{ %s | data %.4f | grad %.04f }\" % (n.label, n.data, n.grad), shape='record')\n",
    "        if n._op:\n",
    "            dot.node(name=str(id(n)) + n._op, label=n._op)\n",
    "            dot.edge(str(id(n)) + n._op, str(id(n)))\n",
    "    \n",
    "    for n1, n2 in edges:\n",
    "        dot.edge(str(id(n1)), str(id(n2)) + n2._op)\n",
    "    \n",
    "    return dot"
   ]
  },
  {
   "cell_type": "code",
   "execution_count": 13,
   "metadata": {},
   "outputs": [
    {
     "data": {
      "image/svg+xml": "<?xml version=\"1.0\" encoding=\"UTF-8\" standalone=\"no\"?>\n<!DOCTYPE svg PUBLIC \"-//W3C//DTD SVG 1.1//EN\"\n \"http://www.w3.org/Graphics/SVG/1.1/DTD/svg11.dtd\">\n<!-- Generated by graphviz version 7.1.0 (20230121.1956)\n -->\n<!-- Pages: 1 -->\n<svg width=\"1157pt\" height=\"128pt\"\n viewBox=\"0.00 0.00 1157.00 128.00\" xmlns=\"http://www.w3.org/2000/svg\" xmlns:xlink=\"http://www.w3.org/1999/xlink\">\n<g id=\"graph0\" class=\"graph\" transform=\"scale(1 1) rotate(0) translate(4 124)\">\n<polygon fill=\"white\" stroke=\"none\" points=\"-4,4 -4,-124 1153,-124 1153,4 -4,4\"/>\n<!-- 1810939279440 -->\n<g id=\"node1\" class=\"node\">\n<title>1810939279440</title>\n<polygon fill=\"none\" stroke=\"black\" points=\"640,-27.5 640,-63.5 828,-63.5 828,-27.5 640,-27.5\"/>\n<text text-anchor=\"middle\" x=\"652\" y=\"-41.8\" font-family=\"Times New Roman,serif\" font-size=\"14.00\">d</text>\n<polyline fill=\"none\" stroke=\"black\" points=\"664,-27.5 664,-63.5\"/>\n<text text-anchor=\"middle\" x=\"704.5\" y=\"-41.8\" font-family=\"Times New Roman,serif\" font-size=\"14.00\">data 4.0000</text>\n<polyline fill=\"none\" stroke=\"black\" points=\"745,-27.5 745,-63.5\"/>\n<text text-anchor=\"middle\" x=\"786.5\" y=\"-41.8\" font-family=\"Times New Roman,serif\" font-size=\"14.00\">grad 0.0000</text>\n</g>\n<!-- 1810939279344* -->\n<g id=\"node10\" class=\"node\">\n<title>1810939279344*</title>\n<ellipse fill=\"none\" stroke=\"black\" cx=\"892\" cy=\"-72.5\" rx=\"27\" ry=\"18\"/>\n<text text-anchor=\"middle\" x=\"892\" y=\"-68.8\" font-family=\"Times New Roman,serif\" font-size=\"14.00\">*</text>\n</g>\n<!-- 1810939279440&#45;&gt;1810939279344* -->\n<g id=\"edge5\" class=\"edge\">\n<title>1810939279440&#45;&gt;1810939279344*</title>\n<path fill=\"none\" stroke=\"black\" d=\"M828,-61.6C837.2,-63.19 846.12,-64.73 854.21,-66.13\"/>\n<polygon fill=\"black\" stroke=\"black\" points=\"853.46,-69.55 863.91,-67.81 854.65,-62.66 853.46,-69.55\"/>\n</g>\n<!-- 1810939279440+ -->\n<g id=\"node2\" class=\"node\">\n<title>1810939279440+</title>\n<ellipse fill=\"none\" stroke=\"black\" cx=\"576\" cy=\"-45.5\" rx=\"27\" ry=\"18\"/>\n<text text-anchor=\"middle\" x=\"576\" y=\"-41.8\" font-family=\"Times New Roman,serif\" font-size=\"14.00\">+</text>\n</g>\n<!-- 1810939279440+&#45;&gt;1810939279440 -->\n<g id=\"edge1\" class=\"edge\">\n<title>1810939279440+&#45;&gt;1810939279440</title>\n<path fill=\"none\" stroke=\"black\" d=\"M603.46,-45.5C610.94,-45.5 619.56,-45.5 628.73,-45.5\"/>\n<polygon fill=\"black\" stroke=\"black\" points=\"628.64,-49 638.64,-45.5 628.64,-42 628.64,-49\"/>\n</g>\n<!-- 1810939278960 -->\n<g id=\"node3\" class=\"node\">\n<title>1810939278960</title>\n<polygon fill=\"none\" stroke=\"black\" points=\"320,-55.5 320,-91.5 512,-91.5 512,-55.5 320,-55.5\"/>\n<text text-anchor=\"middle\" x=\"331.5\" y=\"-69.8\" font-family=\"Times New Roman,serif\" font-size=\"14.00\">e</text>\n<polyline fill=\"none\" stroke=\"black\" points=\"343,-55.5 343,-91.5\"/>\n<text text-anchor=\"middle\" x=\"386\" y=\"-69.8\" font-family=\"Times New Roman,serif\" font-size=\"14.00\">data &#45;6.0000</text>\n<polyline fill=\"none\" stroke=\"black\" points=\"429,-55.5 429,-91.5\"/>\n<text text-anchor=\"middle\" x=\"470.5\" y=\"-69.8\" font-family=\"Times New Roman,serif\" font-size=\"14.00\">grad 0.0000</text>\n</g>\n<!-- 1810939278960&#45;&gt;1810939279440+ -->\n<g id=\"edge8\" class=\"edge\">\n<title>1810939278960&#45;&gt;1810939279440+</title>\n<path fill=\"none\" stroke=\"black\" d=\"M511.65,-56.73C521.01,-55.07 530.06,-53.46 538.26,-52.01\"/>\n<polygon fill=\"black\" stroke=\"black\" points=\"538.86,-55.46 548.1,-50.27 537.64,-48.57 538.86,-55.46\"/>\n</g>\n<!-- 1810939278960* -->\n<g id=\"node4\" class=\"node\">\n<title>1810939278960*</title>\n<ellipse fill=\"none\" stroke=\"black\" cx=\"256\" cy=\"-73.5\" rx=\"27\" ry=\"18\"/>\n<text text-anchor=\"middle\" x=\"256\" y=\"-69.8\" font-family=\"Times New Roman,serif\" font-size=\"14.00\">*</text>\n</g>\n<!-- 1810939278960*&#45;&gt;1810939278960 -->\n<g id=\"edge2\" class=\"edge\">\n<title>1810939278960*&#45;&gt;1810939278960</title>\n<path fill=\"none\" stroke=\"black\" d=\"M283.45,-73.5C290.94,-73.5 299.59,-73.5 308.8,-73.5\"/>\n<polygon fill=\"black\" stroke=\"black\" points=\"308.76,-77 318.76,-73.5 308.76,-70 308.76,-77\"/>\n</g>\n<!-- 1810939279488 -->\n<g id=\"node5\" class=\"node\">\n<title>1810939279488</title>\n<polygon fill=\"none\" stroke=\"black\" points=\"639,-82.5 639,-118.5 829,-118.5 829,-82.5 639,-82.5\"/>\n<text text-anchor=\"middle\" x=\"649.5\" y=\"-96.8\" font-family=\"Times New Roman,serif\" font-size=\"14.00\">f</text>\n<polyline fill=\"none\" stroke=\"black\" points=\"660,-82.5 660,-118.5\"/>\n<text text-anchor=\"middle\" x=\"703\" y=\"-96.8\" font-family=\"Times New Roman,serif\" font-size=\"14.00\">data &#45;2.0000</text>\n<polyline fill=\"none\" stroke=\"black\" points=\"746,-82.5 746,-118.5\"/>\n<text text-anchor=\"middle\" x=\"787.5\" y=\"-96.8\" font-family=\"Times New Roman,serif\" font-size=\"14.00\">grad 0.0000</text>\n</g>\n<!-- 1810939279488&#45;&gt;1810939279344* -->\n<g id=\"edge6\" class=\"edge\">\n<title>1810939279488&#45;&gt;1810939279344*</title>\n<path fill=\"none\" stroke=\"black\" d=\"M828.9,-83.65C837.81,-82.05 846.43,-80.5 854.28,-79.09\"/>\n<polygon fill=\"black\" stroke=\"black\" points=\"854.8,-82.55 864.02,-77.34 853.56,-75.66 854.8,-82.55\"/>\n</g>\n<!-- 1810939278720 -->\n<g id=\"node6\" class=\"node\">\n<title>1810939278720</title>\n<polygon fill=\"none\" stroke=\"black\" points=\"3,-83.5 3,-119.5 190,-119.5 190,-83.5 3,-83.5\"/>\n<text text-anchor=\"middle\" x=\"14.5\" y=\"-97.8\" font-family=\"Times New Roman,serif\" font-size=\"14.00\">a</text>\n<polyline fill=\"none\" stroke=\"black\" points=\"26,-83.5 26,-119.5\"/>\n<text text-anchor=\"middle\" x=\"66.5\" y=\"-97.8\" font-family=\"Times New Roman,serif\" font-size=\"14.00\">data 2.0000</text>\n<polyline fill=\"none\" stroke=\"black\" points=\"107,-83.5 107,-119.5\"/>\n<text text-anchor=\"middle\" x=\"148.5\" y=\"-97.8\" font-family=\"Times New Roman,serif\" font-size=\"14.00\">grad 0.0000</text>\n</g>\n<!-- 1810939278720&#45;&gt;1810939278960* -->\n<g id=\"edge4\" class=\"edge\">\n<title>1810939278720&#45;&gt;1810939278960*</title>\n<path fill=\"none\" stroke=\"black\" d=\"M189.57,-85.13C199.66,-83.34 209.45,-81.6 218.25,-80.03\"/>\n<polygon fill=\"black\" stroke=\"black\" points=\"218.85,-83.48 228.08,-78.29 217.62,-76.59 218.85,-83.48\"/>\n</g>\n<!-- 1810939278768 -->\n<g id=\"node7\" class=\"node\">\n<title>1810939278768</title>\n<polygon fill=\"none\" stroke=\"black\" points=\"319,-0.5 319,-36.5 513,-36.5 513,-0.5 319,-0.5\"/>\n<text text-anchor=\"middle\" x=\"330.5\" y=\"-14.8\" font-family=\"Times New Roman,serif\" font-size=\"14.00\">c</text>\n<polyline fill=\"none\" stroke=\"black\" points=\"342,-0.5 342,-36.5\"/>\n<text text-anchor=\"middle\" x=\"386\" y=\"-14.8\" font-family=\"Times New Roman,serif\" font-size=\"14.00\">data 10.0000</text>\n<polyline fill=\"none\" stroke=\"black\" points=\"430,-0.5 430,-36.5\"/>\n<text text-anchor=\"middle\" x=\"471.5\" y=\"-14.8\" font-family=\"Times New Roman,serif\" font-size=\"14.00\">grad 0.0000</text>\n</g>\n<!-- 1810939278768&#45;&gt;1810939279440+ -->\n<g id=\"edge7\" class=\"edge\">\n<title>1810939278768&#45;&gt;1810939279440+</title>\n<path fill=\"none\" stroke=\"black\" d=\"M512.55,-34.83C521.53,-36.36 530.21,-37.85 538.1,-39.19\"/>\n<polygon fill=\"black\" stroke=\"black\" points=\"537.46,-42.63 547.9,-40.87 538.64,-35.73 537.46,-42.63\"/>\n</g>\n<!-- 1810939278816 -->\n<g id=\"node8\" class=\"node\">\n<title>1810939278816</title>\n<polygon fill=\"none\" stroke=\"black\" points=\"0,-28.5 0,-64.5 193,-64.5 193,-28.5 0,-28.5\"/>\n<text text-anchor=\"middle\" x=\"12\" y=\"-42.8\" font-family=\"Times New Roman,serif\" font-size=\"14.00\">b</text>\n<polyline fill=\"none\" stroke=\"black\" points=\"24,-28.5 24,-64.5\"/>\n<text text-anchor=\"middle\" x=\"67\" y=\"-42.8\" font-family=\"Times New Roman,serif\" font-size=\"14.00\">data &#45;3.0000</text>\n<polyline fill=\"none\" stroke=\"black\" points=\"110,-28.5 110,-64.5\"/>\n<text text-anchor=\"middle\" x=\"151.5\" y=\"-42.8\" font-family=\"Times New Roman,serif\" font-size=\"14.00\">grad 0.0000</text>\n</g>\n<!-- 1810939278816&#45;&gt;1810939278960* -->\n<g id=\"edge9\" class=\"edge\">\n<title>1810939278816&#45;&gt;1810939278960*</title>\n<path fill=\"none\" stroke=\"black\" d=\"M192.75,-62.83C201.7,-64.36 210.35,-65.85 218.21,-67.19\"/>\n<polygon fill=\"black\" stroke=\"black\" points=\"217.54,-70.63 227.98,-68.87 218.72,-63.73 217.54,-70.63\"/>\n</g>\n<!-- 1810939279344 -->\n<g id=\"node9\" class=\"node\">\n<title>1810939279344</title>\n<polygon fill=\"none\" stroke=\"black\" points=\"955,-54.5 955,-90.5 1149,-90.5 1149,-54.5 955,-54.5\"/>\n<text text-anchor=\"middle\" x=\"967.5\" y=\"-68.8\" font-family=\"Times New Roman,serif\" font-size=\"14.00\">L</text>\n<polyline fill=\"none\" stroke=\"black\" points=\"980,-54.5 980,-90.5\"/>\n<text text-anchor=\"middle\" x=\"1023\" y=\"-68.8\" font-family=\"Times New Roman,serif\" font-size=\"14.00\">data &#45;8.0000</text>\n<polyline fill=\"none\" stroke=\"black\" points=\"1066,-54.5 1066,-90.5\"/>\n<text text-anchor=\"middle\" x=\"1107.5\" y=\"-68.8\" font-family=\"Times New Roman,serif\" font-size=\"14.00\">grad 0.0000</text>\n</g>\n<!-- 1810939279344*&#45;&gt;1810939279344 -->\n<g id=\"edge3\" class=\"edge\">\n<title>1810939279344*&#45;&gt;1810939279344</title>\n<path fill=\"none\" stroke=\"black\" d=\"M919.45,-72.5C926.67,-72.5 934.97,-72.5 943.82,-72.5\"/>\n<polygon fill=\"black\" stroke=\"black\" points=\"943.75,-76 953.75,-72.5 943.75,-69 943.75,-76\"/>\n</g>\n</g>\n</svg>\n",
      "text/plain": [
       "<graphviz.graphs.Digraph at 0x1a5a45a9580>"
      ]
     },
     "execution_count": 13,
     "metadata": {},
     "output_type": "execute_result"
    }
   ],
   "source": [
    "draw_dot(L)"
   ]
  },
  {
   "attachments": {},
   "cell_type": "markdown",
   "metadata": {},
   "source": [
    "L = d * f\n",
    "\n",
    "dL / dd =? f\n",
    "\n",
    "(f(x + h) - f(x)) / h\n",
    "\n",
    "((d + h)*f - d*f) / h\n",
    "\n",
    "(d*f + h*f - d*f) / h\n",
    "\n",
    "(h*f)/h\n",
    "\n",
    "f"
   ]
  },
  {
   "attachments": {},
   "cell_type": "markdown",
   "metadata": {},
   "source": [
    "dd / dc = ?\n",
    "\n",
    "d = c + e\n",
    "\n",
    "(f(x + h) - f(x)) / h as definition of derivative\n",
    "\n",
    "((c + h + e) - (c + e)) / h\n",
    "\n",
    "(c + h + e - c - e) / h\n",
    "\n",
    "h/h\n",
    "\n",
    "1.0\n",
    "\n",
    "So by symmetry also => dd / de = 1.0\n",
    "\n",
    "But our target is dL / dc ? dL / dd times dd / dc - Calculus chain rule\n",
    "\n",
    "We know dL / dd and dd / dc ..."
   ]
  },
  {
   "attachments": {},
   "cell_type": "markdown",
   "metadata": {},
   "source": [
    "### Manually set after checking"
   ]
  },
  {
   "cell_type": "code",
   "execution_count": null,
   "metadata": {},
   "outputs": [],
   "source": [
    "f.grad = 4.0\n",
    "d.grad = -2.0"
   ]
  },
  {
   "cell_type": "code",
   "execution_count": null,
   "metadata": {},
   "outputs": [],
   "source": [
    "# Staging area\n",
    "def lol():\n",
    "    h = 0.0001\n",
    "\n",
    "    a = Value(2.0, label='a')\n",
    "    b = Value(-3.0, label='b')\n",
    "    c = Value(10.0, label='c')\n",
    "    e = a * b; e.label = 'e'\n",
    "    d = e + c; d.label = 'd'\n",
    "    f = Value(-2.0, label = 'f')\n",
    "    L = d * f; L.label = 'L'\n",
    "    L1 = L.data\n",
    "\n",
    "    a = Value(2.0, label='a')\n",
    "    b = Value(-3.0, label='b')\n",
    "    c = Value(10.0, label='c')\n",
    "    e = a * b; e.label = 'e'\n",
    "    d = e + c; d.label = 'd'\n",
    "    d.data += h\n",
    "    f = Value(-2.0, label = 'f')\n",
    "    L = d * f; L.label = 'L'\n",
    "    L2 = L.data\n",
    "    print((L2 - L1) / h)\n",
    "lol()"
   ]
  }
 ],
 "metadata": {
  "kernelspec": {
   "display_name": "Python 3",
   "language": "python",
   "name": "python3"
  },
  "language_info": {
   "codemirror_mode": {
    "name": "ipython",
    "version": 3
   },
   "file_extension": ".py",
   "mimetype": "text/x-python",
   "name": "python",
   "nbconvert_exporter": "python",
   "pygments_lexer": "ipython3",
   "version": "3.8.6"
  },
  "orig_nbformat": 4,
  "vscode": {
   "interpreter": {
    "hash": "570feb405e2e27c949193ac68f46852414290d515b0ba6e5d90d076ed2284471"
   }
  }
 },
 "nbformat": 4,
 "nbformat_minor": 2
}
