{
  "cells": [
    {
      "cell_type": "markdown",
      "metadata": {
        "id": "8V5UxN6fbMuR"
      },
      "source": [
        "### Mount the local drive to save the works"
      ]
    },
    {
      "cell_type": "code",
      "execution_count": null,
      "metadata": {
        "id": "VsdGRY4tkYqZ"
      },
      "outputs": [],
      "source": [
        "from google.colab import drive\n",
        "drive.mount('/content/MyDrive/')"
      ]
    },
    {
      "cell_type": "code",
      "execution_count": null,
      "metadata": {
        "id": "NXJgHWC7nCcF"
      },
      "outputs": [],
      "source": [
        "#!pip install turicreate\n",
        "import turicreate"
      ]
    },
    {
      "cell_type": "code",
      "execution_count": null,
      "metadata": {
        "id": "xsi0cLTnnlgj"
      },
      "outputs": [],
      "source": [
        "#!7z x '/content/MyDrive/MyDrive/Work/amazon_baby.sframe.zip'"
      ]
    },
    {
      "cell_type": "code",
      "execution_count": 14,
      "metadata": {
        "id": "FFuHXt2snxLC"
      },
      "outputs": [],
      "source": [
        "sf = turicreate.SFrame('/content/MyDrive/MyDrive/SFRAMES/amazon_baby.sframe')"
      ]
    },
    {
      "cell_type": "code",
      "execution_count": 15,
      "metadata": {
        "id": "iMlCcxIJn9sJ",
        "colab": {
          "base_uri": "https://localhost:8080/",
          "height": 166
        },
        "outputId": "3cef4679-b3c2-4f12-bd8f-ee0d313e1511"
      },
      "outputs": [
        {
          "output_type": "execute_result",
          "data": {
            "text/plain": [
              "Columns:\n",
              "\tname\tstr\n",
              "\treview\tstr\n",
              "\trating\tfloat\n",
              "\n",
              "Rows: 3\n",
              "\n",
              "Data:\n",
              "+-------------------------------+-------------------------------+--------+\n",
              "|              name             |             review            | rating |\n",
              "+-------------------------------+-------------------------------+--------+\n",
              "|    Planetwise Flannel Wipes   | These flannel wipes are OK... |  3.0   |\n",
              "|     Planetwise Wipe Pouch     | it came early and was not ... |  5.0   |\n",
              "| Annas Dream Full Quilt wit... | Very soft and comfortable ... |  5.0   |\n",
              "+-------------------------------+-------------------------------+--------+\n",
              "[3 rows x 3 columns]"
            ],
            "text/html": [
              "<div style=\"max-height:1000px;max-width:1500px;overflow:auto;\"><table frame=\"box\" rules=\"cols\">\n",
              "    <tr>\n",
              "        <th style=\"padding-left: 1em; padding-right: 1em; text-align: center\">name</th>\n",
              "        <th style=\"padding-left: 1em; padding-right: 1em; text-align: center\">review</th>\n",
              "        <th style=\"padding-left: 1em; padding-right: 1em; text-align: center\">rating</th>\n",
              "    </tr>\n",
              "    <tr>\n",
              "        <td style=\"padding-left: 1em; padding-right: 1em; text-align: center; vertical-align: top\">Planetwise Flannel Wipes</td>\n",
              "        <td style=\"padding-left: 1em; padding-right: 1em; text-align: center; vertical-align: top\">These flannel wipes are<br>OK, but in my opinion ...</td>\n",
              "        <td style=\"padding-left: 1em; padding-right: 1em; text-align: center; vertical-align: top\">3.0</td>\n",
              "    </tr>\n",
              "    <tr>\n",
              "        <td style=\"padding-left: 1em; padding-right: 1em; text-align: center; vertical-align: top\">Planetwise Wipe Pouch</td>\n",
              "        <td style=\"padding-left: 1em; padding-right: 1em; text-align: center; vertical-align: top\">it came early and was not<br>disappointed. i love ...</td>\n",
              "        <td style=\"padding-left: 1em; padding-right: 1em; text-align: center; vertical-align: top\">5.0</td>\n",
              "    </tr>\n",
              "    <tr>\n",
              "        <td style=\"padding-left: 1em; padding-right: 1em; text-align: center; vertical-align: top\">Annas Dream Full Quilt<br>with 2 Shams ...</td>\n",
              "        <td style=\"padding-left: 1em; padding-right: 1em; text-align: center; vertical-align: top\">Very soft and comfortable<br>and warmer than it ...</td>\n",
              "        <td style=\"padding-left: 1em; padding-right: 1em; text-align: center; vertical-align: top\">5.0</td>\n",
              "    </tr>\n",
              "</table>\n",
              "[3 rows x 3 columns]<br/>\n",
              "</div>"
            ]
          },
          "metadata": {},
          "execution_count": 15
        }
      ],
      "source": [
        "sf.head(3)"
      ]
    },
    {
      "cell_type": "code",
      "source": [
        "def remove_punctuation(text):\n",
        "    import string\n",
        "    return text.translate(str.maketrans('','',string.punctuation)) #Excellent new method for python 3.0\n",
        "\n",
        "sf['review_clean'] = sf['review'].apply(remove_punctuation)"
      ],
      "metadata": {
        "id": "vyMQtaFHb82P"
      },
      "execution_count": 17,
      "outputs": []
    },
    {
      "cell_type": "code",
      "source": [
        "sf.head(4)"
      ],
      "metadata": {
        "colab": {
          "base_uri": "https://localhost:8080/",
          "height": 203
        },
        "id": "BaKWZUQC5227",
        "outputId": "9614c892-b4d8-40fb-cbb8-1f7347ab0303"
      },
      "execution_count": 20,
      "outputs": [
        {
          "output_type": "execute_result",
          "data": {
            "text/plain": [
              "Columns:\n",
              "\tname\tstr\n",
              "\treview\tstr\n",
              "\trating\tfloat\n",
              "\treview_clean\tstr\n",
              "\n",
              "Rows: 4\n",
              "\n",
              "Data:\n",
              "+-------------------------------+-------------------------------+--------+\n",
              "|              name             |             review            | rating |\n",
              "+-------------------------------+-------------------------------+--------+\n",
              "|    Planetwise Flannel Wipes   | These flannel wipes are OK... |  3.0   |\n",
              "|     Planetwise Wipe Pouch     | it came early and was not ... |  5.0   |\n",
              "| Annas Dream Full Quilt wit... | Very soft and comfortable ... |  5.0   |\n",
              "| Stop Pacifier Sucking with... | This is a product well wor... |  5.0   |\n",
              "+-------------------------------+-------------------------------+--------+\n",
              "+-------------------------------+\n",
              "|          review_clean         |\n",
              "+-------------------------------+\n",
              "| These flannel wipes are OK... |\n",
              "| it came early and was not ... |\n",
              "| Very soft and comfortable ... |\n",
              "| This is a product well wor... |\n",
              "+-------------------------------+\n",
              "[4 rows x 4 columns]"
            ],
            "text/html": [
              "<div style=\"max-height:1000px;max-width:1500px;overflow:auto;\"><table frame=\"box\" rules=\"cols\">\n",
              "    <tr>\n",
              "        <th style=\"padding-left: 1em; padding-right: 1em; text-align: center\">name</th>\n",
              "        <th style=\"padding-left: 1em; padding-right: 1em; text-align: center\">review</th>\n",
              "        <th style=\"padding-left: 1em; padding-right: 1em; text-align: center\">rating</th>\n",
              "        <th style=\"padding-left: 1em; padding-right: 1em; text-align: center\">review_clean</th>\n",
              "    </tr>\n",
              "    <tr>\n",
              "        <td style=\"padding-left: 1em; padding-right: 1em; text-align: center; vertical-align: top\">Planetwise Flannel Wipes</td>\n",
              "        <td style=\"padding-left: 1em; padding-right: 1em; text-align: center; vertical-align: top\">These flannel wipes are<br>OK, but in my opinion ...</td>\n",
              "        <td style=\"padding-left: 1em; padding-right: 1em; text-align: center; vertical-align: top\">3.0</td>\n",
              "        <td style=\"padding-left: 1em; padding-right: 1em; text-align: center; vertical-align: top\">These flannel wipes are<br>OK but in my opinion not ...</td>\n",
              "    </tr>\n",
              "    <tr>\n",
              "        <td style=\"padding-left: 1em; padding-right: 1em; text-align: center; vertical-align: top\">Planetwise Wipe Pouch</td>\n",
              "        <td style=\"padding-left: 1em; padding-right: 1em; text-align: center; vertical-align: top\">it came early and was not<br>disappointed. i love ...</td>\n",
              "        <td style=\"padding-left: 1em; padding-right: 1em; text-align: center; vertical-align: top\">5.0</td>\n",
              "        <td style=\"padding-left: 1em; padding-right: 1em; text-align: center; vertical-align: top\">it came early and was not<br>disappointed i love ...</td>\n",
              "    </tr>\n",
              "    <tr>\n",
              "        <td style=\"padding-left: 1em; padding-right: 1em; text-align: center; vertical-align: top\">Annas Dream Full Quilt<br>with 2 Shams ...</td>\n",
              "        <td style=\"padding-left: 1em; padding-right: 1em; text-align: center; vertical-align: top\">Very soft and comfortable<br>and warmer than it ...</td>\n",
              "        <td style=\"padding-left: 1em; padding-right: 1em; text-align: center; vertical-align: top\">5.0</td>\n",
              "        <td style=\"padding-left: 1em; padding-right: 1em; text-align: center; vertical-align: top\">Very soft and comfortable<br>and warmer than it ...</td>\n",
              "    </tr>\n",
              "    <tr>\n",
              "        <td style=\"padding-left: 1em; padding-right: 1em; text-align: center; vertical-align: top\">Stop Pacifier Sucking<br>without tears with ...</td>\n",
              "        <td style=\"padding-left: 1em; padding-right: 1em; text-align: center; vertical-align: top\">This is a product well<br>worth the purchase.  I ...</td>\n",
              "        <td style=\"padding-left: 1em; padding-right: 1em; text-align: center; vertical-align: top\">5.0</td>\n",
              "        <td style=\"padding-left: 1em; padding-right: 1em; text-align: center; vertical-align: top\">This is a product well<br>worth the purchase  I ...</td>\n",
              "    </tr>\n",
              "</table>\n",
              "[4 rows x 4 columns]<br/>\n",
              "</div>"
            ]
          },
          "metadata": {},
          "execution_count": 20
        }
      ]
    },
    {
      "cell_type": "code",
      "source": [
        "#sf = sf.fillna('a', 0)\n",
        "sf = sf.fillna('review', '')  # fill in N/A's in the review column"
      ],
      "metadata": {
        "id": "wYCOtrnf564T"
      },
      "execution_count": 24,
      "outputs": []
    },
    {
      "cell_type": "code",
      "source": [
        "#We ignore all rating 3\n",
        "sf = sf[sf['rating'] != 3]"
      ],
      "metadata": {
        "id": "Pb3buhyE57EU"
      },
      "execution_count": 25,
      "outputs": []
    },
    {
      "cell_type": "code",
      "source": [
        "sf['sentiment'] = sf['rating'].apply(lambda rating : +1 if rating > 3 else -1)"
      ],
      "metadata": {
        "id": "E2gPNK71Nmxy"
      },
      "execution_count": 26,
      "outputs": []
    },
    {
      "cell_type": "code",
      "source": [
        "#Train test split\n",
        "train_data, test_data = sf.random_split(.8, seed=1)"
      ],
      "metadata": {
        "id": "rcfYyZn0NuTL"
      },
      "execution_count": 27,
      "outputs": []
    },
    {
      "cell_type": "code",
      "source": [
        "sample_test_data = test_data[10:13]\n",
        "print(sample_test_data)"
      ],
      "metadata": {
        "colab": {
          "base_uri": "https://localhost:8080/"
        },
        "id": "ZTDzs0KtNuhN",
        "outputId": "0c7d754d-bcc3-4783-f949-95b7bcbd373f"
      },
      "execution_count": 29,
      "outputs": [
        {
          "output_type": "stream",
          "name": "stdout",
          "text": [
            "+-------------------------------+-------------------------------+--------+\n",
            "|              name             |             review            | rating |\n",
            "+-------------------------------+-------------------------------+--------+\n",
            "|   Our Baby Girl Memory Book   | Absolutely love it and all... |  5.0   |\n",
            "| Wall Decor Removable Decal... | Would not purchase again o... |  2.0   |\n",
            "| New Style Trailing Cherry ... | Was so excited to get this... |  1.0   |\n",
            "+-------------------------------+-------------------------------+--------+\n",
            "+-------------------------------+-----------+\n",
            "|          review_clean         | sentiment |\n",
            "+-------------------------------+-----------+\n",
            "| Absolutely love it and all... |     1     |\n",
            "| Would not purchase again o... |     -1    |\n",
            "| Was so excited to get this... |     -1    |\n",
            "+-------------------------------+-----------+\n",
            "[3 rows x 5 columns]\n",
            "\n"
          ]
        }
      ]
    },
    {
      "cell_type": "code",
      "source": [
        "sample_test_data[0]['review']"
      ],
      "metadata": {
        "colab": {
          "base_uri": "https://localhost:8080/",
          "height": 53
        },
        "id": "tGQlZLZfN2Ej",
        "outputId": "e2de7126-79b1-434c-ef50-911426277dc9"
      },
      "execution_count": 30,
      "outputs": [
        {
          "output_type": "execute_result",
          "data": {
            "text/plain": [
              "'Absolutely love it and all of the Scripture in it.  I purchased the Baby Boy version for my grandson when he was born and my daughter-in-law was thrilled to receive the same book again.'"
            ],
            "application/vnd.google.colaboratory.intrinsic+json": {
              "type": "string"
            }
          },
          "metadata": {},
          "execution_count": 30
        }
      ]
    },
    {
      "cell_type": "code",
      "source": [
        "sample_test_data[1]['review']"
      ],
      "metadata": {
        "colab": {
          "base_uri": "https://localhost:8080/",
          "height": 53
        },
        "id": "xeZes-gSN2MP",
        "outputId": "11100f36-2560-4a8c-caef-de461db128d0"
      },
      "execution_count": 31,
      "outputs": [
        {
          "output_type": "execute_result",
          "data": {
            "text/plain": [
              "'Would not purchase again or recommend. The decals were thick almost plastic like and were coming off the wall as I was applying them! The would NOT stick! Literally stayed stuck for about 5 minutes then started peeling off.'"
            ],
            "application/vnd.google.colaboratory.intrinsic+json": {
              "type": "string"
            }
          },
          "metadata": {},
          "execution_count": 31
        }
      ]
    },
    {
      "cell_type": "code",
      "source": [
        "from sklearn.feature_extraction.text import CountVectorizer\n",
        "\n",
        "vectorizer = CountVectorizer(token_pattern=r'\\b\\w+\\b')\n",
        "     # Use this token pattern to keep single-letter words\n",
        "# First, learn vocabulary from the training data and assign columns to words\n",
        "# Then convert the training data into a sparse matrix\n",
        "train_matrix = vectorizer.fit_transform(train_data['review_clean'])\n",
        "# Second, convert the test data into a sparse matrix, using the same word-column mapping\n",
        "test_matrix = vectorizer.transform(test_data['review_clean'])"
      ],
      "metadata": {
        "id": "Ch2dDAG7QWAm"
      },
      "execution_count": 33,
      "outputs": []
    },
    {
      "cell_type": "code",
      "source": [
        "#model = turicreate.logistic_classifier.create(data, target='is_expensive', features=['bath', 'bedroom', 'size'])\n",
        "sentiment_model = turicreate.logistic_classifier.create(train_data, target = 'sentiment', features = ['review_clean'])"
      ],
      "metadata": {
        "colab": {
          "base_uri": "https://localhost:8080/",
          "height": 399
        },
        "id": "bJjqH9gARMnl",
        "outputId": "e2f6c171-cdd6-4a99-a3e3-79f031161edf"
      },
      "execution_count": 40,
      "outputs": [
        {
          "output_type": "stream",
          "name": "stdout",
          "text": [
            "PROGRESS: Creating a validation set from 5 percent of training data. This may take a while.\n",
            "          You can set ``validation_set=None`` to disable validation tracking.\n",
            "\n"
          ]
        },
        {
          "output_type": "display_data",
          "data": {
            "text/plain": [
              "Logistic regression:"
            ],
            "text/html": [
              "<pre>Logistic regression:</pre>"
            ]
          },
          "metadata": {}
        },
        {
          "output_type": "display_data",
          "data": {
            "text/plain": [
              "--------------------------------------------------------"
            ],
            "text/html": [
              "<pre>--------------------------------------------------------</pre>"
            ]
          },
          "metadata": {}
        },
        {
          "output_type": "display_data",
          "data": {
            "text/plain": [
              "Number of examples          : 126745"
            ],
            "text/html": [
              "<pre>Number of examples          : 126745</pre>"
            ]
          },
          "metadata": {}
        },
        {
          "output_type": "display_data",
          "data": {
            "text/plain": [
              "Number of classes           : 2"
            ],
            "text/html": [
              "<pre>Number of classes           : 2</pre>"
            ]
          },
          "metadata": {}
        },
        {
          "output_type": "display_data",
          "data": {
            "text/plain": [
              "Number of feature columns   : 1"
            ],
            "text/html": [
              "<pre>Number of feature columns   : 1</pre>"
            ]
          },
          "metadata": {}
        },
        {
          "output_type": "display_data",
          "data": {
            "text/plain": [
              "Number of unpacked features : 1"
            ],
            "text/html": [
              "<pre>Number of unpacked features : 1</pre>"
            ]
          },
          "metadata": {}
        },
        {
          "output_type": "display_data",
          "data": {
            "text/plain": [
              "Number of coefficients      : 126097"
            ],
            "text/html": [
              "<pre>Number of coefficients      : 126097</pre>"
            ]
          },
          "metadata": {}
        },
        {
          "output_type": "display_data",
          "data": {
            "text/plain": [
              "Starting L-BFGS"
            ],
            "text/html": [
              "<pre>Starting L-BFGS</pre>"
            ]
          },
          "metadata": {}
        },
        {
          "output_type": "display_data",
          "data": {
            "text/plain": [
              "--------------------------------------------------------"
            ],
            "text/html": [
              "<pre>--------------------------------------------------------</pre>"
            ]
          },
          "metadata": {}
        },
        {
          "output_type": "display_data",
          "data": {
            "text/plain": [
              "+-----------+----------+-----------+--------------+-------------------+---------------------+"
            ],
            "text/html": [
              "<pre>+-----------+----------+-----------+--------------+-------------------+---------------------+</pre>"
            ]
          },
          "metadata": {}
        },
        {
          "output_type": "display_data",
          "data": {
            "text/plain": [
              "| Iteration | Passes   | Step size | Elapsed Time | Training Accuracy | Validation Accuracy |"
            ],
            "text/html": [
              "<pre>| Iteration | Passes   | Step size | Elapsed Time | Training Accuracy | Validation Accuracy |</pre>"
            ]
          },
          "metadata": {}
        },
        {
          "output_type": "display_data",
          "data": {
            "text/plain": [
              "+-----------+----------+-----------+--------------+-------------------+---------------------+"
            ],
            "text/html": [
              "<pre>+-----------+----------+-----------+--------------+-------------------+---------------------+</pre>"
            ]
          },
          "metadata": {}
        },
        {
          "output_type": "display_data",
          "data": {
            "text/plain": [
              "| 0         | 2        | 1.000000  | 1.090297     | 0.999408          | 0.836756            |"
            ],
            "text/html": [
              "<pre>| 0         | 2        | 1.000000  | 1.090297     | 0.999408          | 0.836756            |</pre>"
            ]
          },
          "metadata": {}
        },
        {
          "output_type": "display_data",
          "data": {
            "text/plain": [
              "| 1         | 4        | 1.000000  | 1.186025     | 0.999408          | 0.836756            |"
            ],
            "text/html": [
              "<pre>| 1         | 4        | 1.000000  | 1.186025     | 0.999408          | 0.836756            |</pre>"
            ]
          },
          "metadata": {}
        },
        {
          "output_type": "display_data",
          "data": {
            "text/plain": [
              "| 2         | 6        | 1.000000  | 1.288138     | 0.999408          | 0.836756            |"
            ],
            "text/html": [
              "<pre>| 2         | 6        | 1.000000  | 1.288138     | 0.999408          | 0.836756            |</pre>"
            ]
          },
          "metadata": {}
        },
        {
          "output_type": "display_data",
          "data": {
            "text/plain": [
              "| 3         | 8        | 1.000000  | 1.383575     | 0.999408          | 0.836756            |"
            ],
            "text/html": [
              "<pre>| 3         | 8        | 1.000000  | 1.383575     | 0.999408          | 0.836756            |</pre>"
            ]
          },
          "metadata": {}
        },
        {
          "output_type": "display_data",
          "data": {
            "text/plain": [
              "| 4         | 10       | 1.000000  | 1.479371     | 0.999408          | 0.836756            |"
            ],
            "text/html": [
              "<pre>| 4         | 10       | 1.000000  | 1.479371     | 0.999408          | 0.836756            |</pre>"
            ]
          },
          "metadata": {}
        },
        {
          "output_type": "display_data",
          "data": {
            "text/plain": [
              "| 9         | 19       | 0.461135  | 1.909423     | 0.999408          | 0.836756            |"
            ],
            "text/html": [
              "<pre>| 9         | 19       | 0.461135  | 1.909423     | 0.999408          | 0.836756            |</pre>"
            ]
          },
          "metadata": {}
        },
        {
          "output_type": "display_data",
          "data": {
            "text/plain": [
              "+-----------+----------+-----------+--------------+-------------------+---------------------+"
            ],
            "text/html": [
              "<pre>+-----------+----------+-----------+--------------+-------------------+---------------------+</pre>"
            ]
          },
          "metadata": {}
        }
      ]
    },
    {
      "cell_type": "code",
      "source": [
        "#sumval = sentiment_model(sentiment_model.coefficients['value'] > 0).count()\n",
        "sentiment_model.coefficients['value']\n",
        "#some_val = sentiment_model.coefficients[2]['value']\n",
        "#print(sumval)\n",
        "#print(some_val)"
      ],
      "metadata": {
        "colab": {
          "base_uri": "https://localhost:8080/"
        },
        "id": "RCTRhV0IUf2-",
        "outputId": "f9fa8781-f9aa-4c68-a9ff-492e2bdde692"
      },
      "execution_count": 51,
      "outputs": [
        {
          "output_type": "execute_result",
          "data": {
            "text/plain": [
              "dtype: float\n",
              "Rows: 126097\n",
              "[2.2648486006591644, 4.303908046934071, 4.303908046934071, 4.303908046934071, 4.303908046934071, 4.303908046934071, 4.303908046934071, 4.303908046934071, 4.303908046934071, 4.303908046934071, 4.303908046934071, 4.303908046934071, 4.303908046934071, -8.4322088158513, 4.303908046934071, 4.303908046934071, 4.303908046934071, 4.303908046934071, 4.303908046934071, 4.303908046934071, 4.303908046934071, 4.303908046934071, 4.303908046934071, 4.303908046934071, -0.546846696167801, 4.303908046934071, 4.303908046934071, 4.303908046934071, 4.303908046934071, 4.303908046934071, 4.303908046934071, 4.303908046934071, 4.303908046934071, 4.303908046934071, -8.4322088158513, 4.303908046934071, 4.303908046934071, 4.303908046934071, 4.303908046934071, 4.303908046934071, 4.303908046934071, 4.303908046934071, 4.303908046934071, 4.303908046934071, 4.303908046934071, 4.303908046934071, 4.303908046934071, 4.303908046934071, 4.303908046934071, -8.4322088158513, 4.303908046934071, 4.303908046934071, 4.303908046934071, 4.303908046934071, 4.303908046934071, 4.303908046934071, -8.4322088158513, 4.303908046934071, -8.4322088158513, 4.303908046934071, 4.303908046934071, 4.303908046934071, -8.4322088158513, -8.4322088158513, 4.303908046934071, 4.303908046934071, 4.303908046934071, 4.303908046934071, 4.303908046934071, 4.303908046934071, 4.303908046934071, 4.303908046934071, 4.303908046934071, 4.303908046934071, 4.303908046934071, 4.303908046934071, 4.303908046934071, 4.303908046934071, 4.303908046934071, 4.303908046934071, 4.303908046934071, 4.303908046934071, 4.303908046934071, 4.303908046934071, 4.303908046934071, 4.303908046934071, 4.303908046934071, 4.303908046934071, 4.303908046934071, 4.303908046934071, -8.4322088158513, 4.303908046934071, 4.303908046934071, 4.303908046934071, 4.303908046934071, 4.303908046934071, -8.4322088158513, 4.303908046934071, 4.303908046934071, 4.303908046934071, ... ]"
            ]
          },
          "metadata": {},
          "execution_count": 51
        }
      ]
    },
    {
      "cell_type": "code",
      "source": [
        "def count_plus():\n",
        "    return 1\n",
        "\n",
        "#sf['review_clean'] = sf['review'].apply(remove_punctuation)"
      ],
      "metadata": {
        "id": "dtl9J-XiWiK-"
      },
      "execution_count": null,
      "outputs": []
    },
    {
      "cell_type": "code",
      "source": [
        "sample_test_matrix = vectorizer.transform(sample_test_data['review_clean'])\n",
        "#scores = sentiment_model.decision_function(sample_test_matrix)\n",
        "#print(scores)"
      ],
      "metadata": {
        "id": "b5vqqLCBN2Ts"
      },
      "execution_count": null,
      "outputs": []
    },
    {
      "cell_type": "code",
      "source": [
        ""
      ],
      "metadata": {
        "id": "8ITjtSl7Nm90"
      },
      "execution_count": null,
      "outputs": []
    },
    {
      "cell_type": "code",
      "source": [
        ""
      ],
      "metadata": {
        "id": "y_NMbUtf57OL"
      },
      "execution_count": null,
      "outputs": []
    }
  ],
  "metadata": {
    "colab": {
      "collapsed_sections": [],
      "name": "Colab_Turi_Sentiment_amazon-baby.ipynb",
      "provenance": []
    },
    "kernelspec": {
      "display_name": "Python 3",
      "name": "python3"
    },
    "language_info": {
      "name": "python"
    }
  },
  "nbformat": 4,
  "nbformat_minor": 0
}