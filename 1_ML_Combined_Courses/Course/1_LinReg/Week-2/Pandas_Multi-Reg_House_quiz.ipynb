{
 "cells": [
  {
   "attachments": {},
   "cell_type": "markdown",
   "metadata": {},
   "source": [
    "## Multiple-regression - House price study"
   ]
  },
  {
   "attachments": {},
   "cell_type": "markdown",
   "metadata": {},
   "source": [
    "### 1. Import Libraries"
   ]
  },
  {
   "cell_type": "code",
   "execution_count": null,
   "metadata": {},
   "outputs": [],
   "source": [
    "import numpy as np\n",
    "import pandas as pd\n",
    "import matplotlib.pyplot as plt"
   ]
  },
  {
   "attachments": {},
   "cell_type": "markdown",
   "metadata": {},
   "source": [
    "### 2. Import data (Train and test separate)"
   ]
  },
  {
   "cell_type": "code",
   "execution_count": null,
   "metadata": {},
   "outputs": [],
   "source": [
    "house_train = pd.read_csv('../Data/house_data/kc_house_train_data.csv')\n",
    "house_test = pd.read_csv('../Data/house_data/kc_house_test_data.csv')"
   ]
  },
  {
   "attachments": {},
   "cell_type": "markdown",
   "metadata": {},
   "source": [
    "### 3. Simple model checks"
   ]
  },
  {
   "cell_type": "code",
   "execution_count": null,
   "metadata": {},
   "outputs": [],
   "source": [
    "X_house_train = house_train['sqft_living']\n",
    "y_house_train = house_train['price']\n",
    "X_train_shaped = X_house_train.values.reshape(-1, 1)\n",
    "y_train_shaped = y_house_train.values.reshape(-1, 1)\n",
    "print(\"Shape of X-data (training):\" + str(X_train_shaped.shape))\n",
    "print(\"Shape of Y-data (training):\" + str(y_train_shaped.shape))"
   ]
  },
  {
   "attachments": {},
   "cell_type": "markdown",
   "metadata": {},
   "source": [
    "### 4. Simple Linear Regression"
   ]
  },
  {
   "cell_type": "code",
   "execution_count": null,
   "metadata": {},
   "outputs": [],
   "source": [
    "from sklearn.linear_model import LinearRegression\n",
    "linreg = LinearRegression()\n",
    "linreg.fit(X_train_shaped, y_train_shaped)\n",
    "print('linear model coeff (w): {}'\n",
    "     .format(linreg.coef_))\n",
    "print('linear model intercept (b): {}'\n",
    "     .format(linreg.intercept_))\n",
    "print('R-squared score (training): {}'\n",
    "     .format(linreg.score(X_train_shaped, y_train_shaped)))"
   ]
  },
  {
   "attachments": {},
   "cell_type": "markdown",
   "metadata": {},
   "source": [
    "### 5. Plot the results - Simple Linear Regression"
   ]
  },
  {
   "cell_type": "code",
   "execution_count": null,
   "metadata": {},
   "outputs": [],
   "source": [
    "plt.figure(figsize=(5,4))\n",
    "plt.scatter(X_train_shaped, y_train_shaped, marker= 'o', s=50, alpha=0.8)\n",
    "plt.plot(X_train_shaped, linreg.coef_ * X_train_shaped + linreg.intercept_, 'r-')\n",
    "plt.title('Least-squares linear regression')\n",
    "plt.xlabel('Feature value (x)')\n",
    "plt.ylabel('Target value (y)')\n",
    "plt.show()"
   ]
  },
  {
   "attachments": {},
   "cell_type": "markdown",
   "metadata": {},
   "source": [
    "### 6. Multiple regression features"
   ]
  },
  {
   "cell_type": "code",
   "execution_count": null,
   "metadata": {},
   "outputs": [],
   "source": [
    "house_train['bedroom_squared'] = house_train['bedrooms'] * house_train['bedrooms']\n",
    "house_train.head(5)"
   ]
  },
  {
   "cell_type": "code",
   "execution_count": null,
   "metadata": {},
   "outputs": [],
   "source": [
    "# Add other three additional columns also\n",
    "house_test['bedroom_squared'] = house_test['bedrooms'] * house_test['bedrooms']\n",
    "#Bed-bathroom multiple\n",
    "house_train['bed_bath_rooms'] = house_train['bedrooms'] * house_train['bathrooms']\n",
    "house_test['bed_bath_rooms'] = house_test['bedrooms'] * house_test['bathrooms']\n",
    "\n",
    "#Log-sqft living\n",
    "house_train['log_sqft_living'] = np.log(house_train['sqft_living'])\n",
    "house_test['log_sqft_living'] = np.log(house_test['sqft_living'])\n",
    "\n",
    "#Latitude + Longitude\n",
    "house_train['lat_plus_long'] = house_train['lat'] + house_train['long']\n",
    "house_test['lat_plus_long'] = house_test['lat'] + house_test['long']\n",
    "\n",
    "house_test.head(5)"
   ]
  },
  {
   "cell_type": "code",
   "execution_count": null,
   "metadata": {},
   "outputs": [],
   "source": [
    "display(house_test.describe())"
   ]
  },
  {
   "attachments": {},
   "cell_type": "markdown",
   "metadata": {},
   "source": [
    "### 7. Three (03) different models"
   ]
  },
  {
   "cell_type": "code",
   "execution_count": null,
   "metadata": {},
   "outputs": [],
   "source": [
    "Model_1 = ['sqft_living', 'bedrooms', 'bathrooms', 'lat', 'long']\n",
    "Model_2 = ['sqft_living', 'bedrooms', 'bathrooms', 'lat', 'long', 'bed_bath_rooms']\n",
    "Model_3 = ['sqft_living', 'bedrooms', 'bathrooms', 'lat', 'long', 'bed_bath_rooms', 'bedroom_squared', 'log_sqft_living', 'lat_plus_long']\n",
    "\n",
    "X_train_house_m1 = house_train[Model_1]\n",
    "X_train_house_m2 = house_train[Model_2]\n",
    "X_train_house_m3 = house_train[Model_3]\n",
    "y_train_m = house_train['price']\n",
    "\n",
    "X_test_house_m1 = house_test[Model_1]\n",
    "X_test_house_m2 = house_test[Model_2]\n",
    "X_test_house_m3 = house_test[Model_3]\n",
    "y_test_m = house_test['price']\n",
    "\n",
    "y_train_shaped_m = y_train_m.values.reshape(-1, 1)\n",
    "y_test_shaped_m = y_test_m.values.reshape(-1, 1)"
   ]
  },
  {
   "cell_type": "code",
   "execution_count": null,
   "metadata": {},
   "outputs": [],
   "source": [
    "print(X_test_house_m1.shape)\n",
    "print(X_test_house_m2.shape)\n",
    "print(X_test_house_m3.shape)\n",
    "print(y_test_shaped_m.shape)"
   ]
  },
  {
   "attachments": {},
   "cell_type": "markdown",
   "metadata": {},
   "source": [
    "### 8a. Model-1 Multi-Linear Regression Results"
   ]
  },
  {
   "cell_type": "code",
   "execution_count": null,
   "metadata": {},
   "outputs": [],
   "source": [
    "linreg_multi_house_m1 = LinearRegression()\n",
    "linreg_multi_house_m1.fit(X_train_house_m1, y_train_shaped_m)\n",
    "print('linear model coeff (w): {}'\n",
    "     .format(linreg_multi_house_m1.coef_))\n",
    "print('linear model intercept (b): {}'\n",
    "     .format(linreg_multi_house_m1.intercept_))\n",
    "print('R-squared score (training): {}'\n",
    "     .format(linreg_multi_house_m1.score(X_train_house_m1, y_train_shaped_m)))\n",
    "print('R-squared score (test): {}'\n",
    "     .format(linreg_multi_house_m1.score(X_test_house_m1, y_test_shaped_m)))"
   ]
  },
  {
   "attachments": {},
   "cell_type": "markdown",
   "metadata": {},
   "source": [
    "### 8b. Model-2 Multi-Linear Regression Results"
   ]
  },
  {
   "cell_type": "code",
   "execution_count": null,
   "metadata": {},
   "outputs": [],
   "source": [
    "linreg_multi_house_m2 = LinearRegression()\n",
    "linreg_multi_house_m2.fit(X_train_house_m2, y_train_shaped_m)\n",
    "print('linear model coeff (w): {}'\n",
    "     .format(linreg_multi_house_m2.coef_))\n",
    "print('linear model intercept (b): {}'\n",
    "     .format(linreg_multi_house_m2.intercept_))\n",
    "print('R-squared score (training): {}'\n",
    "     .format(linreg_multi_house_m2.score(X_train_house_m2, y_train_shaped_m)))\n",
    "print('R-squared score (test): {}'\n",
    "     .format(linreg_multi_house_m2.score(X_test_house_m2, y_test_shaped_m)))"
   ]
  },
  {
   "attachments": {},
   "cell_type": "markdown",
   "metadata": {},
   "source": [
    "### 8c. Model-3 Multi-Linear Regression Results"
   ]
  },
  {
   "cell_type": "code",
   "execution_count": null,
   "metadata": {},
   "outputs": [],
   "source": [
    "linreg_multi_house_m3 = LinearRegression()\n",
    "linreg_multi_house_m3.fit(X_train_house_m3, y_train_shaped_m)\n",
    "print('linear model coeff (w): {}'\n",
    "     .format(linreg_multi_house_m3.coef_))\n",
    "print('linear model intercept (b): {}'\n",
    "     .format(linreg_multi_house_m3.intercept_))\n",
    "print('R-squared score (training): {}'\n",
    "     .format(linreg_multi_house_m3.score(X_train_house_m3, y_train_shaped_m)))\n",
    "print('R-squared score (test): {}'\n",
    "     .format(linreg_multi_house_m3.score(X_test_house_m3, y_test_shaped_m)))"
   ]
  }
 ],
 "metadata": {
  "kernelspec": {
   "display_name": "Python 3",
   "language": "python",
   "name": "python3"
  },
  "language_info": {
   "codemirror_mode": {
    "name": "ipython",
    "version": 3
   },
   "file_extension": ".py",
   "mimetype": "text/x-python",
   "name": "python",
   "nbconvert_exporter": "python",
   "pygments_lexer": "ipython3",
   "version": "3.10.10"
  },
  "orig_nbformat": 4
 },
 "nbformat": 4,
 "nbformat_minor": 2
}
