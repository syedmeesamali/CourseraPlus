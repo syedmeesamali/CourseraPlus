{
  "cells": [
    {
      "cell_type": "markdown",
      "metadata": {
        "id": "8V5UxN6fbMuR"
      },
      "source": [
        "### Mount the local drive to save the works"
      ]
    },
    {
      "cell_type": "code",
      "execution_count": null,
      "metadata": {
        "colab": {
          "base_uri": "https://localhost:8080/"
        },
        "id": "VsdGRY4tkYqZ",
        "outputId": "1f49bfc9-39b2-468b-f30e-ff030d5c4982"
      },
      "outputs": [],
      "source": [
        "from google.colab import drive\n",
        "drive.mount('/content/MyDrive/')"
      ]
    },
    {
      "cell_type": "code",
      "execution_count": null,
      "metadata": {
        "id": "NXJgHWC7nCcF"
      },
      "outputs": [],
      "source": [
        "#!pip install turicreate\n",
        "import turicreate"
      ]
    },
    {
      "cell_type": "code",
      "execution_count": null,
      "metadata": {
        "colab": {
          "base_uri": "https://localhost:8080/"
        },
        "id": "v7fCGvmJmuKa",
        "outputId": "283b8134-8f9e-4b8d-d189-ebac674993db"
      },
      "outputs": [],
      "source": [
        "!ls"
      ]
    },
    {
      "cell_type": "code",
      "execution_count": null,
      "metadata": {
        "id": "xsi0cLTnnlgj"
      },
      "outputs": [],
      "source": [
        "#!7z x '/content/MyDrive/MyDrive/SFRAMES/home_data_small.sframe.zip'"
      ]
    },
    {
      "cell_type": "code",
      "execution_count": null,
      "metadata": {
        "id": "FFuHXt2snxLC"
      },
      "outputs": [],
      "source": [
        "sf = turicreate.SFrame('/content/MyDrive/MyDrive/SFRAMES/home_data.sframe')"
      ]
    },
    {
      "cell_type": "code",
      "execution_count": null,
      "metadata": {
        "colab": {
          "base_uri": "https://localhost:8080/",
          "height": 273
        },
        "id": "iMlCcxIJn9sJ",
        "outputId": "5b316a0a-7326-4b7c-8b53-331d202d6bc6"
      },
      "outputs": [],
      "source": [
        "sf.head(3)"
      ]
    },
    {
      "cell_type": "code",
      "execution_count": null,
      "metadata": {
        "colab": {
          "base_uri": "https://localhost:8080/"
        },
        "id": "k-1-wLNAzzAc",
        "outputId": "04f623a1-a506-4d8a-bc25-f62ae241289f"
      },
      "outputs": [],
      "source": [
        "sf.shape"
      ]
    },
    {
      "cell_type": "markdown",
      "metadata": {
        "id": "FzHoWax8x7jc"
      },
      "source": [
        "# **Regression Model**"
      ]
    },
    {
      "cell_type": "code",
      "execution_count": null,
      "metadata": {
        "id": "IXgI9Bg-qmJ2"
      },
      "outputs": [],
      "source": [
        "train_data,test_data = sf.random_split(.8,seed=0)"
      ]
    },
    {
      "cell_type": "code",
      "execution_count": null,
      "metadata": {
        "colab": {
          "base_uri": "https://localhost:8080/",
          "height": 260
        },
        "id": "1Xt23TtFq7OY",
        "outputId": "1402913d-9fbf-44d1-b893-16efa85e74f4"
      },
      "outputs": [],
      "source": [
        "example_features = ['sqft_living', 'bedrooms', 'bathrooms']\n",
        "example_model = turicreate.linear_regression.create(train_data, target = 'price', features = example_features, \n",
        "                                                    validation_set = None)"
      ]
    },
    {
      "cell_type": "code",
      "execution_count": null,
      "metadata": {
        "colab": {
          "base_uri": "https://localhost:8080/"
        },
        "id": "S3DbHKMnrHos",
        "outputId": "328f3141-8cd4-4368-8b11-e782a0d166c0"
      },
      "outputs": [],
      "source": [
        "example_weight_summary = example_model.coefficients\n",
        "print(example_weight_summary)"
      ]
    },
    {
      "cell_type": "markdown",
      "metadata": {
        "id": "xGFk4H40-KwM"
      },
      "source": [
        "# **Making Predictions**"
      ]
    },
    {
      "cell_type": "code",
      "execution_count": null,
      "metadata": {
        "colab": {
          "base_uri": "https://localhost:8080/"
        },
        "id": "PF2nEEgO-KJW",
        "outputId": "12ea6150-bfe2-4d95-873d-6e947f46b613"
      },
      "outputs": [],
      "source": [
        "example_predictions = example_model.predict(train_data)\n",
        "print(example_predictions[0]) # should be 271789.505878"
      ]
    },
    {
      "cell_type": "code",
      "execution_count": null,
      "metadata": {
        "id": "r7w4B5NY-UuZ"
      },
      "outputs": [],
      "source": [
        "def get_residual_sum_of_squares(model, data, outcome):\n",
        "    # First get the predictions\n",
        "    predictions = model.predict(data)\n",
        "    residual = outcome - predictions\n",
        "    RSS = sum(residual * residual)\n",
        "    # Then square and add them up\n",
        "    return(RSS)    "
      ]
    },
    {
      "cell_type": "code",
      "execution_count": null,
      "metadata": {
        "colab": {
          "base_uri": "https://localhost:8080/"
        },
        "id": "ip2C31Dn-m7x",
        "outputId": "6f97dbc5-1cf5-44d7-96be-77159bf7328b"
      },
      "outputs": [],
      "source": [
        "rss_example_train = get_residual_sum_of_squares(example_model, test_data, test_data['price'])\n",
        "print(rss_example_train) # should be 2.7376153833e+14"
      ]
    },
    {
      "cell_type": "markdown",
      "metadata": {
        "id": "ChVNiJ7N-wqe"
      },
      "source": [
        "# **Some new features**\n"
      ]
    },
    {
      "cell_type": "code",
      "execution_count": null,
      "metadata": {
        "id": "bXSHd5de-11n"
      },
      "outputs": [],
      "source": [
        "from math import log\n",
        "train_data['bedrooms_squared'] = train_data['bedrooms'].apply(lambda x: x**2)\n",
        "test_data['bedrooms_squared'] = test_data['bedrooms'].apply(lambda x: x**2)"
      ]
    },
    {
      "cell_type": "code",
      "execution_count": null,
      "metadata": {
        "id": "xbhATu_B-70j"
      },
      "outputs": [],
      "source": [
        "# create the remaining 3 features in both TEST and TRAIN data\n",
        "train_data['bed_bath_rooms'] = train_data['bedrooms']*train_data['bathrooms']\n",
        "test_data['bed_bath_rooms'] = test_data['bedrooms']*test_data['bathrooms']\n",
        "train_data['log_sqft_living'] = train_data['sqft_living'].apply(lambda x: log(x))\n",
        "test_data['log_sqft_living'] = test_data['sqft_living'].apply(lambda x: log(x))\n",
        "train_data['lat_plus_long'] = train_data['lat'] + train_data['long']\n",
        "test_data['lat_plus_long'] = test_data['lat'] + test_data['long']"
      ]
    },
    {
      "cell_type": "code",
      "execution_count": null,
      "metadata": {
        "colab": {
          "base_uri": "https://localhost:8080/"
        },
        "id": "AECJDAoCHny7",
        "outputId": "d5e8f142-ba1b-4240-e806-90fde408f9db"
      },
      "outputs": [],
      "source": [
        "print('bedrooms_squared _ ' + str(round(sum(test_data['bedrooms_squared'])/len(test_data['bedrooms_squared']),2)))\n",
        "print('bed_bath_rooms _ ' + str(round(sum(test_data['bed_bath_rooms'])/len(test_data['bed_bath_rooms']),2)))\n",
        "print('log_sqft_living _ ' + str(round(sum(test_data['log_sqft_living'])/len(test_data['log_sqft_living']),2)))\n",
        "print('lat_plus_long _ ' + str(round(sum(test_data['lat_plus_long'])/len(test_data['lat_plus_long']),2)))"
      ]
    },
    {
      "cell_type": "markdown",
      "metadata": {
        "id": "aTVXGfF-a_pK"
      },
      "source": [
        "# Learning Multiple Models"
      ]
    },
    {
      "cell_type": "code",
      "execution_count": null,
      "metadata": {
        "id": "rhofib9eIzyu"
      },
      "outputs": [],
      "source": [
        "model_1_features = ['sqft_living', 'bedrooms', 'bathrooms', 'lat', 'long']\n",
        "model_2_features = model_1_features + ['bed_bath_rooms']\n",
        "model_3_features = model_2_features + ['bedrooms_squared', 'log_sqft_living', 'lat_plus_long']"
      ]
    },
    {
      "cell_type": "code",
      "execution_count": null,
      "metadata": {
        "colab": {
          "base_uri": "https://localhost:8080/",
          "height": 798
        },
        "id": "sFDsf-NLbInF",
        "outputId": "827d251d-bab6-417d-a16d-c8ff146ee187"
      },
      "outputs": [],
      "source": [
        "# Learn the three models: (don't forget to set validation_set = None)\n",
        "model_1 = turicreate.linear_regression.create(train_data, target = 'price', features = model_1_features, \n",
        "                                                  validation_set = None)\n",
        "model_2 = turicreate.linear_regression.create(train_data, target = 'price', features = model_2_features, \n",
        "                                                  validation_set = None)\n",
        "model_3 = turicreate.linear_regression.create(train_data, target = 'price', features = model_3_features, \n",
        "                                                  validation_set = None)"
      ]
    },
    {
      "cell_type": "code",
      "execution_count": null,
      "metadata": {
        "colab": {
          "base_uri": "https://localhost:8080/",
          "height": 189
        },
        "id": "YmA6EfpHbWYs",
        "outputId": "205a40bf-ae9d-41f5-d84f-5464004e9c64"
      },
      "outputs": [],
      "source": [
        "print('model 1')\n",
        "model_1.coefficients"
      ]
    },
    {
      "cell_type": "code",
      "execution_count": null,
      "metadata": {
        "colab": {
          "base_uri": "https://localhost:8080/",
          "height": 209
        },
        "id": "FTKk2gWOblBc",
        "outputId": "9cb06018-6457-451d-f97b-2c8bf88e1695"
      },
      "outputs": [],
      "source": [
        "print('model 2')\n",
        "model_2.coefficients"
      ]
    },
    {
      "cell_type": "code",
      "execution_count": null,
      "metadata": {
        "colab": {
          "base_uri": "https://localhost:8080/",
          "height": 267
        },
        "id": "4BYBjgW7bqsk",
        "outputId": "877d7855-135a-40d6-e62a-92099fa02112"
      },
      "outputs": [],
      "source": [
        "print('model 3')\n",
        "model_3.coefficients"
      ]
    },
    {
      "cell_type": "markdown",
      "metadata": {
        "id": "xy6YrKVkb1H5"
      },
      "source": [
        "# RSS for each model - Training Set"
      ]
    },
    {
      "cell_type": "code",
      "execution_count": null,
      "metadata": {
        "colab": {
          "base_uri": "https://localhost:8080/"
        },
        "id": "LjWCXhPKb2yY",
        "outputId": "4b7257e0-e99a-4ac7-a1cb-321c278475e5"
      },
      "outputs": [],
      "source": [
        "print(\"RSS Value of Model - 1: \")\n",
        "get_residual_sum_of_squares(model_1, train_data, train_data['price'])\n"
      ]
    },
    {
      "cell_type": "code",
      "execution_count": null,
      "metadata": {
        "colab": {
          "base_uri": "https://localhost:8080/"
        },
        "id": "mXdHavyVc54y",
        "outputId": "4a11fc69-13b6-41d8-89b9-7f11af1bec6e"
      },
      "outputs": [],
      "source": [
        "print(\"RSS Value of Model - 2: \")\n",
        "get_residual_sum_of_squares(model_2, train_data, train_data['price'])"
      ]
    },
    {
      "cell_type": "code",
      "execution_count": null,
      "metadata": {
        "colab": {
          "base_uri": "https://localhost:8080/"
        },
        "id": "Xyggz-5Bc6o6",
        "outputId": "6585a8e9-c0a2-48ec-bd44-960b53adaa12"
      },
      "outputs": [],
      "source": [
        "print(\"RSS Value of Model - 3: \")\n",
        "get_residual_sum_of_squares(model_3, train_data, train_data['price'])"
      ]
    },
    {
      "cell_type": "markdown",
      "metadata": {
        "id": "tdE_SJuYcOkG"
      },
      "source": [
        "# RSS for each model - Test Set"
      ]
    },
    {
      "cell_type": "code",
      "execution_count": null,
      "metadata": {
        "colab": {
          "base_uri": "https://localhost:8080/"
        },
        "id": "rhPgL1s4cRTn",
        "outputId": "b645aca0-03c3-42dc-eaf8-f8cddedba175"
      },
      "outputs": [],
      "source": [
        "print(\"RSS Value of Model - 1 Test: \")\n",
        "get_residual_sum_of_squares(model_1, test_data, test_data['price'])"
      ]
    },
    {
      "cell_type": "code",
      "execution_count": null,
      "metadata": {
        "colab": {
          "base_uri": "https://localhost:8080/"
        },
        "id": "MVudhiZVczC3",
        "outputId": "eca0a190-a45d-4390-895d-f2d0067fc063"
      },
      "outputs": [],
      "source": [
        "print(\"RSS Value of Model - 2 Test: \")\n",
        "get_residual_sum_of_squares(model_2, test_data, test_data['price'])"
      ]
    },
    {
      "cell_type": "code",
      "execution_count": null,
      "metadata": {
        "colab": {
          "base_uri": "https://localhost:8080/"
        },
        "id": "QtLBYxTuczuf",
        "outputId": "906693d4-ff23-43a2-fd77-869549ca7332"
      },
      "outputs": [],
      "source": [
        "print(\"RSS Value of Model - 3 Test: \")\n",
        "get_residual_sum_of_squares(model_3, test_data, test_data['price'])"
      ]
    }
  ],
  "metadata": {
    "colab": {
      "collapsed_sections": [],
      "name": "Colab_House_Data_Small.ipynb",
      "provenance": []
    },
    "kernelspec": {
      "display_name": "Python 3",
      "name": "python3"
    },
    "language_info": {
      "name": "python"
    }
  },
  "nbformat": 4,
  "nbformat_minor": 0
}
