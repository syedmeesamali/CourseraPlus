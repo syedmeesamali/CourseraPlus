{
  "cells": [
    {
      "cell_type": "markdown",
      "metadata": {
        "id": "8V5UxN6fbMuR"
      },
      "source": [
        "### Mount the local drive to save the works"
      ]
    },
    {
      "cell_type": "code",
      "execution_count": 1,
      "metadata": {
        "id": "VsdGRY4tkYqZ",
        "colab": {
          "base_uri": "https://localhost:8080/"
        },
        "outputId": "1f49bfc9-39b2-468b-f30e-ff030d5c4982"
      },
      "outputs": [
        {
          "output_type": "stream",
          "name": "stdout",
          "text": [
            "Mounted at /content/MyDrive/\n"
          ]
        }
      ],
      "source": [
        "from google.colab import drive\n",
        "drive.mount('/content/MyDrive/')"
      ]
    },
    {
      "cell_type": "code",
      "execution_count": 3,
      "metadata": {
        "id": "NXJgHWC7nCcF"
      },
      "outputs": [],
      "source": [
        "#!pip install turicreate\n",
        "import turicreate"
      ]
    },
    {
      "cell_type": "code",
      "source": [
        "!ls"
      ],
      "metadata": {
        "colab": {
          "base_uri": "https://localhost:8080/"
        },
        "id": "v7fCGvmJmuKa",
        "outputId": "283b8134-8f9e-4b8d-d189-ebac674993db"
      },
      "execution_count": 4,
      "outputs": [
        {
          "output_type": "stream",
          "name": "stdout",
          "text": [
            "MyDrive  sample_data\n"
          ]
        }
      ]
    },
    {
      "cell_type": "code",
      "execution_count": 5,
      "metadata": {
        "id": "xsi0cLTnnlgj"
      },
      "outputs": [],
      "source": [
        "#!7z x '/content/MyDrive/MyDrive/SFRAMES/home_data_small.sframe.zip'"
      ]
    },
    {
      "cell_type": "code",
      "execution_count": 6,
      "metadata": {
        "id": "FFuHXt2snxLC"
      },
      "outputs": [],
      "source": [
        "sf = turicreate.SFrame('/content/MyDrive/MyDrive/SFRAMES/home_data.sframe')"
      ]
    },
    {
      "cell_type": "code",
      "execution_count": 7,
      "metadata": {
        "colab": {
          "base_uri": "https://localhost:8080/",
          "height": 273
        },
        "id": "iMlCcxIJn9sJ",
        "outputId": "5b316a0a-7326-4b7c-8b53-331d202d6bc6"
      },
      "outputs": [
        {
          "output_type": "execute_result",
          "data": {
            "text/plain": [
              "Columns:\n",
              "\tid\tstr\n",
              "\tdate\tdatetime\n",
              "\tprice\tfloat\n",
              "\tbedrooms\tfloat\n",
              "\tbathrooms\tfloat\n",
              "\tsqft_living\tfloat\n",
              "\tsqft_lot\tfloat\n",
              "\tfloors\tfloat\n",
              "\twaterfront\tint\n",
              "\tview\tint\n",
              "\tcondition\tint\n",
              "\tgrade\tfloat\n",
              "\tsqft_above\tfloat\n",
              "\tsqft_basement\tfloat\n",
              "\tyr_built\tfloat\n",
              "\tyr_renovated\tfloat\n",
              "\tzipcode\tstr\n",
              "\tlat\tfloat\n",
              "\tlong\tfloat\n",
              "\tsqft_living15\tfloat\n",
              "\tsqft_lot15\tfloat\n",
              "\n",
              "Rows: 3\n",
              "\n",
              "Data:\n",
              "+------------+---------------------------+----------+----------+-----------+\n",
              "|     id     |            date           |  price   | bedrooms | bathrooms |\n",
              "+------------+---------------------------+----------+----------+-----------+\n",
              "| 7129300520 | 2014-10-13 00:00:00+00:00 | 221900.0 |   3.0    |    1.0    |\n",
              "| 6414100192 | 2014-12-09 00:00:00+00:00 | 538000.0 |   3.0    |    2.25   |\n",
              "| 5631500400 | 2015-02-25 00:00:00+00:00 | 180000.0 |   2.0    |    1.0    |\n",
              "+------------+---------------------------+----------+----------+-----------+\n",
              "+-------------+----------+--------+------------+------+-----------+-------+\n",
              "| sqft_living | sqft_lot | floors | waterfront | view | condition | grade |\n",
              "+-------------+----------+--------+------------+------+-----------+-------+\n",
              "|    1180.0   |  5650.0  |  1.0   |     0      |  0   |     3     |  7.0  |\n",
              "|    2570.0   |  7242.0  |  2.0   |     0      |  0   |     3     |  7.0  |\n",
              "|    770.0    | 10000.0  |  1.0   |     0      |  0   |     3     |  6.0  |\n",
              "+-------------+----------+--------+------------+------+-----------+-------+\n",
              "+------------+---------------+----------+--------------+---------+-------------+\n",
              "| sqft_above | sqft_basement | yr_built | yr_renovated | zipcode |     lat     |\n",
              "+------------+---------------+----------+--------------+---------+-------------+\n",
              "|   1180.0   |      0.0      |  1955.0  |     0.0      |  98178  | 47.51123398 |\n",
              "|   2170.0   |     400.0     |  1951.0  |    1991.0    |  98125  | 47.72102274 |\n",
              "|   770.0    |      0.0      |  1933.0  |     0.0      |  98028  | 47.73792661 |\n",
              "+------------+---------------+----------+--------------+---------+-------------+\n",
              "+---------------+---------------+-----+\n",
              "|      long     | sqft_living15 | ... |\n",
              "+---------------+---------------+-----+\n",
              "| -122.25677536 |     1340.0    | ... |\n",
              "|  -122.3188624 |     1690.0    | ... |\n",
              "| -122.23319601 |     2720.0    | ... |\n",
              "+---------------+---------------+-----+\n",
              "[3 rows x 21 columns]"
            ],
            "text/html": [
              "<div style=\"max-height:1000px;max-width:1500px;overflow:auto;\"><table frame=\"box\" rules=\"cols\">\n",
              "    <tr>\n",
              "        <th style=\"padding-left: 1em; padding-right: 1em; text-align: center\">id</th>\n",
              "        <th style=\"padding-left: 1em; padding-right: 1em; text-align: center\">date</th>\n",
              "        <th style=\"padding-left: 1em; padding-right: 1em; text-align: center\">price</th>\n",
              "        <th style=\"padding-left: 1em; padding-right: 1em; text-align: center\">bedrooms</th>\n",
              "        <th style=\"padding-left: 1em; padding-right: 1em; text-align: center\">bathrooms</th>\n",
              "        <th style=\"padding-left: 1em; padding-right: 1em; text-align: center\">sqft_living</th>\n",
              "        <th style=\"padding-left: 1em; padding-right: 1em; text-align: center\">sqft_lot</th>\n",
              "        <th style=\"padding-left: 1em; padding-right: 1em; text-align: center\">floors</th>\n",
              "        <th style=\"padding-left: 1em; padding-right: 1em; text-align: center\">waterfront</th>\n",
              "    </tr>\n",
              "    <tr>\n",
              "        <td style=\"padding-left: 1em; padding-right: 1em; text-align: center; vertical-align: top\">7129300520</td>\n",
              "        <td style=\"padding-left: 1em; padding-right: 1em; text-align: center; vertical-align: top\">2014-10-13 00:00:00+00:00</td>\n",
              "        <td style=\"padding-left: 1em; padding-right: 1em; text-align: center; vertical-align: top\">221900.0</td>\n",
              "        <td style=\"padding-left: 1em; padding-right: 1em; text-align: center; vertical-align: top\">3.0</td>\n",
              "        <td style=\"padding-left: 1em; padding-right: 1em; text-align: center; vertical-align: top\">1.0</td>\n",
              "        <td style=\"padding-left: 1em; padding-right: 1em; text-align: center; vertical-align: top\">1180.0</td>\n",
              "        <td style=\"padding-left: 1em; padding-right: 1em; text-align: center; vertical-align: top\">5650.0</td>\n",
              "        <td style=\"padding-left: 1em; padding-right: 1em; text-align: center; vertical-align: top\">1.0</td>\n",
              "        <td style=\"padding-left: 1em; padding-right: 1em; text-align: center; vertical-align: top\">0</td>\n",
              "    </tr>\n",
              "    <tr>\n",
              "        <td style=\"padding-left: 1em; padding-right: 1em; text-align: center; vertical-align: top\">6414100192</td>\n",
              "        <td style=\"padding-left: 1em; padding-right: 1em; text-align: center; vertical-align: top\">2014-12-09 00:00:00+00:00</td>\n",
              "        <td style=\"padding-left: 1em; padding-right: 1em; text-align: center; vertical-align: top\">538000.0</td>\n",
              "        <td style=\"padding-left: 1em; padding-right: 1em; text-align: center; vertical-align: top\">3.0</td>\n",
              "        <td style=\"padding-left: 1em; padding-right: 1em; text-align: center; vertical-align: top\">2.25</td>\n",
              "        <td style=\"padding-left: 1em; padding-right: 1em; text-align: center; vertical-align: top\">2570.0</td>\n",
              "        <td style=\"padding-left: 1em; padding-right: 1em; text-align: center; vertical-align: top\">7242.0</td>\n",
              "        <td style=\"padding-left: 1em; padding-right: 1em; text-align: center; vertical-align: top\">2.0</td>\n",
              "        <td style=\"padding-left: 1em; padding-right: 1em; text-align: center; vertical-align: top\">0</td>\n",
              "    </tr>\n",
              "    <tr>\n",
              "        <td style=\"padding-left: 1em; padding-right: 1em; text-align: center; vertical-align: top\">5631500400</td>\n",
              "        <td style=\"padding-left: 1em; padding-right: 1em; text-align: center; vertical-align: top\">2015-02-25 00:00:00+00:00</td>\n",
              "        <td style=\"padding-left: 1em; padding-right: 1em; text-align: center; vertical-align: top\">180000.0</td>\n",
              "        <td style=\"padding-left: 1em; padding-right: 1em; text-align: center; vertical-align: top\">2.0</td>\n",
              "        <td style=\"padding-left: 1em; padding-right: 1em; text-align: center; vertical-align: top\">1.0</td>\n",
              "        <td style=\"padding-left: 1em; padding-right: 1em; text-align: center; vertical-align: top\">770.0</td>\n",
              "        <td style=\"padding-left: 1em; padding-right: 1em; text-align: center; vertical-align: top\">10000.0</td>\n",
              "        <td style=\"padding-left: 1em; padding-right: 1em; text-align: center; vertical-align: top\">1.0</td>\n",
              "        <td style=\"padding-left: 1em; padding-right: 1em; text-align: center; vertical-align: top\">0</td>\n",
              "    </tr>\n",
              "</table>\n",
              "<table frame=\"box\" rules=\"cols\">\n",
              "    <tr>\n",
              "        <th style=\"padding-left: 1em; padding-right: 1em; text-align: center\">view</th>\n",
              "        <th style=\"padding-left: 1em; padding-right: 1em; text-align: center\">condition</th>\n",
              "        <th style=\"padding-left: 1em; padding-right: 1em; text-align: center\">grade</th>\n",
              "        <th style=\"padding-left: 1em; padding-right: 1em; text-align: center\">sqft_above</th>\n",
              "        <th style=\"padding-left: 1em; padding-right: 1em; text-align: center\">sqft_basement</th>\n",
              "        <th style=\"padding-left: 1em; padding-right: 1em; text-align: center\">yr_built</th>\n",
              "        <th style=\"padding-left: 1em; padding-right: 1em; text-align: center\">yr_renovated</th>\n",
              "        <th style=\"padding-left: 1em; padding-right: 1em; text-align: center\">zipcode</th>\n",
              "        <th style=\"padding-left: 1em; padding-right: 1em; text-align: center\">lat</th>\n",
              "    </tr>\n",
              "    <tr>\n",
              "        <td style=\"padding-left: 1em; padding-right: 1em; text-align: center; vertical-align: top\">0</td>\n",
              "        <td style=\"padding-left: 1em; padding-right: 1em; text-align: center; vertical-align: top\">3</td>\n",
              "        <td style=\"padding-left: 1em; padding-right: 1em; text-align: center; vertical-align: top\">7.0</td>\n",
              "        <td style=\"padding-left: 1em; padding-right: 1em; text-align: center; vertical-align: top\">1180.0</td>\n",
              "        <td style=\"padding-left: 1em; padding-right: 1em; text-align: center; vertical-align: top\">0.0</td>\n",
              "        <td style=\"padding-left: 1em; padding-right: 1em; text-align: center; vertical-align: top\">1955.0</td>\n",
              "        <td style=\"padding-left: 1em; padding-right: 1em; text-align: center; vertical-align: top\">0.0</td>\n",
              "        <td style=\"padding-left: 1em; padding-right: 1em; text-align: center; vertical-align: top\">98178</td>\n",
              "        <td style=\"padding-left: 1em; padding-right: 1em; text-align: center; vertical-align: top\">47.51123398</td>\n",
              "    </tr>\n",
              "    <tr>\n",
              "        <td style=\"padding-left: 1em; padding-right: 1em; text-align: center; vertical-align: top\">0</td>\n",
              "        <td style=\"padding-left: 1em; padding-right: 1em; text-align: center; vertical-align: top\">3</td>\n",
              "        <td style=\"padding-left: 1em; padding-right: 1em; text-align: center; vertical-align: top\">7.0</td>\n",
              "        <td style=\"padding-left: 1em; padding-right: 1em; text-align: center; vertical-align: top\">2170.0</td>\n",
              "        <td style=\"padding-left: 1em; padding-right: 1em; text-align: center; vertical-align: top\">400.0</td>\n",
              "        <td style=\"padding-left: 1em; padding-right: 1em; text-align: center; vertical-align: top\">1951.0</td>\n",
              "        <td style=\"padding-left: 1em; padding-right: 1em; text-align: center; vertical-align: top\">1991.0</td>\n",
              "        <td style=\"padding-left: 1em; padding-right: 1em; text-align: center; vertical-align: top\">98125</td>\n",
              "        <td style=\"padding-left: 1em; padding-right: 1em; text-align: center; vertical-align: top\">47.72102274</td>\n",
              "    </tr>\n",
              "    <tr>\n",
              "        <td style=\"padding-left: 1em; padding-right: 1em; text-align: center; vertical-align: top\">0</td>\n",
              "        <td style=\"padding-left: 1em; padding-right: 1em; text-align: center; vertical-align: top\">3</td>\n",
              "        <td style=\"padding-left: 1em; padding-right: 1em; text-align: center; vertical-align: top\">6.0</td>\n",
              "        <td style=\"padding-left: 1em; padding-right: 1em; text-align: center; vertical-align: top\">770.0</td>\n",
              "        <td style=\"padding-left: 1em; padding-right: 1em; text-align: center; vertical-align: top\">0.0</td>\n",
              "        <td style=\"padding-left: 1em; padding-right: 1em; text-align: center; vertical-align: top\">1933.0</td>\n",
              "        <td style=\"padding-left: 1em; padding-right: 1em; text-align: center; vertical-align: top\">0.0</td>\n",
              "        <td style=\"padding-left: 1em; padding-right: 1em; text-align: center; vertical-align: top\">98028</td>\n",
              "        <td style=\"padding-left: 1em; padding-right: 1em; text-align: center; vertical-align: top\">47.73792661</td>\n",
              "    </tr>\n",
              "</table>\n",
              "<table frame=\"box\" rules=\"cols\">\n",
              "    <tr>\n",
              "        <th style=\"padding-left: 1em; padding-right: 1em; text-align: center\">long</th>\n",
              "        <th style=\"padding-left: 1em; padding-right: 1em; text-align: center\">sqft_living15</th>\n",
              "        <th style=\"padding-left: 1em; padding-right: 1em; text-align: center\">sqft_lot15</th>\n",
              "    </tr>\n",
              "    <tr>\n",
              "        <td style=\"padding-left: 1em; padding-right: 1em; text-align: center; vertical-align: top\">-122.25677536</td>\n",
              "        <td style=\"padding-left: 1em; padding-right: 1em; text-align: center; vertical-align: top\">1340.0</td>\n",
              "        <td style=\"padding-left: 1em; padding-right: 1em; text-align: center; vertical-align: top\">5650.0</td>\n",
              "    </tr>\n",
              "    <tr>\n",
              "        <td style=\"padding-left: 1em; padding-right: 1em; text-align: center; vertical-align: top\">-122.3188624</td>\n",
              "        <td style=\"padding-left: 1em; padding-right: 1em; text-align: center; vertical-align: top\">1690.0</td>\n",
              "        <td style=\"padding-left: 1em; padding-right: 1em; text-align: center; vertical-align: top\">7639.0</td>\n",
              "    </tr>\n",
              "    <tr>\n",
              "        <td style=\"padding-left: 1em; padding-right: 1em; text-align: center; vertical-align: top\">-122.23319601</td>\n",
              "        <td style=\"padding-left: 1em; padding-right: 1em; text-align: center; vertical-align: top\">2720.0</td>\n",
              "        <td style=\"padding-left: 1em; padding-right: 1em; text-align: center; vertical-align: top\">8062.0</td>\n",
              "    </tr>\n",
              "</table>\n",
              "[3 rows x 21 columns]<br/>\n",
              "</div>"
            ]
          },
          "metadata": {},
          "execution_count": 7
        }
      ],
      "source": [
        "sf.head(3)"
      ]
    },
    {
      "cell_type": "code",
      "source": [
        "sf.shape"
      ],
      "metadata": {
        "colab": {
          "base_uri": "https://localhost:8080/"
        },
        "id": "k-1-wLNAzzAc",
        "outputId": "04f623a1-a506-4d8a-bc25-f62ae241289f"
      },
      "execution_count": 9,
      "outputs": [
        {
          "output_type": "execute_result",
          "data": {
            "text/plain": [
              "(21613, 21)"
            ]
          },
          "metadata": {},
          "execution_count": 9
        }
      ]
    },
    {
      "cell_type": "markdown",
      "source": [
        "# **Regression Model**"
      ],
      "metadata": {
        "id": "FzHoWax8x7jc"
      }
    },
    {
      "cell_type": "code",
      "source": [
        "train_data,test_data = sf.random_split(.8,seed=0)"
      ],
      "metadata": {
        "id": "IXgI9Bg-qmJ2"
      },
      "execution_count": 10,
      "outputs": []
    },
    {
      "cell_type": "code",
      "source": [
        "example_features = ['sqft_living', 'bedrooms', 'bathrooms']\n",
        "example_model = turicreate.linear_regression.create(train_data, target = 'price', features = example_features, \n",
        "                                                    validation_set = None)"
      ],
      "metadata": {
        "colab": {
          "base_uri": "https://localhost:8080/",
          "height": 260
        },
        "id": "1Xt23TtFq7OY",
        "outputId": "1402913d-9fbf-44d1-b893-16efa85e74f4"
      },
      "execution_count": 11,
      "outputs": [
        {
          "output_type": "display_data",
          "data": {
            "text/plain": [
              "Linear regression:"
            ],
            "text/html": [
              "<pre>Linear regression:</pre>"
            ]
          },
          "metadata": {}
        },
        {
          "output_type": "display_data",
          "data": {
            "text/plain": [
              "--------------------------------------------------------"
            ],
            "text/html": [
              "<pre>--------------------------------------------------------</pre>"
            ]
          },
          "metadata": {}
        },
        {
          "output_type": "display_data",
          "data": {
            "text/plain": [
              "Number of examples          : 17384"
            ],
            "text/html": [
              "<pre>Number of examples          : 17384</pre>"
            ]
          },
          "metadata": {}
        },
        {
          "output_type": "display_data",
          "data": {
            "text/plain": [
              "Number of features          : 3"
            ],
            "text/html": [
              "<pre>Number of features          : 3</pre>"
            ]
          },
          "metadata": {}
        },
        {
          "output_type": "display_data",
          "data": {
            "text/plain": [
              "Number of unpacked features : 3"
            ],
            "text/html": [
              "<pre>Number of unpacked features : 3</pre>"
            ]
          },
          "metadata": {}
        },
        {
          "output_type": "display_data",
          "data": {
            "text/plain": [
              "Number of coefficients    : 4"
            ],
            "text/html": [
              "<pre>Number of coefficients    : 4</pre>"
            ]
          },
          "metadata": {}
        },
        {
          "output_type": "display_data",
          "data": {
            "text/plain": [
              "Starting Newton Method"
            ],
            "text/html": [
              "<pre>Starting Newton Method</pre>"
            ]
          },
          "metadata": {}
        },
        {
          "output_type": "display_data",
          "data": {
            "text/plain": [
              "--------------------------------------------------------"
            ],
            "text/html": [
              "<pre>--------------------------------------------------------</pre>"
            ]
          },
          "metadata": {}
        },
        {
          "output_type": "display_data",
          "data": {
            "text/plain": [
              "+-----------+----------+--------------+--------------------+---------------------------------+"
            ],
            "text/html": [
              "<pre>+-----------+----------+--------------+--------------------+---------------------------------+</pre>"
            ]
          },
          "metadata": {}
        },
        {
          "output_type": "display_data",
          "data": {
            "text/plain": [
              "| Iteration | Passes   | Elapsed Time | Training Max Error | Training Root-Mean-Square Error |"
            ],
            "text/html": [
              "<pre>| Iteration | Passes   | Elapsed Time | Training Max Error | Training Root-Mean-Square Error |</pre>"
            ]
          },
          "metadata": {}
        },
        {
          "output_type": "display_data",
          "data": {
            "text/plain": [
              "+-----------+----------+--------------+--------------------+---------------------------------+"
            ],
            "text/html": [
              "<pre>+-----------+----------+--------------+--------------------+---------------------------------+</pre>"
            ]
          },
          "metadata": {}
        },
        {
          "output_type": "display_data",
          "data": {
            "text/plain": [
              "| 1         | 2        | 1.010862     | 4146407.600631     | 258679.804477                   |"
            ],
            "text/html": [
              "<pre>| 1         | 2        | 1.010862     | 4146407.600631     | 258679.804477                   |</pre>"
            ]
          },
          "metadata": {}
        },
        {
          "output_type": "display_data",
          "data": {
            "text/plain": [
              "+-----------+----------+--------------+--------------------+---------------------------------+"
            ],
            "text/html": [
              "<pre>+-----------+----------+--------------+--------------------+---------------------------------+</pre>"
            ]
          },
          "metadata": {}
        },
        {
          "output_type": "display_data",
          "data": {
            "text/plain": [
              "SUCCESS: Optimal solution found."
            ],
            "text/html": [
              "<pre>SUCCESS: Optimal solution found.</pre>"
            ]
          },
          "metadata": {}
        },
        {
          "output_type": "display_data",
          "data": {
            "text/plain": [
              ""
            ],
            "text/html": [
              "<pre></pre>"
            ]
          },
          "metadata": {}
        }
      ]
    },
    {
      "cell_type": "code",
      "source": [
        "example_weight_summary = example_model.coefficients\n",
        "print(example_weight_summary)"
      ],
      "metadata": {
        "colab": {
          "base_uri": "https://localhost:8080/"
        },
        "id": "S3DbHKMnrHos",
        "outputId": "328f3141-8cd4-4368-8b11-e782a0d166c0"
      },
      "execution_count": 12,
      "outputs": [
        {
          "output_type": "stream",
          "name": "stdout",
          "text": [
            "+-------------+-------+--------------------+--------------------+\n",
            "|     name    | index |       value        |       stderr       |\n",
            "+-------------+-------+--------------------+--------------------+\n",
            "| (intercept) |  None | 87910.07249239809  | 7873.338143401673  |\n",
            "| sqft_living |  None |   315.4034405521   | 3.455700325854743  |\n",
            "|   bedrooms  |  None | -65080.21555282686 | 2717.456854420703  |\n",
            "|  bathrooms  |  None | 6944.020192636717  | 3923.1149314414993 |\n",
            "+-------------+-------+--------------------+--------------------+\n",
            "[4 rows x 4 columns]\n",
            "\n"
          ]
        }
      ]
    },
    {
      "cell_type": "markdown",
      "source": [
        "# **Making Predictions**"
      ],
      "metadata": {
        "id": "xGFk4H40-KwM"
      }
    },
    {
      "cell_type": "code",
      "source": [
        "example_predictions = example_model.predict(train_data)\n",
        "print(example_predictions[0]) # should be 271789.505878"
      ],
      "metadata": {
        "colab": {
          "base_uri": "https://localhost:8080/"
        },
        "id": "PF2nEEgO-KJW",
        "outputId": "12ea6150-bfe2-4d95-873d-6e947f46b613"
      },
      "execution_count": 13,
      "outputs": [
        {
          "output_type": "stream",
          "name": "stdout",
          "text": [
            "271789.5058780322\n"
          ]
        }
      ]
    },
    {
      "cell_type": "code",
      "source": [
        "def get_residual_sum_of_squares(model, data, outcome):\n",
        "    # First get the predictions\n",
        "    predictions = model.predict(data)\n",
        "    residual = outcome - predictions\n",
        "    RSS = sum(residual * residual)\n",
        "    # Then square and add them up\n",
        "    return(RSS)    "
      ],
      "metadata": {
        "id": "r7w4B5NY-UuZ"
      },
      "execution_count": 14,
      "outputs": []
    },
    {
      "cell_type": "code",
      "source": [
        "rss_example_train = get_residual_sum_of_squares(example_model, test_data, test_data['price'])\n",
        "print(rss_example_train) # should be 2.7376153833e+14"
      ],
      "metadata": {
        "colab": {
          "base_uri": "https://localhost:8080/"
        },
        "id": "ip2C31Dn-m7x",
        "outputId": "6f97dbc5-1cf5-44d7-96be-77159bf7328b"
      },
      "execution_count": 15,
      "outputs": [
        {
          "output_type": "stream",
          "name": "stdout",
          "text": [
            "273761538330192.28\n"
          ]
        }
      ]
    },
    {
      "cell_type": "markdown",
      "source": [
        "# **Some new features**\n"
      ],
      "metadata": {
        "id": "ChVNiJ7N-wqe"
      }
    },
    {
      "cell_type": "code",
      "source": [
        "from math import log\n",
        "train_data['bedrooms_squared'] = train_data['bedrooms'].apply(lambda x: x**2)\n",
        "test_data['bedrooms_squared'] = test_data['bedrooms'].apply(lambda x: x**2)"
      ],
      "metadata": {
        "id": "bXSHd5de-11n"
      },
      "execution_count": 16,
      "outputs": []
    },
    {
      "cell_type": "code",
      "source": [
        "# create the remaining 3 features in both TEST and TRAIN data\n",
        "train_data['bed_bath_rooms'] = train_data['bedrooms']*train_data['bathrooms']\n",
        "test_data['bed_bath_rooms'] = test_data['bedrooms']*test_data['bathrooms']\n",
        "train_data['log_sqft_living'] = train_data['sqft_living'].apply(lambda x: log(x))\n",
        "test_data['log_sqft_living'] = test_data['sqft_living'].apply(lambda x: log(x))\n",
        "train_data['lat_plus_long'] = train_data['lat'] + train_data['long']\n",
        "test_data['lat_plus_long'] = test_data['lat'] + test_data['long']"
      ],
      "metadata": {
        "id": "xbhATu_B-70j"
      },
      "execution_count": 17,
      "outputs": []
    },
    {
      "cell_type": "code",
      "source": [
        "print('bedrooms_squared _ ' + str(round(sum(test_data['bedrooms_squared'])/len(test_data['bedrooms_squared']),2)))\n",
        "print('bed_bath_rooms _ ' + str(round(sum(test_data['bed_bath_rooms'])/len(test_data['bed_bath_rooms']),2)))\n",
        "print('log_sqft_living _ ' + str(round(sum(test_data['log_sqft_living'])/len(test_data['log_sqft_living']),2)))\n",
        "print('lat_plus_long _ ' + str(round(sum(test_data['lat_plus_long'])/len(test_data['lat_plus_long']),2)))"
      ],
      "metadata": {
        "colab": {
          "base_uri": "https://localhost:8080/"
        },
        "id": "AECJDAoCHny7",
        "outputId": "d5e8f142-ba1b-4240-e806-90fde408f9db"
      },
      "execution_count": 18,
      "outputs": [
        {
          "output_type": "stream",
          "name": "stdout",
          "text": [
            "bedrooms_squared _ 12.45\n",
            "bed_bath_rooms _ 7.5\n",
            "log_sqft_living _ 7.55\n",
            "lat_plus_long _ -74.65\n"
          ]
        }
      ]
    },
    {
      "cell_type": "markdown",
      "source": [
        "# Learning Multiple Models"
      ],
      "metadata": {
        "id": "aTVXGfF-a_pK"
      }
    },
    {
      "cell_type": "code",
      "source": [
        "model_1_features = ['sqft_living', 'bedrooms', 'bathrooms', 'lat', 'long']\n",
        "model_2_features = model_1_features + ['bed_bath_rooms']\n",
        "model_3_features = model_2_features + ['bedrooms_squared', 'log_sqft_living', 'lat_plus_long']"
      ],
      "metadata": {
        "id": "rhofib9eIzyu"
      },
      "execution_count": 19,
      "outputs": []
    },
    {
      "cell_type": "code",
      "source": [
        "# Learn the three models: (don't forget to set validation_set = None)\n",
        "model_1 = turicreate.linear_regression.create(train_data, target = 'price', features = model_1_features, \n",
        "                                                  validation_set = None)\n",
        "model_2 = turicreate.linear_regression.create(train_data, target = 'price', features = model_2_features, \n",
        "                                                  validation_set = None)\n",
        "model_3 = turicreate.linear_regression.create(train_data, target = 'price', features = model_3_features, \n",
        "                                                  validation_set = None)"
      ],
      "metadata": {
        "colab": {
          "base_uri": "https://localhost:8080/",
          "height": 798
        },
        "id": "sFDsf-NLbInF",
        "outputId": "827d251d-bab6-417d-a16d-c8ff146ee187"
      },
      "execution_count": 21,
      "outputs": [
        {
          "output_type": "display_data",
          "data": {
            "text/plain": [
              "Linear regression:"
            ],
            "text/html": [
              "<pre>Linear regression:</pre>"
            ]
          },
          "metadata": {}
        },
        {
          "output_type": "display_data",
          "data": {
            "text/plain": [
              "--------------------------------------------------------"
            ],
            "text/html": [
              "<pre>--------------------------------------------------------</pre>"
            ]
          },
          "metadata": {}
        },
        {
          "output_type": "display_data",
          "data": {
            "text/plain": [
              "Number of examples          : 17384"
            ],
            "text/html": [
              "<pre>Number of examples          : 17384</pre>"
            ]
          },
          "metadata": {}
        },
        {
          "output_type": "display_data",
          "data": {
            "text/plain": [
              "Number of features          : 5"
            ],
            "text/html": [
              "<pre>Number of features          : 5</pre>"
            ]
          },
          "metadata": {}
        },
        {
          "output_type": "display_data",
          "data": {
            "text/plain": [
              "Number of unpacked features : 5"
            ],
            "text/html": [
              "<pre>Number of unpacked features : 5</pre>"
            ]
          },
          "metadata": {}
        },
        {
          "output_type": "display_data",
          "data": {
            "text/plain": [
              "Number of coefficients    : 6"
            ],
            "text/html": [
              "<pre>Number of coefficients    : 6</pre>"
            ]
          },
          "metadata": {}
        },
        {
          "output_type": "display_data",
          "data": {
            "text/plain": [
              "Starting Newton Method"
            ],
            "text/html": [
              "<pre>Starting Newton Method</pre>"
            ]
          },
          "metadata": {}
        },
        {
          "output_type": "display_data",
          "data": {
            "text/plain": [
              "--------------------------------------------------------"
            ],
            "text/html": [
              "<pre>--------------------------------------------------------</pre>"
            ]
          },
          "metadata": {}
        },
        {
          "output_type": "display_data",
          "data": {
            "text/plain": [
              "+-----------+----------+--------------+--------------------+---------------------------------+"
            ],
            "text/html": [
              "<pre>+-----------+----------+--------------+--------------------+---------------------------------+</pre>"
            ]
          },
          "metadata": {}
        },
        {
          "output_type": "display_data",
          "data": {
            "text/plain": [
              "| Iteration | Passes   | Elapsed Time | Training Max Error | Training Root-Mean-Square Error |"
            ],
            "text/html": [
              "<pre>| Iteration | Passes   | Elapsed Time | Training Max Error | Training Root-Mean-Square Error |</pre>"
            ]
          },
          "metadata": {}
        },
        {
          "output_type": "display_data",
          "data": {
            "text/plain": [
              "+-----------+----------+--------------+--------------------+---------------------------------+"
            ],
            "text/html": [
              "<pre>+-----------+----------+--------------+--------------------+---------------------------------+</pre>"
            ]
          },
          "metadata": {}
        },
        {
          "output_type": "display_data",
          "data": {
            "text/plain": [
              "| 1         | 2        | 0.019403     | 4074878.213103     | 236378.596455                   |"
            ],
            "text/html": [
              "<pre>| 1         | 2        | 0.019403     | 4074878.213103     | 236378.596455                   |</pre>"
            ]
          },
          "metadata": {}
        },
        {
          "output_type": "display_data",
          "data": {
            "text/plain": [
              "| 2         | 3        | 0.041958     | 4074878.213108     | 236378.596455                   |"
            ],
            "text/html": [
              "<pre>| 2         | 3        | 0.041958     | 4074878.213108     | 236378.596455                   |</pre>"
            ]
          },
          "metadata": {}
        },
        {
          "output_type": "display_data",
          "data": {
            "text/plain": [
              "+-----------+----------+--------------+--------------------+---------------------------------+"
            ],
            "text/html": [
              "<pre>+-----------+----------+--------------+--------------------+---------------------------------+</pre>"
            ]
          },
          "metadata": {}
        },
        {
          "output_type": "display_data",
          "data": {
            "text/plain": [
              "SUCCESS: Optimal solution found."
            ],
            "text/html": [
              "<pre>SUCCESS: Optimal solution found.</pre>"
            ]
          },
          "metadata": {}
        },
        {
          "output_type": "display_data",
          "data": {
            "text/plain": [
              ""
            ],
            "text/html": [
              "<pre></pre>"
            ]
          },
          "metadata": {}
        },
        {
          "output_type": "display_data",
          "data": {
            "text/plain": [
              "Linear regression:"
            ],
            "text/html": [
              "<pre>Linear regression:</pre>"
            ]
          },
          "metadata": {}
        },
        {
          "output_type": "display_data",
          "data": {
            "text/plain": [
              "--------------------------------------------------------"
            ],
            "text/html": [
              "<pre>--------------------------------------------------------</pre>"
            ]
          },
          "metadata": {}
        },
        {
          "output_type": "display_data",
          "data": {
            "text/plain": [
              "Number of examples          : 17384"
            ],
            "text/html": [
              "<pre>Number of examples          : 17384</pre>"
            ]
          },
          "metadata": {}
        },
        {
          "output_type": "display_data",
          "data": {
            "text/plain": [
              "Number of features          : 6"
            ],
            "text/html": [
              "<pre>Number of features          : 6</pre>"
            ]
          },
          "metadata": {}
        },
        {
          "output_type": "display_data",
          "data": {
            "text/plain": [
              "Number of unpacked features : 6"
            ],
            "text/html": [
              "<pre>Number of unpacked features : 6</pre>"
            ]
          },
          "metadata": {}
        },
        {
          "output_type": "display_data",
          "data": {
            "text/plain": [
              "Number of coefficients    : 7"
            ],
            "text/html": [
              "<pre>Number of coefficients    : 7</pre>"
            ]
          },
          "metadata": {}
        },
        {
          "output_type": "display_data",
          "data": {
            "text/plain": [
              "Starting Newton Method"
            ],
            "text/html": [
              "<pre>Starting Newton Method</pre>"
            ]
          },
          "metadata": {}
        },
        {
          "output_type": "display_data",
          "data": {
            "text/plain": [
              "--------------------------------------------------------"
            ],
            "text/html": [
              "<pre>--------------------------------------------------------</pre>"
            ]
          },
          "metadata": {}
        },
        {
          "output_type": "display_data",
          "data": {
            "text/plain": [
              "+-----------+----------+--------------+--------------------+---------------------------------+"
            ],
            "text/html": [
              "<pre>+-----------+----------+--------------+--------------------+---------------------------------+</pre>"
            ]
          },
          "metadata": {}
        },
        {
          "output_type": "display_data",
          "data": {
            "text/plain": [
              "| Iteration | Passes   | Elapsed Time | Training Max Error | Training Root-Mean-Square Error |"
            ],
            "text/html": [
              "<pre>| Iteration | Passes   | Elapsed Time | Training Max Error | Training Root-Mean-Square Error |</pre>"
            ]
          },
          "metadata": {}
        },
        {
          "output_type": "display_data",
          "data": {
            "text/plain": [
              "+-----------+----------+--------------+--------------------+---------------------------------+"
            ],
            "text/html": [
              "<pre>+-----------+----------+--------------+--------------------+---------------------------------+</pre>"
            ]
          },
          "metadata": {}
        },
        {
          "output_type": "display_data",
          "data": {
            "text/plain": [
              "| 1         | 2        | 0.037678     | 4014170.932940     | 235190.935428                   |"
            ],
            "text/html": [
              "<pre>| 1         | 2        | 0.037678     | 4014170.932940     | 235190.935428                   |</pre>"
            ]
          },
          "metadata": {}
        },
        {
          "output_type": "display_data",
          "data": {
            "text/plain": [
              "| 2         | 3        | 0.070070     | 4014170.932936     | 235190.935429                   |"
            ],
            "text/html": [
              "<pre>| 2         | 3        | 0.070070     | 4014170.932936     | 235190.935429                   |</pre>"
            ]
          },
          "metadata": {}
        },
        {
          "output_type": "display_data",
          "data": {
            "text/plain": [
              "+-----------+----------+--------------+--------------------+---------------------------------+"
            ],
            "text/html": [
              "<pre>+-----------+----------+--------------+--------------------+---------------------------------+</pre>"
            ]
          },
          "metadata": {}
        },
        {
          "output_type": "display_data",
          "data": {
            "text/plain": [
              "SUCCESS: Optimal solution found."
            ],
            "text/html": [
              "<pre>SUCCESS: Optimal solution found.</pre>"
            ]
          },
          "metadata": {}
        },
        {
          "output_type": "display_data",
          "data": {
            "text/plain": [
              ""
            ],
            "text/html": [
              "<pre></pre>"
            ]
          },
          "metadata": {}
        },
        {
          "output_type": "display_data",
          "data": {
            "text/plain": [
              "Linear regression:"
            ],
            "text/html": [
              "<pre>Linear regression:</pre>"
            ]
          },
          "metadata": {}
        },
        {
          "output_type": "display_data",
          "data": {
            "text/plain": [
              "--------------------------------------------------------"
            ],
            "text/html": [
              "<pre>--------------------------------------------------------</pre>"
            ]
          },
          "metadata": {}
        },
        {
          "output_type": "display_data",
          "data": {
            "text/plain": [
              "Number of examples          : 17384"
            ],
            "text/html": [
              "<pre>Number of examples          : 17384</pre>"
            ]
          },
          "metadata": {}
        },
        {
          "output_type": "display_data",
          "data": {
            "text/plain": [
              "Number of features          : 9"
            ],
            "text/html": [
              "<pre>Number of features          : 9</pre>"
            ]
          },
          "metadata": {}
        },
        {
          "output_type": "display_data",
          "data": {
            "text/plain": [
              "Number of unpacked features : 9"
            ],
            "text/html": [
              "<pre>Number of unpacked features : 9</pre>"
            ]
          },
          "metadata": {}
        },
        {
          "output_type": "display_data",
          "data": {
            "text/plain": [
              "Number of coefficients    : 10"
            ],
            "text/html": [
              "<pre>Number of coefficients    : 10</pre>"
            ]
          },
          "metadata": {}
        },
        {
          "output_type": "display_data",
          "data": {
            "text/plain": [
              "Starting Newton Method"
            ],
            "text/html": [
              "<pre>Starting Newton Method</pre>"
            ]
          },
          "metadata": {}
        },
        {
          "output_type": "display_data",
          "data": {
            "text/plain": [
              "--------------------------------------------------------"
            ],
            "text/html": [
              "<pre>--------------------------------------------------------</pre>"
            ]
          },
          "metadata": {}
        },
        {
          "output_type": "display_data",
          "data": {
            "text/plain": [
              "+-----------+----------+--------------+--------------------+---------------------------------+"
            ],
            "text/html": [
              "<pre>+-----------+----------+--------------+--------------------+---------------------------------+</pre>"
            ]
          },
          "metadata": {}
        },
        {
          "output_type": "display_data",
          "data": {
            "text/plain": [
              "| Iteration | Passes   | Elapsed Time | Training Max Error | Training Root-Mean-Square Error |"
            ],
            "text/html": [
              "<pre>| Iteration | Passes   | Elapsed Time | Training Max Error | Training Root-Mean-Square Error |</pre>"
            ]
          },
          "metadata": {}
        },
        {
          "output_type": "display_data",
          "data": {
            "text/plain": [
              "+-----------+----------+--------------+--------------------+---------------------------------+"
            ],
            "text/html": [
              "<pre>+-----------+----------+--------------+--------------------+---------------------------------+</pre>"
            ]
          },
          "metadata": {}
        },
        {
          "output_type": "display_data",
          "data": {
            "text/plain": [
              "| 1         | 2        | 0.032392     | 3193229.177888     | 228200.043155                   |"
            ],
            "text/html": [
              "<pre>| 1         | 2        | 0.032392     | 3193229.177888     | 228200.043155                   |</pre>"
            ]
          },
          "metadata": {}
        },
        {
          "output_type": "display_data",
          "data": {
            "text/plain": [
              "| 2         | 3        | 0.065561     | 3193229.177873     | 228200.043155                   |"
            ],
            "text/html": [
              "<pre>| 2         | 3        | 0.065561     | 3193229.177873     | 228200.043155                   |</pre>"
            ]
          },
          "metadata": {}
        },
        {
          "output_type": "display_data",
          "data": {
            "text/plain": [
              "+-----------+----------+--------------+--------------------+---------------------------------+"
            ],
            "text/html": [
              "<pre>+-----------+----------+--------------+--------------------+---------------------------------+</pre>"
            ]
          },
          "metadata": {}
        },
        {
          "output_type": "display_data",
          "data": {
            "text/plain": [
              "SUCCESS: Optimal solution found."
            ],
            "text/html": [
              "<pre>SUCCESS: Optimal solution found.</pre>"
            ]
          },
          "metadata": {}
        },
        {
          "output_type": "display_data",
          "data": {
            "text/plain": [
              ""
            ],
            "text/html": [
              "<pre></pre>"
            ]
          },
          "metadata": {}
        }
      ]
    },
    {
      "cell_type": "code",
      "source": [
        "print('model 1')\n",
        "model_1.coefficients"
      ],
      "metadata": {
        "colab": {
          "base_uri": "https://localhost:8080/",
          "height": 189
        },
        "id": "YmA6EfpHbWYs",
        "outputId": "205a40bf-ae9d-41f5-d84f-5464004e9c64"
      },
      "execution_count": 23,
      "outputs": [
        {
          "output_type": "stream",
          "name": "stdout",
          "text": [
            "model 1\n"
          ]
        },
        {
          "output_type": "execute_result",
          "data": {
            "text/plain": [
              "Columns:\n",
              "\tname\tstr\n",
              "\tindex\tstr\n",
              "\tvalue\tfloat\n",
              "\tstderr\tfloat\n",
              "\n",
              "Rows: 6\n",
              "\n",
              "Data:\n",
              "+-------------+-------+---------------------+--------------------+\n",
              "|     name    | index |        value        |       stderr       |\n",
              "+-------------+-------+---------------------+--------------------+\n",
              "| (intercept) |  None | -56140675.741145164 | 1649985.420232753  |\n",
              "| sqft_living |  None |  310.26332577692176 | 3.188829604072599  |\n",
              "|   bedrooms  |  None |  -59577.11606759663 | 2487.279773224208  |\n",
              "|  bathrooms  |  None |  13811.840541653299 | 3593.5421329676874 |\n",
              "|     lat     |  None |  629865.7894714857  | 13120.71003228041  |\n",
              "|     long    |  None | -214790.28516471686 | 13284.285159947443 |\n",
              "+-------------+-------+---------------------+--------------------+\n",
              "[6 rows x 4 columns]"
            ],
            "text/html": [
              "<div style=\"max-height:1000px;max-width:1500px;overflow:auto;\"><table frame=\"box\" rules=\"cols\">\n",
              "    <tr>\n",
              "        <th style=\"padding-left: 1em; padding-right: 1em; text-align: center\">name</th>\n",
              "        <th style=\"padding-left: 1em; padding-right: 1em; text-align: center\">index</th>\n",
              "        <th style=\"padding-left: 1em; padding-right: 1em; text-align: center\">value</th>\n",
              "        <th style=\"padding-left: 1em; padding-right: 1em; text-align: center\">stderr</th>\n",
              "    </tr>\n",
              "    <tr>\n",
              "        <td style=\"padding-left: 1em; padding-right: 1em; text-align: center; vertical-align: top\">(intercept)</td>\n",
              "        <td style=\"padding-left: 1em; padding-right: 1em; text-align: center; vertical-align: top\">None</td>\n",
              "        <td style=\"padding-left: 1em; padding-right: 1em; text-align: center; vertical-align: top\">-56140675.741145164</td>\n",
              "        <td style=\"padding-left: 1em; padding-right: 1em; text-align: center; vertical-align: top\">1649985.420232753</td>\n",
              "    </tr>\n",
              "    <tr>\n",
              "        <td style=\"padding-left: 1em; padding-right: 1em; text-align: center; vertical-align: top\">sqft_living</td>\n",
              "        <td style=\"padding-left: 1em; padding-right: 1em; text-align: center; vertical-align: top\">None</td>\n",
              "        <td style=\"padding-left: 1em; padding-right: 1em; text-align: center; vertical-align: top\">310.26332577692176</td>\n",
              "        <td style=\"padding-left: 1em; padding-right: 1em; text-align: center; vertical-align: top\">3.188829604072599</td>\n",
              "    </tr>\n",
              "    <tr>\n",
              "        <td style=\"padding-left: 1em; padding-right: 1em; text-align: center; vertical-align: top\">bedrooms</td>\n",
              "        <td style=\"padding-left: 1em; padding-right: 1em; text-align: center; vertical-align: top\">None</td>\n",
              "        <td style=\"padding-left: 1em; padding-right: 1em; text-align: center; vertical-align: top\">-59577.11606759663</td>\n",
              "        <td style=\"padding-left: 1em; padding-right: 1em; text-align: center; vertical-align: top\">2487.279773224208</td>\n",
              "    </tr>\n",
              "    <tr>\n",
              "        <td style=\"padding-left: 1em; padding-right: 1em; text-align: center; vertical-align: top\">bathrooms</td>\n",
              "        <td style=\"padding-left: 1em; padding-right: 1em; text-align: center; vertical-align: top\">None</td>\n",
              "        <td style=\"padding-left: 1em; padding-right: 1em; text-align: center; vertical-align: top\">13811.840541653299</td>\n",
              "        <td style=\"padding-left: 1em; padding-right: 1em; text-align: center; vertical-align: top\">3593.5421329676874</td>\n",
              "    </tr>\n",
              "    <tr>\n",
              "        <td style=\"padding-left: 1em; padding-right: 1em; text-align: center; vertical-align: top\">lat</td>\n",
              "        <td style=\"padding-left: 1em; padding-right: 1em; text-align: center; vertical-align: top\">None</td>\n",
              "        <td style=\"padding-left: 1em; padding-right: 1em; text-align: center; vertical-align: top\">629865.7894714857</td>\n",
              "        <td style=\"padding-left: 1em; padding-right: 1em; text-align: center; vertical-align: top\">13120.71003228041</td>\n",
              "    </tr>\n",
              "    <tr>\n",
              "        <td style=\"padding-left: 1em; padding-right: 1em; text-align: center; vertical-align: top\">long</td>\n",
              "        <td style=\"padding-left: 1em; padding-right: 1em; text-align: center; vertical-align: top\">None</td>\n",
              "        <td style=\"padding-left: 1em; padding-right: 1em; text-align: center; vertical-align: top\">-214790.28516471686</td>\n",
              "        <td style=\"padding-left: 1em; padding-right: 1em; text-align: center; vertical-align: top\">13284.285159947443</td>\n",
              "    </tr>\n",
              "</table>\n",
              "[6 rows x 4 columns]<br/>\n",
              "</div>"
            ]
          },
          "metadata": {},
          "execution_count": 23
        }
      ]
    },
    {
      "cell_type": "code",
      "source": [
        "print('model 2')\n",
        "model_2.coefficients"
      ],
      "metadata": {
        "colab": {
          "base_uri": "https://localhost:8080/",
          "height": 209
        },
        "id": "FTKk2gWOblBc",
        "outputId": "9cb06018-6457-451d-f97b-2c8bf88e1695"
      },
      "execution_count": 24,
      "outputs": [
        {
          "output_type": "stream",
          "name": "stdout",
          "text": [
            "model 2\n"
          ]
        },
        {
          "output_type": "execute_result",
          "data": {
            "text/plain": [
              "Columns:\n",
              "\tname\tstr\n",
              "\tindex\tstr\n",
              "\tvalue\tfloat\n",
              "\tstderr\tfloat\n",
              "\n",
              "Rows: 7\n",
              "\n",
              "Data:\n",
              "+----------------+-------+---------------------+--------------------+\n",
              "|      name      | index |        value        |       stderr       |\n",
              "+----------------+-------+---------------------+--------------------+\n",
              "|  (intercept)   |  None |  -54410676.11184308 | 1650405.1653694494 |\n",
              "|  sqft_living   |  None |  304.44929805557945 | 3.202175356366349  |\n",
              "|    bedrooms    |  None | -116366.04322944838 | 4805.549665484017  |\n",
              "|   bathrooms    |  None |  -77972.33051298767 | 7565.059910947668  |\n",
              "|      lat       |  None |  625433.8349398111  | 13058.353097203788 |\n",
              "|      long      |  None | -203958.60293748273 | 13268.128370376078 |\n",
              "| bed_bath_rooms |  None |  26961.624908952057 | 1956.3656155583221 |\n",
              "+----------------+-------+---------------------+--------------------+\n",
              "[7 rows x 4 columns]"
            ],
            "text/html": [
              "<div style=\"max-height:1000px;max-width:1500px;overflow:auto;\"><table frame=\"box\" rules=\"cols\">\n",
              "    <tr>\n",
              "        <th style=\"padding-left: 1em; padding-right: 1em; text-align: center\">name</th>\n",
              "        <th style=\"padding-left: 1em; padding-right: 1em; text-align: center\">index</th>\n",
              "        <th style=\"padding-left: 1em; padding-right: 1em; text-align: center\">value</th>\n",
              "        <th style=\"padding-left: 1em; padding-right: 1em; text-align: center\">stderr</th>\n",
              "    </tr>\n",
              "    <tr>\n",
              "        <td style=\"padding-left: 1em; padding-right: 1em; text-align: center; vertical-align: top\">(intercept)</td>\n",
              "        <td style=\"padding-left: 1em; padding-right: 1em; text-align: center; vertical-align: top\">None</td>\n",
              "        <td style=\"padding-left: 1em; padding-right: 1em; text-align: center; vertical-align: top\">-54410676.11184308</td>\n",
              "        <td style=\"padding-left: 1em; padding-right: 1em; text-align: center; vertical-align: top\">1650405.1653694494</td>\n",
              "    </tr>\n",
              "    <tr>\n",
              "        <td style=\"padding-left: 1em; padding-right: 1em; text-align: center; vertical-align: top\">sqft_living</td>\n",
              "        <td style=\"padding-left: 1em; padding-right: 1em; text-align: center; vertical-align: top\">None</td>\n",
              "        <td style=\"padding-left: 1em; padding-right: 1em; text-align: center; vertical-align: top\">304.44929805557945</td>\n",
              "        <td style=\"padding-left: 1em; padding-right: 1em; text-align: center; vertical-align: top\">3.202175356366349</td>\n",
              "    </tr>\n",
              "    <tr>\n",
              "        <td style=\"padding-left: 1em; padding-right: 1em; text-align: center; vertical-align: top\">bedrooms</td>\n",
              "        <td style=\"padding-left: 1em; padding-right: 1em; text-align: center; vertical-align: top\">None</td>\n",
              "        <td style=\"padding-left: 1em; padding-right: 1em; text-align: center; vertical-align: top\">-116366.04322944838</td>\n",
              "        <td style=\"padding-left: 1em; padding-right: 1em; text-align: center; vertical-align: top\">4805.549665484017</td>\n",
              "    </tr>\n",
              "    <tr>\n",
              "        <td style=\"padding-left: 1em; padding-right: 1em; text-align: center; vertical-align: top\">bathrooms</td>\n",
              "        <td style=\"padding-left: 1em; padding-right: 1em; text-align: center; vertical-align: top\">None</td>\n",
              "        <td style=\"padding-left: 1em; padding-right: 1em; text-align: center; vertical-align: top\">-77972.33051298767</td>\n",
              "        <td style=\"padding-left: 1em; padding-right: 1em; text-align: center; vertical-align: top\">7565.059910947668</td>\n",
              "    </tr>\n",
              "    <tr>\n",
              "        <td style=\"padding-left: 1em; padding-right: 1em; text-align: center; vertical-align: top\">lat</td>\n",
              "        <td style=\"padding-left: 1em; padding-right: 1em; text-align: center; vertical-align: top\">None</td>\n",
              "        <td style=\"padding-left: 1em; padding-right: 1em; text-align: center; vertical-align: top\">625433.8349398111</td>\n",
              "        <td style=\"padding-left: 1em; padding-right: 1em; text-align: center; vertical-align: top\">13058.353097203788</td>\n",
              "    </tr>\n",
              "    <tr>\n",
              "        <td style=\"padding-left: 1em; padding-right: 1em; text-align: center; vertical-align: top\">long</td>\n",
              "        <td style=\"padding-left: 1em; padding-right: 1em; text-align: center; vertical-align: top\">None</td>\n",
              "        <td style=\"padding-left: 1em; padding-right: 1em; text-align: center; vertical-align: top\">-203958.60293748273</td>\n",
              "        <td style=\"padding-left: 1em; padding-right: 1em; text-align: center; vertical-align: top\">13268.128370376078</td>\n",
              "    </tr>\n",
              "    <tr>\n",
              "        <td style=\"padding-left: 1em; padding-right: 1em; text-align: center; vertical-align: top\">bed_bath_rooms</td>\n",
              "        <td style=\"padding-left: 1em; padding-right: 1em; text-align: center; vertical-align: top\">None</td>\n",
              "        <td style=\"padding-left: 1em; padding-right: 1em; text-align: center; vertical-align: top\">26961.624908952057</td>\n",
              "        <td style=\"padding-left: 1em; padding-right: 1em; text-align: center; vertical-align: top\">1956.3656155583221</td>\n",
              "    </tr>\n",
              "</table>\n",
              "[7 rows x 4 columns]<br/>\n",
              "</div>"
            ]
          },
          "metadata": {},
          "execution_count": 24
        }
      ]
    },
    {
      "cell_type": "code",
      "source": [
        "print('model 3')\n",
        "model_3.coefficients"
      ],
      "metadata": {
        "colab": {
          "base_uri": "https://localhost:8080/",
          "height": 267
        },
        "id": "4BYBjgW7bqsk",
        "outputId": "877d7855-135a-40d6-e62a-92099fa02112"
      },
      "execution_count": 25,
      "outputs": [
        {
          "output_type": "stream",
          "name": "stdout",
          "text": [
            "model 3\n"
          ]
        },
        {
          "output_type": "execute_result",
          "data": {
            "text/plain": [
              "Columns:\n",
              "\tname\tstr\n",
              "\tindex\tstr\n",
              "\tvalue\tfloat\n",
              "\tstderr\tfloat\n",
              "\n",
              "Rows: 10\n",
              "\n",
              "Data:\n",
              "+------------------+-------+---------------------+--------------------+\n",
              "|       name       | index |        value        |       stderr       |\n",
              "+------------------+-------+---------------------+--------------------+\n",
              "|   (intercept)    |  None | -52974974.068921715 | 1615194.9446730777 |\n",
              "|   sqft_living    |  None |  529.1964205687524  | 7.699134985121209  |\n",
              "|     bedrooms     |  None |   28948.5277463525  | 9395.728891147388  |\n",
              "|    bathrooms     |  None |  65661.20723969756  | 10795.338070257121 |\n",
              "|       lat        |  None |  704762.1484430789  | 787087632.0068617  |\n",
              "|       long       |  None | -137780.02000718215 |  787087632.297173  |\n",
              "|  bed_bath_rooms  |  None |  -8478.364107167637 | 2858.9539125683445 |\n",
              "| bedrooms_squared |  None | -6072.3846619051355 | 1494.9704277890871 |\n",
              "| log_sqft_living  |  None |  -563467.7842801766 | 17567.82308147047  |\n",
              "|  lat_plus_long   |  None |  -83217.19791002195 | 787087631.9888161  |\n",
              "+------------------+-------+---------------------+--------------------+\n",
              "[10 rows x 4 columns]"
            ],
            "text/html": [
              "<div style=\"max-height:1000px;max-width:1500px;overflow:auto;\"><table frame=\"box\" rules=\"cols\">\n",
              "    <tr>\n",
              "        <th style=\"padding-left: 1em; padding-right: 1em; text-align: center\">name</th>\n",
              "        <th style=\"padding-left: 1em; padding-right: 1em; text-align: center\">index</th>\n",
              "        <th style=\"padding-left: 1em; padding-right: 1em; text-align: center\">value</th>\n",
              "        <th style=\"padding-left: 1em; padding-right: 1em; text-align: center\">stderr</th>\n",
              "    </tr>\n",
              "    <tr>\n",
              "        <td style=\"padding-left: 1em; padding-right: 1em; text-align: center; vertical-align: top\">(intercept)</td>\n",
              "        <td style=\"padding-left: 1em; padding-right: 1em; text-align: center; vertical-align: top\">None</td>\n",
              "        <td style=\"padding-left: 1em; padding-right: 1em; text-align: center; vertical-align: top\">-52974974.068921715</td>\n",
              "        <td style=\"padding-left: 1em; padding-right: 1em; text-align: center; vertical-align: top\">1615194.9446730777</td>\n",
              "    </tr>\n",
              "    <tr>\n",
              "        <td style=\"padding-left: 1em; padding-right: 1em; text-align: center; vertical-align: top\">sqft_living</td>\n",
              "        <td style=\"padding-left: 1em; padding-right: 1em; text-align: center; vertical-align: top\">None</td>\n",
              "        <td style=\"padding-left: 1em; padding-right: 1em; text-align: center; vertical-align: top\">529.1964205687524</td>\n",
              "        <td style=\"padding-left: 1em; padding-right: 1em; text-align: center; vertical-align: top\">7.699134985121209</td>\n",
              "    </tr>\n",
              "    <tr>\n",
              "        <td style=\"padding-left: 1em; padding-right: 1em; text-align: center; vertical-align: top\">bedrooms</td>\n",
              "        <td style=\"padding-left: 1em; padding-right: 1em; text-align: center; vertical-align: top\">None</td>\n",
              "        <td style=\"padding-left: 1em; padding-right: 1em; text-align: center; vertical-align: top\">28948.5277463525</td>\n",
              "        <td style=\"padding-left: 1em; padding-right: 1em; text-align: center; vertical-align: top\">9395.728891147388</td>\n",
              "    </tr>\n",
              "    <tr>\n",
              "        <td style=\"padding-left: 1em; padding-right: 1em; text-align: center; vertical-align: top\">bathrooms</td>\n",
              "        <td style=\"padding-left: 1em; padding-right: 1em; text-align: center; vertical-align: top\">None</td>\n",
              "        <td style=\"padding-left: 1em; padding-right: 1em; text-align: center; vertical-align: top\">65661.20723969756</td>\n",
              "        <td style=\"padding-left: 1em; padding-right: 1em; text-align: center; vertical-align: top\">10795.338070257121</td>\n",
              "    </tr>\n",
              "    <tr>\n",
              "        <td style=\"padding-left: 1em; padding-right: 1em; text-align: center; vertical-align: top\">lat</td>\n",
              "        <td style=\"padding-left: 1em; padding-right: 1em; text-align: center; vertical-align: top\">None</td>\n",
              "        <td style=\"padding-left: 1em; padding-right: 1em; text-align: center; vertical-align: top\">704762.1484430789</td>\n",
              "        <td style=\"padding-left: 1em; padding-right: 1em; text-align: center; vertical-align: top\">787087632.0068617</td>\n",
              "    </tr>\n",
              "    <tr>\n",
              "        <td style=\"padding-left: 1em; padding-right: 1em; text-align: center; vertical-align: top\">long</td>\n",
              "        <td style=\"padding-left: 1em; padding-right: 1em; text-align: center; vertical-align: top\">None</td>\n",
              "        <td style=\"padding-left: 1em; padding-right: 1em; text-align: center; vertical-align: top\">-137780.02000718215</td>\n",
              "        <td style=\"padding-left: 1em; padding-right: 1em; text-align: center; vertical-align: top\">787087632.297173</td>\n",
              "    </tr>\n",
              "    <tr>\n",
              "        <td style=\"padding-left: 1em; padding-right: 1em; text-align: center; vertical-align: top\">bed_bath_rooms</td>\n",
              "        <td style=\"padding-left: 1em; padding-right: 1em; text-align: center; vertical-align: top\">None</td>\n",
              "        <td style=\"padding-left: 1em; padding-right: 1em; text-align: center; vertical-align: top\">-8478.364107167637</td>\n",
              "        <td style=\"padding-left: 1em; padding-right: 1em; text-align: center; vertical-align: top\">2858.9539125683445</td>\n",
              "    </tr>\n",
              "    <tr>\n",
              "        <td style=\"padding-left: 1em; padding-right: 1em; text-align: center; vertical-align: top\">bedrooms_squared</td>\n",
              "        <td style=\"padding-left: 1em; padding-right: 1em; text-align: center; vertical-align: top\">None</td>\n",
              "        <td style=\"padding-left: 1em; padding-right: 1em; text-align: center; vertical-align: top\">-6072.3846619051355</td>\n",
              "        <td style=\"padding-left: 1em; padding-right: 1em; text-align: center; vertical-align: top\">1494.9704277890871</td>\n",
              "    </tr>\n",
              "    <tr>\n",
              "        <td style=\"padding-left: 1em; padding-right: 1em; text-align: center; vertical-align: top\">log_sqft_living</td>\n",
              "        <td style=\"padding-left: 1em; padding-right: 1em; text-align: center; vertical-align: top\">None</td>\n",
              "        <td style=\"padding-left: 1em; padding-right: 1em; text-align: center; vertical-align: top\">-563467.7842801766</td>\n",
              "        <td style=\"padding-left: 1em; padding-right: 1em; text-align: center; vertical-align: top\">17567.82308147047</td>\n",
              "    </tr>\n",
              "    <tr>\n",
              "        <td style=\"padding-left: 1em; padding-right: 1em; text-align: center; vertical-align: top\">lat_plus_long</td>\n",
              "        <td style=\"padding-left: 1em; padding-right: 1em; text-align: center; vertical-align: top\">None</td>\n",
              "        <td style=\"padding-left: 1em; padding-right: 1em; text-align: center; vertical-align: top\">-83217.19791002195</td>\n",
              "        <td style=\"padding-left: 1em; padding-right: 1em; text-align: center; vertical-align: top\">787087631.9888161</td>\n",
              "    </tr>\n",
              "</table>\n",
              "[10 rows x 4 columns]<br/>\n",
              "</div>"
            ]
          },
          "metadata": {},
          "execution_count": 25
        }
      ]
    },
    {
      "cell_type": "markdown",
      "source": [
        "# RSS for each model - Training Set"
      ],
      "metadata": {
        "id": "xy6YrKVkb1H5"
      }
    },
    {
      "cell_type": "code",
      "source": [
        "print(\"RSS Value of Model - 1: \")\n",
        "get_residual_sum_of_squares(model_1, train_data, train_data['price'])\n"
      ],
      "metadata": {
        "colab": {
          "base_uri": "https://localhost:8080/"
        },
        "id": "LjWCXhPKb2yY",
        "outputId": "4b7257e0-e99a-4ac7-a1cb-321c278475e5"
      },
      "execution_count": 32,
      "outputs": [
        {
          "output_type": "stream",
          "name": "stdout",
          "text": [
            "RSS Value of Model - 1: \n"
          ]
        },
        {
          "output_type": "execute_result",
          "data": {
            "text/plain": [
              "971328233545430.9"
            ]
          },
          "metadata": {},
          "execution_count": 32
        }
      ]
    },
    {
      "cell_type": "code",
      "source": [
        "print(\"RSS Value of Model - 2: \")\n",
        "get_residual_sum_of_squares(model_2, train_data, train_data['price'])"
      ],
      "metadata": {
        "colab": {
          "base_uri": "https://localhost:8080/"
        },
        "id": "mXdHavyVc54y",
        "outputId": "4a11fc69-13b6-41d8-89b9-7f11af1bec6e"
      },
      "execution_count": 33,
      "outputs": [
        {
          "output_type": "stream",
          "name": "stdout",
          "text": [
            "RSS Value of Model - 2: \n"
          ]
        },
        {
          "output_type": "execute_result",
          "data": {
            "text/plain": [
              "961592067857503.2"
            ]
          },
          "metadata": {},
          "execution_count": 33
        }
      ]
    },
    {
      "cell_type": "code",
      "source": [
        "print(\"RSS Value of Model - 3: \")\n",
        "get_residual_sum_of_squares(model_3, train_data, train_data['price'])"
      ],
      "metadata": {
        "colab": {
          "base_uri": "https://localhost:8080/"
        },
        "id": "Xyggz-5Bc6o6",
        "outputId": "6585a8e9-c0a2-48ec-bd44-960b53adaa12"
      },
      "execution_count": 34,
      "outputs": [
        {
          "output_type": "stream",
          "name": "stdout",
          "text": [
            "RSS Value of Model - 3: \n"
          ]
        },
        {
          "output_type": "execute_result",
          "data": {
            "text/plain": [
              "905276314551641.4"
            ]
          },
          "metadata": {},
          "execution_count": 34
        }
      ]
    },
    {
      "cell_type": "markdown",
      "source": [
        "# RSS for each model - Test Set"
      ],
      "metadata": {
        "id": "tdE_SJuYcOkG"
      }
    },
    {
      "cell_type": "code",
      "source": [
        "print(\"RSS Value of Model - 1 Test: \")\n",
        "get_residual_sum_of_squares(model_1, test_data, test_data['price'])"
      ],
      "metadata": {
        "colab": {
          "base_uri": "https://localhost:8080/"
        },
        "id": "rhPgL1s4cRTn",
        "outputId": "b645aca0-03c3-42dc-eaf8-f8cddedba175"
      },
      "execution_count": 28,
      "outputs": [
        {
          "output_type": "stream",
          "name": "stdout",
          "text": [
            "RSS Value of Model - 1 Test: \n"
          ]
        },
        {
          "output_type": "execute_result",
          "data": {
            "text/plain": [
              "226568089093160.53"
            ]
          },
          "metadata": {},
          "execution_count": 28
        }
      ]
    },
    {
      "cell_type": "code",
      "source": [
        "print(\"RSS Value of Model - 2 Test: \")\n",
        "get_residual_sum_of_squares(model_2, test_data, test_data['price'])"
      ],
      "metadata": {
        "colab": {
          "base_uri": "https://localhost:8080/"
        },
        "id": "MVudhiZVczC3",
        "outputId": "eca0a190-a45d-4390-895d-f2d0067fc063"
      },
      "execution_count": 29,
      "outputs": [
        {
          "output_type": "stream",
          "name": "stdout",
          "text": [
            "RSS Value of Model - 2 Test: \n"
          ]
        },
        {
          "output_type": "execute_result",
          "data": {
            "text/plain": [
              "224368799993970.88"
            ]
          },
          "metadata": {},
          "execution_count": 29
        }
      ]
    },
    {
      "cell_type": "code",
      "source": [
        "print(\"RSS Value of Model - 3 Test: \")\n",
        "get_residual_sum_of_squares(model_3, test_data, test_data['price'])"
      ],
      "metadata": {
        "colab": {
          "base_uri": "https://localhost:8080/"
        },
        "id": "QtLBYxTuczuf",
        "outputId": "906693d4-ff23-43a2-fd77-869549ca7332"
      },
      "execution_count": 30,
      "outputs": [
        {
          "output_type": "stream",
          "name": "stdout",
          "text": [
            "RSS Value of Model - 3 Test: \n"
          ]
        },
        {
          "output_type": "execute_result",
          "data": {
            "text/plain": [
              "251829318963158.94"
            ]
          },
          "metadata": {},
          "execution_count": 30
        }
      ]
    }
  ],
  "metadata": {
    "colab": {
      "collapsed_sections": [],
      "name": "Colab_House_Data_Small.ipynb",
      "provenance": []
    },
    "kernelspec": {
      "display_name": "Python 3",
      "name": "python3"
    },
    "language_info": {
      "name": "python"
    }
  },
  "nbformat": 4,
  "nbformat_minor": 0
}