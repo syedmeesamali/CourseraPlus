{
 "cells": [
  {
   "cell_type": "markdown",
   "metadata": {},
   "source": [
    "## Simple Lin-Reg study"
   ]
  },
  {
   "cell_type": "code",
   "execution_count": 1,
   "metadata": {},
   "outputs": [],
   "source": [
    "import pandas as pd\n",
    "import matplotlib.pyplot as plt\n",
    "from sklearn.linear_model import LinearRegression"
   ]
  },
  {
   "cell_type": "code",
   "execution_count": 3,
   "metadata": {},
   "outputs": [],
   "source": [
    "df = pd.read_csv('./inp_data.csv', delimiter = \",\")\n",
    "X = df.values[:, :-1]           #Except last column\n",
    "y = df.values[:, -1]\n",
    "\n",
    "#Fit the line\n",
    "fit = LinearRegression().fit(X, y)"
   ]
  },
  {
   "cell_type": "code",
   "execution_count": 4,
   "metadata": {},
   "outputs": [
    {
     "name": "stdout",
     "output_type": "stream",
     "text": [
      "m = [1.7867224]\n",
      "b = [-16.51923513]\n"
     ]
    }
   ],
   "source": [
    "m = fit.coef_.flatten()\n",
    "b = fit.intercept_.flatten()\n",
    "print(\"m = {0}\".format(m))\n",
    "print(\"b = {0}\".format(b))"
   ]
  },
  {
   "cell_type": "code",
   "execution_count": 5,
   "metadata": {},
   "outputs": [
    {
     "data": {
      "image/png": "[encoded data removed]",
      "text/plain": [
       "<Figure size 432x288 with 1 Axes>"
      ]
     },
     "metadata": {
      "needs_background": "light"
     },
     "output_type": "display_data"
    }
   ],
   "source": [
    "#Show the chart\n",
    "plt.plot(X, y, 'o')\n",
    "plt.plot(X, m*X + b)\n",
    "plt.show()"
   ]
  },
  {
   "cell_type": "code",
   "execution_count": 6,
   "metadata": {},
   "outputs": [
    {
     "name": "stdout",
     "output_type": "stream",
     "text": [
      "-1.6665999999999999\n",
      "1.4001000000000001\n",
      "-0.5332000000000008\n",
      "2.5335\n",
      "-0.39979999999999905\n",
      "-1.3331000000000017\n",
      "0.7335999999999991\n",
      "-2.1997\n",
      "2.867000000000001\n",
      "-1.0662999999999982\n"
     ]
    }
   ],
   "source": [
    "#import reference test points\n",
    "points = pd.read_csv('./inp_ref.csv', delimiter = \",\").itertuples()\n",
    "m = 1.9333\n",
    "b = 4.7333\n",
    "for p in points:\n",
    "    y_actual = p.y\n",
    "    y_predict = m * p.x + b\n",
    "    residual = y_actual - y_predict\n",
    "    print(residual)"
   ]
  },
  {
   "cell_type": "markdown",
   "metadata": {},
   "source": [
    "## Sum of squares"
   ]
  },
  {
   "cell_type": "code",
   "execution_count": 8,
   "metadata": {},
   "outputs": [
    {
     "name": "stdout",
     "output_type": "stream",
     "text": [
      "Sum of squares = 28.111289450000005\n"
     ]
    }
   ],
   "source": [
    "#import reference test points\n",
    "points = pd.read_csv('./inp_ref.csv', delimiter = \",\").itertuples()\n",
    "m = 1.9333\n",
    "b = 4.7333\n",
    "\n",
    "sum_of_squares = 0.0\n",
    "\n",
    "for p in points:\n",
    "    y_actual = p.y\n",
    "    y_predict = m * p.x + b\n",
    "    residual_squared = (y_actual - y_predict)**2\n",
    "    sum_of_squares += residual_squared\n",
    "\n",
    "print(\"Sum of squares = {}\".format(sum_of_squares))"
   ]
  }
 ],
 "metadata": {
  "kernelspec": {
   "display_name": "Python 3.10.4 64-bit",
   "language": "python",
   "name": "python3"
  },
  "language_info": {
   "codemirror_mode": {
    "name": "ipython",
    "version": 3
   },
   "file_extension": ".py",
   "mimetype": "text/x-python",
   "name": "python",
   "nbconvert_exporter": "python",
   "pygments_lexer": "ipython3",
   "version": "3.10.4"
  },
  "orig_nbformat": 4,
  "vscode": {
   "interpreter": {
    "hash": "369f2c481f4da34e4445cda3fffd2e751bd1c4d706f27375911949ba6bb62e1c"
   }
  }
 },
 "nbformat": 4,
 "nbformat_minor": 2
}
