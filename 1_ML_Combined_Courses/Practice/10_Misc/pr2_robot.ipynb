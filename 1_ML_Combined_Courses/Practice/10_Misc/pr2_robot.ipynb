{
 "cells": [
  {
   "cell_type": "code",
   "execution_count": 1,
   "metadata": {},
   "outputs": [
    {
     "name": "stderr",
     "output_type": "stream",
     "text": [
      "c:\\Users\\syedm\\AppData\\Local\\Programs\\Python\\Python310\\lib\\site-packages\\pyglet\\libs\\win32\\__init__.py:318: UserWarning: Could not set COM MTA mode. Unexpected behavior may occur.\n",
      "  warnings.warn(\"Could not set COM MTA mode. Unexpected behavior may occur.\")\n"
     ]
    }
   ],
   "source": [
    "import skrobot"
   ]
  },
  {
   "cell_type": "code",
   "execution_count": 2,
   "metadata": {},
   "outputs": [
    {
     "name": "stderr",
     "output_type": "stream",
     "text": [
      "c:\\Users\\syedm\\AppData\\Local\\Programs\\Python\\Python310\\lib\\site-packages\\skrobot\\model\\robot_model.py:1718: UserWarning: texture specified in URDF is not supported\n",
      "  warnings.warn(\n"
     ]
    }
   ],
   "source": [
    "robot_model = skrobot.models.urdf.RobotModelFromURDF(urdf_file=skrobot.data.pr2_urdfpath())"
   ]
  },
  {
   "cell_type": "code",
   "execution_count": 3,
   "metadata": {},
   "outputs": [],
   "source": [
    "viewer = skrobot.viewers.TrimeshSceneViewer(resolution=(640, 480))\n",
    "viewer.add(robot_model)\n",
    "viewer.show()"
   ]
  },
  {
   "cell_type": "code",
   "execution_count": null,
   "metadata": {},
   "outputs": [],
   "source": []
  }
 ],
 "metadata": {
  "kernelspec": {
   "display_name": "Python 3",
   "language": "python",
   "name": "python3"
  },
  "language_info": {
   "codemirror_mode": {
    "name": "ipython",
    "version": 3
   },
   "file_extension": ".py",
   "mimetype": "text/x-python",
   "name": "python",
   "nbconvert_exporter": "python",
   "pygments_lexer": "ipython3",
   "version": "3.10.10"
  },
  "orig_nbformat": 4
 },
 "nbformat": 4,
 "nbformat_minor": 2
}
