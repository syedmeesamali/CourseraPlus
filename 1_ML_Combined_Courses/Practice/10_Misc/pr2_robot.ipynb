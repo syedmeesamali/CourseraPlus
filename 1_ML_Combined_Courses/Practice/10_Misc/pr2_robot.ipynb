{
 "cells": [
  {
   "cell_type": "markdown",
   "metadata": {},
   "source": [
    "## Robot model in Python"
   ]
  },
  {
   "cell_type": "code",
   "execution_count": 1,
   "metadata": {},
   "outputs": [
    {
     "name": "stderr",
     "output_type": "stream",
     "text": [
      "c:\\Users\\LENOVO\\AppData\\Local\\Programs\\Python\\Python310\\lib\\site-packages\\pyglet\\libs\\win32\\__init__.py:318: UserWarning: Could not set COM MTA mode. Unexpected behavior may occur.\n",
      "  warnings.warn(\"Could not set COM MTA mode. Unexpected behavior may occur.\")\n"
     ]
    }
   ],
   "source": [
    "import skrobot"
   ]
  },
  {
   "cell_type": "markdown",
   "metadata": {},
   "source": [
    "### Load the URDF file - PR2 robot"
   ]
  },
  {
   "cell_type": "code",
   "execution_count": 2,
   "metadata": {},
   "outputs": [
    {
     "name": "stderr",
     "output_type": "stream",
     "text": [
      "c:\\Users\\LENOVO\\AppData\\Local\\Programs\\Python\\Python310\\lib\\site-packages\\skrobot\\model\\robot_model.py:1718: UserWarning: texture specified in URDF is not supported\n",
      "  warnings.warn(\n"
     ]
    }
   ],
   "source": [
    "robot_model = skrobot.models.urdf.RobotModelFromURDF(urdf_file=skrobot.data.pr2_urdfpath())"
   ]
  },
  {
   "cell_type": "markdown",
   "metadata": {},
   "source": [
    "### Render the model"
   ]
  },
  {
   "cell_type": "code",
   "execution_count": 3,
   "metadata": {},
   "outputs": [],
   "source": [
    "viewer = skrobot.viewers.TrimeshSceneViewer(resolution=(640, 480))\n",
    "viewer.add(robot_model)\n",
    "viewer.show()"
   ]
  },
  {
   "cell_type": "markdown",
   "metadata": {},
   "source": [
    "### Access the model joints"
   ]
  },
  {
   "cell_type": "code",
   "execution_count": 4,
   "metadata": {},
   "outputs": [
    {
     "name": "stdout",
     "output_type": "stream",
     "text": [
      "base_link\n",
      "base_footprint\n",
      "base_bellow_link\n",
      "base_laser_link\n",
      "fl_caster_rotation_link\n",
      "fl_caster_l_wheel_link\n",
      "fl_caster_r_wheel_link\n",
      "fr_caster_rotation_link\n",
      "fr_caster_l_wheel_link\n",
      "fr_caster_r_wheel_link\n",
      "bl_caster_rotation_link\n",
      "bl_caster_l_wheel_link\n",
      "bl_caster_r_wheel_link\n",
      "br_caster_rotation_link\n",
      "br_caster_l_wheel_link\n",
      "br_caster_r_wheel_link\n",
      "torso_lift_link\n",
      "l_torso_lift_side_plate_link\n",
      "r_torso_lift_side_plate_link\n",
      "torso_lift_motor_screw_link\n",
      "imu_link\n",
      "head_pan_link\n",
      "head_tilt_link\n",
      "head_plate_frame\n",
      "sensor_mount_link\n",
      "high_def_frame\n",
      "high_def_optical_frame\n",
      "double_stereo_link\n",
      "wide_stereo_link\n",
      "wide_stereo_optical_frame\n",
      "wide_stereo_l_stereo_camera_frame\n",
      "wide_stereo_l_stereo_camera_optical_frame\n",
      "wide_stereo_r_stereo_camera_frame\n",
      "wide_stereo_r_stereo_camera_optical_frame\n",
      "narrow_stereo_link\n",
      "narrow_stereo_optical_frame\n",
      "narrow_stereo_l_stereo_camera_frame\n",
      "narrow_stereo_l_stereo_camera_optical_frame\n",
      "narrow_stereo_r_stereo_camera_frame\n",
      "narrow_stereo_r_stereo_camera_optical_frame\n",
      "projector_wg6802418_frame\n",
      "projector_wg6802418_child_frame\n",
      "laser_tilt_mount_link\n",
      "laser_tilt_link\n",
      "r_shoulder_pan_link\n",
      "r_shoulder_lift_link\n",
      "r_upper_arm_roll_link\n",
      "r_upper_arm_link\n",
      "r_forearm_roll_link\n",
      "r_elbow_flex_link\n",
      "r_forearm_link\n",
      "r_wrist_flex_link\n",
      "r_wrist_roll_link\n",
      "r_gripper_palm_link\n",
      "r_gripper_led_frame\n",
      "r_gripper_motor_accelerometer_link\n",
      "r_gripper_tool_frame\n",
      "r_gripper_motor_slider_link\n",
      "r_gripper_motor_screw_link\n",
      "r_gripper_l_finger_link\n",
      "r_gripper_r_finger_link\n",
      "r_gripper_l_finger_tip_link\n",
      "r_gripper_r_finger_tip_link\n",
      "r_gripper_l_finger_tip_frame\n",
      "l_shoulder_pan_link\n",
      "l_shoulder_lift_link\n",
      "l_upper_arm_roll_link\n",
      "l_upper_arm_link\n",
      "l_forearm_roll_link\n",
      "l_elbow_flex_link\n",
      "l_forearm_link\n",
      "l_wrist_flex_link\n",
      "l_wrist_roll_link\n",
      "l_gripper_palm_link\n",
      "l_gripper_led_frame\n",
      "l_gripper_motor_accelerometer_link\n",
      "l_gripper_tool_frame\n",
      "l_gripper_motor_slider_link\n",
      "l_gripper_motor_screw_link\n",
      "l_gripper_l_finger_link\n",
      "l_gripper_r_finger_link\n",
      "l_gripper_l_finger_tip_link\n",
      "l_gripper_r_finger_tip_link\n",
      "l_gripper_l_finger_tip_frame\n",
      "l_forearm_cam_frame\n",
      "l_forearm_cam_optical_frame\n",
      "r_forearm_cam_frame\n",
      "r_forearm_cam_optical_frame\n"
     ]
    }
   ],
   "source": [
    "for link in robot_model.link_list:\n",
    "    print(link.name)"
   ]
  },
  {
   "cell_type": "code",
   "execution_count": 5,
   "metadata": {},
   "outputs": [
    {
     "name": "stdout",
     "output_type": "stream",
     "text": [
      "fl_caster_rotation_joint\n",
      "fl_caster_l_wheel_joint\n",
      "fl_caster_r_wheel_joint\n",
      "fr_caster_rotation_joint\n",
      "fr_caster_l_wheel_joint\n",
      "fr_caster_r_wheel_joint\n",
      "bl_caster_rotation_joint\n",
      "bl_caster_l_wheel_joint\n",
      "bl_caster_r_wheel_joint\n",
      "br_caster_rotation_joint\n",
      "br_caster_l_wheel_joint\n",
      "br_caster_r_wheel_joint\n",
      "torso_lift_joint\n",
      "torso_lift_motor_screw_joint\n",
      "head_pan_joint\n",
      "head_tilt_joint\n",
      "laser_tilt_mount_joint\n",
      "r_shoulder_pan_joint\n",
      "r_shoulder_lift_joint\n",
      "r_upper_arm_roll_joint\n",
      "r_forearm_roll_joint\n",
      "r_elbow_flex_joint\n",
      "r_wrist_flex_joint\n",
      "r_wrist_roll_joint\n",
      "r_gripper_motor_slider_joint\n",
      "r_gripper_motor_screw_joint\n",
      "r_gripper_l_finger_joint\n",
      "r_gripper_r_finger_joint\n",
      "r_gripper_l_finger_tip_joint\n",
      "r_gripper_r_finger_tip_joint\n",
      "r_gripper_joint\n",
      "l_shoulder_pan_joint\n",
      "l_shoulder_lift_joint\n",
      "l_upper_arm_roll_joint\n",
      "l_forearm_roll_joint\n",
      "l_elbow_flex_joint\n",
      "l_wrist_flex_joint\n",
      "l_wrist_roll_joint\n",
      "l_gripper_motor_slider_joint\n",
      "l_gripper_motor_screw_joint\n",
      "l_gripper_l_finger_joint\n",
      "l_gripper_r_finger_joint\n",
      "l_gripper_l_finger_tip_joint\n",
      "l_gripper_r_finger_tip_joint\n",
      "l_gripper_joint\n"
     ]
    }
   ],
   "source": [
    "for joint in robot_model.joint_list:\n",
    "    print(joint.name)"
   ]
  },
  {
   "cell_type": "code",
   "execution_count": 6,
   "metadata": {},
   "outputs": [
    {
     "data": {
      "text/plain": [
       "0.0"
      ]
     },
     "execution_count": 6,
     "metadata": {},
     "output_type": "execute_result"
    }
   ],
   "source": [
    "robot_model.l_elbow_flex_joint.joint_angle()"
   ]
  },
  {
   "cell_type": "code",
   "execution_count": 14,
   "metadata": {},
   "outputs": [],
   "source": [
    "robot_model.l_elbow_flex_joint.joint_angle(-0.5)\n",
    "viewer.redraw()"
   ]
  },
  {
   "cell_type": "code",
   "execution_count": 15,
   "metadata": {},
   "outputs": [],
   "source": [
    "robot_model.torso_lift_joint.joint_angle(0.05)\n",
    "viewer.redraw()"
   ]
  },
  {
   "cell_type": "code",
   "execution_count": 16,
   "metadata": {},
   "outputs": [],
   "source": [
    "robot_model.l_shoulder_pan_joint.joint_angle(60 * 3.14/180.0)\n",
    "viewer.redraw()"
   ]
  },
  {
   "cell_type": "code",
   "execution_count": 17,
   "metadata": {},
   "outputs": [],
   "source": [
    "robot_model.l_shoulder_lift_joint.joint_angle(74 * 3.14/180.0)\n",
    "viewer.redraw()"
   ]
  },
  {
   "cell_type": "code",
   "execution_count": 18,
   "metadata": {},
   "outputs": [],
   "source": [
    "rarm_end_coords = skrobot.coordinates.CascadedCoords(\n",
    "            parent=robot_model.r_gripper_tool_frame,\n",
    "            name='rarm_end_coords')"
   ]
  },
  {
   "cell_type": "code",
   "execution_count": 19,
   "metadata": {},
   "outputs": [],
   "source": [
    "move_target = rarm_end_coords\n",
    "link_list = [\n",
    "    robot_model.r_shoulder_pan_link,\n",
    "    robot_model.r_shoulder_lift_link,\n",
    "    robot_model.r_upper_arm_roll_link,\n",
    "    robot_model.r_elbow_flex_link,\n",
    "    robot_model.r_forearm_roll_link,\n",
    "    robot_model.r_wrist_flex_link,\n",
    "    robot_model.r_wrist_roll_link]"
   ]
  },
  {
   "cell_type": "code",
   "execution_count": 20,
   "metadata": {},
   "outputs": [],
   "source": [
    "target_coords = skrobot.coordinates.Coordinates([0.5, -0.3, 0.7], [0, 0, 0])\n"
   ]
  },
  {
   "cell_type": "code",
   "execution_count": 22,
   "metadata": {},
   "outputs": [],
   "source": [
    "robot_model.inverse_kinematics(\n",
    "    target_coords,\n",
    "    link_list=link_list,\n",
    "    move_target=move_target)\n",
    "viewer.redraw()"
   ]
  },
  {
   "cell_type": "code",
   "execution_count": null,
   "metadata": {},
   "outputs": [],
   "source": []
  }
 ],
 "metadata": {
  "kernelspec": {
   "display_name": "Python 3",
   "language": "python",
   "name": "python3"
  },
  "language_info": {
   "codemirror_mode": {
    "name": "ipython",
    "version": 3
   },
   "file_extension": ".py",
   "mimetype": "text/x-python",
   "name": "python",
   "nbconvert_exporter": "python",
   "pygments_lexer": "ipython3",
   "version": "3.10.0rc2"
  },
  "orig_nbformat": 4
 },
 "nbformat": 4,
 "nbformat_minor": 2
}
