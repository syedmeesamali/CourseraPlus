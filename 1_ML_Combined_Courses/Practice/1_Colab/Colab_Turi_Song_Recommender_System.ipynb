{
  "cells": [
    {
      "cell_type": "markdown",
      "metadata": {
        "id": "8V5UxN6fbMuR"
      },
      "source": [
        "### Mount the local drive to save the works"
      ]
    },
    {
      "cell_type": "code",
      "execution_count": 1,
      "metadata": {
        "colab": {
          "base_uri": "https://localhost:8080/"
        },
        "id": "VsdGRY4tkYqZ",
        "outputId": "3ac071c6-1215-4bc6-8c63-b900ee5cf7ab"
      },
      "outputs": [
        {
          "output_type": "stream",
          "name": "stdout",
          "text": [
            "Mounted at /content/MyDrive/\n"
          ]
        }
      ],
      "source": [
        "from google.colab import drive\n",
        "drive.mount('/content/MyDrive/')"
      ]
    },
    {
      "cell_type": "code",
      "execution_count": 3,
      "metadata": {
        "id": "NXJgHWC7nCcF"
      },
      "outputs": [],
      "source": [
        "#!pip install turicreate\n",
        "import turicreate"
      ]
    },
    {
      "cell_type": "code",
      "source": [
        "!ls"
      ],
      "metadata": {
        "colab": {
          "base_uri": "https://localhost:8080/"
        },
        "id": "v7fCGvmJmuKa",
        "outputId": "be17fac6-81ab-4153-a1c1-8d8045e3c992"
      },
      "execution_count": 4,
      "outputs": [
        {
          "output_type": "stream",
          "name": "stdout",
          "text": [
            "MyDrive  sample_data\n"
          ]
        }
      ]
    },
    {
      "cell_type": "code",
      "execution_count": null,
      "metadata": {
        "id": "xsi0cLTnnlgj"
      },
      "outputs": [],
      "source": [
        "#!7z x '/content/MyDrive/MyDrive/SFRAMES/song_data.sframe.zip'"
      ]
    },
    {
      "cell_type": "code",
      "execution_count": 5,
      "metadata": {
        "id": "FFuHXt2snxLC"
      },
      "outputs": [],
      "source": [
        "sf = turicreate.SFrame('/content/MyDrive/MyDrive/SFRAMES/song_data.sframe')"
      ]
    },
    {
      "cell_type": "code",
      "execution_count": 6,
      "metadata": {
        "colab": {
          "base_uri": "https://localhost:8080/",
          "height": 263
        },
        "id": "iMlCcxIJn9sJ",
        "outputId": "f1f18355-838c-4ff9-ea72-bb3902cf1206"
      },
      "outputs": [
        {
          "output_type": "execute_result",
          "data": {
            "text/plain": [
              "Columns:\n",
              "\tuser_id\tstr\n",
              "\tsong_id\tstr\n",
              "\tlisten_count\tint\n",
              "\ttitle\tstr\n",
              "\tartist\tstr\n",
              "\tsong\tstr\n",
              "\n",
              "Rows: 3\n",
              "\n",
              "Data:\n",
              "+-------------------------------+--------------------+--------------+\n",
              "|            user_id            |      song_id       | listen_count |\n",
              "+-------------------------------+--------------------+--------------+\n",
              "| b80344d063b5ccb3212f76538f... | SOAKIMP12A8C130995 |      1       |\n",
              "| b80344d063b5ccb3212f76538f... | SOBBMDR12A8C13253B |      2       |\n",
              "| b80344d063b5ccb3212f76538f... | SOBXHDL12A81C204C0 |      1       |\n",
              "+-------------------------------+--------------------+--------------+\n",
              "+-----------------+---------------+-------------------------------+\n",
              "|      title      |     artist    |              song             |\n",
              "+-----------------+---------------+-------------------------------+\n",
              "|     The Cove    |  Jack Johnson |    The Cove - Jack Johnson    |\n",
              "| Entre Dos Aguas | Paco De Lucia | Entre Dos Aguas - Paco De ... |\n",
              "|     Stronger    |   Kanye West  |     Stronger - Kanye West     |\n",
              "+-----------------+---------------+-------------------------------+\n",
              "[3 rows x 6 columns]"
            ],
            "text/html": [
              "<div style=\"max-height:1000px;max-width:1500px;overflow:auto;\"><table frame=\"box\" rules=\"cols\">\n",
              "    <tr>\n",
              "        <th style=\"padding-left: 1em; padding-right: 1em; text-align: center\">user_id</th>\n",
              "        <th style=\"padding-left: 1em; padding-right: 1em; text-align: center\">song_id</th>\n",
              "        <th style=\"padding-left: 1em; padding-right: 1em; text-align: center\">listen_count</th>\n",
              "        <th style=\"padding-left: 1em; padding-right: 1em; text-align: center\">title</th>\n",
              "        <th style=\"padding-left: 1em; padding-right: 1em; text-align: center\">artist</th>\n",
              "    </tr>\n",
              "    <tr>\n",
              "        <td style=\"padding-left: 1em; padding-right: 1em; text-align: center; vertical-align: top\">b80344d063b5ccb3212f76538<br>f3d9e43d87dca9e ...</td>\n",
              "        <td style=\"padding-left: 1em; padding-right: 1em; text-align: center; vertical-align: top\">SOAKIMP12A8C130995</td>\n",
              "        <td style=\"padding-left: 1em; padding-right: 1em; text-align: center; vertical-align: top\">1</td>\n",
              "        <td style=\"padding-left: 1em; padding-right: 1em; text-align: center; vertical-align: top\">The Cove</td>\n",
              "        <td style=\"padding-left: 1em; padding-right: 1em; text-align: center; vertical-align: top\">Jack Johnson</td>\n",
              "    </tr>\n",
              "    <tr>\n",
              "        <td style=\"padding-left: 1em; padding-right: 1em; text-align: center; vertical-align: top\">b80344d063b5ccb3212f76538<br>f3d9e43d87dca9e ...</td>\n",
              "        <td style=\"padding-left: 1em; padding-right: 1em; text-align: center; vertical-align: top\">SOBBMDR12A8C13253B</td>\n",
              "        <td style=\"padding-left: 1em; padding-right: 1em; text-align: center; vertical-align: top\">2</td>\n",
              "        <td style=\"padding-left: 1em; padding-right: 1em; text-align: center; vertical-align: top\">Entre Dos Aguas</td>\n",
              "        <td style=\"padding-left: 1em; padding-right: 1em; text-align: center; vertical-align: top\">Paco De Lucia</td>\n",
              "    </tr>\n",
              "    <tr>\n",
              "        <td style=\"padding-left: 1em; padding-right: 1em; text-align: center; vertical-align: top\">b80344d063b5ccb3212f76538<br>f3d9e43d87dca9e ...</td>\n",
              "        <td style=\"padding-left: 1em; padding-right: 1em; text-align: center; vertical-align: top\">SOBXHDL12A81C204C0</td>\n",
              "        <td style=\"padding-left: 1em; padding-right: 1em; text-align: center; vertical-align: top\">1</td>\n",
              "        <td style=\"padding-left: 1em; padding-right: 1em; text-align: center; vertical-align: top\">Stronger</td>\n",
              "        <td style=\"padding-left: 1em; padding-right: 1em; text-align: center; vertical-align: top\">Kanye West</td>\n",
              "    </tr>\n",
              "</table>\n",
              "<table frame=\"box\" rules=\"cols\">\n",
              "    <tr>\n",
              "        <th style=\"padding-left: 1em; padding-right: 1em; text-align: center\">song</th>\n",
              "    </tr>\n",
              "    <tr>\n",
              "        <td style=\"padding-left: 1em; padding-right: 1em; text-align: center; vertical-align: top\">The Cove - Jack Johnson</td>\n",
              "    </tr>\n",
              "    <tr>\n",
              "        <td style=\"padding-left: 1em; padding-right: 1em; text-align: center; vertical-align: top\">Entre Dos Aguas - Paco De<br>Lucia ...</td>\n",
              "    </tr>\n",
              "    <tr>\n",
              "        <td style=\"padding-left: 1em; padding-right: 1em; text-align: center; vertical-align: top\">Stronger - Kanye West</td>\n",
              "    </tr>\n",
              "</table>\n",
              "[3 rows x 6 columns]<br/>\n",
              "</div>"
            ]
          },
          "metadata": {},
          "execution_count": 6
        }
      ],
      "source": [
        "sf.head(3)"
      ]
    },
    {
      "cell_type": "code",
      "execution_count": 7,
      "metadata": {
        "colab": {
          "base_uri": "https://localhost:8080/",
          "height": 1000
        },
        "id": "39OMZib4oZHT",
        "outputId": "4707d5ff-dcbe-4839-b67d-99a26e4c22e5"
      },
      "outputs": [
        {
          "output_type": "display_data",
          "data": {
            "text/plain": [
              "Materializing SFrame"
            ],
            "text/html": [
              "<pre>Materializing SFrame</pre>"
            ]
          },
          "metadata": {}
        },
        {
          "output_type": "display_data",
          "data": {
            "text/plain": [
              "<IPython.core.display.HTML object>"
            ],
            "text/html": [
              "<html>                 <body>                     <iframe style=\"border:0;margin:0\" width=\"1000\" height=\"2100\" srcdoc='<html lang=\"en\">                         <head>                             <script src=\"https://cdnjs.cloudflare.com/ajax/libs/vega/5.4.0/vega.js\"></script>                             <script src=\"https://cdnjs.cloudflare.com/ajax/libs/vega-embed/4.0.0/vega-embed.js\"></script>                             <script src=\"https://cdnjs.cloudflare.com/ajax/libs/vega-tooltip/0.5.1/vega-tooltip.min.js\"></script>                             <link rel=\"stylesheet\" type=\"text/css\" href=\"https://cdnjs.cloudflare.com/ajax/libs/vega-tooltip/0.5.1/vega-tooltip.min.css\">                             <style>                             .vega-actions > a{                                 color:white;                                 text-decoration: none;                                 font-family: \"Arial\";                                 cursor:pointer;                                 padding:5px;                                 background:#AAAAAA;                                 border-radius:4px;                                 padding-left:10px;                                 padding-right:10px;                                 margin-right:5px;                             }                             .vega-actions{                                 margin-top:20px;                                 text-align:center                             }                            .vega-actions > a{                                 background:#999999;                            }                             </style>                         </head>                         <body>                             <div id=\"vis\">                             </div>                             <script>                                 var vega_json = \"{\\\"$schema\\\": \\\"https://vega.github.io/schema/vega/v4.json\\\", \\\"metadata\\\": {\\\"bubbleOpts\\\": {\\\"showAllFields\\\": false, \\\"fields\\\": [{\\\"field\\\": \\\"left\\\"}, {\\\"field\\\": \\\"right\\\"}, {\\\"field\\\": \\\"count\\\"}, {\\\"field\\\": \\\"label\\\"}]}}, \\\"width\\\": 800, \\\"height\\\": 1880, \\\"padding\\\": 8, \\\"data\\\": [{\\\"name\\\": \\\"pts_store\\\"}, {\\\"name\\\": \\\"source_2\\\", \\\"values\\\": [{\\\"a\\\": 0, \\\"title\\\": \\\"user_id\\\", \\\"num_row\\\": 1116609, \\\"type\\\": \\\"str\\\", \\\"num_unique\\\": 66346, \\\"num_missing\\\": 0, \\\"categorical\\\": [{\\\"label\\\": \\\"0045c60d98ced5efb3cbf1e0b4b7de1da3f1a506\\\", \\\"label_idx\\\": 0, \\\"count\\\": 49, \\\"percentage\\\": \\\"0.00438829%\\\"}, {\\\"label\\\": \\\"0130ca3bbe5b0d34616d9e0390c3b5b58a7e3ff6\\\", \\\"label_idx\\\": 1, \\\"count\\\": 49, \\\"percentage\\\": \\\"0.00438829%\\\"}, {\\\"label\\\": \\\"015aa27307c7acc4e304240198817562e78a4648\\\", \\\"label_idx\\\": 2, \\\"count\\\": 49, \\\"percentage\\\": \\\"0.00438829%\\\"}, {\\\"label\\\": \\\"01d3e2bd4c17ae84f376451a25f76a7c2dbdda1d\\\", \\\"label_idx\\\": 3, \\\"count\\\": 49, \\\"percentage\\\": \\\"0.00438829%\\\"}, {\\\"label\\\": \\\"0214291498f0d96a8a82d17f03b38477d543c0e7\\\", \\\"label_idx\\\": 4, \\\"count\\\": 49, \\\"percentage\\\": \\\"0.00438829%\\\"}, {\\\"label\\\": \\\"024ca7ed3ccce1a88df54b403540ca0ed9be6fa4\\\", \\\"label_idx\\\": 5, \\\"count\\\": 49, \\\"percentage\\\": \\\"0.00438829%\\\"}, {\\\"label\\\": \\\"029ccfe48497d04d4d43c9f9f325da4d50f13241\\\", \\\"label_idx\\\": 6, \\\"count\\\": 49, \\\"percentage\\\": \\\"0.00438829%\\\"}, {\\\"label\\\": \\\"02d780503e85e4545439e6a3eaf2ee81ddb79b88\\\", \\\"label_idx\\\": 7, \\\"count\\\": 49, \\\"percentage\\\": \\\"0.00438829%\\\"}, {\\\"label\\\": \\\"02fae1c811998501a0af130a32e6215f89667854\\\", \\\"label_idx\\\": 8, \\\"count\\\": 49, \\\"percentage\\\": \\\"0.00438829%\\\"}, {\\\"label\\\": \\\"02fb2d35dd2979795b589fdb9cbce737f7b573b1\\\", \\\"label_idx\\\": 9, \\\"count\\\": 49, \\\"percentage\\\": \\\"0.00438829%\\\"}, {\\\"label\\\": \\\"Other (66336 labels)\\\", \\\"label_idx\\\": 10, \\\"count\\\": 1116119, \\\"percentage\\\": \\\"99.9561%\\\"}], \\\"numeric\\\": []}, {\\\"a\\\": 1, \\\"title\\\": \\\"song_id\\\", \\\"num_row\\\": 1116609, \\\"type\\\": \\\"str\\\", \\\"num_unique\\\": 10000, \\\"num_missing\\\": 0, \\\"categorical\\\": [{\\\"label\\\": \\\"SOFRQTD12A81C233C0\\\", \\\"label_idx\\\": 0, \\\"count\\\": 5970, \\\"percentage\\\": \\\"0.534654%\\\"}, {\\\"label\\\": \\\"SOAUWYT12A81C206F1\\\", \\\"label_idx\\\": 1, \\\"count\\\": 5281, \\\"percentage\\\": \\\"0.47295%\\\"}, {\\\"label\\\": \\\"SOBONKR12A58A7A7E0\\\", \\\"label_idx\\\": 2, \\\"count\\\": 4806, \\\"percentage\\\": \\\"0.43041%\\\"}, {\\\"label\\\": \\\"SOAXGDH12A8C13F8A1\\\", \\\"label_idx\\\": 3, \\\"count\\\": 4536, \\\"percentage\\\": \\\"0.40623%\\\"}, {\\\"label\\\": \\\"SOSXLTC12AF72A7F54\\\", \\\"label_idx\\\": 4, \\\"count\\\": 4339, \\\"percentage\\\": \\\"0.388587%\\\"}, {\\\"label\\\": \\\"SOEGIYH12A6D4FC0E3\\\", \\\"label_idx\\\": 5, \\\"count\\\": 3949, \\\"percentage\\\": \\\"0.35366%\\\"}, {\\\"label\\\": \\\"SONYKOW12AB01849C9\\\", \\\"label_idx\\\": 6, \\\"count\\\": 3916, \\\"percentage\\\": \\\"0.350705%\\\"}, {\\\"label\\\": \\\"SOFLJQZ12A6D4FADA6\\\", \\\"label_idx\\\": 7, \\\"count\\\": 3185, \\\"percentage\\\": \\\"0.285239%\\\"}, {\\\"label\\\": \\\"SOLFXKT12AB017E3E0\\\", \\\"label_idx\\\": 8, \\\"count\\\": 3171, \\\"percentage\\\": \\\"0.283985%\\\"}, {\\\"label\\\": \\\"SODJWHY12A8C142CCE\\\", \\\"label_idx\\\": 9, \\\"count\\\": 3132, \\\"percentage\\\": \\\"0.280492%\\\"}, {\\\"label\\\": \\\"Other (9990 labels)\\\", \\\"label_idx\\\": 10, \\\"count\\\": 1074324, \\\"percentage\\\": \\\"96.2131%\\\"}], \\\"numeric\\\": []}, {\\\"a\\\": 2, \\\"title\\\": \\\"listen_count\\\", \\\"num_row\\\": 1116609, \\\"type\\\": \\\"integer\\\", \\\"num_unique\\\": 276, \\\"num_missing\\\": 0, \\\"mean\\\": 3.290769, \\\"min\\\": 1.0, \\\"max\\\": 920.0, \\\"median\\\": 1.0, \\\"stdev\\\": 7.20253, \\\"numeric\\\": [{\\\"left\\\": -18, \\\"right\\\": 30, \\\"count\\\": 1105601}, {\\\"left\\\": 30, \\\"right\\\": 78, \\\"count\\\": 9755}, {\\\"left\\\": 78, \\\"right\\\": 126, \\\"count\\\": 879}, {\\\"left\\\": 126, \\\"right\\\": 174, \\\"count\\\": 208}, {\\\"left\\\": 174, \\\"right\\\": 222, \\\"count\\\": 79}, {\\\"left\\\": 222, \\\"right\\\": 270, \\\"count\\\": 33}, {\\\"left\\\": 270, \\\"right\\\": 318, \\\"count\\\": 17}, {\\\"left\\\": 318, \\\"right\\\": 366, \\\"count\\\": 11}, {\\\"left\\\": 366, \\\"right\\\": 414, \\\"count\\\": 8}, {\\\"left\\\": 414, \\\"right\\\": 462, \\\"count\\\": 7}, {\\\"left\\\": 462, \\\"right\\\": 510, \\\"count\\\": 3}, {\\\"left\\\": 510, \\\"right\\\": 558, \\\"count\\\": 1}, {\\\"left\\\": 558, \\\"right\\\": 606, \\\"count\\\": 2}, {\\\"left\\\": 606, \\\"right\\\": 654, \\\"count\\\": 1}, {\\\"left\\\": 654, \\\"right\\\": 702, \\\"count\\\": 2}, {\\\"left\\\": 702, \\\"right\\\": 750, \\\"count\\\": 0}, {\\\"left\\\": 750, \\\"right\\\": 798, \\\"count\\\": 1}, {\\\"left\\\": 798, \\\"right\\\": 846, \\\"count\\\": 0}, {\\\"left\\\": 846, \\\"right\\\": 894, \\\"count\\\": 0}, {\\\"left\\\": 894, \\\"right\\\": 942, \\\"count\\\": 1}, {\\\"start\\\": -18, \\\"stop\\\": 942, \\\"step\\\": 48}], \\\"categorical\\\": []}, {\\\"a\\\": 3, \\\"title\\\": \\\"title\\\", \\\"num_row\\\": 1116609, \\\"type\\\": \\\"str\\\", \\\"num_unique\\\": 9566, \\\"num_missing\\\": 0, \\\"categorical\\\": [{\\\"label\\\": \\\"Sehr kosmisch\\\", \\\"label_idx\\\": 0, \\\"count\\\": 5970, \\\"percentage\\\": \\\"0.534654%\\\"}, {\\\"label\\\": \\\"Undo\\\", \\\"label_idx\\\": 1, \\\"count\\\": 5281, \\\"percentage\\\": \\\"0.47295%\\\"}, {\\\"label\\\": \\\"You&apos;re The One\\\", \\\"label_idx\\\": 2, \\\"count\\\": 4936, \\\"percentage\\\": \\\"0.442053%\\\"}, {\\\"label\\\": \\\"Dog Days Are Over (Radio Edit)\\\", \\\"label_idx\\\": 3, \\\"count\\\": 4536, \\\"percentage\\\": \\\"0.40623%\\\"}, {\\\"label\\\": \\\"Revelry\\\", \\\"label_idx\\\": 4, \\\"count\\\": 4339, \\\"percentage\\\": \\\"0.388587%\\\"}, {\\\"label\\\": \\\"Horn Concerto No. 4 in E flat K495: II. Romance (Andante cantabile)\\\", \\\"label_idx\\\": 5, \\\"count\\\": 3949, \\\"percentage\\\": \\\"0.35366%\\\"}, {\\\"label\\\": \\\"Secrets\\\", \\\"label_idx\\\": 6, \\\"count\\\": 3916, \\\"percentage\\\": \\\"0.350705%\\\"}, {\\\"label\\\": \\\"Tive Sim\\\", \\\"label_idx\\\": 7, \\\"count\\\": 3185, \\\"percentage\\\": \\\"0.285239%\\\"}, {\\\"label\\\": \\\"Fireflies\\\", \\\"label_idx\\\": 8, \\\"count\\\": 3171, \\\"percentage\\\": \\\"0.283985%\\\"}, {\\\"label\\\": \\\"Hey_ Soul Sister\\\", \\\"label_idx\\\": 9, \\\"count\\\": 3132, \\\"percentage\\\": \\\"0.280492%\\\"}, {\\\"label\\\": \\\"Other (9556 labels)\\\", \\\"label_idx\\\": 10, \\\"count\\\": 1074194, \\\"percentage\\\": \\\"96.2014%\\\"}], \\\"numeric\\\": []}, {\\\"a\\\": 4, \\\"title\\\": \\\"artist\\\", \\\"num_row\\\": 1116609, \\\"type\\\": \\\"str\\\", \\\"num_unique\\\": 3375, \\\"num_missing\\\": 0, \\\"categorical\\\": [{\\\"label\\\": \\\"Coldplay\\\", \\\"label_idx\\\": 0, \\\"count\\\": 13945, \\\"percentage\\\": \\\"1.24887%\\\"}, {\\\"label\\\": \\\"Florence + The Machine\\\", \\\"label_idx\\\": 1, \\\"count\\\": 10082, \\\"percentage\\\": \\\"0.902912%\\\"}, {\\\"label\\\": \\\"Kings Of Leon\\\", \\\"label_idx\\\": 2, \\\"count\\\": 9908, \\\"percentage\\\": \\\"0.887329%\\\"}, {\\\"label\\\": \\\"Justin Bieber\\\", \\\"label_idx\\\": 3, \\\"count\\\": 8796, \\\"percentage\\\": \\\"0.787742%\\\"}, {\\\"label\\\": \\\"The Black Keys\\\", \\\"label_idx\\\": 4, \\\"count\\\": 8141, \\\"percentage\\\": \\\"0.729082%\\\"}, {\\\"label\\\": \\\"Jack Johnson\\\", \\\"label_idx\\\": 5, \\\"count\\\": 7907, \\\"percentage\\\": \\\"0.708126%\\\"}, {\\\"label\\\": \\\"Train\\\", \\\"label_idx\\\": 6, \\\"count\\\": 7738, \\\"percentage\\\": \\\"0.692991%\\\"}, {\\\"label\\\": \\\"Eminem\\\", \\\"label_idx\\\": 7, \\\"count\\\": 7558, \\\"percentage\\\": \\\"0.676871%\\\"}, {\\\"label\\\": \\\"OneRepublic\\\", \\\"label_idx\\\": 8, \\\"count\\\": 7228, \\\"percentage\\\": \\\"0.647317%\\\"}, {\\\"label\\\": \\\"Radiohead\\\", \\\"label_idx\\\": 9, \\\"count\\\": 7180, \\\"percentage\\\": \\\"0.643018%\\\"}, {\\\"label\\\": \\\"Other (3365 labels)\\\", \\\"label_idx\\\": 10, \\\"count\\\": 1028126, \\\"percentage\\\": \\\"92.0757%\\\"}], \\\"numeric\\\": []}, {\\\"a\\\": 5, \\\"title\\\": \\\"song\\\", \\\"num_row\\\": 1116609, \\\"type\\\": \\\"str\\\", \\\"num_unique\\\": 9952, \\\"num_missing\\\": 0, \\\"categorical\\\": [{\\\"label\\\": \\\"Sehr kosmisch - Harmonia\\\", \\\"label_idx\\\": 0, \\\"count\\\": 5970, \\\"percentage\\\": \\\"0.534654%\\\"}, {\\\"label\\\": \\\"Undo - Bj\\\\u00f6rk\\\", \\\"label_idx\\\": 1, \\\"count\\\": 5281, \\\"percentage\\\": \\\"0.47295%\\\"}, {\\\"label\\\": \\\"You&apos;re The One - Dwight Yoakam\\\", \\\"label_idx\\\": 2, \\\"count\\\": 4806, \\\"percentage\\\": \\\"0.43041%\\\"}, {\\\"label\\\": \\\"Dog Days Are Over (Radio Edit) - Florence + The Machine\\\", \\\"label_idx\\\": 3, \\\"count\\\": 4536, \\\"percentage\\\": \\\"0.40623%\\\"}, {\\\"label\\\": \\\"Revelry - Kings Of Leon\\\", \\\"label_idx\\\": 4, \\\"count\\\": 4339, \\\"percentage\\\": \\\"0.388587%\\\"}, {\\\"label\\\": \\\"Horn Concerto No. 4 in E flat K495: II. Romance (Andante cantabile) - Barry Tuckwell/Academy of St Martin-in-the-Fields/Sir Neville Marriner\\\", \\\"label_idx\\\": 5, \\\"count\\\": 3949, \\\"percentage\\\": \\\"0.35366%\\\"}, {\\\"label\\\": \\\"Secrets - OneRepublic\\\", \\\"label_idx\\\": 6, \\\"count\\\": 3916, \\\"percentage\\\": \\\"0.350705%\\\"}, {\\\"label\\\": \\\"Tive Sim - Cartola\\\", \\\"label_idx\\\": 7, \\\"count\\\": 3185, \\\"percentage\\\": \\\"0.285239%\\\"}, {\\\"label\\\": \\\"Fireflies - Charttraxx Karaoke\\\", \\\"label_idx\\\": 8, \\\"count\\\": 3171, \\\"percentage\\\": \\\"0.283985%\\\"}, {\\\"label\\\": \\\"Hey_ Soul Sister - Train\\\", \\\"label_idx\\\": 9, \\\"count\\\": 3132, \\\"percentage\\\": \\\"0.280492%\\\"}, {\\\"label\\\": \\\"Other (9942 labels)\\\", \\\"label_idx\\\": 10, \\\"count\\\": 1074324, \\\"percentage\\\": \\\"96.2131%\\\"}], \\\"numeric\\\": []}]}, {\\\"name\\\": \\\"data_2\\\", \\\"source\\\": \\\"source_2\\\", \\\"transform\\\": [{\\\"type\\\": \\\"formula\\\", \\\"expr\\\": \\\"20\\\", \\\"as\\\": \\\"c_x_axis_back\\\"}, {\\\"type\\\": \\\"formula\\\", \\\"expr\\\": \\\"toNumber(datum[\\\\\\\"a\\\\\\\"])*300+66\\\", \\\"as\\\": \\\"c_main_background\\\"}, {\\\"type\\\": \\\"formula\\\", \\\"expr\\\": \\\"toNumber(datum[\\\\\\\"a\\\\\\\"])*300+43\\\", \\\"as\\\": \\\"c_top_bar\\\"}, {\\\"type\\\": \\\"formula\\\", \\\"expr\\\": \\\"toNumber(datum[\\\\\\\"a\\\\\\\"])*300+59\\\", \\\"as\\\": \\\"c_top_title\\\"}, {\\\"type\\\": \\\"formula\\\", \\\"expr\\\": \\\"toNumber(datum[\\\\\\\"a\\\\\\\"])*300+58\\\", \\\"as\\\": \\\"c_top_type\\\"}, {\\\"type\\\": \\\"formula\\\", \\\"expr\\\": \\\"toNumber(datum[\\\\\\\"a\\\\\\\"])*300+178\\\", \\\"as\\\": \\\"c_rule\\\"}, {\\\"type\\\": \\\"formula\\\", \\\"expr\\\": \\\"toNumber(datum[\\\\\\\"a\\\\\\\"])*300+106\\\", \\\"as\\\": \\\"c_num_rows\\\"}, {\\\"type\\\": \\\"formula\\\", \\\"expr\\\": \\\"toNumber(datum[\\\\\\\"a\\\\\\\"])*300+130\\\", \\\"as\\\": \\\"c_num_unique\\\"}, {\\\"type\\\": \\\"formula\\\", \\\"expr\\\": \\\"toNumber(datum[\\\\\\\"a\\\\\\\"])*300+154\\\", \\\"as\\\": \\\"c_missing\\\"}, {\\\"type\\\": \\\"formula\\\", \\\"expr\\\": \\\"toNumber(datum[\\\\\\\"a\\\\\\\"])*300+105\\\", \\\"as\\\": \\\"c_num_rows_val\\\"}, {\\\"type\\\": \\\"formula\\\", \\\"expr\\\": \\\"toNumber(datum[\\\\\\\"a\\\\\\\"])*300+130\\\", \\\"as\\\": \\\"c_num_unique_val\\\"}, {\\\"type\\\": \\\"formula\\\", \\\"expr\\\": \\\"toNumber(datum[\\\\\\\"a\\\\\\\"])*300+154\\\", \\\"as\\\": \\\"c_missing_val\\\"}, {\\\"type\\\": \\\"formula\\\", \\\"expr\\\": \\\"toNumber(datum[\\\\\\\"a\\\\\\\"])*300+195\\\", \\\"as\\\": \\\"c_frequent_items\\\"}, {\\\"type\\\": \\\"formula\\\", \\\"expr\\\": \\\"toNumber(datum[\\\\\\\"a\\\\\\\"])*300+218\\\", \\\"as\\\": \\\"c_first_item\\\"}, {\\\"type\\\": \\\"formula\\\", \\\"expr\\\": \\\"toNumber(datum[\\\\\\\"a\\\\\\\"])*300+235\\\", \\\"as\\\": \\\"c_second_item\\\"}, {\\\"type\\\": \\\"formula\\\", \\\"expr\\\": \\\"toNumber(datum[\\\\\\\"a\\\\\\\"])*300+252\\\", \\\"as\\\": \\\"c_third_item\\\"}, {\\\"type\\\": \\\"formula\\\", \\\"expr\\\": \\\"toNumber(datum[\\\\\\\"a\\\\\\\"])*300+269\\\", \\\"as\\\": \\\"c_fourth_item\\\"}, {\\\"type\\\": \\\"formula\\\", \\\"expr\\\": \\\"toNumber(datum[\\\\\\\"a\\\\\\\"])*300+286\\\", \\\"as\\\": \\\"c_fifth_item\\\"}, {\\\"type\\\": \\\"formula\\\", \\\"expr\\\": \\\"toNumber(datum[\\\\\\\"a\\\\\\\"])*300+200\\\", \\\"as\\\": \\\"c_mean\\\"}, {\\\"type\\\": \\\"formula\\\", \\\"expr\\\": \\\"toNumber(datum[\\\\\\\"a\\\\\\\"])*300+220\\\", \\\"as\\\": \\\"c_min\\\"}, {\\\"type\\\": \\\"formula\\\", \\\"expr\\\": \\\"toNumber(datum[\\\\\\\"a\\\\\\\"])*300+240\\\", \\\"as\\\": \\\"c_max\\\"}, {\\\"type\\\": \\\"formula\\\", \\\"expr\\\": \\\"toNumber(datum[\\\\\\\"a\\\\\\\"])*300+260\\\", \\\"as\\\": \\\"c_median\\\"}, {\\\"type\\\": \\\"formula\\\", \\\"expr\\\": \\\"toNumber(datum[\\\\\\\"a\\\\\\\"])*300+280\\\", \\\"as\\\": \\\"c_stdev\\\"}, {\\\"type\\\": \\\"formula\\\", \\\"expr\\\": \\\"toNumber(datum[\\\\\\\"a\\\\\\\"])*300+198\\\", \\\"as\\\": \\\"c_mean_val\\\"}, {\\\"type\\\": \\\"formula\\\", \\\"expr\\\": \\\"toNumber(datum[\\\\\\\"a\\\\\\\"])*300+218\\\", \\\"as\\\": \\\"c_min_val\\\"}, {\\\"type\\\": \\\"formula\\\", \\\"expr\\\": \\\"toNumber(datum[\\\\\\\"a\\\\\\\"])*300+238\\\", \\\"as\\\": \\\"c_max_val\\\"}, {\\\"type\\\": \\\"formula\\\", \\\"expr\\\": \\\"toNumber(datum[\\\\\\\"a\\\\\\\"])*300+258\\\", \\\"as\\\": \\\"c_median_val\\\"}, {\\\"type\\\": \\\"formula\\\", \\\"expr\\\": \\\"toNumber(datum[\\\\\\\"a\\\\\\\"])*300+278\\\", \\\"as\\\": \\\"c_stdev_val\\\"}, {\\\"type\\\": \\\"formula\\\", \\\"expr\\\": \\\"toNumber(datum[\\\\\\\"a\\\\\\\"])*300+106\\\", \\\"as\\\": \\\"graph_offset\\\"}, {\\\"type\\\": \\\"formula\\\", \\\"expr\\\": \\\"toNumber(datum[\\\\\\\"a\\\\\\\"])*300+132\\\", \\\"as\\\": \\\"graph_offset_categorical\\\"}, {\\\"type\\\": \\\"formula\\\", \\\"expr\\\": \\\"(toString(datum[\\\\\\\"type\\\\\\\"]) == \\\\\\\"integer\\\\\\\" || toString(datum[\\\\\\\"type\\\\\\\"]) == \\\\\\\"float\\\\\\\")?false:true\\\", \\\"as\\\": \\\"c_clip_val\\\"}, {\\\"type\\\": \\\"formula\\\", \\\"expr\\\": \\\"(toString(datum[\\\\\\\"type\\\\\\\"]) == \\\\\\\"integer\\\\\\\" || toString(datum[\\\\\\\"type\\\\\\\"]) == \\\\\\\"float\\\\\\\")?250:0\\\", \\\"as\\\": \\\"c_width_numeric_val\\\"}, {\\\"type\\\": \\\"formula\\\", \\\"expr\\\": \\\"(toString(datum[\\\\\\\"type\\\\\\\"]) == \\\\\\\"str\\\\\\\")?false:true\\\", \\\"as\\\": \\\"c_clip_val_cat\\\"}, {\\\"type\\\": \\\"formula\\\", \\\"expr\\\": \\\"(toString(datum[\\\\\\\"type\\\\\\\"]) == \\\\\\\"str\\\\\\\")?250:0\\\", \\\"as\\\": \\\"c_width_numeric_val_cat\\\"}]}], \\\"marks\\\": [{\\\"encode\\\": {\\\"enter\\\": {\\\"x\\\": {\\\"value\\\": 0}, \\\"width\\\": {\\\"value\\\": 734}, \\\"y\\\": {\\\"value\\\": 0}, \\\"height\\\": {\\\"value\\\": 366}, \\\"clip\\\": {\\\"value\\\": 0}, \\\"fill\\\": {\\\"value\\\": \\\"#ffffff\\\"}, \\\"fillOpacity\\\": {\\\"value\\\": 0}, \\\"stroke\\\": {\\\"value\\\": \\\"#000000\\\"}, \\\"strokeWidth\\\": {\\\"value\\\": 0}}}, \\\"marks\\\": [{\\\"encode\\\": {\\\"enter\\\": {\\\"x\\\": {\\\"value\\\": 0}, \\\"width\\\": {\\\"value\\\": 734}, \\\"y\\\": {\\\"value\\\": 0}, \\\"height\\\": {\\\"value\\\": 366}, \\\"clip\\\": {\\\"value\\\": 0}, \\\"fill\\\": {\\\"value\\\": \\\"#ffffff\\\"}, \\\"fillOpacity\\\": {\\\"value\\\": 0}, \\\"stroke\\\": {\\\"value\\\": \\\"#000000\\\"}, \\\"strokeWidth\\\": {\\\"value\\\": 0}}}, \\\"scales\\\": [], \\\"axes\\\": [], \\\"marks\\\": [{\\\"from\\\": {\\\"data\\\": \\\"data_2\\\"}, \\\"encode\\\": {\\\"enter\\\": {\\\"x\\\": {\\\"value\\\": 33}, \\\"width\\\": {\\\"value\\\": 700}, \\\"y\\\": {\\\"value\\\": 66}, \\\"height\\\": {\\\"value\\\": 250}, \\\"fill\\\": {\\\"value\\\": \\\"#FEFEFE\\\"}, \\\"fillOpacity\\\": {\\\"value\\\": 1}, \\\"stroke\\\": {\\\"value\\\": \\\"#DEDEDE\\\"}, \\\"strokeWidth\\\": {\\\"value\\\": 0.5}}, \\\"update\\\": {\\\"x\\\": {\\\"signal\\\": \\\"datum[\\\\\\\"c_x_axis_back\\\\\\\"]\\\"}, \\\"y\\\": {\\\"field\\\": \\\"c_main_background\\\"}}}, \\\"type\\\": \\\"rect\\\"}, {\\\"from\\\": {\\\"data\\\": \\\"data_2\\\"}, \\\"encode\\\": {\\\"enter\\\": {\\\"x\\\": {\\\"value\\\": 33}, \\\"width\\\": {\\\"value\\\": 700}, \\\"y\\\": {\\\"value\\\": 43}, \\\"height\\\": {\\\"value\\\": 30}, \\\"fill\\\": {\\\"value\\\": \\\"#F5F5F5\\\"}, \\\"fillOpacity\\\": {\\\"value\\\": 1}, \\\"stroke\\\": {\\\"value\\\": \\\"#DEDEDE\\\"}, \\\"strokeWidth\\\": {\\\"value\\\": 0.5}}, \\\"update\\\": {\\\"x\\\": {\\\"signal\\\": \\\"datum[\\\\\\\"c_x_axis_back\\\\\\\"]\\\"}, \\\"y\\\": {\\\"field\\\": \\\"c_top_bar\\\"}}}, \\\"type\\\": \\\"rect\\\"}, {\\\"from\\\": {\\\"data\\\": \\\"data_2\\\"}, \\\"encode\\\": {\\\"enter\\\": {\\\"x\\\": {\\\"value\\\": 720}, \\\"y\\\": {\\\"value\\\": 58}, \\\"text\\\": {\\\"signal\\\": \\\"&apos;&apos;+datum[\\\\\\\"type\\\\\\\"]\\\"}, \\\"align\\\": {\\\"value\\\": \\\"right\\\"}, \\\"baseline\\\": {\\\"value\\\": \\\"middle\\\"}, \\\"dx\\\": {\\\"value\\\": 0, \\\"offset\\\": 0}, \\\"dy\\\": {\\\"value\\\": 0, \\\"offset\\\": 0}, \\\"angle\\\": {\\\"value\\\": 0}, \\\"font\\\": {\\\"value\\\": \\\"AvenirNext-Medium\\\"}, \\\"fontSize\\\": {\\\"value\\\": 12}, \\\"fontWeight\\\": {\\\"value\\\": \\\"normal\\\"}, \\\"fontStyle\\\": {\\\"value\\\": \\\"normal\\\"}, \\\"fill\\\": {\\\"value\\\": \\\"#595859\\\"}}, \\\"update\\\": {\\\"x\\\": {\\\"signal\\\": \\\"datum[\\\\\\\"c_x_axis_back\\\\\\\"]+687\\\"}, \\\"y\\\": {\\\"field\\\": \\\"c_top_type\\\"}}}, \\\"type\\\": \\\"text\\\"}, {\\\"from\\\": {\\\"data\\\": \\\"data_2\\\"}, \\\"encode\\\": {\\\"enter\\\": {\\\"x\\\": {\\\"value\\\": 44}, \\\"y\\\": {\\\"value\\\": 59}, \\\"text\\\": {\\\"signal\\\": \\\"&apos;&apos;+datum[\\\\\\\"title\\\\\\\"]\\\"}, \\\"align\\\": {\\\"value\\\": \\\"left\\\"}, \\\"baseline\\\": {\\\"value\\\": \\\"middle\\\"}, \\\"dx\\\": {\\\"value\\\": 0, \\\"offset\\\": 0}, \\\"dy\\\": {\\\"value\\\": 0, \\\"offset\\\": 0}, \\\"angle\\\": {\\\"value\\\": 0}, \\\"font\\\": {\\\"value\\\": \\\"AvenirNext-Medium\\\"}, \\\"fontSize\\\": {\\\"value\\\": 15}, \\\"fontWeight\\\": {\\\"value\\\": \\\"normal\\\"}, \\\"fontStyle\\\": {\\\"value\\\": \\\"normal\\\"}, \\\"fill\\\": {\\\"value\\\": \\\"#9B9B9B\\\"}}, \\\"update\\\": {\\\"x\\\": {\\\"signal\\\": \\\"datum[\\\\\\\"c_x_axis_back\\\\\\\"]+11\\\"}, \\\"y\\\": {\\\"field\\\": \\\"c_top_title\\\"}}}, \\\"type\\\": \\\"text\\\"}, {\\\"from\\\": {\\\"data\\\": \\\"data_2\\\"}, \\\"encode\\\": {\\\"enter\\\": {\\\"x\\\": {\\\"value\\\": 500}, \\\"y\\\": {\\\"value\\\": 178}, \\\"stroke\\\": {\\\"value\\\": \\\"#EDEDEB\\\"}, \\\"strokeWidth\\\": {\\\"value\\\": 1}, \\\"strokeCap\\\": {\\\"value\\\": \\\"butt\\\"}, \\\"x2\\\": {\\\"value\\\": 720}, \\\"y2\\\": {\\\"value\\\": 178}}, \\\"update\\\": {\\\"x\\\": {\\\"signal\\\": \\\"datum[\\\\\\\"c_x_axis_back\\\\\\\"]+467\\\"}, \\\"x2\\\": {\\\"signal\\\": \\\"datum[\\\\\\\"c_x_axis_back\\\\\\\"]+687\\\"}, \\\"y\\\": {\\\"field\\\": \\\"c_rule\\\"}, \\\"y2\\\": {\\\"field\\\": \\\"c_rule\\\"}}}, \\\"type\\\": \\\"rule\\\"}, {\\\"from\\\": {\\\"data\\\": \\\"data_2\\\"}, \\\"encode\\\": {\\\"enter\\\": {\\\"x\\\": {\\\"value\\\": 500}, \\\"y\\\": {\\\"value\\\": 106}, \\\"text\\\": {\\\"value\\\": \\\"Num. Rows:\\\"}, \\\"align\\\": {\\\"value\\\": \\\"left\\\"}, \\\"baseline\\\": {\\\"value\\\": \\\"middle\\\"}, \\\"dx\\\": {\\\"value\\\": 0, \\\"offset\\\": 0}, \\\"dy\\\": {\\\"value\\\": 0, \\\"offset\\\": 0}, \\\"angle\\\": {\\\"value\\\": 0}, \\\"font\\\": {\\\"value\\\": \\\"AvenirNext-Medium\\\"}, \\\"fontSize\\\": {\\\"value\\\": 12}, \\\"fontWeight\\\": {\\\"value\\\": \\\"normal\\\"}, \\\"fontStyle\\\": {\\\"value\\\": \\\"normal\\\"}, \\\"fill\\\": {\\\"value\\\": \\\"#4A4A4A\\\"}}, \\\"update\\\": {\\\"x\\\": {\\\"signal\\\": \\\"datum[\\\\\\\"c_x_axis_back\\\\\\\"]+467\\\"}, \\\"y\\\": {\\\"field\\\": \\\"c_num_rows\\\"}}}, \\\"type\\\": \\\"text\\\"}, {\\\"from\\\": {\\\"data\\\": \\\"data_2\\\"}, \\\"encode\\\": {\\\"enter\\\": {\\\"x\\\": {\\\"value\\\": 500}, \\\"y\\\": {\\\"value\\\": 130}, \\\"text\\\": {\\\"value\\\": \\\"Num. Unique:\\\"}, \\\"align\\\": {\\\"value\\\": \\\"left\\\"}, \\\"baseline\\\": {\\\"value\\\": \\\"middle\\\"}, \\\"dx\\\": {\\\"value\\\": 0, \\\"offset\\\": 0}, \\\"dy\\\": {\\\"value\\\": 0, \\\"offset\\\": 0}, \\\"angle\\\": {\\\"value\\\": 0}, \\\"font\\\": {\\\"value\\\": \\\"AvenirNext-Medium\\\"}, \\\"fontSize\\\": {\\\"value\\\": 12}, \\\"fontWeight\\\": {\\\"value\\\": \\\"normal\\\"}, \\\"fontStyle\\\": {\\\"value\\\": \\\"normal\\\"}, \\\"fill\\\": {\\\"value\\\": \\\"#4A4A4A\\\"}}, \\\"update\\\": {\\\"x\\\": {\\\"signal\\\": \\\"datum[\\\\\\\"c_x_axis_back\\\\\\\"]+467\\\"}, \\\"y\\\": {\\\"field\\\": \\\"c_num_unique\\\"}}}, \\\"type\\\": \\\"text\\\"}, {\\\"from\\\": {\\\"data\\\": \\\"data_2\\\"}, \\\"encode\\\": {\\\"enter\\\": {\\\"x\\\": {\\\"value\\\": 500}, \\\"y\\\": {\\\"value\\\": 154}, \\\"text\\\": {\\\"value\\\": \\\"Missing:\\\"}, \\\"align\\\": {\\\"value\\\": \\\"left\\\"}, \\\"baseline\\\": {\\\"value\\\": \\\"middle\\\"}, \\\"dx\\\": {\\\"value\\\": 0, \\\"offset\\\": 0}, \\\"dy\\\": {\\\"value\\\": 0, \\\"offset\\\": 0}, \\\"angle\\\": {\\\"value\\\": 0}, \\\"font\\\": {\\\"value\\\": \\\"AvenirNext-Medium\\\"}, \\\"fontSize\\\": {\\\"value\\\": 12}, \\\"fontWeight\\\": {\\\"value\\\": \\\"normal\\\"}, \\\"fontStyle\\\": {\\\"value\\\": \\\"normal\\\"}, \\\"fill\\\": {\\\"value\\\": \\\"#4A4A4A\\\"}}, \\\"update\\\": {\\\"x\\\": {\\\"signal\\\": \\\"datum[\\\\\\\"c_x_axis_back\\\\\\\"]+467\\\"}, \\\"y\\\": {\\\"field\\\": \\\"c_missing\\\"}}}, \\\"type\\\": \\\"text\\\"}, {\\\"from\\\": {\\\"data\\\": \\\"data_2\\\"}, \\\"encode\\\": {\\\"enter\\\": {\\\"x\\\": {\\\"value\\\": 700}, \\\"y\\\": {\\\"value\\\": 105}, \\\"text\\\": {\\\"signal\\\": \\\"toString(format(datum[\\\\\\\"num_row\\\\\\\"], \\\\\\\",\\\\\\\"))\\\"}, \\\"align\\\": {\\\"value\\\": \\\"right\\\"}, \\\"baseline\\\": {\\\"value\\\": \\\"middle\\\"}, \\\"dx\\\": {\\\"value\\\": 0, \\\"offset\\\": 0}, \\\"dy\\\": {\\\"value\\\": 0, \\\"offset\\\": 0}, \\\"angle\\\": {\\\"value\\\": 0}, \\\"font\\\": {\\\"value\\\": \\\"AvenirNext-Medium\\\"}, \\\"fontSize\\\": {\\\"value\\\": 12}, \\\"fontWeight\\\": {\\\"value\\\": \\\"normal\\\"}, \\\"fontStyle\\\": {\\\"value\\\": \\\"normal\\\"}, \\\"fill\\\": {\\\"value\\\": \\\"#5A5A5A\\\"}}, \\\"update\\\": {\\\"x\\\": {\\\"signal\\\": \\\"datum[\\\\\\\"c_x_axis_back\\\\\\\"]+667\\\"}, \\\"y\\\": {\\\"field\\\": \\\"c_num_rows_val\\\"}}}, \\\"type\\\": \\\"text\\\"}, {\\\"from\\\": {\\\"data\\\": \\\"data_2\\\"}, \\\"encode\\\": {\\\"enter\\\": {\\\"x\\\": {\\\"value\\\": 700}, \\\"y\\\": {\\\"value\\\": 130}, \\\"text\\\": {\\\"signal\\\": \\\"toString(format(datum[\\\\\\\"num_unique\\\\\\\"], \\\\\\\",\\\\\\\"))\\\"}, \\\"align\\\": {\\\"value\\\": \\\"right\\\"}, \\\"baseline\\\": {\\\"value\\\": \\\"middle\\\"}, \\\"dx\\\": {\\\"value\\\": 0, \\\"offset\\\": 0}, \\\"dy\\\": {\\\"value\\\": 0, \\\"offset\\\": 0}, \\\"angle\\\": {\\\"value\\\": 0}, \\\"font\\\": {\\\"value\\\": \\\"AvenirNext-Medium\\\"}, \\\"fontSize\\\": {\\\"value\\\": 12}, \\\"fontWeight\\\": {\\\"value\\\": \\\"normal\\\"}, \\\"fontStyle\\\": {\\\"value\\\": \\\"normal\\\"}, \\\"fill\\\": {\\\"value\\\": \\\"#5A5A5A\\\"}}, \\\"update\\\": {\\\"x\\\": {\\\"signal\\\": \\\"datum[\\\\\\\"c_x_axis_back\\\\\\\"]+667\\\"}, \\\"y\\\": {\\\"field\\\": \\\"c_num_unique_val\\\"}}}, \\\"type\\\": \\\"text\\\"}, {\\\"from\\\": {\\\"data\\\": \\\"data_2\\\"}, \\\"encode\\\": {\\\"enter\\\": {\\\"x\\\": {\\\"value\\\": 700}, \\\"y\\\": {\\\"value\\\": 154}, \\\"text\\\": {\\\"signal\\\": \\\"toString(format(datum[\\\\\\\"num_missing\\\\\\\"], \\\\\\\",\\\\\\\"))\\\"}, \\\"align\\\": {\\\"value\\\": \\\"right\\\"}, \\\"baseline\\\": {\\\"value\\\": \\\"middle\\\"}, \\\"dx\\\": {\\\"value\\\": 0, \\\"offset\\\": 0}, \\\"dy\\\": {\\\"value\\\": 0, \\\"offset\\\": 0}, \\\"angle\\\": {\\\"value\\\": 0}, \\\"font\\\": {\\\"value\\\": \\\"AvenirNext-Medium\\\"}, \\\"fontSize\\\": {\\\"value\\\": 12}, \\\"fontWeight\\\": {\\\"value\\\": \\\"normal\\\"}, \\\"fontStyle\\\": {\\\"value\\\": \\\"normal\\\"}, \\\"fill\\\": {\\\"value\\\": \\\"#5A5A5A\\\"}}, \\\"update\\\": {\\\"x\\\": {\\\"signal\\\": \\\"datum[\\\\\\\"c_x_axis_back\\\\\\\"]+667\\\"}, \\\"y\\\": {\\\"field\\\": \\\"c_missing_val\\\"}}}, \\\"type\\\": \\\"text\\\"}, {\\\"from\\\": {\\\"data\\\": \\\"data_2\\\"}, \\\"encode\\\": {\\\"enter\\\": {\\\"x\\\": {\\\"value\\\": 500}, \\\"y\\\": {\\\"value\\\": 200}, \\\"text\\\": {\\\"signal\\\": \\\"(toString(datum[\\\\\\\"type\\\\\\\"]) == \\\\\\\"str\\\\\\\")? \\\\\\\"Frequent Items\\\\\\\":\\\\\\\"\\\\\\\"\\\"}, \\\"align\\\": {\\\"value\\\": \\\"left\\\"}, \\\"baseline\\\": {\\\"value\\\": \\\"middle\\\"}, \\\"dx\\\": {\\\"value\\\": 0, \\\"offset\\\": 0}, \\\"dy\\\": {\\\"value\\\": 0, \\\"offset\\\": 0}, \\\"angle\\\": {\\\"value\\\": 0}, \\\"clip\\\": {\\\"value\\\": true}, \\\"font\\\": {\\\"value\\\": \\\"AvenirNext-Medium\\\"}, \\\"fontSize\\\": {\\\"value\\\": 11}, \\\"fontWeight\\\": {\\\"value\\\": \\\"bold\\\"}, \\\"fontStyle\\\": {\\\"value\\\": \\\"normal\\\"}, \\\"fill\\\": {\\\"value\\\": \\\"#4A4A4A\\\"}}, \\\"update\\\": {\\\"x\\\": {\\\"signal\\\": \\\"datum[\\\\\\\"c_x_axis_back\\\\\\\"]+467\\\"}, \\\"y\\\": {\\\"field\\\": \\\"c_frequent_items\\\"}}}, \\\"type\\\": \\\"text\\\"}, {\\\"from\\\": {\\\"data\\\": \\\"data_2\\\"}, \\\"encode\\\": {\\\"enter\\\": {\\\"x\\\": {\\\"value\\\": 520}, \\\"y\\\": {\\\"value\\\": 200}, \\\"text\\\": {\\\"signal\\\": \\\"((datum[\\\\\\\"categorical\\\\\\\"].length >= 1) &amp;&amp; (toString(datum[\\\\\\\"type\\\\\\\"]) == \\\\\\\"str\\\\\\\"))? toString(datum[\\\\\\\"categorical\\\\\\\"][0][\\\\\\\"label\\\\\\\"]):\\\\\\\"\\\\\\\"\\\"}, \\\"align\\\": {\\\"value\\\": \\\"left\\\"}, \\\"baseline\\\": {\\\"value\\\": \\\"middle\\\"}, \\\"dx\\\": {\\\"value\\\": 0, \\\"offset\\\": 0}, \\\"dy\\\": {\\\"value\\\": 0, \\\"offset\\\": 0}, \\\"angle\\\": {\\\"value\\\": 0}, \\\"clip\\\": {\\\"value\\\": true}, \\\"font\\\": {\\\"value\\\": \\\"AvenirNext-Medium\\\"}, \\\"fontSize\\\": {\\\"value\\\": 11}, \\\"fontWeight\\\": {\\\"value\\\": \\\"normal\\\"}, \\\"fontStyle\\\": {\\\"value\\\": \\\"normal\\\"}, \\\"fill\\\": {\\\"value\\\": \\\"#4A4A4A\\\"}}, \\\"update\\\": {\\\"x\\\": {\\\"signal\\\": \\\"datum[\\\\\\\"c_x_axis_back\\\\\\\"]+487\\\"}, \\\"y\\\": {\\\"field\\\": \\\"c_first_item\\\"}}}, \\\"type\\\": \\\"text\\\"}, {\\\"from\\\": {\\\"data\\\": \\\"data_2\\\"}, \\\"encode\\\": {\\\"enter\\\": {\\\"x\\\": {\\\"value\\\": 520}, \\\"y\\\": {\\\"value\\\": 200}, \\\"text\\\": {\\\"signal\\\": \\\"((datum[\\\\\\\"categorical\\\\\\\"].length >= 2) &amp;&amp; (toString(datum[\\\\\\\"type\\\\\\\"]) == \\\\\\\"str\\\\\\\"))? toString(datum[\\\\\\\"categorical\\\\\\\"][1][\\\\\\\"label\\\\\\\"]):\\\\\\\"\\\\\\\"\\\"}, \\\"align\\\": {\\\"value\\\": \\\"left\\\"}, \\\"baseline\\\": {\\\"value\\\": \\\"middle\\\"}, \\\"dx\\\": {\\\"value\\\": 0, \\\"offset\\\": 0}, \\\"dy\\\": {\\\"value\\\": 0, \\\"offset\\\": 0}, \\\"angle\\\": {\\\"value\\\": 0}, \\\"clip\\\": {\\\"value\\\": true}, \\\"font\\\": {\\\"value\\\": \\\"AvenirNext-Medium\\\"}, \\\"fontSize\\\": {\\\"value\\\": 11}, \\\"fontWeight\\\": {\\\"value\\\": \\\"normal\\\"}, \\\"fontStyle\\\": {\\\"value\\\": \\\"normal\\\"}, \\\"fill\\\": {\\\"value\\\": \\\"#4A4A4A\\\"}}, \\\"update\\\": {\\\"x\\\": {\\\"signal\\\": \\\"datum[\\\\\\\"c_x_axis_back\\\\\\\"]+487\\\"}, \\\"y\\\": {\\\"field\\\": \\\"c_second_item\\\"}}}, \\\"type\\\": \\\"text\\\"}, {\\\"from\\\": {\\\"data\\\": \\\"data_2\\\"}, \\\"encode\\\": {\\\"enter\\\": {\\\"x\\\": {\\\"value\\\": 520}, \\\"y\\\": {\\\"value\\\": 200}, \\\"text\\\": {\\\"signal\\\": \\\"((datum[\\\\\\\"categorical\\\\\\\"].length >= 3) &amp;&amp; (toString(datum[\\\\\\\"type\\\\\\\"]) == \\\\\\\"str\\\\\\\"))? toString(datum[\\\\\\\"categorical\\\\\\\"][2][\\\\\\\"label\\\\\\\"]):\\\\\\\"\\\\\\\"\\\"}, \\\"align\\\": {\\\"value\\\": \\\"left\\\"}, \\\"baseline\\\": {\\\"value\\\": \\\"middle\\\"}, \\\"dx\\\": {\\\"value\\\": 0, \\\"offset\\\": 0}, \\\"dy\\\": {\\\"value\\\": 0, \\\"offset\\\": 0}, \\\"angle\\\": {\\\"value\\\": 0}, \\\"clip\\\": {\\\"value\\\": true}, \\\"font\\\": {\\\"value\\\": \\\"AvenirNext-Medium\\\"}, \\\"fontSize\\\": {\\\"value\\\": 11}, \\\"fontWeight\\\": {\\\"value\\\": \\\"normal\\\"}, \\\"fontStyle\\\": {\\\"value\\\": \\\"normal\\\"}, \\\"fill\\\": {\\\"value\\\": \\\"#4A4A4A\\\"}}, \\\"update\\\": {\\\"x\\\": {\\\"signal\\\": \\\"datum[\\\\\\\"c_x_axis_back\\\\\\\"]+487\\\"}, \\\"y\\\": {\\\"field\\\": \\\"c_third_item\\\"}}}, \\\"type\\\": \\\"text\\\"}, {\\\"from\\\": {\\\"data\\\": \\\"data_2\\\"}, \\\"encode\\\": {\\\"enter\\\": {\\\"x\\\": {\\\"value\\\": 520}, \\\"y\\\": {\\\"value\\\": 200}, \\\"text\\\": {\\\"signal\\\": \\\"((datum[\\\\\\\"categorical\\\\\\\"].length >= 4) &amp;&amp; (toString(datum[\\\\\\\"type\\\\\\\"]) == \\\\\\\"str\\\\\\\"))? toString(datum[\\\\\\\"categorical\\\\\\\"][3][\\\\\\\"label\\\\\\\"]):\\\\\\\"\\\\\\\"\\\"}, \\\"align\\\": {\\\"value\\\": \\\"left\\\"}, \\\"baseline\\\": {\\\"value\\\": \\\"middle\\\"}, \\\"dx\\\": {\\\"value\\\": 0, \\\"offset\\\": 0}, \\\"dy\\\": {\\\"value\\\": 0, \\\"offset\\\": 0}, \\\"angle\\\": {\\\"value\\\": 0}, \\\"clip\\\": {\\\"value\\\": true}, \\\"font\\\": {\\\"value\\\": \\\"AvenirNext-Medium\\\"}, \\\"fontSize\\\": {\\\"value\\\": 11}, \\\"fontWeight\\\": {\\\"value\\\": \\\"normal\\\"}, \\\"fontStyle\\\": {\\\"value\\\": \\\"normal\\\"}, \\\"fill\\\": {\\\"value\\\": \\\"#4A4A4A\\\"}}, \\\"update\\\": {\\\"x\\\": {\\\"signal\\\": \\\"datum[\\\\\\\"c_x_axis_back\\\\\\\"]+487\\\"}, \\\"y\\\": {\\\"field\\\": \\\"c_fourth_item\\\"}}}, \\\"type\\\": \\\"text\\\"}, {\\\"from\\\": {\\\"data\\\": \\\"data_2\\\"}, \\\"encode\\\": {\\\"enter\\\": {\\\"x\\\": {\\\"value\\\": 520}, \\\"y\\\": {\\\"value\\\": 200}, \\\"text\\\": {\\\"signal\\\": \\\"((datum[\\\\\\\"categorical\\\\\\\"].length >= 5) &amp;&amp; (toString(datum[\\\\\\\"type\\\\\\\"]) == \\\\\\\"str\\\\\\\"))? toString(datum[\\\\\\\"categorical\\\\\\\"][4][\\\\\\\"label\\\\\\\"]):\\\\\\\"\\\\\\\"\\\"}, \\\"align\\\": {\\\"value\\\": \\\"left\\\"}, \\\"baseline\\\": {\\\"value\\\": \\\"middle\\\"}, \\\"dx\\\": {\\\"value\\\": 0, \\\"offset\\\": 0}, \\\"dy\\\": {\\\"value\\\": 0, \\\"offset\\\": 0}, \\\"angle\\\": {\\\"value\\\": 0}, \\\"clip\\\": {\\\"value\\\": true}, \\\"font\\\": {\\\"value\\\": \\\"AvenirNext-Medium\\\"}, \\\"fontSize\\\": {\\\"value\\\": 11}, \\\"fontWeight\\\": {\\\"value\\\": \\\"normal\\\"}, \\\"fontStyle\\\": {\\\"value\\\": \\\"normal\\\"}, \\\"fill\\\": {\\\"value\\\": \\\"#4A4A4A\\\"}}, \\\"update\\\": {\\\"x\\\": {\\\"signal\\\": \\\"datum[\\\\\\\"c_x_axis_back\\\\\\\"]+487\\\"}, \\\"y\\\": {\\\"field\\\": \\\"c_fifth_item\\\"}}}, \\\"type\\\": \\\"text\\\"}, {\\\"from\\\": {\\\"data\\\": \\\"data_2\\\"}, \\\"encode\\\": {\\\"enter\\\": {\\\"x\\\": {\\\"value\\\": 700}, \\\"y\\\": {\\\"value\\\": 200}, \\\"text\\\": {\\\"signal\\\": \\\"((datum[\\\\\\\"categorical\\\\\\\"].length >= 1) &amp;&amp; (toString(datum[\\\\\\\"type\\\\\\\"]) == \\\\\\\"str\\\\\\\"))? toString(datum[\\\\\\\"categorical\\\\\\\"][0][\\\\\\\"count\\\\\\\"]):\\\\\\\"\\\\\\\"\\\"}, \\\"align\\\": {\\\"value\\\": \\\"right\\\"}, \\\"baseline\\\": {\\\"value\\\": \\\"middle\\\"}, \\\"dx\\\": {\\\"value\\\": 0, \\\"offset\\\": 0}, \\\"dy\\\": {\\\"value\\\": 0, \\\"offset\\\": 0}, \\\"angle\\\": {\\\"value\\\": 0}, \\\"clip\\\": {\\\"value\\\": true}, \\\"font\\\": {\\\"value\\\": \\\"AvenirNext-Medium\\\"}, \\\"fontSize\\\": {\\\"value\\\": 11}, \\\"fontWeight\\\": {\\\"value\\\": \\\"normal\\\"}, \\\"fontStyle\\\": {\\\"value\\\": \\\"normal\\\"}, \\\"fill\\\": {\\\"value\\\": \\\"#7A7A7A\\\"}}, \\\"update\\\": {\\\"x\\\": {\\\"signal\\\": \\\"datum[\\\\\\\"c_x_axis_back\\\\\\\"]+667\\\"}, \\\"y\\\": {\\\"field\\\": \\\"c_first_item\\\"}}}, \\\"type\\\": \\\"text\\\"}, {\\\"from\\\": {\\\"data\\\": \\\"data_2\\\"}, \\\"encode\\\": {\\\"enter\\\": {\\\"x\\\": {\\\"value\\\": 700}, \\\"y\\\": {\\\"value\\\": 200}, \\\"text\\\": {\\\"signal\\\": \\\"((datum[\\\\\\\"categorical\\\\\\\"].length >= 2) &amp;&amp; (toString(datum[\\\\\\\"type\\\\\\\"]) == \\\\\\\"str\\\\\\\"))? toString(datum[\\\\\\\"categorical\\\\\\\"][1][\\\\\\\"count\\\\\\\"]):\\\\\\\"\\\\\\\"\\\"}, \\\"align\\\": {\\\"value\\\": \\\"right\\\"}, \\\"baseline\\\": {\\\"value\\\": \\\"middle\\\"}, \\\"dx\\\": {\\\"value\\\": 0, \\\"offset\\\": 0}, \\\"dy\\\": {\\\"value\\\": 0, \\\"offset\\\": 0}, \\\"angle\\\": {\\\"value\\\": 0}, \\\"clip\\\": {\\\"value\\\": true}, \\\"font\\\": {\\\"value\\\": \\\"AvenirNext-Medium\\\"}, \\\"fontSize\\\": {\\\"value\\\": 10}, \\\"fontWeight\\\": {\\\"value\\\": \\\"normal\\\"}, \\\"fontStyle\\\": {\\\"value\\\": \\\"normal\\\"}, \\\"fill\\\": {\\\"value\\\": \\\"#7A7A7A\\\"}}, \\\"update\\\": {\\\"x\\\": {\\\"signal\\\": \\\"datum[\\\\\\\"c_x_axis_back\\\\\\\"]+667\\\"}, \\\"y\\\": {\\\"field\\\": \\\"c_second_item\\\"}}}, \\\"type\\\": \\\"text\\\"}, {\\\"from\\\": {\\\"data\\\": \\\"data_2\\\"}, \\\"encode\\\": {\\\"enter\\\": {\\\"x\\\": {\\\"value\\\": 700}, \\\"y\\\": {\\\"value\\\": 200}, \\\"text\\\": {\\\"signal\\\": \\\"((datum[\\\\\\\"categorical\\\\\\\"].length >= 3) &amp;&amp; (toString(datum[\\\\\\\"type\\\\\\\"]) == \\\\\\\"str\\\\\\\"))? toString(datum[\\\\\\\"categorical\\\\\\\"][2][\\\\\\\"count\\\\\\\"]):\\\\\\\"\\\\\\\"\\\"}, \\\"align\\\": {\\\"value\\\": \\\"right\\\"}, \\\"baseline\\\": {\\\"value\\\": \\\"middle\\\"}, \\\"dx\\\": {\\\"value\\\": 0, \\\"offset\\\": 0}, \\\"dy\\\": {\\\"value\\\": 0, \\\"offset\\\": 0}, \\\"angle\\\": {\\\"value\\\": 0}, \\\"clip\\\": {\\\"value\\\": true}, \\\"font\\\": {\\\"value\\\": \\\"AvenirNext-Medium\\\"}, \\\"fontSize\\\": {\\\"value\\\": 10}, \\\"fontWeight\\\": {\\\"value\\\": \\\"normal\\\"}, \\\"fontStyle\\\": {\\\"value\\\": \\\"normal\\\"}, \\\"fill\\\": {\\\"value\\\": \\\"#7A7A7A\\\"}}, \\\"update\\\": {\\\"x\\\": {\\\"signal\\\": \\\"datum[\\\\\\\"c_x_axis_back\\\\\\\"]+667\\\"}, \\\"y\\\": {\\\"field\\\": \\\"c_third_item\\\"}}}, \\\"type\\\": \\\"text\\\"}, {\\\"from\\\": {\\\"data\\\": \\\"data_2\\\"}, \\\"encode\\\": {\\\"enter\\\": {\\\"x\\\": {\\\"value\\\": 700}, \\\"y\\\": {\\\"value\\\": 200}, \\\"text\\\": {\\\"signal\\\": \\\"((datum[\\\\\\\"categorical\\\\\\\"].length >= 4) &amp;&amp; (toString(datum[\\\\\\\"type\\\\\\\"]) == \\\\\\\"str\\\\\\\"))? toString(datum[\\\\\\\"categorical\\\\\\\"][3][\\\\\\\"count\\\\\\\"]):\\\\\\\"\\\\\\\"\\\"}, \\\"align\\\": {\\\"value\\\": \\\"right\\\"}, \\\"baseline\\\": {\\\"value\\\": \\\"middle\\\"}, \\\"dx\\\": {\\\"value\\\": 0, \\\"offset\\\": 0}, \\\"dy\\\": {\\\"value\\\": 0, \\\"offset\\\": 0}, \\\"angle\\\": {\\\"value\\\": 0}, \\\"clip\\\": {\\\"value\\\": true}, \\\"font\\\": {\\\"value\\\": \\\"AvenirNext-Medium\\\"}, \\\"fontSize\\\": {\\\"value\\\": 10}, \\\"fontWeight\\\": {\\\"value\\\": \\\"normal\\\"}, \\\"fontStyle\\\": {\\\"value\\\": \\\"normal\\\"}, \\\"fill\\\": {\\\"value\\\": \\\"#7A7A7A\\\"}}, \\\"update\\\": {\\\"x\\\": {\\\"signal\\\": \\\"datum[\\\\\\\"c_x_axis_back\\\\\\\"]+667\\\"}, \\\"y\\\": {\\\"field\\\": \\\"c_fourth_item\\\"}}}, \\\"type\\\": \\\"text\\\"}, {\\\"from\\\": {\\\"data\\\": \\\"data_2\\\"}, \\\"encode\\\": {\\\"enter\\\": {\\\"x\\\": {\\\"value\\\": 700}, \\\"y\\\": {\\\"value\\\": 200}, \\\"text\\\": {\\\"signal\\\": \\\"((datum[\\\\\\\"categorical\\\\\\\"].length >= 5) &amp;&amp; (toString(datum[\\\\\\\"type\\\\\\\"]) == \\\\\\\"str\\\\\\\"))? toString(datum[\\\\\\\"categorical\\\\\\\"][4][\\\\\\\"count\\\\\\\"]):\\\\\\\"\\\\\\\"\\\"}, \\\"align\\\": {\\\"value\\\": \\\"right\\\"}, \\\"baseline\\\": {\\\"value\\\": \\\"middle\\\"}, \\\"dx\\\": {\\\"value\\\": 0, \\\"offset\\\": 0}, \\\"dy\\\": {\\\"value\\\": 0, \\\"offset\\\": 0}, \\\"angle\\\": {\\\"value\\\": 0}, \\\"clip\\\": {\\\"value\\\": true}, \\\"font\\\": {\\\"value\\\": \\\"AvenirNext-Medium\\\"}, \\\"fontSize\\\": {\\\"value\\\": 10}, \\\"fontWeight\\\": {\\\"value\\\": \\\"normal\\\"}, \\\"fontStyle\\\": {\\\"value\\\": \\\"normal\\\"}, \\\"fill\\\": {\\\"value\\\": \\\"#7A7A7A\\\"}}, \\\"update\\\": {\\\"x\\\": {\\\"signal\\\": \\\"datum[\\\\\\\"c_x_axis_back\\\\\\\"]+667\\\"}, \\\"y\\\": {\\\"field\\\": \\\"c_fifth_item\\\"}}}, \\\"type\\\": \\\"text\\\"}, {\\\"from\\\": {\\\"data\\\": \\\"data_2\\\"}, \\\"encode\\\": {\\\"enter\\\": {\\\"x\\\": {\\\"value\\\": 500}, \\\"y\\\": {\\\"value\\\": 200}, \\\"text\\\": {\\\"signal\\\": \\\"(toString(datum[\\\\\\\"type\\\\\\\"]) == \\\\\\\"integer\\\\\\\" || toString(datum[\\\\\\\"type\\\\\\\"]) == \\\\\\\"float\\\\\\\")? \\\\\\\"Mean:\\\\\\\":\\\\\\\"\\\\\\\"\\\"}, \\\"align\\\": {\\\"value\\\": \\\"left\\\"}, \\\"baseline\\\": {\\\"value\\\": \\\"middle\\\"}, \\\"dx\\\": {\\\"value\\\": 0, \\\"offset\\\": 0}, \\\"dy\\\": {\\\"value\\\": 0, \\\"offset\\\": 0}, \\\"angle\\\": {\\\"value\\\": 0}, \\\"clip\\\": {\\\"value\\\": true}, \\\"font\\\": {\\\"value\\\": \\\"AvenirNext-Medium\\\"}, \\\"fontSize\\\": {\\\"value\\\": 11}, \\\"fontWeight\\\": {\\\"value\\\": \\\"bold\\\"}, \\\"fontStyle\\\": {\\\"value\\\": \\\"normal\\\"}, \\\"fill\\\": {\\\"value\\\": \\\"#4A4A4A\\\"}}, \\\"update\\\": {\\\"x\\\": {\\\"signal\\\": \\\"datum[\\\\\\\"c_x_axis_back\\\\\\\"]+467\\\"}, \\\"y\\\": {\\\"field\\\": \\\"c_mean\\\"}}}, \\\"type\\\": \\\"text\\\"}, {\\\"from\\\": {\\\"data\\\": \\\"data_2\\\"}, \\\"encode\\\": {\\\"enter\\\": {\\\"x\\\": {\\\"value\\\": 500}, \\\"y\\\": {\\\"value\\\": 220}, \\\"text\\\": {\\\"signal\\\": \\\"(toString(datum[\\\\\\\"type\\\\\\\"]) == \\\\\\\"integer\\\\\\\" || toString(datum[\\\\\\\"type\\\\\\\"]) == \\\\\\\"float\\\\\\\")? \\\\\\\"Min:\\\\\\\":\\\\\\\"\\\\\\\"\\\"}, \\\"align\\\": {\\\"value\\\": \\\"left\\\"}, \\\"baseline\\\": {\\\"value\\\": \\\"middle\\\"}, \\\"dx\\\": {\\\"value\\\": 0, \\\"offset\\\": 0}, \\\"dy\\\": {\\\"value\\\": 0, \\\"offset\\\": 0}, \\\"angle\\\": {\\\"value\\\": 0}, \\\"font\\\": {\\\"value\\\": \\\"AvenirNext-Medium\\\"}, \\\"fontSize\\\": {\\\"value\\\": 11}, \\\"fontWeight\\\": {\\\"value\\\": \\\"bold\\\"}, \\\"fontStyle\\\": {\\\"value\\\": \\\"normal\\\"}, \\\"fill\\\": {\\\"value\\\": \\\"#4A4A4A\\\"}}, \\\"update\\\": {\\\"x\\\": {\\\"signal\\\": \\\"datum[\\\\\\\"c_x_axis_back\\\\\\\"]+467\\\"}, \\\"y\\\": {\\\"field\\\": \\\"c_min\\\"}}}, \\\"type\\\": \\\"text\\\"}, {\\\"from\\\": {\\\"data\\\": \\\"data_2\\\"}, \\\"encode\\\": {\\\"enter\\\": {\\\"x\\\": {\\\"value\\\": 500}, \\\"y\\\": {\\\"value\\\": 240}, \\\"text\\\": {\\\"signal\\\": \\\"(toString(datum[\\\\\\\"type\\\\\\\"]) == \\\\\\\"integer\\\\\\\" || toString(datum[\\\\\\\"type\\\\\\\"]) == \\\\\\\"float\\\\\\\")? \\\\\\\"Max:\\\\\\\":\\\\\\\"\\\\\\\"\\\"}, \\\"align\\\": {\\\"value\\\": \\\"left\\\"}, \\\"baseline\\\": {\\\"value\\\": \\\"middle\\\"}, \\\"dx\\\": {\\\"value\\\": 0, \\\"offset\\\": 0}, \\\"dy\\\": {\\\"value\\\": 0, \\\"offset\\\": 0}, \\\"angle\\\": {\\\"value\\\": 0}, \\\"font\\\": {\\\"value\\\": \\\"AvenirNext-Medium\\\"}, \\\"fontSize\\\": {\\\"value\\\": 11}, \\\"fontWeight\\\": {\\\"value\\\": \\\"bold\\\"}, \\\"fontStyle\\\": {\\\"value\\\": \\\"normal\\\"}, \\\"fill\\\": {\\\"value\\\": \\\"#4A4A4A\\\"}}, \\\"update\\\": {\\\"x\\\": {\\\"signal\\\": \\\"datum[\\\\\\\"c_x_axis_back\\\\\\\"]+467\\\"}, \\\"y\\\": {\\\"field\\\": \\\"c_max\\\"}}}, \\\"type\\\": \\\"text\\\"}, {\\\"from\\\": {\\\"data\\\": \\\"data_2\\\"}, \\\"encode\\\": {\\\"enter\\\": {\\\"x\\\": {\\\"value\\\": 500}, \\\"y\\\": {\\\"value\\\": 260}, \\\"text\\\": {\\\"signal\\\": \\\"(toString(datum[\\\\\\\"type\\\\\\\"]) == \\\\\\\"integer\\\\\\\" || toString(datum[\\\\\\\"type\\\\\\\"]) == \\\\\\\"float\\\\\\\")? \\\\\\\"Median:\\\\\\\":\\\\\\\"\\\\\\\"\\\"}, \\\"align\\\": {\\\"value\\\": \\\"left\\\"}, \\\"baseline\\\": {\\\"value\\\": \\\"middle\\\"}, \\\"dx\\\": {\\\"value\\\": 0, \\\"offset\\\": 0}, \\\"dy\\\": {\\\"value\\\": 0, \\\"offset\\\": 0}, \\\"angle\\\": {\\\"value\\\": 0}, \\\"font\\\": {\\\"value\\\": \\\"AvenirNext-Medium\\\"}, \\\"fontSize\\\": {\\\"value\\\": 11}, \\\"fontWeight\\\": {\\\"value\\\": \\\"bold\\\"}, \\\"fontStyle\\\": {\\\"value\\\": \\\"normal\\\"}, \\\"fill\\\": {\\\"value\\\": \\\"#4A4A4A\\\"}}, \\\"update\\\": {\\\"x\\\": {\\\"signal\\\": \\\"datum[\\\\\\\"c_x_axis_back\\\\\\\"]+467\\\"}, \\\"y\\\": {\\\"field\\\": \\\"c_median\\\"}}}, \\\"type\\\": \\\"text\\\"}, {\\\"from\\\": {\\\"data\\\": \\\"data_2\\\"}, \\\"encode\\\": {\\\"enter\\\": {\\\"x\\\": {\\\"value\\\": 500}, \\\"y\\\": {\\\"value\\\": 280}, \\\"text\\\": {\\\"signal\\\": \\\"(toString(datum[\\\\\\\"type\\\\\\\"]) == \\\\\\\"integer\\\\\\\" || toString(datum[\\\\\\\"type\\\\\\\"]) == \\\\\\\"float\\\\\\\")? \\\\\\\"St. Dev:\\\\\\\":\\\\\\\"\\\\\\\"\\\"}, \\\"align\\\": {\\\"value\\\": \\\"left\\\"}, \\\"baseline\\\": {\\\"value\\\": \\\"middle\\\"}, \\\"dx\\\": {\\\"value\\\": 0, \\\"offset\\\": 0}, \\\"dy\\\": {\\\"value\\\": 0, \\\"offset\\\": 0}, \\\"angle\\\": {\\\"value\\\": 0}, \\\"font\\\": {\\\"value\\\": \\\"AvenirNext-Medium\\\"}, \\\"fontSize\\\": {\\\"value\\\": 11}, \\\"fontWeight\\\": {\\\"value\\\": \\\"bold\\\"}, \\\"fontStyle\\\": {\\\"value\\\": \\\"normal\\\"}, \\\"fill\\\": {\\\"value\\\": \\\"#4A4A4A\\\"}}, \\\"update\\\": {\\\"x\\\": {\\\"signal\\\": \\\"datum[\\\\\\\"c_x_axis_back\\\\\\\"]+467\\\"}, \\\"y\\\": {\\\"field\\\": \\\"c_stdev\\\"}}}, \\\"type\\\": \\\"text\\\"}, {\\\"from\\\": {\\\"data\\\": \\\"data_2\\\"}, \\\"encode\\\": {\\\"enter\\\": {\\\"x\\\": {\\\"value\\\": 700}, \\\"y\\\": {\\\"value\\\": 198}, \\\"text\\\": {\\\"signal\\\": \\\"(toString(datum[\\\\\\\"type\\\\\\\"]) == \\\\\\\"integer\\\\\\\" || toString(datum[\\\\\\\"type\\\\\\\"]) == \\\\\\\"float\\\\\\\")?toString(format(datum[\\\\\\\"mean\\\\\\\"], \\\\\\\",\\\\\\\")):\\\\\\\"\\\\\\\"\\\"}, \\\"align\\\": {\\\"value\\\": \\\"right\\\"}, \\\"baseline\\\": {\\\"value\\\": \\\"middle\\\"}, \\\"dx\\\": {\\\"value\\\": 0, \\\"offset\\\": 0}, \\\"dy\\\": {\\\"value\\\": 0, \\\"offset\\\": 0}, \\\"angle\\\": {\\\"value\\\": 0}, \\\"font\\\": {\\\"value\\\": \\\"AvenirNext-Medium\\\"}, \\\"fontSize\\\": {\\\"value\\\": 10}, \\\"fontWeight\\\": {\\\"value\\\": \\\"normal\\\"}, \\\"fontStyle\\\": {\\\"value\\\": \\\"normal\\\"}, \\\"fill\\\": {\\\"value\\\": \\\"#6A6A6A\\\"}}, \\\"update\\\": {\\\"x\\\": {\\\"signal\\\": \\\"datum[\\\\\\\"c_x_axis_back\\\\\\\"]+667\\\"}, \\\"y\\\": {\\\"field\\\": \\\"c_mean_val\\\"}}}, \\\"type\\\": \\\"text\\\"}, {\\\"from\\\": {\\\"data\\\": \\\"data_2\\\"}, \\\"encode\\\": {\\\"enter\\\": {\\\"x\\\": {\\\"value\\\": 700}, \\\"y\\\": {\\\"value\\\": 218}, \\\"text\\\": {\\\"signal\\\": \\\"(toString(datum[\\\\\\\"type\\\\\\\"]) == \\\\\\\"integer\\\\\\\" || toString(datum[\\\\\\\"type\\\\\\\"]) == \\\\\\\"float\\\\\\\")?toString(format(datum[\\\\\\\"min\\\\\\\"], \\\\\\\",\\\\\\\")):\\\\\\\"\\\\\\\"\\\"}, \\\"align\\\": {\\\"value\\\": \\\"right\\\"}, \\\"baseline\\\": {\\\"value\\\": \\\"middle\\\"}, \\\"dx\\\": {\\\"value\\\": 0, \\\"offset\\\": 0}, \\\"dy\\\": {\\\"value\\\": 0, \\\"offset\\\": 0}, \\\"angle\\\": {\\\"value\\\": 0}, \\\"font\\\": {\\\"value\\\": \\\"AvenirNext-Medium\\\"}, \\\"fontSize\\\": {\\\"value\\\": 10}, \\\"fontWeight\\\": {\\\"value\\\": \\\"normal\\\"}, \\\"fontStyle\\\": {\\\"value\\\": \\\"normal\\\"}, \\\"fill\\\": {\\\"value\\\": \\\"#6A6A6A\\\"}}, \\\"update\\\": {\\\"x\\\": {\\\"signal\\\": \\\"datum[\\\\\\\"c_x_axis_back\\\\\\\"]+667\\\"}, \\\"y\\\": {\\\"field\\\": \\\"c_min_val\\\"}}}, \\\"type\\\": \\\"text\\\"}, {\\\"from\\\": {\\\"data\\\": \\\"data_2\\\"}, \\\"encode\\\": {\\\"enter\\\": {\\\"x\\\": {\\\"value\\\": 700}, \\\"y\\\": {\\\"value\\\": 238}, \\\"text\\\": {\\\"signal\\\": \\\"(toString(datum[\\\\\\\"type\\\\\\\"]) == \\\\\\\"integer\\\\\\\" || toString(datum[\\\\\\\"type\\\\\\\"]) == \\\\\\\"float\\\\\\\")?toString(format(datum[\\\\\\\"max\\\\\\\"], \\\\\\\",\\\\\\\")):\\\\\\\"\\\\\\\"\\\"}, \\\"align\\\": {\\\"value\\\": \\\"right\\\"}, \\\"baseline\\\": {\\\"value\\\": \\\"middle\\\"}, \\\"dx\\\": {\\\"value\\\": 0, \\\"offset\\\": 0}, \\\"dy\\\": {\\\"value\\\": 0, \\\"offset\\\": 0}, \\\"angle\\\": {\\\"value\\\": 0}, \\\"font\\\": {\\\"value\\\": \\\"AvenirNext-Medium\\\"}, \\\"fontSize\\\": {\\\"value\\\": 10}, \\\"fontWeight\\\": {\\\"value\\\": \\\"normal\\\"}, \\\"fontStyle\\\": {\\\"value\\\": \\\"normal\\\"}, \\\"fill\\\": {\\\"value\\\": \\\"#6A6A6A\\\"}}, \\\"update\\\": {\\\"x\\\": {\\\"signal\\\": \\\"datum[\\\\\\\"c_x_axis_back\\\\\\\"]+667\\\"}, \\\"y\\\": {\\\"field\\\": \\\"c_max_val\\\"}}}, \\\"type\\\": \\\"text\\\"}, {\\\"from\\\": {\\\"data\\\": \\\"data_2\\\"}, \\\"encode\\\": {\\\"enter\\\": {\\\"x\\\": {\\\"value\\\": 700}, \\\"y\\\": {\\\"value\\\": 258}, \\\"text\\\": {\\\"signal\\\": \\\"(toString(datum[\\\\\\\"type\\\\\\\"]) == \\\\\\\"integer\\\\\\\" || toString(datum[\\\\\\\"type\\\\\\\"]) == \\\\\\\"float\\\\\\\")?toString(format(datum[\\\\\\\"median\\\\\\\"], \\\\\\\",\\\\\\\")):\\\\\\\"\\\\\\\"\\\"}, \\\"align\\\": {\\\"value\\\": \\\"right\\\"}, \\\"baseline\\\": {\\\"value\\\": \\\"middle\\\"}, \\\"dx\\\": {\\\"value\\\": 0, \\\"offset\\\": 0}, \\\"dy\\\": {\\\"value\\\": 0, \\\"offset\\\": 0}, \\\"angle\\\": {\\\"value\\\": 0}, \\\"font\\\": {\\\"value\\\": \\\"AvenirNext-Medium\\\"}, \\\"fontSize\\\": {\\\"value\\\": 10}, \\\"fontWeight\\\": {\\\"value\\\": \\\"normal\\\"}, \\\"fontStyle\\\": {\\\"value\\\": \\\"normal\\\"}, \\\"fill\\\": {\\\"value\\\": \\\"#6A6A6A\\\"}}, \\\"update\\\": {\\\"x\\\": {\\\"signal\\\": \\\"datum[\\\\\\\"c_x_axis_back\\\\\\\"]+667\\\"}, \\\"y\\\": {\\\"field\\\": \\\"c_median_val\\\"}}}, \\\"type\\\": \\\"text\\\"}, {\\\"from\\\": {\\\"data\\\": \\\"data_2\\\"}, \\\"encode\\\": {\\\"enter\\\": {\\\"x\\\": {\\\"value\\\": 700}, \\\"y\\\": {\\\"value\\\": 278}, \\\"text\\\": {\\\"signal\\\": \\\"(toString(datum[\\\\\\\"type\\\\\\\"]) == \\\\\\\"integer\\\\\\\" || toString(datum[\\\\\\\"type\\\\\\\"]) == \\\\\\\"float\\\\\\\")?toString(format(datum[\\\\\\\"stdev\\\\\\\"], \\\\\\\",\\\\\\\")):\\\\\\\"\\\\\\\"\\\"}, \\\"align\\\": {\\\"value\\\": \\\"right\\\"}, \\\"baseline\\\": {\\\"value\\\": \\\"middle\\\"}, \\\"dx\\\": {\\\"value\\\": 0, \\\"offset\\\": 0}, \\\"dy\\\": {\\\"value\\\": 0, \\\"offset\\\": 0}, \\\"angle\\\": {\\\"value\\\": 0}, \\\"font\\\": {\\\"value\\\": \\\"AvenirNext-Medium\\\"}, \\\"fontSize\\\": {\\\"value\\\": 10}, \\\"fontWeight\\\": {\\\"value\\\": \\\"normal\\\"}, \\\"fontStyle\\\": {\\\"value\\\": \\\"normal\\\"}, \\\"fill\\\": {\\\"value\\\": \\\"#6A6A6A\\\"}}, \\\"update\\\": {\\\"x\\\": {\\\"signal\\\": \\\"datum[\\\\\\\"c_x_axis_back\\\\\\\"]+667\\\"}, \\\"y\\\": {\\\"field\\\": \\\"c_stdev_val\\\"}}}, \\\"type\\\": \\\"text\\\"}, {\\\"from\\\": {\\\"facet\\\": {\\\"name\\\": \\\"new_data\\\", \\\"data\\\": \\\"data_2\\\", \\\"field\\\": \\\"numeric\\\"}}, \\\"encode\\\": {\\\"enter\\\": {\\\"x\\\": {\\\"value\\\": 120}, \\\"width\\\": {\\\"value\\\": 250}, \\\"y\\\": {\\\"field\\\": \\\"graph_offset\\\"}, \\\"height\\\": {\\\"value\\\": 150}, \\\"fill\\\": {\\\"value\\\": \\\"#ffffff\\\"}, \\\"fillOpacity\\\": {\\\"value\\\": 0}, \\\"stroke\\\": {\\\"value\\\": \\\"#000000\\\"}, \\\"strokeWidth\\\": {\\\"value\\\": 0}}, \\\"update\\\": {\\\"x\\\": {\\\"signal\\\": \\\"datum[\\\\\\\"c_x_axis_back\\\\\\\"]+87\\\"}, \\\"clip\\\": {\\\"field\\\": \\\"c_clip_val\\\"}, \\\"width\\\": {\\\"field\\\": \\\"c_width_numeric_val\\\"}}}, \\\"type\\\": \\\"group\\\", \\\"scales\\\": [{\\\"name\\\": \\\"x\\\", \\\"type\\\": \\\"linear\\\", \\\"domain\\\": {\\\"data\\\": \\\"new_data\\\", \\\"fields\\\": [\\\"left\\\", \\\"right\\\"], \\\"sort\\\": true}, \\\"range\\\": [0, {\\\"signal\\\": \\\"width\\\"}], \\\"nice\\\": true, \\\"zero\\\": true}, {\\\"name\\\": \\\"y\\\", \\\"type\\\": \\\"linear\\\", \\\"domain\\\": {\\\"data\\\": \\\"new_data\\\", \\\"field\\\": \\\"count\\\"}, \\\"range\\\": [{\\\"signal\\\": \\\"height\\\"}, 0], \\\"nice\\\": true, \\\"zero\\\": true}], \\\"axes\\\": [{\\\"title\\\": \\\"Values\\\", \\\"scale\\\": \\\"x\\\", \\\"labelOverlap\\\": true, \\\"orient\\\": \\\"bottom\\\", \\\"tickCount\\\": {\\\"signal\\\": \\\"ceil(width/40)\\\"}, \\\"zindex\\\": 1}, {\\\"scale\\\": \\\"x\\\", \\\"domain\\\": false, \\\"grid\\\": true, \\\"labels\\\": false, \\\"maxExtent\\\": 0, \\\"minExtent\\\": 0, \\\"orient\\\": \\\"bottom\\\", \\\"tickCount\\\": {\\\"signal\\\": \\\"ceil(width/40)\\\"}, \\\"ticks\\\": false, \\\"zindex\\\": 0, \\\"gridScale\\\": \\\"y\\\"}, {\\\"title\\\": \\\"Count\\\", \\\"scale\\\": \\\"y\\\", \\\"labelOverlap\\\": true, \\\"orient\\\": \\\"left\\\", \\\"tickCount\\\": {\\\"signal\\\": \\\"ceil(height/40)\\\"}, \\\"zindex\\\": 1}, {\\\"scale\\\": \\\"y\\\", \\\"domain\\\": false, \\\"grid\\\": true, \\\"labels\\\": false, \\\"maxExtent\\\": 0, \\\"minExtent\\\": 0, \\\"orient\\\": \\\"left\\\", \\\"tickCount\\\": {\\\"signal\\\": \\\"ceil(height/40)\\\"}, \\\"ticks\\\": false, \\\"zindex\\\": 0, \\\"gridScale\\\": \\\"x\\\"}], \\\"style\\\": \\\"cell\\\", \\\"signals\\\": [{\\\"name\\\": \\\"width\\\", \\\"update\\\": \\\"250\\\"}, {\\\"name\\\": \\\"height\\\", \\\"update\\\": \\\"150\\\"}], \\\"marks\\\": [{\\\"name\\\": \\\"marks\\\", \\\"type\\\": \\\"rect\\\", \\\"style\\\": [\\\"rect\\\"], \\\"from\\\": {\\\"data\\\": \\\"new_data\\\"}, \\\"encode\\\": {\\\"hover\\\": {\\\"fill\\\": {\\\"value\\\": \\\"#7EC2F3\\\"}}, \\\"update\\\": {\\\"x\\\": {\\\"scale\\\": \\\"x\\\", \\\"field\\\": \\\"left\\\"}, \\\"x2\\\": {\\\"scale\\\": \\\"x\\\", \\\"field\\\": \\\"right\\\"}, \\\"y\\\": {\\\"scale\\\": \\\"y\\\", \\\"field\\\": \\\"count\\\"}, \\\"y2\\\": {\\\"scale\\\": \\\"y\\\", \\\"value\\\": 0}, \\\"fill\\\": {\\\"value\\\": \\\"#108EE9\\\"}}}}]}, {\\\"from\\\": {\\\"facet\\\": {\\\"name\\\": \\\"data_5\\\", \\\"data\\\": \\\"data_2\\\", \\\"field\\\": \\\"categorical\\\"}}, \\\"encode\\\": {\\\"enter\\\": {\\\"x\\\": {\\\"value\\\": 170}, \\\"width\\\": {\\\"value\\\": 250}, \\\"y\\\": {\\\"field\\\": \\\"graph_offset_categorical\\\"}, \\\"height\\\": {\\\"value\\\": 150}, \\\"fill\\\": {\\\"value\\\": \\\"#ffffff\\\"}, \\\"fillOpacity\\\": {\\\"value\\\": 0}, \\\"stroke\\\": {\\\"value\\\": \\\"#000000\\\"}, \\\"strokeWidth\\\": {\\\"value\\\": 0}}, \\\"update\\\": {\\\"x\\\": {\\\"signal\\\": \\\"datum[\\\\\\\"c_x_axis_back\\\\\\\"]+137\\\"}, \\\"clip\\\": {\\\"field\\\": \\\"c_clip_val_cat\\\"}, \\\"width\\\": {\\\"field\\\": \\\"c_width_numeric_val_cat\\\"}}}, \\\"type\\\": \\\"group\\\", \\\"style\\\": \\\"cell\\\", \\\"signals\\\": [{\\\"name\\\": \\\"unit\\\", \\\"value\\\": {}, \\\"on\\\": [{\\\"events\\\": \\\"mousemove\\\", \\\"update\\\": \\\"isTuple(group()) ? group() : unit\\\"}]}, {\\\"name\\\": \\\"pts\\\", \\\"update\\\": \\\"data(\\\\\\\"pts_store\\\\\\\").length &amp;&amp; {count: data(\\\\\\\"pts_store\\\\\\\")[0].values[0]}\\\"}, {\\\"name\\\": \\\"pts_tuple\\\", \\\"value\\\": {}, \\\"on\\\": [{\\\"events\\\": [{\\\"source\\\": \\\"scope\\\", \\\"type\\\": \\\"click\\\"}], \\\"update\\\": \\\"datum &amp;&amp; item().mark.marktype !== &apos;group&apos; ? {unit: \\\\\\\"\\\\\\\", encodings: [\\\\\\\"x\\\\\\\"], fields: [\\\\\\\"count\\\\\\\"], values: [datum[\\\\\\\"count\\\\\\\"]]} : null\\\", \\\"force\\\": true}]}, {\\\"name\\\": \\\"pts_modify\\\", \\\"on\\\": [{\\\"events\\\": {\\\"signal\\\": \\\"pts_tuple\\\"}, \\\"update\\\": \\\"modify(\\\\\\\"pts_store\\\\\\\", pts_tuple, true)\\\"}]}], \\\"marks\\\": [{\\\"name\\\": \\\"marks\\\", \\\"type\\\": \\\"rect\\\", \\\"style\\\": [\\\"bar\\\"], \\\"from\\\": {\\\"data\\\": \\\"data_5\\\"}, \\\"encode\\\": {\\\"hover\\\": {\\\"fill\\\": {\\\"value\\\": \\\"#7EC2F3\\\"}}, \\\"update\\\": {\\\"x\\\": {\\\"scale\\\": \\\"x\\\", \\\"field\\\": \\\"count\\\"}, \\\"x2\\\": {\\\"scale\\\": \\\"x\\\", \\\"value\\\": 0}, \\\"y\\\": {\\\"scale\\\": \\\"y\\\", \\\"field\\\": \\\"label\\\"}, \\\"height\\\": {\\\"scale\\\": \\\"y\\\", \\\"band\\\": true}, \\\"fill\\\": {\\\"value\\\": \\\"#108EE9\\\"}}}}], \\\"scales\\\": [{\\\"name\\\": \\\"x\\\", \\\"type\\\": \\\"linear\\\", \\\"domain\\\": {\\\"data\\\": \\\"data_5\\\", \\\"field\\\": \\\"count\\\"}, \\\"range\\\": [0, 250], \\\"nice\\\": true, \\\"zero\\\": true}, {\\\"name\\\": \\\"y\\\", \\\"type\\\": \\\"band\\\", \\\"domain\\\": {\\\"data\\\": \\\"data_5\\\", \\\"field\\\": \\\"label\\\", \\\"sort\\\": {\\\"op\\\": \\\"mean\\\", \\\"field\\\": \\\"label_idx\\\", \\\"order\\\": \\\"descending\\\"}}, \\\"range\\\": [150, 0], \\\"paddingInner\\\": 0.1, \\\"paddingOuter\\\": 0.05}], \\\"axes\\\": [{\\\"orient\\\": \\\"top\\\", \\\"scale\\\": \\\"x\\\", \\\"labelOverlap\\\": true, \\\"tickCount\\\": {\\\"signal\\\": \\\"ceil(width/40)\\\"}, \\\"title\\\": \\\"Count\\\", \\\"zindex\\\": 1}, {\\\"orient\\\": \\\"top\\\", \\\"scale\\\": \\\"x\\\", \\\"domain\\\": false, \\\"grid\\\": true, \\\"labels\\\": false, \\\"maxExtent\\\": 0, \\\"minExtent\\\": 0, \\\"tickCount\\\": {\\\"signal\\\": \\\"ceil(width/40)\\\"}, \\\"ticks\\\": false, \\\"zindex\\\": 0, \\\"gridScale\\\": \\\"y\\\"}, {\\\"scale\\\": \\\"y\\\", \\\"labelOverlap\\\": true, \\\"orient\\\": \\\"left\\\", \\\"title\\\": \\\"Label\\\", \\\"zindex\\\": 1}]}], \\\"type\\\": \\\"group\\\"}], \\\"type\\\": \\\"group\\\"}], \\\"config\\\": {\\\"axis\\\": {\\\"labelFont\\\": \\\"HelveticaNeue-Light, Arial\\\", \\\"labelFontSize\\\": 7, \\\"labelPadding\\\": 10, \\\"labelColor\\\": \\\"#595959\\\", \\\"titleFont\\\": \\\"HelveticaNeue-Light, Arial\\\", \\\"titleFontWeight\\\": \\\"normal\\\", \\\"titlePadding\\\": 9, \\\"titleFontSize\\\": 12, \\\"titleColor\\\": \\\"#595959\\\"}, \\\"axisY\\\": {\\\"minExtent\\\": 30}, \\\"style\\\": {\\\"rect\\\": {\\\"stroke\\\": \\\"rgba(200, 200, 200, 0.5)\\\"}, \\\"group-title\\\": {\\\"fontSize\\\": 20, \\\"font\\\": \\\"HelveticaNeue-Light, Arial\\\", \\\"fontWeight\\\": \\\"normal\\\", \\\"fill\\\": \\\"#595959\\\"}}}}\";                                 var vega_json_parsed = JSON.parse(vega_json);                                 var toolTipOpts = {                                     showAllFields: true                                 };                                 if(vega_json_parsed[\"metadata\"] != null){                                     if(vega_json_parsed[\"metadata\"][\"bubbleOpts\"] != null){                                         toolTipOpts = vega_json_parsed[\"metadata\"][\"bubbleOpts\"];                                     };                                 };                                 vegaEmbed(\"#vis\", vega_json_parsed).then(function (result) {                                     vegaTooltip.vega(result.view, toolTipOpts);                                  });                             </script>                         </body>                     </html>' src=\"demo_iframe_srcdoc.htm\">                         <p>Your browser does not support iframes.</p>                     </iframe>                 </body>             </html>"
            ]
          },
          "metadata": {}
        }
      ],
      "source": [
        "sf.show()"
      ]
    },
    {
      "cell_type": "code",
      "source": [
        "sf.shape"
      ],
      "metadata": {
        "colab": {
          "base_uri": "https://localhost:8080/"
        },
        "id": "k-1-wLNAzzAc",
        "outputId": "c145d214-c9e2-4ef1-8e70-4fdea6425f15"
      },
      "execution_count": 8,
      "outputs": [
        {
          "output_type": "execute_result",
          "data": {
            "text/plain": [
              "(1116609, 6)"
            ]
          },
          "metadata": {},
          "execution_count": 8
        }
      ]
    },
    {
      "cell_type": "code",
      "source": [
        "users = sf['user_id'].unique()"
      ],
      "metadata": {
        "id": "M5gWULEDz3Kc"
      },
      "execution_count": 9,
      "outputs": []
    },
    {
      "cell_type": "code",
      "source": [
        "users.shape"
      ],
      "metadata": {
        "colab": {
          "base_uri": "https://localhost:8080/"
        },
        "id": "KDkI-_3Zz3TN",
        "outputId": "ff4257df-399f-4902-881d-29ae0daa278c"
      },
      "execution_count": 10,
      "outputs": [
        {
          "output_type": "execute_result",
          "data": {
            "text/plain": [
              "(66346,)"
            ]
          },
          "metadata": {},
          "execution_count": 10
        }
      ]
    },
    {
      "cell_type": "markdown",
      "source": [
        "# **Create a song recommender**"
      ],
      "metadata": {
        "id": "FzHoWax8x7jc"
      }
    },
    {
      "cell_type": "code",
      "source": [
        "train_data, test_data = sf.random_split(0.8, seed = 0)"
      ],
      "metadata": {
        "id": "7r9n-6up1Ht1"
      },
      "execution_count": 11,
      "outputs": []
    },
    {
      "cell_type": "code",
      "source": [
        "popularity_model = turicreate.popularity_recommender.create(train_data, \n",
        "                                                            user_id = 'user_id',\n",
        "                                                            item_id = 'song')"
      ],
      "metadata": {
        "id": "mopmEUB31H3b",
        "colab": {
          "base_uri": "https://localhost:8080/",
          "height": 139
        },
        "outputId": "a32c2d25-2e82-4a6a-d86e-407ba8e0cd27"
      },
      "execution_count": 12,
      "outputs": [
        {
          "output_type": "display_data",
          "data": {
            "text/plain": [
              "Warning: Ignoring columns song_id, listen_count, title, artist;"
            ],
            "text/html": [
              "<pre>Warning: Ignoring columns song_id, listen_count, title, artist;</pre>"
            ]
          },
          "metadata": {}
        },
        {
          "output_type": "display_data",
          "data": {
            "text/plain": [
              " To use one of these as a rating column, specify the column name to be used as target"
            ],
            "text/html": [
              "<pre> To use one of these as a rating column, specify the column name to be used as target</pre>"
            ]
          },
          "metadata": {}
        },
        {
          "output_type": "display_data",
          "data": {
            "text/plain": [
              "    and use a method that allows the use of a target."
            ],
            "text/html": [
              "<pre>    and use a method that allows the use of a target.</pre>"
            ]
          },
          "metadata": {}
        },
        {
          "output_type": "display_data",
          "data": {
            "text/plain": [
              "Preparing data set."
            ],
            "text/html": [
              "<pre>Preparing data set.</pre>"
            ]
          },
          "metadata": {}
        },
        {
          "output_type": "display_data",
          "data": {
            "text/plain": [
              "    Data has 893580 observations with 66085 users and 9952 items."
            ],
            "text/html": [
              "<pre>    Data has 893580 observations with 66085 users and 9952 items.</pre>"
            ]
          },
          "metadata": {}
        },
        {
          "output_type": "display_data",
          "data": {
            "text/plain": [
              "    Data prepared in: 1.51534s"
            ],
            "text/html": [
              "<pre>    Data prepared in: 1.51534s</pre>"
            ]
          },
          "metadata": {}
        },
        {
          "output_type": "display_data",
          "data": {
            "text/plain": [
              "893580 observations to process; with 9952 unique items."
            ],
            "text/html": [
              "<pre>893580 observations to process; with 9952 unique items.</pre>"
            ]
          },
          "metadata": {}
        }
      ]
    },
    {
      "cell_type": "code",
      "source": [
        "popularity_model.recommend(users = [users[0]])"
      ],
      "metadata": {
        "colab": {
          "base_uri": "https://localhost:8080/",
          "height": 423
        },
        "id": "ndq69oAc1H_l",
        "outputId": "a4a71400-6a90-4d1a-c747-d329cbf7468c"
      },
      "execution_count": 13,
      "outputs": [
        {
          "output_type": "execute_result",
          "data": {
            "text/plain": [
              "Columns:\n",
              "\tuser_id\tstr\n",
              "\tsong\tstr\n",
              "\tscore\tfloat\n",
              "\trank\tint\n",
              "\n",
              "Rows: 10\n",
              "\n",
              "Data:\n",
              "+-------------------------------+--------------------------------+--------+------+\n",
              "|            user_id            |              song              | score  | rank |\n",
              "+-------------------------------+--------------------------------+--------+------+\n",
              "| c66c10a9567f0d82ff31441a9f... |    Sehr kosmisch - Harmonia    | 4754.0 |  1   |\n",
              "| c66c10a9567f0d82ff31441a9f... |          Undo - Björk          | 4227.0 |  2   |\n",
              "| c66c10a9567f0d82ff31441a9f... | You're The One - Dwight Yoakam | 3781.0 |  3   |\n",
              "| c66c10a9567f0d82ff31441a9f... | Dog Days Are Over (Radio E...  | 3633.0 |  4   |\n",
              "| c66c10a9567f0d82ff31441a9f... |    Revelry - Kings Of Leon     | 3527.0 |  5   |\n",
              "| c66c10a9567f0d82ff31441a9f... | Horn Concerto No. 4 in E f...  | 3161.0 |  6   |\n",
              "| c66c10a9567f0d82ff31441a9f... |     Secrets - OneRepublic      | 3148.0 |  7   |\n",
              "| c66c10a9567f0d82ff31441a9f... | Fireflies - Charttraxx Karaoke | 2532.0 |  8   |\n",
              "| c66c10a9567f0d82ff31441a9f... |       Tive Sim - Cartola       | 2521.0 |  9   |\n",
              "| c66c10a9567f0d82ff31441a9f... | Drop The World - Lil Wayne...  | 2053.0 |  10  |\n",
              "+-------------------------------+--------------------------------+--------+------+\n",
              "[10 rows x 4 columns]"
            ],
            "text/html": [
              "<div style=\"max-height:1000px;max-width:1500px;overflow:auto;\"><table frame=\"box\" rules=\"cols\">\n",
              "    <tr>\n",
              "        <th style=\"padding-left: 1em; padding-right: 1em; text-align: center\">user_id</th>\n",
              "        <th style=\"padding-left: 1em; padding-right: 1em; text-align: center\">song</th>\n",
              "        <th style=\"padding-left: 1em; padding-right: 1em; text-align: center\">score</th>\n",
              "        <th style=\"padding-left: 1em; padding-right: 1em; text-align: center\">rank</th>\n",
              "    </tr>\n",
              "    <tr>\n",
              "        <td style=\"padding-left: 1em; padding-right: 1em; text-align: center; vertical-align: top\">c66c10a9567f0d82ff31441a9<br>fd5063e5cd9dfe8 ...</td>\n",
              "        <td style=\"padding-left: 1em; padding-right: 1em; text-align: center; vertical-align: top\">Sehr kosmisch - Harmonia</td>\n",
              "        <td style=\"padding-left: 1em; padding-right: 1em; text-align: center; vertical-align: top\">4754.0</td>\n",
              "        <td style=\"padding-left: 1em; padding-right: 1em; text-align: center; vertical-align: top\">1</td>\n",
              "    </tr>\n",
              "    <tr>\n",
              "        <td style=\"padding-left: 1em; padding-right: 1em; text-align: center; vertical-align: top\">c66c10a9567f0d82ff31441a9<br>fd5063e5cd9dfe8 ...</td>\n",
              "        <td style=\"padding-left: 1em; padding-right: 1em; text-align: center; vertical-align: top\">Undo - Björk</td>\n",
              "        <td style=\"padding-left: 1em; padding-right: 1em; text-align: center; vertical-align: top\">4227.0</td>\n",
              "        <td style=\"padding-left: 1em; padding-right: 1em; text-align: center; vertical-align: top\">2</td>\n",
              "    </tr>\n",
              "    <tr>\n",
              "        <td style=\"padding-left: 1em; padding-right: 1em; text-align: center; vertical-align: top\">c66c10a9567f0d82ff31441a9<br>fd5063e5cd9dfe8 ...</td>\n",
              "        <td style=\"padding-left: 1em; padding-right: 1em; text-align: center; vertical-align: top\">You&#x27;re The One - Dwight<br>Yoakam ...</td>\n",
              "        <td style=\"padding-left: 1em; padding-right: 1em; text-align: center; vertical-align: top\">3781.0</td>\n",
              "        <td style=\"padding-left: 1em; padding-right: 1em; text-align: center; vertical-align: top\">3</td>\n",
              "    </tr>\n",
              "    <tr>\n",
              "        <td style=\"padding-left: 1em; padding-right: 1em; text-align: center; vertical-align: top\">c66c10a9567f0d82ff31441a9<br>fd5063e5cd9dfe8 ...</td>\n",
              "        <td style=\"padding-left: 1em; padding-right: 1em; text-align: center; vertical-align: top\">Dog Days Are Over (Radio<br>Edit) - Florence + The ...</td>\n",
              "        <td style=\"padding-left: 1em; padding-right: 1em; text-align: center; vertical-align: top\">3633.0</td>\n",
              "        <td style=\"padding-left: 1em; padding-right: 1em; text-align: center; vertical-align: top\">4</td>\n",
              "    </tr>\n",
              "    <tr>\n",
              "        <td style=\"padding-left: 1em; padding-right: 1em; text-align: center; vertical-align: top\">c66c10a9567f0d82ff31441a9<br>fd5063e5cd9dfe8 ...</td>\n",
              "        <td style=\"padding-left: 1em; padding-right: 1em; text-align: center; vertical-align: top\">Revelry - Kings Of Leon</td>\n",
              "        <td style=\"padding-left: 1em; padding-right: 1em; text-align: center; vertical-align: top\">3527.0</td>\n",
              "        <td style=\"padding-left: 1em; padding-right: 1em; text-align: center; vertical-align: top\">5</td>\n",
              "    </tr>\n",
              "    <tr>\n",
              "        <td style=\"padding-left: 1em; padding-right: 1em; text-align: center; vertical-align: top\">c66c10a9567f0d82ff31441a9<br>fd5063e5cd9dfe8 ...</td>\n",
              "        <td style=\"padding-left: 1em; padding-right: 1em; text-align: center; vertical-align: top\">Horn Concerto No. 4 in E<br>flat K495: II. Romance ...</td>\n",
              "        <td style=\"padding-left: 1em; padding-right: 1em; text-align: center; vertical-align: top\">3161.0</td>\n",
              "        <td style=\"padding-left: 1em; padding-right: 1em; text-align: center; vertical-align: top\">6</td>\n",
              "    </tr>\n",
              "    <tr>\n",
              "        <td style=\"padding-left: 1em; padding-right: 1em; text-align: center; vertical-align: top\">c66c10a9567f0d82ff31441a9<br>fd5063e5cd9dfe8 ...</td>\n",
              "        <td style=\"padding-left: 1em; padding-right: 1em; text-align: center; vertical-align: top\">Secrets - OneRepublic</td>\n",
              "        <td style=\"padding-left: 1em; padding-right: 1em; text-align: center; vertical-align: top\">3148.0</td>\n",
              "        <td style=\"padding-left: 1em; padding-right: 1em; text-align: center; vertical-align: top\">7</td>\n",
              "    </tr>\n",
              "    <tr>\n",
              "        <td style=\"padding-left: 1em; padding-right: 1em; text-align: center; vertical-align: top\">c66c10a9567f0d82ff31441a9<br>fd5063e5cd9dfe8 ...</td>\n",
              "        <td style=\"padding-left: 1em; padding-right: 1em; text-align: center; vertical-align: top\">Fireflies - Charttraxx<br>Karaoke ...</td>\n",
              "        <td style=\"padding-left: 1em; padding-right: 1em; text-align: center; vertical-align: top\">2532.0</td>\n",
              "        <td style=\"padding-left: 1em; padding-right: 1em; text-align: center; vertical-align: top\">8</td>\n",
              "    </tr>\n",
              "    <tr>\n",
              "        <td style=\"padding-left: 1em; padding-right: 1em; text-align: center; vertical-align: top\">c66c10a9567f0d82ff31441a9<br>fd5063e5cd9dfe8 ...</td>\n",
              "        <td style=\"padding-left: 1em; padding-right: 1em; text-align: center; vertical-align: top\">Tive Sim - Cartola</td>\n",
              "        <td style=\"padding-left: 1em; padding-right: 1em; text-align: center; vertical-align: top\">2521.0</td>\n",
              "        <td style=\"padding-left: 1em; padding-right: 1em; text-align: center; vertical-align: top\">9</td>\n",
              "    </tr>\n",
              "    <tr>\n",
              "        <td style=\"padding-left: 1em; padding-right: 1em; text-align: center; vertical-align: top\">c66c10a9567f0d82ff31441a9<br>fd5063e5cd9dfe8 ...</td>\n",
              "        <td style=\"padding-left: 1em; padding-right: 1em; text-align: center; vertical-align: top\">Drop The World - Lil<br>Wayne / Eminem ...</td>\n",
              "        <td style=\"padding-left: 1em; padding-right: 1em; text-align: center; vertical-align: top\">2053.0</td>\n",
              "        <td style=\"padding-left: 1em; padding-right: 1em; text-align: center; vertical-align: top\">10</td>\n",
              "    </tr>\n",
              "</table>\n",
              "[10 rows x 4 columns]<br/>\n",
              "</div>"
            ]
          },
          "metadata": {},
          "execution_count": 13
        }
      ]
    },
    {
      "cell_type": "code",
      "source": [
        "popularity_model.recommend(users = [users[1]])"
      ],
      "metadata": {
        "colab": {
          "base_uri": "https://localhost:8080/",
          "height": 423
        },
        "id": "mCAW4X732KWw",
        "outputId": "86dfe1b0-7805-4a6f-c97d-e22d7f02a8a7"
      },
      "execution_count": 14,
      "outputs": [
        {
          "output_type": "execute_result",
          "data": {
            "text/plain": [
              "Columns:\n",
              "\tuser_id\tstr\n",
              "\tsong\tstr\n",
              "\tscore\tfloat\n",
              "\trank\tint\n",
              "\n",
              "Rows: 10\n",
              "\n",
              "Data:\n",
              "+-------------------------------+--------------------------------+--------+------+\n",
              "|            user_id            |              song              | score  | rank |\n",
              "+-------------------------------+--------------------------------+--------+------+\n",
              "| 02f015d32ac2cd1e52d26e3ec3... |    Sehr kosmisch - Harmonia    | 4754.0 |  1   |\n",
              "| 02f015d32ac2cd1e52d26e3ec3... |          Undo - Björk          | 4227.0 |  2   |\n",
              "| 02f015d32ac2cd1e52d26e3ec3... | You're The One - Dwight Yoakam | 3781.0 |  3   |\n",
              "| 02f015d32ac2cd1e52d26e3ec3... | Dog Days Are Over (Radio E...  | 3633.0 |  4   |\n",
              "| 02f015d32ac2cd1e52d26e3ec3... |    Revelry - Kings Of Leon     | 3527.0 |  5   |\n",
              "| 02f015d32ac2cd1e52d26e3ec3... | Horn Concerto No. 4 in E f...  | 3161.0 |  6   |\n",
              "| 02f015d32ac2cd1e52d26e3ec3... |     Secrets - OneRepublic      | 3148.0 |  7   |\n",
              "| 02f015d32ac2cd1e52d26e3ec3... |    Hey_ Soul Sister - Train    | 2538.0 |  8   |\n",
              "| 02f015d32ac2cd1e52d26e3ec3... | Fireflies - Charttraxx Karaoke | 2532.0 |  9   |\n",
              "| 02f015d32ac2cd1e52d26e3ec3... |       Tive Sim - Cartola       | 2521.0 |  10  |\n",
              "+-------------------------------+--------------------------------+--------+------+\n",
              "[10 rows x 4 columns]"
            ],
            "text/html": [
              "<div style=\"max-height:1000px;max-width:1500px;overflow:auto;\"><table frame=\"box\" rules=\"cols\">\n",
              "    <tr>\n",
              "        <th style=\"padding-left: 1em; padding-right: 1em; text-align: center\">user_id</th>\n",
              "        <th style=\"padding-left: 1em; padding-right: 1em; text-align: center\">song</th>\n",
              "        <th style=\"padding-left: 1em; padding-right: 1em; text-align: center\">score</th>\n",
              "        <th style=\"padding-left: 1em; padding-right: 1em; text-align: center\">rank</th>\n",
              "    </tr>\n",
              "    <tr>\n",
              "        <td style=\"padding-left: 1em; padding-right: 1em; text-align: center; vertical-align: top\">02f015d32ac2cd1e52d26e3ec<br>36048711dd5711b ...</td>\n",
              "        <td style=\"padding-left: 1em; padding-right: 1em; text-align: center; vertical-align: top\">Sehr kosmisch - Harmonia</td>\n",
              "        <td style=\"padding-left: 1em; padding-right: 1em; text-align: center; vertical-align: top\">4754.0</td>\n",
              "        <td style=\"padding-left: 1em; padding-right: 1em; text-align: center; vertical-align: top\">1</td>\n",
              "    </tr>\n",
              "    <tr>\n",
              "        <td style=\"padding-left: 1em; padding-right: 1em; text-align: center; vertical-align: top\">02f015d32ac2cd1e52d26e3ec<br>36048711dd5711b ...</td>\n",
              "        <td style=\"padding-left: 1em; padding-right: 1em; text-align: center; vertical-align: top\">Undo - Björk</td>\n",
              "        <td style=\"padding-left: 1em; padding-right: 1em; text-align: center; vertical-align: top\">4227.0</td>\n",
              "        <td style=\"padding-left: 1em; padding-right: 1em; text-align: center; vertical-align: top\">2</td>\n",
              "    </tr>\n",
              "    <tr>\n",
              "        <td style=\"padding-left: 1em; padding-right: 1em; text-align: center; vertical-align: top\">02f015d32ac2cd1e52d26e3ec<br>36048711dd5711b ...</td>\n",
              "        <td style=\"padding-left: 1em; padding-right: 1em; text-align: center; vertical-align: top\">You&#x27;re The One - Dwight<br>Yoakam ...</td>\n",
              "        <td style=\"padding-left: 1em; padding-right: 1em; text-align: center; vertical-align: top\">3781.0</td>\n",
              "        <td style=\"padding-left: 1em; padding-right: 1em; text-align: center; vertical-align: top\">3</td>\n",
              "    </tr>\n",
              "    <tr>\n",
              "        <td style=\"padding-left: 1em; padding-right: 1em; text-align: center; vertical-align: top\">02f015d32ac2cd1e52d26e3ec<br>36048711dd5711b ...</td>\n",
              "        <td style=\"padding-left: 1em; padding-right: 1em; text-align: center; vertical-align: top\">Dog Days Are Over (Radio<br>Edit) - Florence + The ...</td>\n",
              "        <td style=\"padding-left: 1em; padding-right: 1em; text-align: center; vertical-align: top\">3633.0</td>\n",
              "        <td style=\"padding-left: 1em; padding-right: 1em; text-align: center; vertical-align: top\">4</td>\n",
              "    </tr>\n",
              "    <tr>\n",
              "        <td style=\"padding-left: 1em; padding-right: 1em; text-align: center; vertical-align: top\">02f015d32ac2cd1e52d26e3ec<br>36048711dd5711b ...</td>\n",
              "        <td style=\"padding-left: 1em; padding-right: 1em; text-align: center; vertical-align: top\">Revelry - Kings Of Leon</td>\n",
              "        <td style=\"padding-left: 1em; padding-right: 1em; text-align: center; vertical-align: top\">3527.0</td>\n",
              "        <td style=\"padding-left: 1em; padding-right: 1em; text-align: center; vertical-align: top\">5</td>\n",
              "    </tr>\n",
              "    <tr>\n",
              "        <td style=\"padding-left: 1em; padding-right: 1em; text-align: center; vertical-align: top\">02f015d32ac2cd1e52d26e3ec<br>36048711dd5711b ...</td>\n",
              "        <td style=\"padding-left: 1em; padding-right: 1em; text-align: center; vertical-align: top\">Horn Concerto No. 4 in E<br>flat K495: II. Romance ...</td>\n",
              "        <td style=\"padding-left: 1em; padding-right: 1em; text-align: center; vertical-align: top\">3161.0</td>\n",
              "        <td style=\"padding-left: 1em; padding-right: 1em; text-align: center; vertical-align: top\">6</td>\n",
              "    </tr>\n",
              "    <tr>\n",
              "        <td style=\"padding-left: 1em; padding-right: 1em; text-align: center; vertical-align: top\">02f015d32ac2cd1e52d26e3ec<br>36048711dd5711b ...</td>\n",
              "        <td style=\"padding-left: 1em; padding-right: 1em; text-align: center; vertical-align: top\">Secrets - OneRepublic</td>\n",
              "        <td style=\"padding-left: 1em; padding-right: 1em; text-align: center; vertical-align: top\">3148.0</td>\n",
              "        <td style=\"padding-left: 1em; padding-right: 1em; text-align: center; vertical-align: top\">7</td>\n",
              "    </tr>\n",
              "    <tr>\n",
              "        <td style=\"padding-left: 1em; padding-right: 1em; text-align: center; vertical-align: top\">02f015d32ac2cd1e52d26e3ec<br>36048711dd5711b ...</td>\n",
              "        <td style=\"padding-left: 1em; padding-right: 1em; text-align: center; vertical-align: top\">Hey_ Soul Sister - Train</td>\n",
              "        <td style=\"padding-left: 1em; padding-right: 1em; text-align: center; vertical-align: top\">2538.0</td>\n",
              "        <td style=\"padding-left: 1em; padding-right: 1em; text-align: center; vertical-align: top\">8</td>\n",
              "    </tr>\n",
              "    <tr>\n",
              "        <td style=\"padding-left: 1em; padding-right: 1em; text-align: center; vertical-align: top\">02f015d32ac2cd1e52d26e3ec<br>36048711dd5711b ...</td>\n",
              "        <td style=\"padding-left: 1em; padding-right: 1em; text-align: center; vertical-align: top\">Fireflies - Charttraxx<br>Karaoke ...</td>\n",
              "        <td style=\"padding-left: 1em; padding-right: 1em; text-align: center; vertical-align: top\">2532.0</td>\n",
              "        <td style=\"padding-left: 1em; padding-right: 1em; text-align: center; vertical-align: top\">9</td>\n",
              "    </tr>\n",
              "    <tr>\n",
              "        <td style=\"padding-left: 1em; padding-right: 1em; text-align: center; vertical-align: top\">02f015d32ac2cd1e52d26e3ec<br>36048711dd5711b ...</td>\n",
              "        <td style=\"padding-left: 1em; padding-right: 1em; text-align: center; vertical-align: top\">Tive Sim - Cartola</td>\n",
              "        <td style=\"padding-left: 1em; padding-right: 1em; text-align: center; vertical-align: top\">2521.0</td>\n",
              "        <td style=\"padding-left: 1em; padding-right: 1em; text-align: center; vertical-align: top\">10</td>\n",
              "    </tr>\n",
              "</table>\n",
              "[10 rows x 4 columns]<br/>\n",
              "</div>"
            ]
          },
          "metadata": {},
          "execution_count": 14
        }
      ]
    },
    {
      "cell_type": "markdown",
      "source": [
        "## Personalized model for song recommendations"
      ],
      "metadata": {
        "id": "aQpRgNsOLRnM"
      }
    },
    {
      "cell_type": "code",
      "source": [
        "personalized_model = turicreate.item_similarity_recommender.create(train_data,\n",
        "                                                                   user_id = 'user_id',\n",
        "                                                                   item_id = 'song')"
      ],
      "metadata": {
        "id": "swPmjf9vcFT3",
        "colab": {
          "base_uri": "https://localhost:8080/",
          "height": 451
        },
        "outputId": "2125964a-5a23-4269-8f0c-dd68c2da4ebc"
      },
      "execution_count": 15,
      "outputs": [
        {
          "output_type": "display_data",
          "data": {
            "text/plain": [
              "Warning: Ignoring columns song_id, listen_count, title, artist;"
            ],
            "text/html": [
              "<pre>Warning: Ignoring columns song_id, listen_count, title, artist;</pre>"
            ]
          },
          "metadata": {}
        },
        {
          "output_type": "display_data",
          "data": {
            "text/plain": [
              " To use one of these as a rating column, specify the column name to be used as target"
            ],
            "text/html": [
              "<pre> To use one of these as a rating column, specify the column name to be used as target</pre>"
            ]
          },
          "metadata": {}
        },
        {
          "output_type": "display_data",
          "data": {
            "text/plain": [
              "    and use a method that allows the use of a target."
            ],
            "text/html": [
              "<pre>    and use a method that allows the use of a target.</pre>"
            ]
          },
          "metadata": {}
        },
        {
          "output_type": "display_data",
          "data": {
            "text/plain": [
              "Preparing data set."
            ],
            "text/html": [
              "<pre>Preparing data set.</pre>"
            ]
          },
          "metadata": {}
        },
        {
          "output_type": "display_data",
          "data": {
            "text/plain": [
              "    Data has 893580 observations with 66085 users and 9952 items."
            ],
            "text/html": [
              "<pre>    Data has 893580 observations with 66085 users and 9952 items.</pre>"
            ]
          },
          "metadata": {}
        },
        {
          "output_type": "display_data",
          "data": {
            "text/plain": [
              "    Data prepared in: 1.56917s"
            ],
            "text/html": [
              "<pre>    Data prepared in: 1.56917s</pre>"
            ]
          },
          "metadata": {}
        },
        {
          "output_type": "display_data",
          "data": {
            "text/plain": [
              "Training model from provided data."
            ],
            "text/html": [
              "<pre>Training model from provided data.</pre>"
            ]
          },
          "metadata": {}
        },
        {
          "output_type": "display_data",
          "data": {
            "text/plain": [
              "Gathering per-item and per-user statistics."
            ],
            "text/html": [
              "<pre>Gathering per-item and per-user statistics.</pre>"
            ]
          },
          "metadata": {}
        },
        {
          "output_type": "display_data",
          "data": {
            "text/plain": [
              "+--------------------------------+------------+"
            ],
            "text/html": [
              "<pre>+--------------------------------+------------+</pre>"
            ]
          },
          "metadata": {}
        },
        {
          "output_type": "display_data",
          "data": {
            "text/plain": [
              "| Elapsed Time (Item Statistics) | % Complete |"
            ],
            "text/html": [
              "<pre>| Elapsed Time (Item Statistics) | % Complete |</pre>"
            ]
          },
          "metadata": {}
        },
        {
          "output_type": "display_data",
          "data": {
            "text/plain": [
              "+--------------------------------+------------+"
            ],
            "text/html": [
              "<pre>+--------------------------------+------------+</pre>"
            ]
          },
          "metadata": {}
        },
        {
          "output_type": "display_data",
          "data": {
            "text/plain": [
              "| 1.281ms                        | 1.5        |"
            ],
            "text/html": [
              "<pre>| 1.281ms                        | 1.5        |</pre>"
            ]
          },
          "metadata": {}
        },
        {
          "output_type": "display_data",
          "data": {
            "text/plain": [
              "| 55.481ms                       | 100        |"
            ],
            "text/html": [
              "<pre>| 55.481ms                       | 100        |</pre>"
            ]
          },
          "metadata": {}
        },
        {
          "output_type": "display_data",
          "data": {
            "text/plain": [
              "+--------------------------------+------------+"
            ],
            "text/html": [
              "<pre>+--------------------------------+------------+</pre>"
            ]
          },
          "metadata": {}
        },
        {
          "output_type": "display_data",
          "data": {
            "text/plain": [
              "Setting up lookup tables."
            ],
            "text/html": [
              "<pre>Setting up lookup tables.</pre>"
            ]
          },
          "metadata": {}
        },
        {
          "output_type": "display_data",
          "data": {
            "text/plain": [
              "Processing data in one pass using dense lookup tables."
            ],
            "text/html": [
              "<pre>Processing data in one pass using dense lookup tables.</pre>"
            ]
          },
          "metadata": {}
        },
        {
          "output_type": "display_data",
          "data": {
            "text/plain": [
              "+-------------------------------------+------------------+-----------------+"
            ],
            "text/html": [
              "<pre>+-------------------------------------+------------------+-----------------+</pre>"
            ]
          },
          "metadata": {}
        },
        {
          "output_type": "display_data",
          "data": {
            "text/plain": [
              "| Elapsed Time (Constructing Lookups) | Total % Complete | Items Processed |"
            ],
            "text/html": [
              "<pre>| Elapsed Time (Constructing Lookups) | Total % Complete | Items Processed |</pre>"
            ]
          },
          "metadata": {}
        },
        {
          "output_type": "display_data",
          "data": {
            "text/plain": [
              "+-------------------------------------+------------------+-----------------+"
            ],
            "text/html": [
              "<pre>+-------------------------------------+------------------+-----------------+</pre>"
            ]
          },
          "metadata": {}
        },
        {
          "output_type": "display_data",
          "data": {
            "text/plain": [
              "| 280.808ms                           | 0                | 0               |"
            ],
            "text/html": [
              "<pre>| 280.808ms                           | 0                | 0               |</pre>"
            ]
          },
          "metadata": {}
        },
        {
          "output_type": "display_data",
          "data": {
            "text/plain": [
              "| 2.05s                               | 100              | 9952            |"
            ],
            "text/html": [
              "<pre>| 2.05s                               | 100              | 9952            |</pre>"
            ]
          },
          "metadata": {}
        },
        {
          "output_type": "display_data",
          "data": {
            "text/plain": [
              "+-------------------------------------+------------------+-----------------+"
            ],
            "text/html": [
              "<pre>+-------------------------------------+------------------+-----------------+</pre>"
            ]
          },
          "metadata": {}
        },
        {
          "output_type": "display_data",
          "data": {
            "text/plain": [
              "Finalizing lookup tables."
            ],
            "text/html": [
              "<pre>Finalizing lookup tables.</pre>"
            ]
          },
          "metadata": {}
        },
        {
          "output_type": "display_data",
          "data": {
            "text/plain": [
              "Generating candidate set for working with new users."
            ],
            "text/html": [
              "<pre>Generating candidate set for working with new users.</pre>"
            ]
          },
          "metadata": {}
        },
        {
          "output_type": "display_data",
          "data": {
            "text/plain": [
              "Finished training in 3.14016s"
            ],
            "text/html": [
              "<pre>Finished training in 3.14016s</pre>"
            ]
          },
          "metadata": {}
        }
      ]
    },
    {
      "cell_type": "code",
      "source": [
        "personalized_model.recommend(users = [users[0]])"
      ],
      "metadata": {
        "colab": {
          "base_uri": "https://localhost:8080/",
          "height": 423
        },
        "id": "wS5Ut8h4Lnue",
        "outputId": "f4c285b9-8f0e-4221-cd0c-d51398817302"
      },
      "execution_count": 16,
      "outputs": [
        {
          "output_type": "execute_result",
          "data": {
            "text/plain": [
              "Columns:\n",
              "\tuser_id\tstr\n",
              "\tsong\tstr\n",
              "\tscore\tfloat\n",
              "\trank\tint\n",
              "\n",
              "Rows: 10\n",
              "\n",
              "Data:\n",
              "+-------------------------------+--------------------------------+\n",
              "|            user_id            |              song              |\n",
              "+-------------------------------+--------------------------------+\n",
              "| c66c10a9567f0d82ff31441a9f... | Cuando Pase El Temblor - S...  |\n",
              "| c66c10a9567f0d82ff31441a9f... | Fireflies - Charttraxx Karaoke |\n",
              "| c66c10a9567f0d82ff31441a9f... | Love Is A Losing Game - Am...  |\n",
              "| c66c10a9567f0d82ff31441a9f... |        Marry Me - Train        |\n",
              "| c66c10a9567f0d82ff31441a9f... |     Secrets - OneRepublic      |\n",
              "| c66c10a9567f0d82ff31441a9f... |    Sehr kosmisch - Harmonia    |\n",
              "| c66c10a9567f0d82ff31441a9f... | Te Hacen Falta Vitaminas -...  |\n",
              "| c66c10a9567f0d82ff31441a9f... | OMG - Usher featuring will...  |\n",
              "| c66c10a9567f0d82ff31441a9f... | Y solo se me ocurre amarte...  |\n",
              "| c66c10a9567f0d82ff31441a9f... |   No Dejes Que... - Caifanes   |\n",
              "+-------------------------------+--------------------------------+\n",
              "+----------------------+------+\n",
              "|        score         | rank |\n",
              "+----------------------+------+\n",
              "| 0.019450453611520622 |  1   |\n",
              "| 0.014473731701190654 |  2   |\n",
              "| 0.014286596041459303 |  3   |\n",
              "| 0.014133471709031325 |  4   |\n",
              "| 0.013591665488023024 |  5   |\n",
              "| 0.013398789442502536 |  6   |\n",
              "| 0.01293028317964994  |  7   |\n",
              "| 0.012777828253232516 |  8   |\n",
              "| 0.012341127945826603 |  9   |\n",
              "| 0.012104249917543851 |  10  |\n",
              "+----------------------+------+\n",
              "[10 rows x 4 columns]"
            ],
            "text/html": [
              "<div style=\"max-height:1000px;max-width:1500px;overflow:auto;\"><table frame=\"box\" rules=\"cols\">\n",
              "    <tr>\n",
              "        <th style=\"padding-left: 1em; padding-right: 1em; text-align: center\">user_id</th>\n",
              "        <th style=\"padding-left: 1em; padding-right: 1em; text-align: center\">song</th>\n",
              "        <th style=\"padding-left: 1em; padding-right: 1em; text-align: center\">score</th>\n",
              "        <th style=\"padding-left: 1em; padding-right: 1em; text-align: center\">rank</th>\n",
              "    </tr>\n",
              "    <tr>\n",
              "        <td style=\"padding-left: 1em; padding-right: 1em; text-align: center; vertical-align: top\">c66c10a9567f0d82ff31441a9<br>fd5063e5cd9dfe8 ...</td>\n",
              "        <td style=\"padding-left: 1em; padding-right: 1em; text-align: center; vertical-align: top\">Cuando Pase El Temblor -<br>Soda Stereo ...</td>\n",
              "        <td style=\"padding-left: 1em; padding-right: 1em; text-align: center; vertical-align: top\">0.019450453611520622</td>\n",
              "        <td style=\"padding-left: 1em; padding-right: 1em; text-align: center; vertical-align: top\">1</td>\n",
              "    </tr>\n",
              "    <tr>\n",
              "        <td style=\"padding-left: 1em; padding-right: 1em; text-align: center; vertical-align: top\">c66c10a9567f0d82ff31441a9<br>fd5063e5cd9dfe8 ...</td>\n",
              "        <td style=\"padding-left: 1em; padding-right: 1em; text-align: center; vertical-align: top\">Fireflies - Charttraxx<br>Karaoke ...</td>\n",
              "        <td style=\"padding-left: 1em; padding-right: 1em; text-align: center; vertical-align: top\">0.014473731701190654</td>\n",
              "        <td style=\"padding-left: 1em; padding-right: 1em; text-align: center; vertical-align: top\">2</td>\n",
              "    </tr>\n",
              "    <tr>\n",
              "        <td style=\"padding-left: 1em; padding-right: 1em; text-align: center; vertical-align: top\">c66c10a9567f0d82ff31441a9<br>fd5063e5cd9dfe8 ...</td>\n",
              "        <td style=\"padding-left: 1em; padding-right: 1em; text-align: center; vertical-align: top\">Love Is A Losing Game -<br>Amy Winehouse ...</td>\n",
              "        <td style=\"padding-left: 1em; padding-right: 1em; text-align: center; vertical-align: top\">0.014286596041459303</td>\n",
              "        <td style=\"padding-left: 1em; padding-right: 1em; text-align: center; vertical-align: top\">3</td>\n",
              "    </tr>\n",
              "    <tr>\n",
              "        <td style=\"padding-left: 1em; padding-right: 1em; text-align: center; vertical-align: top\">c66c10a9567f0d82ff31441a9<br>fd5063e5cd9dfe8 ...</td>\n",
              "        <td style=\"padding-left: 1em; padding-right: 1em; text-align: center; vertical-align: top\">Marry Me - Train</td>\n",
              "        <td style=\"padding-left: 1em; padding-right: 1em; text-align: center; vertical-align: top\">0.014133471709031325</td>\n",
              "        <td style=\"padding-left: 1em; padding-right: 1em; text-align: center; vertical-align: top\">4</td>\n",
              "    </tr>\n",
              "    <tr>\n",
              "        <td style=\"padding-left: 1em; padding-right: 1em; text-align: center; vertical-align: top\">c66c10a9567f0d82ff31441a9<br>fd5063e5cd9dfe8 ...</td>\n",
              "        <td style=\"padding-left: 1em; padding-right: 1em; text-align: center; vertical-align: top\">Secrets - OneRepublic</td>\n",
              "        <td style=\"padding-left: 1em; padding-right: 1em; text-align: center; vertical-align: top\">0.013591665488023024</td>\n",
              "        <td style=\"padding-left: 1em; padding-right: 1em; text-align: center; vertical-align: top\">5</td>\n",
              "    </tr>\n",
              "    <tr>\n",
              "        <td style=\"padding-left: 1em; padding-right: 1em; text-align: center; vertical-align: top\">c66c10a9567f0d82ff31441a9<br>fd5063e5cd9dfe8 ...</td>\n",
              "        <td style=\"padding-left: 1em; padding-right: 1em; text-align: center; vertical-align: top\">Sehr kosmisch - Harmonia</td>\n",
              "        <td style=\"padding-left: 1em; padding-right: 1em; text-align: center; vertical-align: top\">0.013398789442502536</td>\n",
              "        <td style=\"padding-left: 1em; padding-right: 1em; text-align: center; vertical-align: top\">6</td>\n",
              "    </tr>\n",
              "    <tr>\n",
              "        <td style=\"padding-left: 1em; padding-right: 1em; text-align: center; vertical-align: top\">c66c10a9567f0d82ff31441a9<br>fd5063e5cd9dfe8 ...</td>\n",
              "        <td style=\"padding-left: 1em; padding-right: 1em; text-align: center; vertical-align: top\">Te Hacen Falta Vitaminas<br>- Soda Stereo ...</td>\n",
              "        <td style=\"padding-left: 1em; padding-right: 1em; text-align: center; vertical-align: top\">0.01293028317964994</td>\n",
              "        <td style=\"padding-left: 1em; padding-right: 1em; text-align: center; vertical-align: top\">7</td>\n",
              "    </tr>\n",
              "    <tr>\n",
              "        <td style=\"padding-left: 1em; padding-right: 1em; text-align: center; vertical-align: top\">c66c10a9567f0d82ff31441a9<br>fd5063e5cd9dfe8 ...</td>\n",
              "        <td style=\"padding-left: 1em; padding-right: 1em; text-align: center; vertical-align: top\">OMG - Usher featuring<br>will.i.am ...</td>\n",
              "        <td style=\"padding-left: 1em; padding-right: 1em; text-align: center; vertical-align: top\">0.012777828253232516</td>\n",
              "        <td style=\"padding-left: 1em; padding-right: 1em; text-align: center; vertical-align: top\">8</td>\n",
              "    </tr>\n",
              "    <tr>\n",
              "        <td style=\"padding-left: 1em; padding-right: 1em; text-align: center; vertical-align: top\">c66c10a9567f0d82ff31441a9<br>fd5063e5cd9dfe8 ...</td>\n",
              "        <td style=\"padding-left: 1em; padding-right: 1em; text-align: center; vertical-align: top\">Y solo se me ocurre<br>amarte (Unplugged) - ...</td>\n",
              "        <td style=\"padding-left: 1em; padding-right: 1em; text-align: center; vertical-align: top\">0.012341127945826603</td>\n",
              "        <td style=\"padding-left: 1em; padding-right: 1em; text-align: center; vertical-align: top\">9</td>\n",
              "    </tr>\n",
              "    <tr>\n",
              "        <td style=\"padding-left: 1em; padding-right: 1em; text-align: center; vertical-align: top\">c66c10a9567f0d82ff31441a9<br>fd5063e5cd9dfe8 ...</td>\n",
              "        <td style=\"padding-left: 1em; padding-right: 1em; text-align: center; vertical-align: top\">No Dejes Que... -<br>Caifanes ...</td>\n",
              "        <td style=\"padding-left: 1em; padding-right: 1em; text-align: center; vertical-align: top\">0.012104249917543851</td>\n",
              "        <td style=\"padding-left: 1em; padding-right: 1em; text-align: center; vertical-align: top\">10</td>\n",
              "    </tr>\n",
              "</table>\n",
              "[10 rows x 4 columns]<br/>\n",
              "</div>"
            ]
          },
          "metadata": {},
          "execution_count": 16
        }
      ]
    },
    {
      "cell_type": "code",
      "source": [
        "personalized_model.recommend(users = [users[1]])"
      ],
      "metadata": {
        "colab": {
          "base_uri": "https://localhost:8080/",
          "height": 423
        },
        "id": "HK2jUtM2Lw57",
        "outputId": "f790ae49-ad0a-4bb7-e3a7-988c5e793f6a"
      },
      "execution_count": 17,
      "outputs": [
        {
          "output_type": "execute_result",
          "data": {
            "text/plain": [
              "Columns:\n",
              "\tuser_id\tstr\n",
              "\tsong\tstr\n",
              "\tscore\tfloat\n",
              "\trank\tint\n",
              "\n",
              "Rows: 10\n",
              "\n",
              "Data:\n",
              "+-------------------------------+--------------------------------+\n",
              "|            user_id            |              song              |\n",
              "+-------------------------------+--------------------------------+\n",
              "| 02f015d32ac2cd1e52d26e3ec3... | Where The Boat Leaves From...  |\n",
              "| 02f015d32ac2cd1e52d26e3ec3... | Different Kind Of Fine (Al...  |\n",
              "| 02f015d32ac2cd1e52d26e3ec3... | Jolene (Album) - Zac Brown...  |\n",
              "| 02f015d32ac2cd1e52d26e3ec3... | Sic 'Em On A Chicken (Albu...  |\n",
              "| 02f015d32ac2cd1e52d26e3ec3... | Who's Kissing You Tonight ...  |\n",
              "| 02f015d32ac2cd1e52d26e3ec3... |  What Country Is - Luke Bryan  |\n",
              "| 02f015d32ac2cd1e52d26e3ec3... | Highway 20 Ride (Album) - ...  |\n",
              "| 02f015d32ac2cd1e52d26e3ec3... |       Do I - Luke Bryan        |\n",
              "| 02f015d32ac2cd1e52d26e3ec3... | One Fine Wire - Colbie Caillat |\n",
              "| 02f015d32ac2cd1e52d26e3ec3... | Midnight Bottle - Colbie C...  |\n",
              "+-------------------------------+--------------------------------+\n",
              "+----------------------+------+\n",
              "|        score         | rank |\n",
              "+----------------------+------+\n",
              "| 0.06153608858585358  |  1   |\n",
              "| 0.06052837520837784  |  2   |\n",
              "| 0.05786820501089096  |  3   |\n",
              "| 0.05518669635057449  |  4   |\n",
              "| 0.05306333303451538  |  5   |\n",
              "| 0.037490807473659515 |  6   |\n",
              "| 0.03733157366514206  |  7   |\n",
              "| 0.033077359199523926 |  8   |\n",
              "|       0.03125        |  9   |\n",
              "| 0.030737705528736115 |  10  |\n",
              "+----------------------+------+\n",
              "[10 rows x 4 columns]"
            ],
            "text/html": [
              "<div style=\"max-height:1000px;max-width:1500px;overflow:auto;\"><table frame=\"box\" rules=\"cols\">\n",
              "    <tr>\n",
              "        <th style=\"padding-left: 1em; padding-right: 1em; text-align: center\">user_id</th>\n",
              "        <th style=\"padding-left: 1em; padding-right: 1em; text-align: center\">song</th>\n",
              "        <th style=\"padding-left: 1em; padding-right: 1em; text-align: center\">score</th>\n",
              "        <th style=\"padding-left: 1em; padding-right: 1em; text-align: center\">rank</th>\n",
              "    </tr>\n",
              "    <tr>\n",
              "        <td style=\"padding-left: 1em; padding-right: 1em; text-align: center; vertical-align: top\">02f015d32ac2cd1e52d26e3ec<br>36048711dd5711b ...</td>\n",
              "        <td style=\"padding-left: 1em; padding-right: 1em; text-align: center; vertical-align: top\">Where The Boat Leaves<br>From (Album) - Zac Brown ...</td>\n",
              "        <td style=\"padding-left: 1em; padding-right: 1em; text-align: center; vertical-align: top\">0.06153608858585358</td>\n",
              "        <td style=\"padding-left: 1em; padding-right: 1em; text-align: center; vertical-align: top\">1</td>\n",
              "    </tr>\n",
              "    <tr>\n",
              "        <td style=\"padding-left: 1em; padding-right: 1em; text-align: center; vertical-align: top\">02f015d32ac2cd1e52d26e3ec<br>36048711dd5711b ...</td>\n",
              "        <td style=\"padding-left: 1em; padding-right: 1em; text-align: center; vertical-align: top\">Different Kind Of Fine<br>(Album) - Zac Brown Band ...</td>\n",
              "        <td style=\"padding-left: 1em; padding-right: 1em; text-align: center; vertical-align: top\">0.06052837520837784</td>\n",
              "        <td style=\"padding-left: 1em; padding-right: 1em; text-align: center; vertical-align: top\">2</td>\n",
              "    </tr>\n",
              "    <tr>\n",
              "        <td style=\"padding-left: 1em; padding-right: 1em; text-align: center; vertical-align: top\">02f015d32ac2cd1e52d26e3ec<br>36048711dd5711b ...</td>\n",
              "        <td style=\"padding-left: 1em; padding-right: 1em; text-align: center; vertical-align: top\">Jolene (Album) - Zac<br>Brown Band ...</td>\n",
              "        <td style=\"padding-left: 1em; padding-right: 1em; text-align: center; vertical-align: top\">0.05786820501089096</td>\n",
              "        <td style=\"padding-left: 1em; padding-right: 1em; text-align: center; vertical-align: top\">3</td>\n",
              "    </tr>\n",
              "    <tr>\n",
              "        <td style=\"padding-left: 1em; padding-right: 1em; text-align: center; vertical-align: top\">02f015d32ac2cd1e52d26e3ec<br>36048711dd5711b ...</td>\n",
              "        <td style=\"padding-left: 1em; padding-right: 1em; text-align: center; vertical-align: top\">Sic &#x27;Em On A Chicken<br>(Album) - Zac Brown Band ...</td>\n",
              "        <td style=\"padding-left: 1em; padding-right: 1em; text-align: center; vertical-align: top\">0.05518669635057449</td>\n",
              "        <td style=\"padding-left: 1em; padding-right: 1em; text-align: center; vertical-align: top\">4</td>\n",
              "    </tr>\n",
              "    <tr>\n",
              "        <td style=\"padding-left: 1em; padding-right: 1em; text-align: center; vertical-align: top\">02f015d32ac2cd1e52d26e3ec<br>36048711dd5711b ...</td>\n",
              "        <td style=\"padding-left: 1em; padding-right: 1em; text-align: center; vertical-align: top\">Who&#x27;s Kissing You Tonight<br>- Jason Aldean ...</td>\n",
              "        <td style=\"padding-left: 1em; padding-right: 1em; text-align: center; vertical-align: top\">0.05306333303451538</td>\n",
              "        <td style=\"padding-left: 1em; padding-right: 1em; text-align: center; vertical-align: top\">5</td>\n",
              "    </tr>\n",
              "    <tr>\n",
              "        <td style=\"padding-left: 1em; padding-right: 1em; text-align: center; vertical-align: top\">02f015d32ac2cd1e52d26e3ec<br>36048711dd5711b ...</td>\n",
              "        <td style=\"padding-left: 1em; padding-right: 1em; text-align: center; vertical-align: top\">What Country Is - Luke<br>Bryan ...</td>\n",
              "        <td style=\"padding-left: 1em; padding-right: 1em; text-align: center; vertical-align: top\">0.037490807473659515</td>\n",
              "        <td style=\"padding-left: 1em; padding-right: 1em; text-align: center; vertical-align: top\">6</td>\n",
              "    </tr>\n",
              "    <tr>\n",
              "        <td style=\"padding-left: 1em; padding-right: 1em; text-align: center; vertical-align: top\">02f015d32ac2cd1e52d26e3ec<br>36048711dd5711b ...</td>\n",
              "        <td style=\"padding-left: 1em; padding-right: 1em; text-align: center; vertical-align: top\">Highway 20 Ride (Album) -<br>Zac Brown Band ...</td>\n",
              "        <td style=\"padding-left: 1em; padding-right: 1em; text-align: center; vertical-align: top\">0.03733157366514206</td>\n",
              "        <td style=\"padding-left: 1em; padding-right: 1em; text-align: center; vertical-align: top\">7</td>\n",
              "    </tr>\n",
              "    <tr>\n",
              "        <td style=\"padding-left: 1em; padding-right: 1em; text-align: center; vertical-align: top\">02f015d32ac2cd1e52d26e3ec<br>36048711dd5711b ...</td>\n",
              "        <td style=\"padding-left: 1em; padding-right: 1em; text-align: center; vertical-align: top\">Do I - Luke Bryan</td>\n",
              "        <td style=\"padding-left: 1em; padding-right: 1em; text-align: center; vertical-align: top\">0.033077359199523926</td>\n",
              "        <td style=\"padding-left: 1em; padding-right: 1em; text-align: center; vertical-align: top\">8</td>\n",
              "    </tr>\n",
              "    <tr>\n",
              "        <td style=\"padding-left: 1em; padding-right: 1em; text-align: center; vertical-align: top\">02f015d32ac2cd1e52d26e3ec<br>36048711dd5711b ...</td>\n",
              "        <td style=\"padding-left: 1em; padding-right: 1em; text-align: center; vertical-align: top\">One Fine Wire - Colbie<br>Caillat ...</td>\n",
              "        <td style=\"padding-left: 1em; padding-right: 1em; text-align: center; vertical-align: top\">0.03125</td>\n",
              "        <td style=\"padding-left: 1em; padding-right: 1em; text-align: center; vertical-align: top\">9</td>\n",
              "    </tr>\n",
              "    <tr>\n",
              "        <td style=\"padding-left: 1em; padding-right: 1em; text-align: center; vertical-align: top\">02f015d32ac2cd1e52d26e3ec<br>36048711dd5711b ...</td>\n",
              "        <td style=\"padding-left: 1em; padding-right: 1em; text-align: center; vertical-align: top\">Midnight Bottle - Colbie<br>Caillat ...</td>\n",
              "        <td style=\"padding-left: 1em; padding-right: 1em; text-align: center; vertical-align: top\">0.030737705528736115</td>\n",
              "        <td style=\"padding-left: 1em; padding-right: 1em; text-align: center; vertical-align: top\">10</td>\n",
              "    </tr>\n",
              "</table>\n",
              "[10 rows x 4 columns]<br/>\n",
              "</div>"
            ]
          },
          "metadata": {},
          "execution_count": 17
        }
      ]
    },
    {
      "cell_type": "code",
      "source": [
        "personalized_model.get_similar_items(['With Or Without You - U2'])"
      ],
      "metadata": {
        "colab": {
          "base_uri": "https://localhost:8080/",
          "height": 301
        },
        "id": "Aua7Ow0VLxDi",
        "outputId": "5ff28f24-899b-4075-cf7a-ffc6672e0698"
      },
      "execution_count": 18,
      "outputs": [
        {
          "output_type": "execute_result",
          "data": {
            "text/plain": [
              "Columns:\n",
              "\tsong\tstr\n",
              "\tsimilar\tstr\n",
              "\tscore\tfloat\n",
              "\trank\tint\n",
              "\n",
              "Rows: 10\n",
              "\n",
              "Data:\n",
              "+--------------------------+-------------------------------+\n",
              "|           song           |            similar            |\n",
              "+--------------------------+-------------------------------+\n",
              "| With Or Without You - U2 | I Still Haven't Found What... |\n",
              "| With Or Without You - U2 | Hold Me_ Thrill Me_ Kiss M... |\n",
              "| With Or Without You - U2 |    Window In The Skies - U2   |\n",
              "| With Or Without You - U2 |          Vertigo - U2         |\n",
              "| With Or Without You - U2 |   Sunday Bloody Sunday - U2   |\n",
              "| With Or Without You - U2 |            Bad - U2           |\n",
              "| With Or Without You - U2 |     A Day Without Me - U2     |\n",
              "| With Or Without You - U2 | Another Time Another Place... |\n",
              "| With Or Without You - U2 |          Walk On - U2         |\n",
              "| With Or Without You - U2 |     Get On Your Boots - U2    |\n",
              "+--------------------------+-------------------------------+\n",
              "+----------------------+------+\n",
              "|        score         | rank |\n",
              "+----------------------+------+\n",
              "| 0.04285717010498047  |  1   |\n",
              "| 0.033734917640686035 |  2   |\n",
              "| 0.03283584117889404  |  3   |\n",
              "| 0.03007519245147705  |  4   |\n",
              "| 0.02713179588317871  |  5   |\n",
              "| 0.02517986297607422  |  6   |\n",
              "| 0.023715436458587646 |  7   |\n",
              "| 0.020325183868408203 |  8   |\n",
              "| 0.020202040672302246 |  9   |\n",
              "| 0.019685029983520508 |  10  |\n",
              "+----------------------+------+\n",
              "[10 rows x 4 columns]"
            ],
            "text/html": [
              "<div style=\"max-height:1000px;max-width:1500px;overflow:auto;\"><table frame=\"box\" rules=\"cols\">\n",
              "    <tr>\n",
              "        <th style=\"padding-left: 1em; padding-right: 1em; text-align: center\">song</th>\n",
              "        <th style=\"padding-left: 1em; padding-right: 1em; text-align: center\">similar</th>\n",
              "        <th style=\"padding-left: 1em; padding-right: 1em; text-align: center\">score</th>\n",
              "        <th style=\"padding-left: 1em; padding-right: 1em; text-align: center\">rank</th>\n",
              "    </tr>\n",
              "    <tr>\n",
              "        <td style=\"padding-left: 1em; padding-right: 1em; text-align: center; vertical-align: top\">With Or Without You - U2</td>\n",
              "        <td style=\"padding-left: 1em; padding-right: 1em; text-align: center; vertical-align: top\">I Still Haven&#x27;t Found<br>What I&#x27;m Looking For  ...</td>\n",
              "        <td style=\"padding-left: 1em; padding-right: 1em; text-align: center; vertical-align: top\">0.04285717010498047</td>\n",
              "        <td style=\"padding-left: 1em; padding-right: 1em; text-align: center; vertical-align: top\">1</td>\n",
              "    </tr>\n",
              "    <tr>\n",
              "        <td style=\"padding-left: 1em; padding-right: 1em; text-align: center; vertical-align: top\">With Or Without You - U2</td>\n",
              "        <td style=\"padding-left: 1em; padding-right: 1em; text-align: center; vertical-align: top\">Hold Me_ Thrill Me_ Kiss<br>Me_ Kill Me - U2 ...</td>\n",
              "        <td style=\"padding-left: 1em; padding-right: 1em; text-align: center; vertical-align: top\">0.033734917640686035</td>\n",
              "        <td style=\"padding-left: 1em; padding-right: 1em; text-align: center; vertical-align: top\">2</td>\n",
              "    </tr>\n",
              "    <tr>\n",
              "        <td style=\"padding-left: 1em; padding-right: 1em; text-align: center; vertical-align: top\">With Or Without You - U2</td>\n",
              "        <td style=\"padding-left: 1em; padding-right: 1em; text-align: center; vertical-align: top\">Window In The Skies - U2</td>\n",
              "        <td style=\"padding-left: 1em; padding-right: 1em; text-align: center; vertical-align: top\">0.03283584117889404</td>\n",
              "        <td style=\"padding-left: 1em; padding-right: 1em; text-align: center; vertical-align: top\">3</td>\n",
              "    </tr>\n",
              "    <tr>\n",
              "        <td style=\"padding-left: 1em; padding-right: 1em; text-align: center; vertical-align: top\">With Or Without You - U2</td>\n",
              "        <td style=\"padding-left: 1em; padding-right: 1em; text-align: center; vertical-align: top\">Vertigo - U2</td>\n",
              "        <td style=\"padding-left: 1em; padding-right: 1em; text-align: center; vertical-align: top\">0.03007519245147705</td>\n",
              "        <td style=\"padding-left: 1em; padding-right: 1em; text-align: center; vertical-align: top\">4</td>\n",
              "    </tr>\n",
              "    <tr>\n",
              "        <td style=\"padding-left: 1em; padding-right: 1em; text-align: center; vertical-align: top\">With Or Without You - U2</td>\n",
              "        <td style=\"padding-left: 1em; padding-right: 1em; text-align: center; vertical-align: top\">Sunday Bloody Sunday - U2</td>\n",
              "        <td style=\"padding-left: 1em; padding-right: 1em; text-align: center; vertical-align: top\">0.02713179588317871</td>\n",
              "        <td style=\"padding-left: 1em; padding-right: 1em; text-align: center; vertical-align: top\">5</td>\n",
              "    </tr>\n",
              "    <tr>\n",
              "        <td style=\"padding-left: 1em; padding-right: 1em; text-align: center; vertical-align: top\">With Or Without You - U2</td>\n",
              "        <td style=\"padding-left: 1em; padding-right: 1em; text-align: center; vertical-align: top\">Bad - U2</td>\n",
              "        <td style=\"padding-left: 1em; padding-right: 1em; text-align: center; vertical-align: top\">0.02517986297607422</td>\n",
              "        <td style=\"padding-left: 1em; padding-right: 1em; text-align: center; vertical-align: top\">6</td>\n",
              "    </tr>\n",
              "    <tr>\n",
              "        <td style=\"padding-left: 1em; padding-right: 1em; text-align: center; vertical-align: top\">With Or Without You - U2</td>\n",
              "        <td style=\"padding-left: 1em; padding-right: 1em; text-align: center; vertical-align: top\">A Day Without Me - U2</td>\n",
              "        <td style=\"padding-left: 1em; padding-right: 1em; text-align: center; vertical-align: top\">0.023715436458587646</td>\n",
              "        <td style=\"padding-left: 1em; padding-right: 1em; text-align: center; vertical-align: top\">7</td>\n",
              "    </tr>\n",
              "    <tr>\n",
              "        <td style=\"padding-left: 1em; padding-right: 1em; text-align: center; vertical-align: top\">With Or Without You - U2</td>\n",
              "        <td style=\"padding-left: 1em; padding-right: 1em; text-align: center; vertical-align: top\">Another Time Another<br>Place - U2 ...</td>\n",
              "        <td style=\"padding-left: 1em; padding-right: 1em; text-align: center; vertical-align: top\">0.020325183868408203</td>\n",
              "        <td style=\"padding-left: 1em; padding-right: 1em; text-align: center; vertical-align: top\">8</td>\n",
              "    </tr>\n",
              "    <tr>\n",
              "        <td style=\"padding-left: 1em; padding-right: 1em; text-align: center; vertical-align: top\">With Or Without You - U2</td>\n",
              "        <td style=\"padding-left: 1em; padding-right: 1em; text-align: center; vertical-align: top\">Walk On - U2</td>\n",
              "        <td style=\"padding-left: 1em; padding-right: 1em; text-align: center; vertical-align: top\">0.020202040672302246</td>\n",
              "        <td style=\"padding-left: 1em; padding-right: 1em; text-align: center; vertical-align: top\">9</td>\n",
              "    </tr>\n",
              "    <tr>\n",
              "        <td style=\"padding-left: 1em; padding-right: 1em; text-align: center; vertical-align: top\">With Or Without You - U2</td>\n",
              "        <td style=\"padding-left: 1em; padding-right: 1em; text-align: center; vertical-align: top\">Get On Your Boots - U2</td>\n",
              "        <td style=\"padding-left: 1em; padding-right: 1em; text-align: center; vertical-align: top\">0.019685029983520508</td>\n",
              "        <td style=\"padding-left: 1em; padding-right: 1em; text-align: center; vertical-align: top\">10</td>\n",
              "    </tr>\n",
              "</table>\n",
              "[10 rows x 4 columns]<br/>\n",
              "</div>"
            ]
          },
          "metadata": {},
          "execution_count": 18
        }
      ]
    },
    {
      "cell_type": "code",
      "source": [
        "personalized_model.get_similar_items(['Chan Chan (Live) - Buena Vista Social Club'])"
      ],
      "metadata": {
        "colab": {
          "base_uri": "https://localhost:8080/",
          "height": 423
        },
        "id": "svKZ5uhpMa-v",
        "outputId": "fb0fd2c7-cb04-4c13-ab04-bc43628bfef0"
      },
      "execution_count": 19,
      "outputs": [
        {
          "output_type": "execute_result",
          "data": {
            "text/plain": [
              "Columns:\n",
              "\tsong\tstr\n",
              "\tsimilar\tstr\n",
              "\tscore\tfloat\n",
              "\trank\tint\n",
              "\n",
              "Rows: 10\n",
              "\n",
              "Data:\n",
              "+-------------------------------+--------------------------------+\n",
              "|              song             |            similar             |\n",
              "+-------------------------------+--------------------------------+\n",
              "| Chan Chan (Live) - Buena V... | Murmullo - Buena Vista Soc...  |\n",
              "| Chan Chan (Live) - Buena V... | La Bayamesa - Buena Vista ...  |\n",
              "| Chan Chan (Live) - Buena V... | Amor de Loca Juventud - Bu...  |\n",
              "| Chan Chan (Live) - Buena V... |   Diferente - Gotan Project    |\n",
              "| Chan Chan (Live) - Buena V... |       Mistica - Orishas        |\n",
              "| Chan Chan (Live) - Buena V... | Hotel California - Gipsy Kings |\n",
              "| Chan Chan (Live) - Buena V... |     Nací Orishas - Orishas     |\n",
              "| Chan Chan (Live) - Buena V... |     Gitana - Willie Colon      |\n",
              "| Chan Chan (Live) - Buena V... |    Le Moulin - Yann Tiersen    |\n",
              "| Chan Chan (Live) - Buena V... |    Criminal - Gotan Project    |\n",
              "+-------------------------------+--------------------------------+\n",
              "+----------------------+------+\n",
              "|        score         | rank |\n",
              "+----------------------+------+\n",
              "|  0.1881188154220581  |  1   |\n",
              "|  0.1871921420097351  |  2   |\n",
              "| 0.18483412265777588  |  3   |\n",
              "| 0.021459221839904785 |  4   |\n",
              "| 0.020576119422912598 |  5   |\n",
              "| 0.019304990768432617 |  6   |\n",
              "| 0.019157111644744873 |  7   |\n",
              "| 0.018796980381011963 |  8   |\n",
              "| 0.018796980381011963 |  9   |\n",
              "| 0.018779337406158447 |  10  |\n",
              "+----------------------+------+\n",
              "[10 rows x 4 columns]"
            ],
            "text/html": [
              "<div style=\"max-height:1000px;max-width:1500px;overflow:auto;\"><table frame=\"box\" rules=\"cols\">\n",
              "    <tr>\n",
              "        <th style=\"padding-left: 1em; padding-right: 1em; text-align: center\">song</th>\n",
              "        <th style=\"padding-left: 1em; padding-right: 1em; text-align: center\">similar</th>\n",
              "        <th style=\"padding-left: 1em; padding-right: 1em; text-align: center\">score</th>\n",
              "        <th style=\"padding-left: 1em; padding-right: 1em; text-align: center\">rank</th>\n",
              "    </tr>\n",
              "    <tr>\n",
              "        <td style=\"padding-left: 1em; padding-right: 1em; text-align: center; vertical-align: top\">Chan Chan (Live) - Buena<br>Vista Social Club ...</td>\n",
              "        <td style=\"padding-left: 1em; padding-right: 1em; text-align: center; vertical-align: top\">Murmullo - Buena Vista<br>Social Club ...</td>\n",
              "        <td style=\"padding-left: 1em; padding-right: 1em; text-align: center; vertical-align: top\">0.1881188154220581</td>\n",
              "        <td style=\"padding-left: 1em; padding-right: 1em; text-align: center; vertical-align: top\">1</td>\n",
              "    </tr>\n",
              "    <tr>\n",
              "        <td style=\"padding-left: 1em; padding-right: 1em; text-align: center; vertical-align: top\">Chan Chan (Live) - Buena<br>Vista Social Club ...</td>\n",
              "        <td style=\"padding-left: 1em; padding-right: 1em; text-align: center; vertical-align: top\">La Bayamesa - Buena Vista<br>Social Club ...</td>\n",
              "        <td style=\"padding-left: 1em; padding-right: 1em; text-align: center; vertical-align: top\">0.1871921420097351</td>\n",
              "        <td style=\"padding-left: 1em; padding-right: 1em; text-align: center; vertical-align: top\">2</td>\n",
              "    </tr>\n",
              "    <tr>\n",
              "        <td style=\"padding-left: 1em; padding-right: 1em; text-align: center; vertical-align: top\">Chan Chan (Live) - Buena<br>Vista Social Club ...</td>\n",
              "        <td style=\"padding-left: 1em; padding-right: 1em; text-align: center; vertical-align: top\">Amor de Loca Juventud -<br>Buena Vista Social Club ...</td>\n",
              "        <td style=\"padding-left: 1em; padding-right: 1em; text-align: center; vertical-align: top\">0.18483412265777588</td>\n",
              "        <td style=\"padding-left: 1em; padding-right: 1em; text-align: center; vertical-align: top\">3</td>\n",
              "    </tr>\n",
              "    <tr>\n",
              "        <td style=\"padding-left: 1em; padding-right: 1em; text-align: center; vertical-align: top\">Chan Chan (Live) - Buena<br>Vista Social Club ...</td>\n",
              "        <td style=\"padding-left: 1em; padding-right: 1em; text-align: center; vertical-align: top\">Diferente - Gotan Project</td>\n",
              "        <td style=\"padding-left: 1em; padding-right: 1em; text-align: center; vertical-align: top\">0.021459221839904785</td>\n",
              "        <td style=\"padding-left: 1em; padding-right: 1em; text-align: center; vertical-align: top\">4</td>\n",
              "    </tr>\n",
              "    <tr>\n",
              "        <td style=\"padding-left: 1em; padding-right: 1em; text-align: center; vertical-align: top\">Chan Chan (Live) - Buena<br>Vista Social Club ...</td>\n",
              "        <td style=\"padding-left: 1em; padding-right: 1em; text-align: center; vertical-align: top\">Mistica - Orishas</td>\n",
              "        <td style=\"padding-left: 1em; padding-right: 1em; text-align: center; vertical-align: top\">0.020576119422912598</td>\n",
              "        <td style=\"padding-left: 1em; padding-right: 1em; text-align: center; vertical-align: top\">5</td>\n",
              "    </tr>\n",
              "    <tr>\n",
              "        <td style=\"padding-left: 1em; padding-right: 1em; text-align: center; vertical-align: top\">Chan Chan (Live) - Buena<br>Vista Social Club ...</td>\n",
              "        <td style=\"padding-left: 1em; padding-right: 1em; text-align: center; vertical-align: top\">Hotel California - Gipsy<br>Kings ...</td>\n",
              "        <td style=\"padding-left: 1em; padding-right: 1em; text-align: center; vertical-align: top\">0.019304990768432617</td>\n",
              "        <td style=\"padding-left: 1em; padding-right: 1em; text-align: center; vertical-align: top\">6</td>\n",
              "    </tr>\n",
              "    <tr>\n",
              "        <td style=\"padding-left: 1em; padding-right: 1em; text-align: center; vertical-align: top\">Chan Chan (Live) - Buena<br>Vista Social Club ...</td>\n",
              "        <td style=\"padding-left: 1em; padding-right: 1em; text-align: center; vertical-align: top\">Nací Orishas - Orishas</td>\n",
              "        <td style=\"padding-left: 1em; padding-right: 1em; text-align: center; vertical-align: top\">0.019157111644744873</td>\n",
              "        <td style=\"padding-left: 1em; padding-right: 1em; text-align: center; vertical-align: top\">7</td>\n",
              "    </tr>\n",
              "    <tr>\n",
              "        <td style=\"padding-left: 1em; padding-right: 1em; text-align: center; vertical-align: top\">Chan Chan (Live) - Buena<br>Vista Social Club ...</td>\n",
              "        <td style=\"padding-left: 1em; padding-right: 1em; text-align: center; vertical-align: top\">Gitana - Willie Colon</td>\n",
              "        <td style=\"padding-left: 1em; padding-right: 1em; text-align: center; vertical-align: top\">0.018796980381011963</td>\n",
              "        <td style=\"padding-left: 1em; padding-right: 1em; text-align: center; vertical-align: top\">8</td>\n",
              "    </tr>\n",
              "    <tr>\n",
              "        <td style=\"padding-left: 1em; padding-right: 1em; text-align: center; vertical-align: top\">Chan Chan (Live) - Buena<br>Vista Social Club ...</td>\n",
              "        <td style=\"padding-left: 1em; padding-right: 1em; text-align: center; vertical-align: top\">Le Moulin - Yann Tiersen</td>\n",
              "        <td style=\"padding-left: 1em; padding-right: 1em; text-align: center; vertical-align: top\">0.018796980381011963</td>\n",
              "        <td style=\"padding-left: 1em; padding-right: 1em; text-align: center; vertical-align: top\">9</td>\n",
              "    </tr>\n",
              "    <tr>\n",
              "        <td style=\"padding-left: 1em; padding-right: 1em; text-align: center; vertical-align: top\">Chan Chan (Live) - Buena<br>Vista Social Club ...</td>\n",
              "        <td style=\"padding-left: 1em; padding-right: 1em; text-align: center; vertical-align: top\">Criminal - Gotan Project</td>\n",
              "        <td style=\"padding-left: 1em; padding-right: 1em; text-align: center; vertical-align: top\">0.018779337406158447</td>\n",
              "        <td style=\"padding-left: 1em; padding-right: 1em; text-align: center; vertical-align: top\">10</td>\n",
              "    </tr>\n",
              "</table>\n",
              "[10 rows x 4 columns]<br/>\n",
              "</div>"
            ]
          },
          "metadata": {},
          "execution_count": 19
        }
      ]
    },
    {
      "cell_type": "code",
      "source": [
        "%matplotlib inline\n",
        "model_performance = turicreate.recommender.util.compare_models(test_data,\n",
        "                                                               [popularity_model, personalized_model],\n",
        "                                                               user_sample = 0.05)"
      ],
      "metadata": {
        "colab": {
          "base_uri": "https://localhost:8080/",
          "height": 798
        },
        "id": "J7KXSy1mNDia",
        "outputId": "bb2af0cb-b4eb-4995-918d-9813d726bd1d"
      },
      "execution_count": 20,
      "outputs": [
        {
          "output_type": "stream",
          "name": "stdout",
          "text": [
            "compare_models: using 2931 users to estimate model performance\n",
            "PROGRESS: Evaluate model M0\n"
          ]
        },
        {
          "output_type": "display_data",
          "data": {
            "text/plain": [
              "recommendations finished on 1000/2931 queries. users per second: 2816.16"
            ],
            "text/html": [
              "<pre>recommendations finished on 1000/2931 queries. users per second: 2816.16</pre>"
            ]
          },
          "metadata": {}
        },
        {
          "output_type": "display_data",
          "data": {
            "text/plain": [
              "recommendations finished on 2000/2931 queries. users per second: 2868.8"
            ],
            "text/html": [
              "<pre>recommendations finished on 2000/2931 queries. users per second: 2868.8</pre>"
            ]
          },
          "metadata": {}
        },
        {
          "output_type": "stream",
          "name": "stderr",
          "text": [
            "WARNING:root:Model trained without a target. Skipping RMSE computation.\n"
          ]
        },
        {
          "output_type": "stream",
          "name": "stdout",
          "text": [
            "\n",
            "Precision and recall summary statistics by cutoff\n",
            "+--------+----------------------+----------------------+\n",
            "| cutoff |    mean_precision    |     mean_recall      |\n",
            "+--------+----------------------+----------------------+\n",
            "|   1    | 0.022517911975435016 | 0.005977669360473864 |\n",
            "|   2    | 0.023370863186625724 | 0.013506385384583954 |\n",
            "|   3    | 0.021153190037529905 | 0.017742734349694447 |\n",
            "|   4    | 0.020129648584101007 | 0.022380524248487424 |\n",
            "|   5    | 0.01917434322756742  | 0.025986747813769324 |\n",
            "|   6    | 0.018310019333560787 | 0.029955081784662135 |\n",
            "|   7    | 0.01783886533118879  | 0.03412290304562564  |\n",
            "|   8    | 0.016547253497099953 | 0.035643119343221716 |\n",
            "|   9    | 0.015732211228628865 | 0.037734486787710964 |\n",
            "|   10   | 0.015250767656090106 | 0.04038457183288297  |\n",
            "+--------+----------------------+----------------------+\n",
            "[10 rows x 3 columns]\n",
            "\n",
            "PROGRESS: Evaluate model M1\n"
          ]
        },
        {
          "output_type": "display_data",
          "data": {
            "text/plain": [
              "recommendations finished on 1000/2931 queries. users per second: 2492.78"
            ],
            "text/html": [
              "<pre>recommendations finished on 1000/2931 queries. users per second: 2492.78</pre>"
            ]
          },
          "metadata": {}
        },
        {
          "output_type": "display_data",
          "data": {
            "text/plain": [
              "recommendations finished on 2000/2931 queries. users per second: 2626.68"
            ],
            "text/html": [
              "<pre>recommendations finished on 2000/2931 queries. users per second: 2626.68</pre>"
            ]
          },
          "metadata": {}
        },
        {
          "output_type": "stream",
          "name": "stderr",
          "text": [
            "WARNING:root:Model trained without a target. Skipping RMSE computation.\n"
          ]
        },
        {
          "output_type": "stream",
          "name": "stdout",
          "text": [
            "\n",
            "Precision and recall summary statistics by cutoff\n",
            "+--------+----------------------+---------------------+\n",
            "| cutoff |    mean_precision    |     mean_recall     |\n",
            "+--------+----------------------+---------------------+\n",
            "|   1    |  0.1023541453428864  | 0.03153042856065311 |\n",
            "|   2    | 0.08631866257250093  | 0.05154697944977315 |\n",
            "|   3    | 0.07551461389741844  | 0.06679822962787017 |\n",
            "|   4    | 0.06593312862504251  | 0.07624462750674442 |\n",
            "|   5    | 0.05997952917093138  | 0.08450766422272826 |\n",
            "|   6    | 0.05475946775844422  | 0.09256686307005416 |\n",
            "|   7    | 0.050835892186966825 | 0.10010813349364746 |\n",
            "|   8    |  0.0475093824633231  | 0.10590623385418367 |\n",
            "|   9    | 0.04511164183630924  | 0.11226508752473588 |\n",
            "|   10   | 0.04298874104401229  | 0.11832966673414624 |\n",
            "+--------+----------------------+---------------------+\n",
            "[10 rows x 3 columns]\n",
            "\n"
          ]
        }
      ]
    }
  ],
  "metadata": {
    "colab": {
      "collapsed_sections": [],
      "name": "Recommender_System_Songs.ipynb",
      "provenance": []
    },
    "kernelspec": {
      "display_name": "Python 3",
      "name": "python3"
    },
    "language_info": {
      "name": "python"
    }
  },
  "nbformat": 4,
  "nbformat_minor": 0
}