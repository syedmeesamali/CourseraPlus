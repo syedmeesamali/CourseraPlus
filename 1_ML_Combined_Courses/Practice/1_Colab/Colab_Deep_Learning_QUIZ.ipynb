{
  "cells": [
    {
      "cell_type": "markdown",
      "metadata": {
        "id": "8V5UxN6fbMuR"
      },
      "source": [
        "### Mount the local drive to save the works"
      ]
    },
    {
      "cell_type": "code",
      "execution_count": null,
      "metadata": {
        "id": "VsdGRY4tkYqZ"
      },
      "outputs": [],
      "source": [
        "from google.colab import drive\n",
        "drive.mount('/content/MyDrive/')"
      ]
    },
    {
      "cell_type": "markdown",
      "source": [
        "# ***Turicreate ***"
      ],
      "metadata": {
        "id": "nAtgZh9QJelb"
      }
    },
    {
      "cell_type": "code",
      "execution_count": 3,
      "metadata": {
        "id": "NXJgHWC7nCcF"
      },
      "outputs": [],
      "source": [
        "#!pip install turicreate\n",
        "import turicreate"
      ]
    },
    {
      "cell_type": "code",
      "execution_count": 4,
      "metadata": {
        "id": "xsi0cLTnnlgj"
      },
      "outputs": [],
      "source": [
        "image_train = turicreate.SFrame('/content/MyDrive/MyDrive/SFRAMES/image_train_data/')\n",
        "image_test = turicreate.SFrame('/content/MyDrive/MyDrive/SFRAMES/image_test_data/')"
      ]
    },
    {
      "cell_type": "code",
      "execution_count": 5,
      "metadata": {
        "colab": {
          "base_uri": "https://localhost:8080/",
          "height": 331
        },
        "id": "iMlCcxIJn9sJ",
        "outputId": "7f508743-ba98-496f-8390-2b57a6b8595a"
      },
      "outputs": [
        {
          "output_type": "display_data",
          "data": {
            "text/plain": [
              "<IPython.core.display.HTML object>"
            ],
            "text/html": [
              "<html lang=\"en\">                                                     <head>                                                               <style>                                                              .sframe {                                                            font-size: 12px;                                                   font-family: HelveticaNeue;                                        border: 1px solid silver;                                        }                                                                  .sframe thead th {                                                   background: #F7F7F7;                                               font-family: HelveticaNeue-Medium;                                 font-size: 14px;                                                   line-height: 16.8px;                                               padding-top: 16px;                                                 padding-bottom: 16px;                                              padding-left: 10px;                                                padding-right: 38px;                                               border-top: 1px solid #E9E9E9;                                     border-bottom: 1px solid #E9E9E9;                                  white-space: nowrap;                                               overflow: hidden;                                                  text-overflow:ellipsis;                                            text-align:center;                                                 font-weight:normal;                                              }                                                                  .sframe tbody th {                                                   background: #FFFFFF;                                               text-align:left;                                                   font-weight:normal;                                                border-right: 1px solid #E9E9E9;                                 }                                                                  .sframe td {                                                         background: #FFFFFF;                                               padding-left: 10px;                                                padding-right: 38px;                                               padding-top: 14px;                                                 padding-bottom: 14px;                                              border-bottom: 1px solid #E9E9E9;                                  max-height: 0px;                                                   transition: max-height 5s ease-out;                                vertical-align: middle;                                            font-family: HelveticaNeue;                                        font-size: 12px;                                                   line-height: 16.8px;                                               background: #FFFFFF;                                             }                                                                  .sframe tr {                                                         padding-left: 10px;                                                padding-right: 38px;                                               padding-top: 14px;                                                 padding-bottom: 14px;                                              border-bottom: 1px solid #E9E9E9;                                  max-height: 0px;                                                   transition: max-height 5s ease-out;                                vertical-align: middle;                                            font-family: HelveticaNeue;                                        font-size: 12px;                                                   line-height: 16.8px;                                               background: #FFFFFF;                                             }                                                                  .sframe tr:hover {                                                   background: silver;                                              },                                                               </style>                                                         </head>                                                            <body>                                                               <h1>  </h1>                                             <table border=\"1\" class=\"dataframe sframe\">\n",
              "  <thead>\n",
              "    <tr style=\"text-align: right;\">\n",
              "      <th></th>\n",
              "      <th>SArray</th>\n",
              "    </tr>\n",
              "  </thead>\n",
              "  <tbody>\n",
              "    <tr>\n",
              "      <th>0</th>\n",
              "      <td><img src=\"data:image/png;base64,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\"/></td>\n",
              "    </tr>\n",
              "    <tr>\n",
              "      <th>1</th>\n",
              "      <td><img src=\"data:image/png;base64,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\"/></td>\n",
              "    </tr>\n",
              "    <tr>\n",
              "      <th>2</th>\n",
              "      <td><img src=\"data:image/png;base64,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\"/></td>\n",
              "    </tr>\n",
              "    <tr>\n",
              "      <th>3</th>\n",
              "      <td><img src=\"data:image/png;base64,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\"/></td>\n",
              "    </tr>\n",
              "    <tr>\n",
              "      <th>4</th>\n",
              "      <td><img src=\"data:image/png;base64,iVBORw0KGgoAAAANSUhEUgAAACAAAAAgCAIAAAD8GO2jAAAGwUlEQVR4nI1WW29cVxVea+199jlnPGOPPRNflOJLmwuhUPriJK3SKLRCgCiqeOChoYh/AEj8HAgXCQkJyhMtocRNeCgEq81NqJEhqZ0E22NnbM+c47mec/ZaPOzxZDpxEFujmX327LO+tdfl+zZGUWStJSIiQkQRAQBEREQ4GIPzp4fb7F4EADdhZgBQSmnP8xDRWR8y6h7dy4MmBkd/cWgDETGziGitdd/QoL/u25l+2sdBV9x6f3EQRimlHdSgv0PHH3K/b25wcuicmZVSOk1Ta+2zzt4HeFZkDp0Pxk1nWZZlmUvDoYFy6RmyPhTGIXgXfWYmIm2MUUrBU5UzBHOooUNHP229E/RzCJ9PwP9Zps8KYD/CnwMYtPi/63Io1vBU2t0iM/eSjE9wEBHE/SIgHNIZMFAwg/kcOpaIEFGvDxARCRGRgBwAIxAAwRAKgICACIuAADqXQUAExO1zPdwfmogcoGOLvi8KAACstWmaMrMrZe15vmdIEaoeJluLCAI41G5PAIYKlEUazUYj3k9b3STLLIHnG2QLAiycdJP9uBFHUZpmYRjMLszPL8wRoFjrwuUK1E16SXbPRCTMQPSXpSvvffDnRtwYyxWAaLxcYuG3vv0tAFhaWqpUKsrz19YeWGsXFhZ2atXzr732g7cv5vzAZlawF3pHDSKilHpSRURq+/H2L371y5XV+1//xjfzI2NZmoKnf33p0rEX5memp9cePvjww6svnz5z8uWXtNZzs3NbW+vvf3A5rkffe+u709NTQRi6Ezj66TUaEQmAIGbMP/v5patX/1qaLDcb7Y+uf9JuNUul8Y5NcuPjhVLp7KuvVjYrYO2ICYrFcUN6dma2eCF/+b33JbHvvPP9KWNc2w+SmwYAAdCIK5/df7i+/sbrb4RBkLVax45Ot6vbqzc+/oLI5vKN6VfMSye++NyPf2TI87TR2mjtsbV+YDCDSqXSbLW3trby+fzIyIiLj7VWRFBEQODRZ2sfLf9jfHKy3W7ncrmRfAjd5s0/XV7+/R+O+MFeSpNfOnXxpz8pvjBf3XrcbrREsNtJPKPDMIiiqNFozM3Nep6ampoCgEI+HwS+ozjtimn13r31Rxvg+WmSRvXYDwLudOKMjp07T+2WjSJ/osDA1Y3K7l6ttldLkixLrWe07xuttTFmY2OzWBzd2Kxcu3btO2+++bUL5x3FaQBgYZ0LZo4etRkTaQAsjk2YsimWJ+Oo9vjxZtiKisWJv926+cmNm/n86OLi6U6ni6AAhdlqrZNugora252/X79+586dwujo+fPnXPVrAOhmWZvtWGlCawMCYRjmCyNI0Gl7SZqG+QnyzF6jubx8HQmru7vlcvnkyVNZxp6nlSJS5BpofbOyu7s3Nzff6XSbjcbo6GgPoN1qffrPT/f2amGY87RnfFMo5EsT45a5Ee+T2Kybbm1u1HZ3F56fy4fh7t5OPj8igqgQCRAQCUUgSToE8tz0VGiMtVmvkwGgsR9fuXK5Xo88bZRWWutCoVAqTTSbjTiOL1x43fP8qB5lWVoulbKM9/eb29tbIpjazHKGiFrrIAy63YbxKQi052Gr3TGmBSAaQPzAFAr56k41TbuuU+K4trv7OIqinZ2dI0cmXzl7bq9W01orpdrtbpamrVZbawOERBoAhLFara6srGjCjc2N48dPPHiw7nnbiKjXHj4SkS+/+NWlpataKWYulcuLi2dGR8f29/d3qtVcmK/X62trqyMjYaWylabZw4f/aTY7ExMlUtozvlIqlwv3ajvLyx8vzM6fWVwcL5Y2Nrd7dP2vlVVhWZg/8fzCidu3b1nLp0595cTxFxGwONYpl2a6nc7du3fjOI7j+szMtO8HItDpdJIkCUJPKeX7gef5R4/OXnz7hx7pqckjuVyxm6TMQkT4u3f/2Gq16vX6/Xv/vn37lrV2amqqWCyyoCNqIvIMWpsByMzMTLk0HYZ53/hK6yAwSlHvKifADCAAItZaCz3Rx9/89t0sy5IkAREQcRpgmZ2AKaXc1e+AzxHRQ6RehSgRzhwzs6BlEOG+wIkAEWnnptaaEBXRgWqBZbbWaq0ACFEB4IFqQl9v4UBnlFIKSUlPpa21zEyESqE2xvTEwX0QiYhFYECoD/4EAGHuCTZAj/cPLk59veFezAREQDebLWZLRMCOtpGZWYRFiEgplWUZiyCgiLAwIfVVFwE8pTKbAYBlBgStewoGiMyWSOHps+d6V6UDRS8Wi0prAbHW1uvR2NgoEQJCmqbWMgIZY6y1AJKmabfdCcNQaeV5ppt24ygiUpYtAjp3/ws1jk88u8SpIAAAAABJRU5ErkJggg==\"/></td>\n",
              "    </tr>\n",
              "  </tbody>\n",
              "</table>                          </body>                                                          </html>"
            ]
          },
          "metadata": {}
        }
      ],
      "source": [
        "image_train['image'][10:15].explore()"
      ]
    },
    {
      "cell_type": "markdown",
      "source": [
        "# **Summary Statistics - Sketch**"
      ],
      "metadata": {
        "id": "lon5pkKMLheS"
      }
    },
    {
      "cell_type": "code",
      "source": [
        "sketch = turicreate.Sketch(image_train['label'])"
      ],
      "metadata": {
        "id": "lXIAfYa4LgdF"
      },
      "execution_count": 6,
      "outputs": []
    },
    {
      "cell_type": "code",
      "source": [
        "sketch"
      ],
      "metadata": {
        "colab": {
          "base_uri": "https://localhost:8080/"
        },
        "id": "bhh8l62PQXr-",
        "outputId": "90b772e8-2e37-48a3-dd06-5f7384a7a89e"
      },
      "execution_count": 7,
      "outputs": [
        {
          "output_type": "execute_result",
          "data": {
            "text/plain": [
              "\n",
              "+------------------+-------+----------+\n",
              "|       item       | value | is exact |\n",
              "+------------------+-------+----------+\n",
              "|      Length      |  2005 |   Yes    |\n",
              "| # Missing Values |   0   |   Yes    |\n",
              "| # unique values  |   4   |    No    |\n",
              "+------------------+-------+----------+\n",
              "\n",
              "Most frequent items:\n",
              "+------------+-------+\n",
              "|   value    | count |\n",
              "+------------+-------+\n",
              "|    cat     |  509  |\n",
              "|    dog     |  509  |\n",
              "| automobile |  509  |\n",
              "|    bird    |  478  |\n",
              "+------------+-------+\n"
            ]
          },
          "metadata": {},
          "execution_count": 7
        }
      ]
    },
    {
      "cell_type": "code",
      "source": [
        "def get_images_id(query_result):\n",
        "  return image_train.filter_by(query_result['reference_label'], 'id')"
      ],
      "metadata": {
        "id": "qe6duSMlMNsX"
      },
      "execution_count": 8,
      "outputs": []
    },
    {
      "cell_type": "code",
      "source": [
        "#Four image categories, dog, cat, automobile, and bird.\n",
        "dog = image_train.filter_by('dog', 'label')\n"
      ],
      "metadata": {
        "id": "mcKHn49wMUGe"
      },
      "execution_count": 9,
      "outputs": []
    },
    {
      "cell_type": "code",
      "source": [
        "dog.head(5)"
      ],
      "metadata": {
        "colab": {
          "base_uri": "https://localhost:8080/",
          "height": 239
        },
        "id": "YgdIhoGsQffu",
        "outputId": "33edfc5c-1ae5-40e1-f06b-c3472fb3d6c3"
      },
      "execution_count": 10,
      "outputs": [
        {
          "output_type": "execute_result",
          "data": {
            "text/plain": [
              "Columns:\n",
              "\tid\tint\n",
              "\timage\tImage\n",
              "\tlabel\tstr\n",
              "\tdeep_features\tarray\n",
              "\timage_array\tarray\n",
              "\n",
              "Rows: 5\n",
              "\n",
              "Data:\n",
              "+-----+----------------------+-------+-------------------------------+\n",
              "|  id |        image         | label |         deep_features         |\n",
              "+-----+----------------------+-------+-------------------------------+\n",
              "|  70 | Height: 32 Width: 32 |  dog  | [1.129795789718628, 0.0, 0... |\n",
              "| 107 | Height: 32 Width: 32 |  dog  | [0.0, 0.0, 0.2206778526306... |\n",
              "| 177 | Height: 32 Width: 32 |  dog  | [0.0, 1.4596567153930664, ... |\n",
              "| 424 | Height: 32 Width: 32 |  dog  | [0.9423996806144714, 0.0, ... |\n",
              "| 462 | Height: 32 Width: 32 |  dog  | [1.4346256256103516, 0.0, ... |\n",
              "+-----+----------------------+-------+-------------------------------+\n",
              "+-------------------------------+\n",
              "|          image_array          |\n",
              "+-------------------------------+\n",
              "| [154.0, 179.0, 152.0, 159.... |\n",
              "| [97.0, 51.0, 31.0, 104.0, ... |\n",
              "| [55.0, 75.0, 42.0, 51.0, 7... |\n",
              "| [60.0, 35.0, 18.0, 63.0, 4... |\n",
              "| [86.0, 69.0, 75.0, 57.0, 4... |\n",
              "+-------------------------------+\n",
              "[5 rows x 5 columns]"
            ],
            "text/html": [
              "<div style=\"max-height:1000px;max-width:1500px;overflow:auto;\"><table frame=\"box\" rules=\"cols\">\n",
              "    <tr>\n",
              "        <th style=\"padding-left: 1em; padding-right: 1em; text-align: center\">id</th>\n",
              "        <th style=\"padding-left: 1em; padding-right: 1em; text-align: center\">image</th>\n",
              "        <th style=\"padding-left: 1em; padding-right: 1em; text-align: center\">label</th>\n",
              "        <th style=\"padding-left: 1em; padding-right: 1em; text-align: center\">deep_features</th>\n",
              "        <th style=\"padding-left: 1em; padding-right: 1em; text-align: center\">image_array</th>\n",
              "    </tr>\n",
              "    <tr>\n",
              "        <td style=\"padding-left: 1em; padding-right: 1em; text-align: center; vertical-align: top\">70</td>\n",
              "        <td style=\"padding-left: 1em; padding-right: 1em; text-align: center; vertical-align: top\">Height: 32 Width: 32</td>\n",
              "        <td style=\"padding-left: 1em; padding-right: 1em; text-align: center; vertical-align: top\">dog</td>\n",
              "        <td style=\"padding-left: 1em; padding-right: 1em; text-align: center; vertical-align: top\">[1.129795789718628, 0.0,<br>0.0, 0.7781944870948792, ...</td>\n",
              "        <td style=\"padding-left: 1em; padding-right: 1em; text-align: center; vertical-align: top\">[154.0, 179.0, 152.0,<br>159.0, 183.0, 157.0, ...</td>\n",
              "    </tr>\n",
              "    <tr>\n",
              "        <td style=\"padding-left: 1em; padding-right: 1em; text-align: center; vertical-align: top\">107</td>\n",
              "        <td style=\"padding-left: 1em; padding-right: 1em; text-align: center; vertical-align: top\">Height: 32 Width: 32</td>\n",
              "        <td style=\"padding-left: 1em; padding-right: 1em; text-align: center; vertical-align: top\">dog</td>\n",
              "        <td style=\"padding-left: 1em; padding-right: 1em; text-align: center; vertical-align: top\">[0.0, 0.0,<br>0.22067785263061523,  ...</td>\n",
              "        <td style=\"padding-left: 1em; padding-right: 1em; text-align: center; vertical-align: top\">[97.0, 51.0, 31.0, 104.0,<br>58.0, 38.0, 107.0, 61.0, ...</td>\n",
              "    </tr>\n",
              "    <tr>\n",
              "        <td style=\"padding-left: 1em; padding-right: 1em; text-align: center; vertical-align: top\">177</td>\n",
              "        <td style=\"padding-left: 1em; padding-right: 1em; text-align: center; vertical-align: top\">Height: 32 Width: 32</td>\n",
              "        <td style=\"padding-left: 1em; padding-right: 1em; text-align: center; vertical-align: top\">dog</td>\n",
              "        <td style=\"padding-left: 1em; padding-right: 1em; text-align: center; vertical-align: top\">[0.0, 1.4596567153930664,<br>0.0, 0.4229923486709595, ...</td>\n",
              "        <td style=\"padding-left: 1em; padding-right: 1em; text-align: center; vertical-align: top\">[55.0, 75.0, 42.0, 51.0,<br>76.0, 37.0, 57.0, 83.0, ...</td>\n",
              "    </tr>\n",
              "    <tr>\n",
              "        <td style=\"padding-left: 1em; padding-right: 1em; text-align: center; vertical-align: top\">424</td>\n",
              "        <td style=\"padding-left: 1em; padding-right: 1em; text-align: center; vertical-align: top\">Height: 32 Width: 32</td>\n",
              "        <td style=\"padding-left: 1em; padding-right: 1em; text-align: center; vertical-align: top\">dog</td>\n",
              "        <td style=\"padding-left: 1em; padding-right: 1em; text-align: center; vertical-align: top\">[0.9423996806144714, 0.0,<br>0.22035276889801025,  ...</td>\n",
              "        <td style=\"padding-left: 1em; padding-right: 1em; text-align: center; vertical-align: top\">[60.0, 35.0, 18.0, 63.0,<br>49.0, 38.0, 66.0, 56.0, ...</td>\n",
              "    </tr>\n",
              "    <tr>\n",
              "        <td style=\"padding-left: 1em; padding-right: 1em; text-align: center; vertical-align: top\">462</td>\n",
              "        <td style=\"padding-left: 1em; padding-right: 1em; text-align: center; vertical-align: top\">Height: 32 Width: 32</td>\n",
              "        <td style=\"padding-left: 1em; padding-right: 1em; text-align: center; vertical-align: top\">dog</td>\n",
              "        <td style=\"padding-left: 1em; padding-right: 1em; text-align: center; vertical-align: top\">[1.4346256256103516, 0.0,<br>0.0, 0.0, 0.0, 0.0, ...</td>\n",
              "        <td style=\"padding-left: 1em; padding-right: 1em; text-align: center; vertical-align: top\">[86.0, 69.0, 75.0, 57.0,<br>41.0, 48.0, 46.0, 35.0, ...</td>\n",
              "    </tr>\n",
              "</table>\n",
              "[5 rows x 5 columns]<br/>\n",
              "</div>"
            ]
          },
          "metadata": {},
          "execution_count": 10
        }
      ]
    },
    {
      "cell_type": "code",
      "source": [
        "dog_model = turicreate.nearest_neighbors.create(dog, features=['deep_features'], label='label')"
      ],
      "metadata": {
        "colab": {
          "base_uri": "https://localhost:8080/",
          "height": 104
        },
        "id": "R8MGXxL-NFxo",
        "outputId": "d0088421-c346-40e8-8b7a-184d08cea0bd"
      },
      "execution_count": 13,
      "outputs": [
        {
          "output_type": "display_data",
          "data": {
            "text/plain": [
              "Starting brute force nearest neighbors model training."
            ],
            "text/html": [
              "<pre>Starting brute force nearest neighbors model training.</pre>"
            ]
          },
          "metadata": {}
        },
        {
          "output_type": "display_data",
          "data": {
            "text/plain": [
              "Validating distance components."
            ],
            "text/html": [
              "<pre>Validating distance components.</pre>"
            ]
          },
          "metadata": {}
        },
        {
          "output_type": "display_data",
          "data": {
            "text/plain": [
              "Initializing model data."
            ],
            "text/html": [
              "<pre>Initializing model data.</pre>"
            ]
          },
          "metadata": {}
        },
        {
          "output_type": "display_data",
          "data": {
            "text/plain": [
              "Initializing distances."
            ],
            "text/html": [
              "<pre>Initializing distances.</pre>"
            ]
          },
          "metadata": {}
        },
        {
          "output_type": "display_data",
          "data": {
            "text/plain": [
              "Done."
            ],
            "text/html": [
              "<pre>Done.</pre>"
            ]
          },
          "metadata": {}
        }
      ]
    },
    {
      "cell_type": "markdown",
      "source": [
        "# **Explore Images Dataset**"
      ],
      "metadata": {
        "id": "FzHoWax8x7jc"
      }
    },
    {
      "cell_type": "code",
      "source": [
        "raw_pixel_model = turicreate.logistic_classifier.create(image_train,\n",
        "                                                       target = 'label',\n",
        "                                                       features = ['image_array'])"
      ],
      "metadata": {
        "id": "hxt_D7j_lblU"
      },
      "execution_count": null,
      "outputs": []
    },
    {
      "cell_type": "code",
      "source": [
        "image_test[0:3]['image'].explore()"
      ],
      "metadata": {
        "id": "sT6qNqbzlun2"
      },
      "execution_count": null,
      "outputs": []
    },
    {
      "cell_type": "code",
      "source": [
        "image_test[0:3]['label']"
      ],
      "metadata": {
        "id": "9UuMKLEIlbqn"
      },
      "execution_count": null,
      "outputs": []
    },
    {
      "cell_type": "code",
      "source": [
        "raw_pixel_model.predict(image_test[0:3])"
      ],
      "metadata": {
        "id": "1Xt23TtFq7OY"
      },
      "execution_count": null,
      "outputs": []
    },
    {
      "cell_type": "code",
      "source": [
        "raw_pixel_model.evaluate(image_test)"
      ],
      "metadata": {
        "id": "70pMPw9hmduM"
      },
      "execution_count": null,
      "outputs": []
    },
    {
      "cell_type": "code",
      "source": [
        "#deep_learning_model = turicreate.load_model('http://s3.amazonaws.com/GraphLab-Datasets/deeplearning/imagenet_model_iter45')\n",
        "#deep_learning_model = turicreate.load_model(\"resnet-50\")\n",
        "#deep_learning_model = turicreate.image_classifier.create(image_train, target='label',model='resnet-50')\n",
        "#deep_learning_model.evaluate(image_test)"
      ],
      "metadata": {
        "id": "EmZ7MDlSdUVf"
      },
      "execution_count": null,
      "outputs": []
    },
    {
      "cell_type": "code",
      "source": [
        "image_train.head()"
      ],
      "metadata": {
        "id": "ZY2XrvYlEXki"
      },
      "execution_count": null,
      "outputs": []
    },
    {
      "cell_type": "markdown",
      "source": [
        "# **Deep Features Classifier**"
      ],
      "metadata": {
        "id": "k1AsmuwHEmtw"
      }
    },
    {
      "cell_type": "code",
      "source": [
        "deep_features_model = turicreate.logistic_classifier.create(image_train, features=['deep_features'], target = 'label')"
      ],
      "metadata": {
        "id": "d-CFaDGPEcIO"
      },
      "execution_count": null,
      "outputs": []
    },
    {
      "cell_type": "code",
      "source": [
        "deep_features_model.predict(image_test[0:3])"
      ],
      "metadata": {
        "id": "Ylai05FWGVEE"
      },
      "execution_count": null,
      "outputs": []
    },
    {
      "cell_type": "code",
      "source": [
        "deep_features_model.evaluate(image_test)"
      ],
      "metadata": {
        "id": "Hi0yOp9kGZAC"
      },
      "execution_count": null,
      "outputs": []
    },
    {
      "cell_type": "markdown",
      "source": [
        "# **Deep Features - Image Retrieval - kNN Model**"
      ],
      "metadata": {
        "id": "W5YG4HWCHAc_"
      }
    },
    {
      "cell_type": "code",
      "source": [
        "knn_model = turicreate.nearest_neighbors.create(image_train, features=['deep_features'], label='id')"
      ],
      "metadata": {
        "id": "9IEU_XJUGsQu"
      },
      "execution_count": null,
      "outputs": []
    },
    {
      "cell_type": "code",
      "source": [
        "cat = image_train[18:19]\n",
        "cat"
      ],
      "metadata": {
        "id": "gVNUYl_tJ9EQ"
      },
      "execution_count": null,
      "outputs": []
    },
    {
      "cell_type": "code",
      "source": [
        "cat['image'].explore()"
      ],
      "metadata": {
        "id": "1mjKf62JKETi"
      },
      "execution_count": null,
      "outputs": []
    },
    {
      "cell_type": "code",
      "source": [
        "knn_model.query(cat)"
      ],
      "metadata": {
        "id": "hb_hTJaLH1vj"
      },
      "execution_count": null,
      "outputs": []
    },
    {
      "cell_type": "code",
      "source": [
        "cat_neigbors = get_images_id(knn_model.query(cat))"
      ],
      "metadata": {
        "id": "Vq9A88dXJ3BF"
      },
      "execution_count": null,
      "outputs": []
    },
    {
      "cell_type": "code",
      "source": [
        "cat_neigbors['image'].explore()"
      ],
      "metadata": {
        "id": "cJgAxuylLFPM"
      },
      "execution_count": null,
      "outputs": []
    },
    {
      "cell_type": "markdown",
      "source": [
        "# **Lambda for kNN images**"
      ],
      "metadata": {
        "id": "ed9mZCGoMlVb"
      }
    },
    {
      "cell_type": "code",
      "source": [
        "show_neighbor = lambda i: get_images_id(knn_model.query(image_train[i:i+1]))['image'].explore()"
      ],
      "metadata": {
        "id": "ioCTrR7fMpe7"
      },
      "execution_count": null,
      "outputs": []
    },
    {
      "cell_type": "code",
      "source": [
        "show_neighbor(26)"
      ],
      "metadata": {
        "id": "H1C8qpYIN0WC"
      },
      "execution_count": null,
      "outputs": []
    },
    {
      "cell_type": "code",
      "source": [
        "show_neighbor(1222)"
      ],
      "metadata": {
        "id": "usJ2yQ8aN4Zk"
      },
      "execution_count": null,
      "outputs": []
    }
  ],
  "metadata": {
    "colab": {
      "collapsed_sections": [],
      "provenance": []
    },
    "kernelspec": {
      "display_name": "Python 3",
      "name": "python3"
    },
    "language_info": {
      "name": "python"
    }
  },
  "nbformat": 4,
  "nbformat_minor": 0
}