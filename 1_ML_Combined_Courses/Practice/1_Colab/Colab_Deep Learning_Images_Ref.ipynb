{
  "cells": [
    {
      "cell_type": "markdown",
      "metadata": {
        "id": "8V5UxN6fbMuR"
      },
      "source": [
        "### Mount the local drive to save the works"
      ]
    },
    {
      "cell_type": "code",
      "execution_count": null,
      "metadata": {
        "colab": {
          "base_uri": "https://localhost:8080/"
        },
        "id": "VsdGRY4tkYqZ",
        "outputId": "38b4e86c-2db7-4ca5-c305-70d0d06fb4d6"
      },
      "outputs": [],
      "source": [
        "from google.colab import drive\n",
        "drive.mount('/content/MyDrive/')"
      ]
    },
    {
      "cell_type": "code",
      "execution_count": null,
      "metadata": {
        "id": "NXJgHWC7nCcF"
      },
      "outputs": [],
      "source": [
        "#Uncomment below line to install turicreate online\n",
        "#!pip install turicreate \n",
        "import turicreate"
      ]
    },
    {
      "cell_type": "code",
      "execution_count": null,
      "metadata": {
        "id": "xsi0cLTnnlgj"
      },
      "outputs": [],
      "source": [
        "#Use your own specific paths here\n",
        "image_train = turicreate.SFrame('/content/MyDrive/MyDrive/SFRAMES/image_train_data/')\n",
        "image_test = turicreate.SFrame('/content/MyDrive/MyDrive/SFRAMES/image_test_data/')"
      ]
    },
    {
      "cell_type": "code",
      "execution_count": null,
      "metadata": {
        "colab": {
          "base_uri": "https://localhost:8080/",
          "height": 1000
        },
        "id": "iMlCcxIJn9sJ",
        "outputId": "808ac9dc-34e9-4d11-d700-a012f3eaad59"
      },
      "outputs": [],
      "source": [
        "#Review the training data\n",
        "image_train['image'].explore()"
      ]
    },
    {
      "cell_type": "markdown",
      "metadata": {
        "id": "FzHoWax8x7jc"
      },
      "source": [
        "# **Deep Learning - Images**"
      ]
    },
    {
      "cell_type": "code",
      "execution_count": null,
      "metadata": {
        "colab": {
          "base_uri": "https://localhost:8080/",
          "height": 399
        },
        "id": "hxt_D7j_lblU",
        "outputId": "0399bd42-6a71-4ae9-912a-411b667dd03e"
      },
      "outputs": [],
      "source": [
        "#Create a model in Turi\n",
        "raw_pixel_model = turicreate.logistic_classifier.create(image_train,\n",
        "                                                       target = 'label',\n",
        "                                                       features = ['image_array'])"
      ]
    },
    {
      "cell_type": "code",
      "execution_count": null,
      "metadata": {
        "colab": {
          "base_uri": "https://localhost:8080/",
          "height": 233
        },
        "id": "sT6qNqbzlun2",
        "outputId": "72e9b8d8-c228-4f29-d71b-0a4ddc6062a0"
      },
      "outputs": [],
      "source": [
        "#Explore the same\n",
        "image_test[0:3]['image'].explore()"
      ]
    },
    {
      "cell_type": "code",
      "execution_count": null,
      "metadata": {
        "colab": {
          "base_uri": "https://localhost:8080/"
        },
        "id": "9UuMKLEIlbqn",
        "outputId": "080c7d9b-6d5a-4bca-8a8c-3c7d7a5aa836"
      },
      "outputs": [],
      "source": [
        "#See some labels\n",
        "image_test[0:3]['label']"
      ]
    },
    {
      "cell_type": "code",
      "execution_count": null,
      "metadata": {
        "colab": {
          "base_uri": "https://localhost:8080/"
        },
        "id": "1Xt23TtFq7OY",
        "outputId": "83cdc781-4d39-46ca-ebe7-e42104f9498f"
      },
      "outputs": [],
      "source": [
        "#Make first prediction\n",
        "raw_pixel_model.predict(image_test[0:3])"
      ]
    },
    {
      "cell_type": "code",
      "execution_count": null,
      "metadata": {
        "colab": {
          "base_uri": "https://localhost:8080/"
        },
        "id": "70pMPw9hmduM",
        "outputId": "3b84aa2d-0f40-4897-fd05-bf5df2791b10"
      },
      "outputs": [],
      "source": [
        "#See the accuracy\n",
        "raw_pixel_model.evaluate(image_test)"
      ]
    },
    {
      "cell_type": "code",
      "execution_count": null,
      "metadata": {
        "colab": {
          "base_uri": "https://localhost:8080/",
          "height": 1000
        },
        "id": "EmZ7MDlSdUVf",
        "outputId": "9f7c50d4-fbb2-412d-bc76-535dc7eb42c7"
      },
      "outputs": [],
      "source": [
        "#Deep learning model - pretrained resnet-50 model\n",
        "deep_learning_model = turicreate.image_classifier.create(image_train, target='label',model='resnet-50')"
      ]
    },
    {
      "cell_type": "code",
      "execution_count": null,
      "metadata": {
        "colab": {
          "base_uri": "https://localhost:8080/"
        },
        "id": "HwS_tbD5_Nm1",
        "outputId": "09bad42e-f821-4066-be1a-7fa1e1e86532"
      },
      "outputs": [],
      "source": [
        "#Evaluate results\n",
        "deep_learning_model.evaluate(image_test)"
      ]
    },
    {
      "cell_type": "code",
      "execution_count": null,
      "metadata": {
        "colab": {
          "base_uri": "https://localhost:8080/",
          "height": 423
        },
        "id": "ZY2XrvYlEXki",
        "outputId": "8d0ee4a8-05a7-4b5d-b136-655da9896249"
      },
      "outputs": [],
      "source": [
        "#Review the same\n",
        "image_train.head()"
      ]
    },
    {
      "cell_type": "markdown",
      "metadata": {
        "id": "k1AsmuwHEmtw"
      },
      "source": [
        "# **Deep Features Classifier**"
      ]
    },
    {
      "cell_type": "code",
      "execution_count": null,
      "metadata": {
        "colab": {
          "base_uri": "https://localhost:8080/",
          "height": 399
        },
        "id": "d-CFaDGPEcIO",
        "outputId": "068aaed5-a616-4ed1-de17-258d4319c5b9"
      },
      "outputs": [],
      "source": [
        "#New model based on deep learning\n",
        "deep_features_model = turicreate.logistic_classifier.create(image_train, features=['deep_features'], target = 'label')"
      ]
    },
    {
      "cell_type": "code",
      "execution_count": null,
      "metadata": {
        "colab": {
          "base_uri": "https://localhost:8080/"
        },
        "id": "aU3lSX2OFIAL",
        "outputId": "ecdbf98c-715a-4538-d38e-20470689459e"
      },
      "outputs": [],
      "source": [
        "#Make predictions\n",
        "deep_learning_model.predict(image_test[0:3])"
      ]
    },
    {
      "cell_type": "code",
      "execution_count": null,
      "metadata": {
        "colab": {
          "base_uri": "https://localhost:8080/"
        },
        "id": "Ylai05FWGVEE",
        "outputId": "fc0ebbb0-09d3-40eb-fa21-849899aebae9"
      },
      "outputs": [],
      "source": [
        "#Checks\n",
        "deep_features_model.predict(image_test[0:3])"
      ]
    },
    {
      "cell_type": "code",
      "execution_count": null,
      "metadata": {
        "colab": {
          "base_uri": "https://localhost:8080/"
        },
        "id": "Hi0yOp9kGZAC",
        "outputId": "06273fb8-02f9-493b-83ba-1f48bf858b44"
      },
      "outputs": [],
      "source": [
        "#Evaluation as accuracy\n",
        "deep_features_model.evaluate(image_test)"
      ]
    },
    {
      "cell_type": "markdown",
      "metadata": {
        "id": "W5YG4HWCHAc_"
      },
      "source": [
        "# **Deep Features - Image Retrieval**"
      ]
    },
    {
      "cell_type": "code",
      "execution_count": null,
      "metadata": {
        "colab": {
          "base_uri": "https://localhost:8080/",
          "height": 104
        },
        "id": "9IEU_XJUGsQu",
        "outputId": "68a4c880-2b8a-4728-d118-0d7ad9a8abfa"
      },
      "outputs": [],
      "source": [
        "#knn_model = turicreate.nearest_neighbor.create(image_train, features=['deep_features'], label='id')\n",
        "knn_model = turicreate.nearest_neighbors.create(image_train, features=['deep_features'], label='id')"
      ]
    },
    {
      "cell_type": "code",
      "execution_count": null,
      "metadata": {
        "colab": {
          "base_uri": "https://localhost:8080/",
          "height": 92
        },
        "id": "gVNUYl_tJ9EQ",
        "outputId": "75b8381e-8a4a-46e4-f92e-64fd0a1f23d3"
      },
      "outputs": [],
      "source": [
        "cat = image_train[18:19]\n",
        "cat"
      ]
    },
    {
      "cell_type": "code",
      "execution_count": null,
      "metadata": {
        "colab": {
          "base_uri": "https://localhost:8080/",
          "height": 135
        },
        "id": "1mjKf62JKETi",
        "outputId": "b3659a67-1cd2-4afe-c9a1-0cef560691de"
      },
      "outputs": [],
      "source": [
        "cat['image'].explore()"
      ]
    },
    {
      "cell_type": "code",
      "execution_count": null,
      "metadata": {
        "colab": {
          "base_uri": "https://localhost:8080/",
          "height": 274
        },
        "id": "hb_hTJaLH1vj",
        "outputId": "c309e4c3-e3ea-493b-f3af-daa40d88a1a1"
      },
      "outputs": [],
      "source": [
        "knn_model.query(cat)"
      ]
    },
    {
      "cell_type": "code",
      "execution_count": null,
      "metadata": {
        "id": "Bm0IyhV5KU5L"
      },
      "outputs": [],
      "source": [
        "def get_images_id(query_result):\n",
        "  return image_train.filter_by(query_result['reference_label'], 'id')"
      ]
    },
    {
      "cell_type": "code",
      "execution_count": null,
      "metadata": {
        "colab": {
          "base_uri": "https://localhost:8080/",
          "height": 139
        },
        "id": "Vq9A88dXJ3BF",
        "outputId": "df498451-7a28-498e-9419-44b0ddd144ab"
      },
      "outputs": [],
      "source": [
        "cat_neigbors = get_images_id(knn_model.query(cat))"
      ]
    },
    {
      "cell_type": "code",
      "execution_count": null,
      "metadata": {
        "colab": {
          "base_uri": "https://localhost:8080/",
          "height": 331
        },
        "id": "cJgAxuylLFPM",
        "outputId": "74428850-c219-4321-b7f2-fc89954eab59"
      },
      "outputs": [],
      "source": [
        "cat_neigbors['image'].explore()"
      ]
    },
    {
      "cell_type": "code",
      "execution_count": null,
      "metadata": {
        "colab": {
          "base_uri": "https://localhost:8080/",
          "height": 92
        },
        "id": "DgnL0IHJLgpI",
        "outputId": "ec6d726b-1ac2-4983-b275-26fce98568ea"
      },
      "outputs": [],
      "source": [
        "car = image_train[8:9]\n",
        "car"
      ]
    },
    {
      "cell_type": "code",
      "execution_count": null,
      "metadata": {
        "colab": {
          "base_uri": "https://localhost:8080/",
          "height": 135
        },
        "id": "5NwJk3SQLmqy",
        "outputId": "c4e912bf-c130-4135-d94d-0f7a1ac0a8d0"
      },
      "outputs": [],
      "source": [
        "car['image'].explore()"
      ]
    },
    {
      "cell_type": "code",
      "execution_count": null,
      "metadata": {
        "colab": {
          "base_uri": "https://localhost:8080/",
          "height": 452
        },
        "id": "RFHalXrSLodh",
        "outputId": "d7b7a229-b54b-4c33-e7b7-4e0a63e74156"
      },
      "outputs": [],
      "source": [
        "car_neigbors = get_images_id(knn_model.query(car))\n",
        "car_neigbors['image'].explore()"
      ]
    },
    {
      "cell_type": "markdown",
      "metadata": {
        "id": "ed9mZCGoMlVb"
      },
      "source": [
        "# **Lambda for kNN images**"
      ]
    },
    {
      "cell_type": "code",
      "execution_count": null,
      "metadata": {
        "id": "ioCTrR7fMpe7"
      },
      "outputs": [],
      "source": [
        "show_neighbor = lambda i: get_images_id(knn_model.query(image_train[i:i+1]))['image'].explore()"
      ]
    },
    {
      "cell_type": "code",
      "execution_count": null,
      "metadata": {
        "colab": {
          "base_uri": "https://localhost:8080/",
          "height": 452
        },
        "id": "H1C8qpYIN0WC",
        "outputId": "ad91975d-26ee-449b-de64-1662c9cdfa7a"
      },
      "outputs": [],
      "source": [
        "show_neighbor(26)"
      ]
    },
    {
      "cell_type": "code",
      "execution_count": null,
      "metadata": {
        "colab": {
          "base_uri": "https://localhost:8080/",
          "height": 452
        },
        "id": "usJ2yQ8aN4Zk",
        "outputId": "f91d2471-4f57-4c3d-eda6-88ebe89a27f1"
      },
      "outputs": [],
      "source": [
        "show_neighbor(1222)"
      ]
    }
  ],
  "metadata": {
    "colab": {
      "collapsed_sections": [],
      "provenance": []
    },
    "kernelspec": {
      "display_name": "Python 3",
      "name": "python3"
    },
    "language_info": {
      "name": "python"
    }
  },
  "nbformat": 4,
  "nbformat_minor": 0
}
