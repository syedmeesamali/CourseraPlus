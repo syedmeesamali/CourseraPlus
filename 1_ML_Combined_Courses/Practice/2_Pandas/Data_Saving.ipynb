{
 "cells": [
  {
   "cell_type": "code",
   "execution_count": 2,
   "metadata": {},
   "outputs": [],
   "source": [
    "import pandas as pd\n",
    "import numpy as np"
   ]
  },
  {
   "cell_type": "code",
   "execution_count": 21,
   "metadata": {},
   "outputs": [],
   "source": [
    "# Create dataset - Fake from functions\n",
    "def get_dataset(size):\n",
    "    df = pd.DataFrame()\n",
    "    df['size'] = np.random.choice(['big', 'medium', 'small'], size)\n",
    "    df['age'] = np.random.randint(1, 50, size)\n",
    "    df['team'] = np.random.choice(['red', 'blue', 'green', 'yellow'], size)\n",
    "    df['win'] = np.random.choice(['yes', 'no'], size)\n",
    "    dates = pd.date_range('2020-01-01', '2022-12-31')\n",
    "    df['date'] = np.random.choice(dates, size)\n",
    "    df['prob'] = np.random.uniform(0, 1, size)\n",
    "    return df\n",
    "\n",
    "def set_dtypes(df):\n",
    "    df['size'] = df['size'].astype('category')\n",
    "    df['team'] = df['team'].astype('category')\n",
    "    df['age'] = df['age'].astype('int16')\n",
    "    df['dq'] = df['dq'].map({'yes':True, 'no': False})\n",
    "    df['prob'] = df['prob'].astype('float16')\n",
    "    return df"
   ]
  },
  {
   "cell_type": "code",
   "execution_count": 23,
   "metadata": {},
   "outputs": [
    {
     "name": "stdout",
     "output_type": "stream",
     "text": [
      "<class 'pandas.core.frame.DataFrame'>\n",
      "RangeIndex: 100000 entries, 0 to 99999\n",
      "Data columns (total 6 columns):\n",
      " #   Column  Non-Null Count   Dtype         \n",
      "---  ------  --------------   -----         \n",
      " 0   size    100000 non-null  object        \n",
      " 1   age     100000 non-null  int32         \n",
      " 2   team    100000 non-null  object        \n",
      " 3   win     100000 non-null  object        \n",
      " 4   date    100000 non-null  datetime64[ns]\n",
      " 5   prob    100000 non-null  float64       \n",
      "dtypes: datetime64[ns](1), float64(1), int32(1), object(3)\n",
      "memory usage: 4.2+ MB\n"
     ]
    }
   ],
   "source": [
    "df = get_dataset(100_000)\n",
    "df.info()"
   ]
  },
  {
   "cell_type": "code",
   "execution_count": 13,
   "metadata": {},
   "outputs": [],
   "source": [
    "df.to_csv('test_csv.csv', index=False)\n"
   ]
  },
  {
   "cell_type": "code",
   "execution_count": 14,
   "metadata": {},
   "outputs": [
    {
     "data": {
      "text/html": [
       "<div>\n",
       "<style scoped>\n",
       "    .dataframe tbody tr th:only-of-type {\n",
       "        vertical-align: middle;\n",
       "    }\n",
       "\n",
       "    .dataframe tbody tr th {\n",
       "        vertical-align: top;\n",
       "    }\n",
       "\n",
       "    .dataframe thead th {\n",
       "        text-align: right;\n",
       "    }\n",
       "</style>\n",
       "<table border=\"1\" class=\"dataframe\">\n",
       "  <thead>\n",
       "    <tr style=\"text-align: right;\">\n",
       "      <th></th>\n",
       "      <th>size</th>\n",
       "      <th>age</th>\n",
       "      <th>team</th>\n",
       "      <th>win</th>\n",
       "      <th>date</th>\n",
       "      <th>prob</th>\n",
       "    </tr>\n",
       "  </thead>\n",
       "  <tbody>\n",
       "    <tr>\n",
       "      <th>0</th>\n",
       "      <td>small</td>\n",
       "      <td>45</td>\n",
       "      <td>green</td>\n",
       "      <td>no</td>\n",
       "      <td>2020-04-10</td>\n",
       "      <td>0.124382</td>\n",
       "    </tr>\n",
       "    <tr>\n",
       "      <th>1</th>\n",
       "      <td>medium</td>\n",
       "      <td>45</td>\n",
       "      <td>blue</td>\n",
       "      <td>no</td>\n",
       "      <td>2020-07-26</td>\n",
       "      <td>0.944041</td>\n",
       "    </tr>\n",
       "    <tr>\n",
       "      <th>2</th>\n",
       "      <td>small</td>\n",
       "      <td>11</td>\n",
       "      <td>green</td>\n",
       "      <td>yes</td>\n",
       "      <td>2020-11-18</td>\n",
       "      <td>0.320730</td>\n",
       "    </tr>\n",
       "    <tr>\n",
       "      <th>3</th>\n",
       "      <td>small</td>\n",
       "      <td>35</td>\n",
       "      <td>yellow</td>\n",
       "      <td>no</td>\n",
       "      <td>2020-09-29</td>\n",
       "      <td>0.649516</td>\n",
       "    </tr>\n",
       "    <tr>\n",
       "      <th>4</th>\n",
       "      <td>big</td>\n",
       "      <td>43</td>\n",
       "      <td>blue</td>\n",
       "      <td>yes</td>\n",
       "      <td>2020-04-24</td>\n",
       "      <td>0.357846</td>\n",
       "    </tr>\n",
       "  </tbody>\n",
       "</table>\n",
       "</div>"
      ],
      "text/plain": [
       "     size  age    team  win        date      prob\n",
       "0   small   45   green   no  2020-04-10  0.124382\n",
       "1  medium   45    blue   no  2020-07-26  0.944041\n",
       "2   small   11   green  yes  2020-11-18  0.320730\n",
       "3   small   35  yellow   no  2020-09-29  0.649516\n",
       "4     big   43    blue  yes  2020-04-24  0.357846"
      ]
     },
     "execution_count": 14,
     "metadata": {},
     "output_type": "execute_result"
    }
   ],
   "source": [
    "df1 = pd.read_csv('test_csv.csv')\n",
    "df1.head()"
   ]
  }
 ],
 "metadata": {
  "kernelspec": {
   "display_name": "Python 3",
   "language": "python",
   "name": "python3"
  },
  "language_info": {
   "codemirror_mode": {
    "name": "ipython",
    "version": 3
   },
   "file_extension": ".py",
   "mimetype": "text/x-python",
   "name": "python",
   "nbconvert_exporter": "python",
   "pygments_lexer": "ipython3",
   "version": "3.8.6"
  },
  "orig_nbformat": 4,
  "vscode": {
   "interpreter": {
    "hash": "570feb405e2e27c949193ac68f46852414290d515b0ba6e5d90d076ed2284471"
   }
  }
 },
 "nbformat": 4,
 "nbformat_minor": 2
}
