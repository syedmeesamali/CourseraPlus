{
 "cells": [
  {
   "cell_type": "markdown",
   "metadata": {},
   "source": [
    "## Simple Lin-Reg study"
   ]
  },
  {
   "cell_type": "code",
   "execution_count": 1,
   "metadata": {},
   "outputs": [],
   "source": [
    "import pandas as pd\n",
    "import matplotlib.pyplot as plt\n",
    "from sklearn.linear_model import LinearRegression"
   ]
  },
  {
   "cell_type": "code",
   "execution_count": 2,
   "metadata": {},
   "outputs": [
    {
     "name": "stdout",
     "output_type": "stream",
     "text": [
      "m = [1.7867224]\n",
      "b = [-16.51923513]\n"
     ]
    }
   ],
   "source": [
    "df = pd.read_csv('./inp_data.csv', delimiter = \",\")\n",
    "X = df.values[:, :-1]           #Except last column\n",
    "y = df.values[:, -1]\n",
    "\n",
    "#Fit the line\n",
    "fit = LinearRegression().fit(X, y)\n",
    "m = fit.coef_.flatten()\n",
    "b = fit.intercept_.flatten()\n",
    "print(\"m = {0}\".format(m))\n",
    "print(\"b = {0}\".format(b))"
   ]
  },
  {
   "cell_type": "code",
   "execution_count": 3,
   "metadata": {},
   "outputs": [
    {
     "data": {
      "image/png": "[encoded data removed]",
      "text/plain": [
       "<Figure size 432x288 with 1 Axes>"
      ]
     },
     "metadata": {
      "needs_background": "light"
     },
     "output_type": "display_data"
    }
   ],
   "source": [
    "#Show the chart\n",
    "plt.plot(X, y, 'o')\n",
    "plt.plot(X, m*X + b)\n",
    "plt.show()"
   ]
  },
  {
   "cell_type": "code",
   "execution_count": 4,
   "metadata": {},
   "outputs": [
    {
     "name": "stdout",
     "output_type": "stream",
     "text": [
      "-1.6665999999999999\n",
      "1.4001000000000001\n",
      "-0.5332000000000008\n",
      "2.5335\n",
      "-0.39979999999999905\n",
      "-1.3331000000000017\n",
      "0.7335999999999991\n",
      "-2.1997\n",
      "2.867000000000001\n",
      "-1.0662999999999982\n"
     ]
    }
   ],
   "source": [
    "#import reference test points\n",
    "points = pd.read_csv('./inp_ref.csv', delimiter = \",\").itertuples()\n",
    "m = 1.9333\n",
    "b = 4.7333\n",
    "for p in points:\n",
    "    y_actual = p.y\n",
    "    y_predict = m * p.x + b\n",
    "    residual = y_actual - y_predict\n",
    "    print(residual)"
   ]
  },
  {
   "cell_type": "markdown",
   "metadata": {},
   "source": [
    "## Sum of squares"
   ]
  },
  {
   "cell_type": "code",
   "execution_count": 5,
   "metadata": {},
   "outputs": [
    {
     "name": "stdout",
     "output_type": "stream",
     "text": [
      "Sum of squares = 28.111289450000005\n"
     ]
    }
   ],
   "source": [
    "#import reference test points\n",
    "points = pd.read_csv('./inp_ref.csv', delimiter = \",\").itertuples()\n",
    "m = 1.9333\n",
    "b = 4.7333\n",
    "\n",
    "sum_of_squares = 0.0\n",
    "\n",
    "for p in points:\n",
    "    y_actual = p.y\n",
    "    y_predict = m * p.x + b\n",
    "    residual_squared = (y_actual - y_predict)**2\n",
    "    sum_of_squares += residual_squared\n",
    "\n",
    "print(\"Sum of squares = {}\".format(sum_of_squares))"
   ]
  },
  {
   "cell_type": "markdown",
   "metadata": {},
   "source": [
    "## Inverse and Transpose"
   ]
  },
  {
   "cell_type": "code",
   "execution_count": 7,
   "metadata": {},
   "outputs": [
    {
     "name": "stdout",
     "output_type": "stream",
     "text": [
      "[1.93939394 4.73333333]\n",
      "[ 6.67272727  8.61212121 10.55151515 12.49090909 14.43030303 16.36969697\n",
      " 18.30909091 20.24848485 22.18787879 24.12727273]\n"
     ]
    },
    {
     "data": {
      "image/png": "[encoded data removed]",
      "text/plain": [
       "<Figure size 432x288 with 1 Axes>"
      ]
     },
     "metadata": {
      "needs_background": "light"
     },
     "output_type": "display_data"
    }
   ],
   "source": [
    "from numpy.linalg import inv\n",
    "import numpy as np\n",
    "#import reference data\n",
    "df = pd.read_csv('./inp_ref.csv', delimiter = \",\")\n",
    "\n",
    "X = df.values[:, :-1].flatten()\n",
    "X_1 = np.vstack([X, np.ones(len(X))]).T\n",
    "Y = df.values[:, -1]\n",
    "\n",
    "#Calculate slope and intercept coefficients\n",
    "b = inv(X_1.transpose() @ X_1) @ (X_1.transpose() @ Y)\n",
    "print(b)\n",
    "\n",
    "#Predict against values\n",
    "y_predict = X_1.dot(b)\n",
    "print(y_predict)\n",
    "plt.plot(X, Y, 'o')\n",
    "plt.plot(X, y_predict, '-')\n",
    "plt.show()"
   ]
  },
  {
   "cell_type": "code",
   "execution_count": null,
   "metadata": {},
   "outputs": [],
   "source": []
  }
 ],
 "metadata": {
  "kernelspec": {
   "display_name": "Python 3.10.4 64-bit",
   "language": "python",
   "name": "python3"
  },
  "language_info": {
   "codemirror_mode": {
    "name": "ipython",
    "version": 3
   },
   "file_extension": ".py",
   "mimetype": "text/x-python",
   "name": "python",
   "nbconvert_exporter": "python",
   "pygments_lexer": "ipython3",
   "version": "3.10.4"
  },
  "orig_nbformat": 4,
  "vscode": {
   "interpreter": {
    "hash": "369f2c481f4da34e4445cda3fffd2e751bd1c4d706f27375911949ba6bb62e1c"
   }
  }
 },
 "nbformat": 4,
 "nbformat_minor": 2
}
