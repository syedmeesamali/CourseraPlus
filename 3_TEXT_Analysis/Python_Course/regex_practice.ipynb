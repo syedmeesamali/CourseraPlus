{
 "cells": [
  {
   "attachments": {},
   "cell_type": "markdown",
   "metadata": {},
   "source": [
    "## Regex Practice"
   ]
  },
  {
   "cell_type": "code",
   "execution_count": 2,
   "metadata": {},
   "outputs": [
    {
     "name": "stdout",
     "output_type": "stream",
     "text": [
      "['@UN', '@UN_Women\"']\n"
     ]
    }
   ],
   "source": [
    "import re\n",
    "tweet1 = '\"Ethics are built right into the ideals and objectives of the United Nations! #UNSG @ NY Society of Ethical Culture bit.ly/2guVelr @UN @UN_Women\"'\n",
    "print([w for w in tweet1.split(' ') if re.search('@[A-Za-z0-9_]+', w)])"
   ]
  },
  {
   "cell_type": "code",
   "execution_count": 3,
   "metadata": {},
   "outputs": [
    {
     "name": "stdout",
     "output_type": "stream",
     "text": [
      "['unicorn', 'element']\n"
     ]
    }
   ],
   "source": [
    "pattern = r'\\b[aeiou]\\w*[^aeiou\\W]\\b'\n",
    "text = \"unicorn, element, banana, apple\"\n",
    "matches = re.findall(pattern, text)\n",
    "print(matches)"
   ]
  }
 ],
 "metadata": {
  "kernelspec": {
   "display_name": "Python 3",
   "language": "python",
   "name": "python3"
  },
  "language_info": {
   "codemirror_mode": {
    "name": "ipython",
    "version": 3
   },
   "file_extension": ".py",
   "mimetype": "text/x-python",
   "name": "python",
   "nbconvert_exporter": "python",
   "pygments_lexer": "ipython3",
   "version": "3.10.0rc2"
  },
  "orig_nbformat": 4
 },
 "nbformat": 4,
 "nbformat_minor": 2
}
